{
 "cells": [
  {
   "cell_type": "markdown",
   "metadata": {},
   "source": [
    "# Árboles de decisión\n",
    "\n",
    "## Equipo 3\n",
    "\n",
    "- Carlos Geovanny Perez Velazquez\n",
    "- Santiago Battezzati\n",
    "- Carolina Acosta Tovany \n",
    "\n",
    "El objetivo de esta tarea consiste en resolver problemas de clasificación y problemas de regresión con árboles de decisión."
   ]
  },
  {
   "cell_type": "markdown",
   "metadata": {},
   "source": [
    "Probaremos con el set de datos de bateadores que se utilizó en clase."
   ]
  },
  {
   "cell_type": "markdown",
   "metadata": {},
   "source": [
    "**CaRT** considera cortes binarios óptimos para cada atributo \n",
    "\n",
    "Utiliza el índice Gini para evaluar la impureza de S\n",
    "\n",
    "$$ G(S) = 1 - \\sum_{k=1}^{K}p_k^2\n",
    "$$\n",
    "\n",
    "$p_k$ es la probabilidad de que un registro arbitrario en S pertenezca a la clae $C_k$\n",
    "\n",
    "$$IG(S, A) = G(S) - \\frac{|S_1|}{|S|} G(S_1) - \\frac{|S_2|}{|S|} G(S_2) $$"
   ]
  },
  {
   "cell_type": "markdown",
   "metadata": {},
   "source": [
    "### Librerias utilizadas"
   ]
  },
  {
   "cell_type": "code",
   "execution_count": 1,
   "metadata": {},
   "outputs": [],
   "source": [
    "import numpy as np\n",
    "import pandas as pd\n",
    "import matplotlib.pyplot as plt\n",
    "from sklearn.model_selection import train_test_split\n",
    "from sklearn.metrics import mean_squared_error\n",
    "\n",
    "## our own CART class\n",
    "import cart\n",
    "\n",
    "np.random.seed(seed=1)"
   ]
  },
  {
   "cell_type": "markdown",
   "metadata": {},
   "source": [
    "#### Importamos nuestro set de datos hitters"
   ]
  },
  {
   "cell_type": "code",
   "execution_count": 2,
   "metadata": {},
   "outputs": [],
   "source": [
    "hitters = pd.read_csv(\"data/Hitters.csv\", usecols=['Years','Hits','Salary'])"
   ]
  },
  {
   "cell_type": "code",
   "execution_count": 3,
   "metadata": {},
   "outputs": [],
   "source": [
    "hitters = hitters.dropna()"
   ]
  },
  {
   "cell_type": "code",
   "execution_count": 4,
   "metadata": {},
   "outputs": [
    {
     "name": "stdout",
     "output_type": "stream",
     "text": [
      "<class 'pandas.core.frame.DataFrame'>\n",
      "Int64Index: 263 entries, 1 to 321\n",
      "Data columns (total 3 columns):\n",
      " #   Column  Non-Null Count  Dtype  \n",
      "---  ------  --------------  -----  \n",
      " 0   Hits    263 non-null    int64  \n",
      " 1   Years   263 non-null    int64  \n",
      " 2   Salary  263 non-null    float64\n",
      "dtypes: float64(1), int64(2)\n",
      "memory usage: 8.2 KB\n"
     ]
    }
   ],
   "source": [
    "hitters.info()"
   ]
  },
  {
   "cell_type": "markdown",
   "metadata": {},
   "source": [
    "### Salario de batedores"
   ]
  },
  {
   "cell_type": "code",
   "execution_count": 5,
   "metadata": {},
   "outputs": [
    {
     "data": {
      "image/png": "[encoded data removed]",
      "text/plain": [
       "<Figure size 720x360 with 2 Axes>"
      ]
     },
     "metadata": {
      "needs_background": "light"
     },
     "output_type": "display_data"
    }
   ],
   "source": [
    "fig, (ax1, ax2) = plt.subplots(1,2, figsize=(10,5))\n",
    "ax1.hist(hitters.Salary, ec='black')\n",
    "ax1.set_xlabel('Salary')\n",
    "ax2.hist(np.log(hitters.Salary), ec='black')\n",
    "ax2.set_xlabel('Log(Salary)')\n",
    "plt.show()"
   ]
  },
  {
   "cell_type": "code",
   "execution_count": 6,
   "metadata": {},
   "outputs": [],
   "source": [
    "## Transformamos el salario a log10(salario)\n",
    "hitters['Salary'] = np.log(hitters['Salary']).round(1) ## Transform salary to Salary log"
   ]
  },
  {
   "cell_type": "markdown",
   "metadata": {},
   "source": [
    "### Separamos nuestro set de datos en entrenamiento y prueba con un 10% de pruebas"
   ]
  },
  {
   "cell_type": "code",
   "execution_count": 7,
   "metadata": {},
   "outputs": [],
   "source": [
    "## Split dataset\n",
    "train_data, test_data = train_test_split(hitters, test_size = 0.1, random_state = 42) "
   ]
  },
  {
   "cell_type": "markdown",
   "metadata": {},
   "source": [
    "Convertimos a listas para manejarlas de forma más fácil "
   ]
  },
  {
   "cell_type": "code",
   "execution_count": 8,
   "metadata": {},
   "outputs": [],
   "source": [
    "header = list(train_data.columns) ## Get column headers\n",
    "train_data = train_data.values.tolist() ## Transform df to list of lists\n",
    "test_data = test_data.values.tolist()"
   ]
  },
  {
   "cell_type": "markdown",
   "metadata": {},
   "source": [
    "#### Utilizaremos una profundidad de 3"
   ]
  },
  {
   "cell_type": "code",
   "execution_count": 9,
   "metadata": {},
   "outputs": [],
   "source": [
    "depth = 3\n",
    "clf = cart.CART(header, depth) ## Depht can also be omitted"
   ]
  },
  {
   "cell_type": "markdown",
   "metadata": {},
   "source": [
    "### Buscamos cuál es la mejor pregunta para hacerse"
   ]
  },
  {
   "cell_type": "code",
   "execution_count": 10,
   "metadata": {},
   "outputs": [
    {
     "data": {
      "text/plain": [
       "Years >= 4.0"
      ]
     },
     "execution_count": 10,
     "metadata": {},
     "output_type": "execute_result"
    }
   ],
   "source": [
    "clf.find_best_split(train_data)[1] ## Find the best question to ask"
   ]
  },
  {
   "cell_type": "markdown",
   "metadata": {},
   "source": [
    "Entrenamos..."
   ]
  },
  {
   "cell_type": "code",
   "execution_count": 11,
   "metadata": {},
   "outputs": [],
   "source": [
    "my_tree = clf.fit(train_data) ## Fit our CART"
   ]
  },
  {
   "cell_type": "code",
   "execution_count": 12,
   "metadata": {},
   "outputs": [
    {
     "name": "stdout",
     "output_type": "stream",
     "text": [
      " Years >= 4.0\n",
      " --> True:\n",
      "   Hits >= 94.0\n",
      "   --> True:\n",
      "     Years >= 14.0\n",
      "     --> True:\n",
      "       Predict {7.5: '5.56%', 6.8: '16.67%', 6.3: '11.11%', 6.6: '5.56%', 6.7: '22.22%', 6.9: '16.67%', 6.2: '5.56%', 7.3: '11.11%', 6.1: '5.56%'}\n",
      "     --> False:\n",
      "       Predict {5.2: '1.11%', 6.4: '10.0%', 6.2: '4.44%', 6.6: '14.44%', 5.0: '1.11%', 6.7: '6.67%', 6.5: '4.44%', 7.8: '2.22%', 6.0: '4.44%', 4.5: '2.22%', 7.6: '3.33%', 6.8: '5.56%', 4.6: '2.22%', 6.9: '5.56%', 7.5: '2.22%', 7.2: '4.44%', 7.0: '2.22%', 7.1: '5.56%', 5.8: '2.22%', 6.3: '5.56%', 7.4: '1.11%', 4.7: '1.11%', 5.9: '2.22%', 5.6: '1.11%', 6.1: '1.11%', 5.3: '2.22%', 4.4: '1.11%'}\n",
      "   --> False:\n",
      "     Hits >= 47.0\n",
      "     --> True:\n",
      "       Predict {6.1: '13.11%', 6.0: '8.2%', 5.8: '6.56%', 5.7: '8.2%', 6.7: '3.28%', 6.2: '4.92%', 5.5: '14.75%', 5.9: '6.56%', 6.3: '1.64%', 6.6: '8.2%', 7.0: '3.28%', 5.6: '1.64%', 5.4: '4.92%', 7.2: '1.64%', 5.3: '3.28%', 4.7: '1.64%', 6.5: '3.28%', 6.4: '1.64%', 5.2: '1.64%', 4.9: '1.64%'}\n",
      "     --> False:\n",
      "       Predict {5.2: '40.0%', 4.9: '10.0%', 5.6: '10.0%', 6.8: '10.0%', 6.2: '10.0%', 5.5: '10.0%', 5.7: '10.0%'}\n",
      " --> False:\n",
      "   Hits >= 120.0\n",
      "   --> True:\n",
      "     Years >= 2.0\n",
      "     --> True:\n",
      "       Predict {5.2: '16.67%', 5.4: '16.67%', 5.1: '25.0%', 5.3: '25.0%', 6.2: '8.33%', 5.0: '8.33%'}\n",
      "     --> False:\n",
      "       Predict {5.1: '100.0%'}\n",
      "   --> False:\n",
      "     Hits >= 82.0\n",
      "     --> True:\n",
      "       Predict {4.5: '11.11%', 4.7: '27.78%', 4.8: '11.11%', 5.4: '5.56%', 4.9: '5.56%', 5.3: '5.56%', 5.0: '11.11%', 4.6: '16.67%', 5.7: '5.56%'}\n",
      "     --> False:\n",
      "       Predict {4.5: '16.0%', 7.7: '4.0%', 4.6: '8.0%', 4.9: '12.0%', 4.2: '28.0%', 4.3: '20.0%', 6.8: '4.0%', 5.0: '4.0%', 4.8: '4.0%'}\n"
     ]
    }
   ],
   "source": [
    "clf.print_tree(my_tree) ## Print CART"
   ]
  },
  {
   "cell_type": "markdown",
   "metadata": {},
   "source": [
    "Ploteamos los límites y vemos que el árbol estratifica o segmenta a los jugadores en tres\n",
    "regiones del espacio predictivo"
   ]
  },
  {
   "cell_type": "markdown",
   "metadata": {},
   "source": [
    "$$R_1 = X Años < 4$$\n",
    "\n",
    "$$R_2 = X Años ≥ 4, Hits < 120$$\n",
    "\n",
    "$$R _3 = X Años ≥ 4, Hits ≥ 120$$"
   ]
  },
  {
   "cell_type": "code",
   "execution_count": 13,
   "metadata": {},
   "outputs": [
    {
     "data": {
      "image/png": "[encoded data removed]",
      "text/plain": [
       "<Figure size 720x360 with 1 Axes>"
      ]
     },
     "metadata": {
      "needs_background": "light"
     },
     "output_type": "display_data"
    }
   ],
   "source": [
    "## plot decision boundaries\n",
    "colors = [\"blue\",\"green\",\"yellow\",\"red\"]\n",
    "hitters['Salary_color'] = pd.qcut(hitters['Salary'], labels=colors, q=4)\n",
    "fig,ax = plt.subplots(figsize=(10,5))\n",
    "ax.set_facecolor((0.90, 0.90, 0.90))\n",
    "plt.scatter(hitters.Years, hitters.Hits, c=hitters.Salary_color, alpha=.55)\n",
    "plt.xlim(0,25)\n",
    "plt.ylim(ymin=-5)\n",
    "plt.xticks([1, 4, 24])\n",
    "plt.yticks([1, 120, 238])\n",
    "plt.vlines(4, ymin=-5, ymax=250)\n",
    "plt.hlines(120, xmin=4, xmax=25)\n",
    "plt.xlabel(\"Years\")\n",
    "plt.ylabel(\"Hits\")\n",
    "plt.show()"
   ]
  },
  {
   "cell_type": "markdown",
   "metadata": {},
   "source": [
    "### Prueba de clasificación con el set de pruebas"
   ]
  },
  {
   "cell_type": "code",
   "execution_count": 14,
   "metadata": {},
   "outputs": [
    {
     "name": "stdout",
     "output_type": "stream",
     "text": [
      "Actual: 6.7. Predicted: 6.7\n",
      "Actual: 5.6. Predicted: 6.7\n",
      "Actual: 6.8. Predicted: 6.7\n",
      "Actual: 5.0. Predicted: 6.7\n",
      "Actual: 5.6. Predicted: 5.2\n",
      "Actual: 5.6. Predicted: 6.0\n",
      "Actual: 5.3. Predicted: 6.7\n",
      "Actual: 4.9. Predicted: 5.1\n",
      "Actual: 6.2. Predicted: 6.7\n",
      "Actual: 5.8. Predicted: 6.0\n",
      "Actual: 6.4. Predicted: 6.7\n",
      "Actual: 6.7. Predicted: 7.5\n",
      "Actual: 5.6. Predicted: 5.2\n",
      "Actual: 5.0. Predicted: 6.2\n",
      "Actual: 5.7. Predicted: 6.7\n",
      "Actual: 6.6. Predicted: 6.7\n",
      "Actual: 7.1. Predicted: 6.7\n",
      "Actual: 4.6. Predicted: 4.6\n",
      "Actual: 7.4. Predicted: 6.7\n",
      "Actual: 6.2. Predicted: 6.7\n",
      "Actual: 6.6. Predicted: 6.0\n",
      "Actual: 5.9. Predicted: 6.2\n",
      "Actual: 6.4. Predicted: 6.7\n",
      "Actual: 6.3. Predicted: 6.7\n",
      "Actual: 5.5. Predicted: 6.7\n",
      "Actual: 4.5. Predicted: 4.6\n",
      "Actual: 6.6. Predicted: 7.5\n"
     ]
    }
   ],
   "source": [
    "## Classification with test data\n",
    "for row in test_data:\n",
    "    print(f\"Actual: {row[-1]}. Predicted: {clf.classify(row, my_tree)}\")"
   ]
  },
  {
   "cell_type": "code",
   "execution_count": 15,
   "metadata": {},
   "outputs": [],
   "source": [
    "## Classification with test data\n",
    "y_pred = [clf.classify(row, my_tree) for row in train_data]\n",
    "y_train = [row[-1] for row in train_data]"
   ]
  },
  {
   "cell_type": "markdown",
   "metadata": {},
   "source": [
    "Ploteamos las predicciones"
   ]
  },
  {
   "cell_type": "code",
   "execution_count": 16,
   "metadata": {},
   "outputs": [
    {
     "data": {
      "image/png": "[encoded data removed]",
      "text/plain": [
       "<Figure size 720x360 with 1 Axes>"
      ]
     },
     "metadata": {
      "needs_background": "light"
     },
     "output_type": "display_data"
    }
   ],
   "source": [
    "## Plot predictions\n",
    "fig,ax = plt.subplots(figsize=(10,5))\n",
    "plt.scatter(y_pred, y_train)\n",
    "plt.plot([0, 1], [0, 1], '--k', transform = plt.gca().transAxes)\n",
    "plt.xlabel('y_pred')\n",
    "plt.ylabel('y_train')\n",
    "plt.xticks([4.5, 5, 5.5, 6.0, 6.5, 7.0])\n",
    "plt.yticks([4.5, 5, 5.5, 6.0, 6.5, 7.0])\n",
    "plt.show()"
   ]
  },
  {
   "cell_type": "markdown",
   "metadata": {},
   "source": [
    "El error que tenemos es de .."
   ]
  },
  {
   "cell_type": "code",
   "execution_count": 17,
   "metadata": {},
   "outputs": [
    {
     "data": {
      "text/plain": [
       "0.5179237288135594"
      ]
     },
     "execution_count": 17,
     "metadata": {},
     "output_type": "execute_result"
    }
   ],
   "source": [
    "## Calculate MSE\n",
    "mean_squared_error(y_train, y_pred)"
   ]
  }
 ],
 "metadata": {
  "kernelspec": {
   "display_name": "Python 3",
   "language": "python",
   "name": "python3"
  },
  "language_info": {
   "codemirror_mode": {
    "name": "ipython",
    "version": 3
   },
   "file_extension": ".py",
   "mimetype": "text/x-python",
   "name": "python",
   "nbconvert_exporter": "python",
   "pygments_lexer": "ipython3",
   "version": "3.7.4"
  }
 },
 "nbformat": 4,
 "nbformat_minor": 4
}
