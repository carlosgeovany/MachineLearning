{
 "cells": [
  {
   "cell_type": "markdown",
   "metadata": {},
   "source": [
    "# Sistema de recomendacion con filtrado colaborativo \n",
    "## Last.fm Dataset\n",
    "\n",
    "Version 1.2, Marzo 2010\n",
    "\n",
    "Este dataset contiene usuarios, artistas y reproducciones para cerca de 360,000 usuario de Last.fm\n",
    "\n",
    "Consta de dos archivos que contiene informacion de las reproducciones por artista por usuario e información de los usuarios\n",
    "\n",
    "Puede descargarse directo de la siguiente liga: [Last.fm Dataset - 360K users](http://ocelma.net/MusicRecommendationDataset/lastfm-360K.html)"
   ]
  },
  {
   "cell_type": "code",
   "execution_count": 1,
   "metadata": {},
   "outputs": [],
   "source": [
    "import pandas as pd\n",
    "import numpy as np\n",
    "import networkx as nx\n",
    "from scipy import stats\n",
    "\n",
    "from sklearn.neighbors import NearestNeighbors\n",
    "\n",
    "import matplotlib.pyplot as plt\n",
    "import seaborn as sns\n",
    "\n",
    "pd.set_option('display.float_format', lambda x: '%.3f' % x)"
   ]
  },
  {
   "cell_type": "code",
   "execution_count": 2,
   "metadata": {},
   "outputs": [],
   "source": [
    "user_data = pd.read_table('lastfm-dataset-360K/usersha1-artmbid-artname-plays.tsv',\n",
    "                          header=None,\n",
    "                          names=['user', 'musicbrainz-artist-id', 'artist', 'plays'],\n",
    "                          usecols=['user', 'artist', 'plays'])"
   ]
  },
  {
   "cell_type": "markdown",
   "metadata": {},
   "source": [
    "Tenemos una fila por cada artista que ha reproducido un usuario y su numero total de reporducciones"
   ]
  },
  {
   "cell_type": "code",
   "execution_count": 3,
   "metadata": {},
   "outputs": [
    {
     "data": {
      "text/html": [
       "<div>\n",
       "<style scoped>\n",
       "    .dataframe tbody tr th:only-of-type {\n",
       "        vertical-align: middle;\n",
       "    }\n",
       "\n",
       "    .dataframe tbody tr th {\n",
       "        vertical-align: top;\n",
       "    }\n",
       "\n",
       "    .dataframe thead th {\n",
       "        text-align: right;\n",
       "    }\n",
       "</style>\n",
       "<table border=\"1\" class=\"dataframe\">\n",
       "  <thead>\n",
       "    <tr style=\"text-align: right;\">\n",
       "      <th></th>\n",
       "      <th>user</th>\n",
       "      <th>artist</th>\n",
       "      <th>plays</th>\n",
       "    </tr>\n",
       "  </thead>\n",
       "  <tbody>\n",
       "    <tr>\n",
       "      <th>0</th>\n",
       "      <td>00000c289a1829a808ac09c00daf10bc3c4e223b</td>\n",
       "      <td>betty blowtorch</td>\n",
       "      <td>2137</td>\n",
       "    </tr>\n",
       "    <tr>\n",
       "      <th>1</th>\n",
       "      <td>00000c289a1829a808ac09c00daf10bc3c4e223b</td>\n",
       "      <td>die Ärzte</td>\n",
       "      <td>1099</td>\n",
       "    </tr>\n",
       "    <tr>\n",
       "      <th>2</th>\n",
       "      <td>00000c289a1829a808ac09c00daf10bc3c4e223b</td>\n",
       "      <td>melissa etheridge</td>\n",
       "      <td>897</td>\n",
       "    </tr>\n",
       "    <tr>\n",
       "      <th>3</th>\n",
       "      <td>00000c289a1829a808ac09c00daf10bc3c4e223b</td>\n",
       "      <td>elvenking</td>\n",
       "      <td>717</td>\n",
       "    </tr>\n",
       "    <tr>\n",
       "      <th>4</th>\n",
       "      <td>00000c289a1829a808ac09c00daf10bc3c4e223b</td>\n",
       "      <td>juliette &amp; the licks</td>\n",
       "      <td>706</td>\n",
       "    </tr>\n",
       "  </tbody>\n",
       "</table>\n",
       "</div>"
      ],
      "text/plain": [
       "                                       user                artist  plays\n",
       "0  00000c289a1829a808ac09c00daf10bc3c4e223b       betty blowtorch   2137\n",
       "1  00000c289a1829a808ac09c00daf10bc3c4e223b             die Ärzte   1099\n",
       "2  00000c289a1829a808ac09c00daf10bc3c4e223b     melissa etheridge    897\n",
       "3  00000c289a1829a808ac09c00daf10bc3c4e223b             elvenking    717\n",
       "4  00000c289a1829a808ac09c00daf10bc3c4e223b  juliette & the licks    706"
      ]
     },
     "execution_count": 3,
     "metadata": {},
     "output_type": "execute_result"
    }
   ],
   "source": [
    "user_data.head()"
   ]
  },
  {
   "cell_type": "markdown",
   "metadata": {},
   "source": [
    "## Top 10 reproducciones por artista en last.fm"
   ]
  },
  {
   "cell_type": "code",
   "execution_count": 4,
   "metadata": {},
   "outputs": [
    {
     "data": {
      "text/html": [
       "<div>\n",
       "<style scoped>\n",
       "    .dataframe tbody tr th:only-of-type {\n",
       "        vertical-align: middle;\n",
       "    }\n",
       "\n",
       "    .dataframe tbody tr th {\n",
       "        vertical-align: top;\n",
       "    }\n",
       "\n",
       "    .dataframe thead th {\n",
       "        text-align: right;\n",
       "    }\n",
       "</style>\n",
       "<table border=\"1\" class=\"dataframe\">\n",
       "  <thead>\n",
       "    <tr style=\"text-align: right;\">\n",
       "      <th></th>\n",
       "      <th>artist</th>\n",
       "      <th>plays</th>\n",
       "    </tr>\n",
       "  </thead>\n",
       "  <tbody>\n",
       "    <tr>\n",
       "      <th>252494</th>\n",
       "      <td>the beatles</td>\n",
       "      <td>30466827</td>\n",
       "    </tr>\n",
       "    <tr>\n",
       "      <th>217883</th>\n",
       "      <td>radiohead</td>\n",
       "      <td>27426234</td>\n",
       "    </tr>\n",
       "    <tr>\n",
       "      <th>73856</th>\n",
       "      <td>coldplay</td>\n",
       "      <td>16686772</td>\n",
       "    </tr>\n",
       "    <tr>\n",
       "      <th>212496</th>\n",
       "      <td>pink floyd</td>\n",
       "      <td>15943557</td>\n",
       "    </tr>\n",
       "    <tr>\n",
       "      <th>186241</th>\n",
       "      <td>metallica</td>\n",
       "      <td>15481852</td>\n",
       "    </tr>\n",
       "    <tr>\n",
       "      <th>194163</th>\n",
       "      <td>muse</td>\n",
       "      <td>15451683</td>\n",
       "    </tr>\n",
       "    <tr>\n",
       "      <th>199674</th>\n",
       "      <td>nine inch nails</td>\n",
       "      <td>14075619</td>\n",
       "    </tr>\n",
       "    <tr>\n",
       "      <th>220128</th>\n",
       "      <td>red hot chili peppers</td>\n",
       "      <td>13547741</td>\n",
       "    </tr>\n",
       "    <tr>\n",
       "      <th>171169</th>\n",
       "      <td>linkin park</td>\n",
       "      <td>12836638</td>\n",
       "    </tr>\n",
       "    <tr>\n",
       "      <th>247942</th>\n",
       "      <td>system of a down</td>\n",
       "      <td>11917336</td>\n",
       "    </tr>\n",
       "  </tbody>\n",
       "</table>\n",
       "</div>"
      ],
      "text/plain": [
       "                       artist     plays\n",
       "252494            the beatles  30466827\n",
       "217883              radiohead  27426234\n",
       "73856                coldplay  16686772\n",
       "212496             pink floyd  15943557\n",
       "186241              metallica  15481852\n",
       "194163                   muse  15451683\n",
       "199674        nine inch nails  14075619\n",
       "220128  red hot chili peppers  13547741\n",
       "171169            linkin park  12836638\n",
       "247942       system of a down  11917336"
      ]
     },
     "execution_count": 4,
     "metadata": {},
     "output_type": "execute_result"
    }
   ],
   "source": [
    "user_data.groupby('artist').plays.sum().reset_index(name='plays').sort_values('plays', ascending=False).head(10)"
   ]
  },
  {
   "cell_type": "code",
   "execution_count": 5,
   "metadata": {},
   "outputs": [],
   "source": [
    "user_profiles = pd.read_table('lastfm-dataset-360K/usersha1-profile.tsv',\n",
    "                          header = None,\n",
    "                          names = ['user', 'gender', 'age', 'country', 'signup'],\n",
    "                          usecols = ['user', 'country','gender', 'age'])"
   ]
  },
  {
   "cell_type": "code",
   "execution_count": 6,
   "metadata": {},
   "outputs": [
    {
     "data": {
      "text/plain": [
       "country\n",
       "Afghanistan           74\n",
       "Albania               50\n",
       "Algeria               40\n",
       "American Samoa        22\n",
       "Andorra              130\n",
       "                    ... \n",
       "Wallis and Futuna     31\n",
       "Western Sahara        27\n",
       "Yemen                 15\n",
       "Zambia                13\n",
       "Zimbabwe              64\n",
       "Name: user, Length: 239, dtype: int64"
      ]
     },
     "execution_count": 6,
     "metadata": {},
     "output_type": "execute_result"
    }
   ],
   "source": [
    "## tenemos paises diferentes en last.fm\n",
    "user_profiles.groupby('country')['user'].count()"
   ]
  },
  {
   "cell_type": "code",
   "execution_count": 7,
   "metadata": {},
   "outputs": [
    {
     "data": {
      "text/plain": [
       "359347"
      ]
     },
     "execution_count": 7,
     "metadata": {},
     "output_type": "execute_result"
    }
   ],
   "source": [
    "## total de usuarios en last.fm\n",
    "user_profiles.groupby('country').count().user.sum()"
   ]
  },
  {
   "cell_type": "code",
   "execution_count": 8,
   "metadata": {},
   "outputs": [
    {
     "data": {
      "text/plain": [
       "gender\n",
       "f     84930\n",
       "m    241642\n",
       "Name: user, dtype: int64"
      ]
     },
     "execution_count": 8,
     "metadata": {},
     "output_type": "execute_result"
    }
   ],
   "source": [
    "## total de ususarios por género\n",
    "user_profiles.groupby('gender')['user'].count()"
   ]
  },
  {
   "cell_type": "code",
   "execution_count": 9,
   "metadata": {},
   "outputs": [
    {
     "data": {
      "image/png": "[encoded data removed]",
      "text/plain": [
       "<Figure size 792x432 with 1 Axes>"
      ]
     },
     "metadata": {
      "needs_background": "light"
     },
     "output_type": "display_data"
    }
   ],
   "source": [
    "plt.figure(figsize = (11, 6))\n",
    "sns.countplot(data=user_profiles,\n",
    "              order=user_profiles.gender.value_counts().index,\n",
    "              x ='gender')\n",
    "plt.tick_params(labelsize = 15)\n",
    "plt.title(\"Ususarios de last.fm por género\", fontsize = 20)\n",
    "plt.xlabel(\"Usuarios\", fontsize = 20)\n",
    "plt.ylabel(\"Género\", fontsize = 20)\n",
    "plt.show()"
   ]
  },
  {
   "cell_type": "code",
   "execution_count": 10,
   "metadata": {},
   "outputs": [],
   "source": [
    "user_profiles.drop('gender', axis=1, inplace=True)"
   ]
  },
  {
   "cell_type": "markdown",
   "metadata": {},
   "source": [
    "## Distribución de ususarios por edad"
   ]
  },
  {
   "cell_type": "code",
   "execution_count": 11,
   "metadata": {},
   "outputs": [
    {
     "data": {
      "image/png": "[encoded data removed]",
      "text/plain": [
       "<Figure size 432x288 with 1 Axes>"
      ]
     },
     "metadata": {
      "needs_background": "light"
     },
     "output_type": "display_data"
    }
   ],
   "source": [
    "sns.boxplot(x=user_profiles.age)\n",
    "plt.show()"
   ]
  },
  {
   "cell_type": "code",
   "execution_count": 12,
   "metadata": {},
   "outputs": [
    {
     "data": {
      "text/plain": [
       "count   284447.000\n",
       "mean        25.098\n",
       "std         21.666\n",
       "min      -1337.000\n",
       "25%         20.000\n",
       "50%         23.000\n",
       "75%         28.000\n",
       "max       1002.000\n",
       "Name: age, dtype: float64"
      ]
     },
     "execution_count": 12,
     "metadata": {},
     "output_type": "execute_result"
    }
   ],
   "source": [
    "user_profiles.age.describe()"
   ]
  },
  {
   "cell_type": "markdown",
   "metadata": {},
   "source": [
    "### Removiendo los outliers de la columna de edad\n",
    "\n",
    "Z-score es encontrar la distribución de datos donde la media es 0 y la desviación estándar es 1, es decir, distribución normal.\n",
    "\n",
    "Mientras calculamos la Z-score, volvemos a escalar y centramos los datos y buscamos puntos de datos que estén demasiado lejos de cero. Estos puntos de datos que están demasiado lejos de cero se tratarán como valores atípicos. En la mayoría de los casos, se utiliza un umbral de 3 o -3, es decir, si el valor del Z-score es mayor o menor que 3 o -3 respectivamente, ese punto de datos se identificará como valores atípicos."
   ]
  },
  {
   "cell_type": "code",
   "execution_count": 13,
   "metadata": {},
   "outputs": [],
   "source": [
    "ages = user_profiles.age\n",
    "ages.dropna(inplace=True)\n",
    "z_scores = stats.zscore(ages)\n",
    "abs_z_scores = np.abs(z_scores)\n",
    "filtered_entries = (abs_z_scores < 3)\n",
    "ages_clean = ages[filtered_entries]"
   ]
  },
  {
   "cell_type": "code",
   "execution_count": 14,
   "metadata": {},
   "outputs": [
    {
     "data": {
      "image/png": "[encoded data removed]",
      "text/plain": [
       "<Figure size 432x288 with 1 Axes>"
      ]
     },
     "metadata": {
      "needs_background": "light"
     },
     "output_type": "display_data"
    }
   ],
   "source": [
    "sns.boxplot(x=ages_clean)\n",
    "plt.show()"
   ]
  },
  {
   "cell_type": "code",
   "execution_count": 15,
   "metadata": {},
   "outputs": [
    {
     "data": {
      "text/plain": [
       "count   282969.000\n",
       "mean        24.967\n",
       "std          7.829\n",
       "min          1.000\n",
       "25%         20.000\n",
       "50%         23.000\n",
       "75%         28.000\n",
       "max         90.000\n",
       "Name: age, dtype: float64"
      ]
     },
     "execution_count": 15,
     "metadata": {},
     "output_type": "execute_result"
    }
   ],
   "source": [
    "ages_clean.describe()"
   ]
  },
  {
   "cell_type": "code",
   "execution_count": 16,
   "metadata": {},
   "outputs": [
    {
     "data": {
      "image/png": "[encoded data removed]",
      "text/plain": [
       "<Figure size 792x432 with 1 Axes>"
      ]
     },
     "metadata": {
      "needs_background": "light"
     },
     "output_type": "display_data"
    }
   ],
   "source": [
    "plt.figure(figsize = (11, 6))\n",
    "ages_clean.hist(bins=20,  histtype='bar', ec='black')\n",
    "plt.title(\"Distribucion de edad de los ususarios de lats.fm\")\n",
    "plt.grid(False)\n",
    "plt.show()"
   ]
  },
  {
   "cell_type": "code",
   "execution_count": 17,
   "metadata": {},
   "outputs": [],
   "source": [
    "user_profiles.drop('age', axis=1, inplace=True)"
   ]
  },
  {
   "cell_type": "markdown",
   "metadata": {},
   "source": [
    "## Top 20 paises ususarios de last.fm"
   ]
  },
  {
   "cell_type": "code",
   "execution_count": 18,
   "metadata": {},
   "outputs": [
    {
     "data": {
      "text/html": [
       "<div>\n",
       "<style scoped>\n",
       "    .dataframe tbody tr th:only-of-type {\n",
       "        vertical-align: middle;\n",
       "    }\n",
       "\n",
       "    .dataframe tbody tr th {\n",
       "        vertical-align: top;\n",
       "    }\n",
       "\n",
       "    .dataframe thead th {\n",
       "        text-align: right;\n",
       "    }\n",
       "</style>\n",
       "<table border=\"1\" class=\"dataframe\">\n",
       "  <thead>\n",
       "    <tr style=\"text-align: right;\">\n",
       "      <th></th>\n",
       "      <th>country</th>\n",
       "      <th>user</th>\n",
       "    </tr>\n",
       "  </thead>\n",
       "  <tbody>\n",
       "    <tr>\n",
       "      <th>225</th>\n",
       "      <td>United States</td>\n",
       "      <td>67044</td>\n",
       "    </tr>\n",
       "    <tr>\n",
       "      <th>79</th>\n",
       "      <td>Germany</td>\n",
       "      <td>31651</td>\n",
       "    </tr>\n",
       "    <tr>\n",
       "      <th>224</th>\n",
       "      <td>United Kingdom</td>\n",
       "      <td>29902</td>\n",
       "    </tr>\n",
       "    <tr>\n",
       "      <th>170</th>\n",
       "      <td>Poland</td>\n",
       "      <td>20987</td>\n",
       "    </tr>\n",
       "    <tr>\n",
       "      <th>176</th>\n",
       "      <td>Russian Federation</td>\n",
       "      <td>19833</td>\n",
       "    </tr>\n",
       "    <tr>\n",
       "      <th>29</th>\n",
       "      <td>Brazil</td>\n",
       "      <td>14534</td>\n",
       "    </tr>\n",
       "    <tr>\n",
       "      <th>204</th>\n",
       "      <td>Sweden</td>\n",
       "      <td>13122</td>\n",
       "    </tr>\n",
       "    <tr>\n",
       "      <th>198</th>\n",
       "      <td>Spain</td>\n",
       "      <td>13051</td>\n",
       "    </tr>\n",
       "    <tr>\n",
       "      <th>71</th>\n",
       "      <td>Finland</td>\n",
       "      <td>11579</td>\n",
       "    </tr>\n",
       "    <tr>\n",
       "      <th>149</th>\n",
       "      <td>Netherlands</td>\n",
       "      <td>9650</td>\n",
       "    </tr>\n",
       "    <tr>\n",
       "      <th>37</th>\n",
       "      <td>Canada</td>\n",
       "      <td>8679</td>\n",
       "    </tr>\n",
       "    <tr>\n",
       "      <th>72</th>\n",
       "      <td>France</td>\n",
       "      <td>7529</td>\n",
       "    </tr>\n",
       "    <tr>\n",
       "      <th>103</th>\n",
       "      <td>Italy</td>\n",
       "      <td>7525</td>\n",
       "    </tr>\n",
       "    <tr>\n",
       "      <th>12</th>\n",
       "      <td>Australia</td>\n",
       "      <td>7135</td>\n",
       "    </tr>\n",
       "    <tr>\n",
       "      <th>105</th>\n",
       "      <td>Japan</td>\n",
       "      <td>6637</td>\n",
       "    </tr>\n",
       "    <tr>\n",
       "      <th>217</th>\n",
       "      <td>Turkey</td>\n",
       "      <td>6452</td>\n",
       "    </tr>\n",
       "    <tr>\n",
       "      <th>159</th>\n",
       "      <td>Norway</td>\n",
       "      <td>5155</td>\n",
       "    </tr>\n",
       "    <tr>\n",
       "      <th>136</th>\n",
       "      <td>Mexico</td>\n",
       "      <td>4834</td>\n",
       "    </tr>\n",
       "    <tr>\n",
       "      <th>56</th>\n",
       "      <td>Czech Republic</td>\n",
       "      <td>4774</td>\n",
       "    </tr>\n",
       "    <tr>\n",
       "      <th>222</th>\n",
       "      <td>Ukraine</td>\n",
       "      <td>4396</td>\n",
       "    </tr>\n",
       "  </tbody>\n",
       "</table>\n",
       "</div>"
      ],
      "text/plain": [
       "                country   user\n",
       "225       United States  67044\n",
       "79              Germany  31651\n",
       "224      United Kingdom  29902\n",
       "170              Poland  20987\n",
       "176  Russian Federation  19833\n",
       "29               Brazil  14534\n",
       "204              Sweden  13122\n",
       "198               Spain  13051\n",
       "71              Finland  11579\n",
       "149         Netherlands   9650\n",
       "37               Canada   8679\n",
       "72               France   7529\n",
       "103               Italy   7525\n",
       "12            Australia   7135\n",
       "105               Japan   6637\n",
       "217              Turkey   6452\n",
       "159              Norway   5155\n",
       "136              Mexico   4834\n",
       "56       Czech Republic   4774\n",
       "222             Ukraine   4396"
      ]
     },
     "execution_count": 18,
     "metadata": {},
     "output_type": "execute_result"
    }
   ],
   "source": [
    "user_profiles.groupby('country').count().reset_index().sort_values('user', ascending=False).head(20)"
   ]
  },
  {
   "cell_type": "code",
   "execution_count": 19,
   "metadata": {},
   "outputs": [
    {
     "data": {
      "image/png": "[encoded data removed]",
      "text/plain": [
       "<Figure size 792x432 with 1 Axes>"
      ]
     },
     "metadata": {
      "needs_background": "light"
     },
     "output_type": "display_data"
    }
   ],
   "source": [
    "plt.figure(figsize = (11, 6))\n",
    "sns.countplot(data=user_profiles,\n",
    "              order=user_profiles.country.value_counts().iloc[:20].index,\n",
    "              y='country')\n",
    "plt.tick_params(labelsize = 10)\n",
    "plt.title(\"Top 20 paises de los ususarios de last.fm\", fontsize = 20)\n",
    "plt.xlabel(\"Usuarios\", fontsize = 20)\n",
    "plt.ylabel(\"País\", fontsize = 20)\n",
    "plt.show()"
   ]
  },
  {
   "cell_type": "code",
   "execution_count": 20,
   "metadata": {},
   "outputs": [],
   "source": [
    "## eleiminar artistas con nombres vacios\n",
    "if user_data['artist'].isnull().sum() > 0:\n",
    "    user_data = user_data.dropna(axis = 0, subset = ['artist'])"
   ]
  },
  {
   "cell_type": "code",
   "execution_count": 21,
   "metadata": {},
   "outputs": [],
   "source": [
    "## agrupamos por artista y obtenemos sus numero de reproducciones\n",
    "artist_plays = (user_data.\n",
    "     groupby(by = ['artist'])['plays'].\n",
    "     sum().\n",
    "     reset_index().\n",
    "     rename(columns = {'plays': 'total_plays'})\n",
    "     [['artist', 'total_plays']]\n",
    "    )"
   ]
  },
  {
   "cell_type": "code",
   "execution_count": 22,
   "metadata": {},
   "outputs": [
    {
     "data": {
      "text/html": [
       "<div>\n",
       "<style scoped>\n",
       "    .dataframe tbody tr th:only-of-type {\n",
       "        vertical-align: middle;\n",
       "    }\n",
       "\n",
       "    .dataframe tbody tr th {\n",
       "        vertical-align: top;\n",
       "    }\n",
       "\n",
       "    .dataframe thead th {\n",
       "        text-align: right;\n",
       "    }\n",
       "</style>\n",
       "<table border=\"1\" class=\"dataframe\">\n",
       "  <thead>\n",
       "    <tr style=\"text-align: right;\">\n",
       "      <th></th>\n",
       "      <th>artist</th>\n",
       "      <th>total_plays</th>\n",
       "    </tr>\n",
       "  </thead>\n",
       "  <tbody>\n",
       "    <tr>\n",
       "      <th>0</th>\n",
       "      <td>04)]</td>\n",
       "      <td>6</td>\n",
       "    </tr>\n",
       "    <tr>\n",
       "      <th>1</th>\n",
       "      <td>2</td>\n",
       "      <td>1606</td>\n",
       "    </tr>\n",
       "    <tr>\n",
       "      <th>2</th>\n",
       "      <td>58725ab=&gt;</td>\n",
       "      <td>23</td>\n",
       "    </tr>\n",
       "    <tr>\n",
       "      <th>3</th>\n",
       "      <td>80lİ yillarin tÜrkÇe sÖzlÜ aŞk Şarkilari</td>\n",
       "      <td>70</td>\n",
       "    </tr>\n",
       "    <tr>\n",
       "      <th>4</th>\n",
       "      <td>amy winehouse</td>\n",
       "      <td>23</td>\n",
       "    </tr>\n",
       "    <tr>\n",
       "      <th>...</th>\n",
       "      <td>...</td>\n",
       "      <td>...</td>\n",
       "    </tr>\n",
       "    <tr>\n",
       "      <th>292358</th>\n",
       "      <td>￼antonio mairena</td>\n",
       "      <td>25</td>\n",
       "    </tr>\n",
       "    <tr>\n",
       "      <th>292359</th>\n",
       "      <td>￼beastie boys</td>\n",
       "      <td>85</td>\n",
       "    </tr>\n",
       "    <tr>\n",
       "      <th>292360</th>\n",
       "      <td>��|</td>\n",
       "      <td>369</td>\n",
       "    </tr>\n",
       "    <tr>\n",
       "      <th>292361</th>\n",
       "      <td>��疲暎�</td>\n",
       "      <td>142</td>\n",
       "    </tr>\n",
       "    <tr>\n",
       "      <th>292362</th>\n",
       "      <td>�������</td>\n",
       "      <td>102</td>\n",
       "    </tr>\n",
       "  </tbody>\n",
       "</table>\n",
       "<p>292363 rows × 2 columns</p>\n",
       "</div>"
      ],
      "text/plain": [
       "                                           artist  total_plays\n",
       "0                                            04)]            6\n",
       "1                                              2          1606\n",
       "2                                       58725ab=>           23\n",
       "3        80lİ yillarin tÜrkÇe sÖzlÜ aŞk Şarkilari           70\n",
       "4                                   amy winehouse           23\n",
       "...                                           ...          ...\n",
       "292358                           ￼antonio mairena           25\n",
       "292359                              ￼beastie boys           85\n",
       "292360                                        ��|          369\n",
       "292361                                      ��疲暎�          142\n",
       "292362                                    �������          102\n",
       "\n",
       "[292363 rows x 2 columns]"
      ]
     },
     "execution_count": 22,
     "metadata": {},
     "output_type": "execute_result"
    }
   ],
   "source": [
    "artist_plays"
   ]
  },
  {
   "cell_type": "code",
   "execution_count": 23,
   "metadata": {},
   "outputs": [
    {
     "data": {
      "text/plain": [
       "count     292363.000\n",
       "mean       12907.022\n",
       "std       185981.631\n",
       "min            1.000\n",
       "25%           53.000\n",
       "50%          208.000\n",
       "75%         1048.000\n",
       "max     30466827.000\n",
       "Name: total_plays, dtype: float64"
      ]
     },
     "execution_count": 23,
     "metadata": {},
     "output_type": "execute_result"
    }
   ],
   "source": [
    "artist_plays['total_plays'].describe()"
   ]
  },
  {
   "cell_type": "markdown",
   "metadata": {},
   "source": [
    "Tenemos casi 300 mil artistas distintos.\n",
    "\n",
    "La mediana de las reproducciones por artista es de tan solo 200. Esto es un problema, ya que queremos recomendar a los mejores artistas."
   ]
  },
  {
   "cell_type": "markdown",
   "metadata": {},
   "source": [
    "### Top de la distribución de reproducciones"
   ]
  },
  {
   "cell_type": "code",
   "execution_count": 24,
   "metadata": {},
   "outputs": [
    {
     "data": {
      "text/plain": [
       "0.900     6137.800\n",
       "0.910     7409.420\n",
       "0.920     9102.040\n",
       "0.930    11474.660\n",
       "0.940    14898.000\n",
       "0.950    19964.500\n",
       "0.960    28420.120\n",
       "0.970    43541.420\n",
       "0.980    79403.560\n",
       "0.990   198483.660\n",
       "Name: total_plays, dtype: float64"
      ]
     },
     "execution_count": 24,
     "metadata": {},
     "output_type": "execute_result"
    }
   ],
   "source": [
    "artist_plays['total_plays'].quantile(np.arange(.9, 1, .01))"
   ]
  },
  {
   "cell_type": "markdown",
   "metadata": {},
   "source": [
    "Solo alrededor del 1% de los aritstas tienen cerca de 200 mil reproducciones\n",
    "\n",
    "2% tienen 80 mil o mas\n",
    "\n",
    "3% tienen 40 mil o más reproducciones\n",
    "\n",
    "Para este ejercicio solo nos concentraremos en el top 3% de los artistas, aquellos con mas de 40000 reproducciones"
   ]
  },
  {
   "cell_type": "code",
   "execution_count": 25,
   "metadata": {},
   "outputs": [],
   "source": [
    "## juntamos ambos df\n",
    "user_data_artist_plays = user_data.merge(artist_plays, on='artist', how = 'left')"
   ]
  },
  {
   "cell_type": "code",
   "execution_count": 26,
   "metadata": {},
   "outputs": [
    {
     "data": {
      "text/html": [
       "<div>\n",
       "<style scoped>\n",
       "    .dataframe tbody tr th:only-of-type {\n",
       "        vertical-align: middle;\n",
       "    }\n",
       "\n",
       "    .dataframe tbody tr th {\n",
       "        vertical-align: top;\n",
       "    }\n",
       "\n",
       "    .dataframe thead th {\n",
       "        text-align: right;\n",
       "    }\n",
       "</style>\n",
       "<table border=\"1\" class=\"dataframe\">\n",
       "  <thead>\n",
       "    <tr style=\"text-align: right;\">\n",
       "      <th></th>\n",
       "      <th>user</th>\n",
       "      <th>artist</th>\n",
       "      <th>plays</th>\n",
       "      <th>total_plays</th>\n",
       "    </tr>\n",
       "  </thead>\n",
       "  <tbody>\n",
       "    <tr>\n",
       "      <th>14544183</th>\n",
       "      <td>d452ee05098069882421a2b4456c64021c3f130a</td>\n",
       "      <td>the beatles</td>\n",
       "      <td>204</td>\n",
       "      <td>30466827</td>\n",
       "    </tr>\n",
       "    <tr>\n",
       "      <th>6937382</th>\n",
       "      <td>65604cf9d1ba30dbbe6f9f9be9ea6972eb81effa</td>\n",
       "      <td>the beatles</td>\n",
       "      <td>53</td>\n",
       "      <td>30466827</td>\n",
       "    </tr>\n",
       "    <tr>\n",
       "      <th>5574504</th>\n",
       "      <td>5195681c3eabc0cb04c620b50164ba1670bc2d3a</td>\n",
       "      <td>the beatles</td>\n",
       "      <td>3202</td>\n",
       "      <td>30466827</td>\n",
       "    </tr>\n",
       "    <tr>\n",
       "      <th>595848</th>\n",
       "      <td>08b2d4d20eb86f6af1fbccb4e97e5e14e06d0bca</td>\n",
       "      <td>the beatles</td>\n",
       "      <td>118</td>\n",
       "      <td>30466827</td>\n",
       "    </tr>\n",
       "    <tr>\n",
       "      <th>13602355</th>\n",
       "      <td>c6bc9d3ff42f0db6bc3a73bb95dfca4bb42dfe7c</td>\n",
       "      <td>the beatles</td>\n",
       "      <td>116</td>\n",
       "      <td>30466827</td>\n",
       "    </tr>\n",
       "    <tr>\n",
       "      <th>...</th>\n",
       "      <td>...</td>\n",
       "      <td>...</td>\n",
       "      <td>...</td>\n",
       "      <td>...</td>\n",
       "    </tr>\n",
       "    <tr>\n",
       "      <th>3773421</th>\n",
       "      <td>374c41c1220251a45423c0d5fc3f53c40f85f37d</td>\n",
       "      <td>accessory</td>\n",
       "      <td>63</td>\n",
       "      <td>40005</td>\n",
       "    </tr>\n",
       "    <tr>\n",
       "      <th>2951613</th>\n",
       "      <td>2b1bf9f5db0cd8eaf21569a8ce58502ed57c82dc</td>\n",
       "      <td>accessory</td>\n",
       "      <td>495</td>\n",
       "      <td>40005</td>\n",
       "    </tr>\n",
       "    <tr>\n",
       "      <th>13555469</th>\n",
       "      <td>c60fe110dda47e1959a494da7d9b027fcdbec8cc</td>\n",
       "      <td>accessory</td>\n",
       "      <td>49</td>\n",
       "      <td>40005</td>\n",
       "    </tr>\n",
       "    <tr>\n",
       "      <th>6145345</th>\n",
       "      <td>59dcc7ad716af89dd7f6a25b75df68039b65f1e9</td>\n",
       "      <td>accessory</td>\n",
       "      <td>127</td>\n",
       "      <td>40005</td>\n",
       "    </tr>\n",
       "    <tr>\n",
       "      <th>9811444</th>\n",
       "      <td>8f3eaf5294f36051b89fe354387f95f315a80f9b</td>\n",
       "      <td>accessory</td>\n",
       "      <td>47</td>\n",
       "      <td>40005</td>\n",
       "    </tr>\n",
       "  </tbody>\n",
       "</table>\n",
       "<p>14159003 rows × 4 columns</p>\n",
       "</div>"
      ],
      "text/plain": [
       "                                              user       artist  plays  \\\n",
       "14544183  d452ee05098069882421a2b4456c64021c3f130a  the beatles    204   \n",
       "6937382   65604cf9d1ba30dbbe6f9f9be9ea6972eb81effa  the beatles     53   \n",
       "5574504   5195681c3eabc0cb04c620b50164ba1670bc2d3a  the beatles   3202   \n",
       "595848    08b2d4d20eb86f6af1fbccb4e97e5e14e06d0bca  the beatles    118   \n",
       "13602355  c6bc9d3ff42f0db6bc3a73bb95dfca4bb42dfe7c  the beatles    116   \n",
       "...                                            ...          ...    ...   \n",
       "3773421   374c41c1220251a45423c0d5fc3f53c40f85f37d    accessory     63   \n",
       "2951613   2b1bf9f5db0cd8eaf21569a8ce58502ed57c82dc    accessory    495   \n",
       "13555469  c60fe110dda47e1959a494da7d9b027fcdbec8cc    accessory     49   \n",
       "6145345   59dcc7ad716af89dd7f6a25b75df68039b65f1e9    accessory    127   \n",
       "9811444   8f3eaf5294f36051b89fe354387f95f315a80f9b    accessory     47   \n",
       "\n",
       "          total_plays  \n",
       "14544183     30466827  \n",
       "6937382      30466827  \n",
       "5574504      30466827  \n",
       "595848       30466827  \n",
       "13602355     30466827  \n",
       "...               ...  \n",
       "3773421         40005  \n",
       "2951613         40005  \n",
       "13555469        40005  \n",
       "6145345         40005  \n",
       "9811444         40005  \n",
       "\n",
       "[14159003 rows x 4 columns]"
      ]
     },
     "execution_count": 26,
     "metadata": {},
     "output_type": "execute_result"
    }
   ],
   "source": [
    "## filtramos a los artistas con un minimo de 40000 reproducciones\n",
    "top_artists = user_data_artist_plays[user_data_artist_plays['total_plays']>=40000]\n",
    "top_artists.sort_values('total_plays',ascending=False)"
   ]
  },
  {
   "cell_type": "code",
   "execution_count": 32,
   "metadata": {},
   "outputs": [],
   "source": [
    "## Unimos ambos df\n",
    "combined = top_artists.merge(user_profiles, on='user', how= 'left')\n",
    "## Filtramos por país, queremos ver a los usuarios de un país particular\n",
    "country_data = combined[combined['country']=='Mexico']"
   ]
  },
  {
   "cell_type": "markdown",
   "metadata": {},
   "source": [
    "## top 10 artististas reproducidos en mexico segun last.fm"
   ]
  },
  {
   "cell_type": "code",
   "execution_count": 33,
   "metadata": {},
   "outputs": [
    {
     "data": {
      "text/html": [
       "<div>\n",
       "<style scoped>\n",
       "    .dataframe tbody tr th:only-of-type {\n",
       "        vertical-align: middle;\n",
       "    }\n",
       "\n",
       "    .dataframe tbody tr th {\n",
       "        vertical-align: top;\n",
       "    }\n",
       "\n",
       "    .dataframe thead th {\n",
       "        text-align: right;\n",
       "    }\n",
       "</style>\n",
       "<table border=\"1\" class=\"dataframe\">\n",
       "  <thead>\n",
       "    <tr style=\"text-align: right;\">\n",
       "      <th></th>\n",
       "      <th>artist</th>\n",
       "      <th>plays</th>\n",
       "    </tr>\n",
       "  </thead>\n",
       "  <tbody>\n",
       "    <tr>\n",
       "      <th>5348</th>\n",
       "      <td>radiohead</td>\n",
       "      <td>664288</td>\n",
       "    </tr>\n",
       "    <tr>\n",
       "      <th>6430</th>\n",
       "      <td>the beatles</td>\n",
       "      <td>559489</td>\n",
       "    </tr>\n",
       "    <tr>\n",
       "      <th>4635</th>\n",
       "      <td>muse</td>\n",
       "      <td>348023</td>\n",
       "    </tr>\n",
       "    <tr>\n",
       "      <th>1174</th>\n",
       "      <td>café tacuba</td>\n",
       "      <td>332901</td>\n",
       "    </tr>\n",
       "    <tr>\n",
       "      <th>5181</th>\n",
       "      <td>pink floyd</td>\n",
       "      <td>312931</td>\n",
       "    </tr>\n",
       "    <tr>\n",
       "      <th>4158</th>\n",
       "      <td>madonna</td>\n",
       "      <td>260018</td>\n",
       "    </tr>\n",
       "    <tr>\n",
       "      <th>1473</th>\n",
       "      <td>coldplay</td>\n",
       "      <td>256785</td>\n",
       "    </tr>\n",
       "    <tr>\n",
       "      <th>6670</th>\n",
       "      <td>the killers</td>\n",
       "      <td>247903</td>\n",
       "    </tr>\n",
       "    <tr>\n",
       "      <th>2416</th>\n",
       "      <td>fey</td>\n",
       "      <td>238450</td>\n",
       "    </tr>\n",
       "    <tr>\n",
       "      <th>876</th>\n",
       "      <td>björk</td>\n",
       "      <td>229696</td>\n",
       "    </tr>\n",
       "  </tbody>\n",
       "</table>\n",
       "</div>"
      ],
      "text/plain": [
       "           artist   plays\n",
       "5348    radiohead  664288\n",
       "6430  the beatles  559489\n",
       "4635         muse  348023\n",
       "1174  café tacuba  332901\n",
       "5181   pink floyd  312931\n",
       "4158      madonna  260018\n",
       "1473     coldplay  256785\n",
       "6670  the killers  247903\n",
       "2416          fey  238450\n",
       "876         björk  229696"
      ]
     },
     "execution_count": 33,
     "metadata": {},
     "output_type": "execute_result"
    }
   ],
   "source": [
    "country_data.groupby('artist').plays.sum().reset_index(name='plays').sort_values('plays', ascending=False).head(10)"
   ]
  },
  {
   "cell_type": "code",
   "execution_count": 34,
   "metadata": {},
   "outputs": [],
   "source": [
    "## eliminamos ducplicados\n",
    "if not country_data[country_data.duplicated(['user', 'artist'])].empty:\n",
    "    initial_rows = country_data.shape[0]"
   ]
  },
  {
   "cell_type": "code",
   "execution_count": 35,
   "metadata": {},
   "outputs": [],
   "source": [
    "## df con la lista completa de reprodcuciones\n",
    "country_total_plays = country_data.groupby('artist').plays.sum().reset_index(name='plays').sort_values('plays', ascending=False)"
   ]
  },
  {
   "cell_type": "markdown",
   "metadata": {},
   "source": [
    "## Filtrado colaborativo\n",
    "\n",
    "El enfoque de filtrado colaborativo crea un modelo a partir de los comportamientos pasados de un usuario (si ha escuchado o no a un artista), así como decisiones similares tomadas por otros usuarios. Este modelo es usado para predecir otros elementos (o calificaciones de elementos) en los que el usuario puede tener interés.\n",
    "\n",
    "KNN es un método de aprendizaje no paramétrico. Utiliza una base de datos en la que los puntos de datos se separan en varios grupos para hacer inferencias para nuevas muestras.\n",
    "\n",
    "KNN no hace ninguna suposición sobre la distribución subyacente de los datos. Cuando KNN hace inferencias sobre un artista, KNN calculará la \"distancia\" entre el artista destino y todos los demás artistas, luego clasifica sus distancias y devuelve los K artistas más cercanas como las recomendaciones de artistas similares\n",
    "\n",
    "El desempeño de KNN sufrirá la maldición de la dimensionalidad si usa \"distancia euclidiana\" como su función objetivo. La distancia euclidiana no es útil en dimensiones altas porque todos los vectores son casi equidistantes al vector de consulta de búsqueda. En su lugar, usaremos la **similitud coseno** para la búsqueda del vecino más cercano.\n",
    "\n",
    "\n",
    "\n"
   ]
  },
  {
   "cell_type": "markdown",
   "metadata": {},
   "source": [
    "Para K-vecinos más cercanos, queremos que los datos estén en una matriz m x n, donde m es el número de artistas y n es el número de usuarios."
   ]
  },
  {
   "cell_type": "code",
   "execution_count": 36,
   "metadata": {},
   "outputs": [
    {
     "data": {
      "text/plain": [
       "(7623, 4828)"
      ]
     },
     "execution_count": 36,
     "metadata": {},
     "output_type": "execute_result"
    }
   ],
   "source": [
    "## creamos nuestra matriz rala\n",
    "wide_artist_data = country_data.pivot(index = 'artist', columns = 'user', values = 'plays').fillna(0)\n",
    "## reset a los indices de la tabla para poder buscar un artista por indice\n",
    "indexes = wide_artist_data.reset_index()\n",
    "##nuestra matriz rala tiene esta forma: asrtistas x ususarios\n",
    "wide_artist_data.shape"
   ]
  },
  {
   "cell_type": "code",
   "execution_count": 37,
   "metadata": {},
   "outputs": [
    {
     "data": {
      "text/plain": [
       "NearestNeighbors(metric='cosine')"
      ]
     },
     "execution_count": 37,
     "metadata": {},
     "output_type": "execute_result"
    }
   ],
   "source": [
    "## entrenamos el modelo con k vecinos cercanos y similaridad coseno\n",
    "model = NearestNeighbors(metric='cosine')\n",
    "model.fit(wide_artist_data)"
   ]
  },
  {
   "cell_type": "code",
   "execution_count": 46,
   "metadata": {},
   "outputs": [
    {
     "name": "stdout",
     "output_type": "stream",
     "text": [
      "Artist index : 4410\n",
      "Recommendations for: metallica\n",
      "Total plays in Mexico: 182254\n",
      "\n",
      "1: the dubliners\t distance: 0.34\n",
      "2: buju banton\t distance: 0.369\n",
      "3: otep\t distance: 0.431\n",
      "4: flogging molly\t distance: 0.45\n",
      "5: 陰陽座\t distance: 0.489\n",
      "6: smash mouth\t distance: 0.503\n",
      "7: dropkick murphys\t distance: 0.513\n",
      "8: the simpsons\t distance: 0.515\n",
      "9: hatebreed\t distance: 0.557\n",
      "10: anthrax\t distance: 0.565\n"
     ]
    }
   ],
   "source": [
    "## hacemos algunas recomendaciones basados en el index de un artista\n",
    "index = 4410\n",
    "k = 10\n",
    "print(f'Artist index : {index}')\n",
    "\n",
    "distances, indices = model.kneighbors(wide_artist_data.iloc[index, :].values.reshape(1, -1), n_neighbors=k+1)\n",
    "## aplanamos los resultados para poder iterar sobre ellos\n",
    "indices = indices.flatten()\n",
    "distances = distances.flatten()\n",
    "\n",
    "print (f'Recommendations for: {wide_artist_data.index[index]}')\n",
    "print (f'Total plays in Mexico: {country_total_plays.loc[index][1]}\\n')\n",
    "\n",
    "for i in range(1,k+1):\n",
    "    print (f'{i}: {wide_artist_data.index[indices[i]]}\\t distance: {round(distances[i],3)}')"
   ]
  },
  {
   "cell_type": "markdown",
   "metadata": {},
   "source": [
    "Dado que estamos realizando un filtrado colaborativo basado con K-NN, los valores atípicos pueden tener una gran influencia. Si algunos usuarios escucharon mucho a Metallica y The dubliners, nuestra métrica de distancia entre vectores estará muy influenciada por esas observaciones individuales."
   ]
  },
  {
   "cell_type": "code",
   "execution_count": 39,
   "metadata": {},
   "outputs": [],
   "source": [
    "## convertimos cada valor a 0 o 1, un usuario reprodujo al artista o no\n",
    "wide_artist_data_binary = wide_artist_data.apply(np.sign)"
   ]
  },
  {
   "cell_type": "code",
   "execution_count": 40,
   "metadata": {},
   "outputs": [
    {
     "data": {
      "text/plain": [
       "NearestNeighbors(metric='cosine')"
      ]
     },
     "execution_count": 40,
     "metadata": {},
     "output_type": "execute_result"
    }
   ],
   "source": [
    "## entrenamos el modelo con k vecinos cercanos y similaridad coseno\n",
    "model_binary = NearestNeighbors(metric='cosine')\n",
    "model_binary.fit(wide_artist_data_binary)"
   ]
  },
  {
   "cell_type": "code",
   "execution_count": 41,
   "metadata": {},
   "outputs": [
    {
     "name": "stdout",
     "output_type": "stream",
     "text": [
      "Artist index : 4410\n",
      "Recommendations for: metallica\n",
      "Total plays in Mexico: 182254\n",
      "\n",
      "1: iron maiden\t distance: 0.555\n",
      "2: megadeth\t distance: 0.634\n",
      "3: nirvana\t distance: 0.644\n",
      "4: pantera\t distance: 0.649\n",
      "5: ac/dc\t distance: 0.675\n",
      "6: led zeppelin\t distance: 0.683\n",
      "7: pink floyd\t distance: 0.688\n",
      "8: pearl jam\t distance: 0.692\n",
      "9: red hot chili peppers\t distance: 0.701\n",
      "10: black sabbath\t distance: 0.703\n"
     ]
    }
   ],
   "source": [
    "## hacemos algunas recomendaciones basados en el index de un artista\n",
    "index = 4410\n",
    "k = 10\n",
    "print(f'Artist index : {index}')\n",
    "\n",
    "distances, indices = model_binary.kneighbors(wide_artist_data_binary.iloc[index, :].values.reshape(1, -1), n_neighbors=k+1)\n",
    "## aplanamos los resultados para poder iterar sobre ellos\n",
    "indices = indices.flatten()\n",
    "distances = distances.flatten()\n",
    "\n",
    "print (f'Recommendations for: {wide_artist_data_binary.index[index]}')\n",
    "print (f'Total plays in Mexico: {country_total_plays.loc[index][1]}\\n')\n",
    "\n",
    "for i in range(1,k+1):\n",
    "    print (f'{i}: {wide_artist_data_binary.index[indices[i]]}\\t distance: {round(distances[i],3)}')"
   ]
  },
  {
   "cell_type": "code",
   "execution_count": 42,
   "metadata": {},
   "outputs": [],
   "source": [
    "def artist_recommendations(artist, k):\n",
    "    try:\n",
    "        g = nx.Graph()\n",
    "        index = indexes[indexes['artist']==artist].index.values[0]\n",
    "        print(f'Artist index : {index}')\n",
    "\n",
    "        ## encontramos los indices y las distancias de los k vecinos mas cercanos\n",
    "        distances, indices = model_binary.kneighbors(wide_artist_data_binary.iloc[index, :].values.reshape(1, -1), n_neighbors=k+1)\n",
    "        ## aplanamos los resultados para poder iterar sobre ellos\n",
    "        indices = indices.flatten()\n",
    "        distances = distances.flatten()\n",
    "\n",
    "        print (f'Recommendations for: {wide_artist_data_binary.index[index]}')\n",
    "        print (f'Total plays in Mexico: {country_total_plays.loc[index][1]}\\n')\n",
    "\n",
    "        for i in range(1,k+1):\n",
    "            print (f'{i}: {wide_artist_data_binary.index[indices[i]]}\\t distance: {round(distances[i],3)}')\n",
    "            g.add_edge(artist, wide_artist_data_binary.index[indices[i]], weight=distances[i] / i)\n",
    "        print('\\n')\n",
    "        nx.draw(g, with_labels = True)\n",
    "    except:\n",
    "        print(f'{artist} not found in Mexico list')"
   ]
  },
  {
   "cell_type": "code",
   "execution_count": 47,
   "metadata": {},
   "outputs": [
    {
     "name": "stdout",
     "output_type": "stream",
     "text": [
      "Artist index : 4410\n",
      "Recommendations for: metallica\n",
      "Total plays in Mexico: 182254\n",
      "\n",
      "1: iron maiden\t distance: 0.555\n",
      "2: megadeth\t distance: 0.634\n",
      "3: nirvana\t distance: 0.644\n",
      "4: pantera\t distance: 0.649\n",
      "5: ac/dc\t distance: 0.675\n",
      "6: led zeppelin\t distance: 0.683\n",
      "7: pink floyd\t distance: 0.688\n",
      "8: pearl jam\t distance: 0.692\n",
      "9: red hot chili peppers\t distance: 0.701\n",
      "10: black sabbath\t distance: 0.703\n",
      "\n",
      "\n"
     ]
    },
    {
     "data": {
      "image/png": "[encoded data removed]",
      "text/plain": [
       "<Figure size 432x288 with 1 Axes>"
      ]
     },
     "metadata": {},
     "output_type": "display_data"
    }
   ],
   "source": [
    "##podemos buscar recomendaciones para un artista por su nombre\n",
    "artist_recommendations('metallica', k = 10)"
   ]
  },
  {
   "cell_type": "markdown",
   "metadata": {},
   "source": [
    "## Referencias\n",
    "\n",
    "* [K-neighborghs](https://scikit-learn.org/stable/modules/neighbors.html)\n",
    "* [Collaborative Filtering](https://beckernick.github.io/datascience/)\n",
    "* [Music Recommender with kNN](https://towardsdatascience.com/the-keys-building-collaborative-filtering-music-recommender-65ec3900d19f)\n",
    "* [Recommender System with kNN](https://towardsdatascience.com/prototyping-a-recommender-system-step-by-step-part-1-knn-item-based-collaborative-filtering-637969614ea)"
   ]
  }
 ],
 "metadata": {
  "kernelspec": {
   "display_name": "Python 3",
   "language": "python",
   "name": "python3"
  },
  "language_info": {
   "codemirror_mode": {
    "name": "ipython",
    "version": 3
   },
   "file_extension": ".py",
   "mimetype": "text/x-python",
   "name": "python",
   "nbconvert_exporter": "python",
   "pygments_lexer": "ipython3",
   "version": "3.6.5"
  }
 },
 "nbformat": 4,
 "nbformat_minor": 4
}
