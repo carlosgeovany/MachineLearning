{
 "cells": [
  {
   "cell_type": "markdown",
   "id": "873e1e0e",
   "metadata": {
    "papermill": {
     "duration": 0.015532,
     "end_time": "2022-11-11T20:05:49.693296",
     "exception": false,
     "start_time": "2022-11-11T20:05:49.677764",
     "status": "completed"
    },
    "tags": []
   },
   "source": [
    "# Logistic Regression: Classification With Categorical Variables on Pass Plays\n",
    "\n",
    "Logistic Regression is an algorithm that performs binary classification by modeling a dependent variable (Y) in terms of one or more independent variables (X). In other words, it’s a generalized model that predicts the probability that an event will occur.\n",
    "\n",
    "The NFL Big Data bowl data set from Kaggle will be used to build the Logistic Regression Model. This data describes the plays from the first 8 weeks from NFL's 2021 season. \n",
    "\n",
    "There are several input variables: examples include yardsToGo, dropBackType, offenseFormation, defendersInBox, pff_passCoverage, pff_passCoverageType, etc. There is one output variable which describes the result off the pass play whether a completed pass, incompleted, interception, etc.\n",
    "\n",
    "Our objective will be to try to predict the pass result based on the input variables mentioned above."
   ]
  },
  {
   "cell_type": "markdown",
   "id": "95348f59",
   "metadata": {
    "papermill": {
     "duration": 0.01552,
     "end_time": "2022-11-11T20:05:49.722783",
     "exception": false,
     "start_time": "2022-11-11T20:05:49.707263",
     "status": "completed"
    },
    "tags": []
   },
   "source": [
    "### Importing libraries"
   ]
  },
  {
   "cell_type": "code",
   "execution_count": 1,
   "id": "8d274286",
   "metadata": {
    "_cell_guid": "b1076dfc-b9ad-4769-8c92-a6c4dae69d19",
    "_uuid": "8f2839f25d086af736a60e9eeb907d3b93b6e0e5",
    "execution": {
     "iopub.execute_input": "2022-11-11T20:05:49.754087Z",
     "iopub.status.busy": "2022-11-11T20:05:49.752168Z",
     "iopub.status.idle": "2022-11-11T20:05:52.064135Z",
     "shell.execute_reply": "2022-11-11T20:05:52.062686Z"
    },
    "papermill": {
     "duration": 2.331733,
     "end_time": "2022-11-11T20:05:52.068231",
     "exception": false,
     "start_time": "2022-11-11T20:05:49.736498",
     "status": "completed"
    },
    "tags": []
   },
   "outputs": [],
   "source": [
    "import numpy as np\n",
    "import pandas as pd\n",
    "import glob\n",
    "import os\n",
    "from datetime import datetime\n",
    "import plotly.express as px\n",
    "from sklearn.model_selection import train_test_split\n",
    "from sklearn.linear_model import LogisticRegression\n",
    "from sklearn.metrics import classification_report\n",
    "from sklearn.metrics import mean_squared_error, mean_absolute_error\n",
    "from sklearn.preprocessing import StandardScaler\n",
    "import warnings\n",
    "warnings.filterwarnings('ignore')"
   ]
  },
  {
   "cell_type": "markdown",
   "id": "29ebbf9b",
   "metadata": {
    "papermill": {
     "duration": 0.01384,
     "end_time": "2022-11-11T20:05:52.098695",
     "exception": false,
     "start_time": "2022-11-11T20:05:52.084855",
     "status": "completed"
    },
    "tags": []
   },
   "source": [
    "### Importing datasets"
   ]
  },
  {
   "cell_type": "code",
   "execution_count": 2,
   "id": "33886a14",
   "metadata": {
    "execution": {
     "iopub.execute_input": "2022-11-11T20:05:52.129242Z",
     "iopub.status.busy": "2022-11-11T20:05:52.128847Z",
     "iopub.status.idle": "2022-11-11T20:05:52.721767Z",
     "shell.execute_reply": "2022-11-11T20:05:52.720578Z"
    },
    "papermill": {
     "duration": 0.611856,
     "end_time": "2022-11-11T20:05:52.724793",
     "exception": false,
     "start_time": "2022-11-11T20:05:52.112937",
     "status": "completed"
    },
    "tags": []
   },
   "outputs": [],
   "source": [
    "players = pd.read_csv(\"../input/nfl-big-data-bowl-2023/players.csv\")\n",
    "pff = pd.read_csv(\"../input/nfl-big-data-bowl-2023/pffScoutingData.csv\")\n",
    "plays = pd.read_csv(\"../input/nfl-big-data-bowl-2023/plays.csv\")"
   ]
  },
  {
   "cell_type": "markdown",
   "id": "1b4b4aef",
   "metadata": {
    "papermill": {
     "duration": 0.013088,
     "end_time": "2022-11-11T20:05:52.751547",
     "exception": false,
     "start_time": "2022-11-11T20:05:52.738459",
     "status": "completed"
    },
    "tags": []
   },
   "source": [
    "## Exploratory Data Analysis"
   ]
  },
  {
   "cell_type": "markdown",
   "id": "37cbdf24",
   "metadata": {
    "papermill": {
     "duration": 0.014265,
     "end_time": "2022-11-11T20:05:52.779659",
     "exception": false,
     "start_time": "2022-11-11T20:05:52.765394",
     "status": "completed"
    },
    "tags": []
   },
   "source": [
    "### Get the position identifier, we are only interested in linemen positions:\n",
    "\n",
    "* T: Tackle\n",
    "* C: Center \n",
    "* G: Guard"
   ]
  },
  {
   "cell_type": "code",
   "execution_count": 3,
   "id": "48a5ea4c",
   "metadata": {
    "execution": {
     "iopub.execute_input": "2022-11-11T20:05:52.810047Z",
     "iopub.status.busy": "2022-11-11T20:05:52.809654Z",
     "iopub.status.idle": "2022-11-11T20:05:52.827399Z",
     "shell.execute_reply": "2022-11-11T20:05:52.826410Z"
    },
    "papermill": {
     "duration": 0.035442,
     "end_time": "2022-11-11T20:05:52.829671",
     "exception": false,
     "start_time": "2022-11-11T20:05:52.794229",
     "status": "completed"
    },
    "tags": []
   },
   "outputs": [
    {
     "data": {
      "text/plain": [
       "array(['QB', 'T', 'TE', 'WR', 'DE', 'SS', 'C', 'FS', 'NT', 'DT', 'CB',\n",
       "       'G', 'OLB', 'RB', 'MLB', 'ILB', 'LB', 'FB', 'DB'], dtype=object)"
      ]
     },
     "execution_count": 3,
     "metadata": {},
     "output_type": "execute_result"
    }
   ],
   "source": [
    "players.officialPosition.unique()"
   ]
  },
  {
   "cell_type": "code",
   "execution_count": 4,
   "id": "6b3e2151",
   "metadata": {
    "execution": {
     "iopub.execute_input": "2022-11-11T20:05:52.858908Z",
     "iopub.status.busy": "2022-11-11T20:05:52.858505Z",
     "iopub.status.idle": "2022-11-11T20:05:52.868570Z",
     "shell.execute_reply": "2022-11-11T20:05:52.867159Z"
    },
    "papermill": {
     "duration": 0.027443,
     "end_time": "2022-11-11T20:05:52.870944",
     "exception": false,
     "start_time": "2022-11-11T20:05:52.843501",
     "status": "completed"
    },
    "tags": []
   },
   "outputs": [],
   "source": [
    "## filter by linemen positions\n",
    "linemen =  players[players[\"officialPosition\"].isin(['T','C','G'])]"
   ]
  },
  {
   "cell_type": "code",
   "execution_count": 5,
   "id": "e66c9bb5",
   "metadata": {
    "execution": {
     "iopub.execute_input": "2022-11-11T20:05:52.900664Z",
     "iopub.status.busy": "2022-11-11T20:05:52.900125Z",
     "iopub.status.idle": "2022-11-11T20:05:52.974795Z",
     "shell.execute_reply": "2022-11-11T20:05:52.973365Z"
    },
    "papermill": {
     "duration": 0.092716,
     "end_time": "2022-11-11T20:05:52.977569",
     "exception": false,
     "start_time": "2022-11-11T20:05:52.884853",
     "status": "completed"
    },
    "tags": []
   },
   "outputs": [],
   "source": [
    "## merge with pff dataset to get stats on the linemen\n",
    "stats_data = pd.merge(pff, linemen, how='inner', on='nflId')"
   ]
  },
  {
   "cell_type": "code",
   "execution_count": 6,
   "id": "72a319c6",
   "metadata": {
    "execution": {
     "iopub.execute_input": "2022-11-11T20:05:53.011294Z",
     "iopub.status.busy": "2022-11-11T20:05:53.010814Z",
     "iopub.status.idle": "2022-11-11T20:05:53.057741Z",
     "shell.execute_reply": "2022-11-11T20:05:53.055942Z"
    },
    "papermill": {
     "duration": 0.068381,
     "end_time": "2022-11-11T20:05:53.060519",
     "exception": false,
     "start_time": "2022-11-11T20:05:52.992138",
     "status": "completed"
    },
    "tags": []
   },
   "outputs": [],
   "source": [
    "## filter by play, only interested in pass plays\n",
    "stats_data = stats_data[stats_data['pff_role'] == 'Pass Block']"
   ]
  },
  {
   "cell_type": "code",
   "execution_count": 7,
   "id": "81bc0c57",
   "metadata": {
    "execution": {
     "iopub.execute_input": "2022-11-11T20:05:53.095867Z",
     "iopub.status.busy": "2022-11-11T20:05:53.095158Z",
     "iopub.status.idle": "2022-11-11T20:05:53.480947Z",
     "shell.execute_reply": "2022-11-11T20:05:53.479661Z"
    },
    "papermill": {
     "duration": 0.406936,
     "end_time": "2022-11-11T20:05:53.483646",
     "exception": false,
     "start_time": "2022-11-11T20:05:53.076710",
     "status": "completed"
    },
    "tags": []
   },
   "outputs": [],
   "source": [
    "## get age of linemen\n",
    "today = datetime.today()\n",
    "stats_data['birthDate'] = pd.to_datetime(stats_data['birthDate'], format='%Y-%m-%d')\n",
    "stats_data['age'] = stats_data['birthDate'].apply(lambda x: today.year - x.year - ((today.month, today.day) < (x.month, x.day)))"
   ]
  },
  {
   "cell_type": "code",
   "execution_count": 8,
   "id": "56af38cf",
   "metadata": {
    "execution": {
     "iopub.execute_input": "2022-11-11T20:05:53.513570Z",
     "iopub.status.busy": "2022-11-11T20:05:53.512483Z",
     "iopub.status.idle": "2022-11-11T20:05:53.531997Z",
     "shell.execute_reply": "2022-11-11T20:05:53.530575Z"
    },
    "papermill": {
     "duration": 0.037923,
     "end_time": "2022-11-11T20:05:53.535027",
     "exception": false,
     "start_time": "2022-11-11T20:05:53.497104",
     "status": "completed"
    },
    "tags": []
   },
   "outputs": [],
   "source": [
    "## remove unwanted columns\n",
    "columns = ['pff_positionLinedUp', 'pff_hit', 'pff_hurry', 'pff_sack', 'pff_nflIdBlockedPlayer','birthDate','pff_role','pff_backFieldBlock','pff_beatenByDefender']\n",
    "stats_data.drop(columns, axis=1, inplace=True)"
   ]
  },
  {
   "cell_type": "code",
   "execution_count": 9,
   "id": "bfb5c1a2",
   "metadata": {
    "execution": {
     "iopub.execute_input": "2022-11-11T20:05:53.564841Z",
     "iopub.status.busy": "2022-11-11T20:05:53.564342Z",
     "iopub.status.idle": "2022-11-11T20:05:53.589445Z",
     "shell.execute_reply": "2022-11-11T20:05:53.588051Z"
    },
    "papermill": {
     "duration": 0.043066,
     "end_time": "2022-11-11T20:05:53.591892",
     "exception": false,
     "start_time": "2022-11-11T20:05:53.548826",
     "status": "completed"
    },
    "tags": []
   },
   "outputs": [
    {
     "data": {
      "text/html": [
       "<div>\n",
       "<style scoped>\n",
       "    .dataframe tbody tr th:only-of-type {\n",
       "        vertical-align: middle;\n",
       "    }\n",
       "\n",
       "    .dataframe tbody tr th {\n",
       "        vertical-align: top;\n",
       "    }\n",
       "\n",
       "    .dataframe thead th {\n",
       "        text-align: right;\n",
       "    }\n",
       "</style>\n",
       "<table border=\"1\" class=\"dataframe\">\n",
       "  <thead>\n",
       "    <tr style=\"text-align: right;\">\n",
       "      <th></th>\n",
       "      <th>gameId</th>\n",
       "      <th>playId</th>\n",
       "      <th>nflId</th>\n",
       "      <th>pff_hitAllowed</th>\n",
       "      <th>pff_hurryAllowed</th>\n",
       "      <th>pff_sackAllowed</th>\n",
       "      <th>pff_blockType</th>\n",
       "      <th>height</th>\n",
       "      <th>weight</th>\n",
       "      <th>collegeName</th>\n",
       "      <th>officialPosition</th>\n",
       "      <th>displayName</th>\n",
       "      <th>age</th>\n",
       "    </tr>\n",
       "  </thead>\n",
       "  <tbody>\n",
       "    <tr>\n",
       "      <th>0</th>\n",
       "      <td>2021090900</td>\n",
       "      <td>97</td>\n",
       "      <td>40151</td>\n",
       "      <td>0.0</td>\n",
       "      <td>0.0</td>\n",
       "      <td>0.0</td>\n",
       "      <td>SW</td>\n",
       "      <td>6-4</td>\n",
       "      <td>319</td>\n",
       "      <td>Colorado State-Pueblo</td>\n",
       "      <td>C</td>\n",
       "      <td>Ryan Jensen</td>\n",
       "      <td>31.0</td>\n",
       "    </tr>\n",
       "    <tr>\n",
       "      <th>1</th>\n",
       "      <td>2021090900</td>\n",
       "      <td>410</td>\n",
       "      <td>40151</td>\n",
       "      <td>0.0</td>\n",
       "      <td>0.0</td>\n",
       "      <td>0.0</td>\n",
       "      <td>PP</td>\n",
       "      <td>6-4</td>\n",
       "      <td>319</td>\n",
       "      <td>Colorado State-Pueblo</td>\n",
       "      <td>C</td>\n",
       "      <td>Ryan Jensen</td>\n",
       "      <td>31.0</td>\n",
       "    </tr>\n",
       "    <tr>\n",
       "      <th>2</th>\n",
       "      <td>2021090900</td>\n",
       "      <td>434</td>\n",
       "      <td>40151</td>\n",
       "      <td>0.0</td>\n",
       "      <td>0.0</td>\n",
       "      <td>0.0</td>\n",
       "      <td>NB</td>\n",
       "      <td>6-4</td>\n",
       "      <td>319</td>\n",
       "      <td>Colorado State-Pueblo</td>\n",
       "      <td>C</td>\n",
       "      <td>Ryan Jensen</td>\n",
       "      <td>31.0</td>\n",
       "    </tr>\n",
       "    <tr>\n",
       "      <th>3</th>\n",
       "      <td>2021090900</td>\n",
       "      <td>456</td>\n",
       "      <td>40151</td>\n",
       "      <td>0.0</td>\n",
       "      <td>0.0</td>\n",
       "      <td>0.0</td>\n",
       "      <td>CL</td>\n",
       "      <td>6-4</td>\n",
       "      <td>319</td>\n",
       "      <td>Colorado State-Pueblo</td>\n",
       "      <td>C</td>\n",
       "      <td>Ryan Jensen</td>\n",
       "      <td>31.0</td>\n",
       "    </tr>\n",
       "    <tr>\n",
       "      <th>4</th>\n",
       "      <td>2021090900</td>\n",
       "      <td>480</td>\n",
       "      <td>40151</td>\n",
       "      <td>0.0</td>\n",
       "      <td>0.0</td>\n",
       "      <td>0.0</td>\n",
       "      <td>CL</td>\n",
       "      <td>6-4</td>\n",
       "      <td>319</td>\n",
       "      <td>Colorado State-Pueblo</td>\n",
       "      <td>C</td>\n",
       "      <td>Ryan Jensen</td>\n",
       "      <td>31.0</td>\n",
       "    </tr>\n",
       "  </tbody>\n",
       "</table>\n",
       "</div>"
      ],
      "text/plain": [
       "       gameId  playId  nflId  pff_hitAllowed  pff_hurryAllowed  \\\n",
       "0  2021090900      97  40151             0.0               0.0   \n",
       "1  2021090900     410  40151             0.0               0.0   \n",
       "2  2021090900     434  40151             0.0               0.0   \n",
       "3  2021090900     456  40151             0.0               0.0   \n",
       "4  2021090900     480  40151             0.0               0.0   \n",
       "\n",
       "   pff_sackAllowed pff_blockType height  weight            collegeName  \\\n",
       "0              0.0            SW    6-4     319  Colorado State-Pueblo   \n",
       "1              0.0            PP    6-4     319  Colorado State-Pueblo   \n",
       "2              0.0            NB    6-4     319  Colorado State-Pueblo   \n",
       "3              0.0            CL    6-4     319  Colorado State-Pueblo   \n",
       "4              0.0            CL    6-4     319  Colorado State-Pueblo   \n",
       "\n",
       "  officialPosition  displayName   age  \n",
       "0                C  Ryan Jensen  31.0  \n",
       "1                C  Ryan Jensen  31.0  \n",
       "2                C  Ryan Jensen  31.0  \n",
       "3                C  Ryan Jensen  31.0  \n",
       "4                C  Ryan Jensen  31.0  "
      ]
     },
     "execution_count": 9,
     "metadata": {},
     "output_type": "execute_result"
    }
   ],
   "source": [
    "stats_data.head()"
   ]
  },
  {
   "cell_type": "markdown",
   "id": "a76d2947",
   "metadata": {
    "papermill": {
     "duration": 0.013515,
     "end_time": "2022-11-11T20:05:53.619214",
     "exception": false,
     "start_time": "2022-11-11T20:05:53.605699",
     "status": "completed"
    },
    "tags": []
   },
   "source": [
    "### Distribution of weight of the linemen"
   ]
  },
  {
   "cell_type": "code",
   "execution_count": 10,
   "id": "44c58b8c",
   "metadata": {
    "execution": {
     "iopub.execute_input": "2022-11-11T20:05:53.649075Z",
     "iopub.status.busy": "2022-11-11T20:05:53.648627Z",
     "iopub.status.idle": "2022-11-11T20:05:54.653608Z",
     "shell.execute_reply": "2022-11-11T20:05:54.652147Z"
    },
    "papermill": {
     "duration": 1.02311,
     "end_time": "2022-11-11T20:05:54.656165",
     "exception": false,
     "start_time": "2022-11-11T20:05:53.633055",
     "status": "completed"
    },
    "tags": []
   },
   "outputs": [
    {
     "data": {
      "text/html": [
       "        <script type=\"text/javascript\">\n",
       "        window.PlotlyConfig = {MathJaxConfig: 'local'};\n",
       "        if (window.MathJax && window.MathJax.Hub && window.MathJax.Hub.Config) {window.MathJax.Hub.Config({SVG: {font: \"STIX-Web\"}});}\n",
       "        if (typeof require !== 'undefined') {\n",
       "        require.undef(\"plotly\");\n",
       "        requirejs.config({\n",
       "            paths: {\n",
       "                'plotly': ['https://cdn.plot.ly/plotly-2.14.0.min']\n",
       "            }\n",
       "        });\n",
       "        require(['plotly'], function(Plotly) {\n",
       "            window._Plotly = Plotly;\n",
       "        });\n",
       "        }\n",
       "        </script>\n",
       "        "
      ]
     },
     "metadata": {},
     "output_type": "display_data"
    },
    {
     "data": {
      "text/html": [
       "<div>                            <div id=\"a196e1a3-d1f2-4ae3-8e26-5f9ed8674342\" class=\"plotly-graph-div\" style=\"height:525px; width:100%;\"></div>            <script type=\"text/javascript\">                require([\"plotly\"], function(Plotly) {                    window.PLOTLYENV=window.PLOTLYENV || {};                                    if (document.getElementById(\"a196e1a3-d1f2-4ae3-8e26-5f9ed8674342\")) {                    Plotly.newPlot(                        \"a196e1a3-d1f2-4ae3-8e26-5f9ed8674342\",                        [{\"alignmentgroup\":\"True\",\"bingroup\":\"x\",\"hovertemplate\":\"weight=%{x}<br>count=%{y}<extra></extra>\",\"legendgroup\":\"\",\"marker\":{\"color\":\"#636efa\",\"pattern\":{\"shape\":\"\"}},\"name\":\"\",\"offsetgroup\":\"\",\"orientation\":\"v\",\"showlegend\":false,\"x\":[328,330,315,330,311,320,314,325,330,320,325,315,335,295,305,315,335,308,325,300,308,310,305,315,317,311,320,304,307,315,310,319,295,300,320,309,309,315,310,320,315,330,310,336,315,315,301,301,300,305,310,328,316,317,310,306,325,325,330,315,329,316,313,310,307,312,338,305,328,315,307,325,315,330,323,310,309,310,300,310,380,340,320,320,318,300,325,310,310,330,315,308,313,309,325,301,309,308,303,310,306,298,324,320,314,305,322,313,315,313,299,313,300,314,320,320,320,325,303,330,325,284,312,335,312,307,320,260,339,329,317,330,315,325,311,312,310,305,327,315,305,298,297,320,315,345,321,320,305,292,302,303,315,293,332,317,344,311,305,285,295,307,302,318,320,312,305,307,305,315,322,306,312,329,312,310,315,325,310,316,308,307,308,312,310,310,316,315,308,323,305,324,326,300,314,311,314,308,300,299,310,300,334,326,320,355,322,310,319,322,310,332,310,305,290,315,328,303,345,295,330,335,305,315,321,325,296,320,300,317,310,307,350,321,290,315,318,330,315,310,270,325,305,310,305,314,325,308,345,295,299,312,316,320,297,310,321,344,295,320,310,300,315,305,332,315,315,330,305,325,330,315,319,300,330],\"xaxis\":\"x\",\"yaxis\":\"y\",\"type\":\"histogram\"}],                        {\"template\":{\"data\":{\"histogram2dcontour\":[{\"type\":\"histogram2dcontour\",\"colorbar\":{\"outlinewidth\":0,\"ticks\":\"\"},\"colorscale\":[[0.0,\"#0d0887\"],[0.1111111111111111,\"#46039f\"],[0.2222222222222222,\"#7201a8\"],[0.3333333333333333,\"#9c179e\"],[0.4444444444444444,\"#bd3786\"],[0.5555555555555556,\"#d8576b\"],[0.6666666666666666,\"#ed7953\"],[0.7777777777777778,\"#fb9f3a\"],[0.8888888888888888,\"#fdca26\"],[1.0,\"#f0f921\"]]}],\"choropleth\":[{\"type\":\"choropleth\",\"colorbar\":{\"outlinewidth\":0,\"ticks\":\"\"}}],\"histogram2d\":[{\"type\":\"histogram2d\",\"colorbar\":{\"outlinewidth\":0,\"ticks\":\"\"},\"colorscale\":[[0.0,\"#0d0887\"],[0.1111111111111111,\"#46039f\"],[0.2222222222222222,\"#7201a8\"],[0.3333333333333333,\"#9c179e\"],[0.4444444444444444,\"#bd3786\"],[0.5555555555555556,\"#d8576b\"],[0.6666666666666666,\"#ed7953\"],[0.7777777777777778,\"#fb9f3a\"],[0.8888888888888888,\"#fdca26\"],[1.0,\"#f0f921\"]]}],\"heatmap\":[{\"type\":\"heatmap\",\"colorbar\":{\"outlinewidth\":0,\"ticks\":\"\"},\"colorscale\":[[0.0,\"#0d0887\"],[0.1111111111111111,\"#46039f\"],[0.2222222222222222,\"#7201a8\"],[0.3333333333333333,\"#9c179e\"],[0.4444444444444444,\"#bd3786\"],[0.5555555555555556,\"#d8576b\"],[0.6666666666666666,\"#ed7953\"],[0.7777777777777778,\"#fb9f3a\"],[0.8888888888888888,\"#fdca26\"],[1.0,\"#f0f921\"]]}],\"heatmapgl\":[{\"type\":\"heatmapgl\",\"colorbar\":{\"outlinewidth\":0,\"ticks\":\"\"},\"colorscale\":[[0.0,\"#0d0887\"],[0.1111111111111111,\"#46039f\"],[0.2222222222222222,\"#7201a8\"],[0.3333333333333333,\"#9c179e\"],[0.4444444444444444,\"#bd3786\"],[0.5555555555555556,\"#d8576b\"],[0.6666666666666666,\"#ed7953\"],[0.7777777777777778,\"#fb9f3a\"],[0.8888888888888888,\"#fdca26\"],[1.0,\"#f0f921\"]]}],\"contourcarpet\":[{\"type\":\"contourcarpet\",\"colorbar\":{\"outlinewidth\":0,\"ticks\":\"\"}}],\"contour\":[{\"type\":\"contour\",\"colorbar\":{\"outlinewidth\":0,\"ticks\":\"\"},\"colorscale\":[[0.0,\"#0d0887\"],[0.1111111111111111,\"#46039f\"],[0.2222222222222222,\"#7201a8\"],[0.3333333333333333,\"#9c179e\"],[0.4444444444444444,\"#bd3786\"],[0.5555555555555556,\"#d8576b\"],[0.6666666666666666,\"#ed7953\"],[0.7777777777777778,\"#fb9f3a\"],[0.8888888888888888,\"#fdca26\"],[1.0,\"#f0f921\"]]}],\"surface\":[{\"type\":\"surface\",\"colorbar\":{\"outlinewidth\":0,\"ticks\":\"\"},\"colorscale\":[[0.0,\"#0d0887\"],[0.1111111111111111,\"#46039f\"],[0.2222222222222222,\"#7201a8\"],[0.3333333333333333,\"#9c179e\"],[0.4444444444444444,\"#bd3786\"],[0.5555555555555556,\"#d8576b\"],[0.6666666666666666,\"#ed7953\"],[0.7777777777777778,\"#fb9f3a\"],[0.8888888888888888,\"#fdca26\"],[1.0,\"#f0f921\"]]}],\"mesh3d\":[{\"type\":\"mesh3d\",\"colorbar\":{\"outlinewidth\":0,\"ticks\":\"\"}}],\"scatter\":[{\"fillpattern\":{\"fillmode\":\"overlay\",\"size\":10,\"solidity\":0.2},\"type\":\"scatter\"}],\"parcoords\":[{\"type\":\"parcoords\",\"line\":{\"colorbar\":{\"outlinewidth\":0,\"ticks\":\"\"}}}],\"scatterpolargl\":[{\"type\":\"scatterpolargl\",\"marker\":{\"colorbar\":{\"outlinewidth\":0,\"ticks\":\"\"}}}],\"bar\":[{\"error_x\":{\"color\":\"#2a3f5f\"},\"error_y\":{\"color\":\"#2a3f5f\"},\"marker\":{\"line\":{\"color\":\"#E5ECF6\",\"width\":0.5},\"pattern\":{\"fillmode\":\"overlay\",\"size\":10,\"solidity\":0.2}},\"type\":\"bar\"}],\"scattergeo\":[{\"type\":\"scattergeo\",\"marker\":{\"colorbar\":{\"outlinewidth\":0,\"ticks\":\"\"}}}],\"scatterpolar\":[{\"type\":\"scatterpolar\",\"marker\":{\"colorbar\":{\"outlinewidth\":0,\"ticks\":\"\"}}}],\"histogram\":[{\"marker\":{\"pattern\":{\"fillmode\":\"overlay\",\"size\":10,\"solidity\":0.2}},\"type\":\"histogram\"}],\"scattergl\":[{\"type\":\"scattergl\",\"marker\":{\"colorbar\":{\"outlinewidth\":0,\"ticks\":\"\"}}}],\"scatter3d\":[{\"type\":\"scatter3d\",\"line\":{\"colorbar\":{\"outlinewidth\":0,\"ticks\":\"\"}},\"marker\":{\"colorbar\":{\"outlinewidth\":0,\"ticks\":\"\"}}}],\"scattermapbox\":[{\"type\":\"scattermapbox\",\"marker\":{\"colorbar\":{\"outlinewidth\":0,\"ticks\":\"\"}}}],\"scatterternary\":[{\"type\":\"scatterternary\",\"marker\":{\"colorbar\":{\"outlinewidth\":0,\"ticks\":\"\"}}}],\"scattercarpet\":[{\"type\":\"scattercarpet\",\"marker\":{\"colorbar\":{\"outlinewidth\":0,\"ticks\":\"\"}}}],\"carpet\":[{\"aaxis\":{\"endlinecolor\":\"#2a3f5f\",\"gridcolor\":\"white\",\"linecolor\":\"white\",\"minorgridcolor\":\"white\",\"startlinecolor\":\"#2a3f5f\"},\"baxis\":{\"endlinecolor\":\"#2a3f5f\",\"gridcolor\":\"white\",\"linecolor\":\"white\",\"minorgridcolor\":\"white\",\"startlinecolor\":\"#2a3f5f\"},\"type\":\"carpet\"}],\"table\":[{\"cells\":{\"fill\":{\"color\":\"#EBF0F8\"},\"line\":{\"color\":\"white\"}},\"header\":{\"fill\":{\"color\":\"#C8D4E3\"},\"line\":{\"color\":\"white\"}},\"type\":\"table\"}],\"barpolar\":[{\"marker\":{\"line\":{\"color\":\"#E5ECF6\",\"width\":0.5},\"pattern\":{\"fillmode\":\"overlay\",\"size\":10,\"solidity\":0.2}},\"type\":\"barpolar\"}],\"pie\":[{\"automargin\":true,\"type\":\"pie\"}]},\"layout\":{\"autotypenumbers\":\"strict\",\"colorway\":[\"#636efa\",\"#EF553B\",\"#00cc96\",\"#ab63fa\",\"#FFA15A\",\"#19d3f3\",\"#FF6692\",\"#B6E880\",\"#FF97FF\",\"#FECB52\"],\"font\":{\"color\":\"#2a3f5f\"},\"hovermode\":\"closest\",\"hoverlabel\":{\"align\":\"left\"},\"paper_bgcolor\":\"white\",\"plot_bgcolor\":\"#E5ECF6\",\"polar\":{\"bgcolor\":\"#E5ECF6\",\"angularaxis\":{\"gridcolor\":\"white\",\"linecolor\":\"white\",\"ticks\":\"\"},\"radialaxis\":{\"gridcolor\":\"white\",\"linecolor\":\"white\",\"ticks\":\"\"}},\"ternary\":{\"bgcolor\":\"#E5ECF6\",\"aaxis\":{\"gridcolor\":\"white\",\"linecolor\":\"white\",\"ticks\":\"\"},\"baxis\":{\"gridcolor\":\"white\",\"linecolor\":\"white\",\"ticks\":\"\"},\"caxis\":{\"gridcolor\":\"white\",\"linecolor\":\"white\",\"ticks\":\"\"}},\"coloraxis\":{\"colorbar\":{\"outlinewidth\":0,\"ticks\":\"\"}},\"colorscale\":{\"sequential\":[[0.0,\"#0d0887\"],[0.1111111111111111,\"#46039f\"],[0.2222222222222222,\"#7201a8\"],[0.3333333333333333,\"#9c179e\"],[0.4444444444444444,\"#bd3786\"],[0.5555555555555556,\"#d8576b\"],[0.6666666666666666,\"#ed7953\"],[0.7777777777777778,\"#fb9f3a\"],[0.8888888888888888,\"#fdca26\"],[1.0,\"#f0f921\"]],\"sequentialminus\":[[0.0,\"#0d0887\"],[0.1111111111111111,\"#46039f\"],[0.2222222222222222,\"#7201a8\"],[0.3333333333333333,\"#9c179e\"],[0.4444444444444444,\"#bd3786\"],[0.5555555555555556,\"#d8576b\"],[0.6666666666666666,\"#ed7953\"],[0.7777777777777778,\"#fb9f3a\"],[0.8888888888888888,\"#fdca26\"],[1.0,\"#f0f921\"]],\"diverging\":[[0,\"#8e0152\"],[0.1,\"#c51b7d\"],[0.2,\"#de77ae\"],[0.3,\"#f1b6da\"],[0.4,\"#fde0ef\"],[0.5,\"#f7f7f7\"],[0.6,\"#e6f5d0\"],[0.7,\"#b8e186\"],[0.8,\"#7fbc41\"],[0.9,\"#4d9221\"],[1,\"#276419\"]]},\"xaxis\":{\"gridcolor\":\"white\",\"linecolor\":\"white\",\"ticks\":\"\",\"title\":{\"standoff\":15},\"zerolinecolor\":\"white\",\"automargin\":true,\"zerolinewidth\":2},\"yaxis\":{\"gridcolor\":\"white\",\"linecolor\":\"white\",\"ticks\":\"\",\"title\":{\"standoff\":15},\"zerolinecolor\":\"white\",\"automargin\":true,\"zerolinewidth\":2},\"scene\":{\"xaxis\":{\"backgroundcolor\":\"#E5ECF6\",\"gridcolor\":\"white\",\"linecolor\":\"white\",\"showbackground\":true,\"ticks\":\"\",\"zerolinecolor\":\"white\",\"gridwidth\":2},\"yaxis\":{\"backgroundcolor\":\"#E5ECF6\",\"gridcolor\":\"white\",\"linecolor\":\"white\",\"showbackground\":true,\"ticks\":\"\",\"zerolinecolor\":\"white\",\"gridwidth\":2},\"zaxis\":{\"backgroundcolor\":\"#E5ECF6\",\"gridcolor\":\"white\",\"linecolor\":\"white\",\"showbackground\":true,\"ticks\":\"\",\"zerolinecolor\":\"white\",\"gridwidth\":2}},\"shapedefaults\":{\"line\":{\"color\":\"#2a3f5f\"}},\"annotationdefaults\":{\"arrowcolor\":\"#2a3f5f\",\"arrowhead\":0,\"arrowwidth\":1},\"geo\":{\"bgcolor\":\"white\",\"landcolor\":\"#E5ECF6\",\"subunitcolor\":\"white\",\"showland\":true,\"showlakes\":true,\"lakecolor\":\"white\"},\"title\":{\"x\":0.05},\"mapbox\":{\"style\":\"light\"}}},\"xaxis\":{\"anchor\":\"y\",\"domain\":[0.0,1.0],\"title\":{\"text\":\"weight\"}},\"yaxis\":{\"anchor\":\"x\",\"domain\":[0.0,1.0],\"title\":{\"text\":\"count\"}},\"legend\":{\"tracegroupgap\":0},\"margin\":{\"t\":60},\"barmode\":\"relative\"},                        {\"responsive\": true}                    ).then(function(){\n",
       "                            \n",
       "var gd = document.getElementById('a196e1a3-d1f2-4ae3-8e26-5f9ed8674342');\n",
       "var x = new MutationObserver(function (mutations, observer) {{\n",
       "        var display = window.getComputedStyle(gd).display;\n",
       "        if (!display || display === 'none') {{\n",
       "            console.log([gd, 'removed!']);\n",
       "            Plotly.purge(gd);\n",
       "            observer.disconnect();\n",
       "        }}\n",
       "}});\n",
       "\n",
       "// Listen for the removal of the full notebook cells\n",
       "var notebookContainer = gd.closest('#notebook-container');\n",
       "if (notebookContainer) {{\n",
       "    x.observe(notebookContainer, {childList: true});\n",
       "}}\n",
       "\n",
       "// Listen for the clearing of the current output cell\n",
       "var outputEl = gd.closest('.output');\n",
       "if (outputEl) {{\n",
       "    x.observe(outputEl, {childList: true});\n",
       "}}\n",
       "\n",
       "                        })                };                });            </script>        </div>"
      ]
     },
     "metadata": {},
     "output_type": "display_data"
    }
   ],
   "source": [
    "weights = stats_data.sort_values(['nflId', 'weight'], ascending = [True, False]).groupby('nflId').first().reset_index()\n",
    "fig = px.histogram(weights, x=\"weight\")\n",
    "fig.show()"
   ]
  },
  {
   "cell_type": "markdown",
   "id": "25b16338",
   "metadata": {
    "papermill": {
     "duration": 0.014328,
     "end_time": "2022-11-11T20:05:54.685223",
     "exception": false,
     "start_time": "2022-11-11T20:05:54.670895",
     "status": "completed"
    },
    "tags": []
   },
   "source": [
    "### Distribution of height of the linemen"
   ]
  },
  {
   "cell_type": "code",
   "execution_count": 11,
   "id": "a02c644b",
   "metadata": {
    "execution": {
     "iopub.execute_input": "2022-11-11T20:05:54.717645Z",
     "iopub.status.busy": "2022-11-11T20:05:54.717213Z",
     "iopub.status.idle": "2022-11-11T20:05:54.807118Z",
     "shell.execute_reply": "2022-11-11T20:05:54.805798Z"
    },
    "papermill": {
     "duration": 0.109504,
     "end_time": "2022-11-11T20:05:54.810009",
     "exception": false,
     "start_time": "2022-11-11T20:05:54.700505",
     "status": "completed"
    },
    "tags": []
   },
   "outputs": [
    {
     "data": {
      "text/html": [
       "<div>                            <div id=\"cf703992-a7b3-4865-9cd0-f7f5d35def70\" class=\"plotly-graph-div\" style=\"height:525px; width:100%;\"></div>            <script type=\"text/javascript\">                require([\"plotly\"], function(Plotly) {                    window.PLOTLYENV=window.PLOTLYENV || {};                                    if (document.getElementById(\"cf703992-a7b3-4865-9cd0-f7f5d35def70\")) {                    Plotly.newPlot(                        \"cf703992-a7b3-4865-9cd0-f7f5d35def70\",                        [{\"alignmentgroup\":\"True\",\"bingroup\":\"x\",\"hovertemplate\":\"height=%{x}<br>count=%{y}<extra></extra>\",\"legendgroup\":\"\",\"marker\":{\"color\":\"#636efa\",\"pattern\":{\"shape\":\"\"}},\"name\":\"\",\"offsetgroup\":\"\",\"orientation\":\"v\",\"showlegend\":false,\"x\":[\"6-4\",\"6-7\",\"6-4\",\"6-4\",\"6-4\",\"6-5\",\"6-5\",\"6-5\",\"6-8\",\"6-5\",\"6-8\",\"6-2\",\"6-6\",\"6-3\",\"6-6\",\"6-4\",\"6-5\",\"6-3\",\"6-6\",\"6-3\",\"6-3\",\"6-5\",\"6-3\",\"6-7\",\"6-6\",\"6-5\",\"6-4\",\"6-5\",\"6-4\",\"6-5\",\"6-5\",\"6-4\",\"6-4\",\"6-2\",\"6-9\",\"6-5\",\"6-7\",\"6-4\",\"6-4\",\"6-4\",\"6-6\",\"6-6\",\"6-5\",\"6-3\",\"6-3\",\"6-6\",\"6-6\",\"6-3\",\"6-3\",\"6-3\",\"6-5\",\"6-8\",\"6-3\",\"6-3\",\"6-3\",\"6-6\",\"6-4\",\"6-6\",\"6-6\",\"6-5\",\"6-6\",\"6-7\",\"6-5\",\"6-5\",\"6-5\",\"6-3\",\"6-6\",\"6-6\",\"6-8\",\"6-5\",\"6-4\",\"6-3\",\"6-3\",\"6-6\",\"6-4\",\"6-1\",\"6-4\",\"6-4\",\"6-3\",\"6-5\",\"6-8\",\"6-5\",\"6-4\",\"6-4\",\"6-4\",\"6-3\",\"6-6\",\"6-5\",\"6-4\",\"6-4\",\"6-6\",\"6-6\",\"6-5\",\"6-4\",\"6-5\",\"6-6\",\"6-3\",\"6-5\",\"6-4\",\"6-6\",\"6-4\",\"6-6\",\"6-5\",\"6-6\",\"6-5\",\"6-4\",\"6-5\",\"6-6\",\"6-5\",\"6-3\",\"6-4\",\"6-3\",\"6-5\",\"6-6\",\"6-6\",\"6-6\",\"6-5\",\"6-5\",\"6-3\",\"6-6\",\"6-7\",\"6-4\",\"6-7\",\"6-4\",\"6-4\",\"6-4\",\"6-5\",\"6-5\",\"6-4\",\"6-6\",\"6-7\",\"6-5\",\"6-8\",\"6-8\",\"6-5\",\"6-4\",\"6-2\",\"6-4\",\"6-2\",\"6-6\",\"6-3\",\"6-5\",\"6-7\",\"6-8\",\"6-6\",\"6-8\",\"6-5\",\"6-6\",\"6-6\",\"6-5\",\"6-2\",\"6-6\",\"6-4\",\"6-4\",\"6-7\",\"6-5\",\"6-8\",\"6-5\",\"6-6\",\"6-5\",\"6-2\",\"6-5\",\"6-2\",\"6-6\",\"6-5\",\"6-3\",\"6-4\",\"6-4\",\"6-3\",\"6-5\",\"6-5\",\"6-6\",\"6-5\",\"6-3\",\"6-5\",\"6-5\",\"6-4\",\"6-6\",\"6-6\",\"6-3\",\"6-5\",\"6-6\",\"6-3\",\"6-4\",\"6-5\",\"6-4\",\"6-3\",\"6-6\",\"6-6\",\"6-5\",\"6-7\",\"6-6\",\"6-7\",\"6-5\",\"6-5\",\"6-2\",\"6-7\",\"6-4\",\"6-4\",\"6-7\",\"6-5\",\"6-4\",\"6-4\",\"6-5\",\"6-5\",\"6-7\",\"6-5\",\"6-6\",\"6-3\",\"6-5\",\"6-6\",\"6-3\",\"6-7\",\"6-4\",\"6-4\",\"6-4\",\"6-7\",\"6-7\",\"6-5\",\"6-4\",\"6-4\",\"6-4\",\"6-6\",\"6-8\",\"6-4\",\"6-4\",\"6-5\",\"6-3\",\"6-4\",\"6-4\",\"6-3\",\"6-3\",\"6-3\",\"6-5\",\"6-5\",\"6-5\",\"6-5\",\"6-7\",\"6-4\",\"6-6\",\"6-3\",\"6-6\",\"6-3\",\"6-4\",\"6-5\",\"6-5\",\"6-6\",\"6-6\",\"6-5\",\"6-5\",\"6-6\",\"6-5\",\"6-5\",\"6-5\",\"6-6\",\"6-3\",\"6-9\",\"6-7\",\"6-5\",\"6-3\",\"6-5\",\"6-3\",\"6-5\",\"6-5\",\"6-6\",\"6-5\",\"6-8\",\"6-3\",\"6-7\",\"6-6\",\"6-5\",\"6-6\",\"6-5\",\"6-5\",\"6-6\"],\"xaxis\":\"x\",\"yaxis\":\"y\",\"type\":\"histogram\"}],                        {\"template\":{\"data\":{\"histogram2dcontour\":[{\"type\":\"histogram2dcontour\",\"colorbar\":{\"outlinewidth\":0,\"ticks\":\"\"},\"colorscale\":[[0.0,\"#0d0887\"],[0.1111111111111111,\"#46039f\"],[0.2222222222222222,\"#7201a8\"],[0.3333333333333333,\"#9c179e\"],[0.4444444444444444,\"#bd3786\"],[0.5555555555555556,\"#d8576b\"],[0.6666666666666666,\"#ed7953\"],[0.7777777777777778,\"#fb9f3a\"],[0.8888888888888888,\"#fdca26\"],[1.0,\"#f0f921\"]]}],\"choropleth\":[{\"type\":\"choropleth\",\"colorbar\":{\"outlinewidth\":0,\"ticks\":\"\"}}],\"histogram2d\":[{\"type\":\"histogram2d\",\"colorbar\":{\"outlinewidth\":0,\"ticks\":\"\"},\"colorscale\":[[0.0,\"#0d0887\"],[0.1111111111111111,\"#46039f\"],[0.2222222222222222,\"#7201a8\"],[0.3333333333333333,\"#9c179e\"],[0.4444444444444444,\"#bd3786\"],[0.5555555555555556,\"#d8576b\"],[0.6666666666666666,\"#ed7953\"],[0.7777777777777778,\"#fb9f3a\"],[0.8888888888888888,\"#fdca26\"],[1.0,\"#f0f921\"]]}],\"heatmap\":[{\"type\":\"heatmap\",\"colorbar\":{\"outlinewidth\":0,\"ticks\":\"\"},\"colorscale\":[[0.0,\"#0d0887\"],[0.1111111111111111,\"#46039f\"],[0.2222222222222222,\"#7201a8\"],[0.3333333333333333,\"#9c179e\"],[0.4444444444444444,\"#bd3786\"],[0.5555555555555556,\"#d8576b\"],[0.6666666666666666,\"#ed7953\"],[0.7777777777777778,\"#fb9f3a\"],[0.8888888888888888,\"#fdca26\"],[1.0,\"#f0f921\"]]}],\"heatmapgl\":[{\"type\":\"heatmapgl\",\"colorbar\":{\"outlinewidth\":0,\"ticks\":\"\"},\"colorscale\":[[0.0,\"#0d0887\"],[0.1111111111111111,\"#46039f\"],[0.2222222222222222,\"#7201a8\"],[0.3333333333333333,\"#9c179e\"],[0.4444444444444444,\"#bd3786\"],[0.5555555555555556,\"#d8576b\"],[0.6666666666666666,\"#ed7953\"],[0.7777777777777778,\"#fb9f3a\"],[0.8888888888888888,\"#fdca26\"],[1.0,\"#f0f921\"]]}],\"contourcarpet\":[{\"type\":\"contourcarpet\",\"colorbar\":{\"outlinewidth\":0,\"ticks\":\"\"}}],\"contour\":[{\"type\":\"contour\",\"colorbar\":{\"outlinewidth\":0,\"ticks\":\"\"},\"colorscale\":[[0.0,\"#0d0887\"],[0.1111111111111111,\"#46039f\"],[0.2222222222222222,\"#7201a8\"],[0.3333333333333333,\"#9c179e\"],[0.4444444444444444,\"#bd3786\"],[0.5555555555555556,\"#d8576b\"],[0.6666666666666666,\"#ed7953\"],[0.7777777777777778,\"#fb9f3a\"],[0.8888888888888888,\"#fdca26\"],[1.0,\"#f0f921\"]]}],\"surface\":[{\"type\":\"surface\",\"colorbar\":{\"outlinewidth\":0,\"ticks\":\"\"},\"colorscale\":[[0.0,\"#0d0887\"],[0.1111111111111111,\"#46039f\"],[0.2222222222222222,\"#7201a8\"],[0.3333333333333333,\"#9c179e\"],[0.4444444444444444,\"#bd3786\"],[0.5555555555555556,\"#d8576b\"],[0.6666666666666666,\"#ed7953\"],[0.7777777777777778,\"#fb9f3a\"],[0.8888888888888888,\"#fdca26\"],[1.0,\"#f0f921\"]]}],\"mesh3d\":[{\"type\":\"mesh3d\",\"colorbar\":{\"outlinewidth\":0,\"ticks\":\"\"}}],\"scatter\":[{\"fillpattern\":{\"fillmode\":\"overlay\",\"size\":10,\"solidity\":0.2},\"type\":\"scatter\"}],\"parcoords\":[{\"type\":\"parcoords\",\"line\":{\"colorbar\":{\"outlinewidth\":0,\"ticks\":\"\"}}}],\"scatterpolargl\":[{\"type\":\"scatterpolargl\",\"marker\":{\"colorbar\":{\"outlinewidth\":0,\"ticks\":\"\"}}}],\"bar\":[{\"error_x\":{\"color\":\"#2a3f5f\"},\"error_y\":{\"color\":\"#2a3f5f\"},\"marker\":{\"line\":{\"color\":\"#E5ECF6\",\"width\":0.5},\"pattern\":{\"fillmode\":\"overlay\",\"size\":10,\"solidity\":0.2}},\"type\":\"bar\"}],\"scattergeo\":[{\"type\":\"scattergeo\",\"marker\":{\"colorbar\":{\"outlinewidth\":0,\"ticks\":\"\"}}}],\"scatterpolar\":[{\"type\":\"scatterpolar\",\"marker\":{\"colorbar\":{\"outlinewidth\":0,\"ticks\":\"\"}}}],\"histogram\":[{\"marker\":{\"pattern\":{\"fillmode\":\"overlay\",\"size\":10,\"solidity\":0.2}},\"type\":\"histogram\"}],\"scattergl\":[{\"type\":\"scattergl\",\"marker\":{\"colorbar\":{\"outlinewidth\":0,\"ticks\":\"\"}}}],\"scatter3d\":[{\"type\":\"scatter3d\",\"line\":{\"colorbar\":{\"outlinewidth\":0,\"ticks\":\"\"}},\"marker\":{\"colorbar\":{\"outlinewidth\":0,\"ticks\":\"\"}}}],\"scattermapbox\":[{\"type\":\"scattermapbox\",\"marker\":{\"colorbar\":{\"outlinewidth\":0,\"ticks\":\"\"}}}],\"scatterternary\":[{\"type\":\"scatterternary\",\"marker\":{\"colorbar\":{\"outlinewidth\":0,\"ticks\":\"\"}}}],\"scattercarpet\":[{\"type\":\"scattercarpet\",\"marker\":{\"colorbar\":{\"outlinewidth\":0,\"ticks\":\"\"}}}],\"carpet\":[{\"aaxis\":{\"endlinecolor\":\"#2a3f5f\",\"gridcolor\":\"white\",\"linecolor\":\"white\",\"minorgridcolor\":\"white\",\"startlinecolor\":\"#2a3f5f\"},\"baxis\":{\"endlinecolor\":\"#2a3f5f\",\"gridcolor\":\"white\",\"linecolor\":\"white\",\"minorgridcolor\":\"white\",\"startlinecolor\":\"#2a3f5f\"},\"type\":\"carpet\"}],\"table\":[{\"cells\":{\"fill\":{\"color\":\"#EBF0F8\"},\"line\":{\"color\":\"white\"}},\"header\":{\"fill\":{\"color\":\"#C8D4E3\"},\"line\":{\"color\":\"white\"}},\"type\":\"table\"}],\"barpolar\":[{\"marker\":{\"line\":{\"color\":\"#E5ECF6\",\"width\":0.5},\"pattern\":{\"fillmode\":\"overlay\",\"size\":10,\"solidity\":0.2}},\"type\":\"barpolar\"}],\"pie\":[{\"automargin\":true,\"type\":\"pie\"}]},\"layout\":{\"autotypenumbers\":\"strict\",\"colorway\":[\"#636efa\",\"#EF553B\",\"#00cc96\",\"#ab63fa\",\"#FFA15A\",\"#19d3f3\",\"#FF6692\",\"#B6E880\",\"#FF97FF\",\"#FECB52\"],\"font\":{\"color\":\"#2a3f5f\"},\"hovermode\":\"closest\",\"hoverlabel\":{\"align\":\"left\"},\"paper_bgcolor\":\"white\",\"plot_bgcolor\":\"#E5ECF6\",\"polar\":{\"bgcolor\":\"#E5ECF6\",\"angularaxis\":{\"gridcolor\":\"white\",\"linecolor\":\"white\",\"ticks\":\"\"},\"radialaxis\":{\"gridcolor\":\"white\",\"linecolor\":\"white\",\"ticks\":\"\"}},\"ternary\":{\"bgcolor\":\"#E5ECF6\",\"aaxis\":{\"gridcolor\":\"white\",\"linecolor\":\"white\",\"ticks\":\"\"},\"baxis\":{\"gridcolor\":\"white\",\"linecolor\":\"white\",\"ticks\":\"\"},\"caxis\":{\"gridcolor\":\"white\",\"linecolor\":\"white\",\"ticks\":\"\"}},\"coloraxis\":{\"colorbar\":{\"outlinewidth\":0,\"ticks\":\"\"}},\"colorscale\":{\"sequential\":[[0.0,\"#0d0887\"],[0.1111111111111111,\"#46039f\"],[0.2222222222222222,\"#7201a8\"],[0.3333333333333333,\"#9c179e\"],[0.4444444444444444,\"#bd3786\"],[0.5555555555555556,\"#d8576b\"],[0.6666666666666666,\"#ed7953\"],[0.7777777777777778,\"#fb9f3a\"],[0.8888888888888888,\"#fdca26\"],[1.0,\"#f0f921\"]],\"sequentialminus\":[[0.0,\"#0d0887\"],[0.1111111111111111,\"#46039f\"],[0.2222222222222222,\"#7201a8\"],[0.3333333333333333,\"#9c179e\"],[0.4444444444444444,\"#bd3786\"],[0.5555555555555556,\"#d8576b\"],[0.6666666666666666,\"#ed7953\"],[0.7777777777777778,\"#fb9f3a\"],[0.8888888888888888,\"#fdca26\"],[1.0,\"#f0f921\"]],\"diverging\":[[0,\"#8e0152\"],[0.1,\"#c51b7d\"],[0.2,\"#de77ae\"],[0.3,\"#f1b6da\"],[0.4,\"#fde0ef\"],[0.5,\"#f7f7f7\"],[0.6,\"#e6f5d0\"],[0.7,\"#b8e186\"],[0.8,\"#7fbc41\"],[0.9,\"#4d9221\"],[1,\"#276419\"]]},\"xaxis\":{\"gridcolor\":\"white\",\"linecolor\":\"white\",\"ticks\":\"\",\"title\":{\"standoff\":15},\"zerolinecolor\":\"white\",\"automargin\":true,\"zerolinewidth\":2},\"yaxis\":{\"gridcolor\":\"white\",\"linecolor\":\"white\",\"ticks\":\"\",\"title\":{\"standoff\":15},\"zerolinecolor\":\"white\",\"automargin\":true,\"zerolinewidth\":2},\"scene\":{\"xaxis\":{\"backgroundcolor\":\"#E5ECF6\",\"gridcolor\":\"white\",\"linecolor\":\"white\",\"showbackground\":true,\"ticks\":\"\",\"zerolinecolor\":\"white\",\"gridwidth\":2},\"yaxis\":{\"backgroundcolor\":\"#E5ECF6\",\"gridcolor\":\"white\",\"linecolor\":\"white\",\"showbackground\":true,\"ticks\":\"\",\"zerolinecolor\":\"white\",\"gridwidth\":2},\"zaxis\":{\"backgroundcolor\":\"#E5ECF6\",\"gridcolor\":\"white\",\"linecolor\":\"white\",\"showbackground\":true,\"ticks\":\"\",\"zerolinecolor\":\"white\",\"gridwidth\":2}},\"shapedefaults\":{\"line\":{\"color\":\"#2a3f5f\"}},\"annotationdefaults\":{\"arrowcolor\":\"#2a3f5f\",\"arrowhead\":0,\"arrowwidth\":1},\"geo\":{\"bgcolor\":\"white\",\"landcolor\":\"#E5ECF6\",\"subunitcolor\":\"white\",\"showland\":true,\"showlakes\":true,\"lakecolor\":\"white\"},\"title\":{\"x\":0.05},\"mapbox\":{\"style\":\"light\"}}},\"xaxis\":{\"anchor\":\"y\",\"domain\":[0.0,1.0],\"title\":{\"text\":\"height\"}},\"yaxis\":{\"anchor\":\"x\",\"domain\":[0.0,1.0],\"title\":{\"text\":\"count\"}},\"legend\":{\"tracegroupgap\":0},\"margin\":{\"t\":60},\"barmode\":\"relative\"},                        {\"responsive\": true}                    ).then(function(){\n",
       "                            \n",
       "var gd = document.getElementById('cf703992-a7b3-4865-9cd0-f7f5d35def70');\n",
       "var x = new MutationObserver(function (mutations, observer) {{\n",
       "        var display = window.getComputedStyle(gd).display;\n",
       "        if (!display || display === 'none') {{\n",
       "            console.log([gd, 'removed!']);\n",
       "            Plotly.purge(gd);\n",
       "            observer.disconnect();\n",
       "        }}\n",
       "}});\n",
       "\n",
       "// Listen for the removal of the full notebook cells\n",
       "var notebookContainer = gd.closest('#notebook-container');\n",
       "if (notebookContainer) {{\n",
       "    x.observe(notebookContainer, {childList: true});\n",
       "}}\n",
       "\n",
       "// Listen for the clearing of the current output cell\n",
       "var outputEl = gd.closest('.output');\n",
       "if (outputEl) {{\n",
       "    x.observe(outputEl, {childList: true});\n",
       "}}\n",
       "\n",
       "                        })                };                });            </script>        </div>"
      ]
     },
     "metadata": {},
     "output_type": "display_data"
    }
   ],
   "source": [
    "heights = stats_data.sort_values(['nflId', 'height'], ascending = [True, False]).groupby('nflId').first().reset_index()\n",
    "fig = px.histogram(heights, x=\"height\")\n",
    "fig.show()"
   ]
  },
  {
   "cell_type": "markdown",
   "id": "6a10c74c",
   "metadata": {
    "papermill": {
     "duration": 0.014964,
     "end_time": "2022-11-11T20:05:54.840796",
     "exception": false,
     "start_time": "2022-11-11T20:05:54.825832",
     "status": "completed"
    },
    "tags": []
   },
   "source": [
    "### Distribution of age of the linemen"
   ]
  },
  {
   "cell_type": "code",
   "execution_count": 12,
   "id": "5aefe545",
   "metadata": {
    "execution": {
     "iopub.execute_input": "2022-11-11T20:05:54.874737Z",
     "iopub.status.busy": "2022-11-11T20:05:54.874355Z",
     "iopub.status.idle": "2022-11-11T20:05:54.960654Z",
     "shell.execute_reply": "2022-11-11T20:05:54.959555Z"
    },
    "papermill": {
     "duration": 0.106933,
     "end_time": "2022-11-11T20:05:54.963326",
     "exception": false,
     "start_time": "2022-11-11T20:05:54.856393",
     "status": "completed"
    },
    "tags": []
   },
   "outputs": [
    {
     "data": {
      "text/html": [
       "<div>                            <div id=\"a08641bd-d7b5-4813-ab6f-a632db340e36\" class=\"plotly-graph-div\" style=\"height:525px; width:100%;\"></div>            <script type=\"text/javascript\">                require([\"plotly\"], function(Plotly) {                    window.PLOTLYENV=window.PLOTLYENV || {};                                    if (document.getElementById(\"a08641bd-d7b5-4813-ab6f-a632db340e36\")) {                    Plotly.newPlot(                        \"a08641bd-d7b5-4813-ab6f-a632db340e36\",                        [{\"alignmentgroup\":\"True\",\"bingroup\":\"x\",\"hovertemplate\":\"age=%{x}<br>count=%{y}<extra></extra>\",\"legendgroup\":\"\",\"marker\":{\"color\":\"#636efa\",\"pattern\":{\"shape\":\"\"}},\"name\":\"\",\"offsetgroup\":\"\",\"orientation\":\"v\",\"showlegend\":false,\"x\":[40.0,40.0,37.0,35.0,36.0,34.0,33.0,34.0,37.0,31.0,34.0,33.0,34.0,35.0,33.0,32.0,33.0,33.0,33.0,32.0,33.0,33.0,32.0,31.0,32.0,32.0,31.0,31.0,31.0,31.0,32.0,31.0,31.0,33.0,34.0,30.0,31.0,31.0,31.0,31.0,31.0,31.0,31.0,31.0,29.0,30.0,31.0,31.0,33.0,31.0,30.0,31.0,30.0,30.0,31.0,31.0,31.0,31.0,30.0,30.0,28.0,29.0,30.0,30.0,28.0,30.0,29.0,30.0,30.0,30.0,29.0,31.0,29.0,30.0,30.0,29.0,31.0,30.0,30.0,28.0,29.0,31.0,29.0,30.0,31.0,30.0,31.0,30.0,30.0,31.0,28.0,28.0,28.0,29.0,28.0,28.0,30.0,29.0,29.0,30.0,29.0,29.0,30.0,29.0,29.0,29.0,30.0,30.0,29.0,29.0,30.0,29.0,30.0,28.0,27.0,27.0,28.0,28.0,28.0,27.0,27.0,27.0,29.0,27.0,29.0,28.0,28.0,28.0,28.0,27.0,28.0,26.0,27.0,27.0,26.0,28.0,26.0,27.0,27.0,26.0,25.0,25.0,27.0,27.0,26.0,26.0,27.0,25.0,27.0,26.0,27.0,26.0,27.0,26.0,27.0,27.0,25.0,26.0,27.0,27.0,28.0,26.0,26.0,28.0,28.0,28.0,24.0,25.0,27.0,27.0,26.0,27.0,24.0,25.0,27.0,26.0,25.0,26.0,26.0,26.0,25.0,26.0,25.0,25.0,26.0,26.0,26.0,24.0,25.0,25.0,25.0,26.0,25.0,26.0,27.0,26.0,26.0,25.0,25.0,26.0,26.0,25.0,24.0,23.0,23.0,23.0,23.0,23.0,23.0,26.0,24.0,25.0,25.0,25.0,24.0,24.0,null,25.0,25.0,23.0,25.0,25.0,24.0,25.0,26.0,24.0,25.0,24.0,26.0,25.0,24.0,23.0,24.0,25.0,26.0,null,26.0,24.0,24.0,25.0,25.0,null,null,null,null,null,null,null,null,null,null,null,null,null,null,null,null,null,null,null,null,null,null,null,null,null,null,null,null,null,null,null,null,null,null],\"xaxis\":\"x\",\"yaxis\":\"y\",\"type\":\"histogram\"}],                        {\"template\":{\"data\":{\"histogram2dcontour\":[{\"type\":\"histogram2dcontour\",\"colorbar\":{\"outlinewidth\":0,\"ticks\":\"\"},\"colorscale\":[[0.0,\"#0d0887\"],[0.1111111111111111,\"#46039f\"],[0.2222222222222222,\"#7201a8\"],[0.3333333333333333,\"#9c179e\"],[0.4444444444444444,\"#bd3786\"],[0.5555555555555556,\"#d8576b\"],[0.6666666666666666,\"#ed7953\"],[0.7777777777777778,\"#fb9f3a\"],[0.8888888888888888,\"#fdca26\"],[1.0,\"#f0f921\"]]}],\"choropleth\":[{\"type\":\"choropleth\",\"colorbar\":{\"outlinewidth\":0,\"ticks\":\"\"}}],\"histogram2d\":[{\"type\":\"histogram2d\",\"colorbar\":{\"outlinewidth\":0,\"ticks\":\"\"},\"colorscale\":[[0.0,\"#0d0887\"],[0.1111111111111111,\"#46039f\"],[0.2222222222222222,\"#7201a8\"],[0.3333333333333333,\"#9c179e\"],[0.4444444444444444,\"#bd3786\"],[0.5555555555555556,\"#d8576b\"],[0.6666666666666666,\"#ed7953\"],[0.7777777777777778,\"#fb9f3a\"],[0.8888888888888888,\"#fdca26\"],[1.0,\"#f0f921\"]]}],\"heatmap\":[{\"type\":\"heatmap\",\"colorbar\":{\"outlinewidth\":0,\"ticks\":\"\"},\"colorscale\":[[0.0,\"#0d0887\"],[0.1111111111111111,\"#46039f\"],[0.2222222222222222,\"#7201a8\"],[0.3333333333333333,\"#9c179e\"],[0.4444444444444444,\"#bd3786\"],[0.5555555555555556,\"#d8576b\"],[0.6666666666666666,\"#ed7953\"],[0.7777777777777778,\"#fb9f3a\"],[0.8888888888888888,\"#fdca26\"],[1.0,\"#f0f921\"]]}],\"heatmapgl\":[{\"type\":\"heatmapgl\",\"colorbar\":{\"outlinewidth\":0,\"ticks\":\"\"},\"colorscale\":[[0.0,\"#0d0887\"],[0.1111111111111111,\"#46039f\"],[0.2222222222222222,\"#7201a8\"],[0.3333333333333333,\"#9c179e\"],[0.4444444444444444,\"#bd3786\"],[0.5555555555555556,\"#d8576b\"],[0.6666666666666666,\"#ed7953\"],[0.7777777777777778,\"#fb9f3a\"],[0.8888888888888888,\"#fdca26\"],[1.0,\"#f0f921\"]]}],\"contourcarpet\":[{\"type\":\"contourcarpet\",\"colorbar\":{\"outlinewidth\":0,\"ticks\":\"\"}}],\"contour\":[{\"type\":\"contour\",\"colorbar\":{\"outlinewidth\":0,\"ticks\":\"\"},\"colorscale\":[[0.0,\"#0d0887\"],[0.1111111111111111,\"#46039f\"],[0.2222222222222222,\"#7201a8\"],[0.3333333333333333,\"#9c179e\"],[0.4444444444444444,\"#bd3786\"],[0.5555555555555556,\"#d8576b\"],[0.6666666666666666,\"#ed7953\"],[0.7777777777777778,\"#fb9f3a\"],[0.8888888888888888,\"#fdca26\"],[1.0,\"#f0f921\"]]}],\"surface\":[{\"type\":\"surface\",\"colorbar\":{\"outlinewidth\":0,\"ticks\":\"\"},\"colorscale\":[[0.0,\"#0d0887\"],[0.1111111111111111,\"#46039f\"],[0.2222222222222222,\"#7201a8\"],[0.3333333333333333,\"#9c179e\"],[0.4444444444444444,\"#bd3786\"],[0.5555555555555556,\"#d8576b\"],[0.6666666666666666,\"#ed7953\"],[0.7777777777777778,\"#fb9f3a\"],[0.8888888888888888,\"#fdca26\"],[1.0,\"#f0f921\"]]}],\"mesh3d\":[{\"type\":\"mesh3d\",\"colorbar\":{\"outlinewidth\":0,\"ticks\":\"\"}}],\"scatter\":[{\"fillpattern\":{\"fillmode\":\"overlay\",\"size\":10,\"solidity\":0.2},\"type\":\"scatter\"}],\"parcoords\":[{\"type\":\"parcoords\",\"line\":{\"colorbar\":{\"outlinewidth\":0,\"ticks\":\"\"}}}],\"scatterpolargl\":[{\"type\":\"scatterpolargl\",\"marker\":{\"colorbar\":{\"outlinewidth\":0,\"ticks\":\"\"}}}],\"bar\":[{\"error_x\":{\"color\":\"#2a3f5f\"},\"error_y\":{\"color\":\"#2a3f5f\"},\"marker\":{\"line\":{\"color\":\"#E5ECF6\",\"width\":0.5},\"pattern\":{\"fillmode\":\"overlay\",\"size\":10,\"solidity\":0.2}},\"type\":\"bar\"}],\"scattergeo\":[{\"type\":\"scattergeo\",\"marker\":{\"colorbar\":{\"outlinewidth\":0,\"ticks\":\"\"}}}],\"scatterpolar\":[{\"type\":\"scatterpolar\",\"marker\":{\"colorbar\":{\"outlinewidth\":0,\"ticks\":\"\"}}}],\"histogram\":[{\"marker\":{\"pattern\":{\"fillmode\":\"overlay\",\"size\":10,\"solidity\":0.2}},\"type\":\"histogram\"}],\"scattergl\":[{\"type\":\"scattergl\",\"marker\":{\"colorbar\":{\"outlinewidth\":0,\"ticks\":\"\"}}}],\"scatter3d\":[{\"type\":\"scatter3d\",\"line\":{\"colorbar\":{\"outlinewidth\":0,\"ticks\":\"\"}},\"marker\":{\"colorbar\":{\"outlinewidth\":0,\"ticks\":\"\"}}}],\"scattermapbox\":[{\"type\":\"scattermapbox\",\"marker\":{\"colorbar\":{\"outlinewidth\":0,\"ticks\":\"\"}}}],\"scatterternary\":[{\"type\":\"scatterternary\",\"marker\":{\"colorbar\":{\"outlinewidth\":0,\"ticks\":\"\"}}}],\"scattercarpet\":[{\"type\":\"scattercarpet\",\"marker\":{\"colorbar\":{\"outlinewidth\":0,\"ticks\":\"\"}}}],\"carpet\":[{\"aaxis\":{\"endlinecolor\":\"#2a3f5f\",\"gridcolor\":\"white\",\"linecolor\":\"white\",\"minorgridcolor\":\"white\",\"startlinecolor\":\"#2a3f5f\"},\"baxis\":{\"endlinecolor\":\"#2a3f5f\",\"gridcolor\":\"white\",\"linecolor\":\"white\",\"minorgridcolor\":\"white\",\"startlinecolor\":\"#2a3f5f\"},\"type\":\"carpet\"}],\"table\":[{\"cells\":{\"fill\":{\"color\":\"#EBF0F8\"},\"line\":{\"color\":\"white\"}},\"header\":{\"fill\":{\"color\":\"#C8D4E3\"},\"line\":{\"color\":\"white\"}},\"type\":\"table\"}],\"barpolar\":[{\"marker\":{\"line\":{\"color\":\"#E5ECF6\",\"width\":0.5},\"pattern\":{\"fillmode\":\"overlay\",\"size\":10,\"solidity\":0.2}},\"type\":\"barpolar\"}],\"pie\":[{\"automargin\":true,\"type\":\"pie\"}]},\"layout\":{\"autotypenumbers\":\"strict\",\"colorway\":[\"#636efa\",\"#EF553B\",\"#00cc96\",\"#ab63fa\",\"#FFA15A\",\"#19d3f3\",\"#FF6692\",\"#B6E880\",\"#FF97FF\",\"#FECB52\"],\"font\":{\"color\":\"#2a3f5f\"},\"hovermode\":\"closest\",\"hoverlabel\":{\"align\":\"left\"},\"paper_bgcolor\":\"white\",\"plot_bgcolor\":\"#E5ECF6\",\"polar\":{\"bgcolor\":\"#E5ECF6\",\"angularaxis\":{\"gridcolor\":\"white\",\"linecolor\":\"white\",\"ticks\":\"\"},\"radialaxis\":{\"gridcolor\":\"white\",\"linecolor\":\"white\",\"ticks\":\"\"}},\"ternary\":{\"bgcolor\":\"#E5ECF6\",\"aaxis\":{\"gridcolor\":\"white\",\"linecolor\":\"white\",\"ticks\":\"\"},\"baxis\":{\"gridcolor\":\"white\",\"linecolor\":\"white\",\"ticks\":\"\"},\"caxis\":{\"gridcolor\":\"white\",\"linecolor\":\"white\",\"ticks\":\"\"}},\"coloraxis\":{\"colorbar\":{\"outlinewidth\":0,\"ticks\":\"\"}},\"colorscale\":{\"sequential\":[[0.0,\"#0d0887\"],[0.1111111111111111,\"#46039f\"],[0.2222222222222222,\"#7201a8\"],[0.3333333333333333,\"#9c179e\"],[0.4444444444444444,\"#bd3786\"],[0.5555555555555556,\"#d8576b\"],[0.6666666666666666,\"#ed7953\"],[0.7777777777777778,\"#fb9f3a\"],[0.8888888888888888,\"#fdca26\"],[1.0,\"#f0f921\"]],\"sequentialminus\":[[0.0,\"#0d0887\"],[0.1111111111111111,\"#46039f\"],[0.2222222222222222,\"#7201a8\"],[0.3333333333333333,\"#9c179e\"],[0.4444444444444444,\"#bd3786\"],[0.5555555555555556,\"#d8576b\"],[0.6666666666666666,\"#ed7953\"],[0.7777777777777778,\"#fb9f3a\"],[0.8888888888888888,\"#fdca26\"],[1.0,\"#f0f921\"]],\"diverging\":[[0,\"#8e0152\"],[0.1,\"#c51b7d\"],[0.2,\"#de77ae\"],[0.3,\"#f1b6da\"],[0.4,\"#fde0ef\"],[0.5,\"#f7f7f7\"],[0.6,\"#e6f5d0\"],[0.7,\"#b8e186\"],[0.8,\"#7fbc41\"],[0.9,\"#4d9221\"],[1,\"#276419\"]]},\"xaxis\":{\"gridcolor\":\"white\",\"linecolor\":\"white\",\"ticks\":\"\",\"title\":{\"standoff\":15},\"zerolinecolor\":\"white\",\"automargin\":true,\"zerolinewidth\":2},\"yaxis\":{\"gridcolor\":\"white\",\"linecolor\":\"white\",\"ticks\":\"\",\"title\":{\"standoff\":15},\"zerolinecolor\":\"white\",\"automargin\":true,\"zerolinewidth\":2},\"scene\":{\"xaxis\":{\"backgroundcolor\":\"#E5ECF6\",\"gridcolor\":\"white\",\"linecolor\":\"white\",\"showbackground\":true,\"ticks\":\"\",\"zerolinecolor\":\"white\",\"gridwidth\":2},\"yaxis\":{\"backgroundcolor\":\"#E5ECF6\",\"gridcolor\":\"white\",\"linecolor\":\"white\",\"showbackground\":true,\"ticks\":\"\",\"zerolinecolor\":\"white\",\"gridwidth\":2},\"zaxis\":{\"backgroundcolor\":\"#E5ECF6\",\"gridcolor\":\"white\",\"linecolor\":\"white\",\"showbackground\":true,\"ticks\":\"\",\"zerolinecolor\":\"white\",\"gridwidth\":2}},\"shapedefaults\":{\"line\":{\"color\":\"#2a3f5f\"}},\"annotationdefaults\":{\"arrowcolor\":\"#2a3f5f\",\"arrowhead\":0,\"arrowwidth\":1},\"geo\":{\"bgcolor\":\"white\",\"landcolor\":\"#E5ECF6\",\"subunitcolor\":\"white\",\"showland\":true,\"showlakes\":true,\"lakecolor\":\"white\"},\"title\":{\"x\":0.05},\"mapbox\":{\"style\":\"light\"}}},\"xaxis\":{\"anchor\":\"y\",\"domain\":[0.0,1.0],\"title\":{\"text\":\"age\"}},\"yaxis\":{\"anchor\":\"x\",\"domain\":[0.0,1.0],\"title\":{\"text\":\"count\"}},\"legend\":{\"tracegroupgap\":0},\"margin\":{\"t\":60},\"barmode\":\"relative\"},                        {\"responsive\": true}                    ).then(function(){\n",
       "                            \n",
       "var gd = document.getElementById('a08641bd-d7b5-4813-ab6f-a632db340e36');\n",
       "var x = new MutationObserver(function (mutations, observer) {{\n",
       "        var display = window.getComputedStyle(gd).display;\n",
       "        if (!display || display === 'none') {{\n",
       "            console.log([gd, 'removed!']);\n",
       "            Plotly.purge(gd);\n",
       "            observer.disconnect();\n",
       "        }}\n",
       "}});\n",
       "\n",
       "// Listen for the removal of the full notebook cells\n",
       "var notebookContainer = gd.closest('#notebook-container');\n",
       "if (notebookContainer) {{\n",
       "    x.observe(notebookContainer, {childList: true});\n",
       "}}\n",
       "\n",
       "// Listen for the clearing of the current output cell\n",
       "var outputEl = gd.closest('.output');\n",
       "if (outputEl) {{\n",
       "    x.observe(outputEl, {childList: true});\n",
       "}}\n",
       "\n",
       "                        })                };                });            </script>        </div>"
      ]
     },
     "metadata": {},
     "output_type": "display_data"
    }
   ],
   "source": [
    "ages = stats_data.sort_values(['nflId', 'age'], ascending = [True, False]).groupby('nflId').first().reset_index()\n",
    "fig = px.histogram(ages, x=\"age\")\n",
    "fig.show()"
   ]
  },
  {
   "cell_type": "markdown",
   "id": "a6d446c0",
   "metadata": {
    "papermill": {
     "duration": 0.014455,
     "end_time": "2022-11-11T20:05:54.992993",
     "exception": false,
     "start_time": "2022-11-11T20:05:54.978538",
     "status": "completed"
    },
    "tags": []
   },
   "source": [
    "### Top 15 college contributors to NFL teams"
   ]
  },
  {
   "cell_type": "code",
   "execution_count": 13,
   "id": "0c5043e1",
   "metadata": {
    "execution": {
     "iopub.execute_input": "2022-11-11T20:05:55.025000Z",
     "iopub.status.busy": "2022-11-11T20:05:55.024599Z",
     "iopub.status.idle": "2022-11-11T20:05:55.131161Z",
     "shell.execute_reply": "2022-11-11T20:05:55.129933Z"
    },
    "papermill": {
     "duration": 0.12554,
     "end_time": "2022-11-11T20:05:55.133751",
     "exception": false,
     "start_time": "2022-11-11T20:05:55.008211",
     "status": "completed"
    },
    "tags": []
   },
   "outputs": [
    {
     "data": {
      "text/html": [
       "<div>                            <div id=\"0d3fdbbd-fdad-4f8a-a2c1-0b9ac4b6462e\" class=\"plotly-graph-div\" style=\"height:525px; width:100%;\"></div>            <script type=\"text/javascript\">                require([\"plotly\"], function(Plotly) {                    window.PLOTLYENV=window.PLOTLYENV || {};                                    if (document.getElementById(\"0d3fdbbd-fdad-4f8a-a2c1-0b9ac4b6462e\")) {                    Plotly.newPlot(                        \"0d3fdbbd-fdad-4f8a-a2c1-0b9ac4b6462e\",                        [{\"alignmentgroup\":\"True\",\"hovertemplate\":\"collegeName=%{x}<br>players=%{y}<extra></extra>\",\"legendgroup\":\"\",\"marker\":{\"color\":\"#636efa\",\"pattern\":{\"shape\":\"\"}},\"name\":\"\",\"offsetgroup\":\"\",\"orientation\":\"v\",\"showlegend\":false,\"textposition\":\"auto\",\"x\":[\"Iowa\",\"Ohio State\",\"Michigan\",\"Louisiana State\",\"Alabama\",\"Oklahoma\",\"Notre Dame\",\"Wisconsin\",\"Florida\",\"Missouri\",\"Texas A&amp;M\",\"Georgia\",\"Kansas State\",\"UCLA\",\"Southern California\"],\"xaxis\":\"x\",\"y\":[8,8,8,8,7,7,6,6,6,5,5,5,4,4,4],\"yaxis\":\"y\",\"type\":\"bar\"}],                        {\"template\":{\"data\":{\"histogram2dcontour\":[{\"type\":\"histogram2dcontour\",\"colorbar\":{\"outlinewidth\":0,\"ticks\":\"\"},\"colorscale\":[[0.0,\"#0d0887\"],[0.1111111111111111,\"#46039f\"],[0.2222222222222222,\"#7201a8\"],[0.3333333333333333,\"#9c179e\"],[0.4444444444444444,\"#bd3786\"],[0.5555555555555556,\"#d8576b\"],[0.6666666666666666,\"#ed7953\"],[0.7777777777777778,\"#fb9f3a\"],[0.8888888888888888,\"#fdca26\"],[1.0,\"#f0f921\"]]}],\"choropleth\":[{\"type\":\"choropleth\",\"colorbar\":{\"outlinewidth\":0,\"ticks\":\"\"}}],\"histogram2d\":[{\"type\":\"histogram2d\",\"colorbar\":{\"outlinewidth\":0,\"ticks\":\"\"},\"colorscale\":[[0.0,\"#0d0887\"],[0.1111111111111111,\"#46039f\"],[0.2222222222222222,\"#7201a8\"],[0.3333333333333333,\"#9c179e\"],[0.4444444444444444,\"#bd3786\"],[0.5555555555555556,\"#d8576b\"],[0.6666666666666666,\"#ed7953\"],[0.7777777777777778,\"#fb9f3a\"],[0.8888888888888888,\"#fdca26\"],[1.0,\"#f0f921\"]]}],\"heatmap\":[{\"type\":\"heatmap\",\"colorbar\":{\"outlinewidth\":0,\"ticks\":\"\"},\"colorscale\":[[0.0,\"#0d0887\"],[0.1111111111111111,\"#46039f\"],[0.2222222222222222,\"#7201a8\"],[0.3333333333333333,\"#9c179e\"],[0.4444444444444444,\"#bd3786\"],[0.5555555555555556,\"#d8576b\"],[0.6666666666666666,\"#ed7953\"],[0.7777777777777778,\"#fb9f3a\"],[0.8888888888888888,\"#fdca26\"],[1.0,\"#f0f921\"]]}],\"heatmapgl\":[{\"type\":\"heatmapgl\",\"colorbar\":{\"outlinewidth\":0,\"ticks\":\"\"},\"colorscale\":[[0.0,\"#0d0887\"],[0.1111111111111111,\"#46039f\"],[0.2222222222222222,\"#7201a8\"],[0.3333333333333333,\"#9c179e\"],[0.4444444444444444,\"#bd3786\"],[0.5555555555555556,\"#d8576b\"],[0.6666666666666666,\"#ed7953\"],[0.7777777777777778,\"#fb9f3a\"],[0.8888888888888888,\"#fdca26\"],[1.0,\"#f0f921\"]]}],\"contourcarpet\":[{\"type\":\"contourcarpet\",\"colorbar\":{\"outlinewidth\":0,\"ticks\":\"\"}}],\"contour\":[{\"type\":\"contour\",\"colorbar\":{\"outlinewidth\":0,\"ticks\":\"\"},\"colorscale\":[[0.0,\"#0d0887\"],[0.1111111111111111,\"#46039f\"],[0.2222222222222222,\"#7201a8\"],[0.3333333333333333,\"#9c179e\"],[0.4444444444444444,\"#bd3786\"],[0.5555555555555556,\"#d8576b\"],[0.6666666666666666,\"#ed7953\"],[0.7777777777777778,\"#fb9f3a\"],[0.8888888888888888,\"#fdca26\"],[1.0,\"#f0f921\"]]}],\"surface\":[{\"type\":\"surface\",\"colorbar\":{\"outlinewidth\":0,\"ticks\":\"\"},\"colorscale\":[[0.0,\"#0d0887\"],[0.1111111111111111,\"#46039f\"],[0.2222222222222222,\"#7201a8\"],[0.3333333333333333,\"#9c179e\"],[0.4444444444444444,\"#bd3786\"],[0.5555555555555556,\"#d8576b\"],[0.6666666666666666,\"#ed7953\"],[0.7777777777777778,\"#fb9f3a\"],[0.8888888888888888,\"#fdca26\"],[1.0,\"#f0f921\"]]}],\"mesh3d\":[{\"type\":\"mesh3d\",\"colorbar\":{\"outlinewidth\":0,\"ticks\":\"\"}}],\"scatter\":[{\"fillpattern\":{\"fillmode\":\"overlay\",\"size\":10,\"solidity\":0.2},\"type\":\"scatter\"}],\"parcoords\":[{\"type\":\"parcoords\",\"line\":{\"colorbar\":{\"outlinewidth\":0,\"ticks\":\"\"}}}],\"scatterpolargl\":[{\"type\":\"scatterpolargl\",\"marker\":{\"colorbar\":{\"outlinewidth\":0,\"ticks\":\"\"}}}],\"bar\":[{\"error_x\":{\"color\":\"#2a3f5f\"},\"error_y\":{\"color\":\"#2a3f5f\"},\"marker\":{\"line\":{\"color\":\"#E5ECF6\",\"width\":0.5},\"pattern\":{\"fillmode\":\"overlay\",\"size\":10,\"solidity\":0.2}},\"type\":\"bar\"}],\"scattergeo\":[{\"type\":\"scattergeo\",\"marker\":{\"colorbar\":{\"outlinewidth\":0,\"ticks\":\"\"}}}],\"scatterpolar\":[{\"type\":\"scatterpolar\",\"marker\":{\"colorbar\":{\"outlinewidth\":0,\"ticks\":\"\"}}}],\"histogram\":[{\"marker\":{\"pattern\":{\"fillmode\":\"overlay\",\"size\":10,\"solidity\":0.2}},\"type\":\"histogram\"}],\"scattergl\":[{\"type\":\"scattergl\",\"marker\":{\"colorbar\":{\"outlinewidth\":0,\"ticks\":\"\"}}}],\"scatter3d\":[{\"type\":\"scatter3d\",\"line\":{\"colorbar\":{\"outlinewidth\":0,\"ticks\":\"\"}},\"marker\":{\"colorbar\":{\"outlinewidth\":0,\"ticks\":\"\"}}}],\"scattermapbox\":[{\"type\":\"scattermapbox\",\"marker\":{\"colorbar\":{\"outlinewidth\":0,\"ticks\":\"\"}}}],\"scatterternary\":[{\"type\":\"scatterternary\",\"marker\":{\"colorbar\":{\"outlinewidth\":0,\"ticks\":\"\"}}}],\"scattercarpet\":[{\"type\":\"scattercarpet\",\"marker\":{\"colorbar\":{\"outlinewidth\":0,\"ticks\":\"\"}}}],\"carpet\":[{\"aaxis\":{\"endlinecolor\":\"#2a3f5f\",\"gridcolor\":\"white\",\"linecolor\":\"white\",\"minorgridcolor\":\"white\",\"startlinecolor\":\"#2a3f5f\"},\"baxis\":{\"endlinecolor\":\"#2a3f5f\",\"gridcolor\":\"white\",\"linecolor\":\"white\",\"minorgridcolor\":\"white\",\"startlinecolor\":\"#2a3f5f\"},\"type\":\"carpet\"}],\"table\":[{\"cells\":{\"fill\":{\"color\":\"#EBF0F8\"},\"line\":{\"color\":\"white\"}},\"header\":{\"fill\":{\"color\":\"#C8D4E3\"},\"line\":{\"color\":\"white\"}},\"type\":\"table\"}],\"barpolar\":[{\"marker\":{\"line\":{\"color\":\"#E5ECF6\",\"width\":0.5},\"pattern\":{\"fillmode\":\"overlay\",\"size\":10,\"solidity\":0.2}},\"type\":\"barpolar\"}],\"pie\":[{\"automargin\":true,\"type\":\"pie\"}]},\"layout\":{\"autotypenumbers\":\"strict\",\"colorway\":[\"#636efa\",\"#EF553B\",\"#00cc96\",\"#ab63fa\",\"#FFA15A\",\"#19d3f3\",\"#FF6692\",\"#B6E880\",\"#FF97FF\",\"#FECB52\"],\"font\":{\"color\":\"#2a3f5f\"},\"hovermode\":\"closest\",\"hoverlabel\":{\"align\":\"left\"},\"paper_bgcolor\":\"white\",\"plot_bgcolor\":\"#E5ECF6\",\"polar\":{\"bgcolor\":\"#E5ECF6\",\"angularaxis\":{\"gridcolor\":\"white\",\"linecolor\":\"white\",\"ticks\":\"\"},\"radialaxis\":{\"gridcolor\":\"white\",\"linecolor\":\"white\",\"ticks\":\"\"}},\"ternary\":{\"bgcolor\":\"#E5ECF6\",\"aaxis\":{\"gridcolor\":\"white\",\"linecolor\":\"white\",\"ticks\":\"\"},\"baxis\":{\"gridcolor\":\"white\",\"linecolor\":\"white\",\"ticks\":\"\"},\"caxis\":{\"gridcolor\":\"white\",\"linecolor\":\"white\",\"ticks\":\"\"}},\"coloraxis\":{\"colorbar\":{\"outlinewidth\":0,\"ticks\":\"\"}},\"colorscale\":{\"sequential\":[[0.0,\"#0d0887\"],[0.1111111111111111,\"#46039f\"],[0.2222222222222222,\"#7201a8\"],[0.3333333333333333,\"#9c179e\"],[0.4444444444444444,\"#bd3786\"],[0.5555555555555556,\"#d8576b\"],[0.6666666666666666,\"#ed7953\"],[0.7777777777777778,\"#fb9f3a\"],[0.8888888888888888,\"#fdca26\"],[1.0,\"#f0f921\"]],\"sequentialminus\":[[0.0,\"#0d0887\"],[0.1111111111111111,\"#46039f\"],[0.2222222222222222,\"#7201a8\"],[0.3333333333333333,\"#9c179e\"],[0.4444444444444444,\"#bd3786\"],[0.5555555555555556,\"#d8576b\"],[0.6666666666666666,\"#ed7953\"],[0.7777777777777778,\"#fb9f3a\"],[0.8888888888888888,\"#fdca26\"],[1.0,\"#f0f921\"]],\"diverging\":[[0,\"#8e0152\"],[0.1,\"#c51b7d\"],[0.2,\"#de77ae\"],[0.3,\"#f1b6da\"],[0.4,\"#fde0ef\"],[0.5,\"#f7f7f7\"],[0.6,\"#e6f5d0\"],[0.7,\"#b8e186\"],[0.8,\"#7fbc41\"],[0.9,\"#4d9221\"],[1,\"#276419\"]]},\"xaxis\":{\"gridcolor\":\"white\",\"linecolor\":\"white\",\"ticks\":\"\",\"title\":{\"standoff\":15},\"zerolinecolor\":\"white\",\"automargin\":true,\"zerolinewidth\":2},\"yaxis\":{\"gridcolor\":\"white\",\"linecolor\":\"white\",\"ticks\":\"\",\"title\":{\"standoff\":15},\"zerolinecolor\":\"white\",\"automargin\":true,\"zerolinewidth\":2},\"scene\":{\"xaxis\":{\"backgroundcolor\":\"#E5ECF6\",\"gridcolor\":\"white\",\"linecolor\":\"white\",\"showbackground\":true,\"ticks\":\"\",\"zerolinecolor\":\"white\",\"gridwidth\":2},\"yaxis\":{\"backgroundcolor\":\"#E5ECF6\",\"gridcolor\":\"white\",\"linecolor\":\"white\",\"showbackground\":true,\"ticks\":\"\",\"zerolinecolor\":\"white\",\"gridwidth\":2},\"zaxis\":{\"backgroundcolor\":\"#E5ECF6\",\"gridcolor\":\"white\",\"linecolor\":\"white\",\"showbackground\":true,\"ticks\":\"\",\"zerolinecolor\":\"white\",\"gridwidth\":2}},\"shapedefaults\":{\"line\":{\"color\":\"#2a3f5f\"}},\"annotationdefaults\":{\"arrowcolor\":\"#2a3f5f\",\"arrowhead\":0,\"arrowwidth\":1},\"geo\":{\"bgcolor\":\"white\",\"landcolor\":\"#E5ECF6\",\"subunitcolor\":\"white\",\"showland\":true,\"showlakes\":true,\"lakecolor\":\"white\"},\"title\":{\"x\":0.05},\"mapbox\":{\"style\":\"light\"}}},\"xaxis\":{\"anchor\":\"y\",\"domain\":[0.0,1.0],\"title\":{\"text\":\"collegeName\"}},\"yaxis\":{\"anchor\":\"x\",\"domain\":[0.0,1.0],\"title\":{\"text\":\"players\"}},\"legend\":{\"tracegroupgap\":0},\"margin\":{\"t\":60},\"barmode\":\"relative\"},                        {\"responsive\": true}                    ).then(function(){\n",
       "                            \n",
       "var gd = document.getElementById('0d3fdbbd-fdad-4f8a-a2c1-0b9ac4b6462e');\n",
       "var x = new MutationObserver(function (mutations, observer) {{\n",
       "        var display = window.getComputedStyle(gd).display;\n",
       "        if (!display || display === 'none') {{\n",
       "            console.log([gd, 'removed!']);\n",
       "            Plotly.purge(gd);\n",
       "            observer.disconnect();\n",
       "        }}\n",
       "}});\n",
       "\n",
       "// Listen for the removal of the full notebook cells\n",
       "var notebookContainer = gd.closest('#notebook-container');\n",
       "if (notebookContainer) {{\n",
       "    x.observe(notebookContainer, {childList: true});\n",
       "}}\n",
       "\n",
       "// Listen for the clearing of the current output cell\n",
       "var outputEl = gd.closest('.output');\n",
       "if (outputEl) {{\n",
       "    x.observe(outputEl, {childList: true});\n",
       "}}\n",
       "\n",
       "                        })                };                });            </script>        </div>"
      ]
     },
     "metadata": {},
     "output_type": "display_data"
    }
   ],
   "source": [
    "colleges = stats_data.sort_values(['nflId', 'collegeName'], ascending = [True, False]).groupby('nflId').first().reset_index()\n",
    "colleges = colleges.groupby('collegeName')['nflId'].count().reset_index(name='players').sort_values(by='players', ascending=False).head(15)\n",
    "fig = px.bar(colleges, x='collegeName', y='players')\n",
    "fig.show()"
   ]
  },
  {
   "cell_type": "markdown",
   "id": "087e52c6",
   "metadata": {
    "papermill": {
     "duration": 0.014829,
     "end_time": "2022-11-11T20:05:55.163779",
     "exception": false,
     "start_time": "2022-11-11T20:05:55.148950",
     "status": "completed"
    },
    "tags": []
   },
   "source": [
    "### Offensive lineman pressures rates calculation\n",
    "\n",
    "Hurries, hits and sacks allowed all come into play for offensive linemen, as does PFF’s pass-blocking efficiency metrics, which measures pressures allowed on a per-snap basis with weighting toward sacks allowed. \n",
    "\n",
    "The formula:  1 – (Sacks + Hits) / (2) + (Hurries) / (2) / (Total Pass-Block Snaps) * 100.\n",
    "\n",
    "According to [pff.com](https://www.pff.com/news/pro-signature-stat-spotlight-offensive-line)"
   ]
  },
  {
   "cell_type": "code",
   "execution_count": 14,
   "id": "f60b0d6f",
   "metadata": {
    "execution": {
     "iopub.execute_input": "2022-11-11T20:05:55.195976Z",
     "iopub.status.busy": "2022-11-11T20:05:55.195603Z",
     "iopub.status.idle": "2022-11-11T20:05:55.229773Z",
     "shell.execute_reply": "2022-11-11T20:05:55.228592Z"
    },
    "papermill": {
     "duration": 0.053995,
     "end_time": "2022-11-11T20:05:55.232848",
     "exception": false,
     "start_time": "2022-11-11T20:05:55.178853",
     "status": "completed"
    },
    "tags": []
   },
   "outputs": [],
   "source": [
    "performance = stats_data.groupby(['nflId','displayName','age']).agg(\n",
    "    sacksAllowed=('pff_sackAllowed', sum),\n",
    "    hitAllowed=('pff_hitAllowed', sum),\n",
    "    hurryAllowed=('pff_hurryAllowed', sum),\n",
    "    totalSnaps=('nflId', 'count')\n",
    "    ).reset_index()\n",
    "performance['pffPerformance'] = 1-(performance['sacksAllowed']+performance['hitAllowed'])/2 + (performance['hurryAllowed']) / (2) / (performance['totalSnaps']) * 100"
   ]
  },
  {
   "cell_type": "markdown",
   "id": "1582a16d",
   "metadata": {
    "papermill": {
     "duration": 0.014901,
     "end_time": "2022-11-11T20:05:55.263097",
     "exception": false,
     "start_time": "2022-11-11T20:05:55.248196",
     "status": "completed"
    },
    "tags": []
   },
   "source": [
    "### Top 10 best linemen by Performance"
   ]
  },
  {
   "cell_type": "code",
   "execution_count": 15,
   "id": "bfea9fe1",
   "metadata": {
    "execution": {
     "iopub.execute_input": "2022-11-11T20:05:55.295184Z",
     "iopub.status.busy": "2022-11-11T20:05:55.294814Z",
     "iopub.status.idle": "2022-11-11T20:05:55.316044Z",
     "shell.execute_reply": "2022-11-11T20:05:55.314615Z"
    },
    "papermill": {
     "duration": 0.040427,
     "end_time": "2022-11-11T20:05:55.318546",
     "exception": false,
     "start_time": "2022-11-11T20:05:55.278119",
     "status": "completed"
    },
    "tags": []
   },
   "outputs": [
    {
     "data": {
      "text/html": [
       "<div>\n",
       "<style scoped>\n",
       "    .dataframe tbody tr th:only-of-type {\n",
       "        vertical-align: middle;\n",
       "    }\n",
       "\n",
       "    .dataframe tbody tr th {\n",
       "        vertical-align: top;\n",
       "    }\n",
       "\n",
       "    .dataframe thead th {\n",
       "        text-align: right;\n",
       "    }\n",
       "</style>\n",
       "<table border=\"1\" class=\"dataframe\">\n",
       "  <thead>\n",
       "    <tr style=\"text-align: right;\">\n",
       "      <th></th>\n",
       "      <th>nflId</th>\n",
       "      <th>displayName</th>\n",
       "      <th>age</th>\n",
       "      <th>sacksAllowed</th>\n",
       "      <th>hitAllowed</th>\n",
       "      <th>hurryAllowed</th>\n",
       "      <th>totalSnaps</th>\n",
       "      <th>pffPerformance</th>\n",
       "    </tr>\n",
       "  </thead>\n",
       "  <tbody>\n",
       "    <tr>\n",
       "      <th>90</th>\n",
       "      <td>43295</td>\n",
       "      <td>Ronnie Stanley</td>\n",
       "      <td>28.0</td>\n",
       "      <td>0.0</td>\n",
       "      <td>1.0</td>\n",
       "      <td>8.0</td>\n",
       "      <td>36</td>\n",
       "      <td>11.611111</td>\n",
       "    </tr>\n",
       "    <tr>\n",
       "      <th>119</th>\n",
       "      <td>44942</td>\n",
       "      <td>David Sharpe</td>\n",
       "      <td>27.0</td>\n",
       "      <td>0.0</td>\n",
       "      <td>0.0</td>\n",
       "      <td>1.0</td>\n",
       "      <td>8</td>\n",
       "      <td>7.250000</td>\n",
       "    </tr>\n",
       "    <tr>\n",
       "      <th>193</th>\n",
       "      <td>48094</td>\n",
       "      <td>Calvin Anderson</td>\n",
       "      <td>26.0</td>\n",
       "      <td>0.0</td>\n",
       "      <td>0.0</td>\n",
       "      <td>1.0</td>\n",
       "      <td>10</td>\n",
       "      <td>6.000000</td>\n",
       "    </tr>\n",
       "    <tr>\n",
       "      <th>202</th>\n",
       "      <td>48513</td>\n",
       "      <td>Nate Herbig</td>\n",
       "      <td>24.0</td>\n",
       "      <td>0.0</td>\n",
       "      <td>1.0</td>\n",
       "      <td>7.0</td>\n",
       "      <td>72</td>\n",
       "      <td>5.361111</td>\n",
       "    </tr>\n",
       "    <tr>\n",
       "      <th>220</th>\n",
       "      <td>52519</td>\n",
       "      <td>Solomon Kindley</td>\n",
       "      <td>25.0</td>\n",
       "      <td>0.0</td>\n",
       "      <td>0.0</td>\n",
       "      <td>5.0</td>\n",
       "      <td>60</td>\n",
       "      <td>5.166667</td>\n",
       "    </tr>\n",
       "    <tr>\n",
       "      <th>186</th>\n",
       "      <td>47914</td>\n",
       "      <td>Wes Martin</td>\n",
       "      <td>26.0</td>\n",
       "      <td>1.0</td>\n",
       "      <td>0.0</td>\n",
       "      <td>4.0</td>\n",
       "      <td>43</td>\n",
       "      <td>5.151163</td>\n",
       "    </tr>\n",
       "    <tr>\n",
       "      <th>164</th>\n",
       "      <td>46755</td>\n",
       "      <td>Trenton Scott</td>\n",
       "      <td>28.0</td>\n",
       "      <td>0.0</td>\n",
       "      <td>1.0</td>\n",
       "      <td>4.0</td>\n",
       "      <td>43</td>\n",
       "      <td>5.151163</td>\n",
       "    </tr>\n",
       "    <tr>\n",
       "      <th>204</th>\n",
       "      <td>52418</td>\n",
       "      <td>Jedrick Wills</td>\n",
       "      <td>23.0</td>\n",
       "      <td>0.0</td>\n",
       "      <td>3.0</td>\n",
       "      <td>16.0</td>\n",
       "      <td>149</td>\n",
       "      <td>4.869128</td>\n",
       "    </tr>\n",
       "    <tr>\n",
       "      <th>169</th>\n",
       "      <td>47805</td>\n",
       "      <td>Andre Dillard</td>\n",
       "      <td>27.0</td>\n",
       "      <td>1.0</td>\n",
       "      <td>0.0</td>\n",
       "      <td>14.0</td>\n",
       "      <td>161</td>\n",
       "      <td>4.847826</td>\n",
       "    </tr>\n",
       "    <tr>\n",
       "      <th>16</th>\n",
       "      <td>38606</td>\n",
       "      <td>Brandon Brooks</td>\n",
       "      <td>33.0</td>\n",
       "      <td>0.0</td>\n",
       "      <td>0.0</td>\n",
       "      <td>3.0</td>\n",
       "      <td>39</td>\n",
       "      <td>4.846154</td>\n",
       "    </tr>\n",
       "  </tbody>\n",
       "</table>\n",
       "</div>"
      ],
      "text/plain": [
       "     nflId      displayName   age  sacksAllowed  hitAllowed  hurryAllowed  \\\n",
       "90   43295   Ronnie Stanley  28.0           0.0         1.0           8.0   \n",
       "119  44942     David Sharpe  27.0           0.0         0.0           1.0   \n",
       "193  48094  Calvin Anderson  26.0           0.0         0.0           1.0   \n",
       "202  48513      Nate Herbig  24.0           0.0         1.0           7.0   \n",
       "220  52519  Solomon Kindley  25.0           0.0         0.0           5.0   \n",
       "186  47914       Wes Martin  26.0           1.0         0.0           4.0   \n",
       "164  46755    Trenton Scott  28.0           0.0         1.0           4.0   \n",
       "204  52418    Jedrick Wills  23.0           0.0         3.0          16.0   \n",
       "169  47805    Andre Dillard  27.0           1.0         0.0          14.0   \n",
       "16   38606   Brandon Brooks  33.0           0.0         0.0           3.0   \n",
       "\n",
       "     totalSnaps  pffPerformance  \n",
       "90           36       11.611111  \n",
       "119           8        7.250000  \n",
       "193          10        6.000000  \n",
       "202          72        5.361111  \n",
       "220          60        5.166667  \n",
       "186          43        5.151163  \n",
       "164          43        5.151163  \n",
       "204         149        4.869128  \n",
       "169         161        4.847826  \n",
       "16           39        4.846154  "
      ]
     },
     "execution_count": 15,
     "metadata": {},
     "output_type": "execute_result"
    }
   ],
   "source": [
    "performance.sort_values(by='pffPerformance', ascending=False).head(10)"
   ]
  },
  {
   "cell_type": "markdown",
   "id": "ae65c455",
   "metadata": {
    "papermill": {
     "duration": 0.015177,
     "end_time": "2022-11-11T20:05:55.349234",
     "exception": false,
     "start_time": "2022-11-11T20:05:55.334057",
     "status": "completed"
    },
    "tags": []
   },
   "source": [
    "### Top 10 worst linemen by Perfromance"
   ]
  },
  {
   "cell_type": "code",
   "execution_count": 16,
   "id": "bc9d4dd0",
   "metadata": {
    "execution": {
     "iopub.execute_input": "2022-11-11T20:05:55.382394Z",
     "iopub.status.busy": "2022-11-11T20:05:55.381854Z",
     "iopub.status.idle": "2022-11-11T20:05:55.404143Z",
     "shell.execute_reply": "2022-11-11T20:05:55.402805Z"
    },
    "papermill": {
     "duration": 0.041494,
     "end_time": "2022-11-11T20:05:55.406420",
     "exception": false,
     "start_time": "2022-11-11T20:05:55.364926",
     "status": "completed"
    },
    "tags": []
   },
   "outputs": [
    {
     "data": {
      "text/html": [
       "<div>\n",
       "<style scoped>\n",
       "    .dataframe tbody tr th:only-of-type {\n",
       "        vertical-align: middle;\n",
       "    }\n",
       "\n",
       "    .dataframe tbody tr th {\n",
       "        vertical-align: top;\n",
       "    }\n",
       "\n",
       "    .dataframe thead th {\n",
       "        text-align: right;\n",
       "    }\n",
       "</style>\n",
       "<table border=\"1\" class=\"dataframe\">\n",
       "  <thead>\n",
       "    <tr style=\"text-align: right;\">\n",
       "      <th></th>\n",
       "      <th>nflId</th>\n",
       "      <th>displayName</th>\n",
       "      <th>age</th>\n",
       "      <th>sacksAllowed</th>\n",
       "      <th>hitAllowed</th>\n",
       "      <th>hurryAllowed</th>\n",
       "      <th>totalSnaps</th>\n",
       "      <th>pffPerformance</th>\n",
       "    </tr>\n",
       "  </thead>\n",
       "  <tbody>\n",
       "    <tr>\n",
       "      <th>211</th>\n",
       "      <td>52477</td>\n",
       "      <td>Damien Lewis</td>\n",
       "      <td>25.0</td>\n",
       "      <td>1.0</td>\n",
       "      <td>5.0</td>\n",
       "      <td>4.0</td>\n",
       "      <td>188</td>\n",
       "      <td>-0.936170</td>\n",
       "    </tr>\n",
       "    <tr>\n",
       "      <th>18</th>\n",
       "      <td>38642</td>\n",
       "      <td>Bobby Massie</td>\n",
       "      <td>33.0</td>\n",
       "      <td>5.0</td>\n",
       "      <td>4.0</td>\n",
       "      <td>14.0</td>\n",
       "      <td>292</td>\n",
       "      <td>-1.102740</td>\n",
       "    </tr>\n",
       "    <tr>\n",
       "      <th>136</th>\n",
       "      <td>46092</td>\n",
       "      <td>Isaiah Wynn</td>\n",
       "      <td>26.0</td>\n",
       "      <td>3.0</td>\n",
       "      <td>5.0</td>\n",
       "      <td>8.0</td>\n",
       "      <td>237</td>\n",
       "      <td>-1.312236</td>\n",
       "    </tr>\n",
       "    <tr>\n",
       "      <th>168</th>\n",
       "      <td>47801</td>\n",
       "      <td>Garrett Bradbury</td>\n",
       "      <td>27.0</td>\n",
       "      <td>2.0</td>\n",
       "      <td>7.0</td>\n",
       "      <td>11.0</td>\n",
       "      <td>254</td>\n",
       "      <td>-1.334646</td>\n",
       "    </tr>\n",
       "    <tr>\n",
       "      <th>215</th>\n",
       "      <td>52491</td>\n",
       "      <td>Lloyd Cushenberry</td>\n",
       "      <td>24.0</td>\n",
       "      <td>3.0</td>\n",
       "      <td>5.0</td>\n",
       "      <td>8.0</td>\n",
       "      <td>292</td>\n",
       "      <td>-1.630137</td>\n",
       "    </tr>\n",
       "    <tr>\n",
       "      <th>23</th>\n",
       "      <td>39947</td>\n",
       "      <td>Eric Fisher</td>\n",
       "      <td>31.0</td>\n",
       "      <td>5.0</td>\n",
       "      <td>6.0</td>\n",
       "      <td>11.0</td>\n",
       "      <td>209</td>\n",
       "      <td>-1.868421</td>\n",
       "    </tr>\n",
       "    <tr>\n",
       "      <th>112</th>\n",
       "      <td>44832</td>\n",
       "      <td>Garett Bolles</td>\n",
       "      <td>30.0</td>\n",
       "      <td>5.0</td>\n",
       "      <td>4.0</td>\n",
       "      <td>8.0</td>\n",
       "      <td>282</td>\n",
       "      <td>-2.081560</td>\n",
       "    </tr>\n",
       "    <tr>\n",
       "      <th>30</th>\n",
       "      <td>40124</td>\n",
       "      <td>David Quessenberry</td>\n",
       "      <td>32.0</td>\n",
       "      <td>4.0</td>\n",
       "      <td>6.0</td>\n",
       "      <td>10.0</td>\n",
       "      <td>276</td>\n",
       "      <td>-2.188406</td>\n",
       "    </tr>\n",
       "    <tr>\n",
       "      <th>2</th>\n",
       "      <td>33107</td>\n",
       "      <td>Duane Brown</td>\n",
       "      <td>37.0</td>\n",
       "      <td>6.0</td>\n",
       "      <td>5.0</td>\n",
       "      <td>9.0</td>\n",
       "      <td>233</td>\n",
       "      <td>-2.568670</td>\n",
       "    </tr>\n",
       "    <tr>\n",
       "      <th>145</th>\n",
       "      <td>46152</td>\n",
       "      <td>Orlando Brown</td>\n",
       "      <td>26.0</td>\n",
       "      <td>3.0</td>\n",
       "      <td>9.0</td>\n",
       "      <td>11.0</td>\n",
       "      <td>339</td>\n",
       "      <td>-3.377581</td>\n",
       "    </tr>\n",
       "  </tbody>\n",
       "</table>\n",
       "</div>"
      ],
      "text/plain": [
       "     nflId         displayName   age  sacksAllowed  hitAllowed  hurryAllowed  \\\n",
       "211  52477        Damien Lewis  25.0           1.0         5.0           4.0   \n",
       "18   38642        Bobby Massie  33.0           5.0         4.0          14.0   \n",
       "136  46092         Isaiah Wynn  26.0           3.0         5.0           8.0   \n",
       "168  47801    Garrett Bradbury  27.0           2.0         7.0          11.0   \n",
       "215  52491   Lloyd Cushenberry  24.0           3.0         5.0           8.0   \n",
       "23   39947         Eric Fisher  31.0           5.0         6.0          11.0   \n",
       "112  44832       Garett Bolles  30.0           5.0         4.0           8.0   \n",
       "30   40124  David Quessenberry  32.0           4.0         6.0          10.0   \n",
       "2    33107         Duane Brown  37.0           6.0         5.0           9.0   \n",
       "145  46152       Orlando Brown  26.0           3.0         9.0          11.0   \n",
       "\n",
       "     totalSnaps  pffPerformance  \n",
       "211         188       -0.936170  \n",
       "18          292       -1.102740  \n",
       "136         237       -1.312236  \n",
       "168         254       -1.334646  \n",
       "215         292       -1.630137  \n",
       "23          209       -1.868421  \n",
       "112         282       -2.081560  \n",
       "30          276       -2.188406  \n",
       "2           233       -2.568670  \n",
       "145         339       -3.377581  "
      ]
     },
     "execution_count": 16,
     "metadata": {},
     "output_type": "execute_result"
    }
   ],
   "source": [
    "performance.sort_values(by='pffPerformance', ascending=False).tail(10)"
   ]
  },
  {
   "cell_type": "markdown",
   "id": "6914f82f",
   "metadata": {
    "papermill": {
     "duration": 0.015222,
     "end_time": "2022-11-11T20:05:55.437473",
     "exception": false,
     "start_time": "2022-11-11T20:05:55.422251",
     "status": "completed"
    },
    "tags": []
   },
   "source": [
    "### The block type with most sacks Allowed\n",
    "\n",
    "\n",
    "If player is a blocking offensive player, the type of block that the offensive player is executing on the defender (text)\n",
    "Possible values:\n",
    "* BH: Backfield Help - A block from a player aligned in the backfield on which the blocker merely helps on a block rather than fully engaging his assignment. Usually seen when a blocker is clearing up a block or picking up a defender when he has broken through or been missed by another blocker\n",
    "* CH: Chip Block - This is only to be used for players who chip a pass rusher when they release for their route\n",
    "* CL: Second Level – A block made at the second level, this must be at least two yards across the line of scrimmage\n",
    "* NB: No Block - If a blocker executes no block on a play but simply runs his path or takes his pass set then we will note him with one all blocking line with this block type\n",
    "* PA: Play Action Pass Protection - A blocker pass protecting inline on a play action pass selling the play action by stepping in to show a run block before converting to pass protect\n",
    "* PP: Pass Protection - A standard pass protection block from an inline blocker\n",
    "* PR: Pocket Roll Block - This block type will be used any time the offense is executing a “rolling pocket” by which the entire offensive line moves with the QB’s rollout to stay in front of him but without ever taking a “conventional” pass set. There will be flexibility here to record the PR – Pocket Roll Block type in the same way as PA & RP block types in that individual matchups & responsibilities won’t always be obvious or necessary, so PR block types can be recorded by multiple blockers on an individual defender on the same play\n",
    "* PT: Post Block - A post block by an offensive player in pass protection to control a defender for another blocker while clearly demonstrating that he is not, at least initially, trying to fully engage with the block\n",
    "* PU: Backfield Pickup - A pass protection pick-up by a player aligned in the backfield\n",
    "* SR: Set & Release - A blocker who sets to pass protect a defender before releasing. This block will cover both players releasing from a set to block for a screen as well as “hold ups” by tight ends before they leak into the flat\n",
    "* SW: Switch Block - A blocker who passes off (or attempts to pass off) a defender. Most often used on stunts but can also be used for pass offs when pass rushers are slanting across the pocket or interior defenders are working to the edge to replace a dropping edge rusher, with an interior offensive lineman passing them out rather than staying with them\n",
    "* UP: Pull Pass Protection - A blocker pulling in pass protection from an inline alignment to block a defender in pass protection"
   ]
  },
  {
   "cell_type": "code",
   "execution_count": 17,
   "id": "6d4bad7e",
   "metadata": {
    "execution": {
     "iopub.execute_input": "2022-11-11T20:05:55.470819Z",
     "iopub.status.busy": "2022-11-11T20:05:55.470329Z",
     "iopub.status.idle": "2022-11-11T20:05:55.545819Z",
     "shell.execute_reply": "2022-11-11T20:05:55.544663Z"
    },
    "papermill": {
     "duration": 0.095406,
     "end_time": "2022-11-11T20:05:55.548538",
     "exception": false,
     "start_time": "2022-11-11T20:05:55.453132",
     "status": "completed"
    },
    "tags": []
   },
   "outputs": [
    {
     "data": {
      "text/html": [
       "<div>                            <div id=\"6684f3b3-20d3-4627-97fb-1699996249fe\" class=\"plotly-graph-div\" style=\"height:525px; width:100%;\"></div>            <script type=\"text/javascript\">                require([\"plotly\"], function(Plotly) {                    window.PLOTLYENV=window.PLOTLYENV || {};                                    if (document.getElementById(\"6684f3b3-20d3-4627-97fb-1699996249fe\")) {                    Plotly.newPlot(                        \"6684f3b3-20d3-4627-97fb-1699996249fe\",                        [{\"domain\":{\"x\":[0.0,1.0],\"y\":[0.0,1.0]},\"hovertemplate\":\"pff_blockType=%{label}<br>pff_sackAllowed=%{value}<extra></extra>\",\"labels\":[\"PP\",\"SW\",\"PT\",\"PA\",\"CL\",\"UP\",\"SR\",\"BH\",\"CH\",\"NB\",\"PR\"],\"legendgroup\":\"\",\"name\":\"\",\"showlegend\":true,\"values\":[228.0,35.0,18.0,17.0,4.0,3.0,1.0,0.0,0.0,0.0,0.0],\"type\":\"pie\",\"textinfo\":\"percent+label\",\"textposition\":\"inside\"}],                        {\"template\":{\"data\":{\"histogram2dcontour\":[{\"type\":\"histogram2dcontour\",\"colorbar\":{\"outlinewidth\":0,\"ticks\":\"\"},\"colorscale\":[[0.0,\"#0d0887\"],[0.1111111111111111,\"#46039f\"],[0.2222222222222222,\"#7201a8\"],[0.3333333333333333,\"#9c179e\"],[0.4444444444444444,\"#bd3786\"],[0.5555555555555556,\"#d8576b\"],[0.6666666666666666,\"#ed7953\"],[0.7777777777777778,\"#fb9f3a\"],[0.8888888888888888,\"#fdca26\"],[1.0,\"#f0f921\"]]}],\"choropleth\":[{\"type\":\"choropleth\",\"colorbar\":{\"outlinewidth\":0,\"ticks\":\"\"}}],\"histogram2d\":[{\"type\":\"histogram2d\",\"colorbar\":{\"outlinewidth\":0,\"ticks\":\"\"},\"colorscale\":[[0.0,\"#0d0887\"],[0.1111111111111111,\"#46039f\"],[0.2222222222222222,\"#7201a8\"],[0.3333333333333333,\"#9c179e\"],[0.4444444444444444,\"#bd3786\"],[0.5555555555555556,\"#d8576b\"],[0.6666666666666666,\"#ed7953\"],[0.7777777777777778,\"#fb9f3a\"],[0.8888888888888888,\"#fdca26\"],[1.0,\"#f0f921\"]]}],\"heatmap\":[{\"type\":\"heatmap\",\"colorbar\":{\"outlinewidth\":0,\"ticks\":\"\"},\"colorscale\":[[0.0,\"#0d0887\"],[0.1111111111111111,\"#46039f\"],[0.2222222222222222,\"#7201a8\"],[0.3333333333333333,\"#9c179e\"],[0.4444444444444444,\"#bd3786\"],[0.5555555555555556,\"#d8576b\"],[0.6666666666666666,\"#ed7953\"],[0.7777777777777778,\"#fb9f3a\"],[0.8888888888888888,\"#fdca26\"],[1.0,\"#f0f921\"]]}],\"heatmapgl\":[{\"type\":\"heatmapgl\",\"colorbar\":{\"outlinewidth\":0,\"ticks\":\"\"},\"colorscale\":[[0.0,\"#0d0887\"],[0.1111111111111111,\"#46039f\"],[0.2222222222222222,\"#7201a8\"],[0.3333333333333333,\"#9c179e\"],[0.4444444444444444,\"#bd3786\"],[0.5555555555555556,\"#d8576b\"],[0.6666666666666666,\"#ed7953\"],[0.7777777777777778,\"#fb9f3a\"],[0.8888888888888888,\"#fdca26\"],[1.0,\"#f0f921\"]]}],\"contourcarpet\":[{\"type\":\"contourcarpet\",\"colorbar\":{\"outlinewidth\":0,\"ticks\":\"\"}}],\"contour\":[{\"type\":\"contour\",\"colorbar\":{\"outlinewidth\":0,\"ticks\":\"\"},\"colorscale\":[[0.0,\"#0d0887\"],[0.1111111111111111,\"#46039f\"],[0.2222222222222222,\"#7201a8\"],[0.3333333333333333,\"#9c179e\"],[0.4444444444444444,\"#bd3786\"],[0.5555555555555556,\"#d8576b\"],[0.6666666666666666,\"#ed7953\"],[0.7777777777777778,\"#fb9f3a\"],[0.8888888888888888,\"#fdca26\"],[1.0,\"#f0f921\"]]}],\"surface\":[{\"type\":\"surface\",\"colorbar\":{\"outlinewidth\":0,\"ticks\":\"\"},\"colorscale\":[[0.0,\"#0d0887\"],[0.1111111111111111,\"#46039f\"],[0.2222222222222222,\"#7201a8\"],[0.3333333333333333,\"#9c179e\"],[0.4444444444444444,\"#bd3786\"],[0.5555555555555556,\"#d8576b\"],[0.6666666666666666,\"#ed7953\"],[0.7777777777777778,\"#fb9f3a\"],[0.8888888888888888,\"#fdca26\"],[1.0,\"#f0f921\"]]}],\"mesh3d\":[{\"type\":\"mesh3d\",\"colorbar\":{\"outlinewidth\":0,\"ticks\":\"\"}}],\"scatter\":[{\"fillpattern\":{\"fillmode\":\"overlay\",\"size\":10,\"solidity\":0.2},\"type\":\"scatter\"}],\"parcoords\":[{\"type\":\"parcoords\",\"line\":{\"colorbar\":{\"outlinewidth\":0,\"ticks\":\"\"}}}],\"scatterpolargl\":[{\"type\":\"scatterpolargl\",\"marker\":{\"colorbar\":{\"outlinewidth\":0,\"ticks\":\"\"}}}],\"bar\":[{\"error_x\":{\"color\":\"#2a3f5f\"},\"error_y\":{\"color\":\"#2a3f5f\"},\"marker\":{\"line\":{\"color\":\"#E5ECF6\",\"width\":0.5},\"pattern\":{\"fillmode\":\"overlay\",\"size\":10,\"solidity\":0.2}},\"type\":\"bar\"}],\"scattergeo\":[{\"type\":\"scattergeo\",\"marker\":{\"colorbar\":{\"outlinewidth\":0,\"ticks\":\"\"}}}],\"scatterpolar\":[{\"type\":\"scatterpolar\",\"marker\":{\"colorbar\":{\"outlinewidth\":0,\"ticks\":\"\"}}}],\"histogram\":[{\"marker\":{\"pattern\":{\"fillmode\":\"overlay\",\"size\":10,\"solidity\":0.2}},\"type\":\"histogram\"}],\"scattergl\":[{\"type\":\"scattergl\",\"marker\":{\"colorbar\":{\"outlinewidth\":0,\"ticks\":\"\"}}}],\"scatter3d\":[{\"type\":\"scatter3d\",\"line\":{\"colorbar\":{\"outlinewidth\":0,\"ticks\":\"\"}},\"marker\":{\"colorbar\":{\"outlinewidth\":0,\"ticks\":\"\"}}}],\"scattermapbox\":[{\"type\":\"scattermapbox\",\"marker\":{\"colorbar\":{\"outlinewidth\":0,\"ticks\":\"\"}}}],\"scatterternary\":[{\"type\":\"scatterternary\",\"marker\":{\"colorbar\":{\"outlinewidth\":0,\"ticks\":\"\"}}}],\"scattercarpet\":[{\"type\":\"scattercarpet\",\"marker\":{\"colorbar\":{\"outlinewidth\":0,\"ticks\":\"\"}}}],\"carpet\":[{\"aaxis\":{\"endlinecolor\":\"#2a3f5f\",\"gridcolor\":\"white\",\"linecolor\":\"white\",\"minorgridcolor\":\"white\",\"startlinecolor\":\"#2a3f5f\"},\"baxis\":{\"endlinecolor\":\"#2a3f5f\",\"gridcolor\":\"white\",\"linecolor\":\"white\",\"minorgridcolor\":\"white\",\"startlinecolor\":\"#2a3f5f\"},\"type\":\"carpet\"}],\"table\":[{\"cells\":{\"fill\":{\"color\":\"#EBF0F8\"},\"line\":{\"color\":\"white\"}},\"header\":{\"fill\":{\"color\":\"#C8D4E3\"},\"line\":{\"color\":\"white\"}},\"type\":\"table\"}],\"barpolar\":[{\"marker\":{\"line\":{\"color\":\"#E5ECF6\",\"width\":0.5},\"pattern\":{\"fillmode\":\"overlay\",\"size\":10,\"solidity\":0.2}},\"type\":\"barpolar\"}],\"pie\":[{\"automargin\":true,\"type\":\"pie\"}]},\"layout\":{\"autotypenumbers\":\"strict\",\"colorway\":[\"#636efa\",\"#EF553B\",\"#00cc96\",\"#ab63fa\",\"#FFA15A\",\"#19d3f3\",\"#FF6692\",\"#B6E880\",\"#FF97FF\",\"#FECB52\"],\"font\":{\"color\":\"#2a3f5f\"},\"hovermode\":\"closest\",\"hoverlabel\":{\"align\":\"left\"},\"paper_bgcolor\":\"white\",\"plot_bgcolor\":\"#E5ECF6\",\"polar\":{\"bgcolor\":\"#E5ECF6\",\"angularaxis\":{\"gridcolor\":\"white\",\"linecolor\":\"white\",\"ticks\":\"\"},\"radialaxis\":{\"gridcolor\":\"white\",\"linecolor\":\"white\",\"ticks\":\"\"}},\"ternary\":{\"bgcolor\":\"#E5ECF6\",\"aaxis\":{\"gridcolor\":\"white\",\"linecolor\":\"white\",\"ticks\":\"\"},\"baxis\":{\"gridcolor\":\"white\",\"linecolor\":\"white\",\"ticks\":\"\"},\"caxis\":{\"gridcolor\":\"white\",\"linecolor\":\"white\",\"ticks\":\"\"}},\"coloraxis\":{\"colorbar\":{\"outlinewidth\":0,\"ticks\":\"\"}},\"colorscale\":{\"sequential\":[[0.0,\"#0d0887\"],[0.1111111111111111,\"#46039f\"],[0.2222222222222222,\"#7201a8\"],[0.3333333333333333,\"#9c179e\"],[0.4444444444444444,\"#bd3786\"],[0.5555555555555556,\"#d8576b\"],[0.6666666666666666,\"#ed7953\"],[0.7777777777777778,\"#fb9f3a\"],[0.8888888888888888,\"#fdca26\"],[1.0,\"#f0f921\"]],\"sequentialminus\":[[0.0,\"#0d0887\"],[0.1111111111111111,\"#46039f\"],[0.2222222222222222,\"#7201a8\"],[0.3333333333333333,\"#9c179e\"],[0.4444444444444444,\"#bd3786\"],[0.5555555555555556,\"#d8576b\"],[0.6666666666666666,\"#ed7953\"],[0.7777777777777778,\"#fb9f3a\"],[0.8888888888888888,\"#fdca26\"],[1.0,\"#f0f921\"]],\"diverging\":[[0,\"#8e0152\"],[0.1,\"#c51b7d\"],[0.2,\"#de77ae\"],[0.3,\"#f1b6da\"],[0.4,\"#fde0ef\"],[0.5,\"#f7f7f7\"],[0.6,\"#e6f5d0\"],[0.7,\"#b8e186\"],[0.8,\"#7fbc41\"],[0.9,\"#4d9221\"],[1,\"#276419\"]]},\"xaxis\":{\"gridcolor\":\"white\",\"linecolor\":\"white\",\"ticks\":\"\",\"title\":{\"standoff\":15},\"zerolinecolor\":\"white\",\"automargin\":true,\"zerolinewidth\":2},\"yaxis\":{\"gridcolor\":\"white\",\"linecolor\":\"white\",\"ticks\":\"\",\"title\":{\"standoff\":15},\"zerolinecolor\":\"white\",\"automargin\":true,\"zerolinewidth\":2},\"scene\":{\"xaxis\":{\"backgroundcolor\":\"#E5ECF6\",\"gridcolor\":\"white\",\"linecolor\":\"white\",\"showbackground\":true,\"ticks\":\"\",\"zerolinecolor\":\"white\",\"gridwidth\":2},\"yaxis\":{\"backgroundcolor\":\"#E5ECF6\",\"gridcolor\":\"white\",\"linecolor\":\"white\",\"showbackground\":true,\"ticks\":\"\",\"zerolinecolor\":\"white\",\"gridwidth\":2},\"zaxis\":{\"backgroundcolor\":\"#E5ECF6\",\"gridcolor\":\"white\",\"linecolor\":\"white\",\"showbackground\":true,\"ticks\":\"\",\"zerolinecolor\":\"white\",\"gridwidth\":2}},\"shapedefaults\":{\"line\":{\"color\":\"#2a3f5f\"}},\"annotationdefaults\":{\"arrowcolor\":\"#2a3f5f\",\"arrowhead\":0,\"arrowwidth\":1},\"geo\":{\"bgcolor\":\"white\",\"landcolor\":\"#E5ECF6\",\"subunitcolor\":\"white\",\"showland\":true,\"showlakes\":true,\"lakecolor\":\"white\"},\"title\":{\"x\":0.05},\"mapbox\":{\"style\":\"light\"}}},\"legend\":{\"tracegroupgap\":0},\"margin\":{\"t\":60}},                        {\"responsive\": true}                    ).then(function(){\n",
       "                            \n",
       "var gd = document.getElementById('6684f3b3-20d3-4627-97fb-1699996249fe');\n",
       "var x = new MutationObserver(function (mutations, observer) {{\n",
       "        var display = window.getComputedStyle(gd).display;\n",
       "        if (!display || display === 'none') {{\n",
       "            console.log([gd, 'removed!']);\n",
       "            Plotly.purge(gd);\n",
       "            observer.disconnect();\n",
       "        }}\n",
       "}});\n",
       "\n",
       "// Listen for the removal of the full notebook cells\n",
       "var notebookContainer = gd.closest('#notebook-container');\n",
       "if (notebookContainer) {{\n",
       "    x.observe(notebookContainer, {childList: true});\n",
       "}}\n",
       "\n",
       "// Listen for the clearing of the current output cell\n",
       "var outputEl = gd.closest('.output');\n",
       "if (outputEl) {{\n",
       "    x.observe(outputEl, {childList: true});\n",
       "}}\n",
       "\n",
       "                        })                };                });            </script>        </div>"
      ]
     },
     "metadata": {},
     "output_type": "display_data"
    }
   ],
   "source": [
    "sack_by_block = stats_data.groupby('pff_blockType')['pff_sackAllowed'].sum().sort_values(ascending=False).reset_index()\n",
    "fig = px.pie(sack_by_block, values='pff_sackAllowed', names='pff_blockType')\n",
    "fig.update_traces(textposition='inside', textinfo='percent+label')\n",
    "fig.show()"
   ]
  },
  {
   "cell_type": "markdown",
   "id": "add74fec",
   "metadata": {
    "papermill": {
     "duration": 0.015724,
     "end_time": "2022-11-11T20:05:55.580421",
     "exception": false,
     "start_time": "2022-11-11T20:05:55.564697",
     "status": "completed"
    },
    "tags": []
   },
   "source": [
    "### Finding wich type of coverage allows more sacks, hits and hurries"
   ]
  },
  {
   "cell_type": "code",
   "execution_count": 18,
   "id": "2a4da280",
   "metadata": {
    "execution": {
     "iopub.execute_input": "2022-11-11T20:05:55.614190Z",
     "iopub.status.busy": "2022-11-11T20:05:55.613741Z",
     "iopub.status.idle": "2022-11-11T20:05:55.662393Z",
     "shell.execute_reply": "2022-11-11T20:05:55.660921Z"
    },
    "papermill": {
     "duration": 0.068909,
     "end_time": "2022-11-11T20:05:55.665154",
     "exception": false,
     "start_time": "2022-11-11T20:05:55.596245",
     "status": "completed"
    },
    "tags": []
   },
   "outputs": [],
   "source": [
    "## remove unwanted columns\n",
    "columns = ['playDescription', 'quarter', 'down', 'possessionTeam', 'defensiveTeam','yardlineSide','yardlineNumber','gameClock','preSnapHomeScore',\n",
    "          'preSnapVisitorScore','penaltyYards','prePenaltyPlayResult','playResult','foulName1','foulNFLId1','foulName2','foulNFLId2','foulName3',\n",
    "          'foulNFLId3','absoluteYardlineNumber','personnelO','personnelD']\n",
    "plays.drop(columns, axis=1, inplace=True)\n",
    "## merge with plays dataset\n",
    "stats_plays = pd.merge(stats_data, plays, how='inner', on=['gameId','playId'])"
   ]
  },
  {
   "cell_type": "code",
   "execution_count": 19,
   "id": "271a0242",
   "metadata": {
    "execution": {
     "iopub.execute_input": "2022-11-11T20:05:55.698873Z",
     "iopub.status.busy": "2022-11-11T20:05:55.698505Z",
     "iopub.status.idle": "2022-11-11T20:05:55.752531Z",
     "shell.execute_reply": "2022-11-11T20:05:55.751378Z"
    },
    "papermill": {
     "duration": 0.073943,
     "end_time": "2022-11-11T20:05:55.755092",
     "exception": false,
     "start_time": "2022-11-11T20:05:55.681149",
     "status": "completed"
    },
    "tags": []
   },
   "outputs": [
    {
     "data": {
      "text/html": [
       "<div>\n",
       "<style scoped>\n",
       "    .dataframe tbody tr th:only-of-type {\n",
       "        vertical-align: middle;\n",
       "    }\n",
       "\n",
       "    .dataframe tbody tr th {\n",
       "        vertical-align: top;\n",
       "    }\n",
       "\n",
       "    .dataframe thead th {\n",
       "        text-align: right;\n",
       "    }\n",
       "</style>\n",
       "<table border=\"1\" class=\"dataframe\">\n",
       "  <thead>\n",
       "    <tr style=\"text-align: right;\">\n",
       "      <th></th>\n",
       "      <th>pff_passCoverage</th>\n",
       "      <th>pff_passCoverageType</th>\n",
       "      <th>pff_sackAllowed</th>\n",
       "      <th>pff_hitAllowed</th>\n",
       "      <th>pff_hurryAllowed</th>\n",
       "    </tr>\n",
       "  </thead>\n",
       "  <tbody>\n",
       "    <tr>\n",
       "      <th>3</th>\n",
       "      <td>Cover-1</td>\n",
       "      <td>Man</td>\n",
       "      <td>90.0</td>\n",
       "      <td>130.0</td>\n",
       "      <td>497.0</td>\n",
       "    </tr>\n",
       "    <tr>\n",
       "      <th>5</th>\n",
       "      <td>Cover-3</td>\n",
       "      <td>Zone</td>\n",
       "      <td>83.0</td>\n",
       "      <td>146.0</td>\n",
       "      <td>536.0</td>\n",
       "    </tr>\n",
       "    <tr>\n",
       "      <th>4</th>\n",
       "      <td>Cover-2</td>\n",
       "      <td>Zone</td>\n",
       "      <td>37.0</td>\n",
       "      <td>55.0</td>\n",
       "      <td>243.0</td>\n",
       "    </tr>\n",
       "    <tr>\n",
       "      <th>10</th>\n",
       "      <td>Quarters</td>\n",
       "      <td>Zone</td>\n",
       "      <td>31.0</td>\n",
       "      <td>59.0</td>\n",
       "      <td>239.0</td>\n",
       "    </tr>\n",
       "    <tr>\n",
       "      <th>6</th>\n",
       "      <td>Cover-6</td>\n",
       "      <td>Zone</td>\n",
       "      <td>30.0</td>\n",
       "      <td>44.0</td>\n",
       "      <td>177.0</td>\n",
       "    </tr>\n",
       "    <tr>\n",
       "      <th>11</th>\n",
       "      <td>Red Zone</td>\n",
       "      <td>Other</td>\n",
       "      <td>14.0</td>\n",
       "      <td>18.0</td>\n",
       "      <td>91.0</td>\n",
       "    </tr>\n",
       "    <tr>\n",
       "      <th>0</th>\n",
       "      <td>2-Man</td>\n",
       "      <td>Man</td>\n",
       "      <td>9.0</td>\n",
       "      <td>13.0</td>\n",
       "      <td>42.0</td>\n",
       "    </tr>\n",
       "    <tr>\n",
       "      <th>2</th>\n",
       "      <td>Cover-0</td>\n",
       "      <td>Man</td>\n",
       "      <td>7.0</td>\n",
       "      <td>10.0</td>\n",
       "      <td>39.0</td>\n",
       "    </tr>\n",
       "    <tr>\n",
       "      <th>1</th>\n",
       "      <td>Bracket</td>\n",
       "      <td>Other</td>\n",
       "      <td>3.0</td>\n",
       "      <td>1.0</td>\n",
       "      <td>15.0</td>\n",
       "    </tr>\n",
       "    <tr>\n",
       "      <th>8</th>\n",
       "      <td>Miscellaneous</td>\n",
       "      <td>Other</td>\n",
       "      <td>2.0</td>\n",
       "      <td>0.0</td>\n",
       "      <td>1.0</td>\n",
       "    </tr>\n",
       "    <tr>\n",
       "      <th>7</th>\n",
       "      <td>Goal Line</td>\n",
       "      <td>Other</td>\n",
       "      <td>0.0</td>\n",
       "      <td>1.0</td>\n",
       "      <td>2.0</td>\n",
       "    </tr>\n",
       "    <tr>\n",
       "      <th>9</th>\n",
       "      <td>Prevent</td>\n",
       "      <td>Other</td>\n",
       "      <td>0.0</td>\n",
       "      <td>0.0</td>\n",
       "      <td>7.0</td>\n",
       "    </tr>\n",
       "  </tbody>\n",
       "</table>\n",
       "</div>"
      ],
      "text/plain": [
       "   pff_passCoverage pff_passCoverageType  pff_sackAllowed  pff_hitAllowed  \\\n",
       "3           Cover-1                  Man             90.0           130.0   \n",
       "5           Cover-3                 Zone             83.0           146.0   \n",
       "4           Cover-2                 Zone             37.0            55.0   \n",
       "10         Quarters                 Zone             31.0            59.0   \n",
       "6           Cover-6                 Zone             30.0            44.0   \n",
       "11         Red Zone                Other             14.0            18.0   \n",
       "0             2-Man                  Man              9.0            13.0   \n",
       "2           Cover-0                  Man              7.0            10.0   \n",
       "1           Bracket                Other              3.0             1.0   \n",
       "8     Miscellaneous                Other              2.0             0.0   \n",
       "7         Goal Line                Other              0.0             1.0   \n",
       "9           Prevent                Other              0.0             0.0   \n",
       "\n",
       "    pff_hurryAllowed  \n",
       "3              497.0  \n",
       "5              536.0  \n",
       "4              243.0  \n",
       "10             239.0  \n",
       "6              177.0  \n",
       "11              91.0  \n",
       "0               42.0  \n",
       "2               39.0  \n",
       "1               15.0  \n",
       "8                1.0  \n",
       "7                2.0  \n",
       "9                7.0  "
      ]
     },
     "execution_count": 19,
     "metadata": {},
     "output_type": "execute_result"
    }
   ],
   "source": [
    "coverages = stats_plays.groupby(['pff_passCoverage','pff_passCoverageType'])['pff_sackAllowed','pff_hitAllowed','pff_hurryAllowed'].sum().reset_index()\n",
    "## sort by sacks, hits and hurries\n",
    "coverages.sort_values(by=['pff_sackAllowed','pff_hitAllowed','pff_hurryAllowed'], ascending=False)"
   ]
  },
  {
   "cell_type": "markdown",
   "id": "14e1791a",
   "metadata": {
    "papermill": {
     "duration": 0.016066,
     "end_time": "2022-11-11T20:05:55.788130",
     "exception": false,
     "start_time": "2022-11-11T20:05:55.772064",
     "status": "completed"
    },
    "tags": []
   },
   "source": [
    "### Pass result acoording to the sacks, hits and hurries"
   ]
  },
  {
   "cell_type": "code",
   "execution_count": 20,
   "id": "0f50fc6d",
   "metadata": {
    "execution": {
     "iopub.execute_input": "2022-11-11T20:05:55.822766Z",
     "iopub.status.busy": "2022-11-11T20:05:55.822297Z",
     "iopub.status.idle": "2022-11-11T20:05:55.874586Z",
     "shell.execute_reply": "2022-11-11T20:05:55.873401Z"
    },
    "papermill": {
     "duration": 0.072701,
     "end_time": "2022-11-11T20:05:55.877047",
     "exception": false,
     "start_time": "2022-11-11T20:05:55.804346",
     "status": "completed"
    },
    "tags": []
   },
   "outputs": [
    {
     "data": {
      "text/html": [
       "<div>\n",
       "<style scoped>\n",
       "    .dataframe tbody tr th:only-of-type {\n",
       "        vertical-align: middle;\n",
       "    }\n",
       "\n",
       "    .dataframe tbody tr th {\n",
       "        vertical-align: top;\n",
       "    }\n",
       "\n",
       "    .dataframe thead th {\n",
       "        text-align: right;\n",
       "    }\n",
       "</style>\n",
       "<table border=\"1\" class=\"dataframe\">\n",
       "  <thead>\n",
       "    <tr style=\"text-align: right;\">\n",
       "      <th></th>\n",
       "      <th>passResult</th>\n",
       "      <th>pff_sackAllowed</th>\n",
       "      <th>pff_hitAllowed</th>\n",
       "      <th>pff_hurryAllowed</th>\n",
       "    </tr>\n",
       "  </thead>\n",
       "  <tbody>\n",
       "    <tr>\n",
       "      <th>3</th>\n",
       "      <td>QB Sack</td>\n",
       "      <td>306.0</td>\n",
       "      <td>2.0</td>\n",
       "      <td>193.0</td>\n",
       "    </tr>\n",
       "    <tr>\n",
       "      <th>1</th>\n",
       "      <td>Incomplete pass</td>\n",
       "      <td>0.0</td>\n",
       "      <td>265.0</td>\n",
       "      <td>697.0</td>\n",
       "    </tr>\n",
       "    <tr>\n",
       "      <th>0</th>\n",
       "      <td>Complete pass</td>\n",
       "      <td>0.0</td>\n",
       "      <td>187.0</td>\n",
       "      <td>733.0</td>\n",
       "    </tr>\n",
       "    <tr>\n",
       "      <th>2</th>\n",
       "      <td>Interception</td>\n",
       "      <td>0.0</td>\n",
       "      <td>23.0</td>\n",
       "      <td>42.0</td>\n",
       "    </tr>\n",
       "    <tr>\n",
       "      <th>4</th>\n",
       "      <td>Scramble</td>\n",
       "      <td>0.0</td>\n",
       "      <td>0.0</td>\n",
       "      <td>224.0</td>\n",
       "    </tr>\n",
       "  </tbody>\n",
       "</table>\n",
       "</div>"
      ],
      "text/plain": [
       "        passResult  pff_sackAllowed  pff_hitAllowed  pff_hurryAllowed\n",
       "3          QB Sack            306.0             2.0             193.0\n",
       "1  Incomplete pass              0.0           265.0             697.0\n",
       "0    Complete pass              0.0           187.0             733.0\n",
       "2     Interception              0.0            23.0              42.0\n",
       "4         Scramble              0.0             0.0             224.0"
      ]
     },
     "execution_count": 20,
     "metadata": {},
     "output_type": "execute_result"
    }
   ],
   "source": [
    "stats_plays.loc[stats_plays['passResult'] == 'C', 'passResult'] = \"Complete pass\"\n",
    "stats_plays.loc[stats_plays['passResult'] == 'I', 'passResult'] = \"Incomplete pass\"\n",
    "stats_plays.loc[stats_plays['passResult'] == 'S', 'passResult'] = \"QB Sack\"\n",
    "stats_plays.loc[stats_plays['passResult'] == 'IN', 'passResult'] = \"Interception\"\n",
    "stats_plays.loc[stats_plays['passResult'] == 'R', 'passResult'] = \"Scramble\"\n",
    "pass_results = stats_plays.groupby('passResult')['pff_sackAllowed','pff_hitAllowed','pff_hurryAllowed'].sum().reset_index()\n",
    "pass_results.sort_values(by=['pff_sackAllowed','pff_hitAllowed','pff_hurryAllowed'], ascending=False)"
   ]
  },
  {
   "cell_type": "markdown",
   "id": "2111d5d6",
   "metadata": {
    "papermill": {
     "duration": 0.017003,
     "end_time": "2022-11-11T20:05:55.911261",
     "exception": false,
     "start_time": "2022-11-11T20:05:55.894258",
     "status": "completed"
    },
    "tags": []
   },
   "source": [
    "## Try to predict the result of the pass based on pass situation variables"
   ]
  },
  {
   "cell_type": "markdown",
   "id": "1872deae",
   "metadata": {
    "papermill": {
     "duration": 0.016829,
     "end_time": "2022-11-11T20:05:55.945442",
     "exception": false,
     "start_time": "2022-11-11T20:05:55.928613",
     "status": "completed"
    },
    "tags": []
   },
   "source": [
    "### Data Preprocessing\n",
    "\n",
    "First of all we group and get the data we are interested in. For this analysis we will get the pass situation variables as our variables and the pass result as our dependent variable"
   ]
  },
  {
   "cell_type": "code",
   "execution_count": 21,
   "id": "527c315e",
   "metadata": {
    "execution": {
     "iopub.execute_input": "2022-11-11T20:05:55.981938Z",
     "iopub.status.busy": "2022-11-11T20:05:55.981541Z",
     "iopub.status.idle": "2022-11-11T20:05:56.017395Z",
     "shell.execute_reply": "2022-11-11T20:05:56.016345Z"
    },
    "papermill": {
     "duration": 0.057104,
     "end_time": "2022-11-11T20:05:56.019817",
     "exception": false,
     "start_time": "2022-11-11T20:05:55.962713",
     "status": "completed"
    },
    "tags": []
   },
   "outputs": [
    {
     "data": {
      "text/html": [
       "<div>\n",
       "<style scoped>\n",
       "    .dataframe tbody tr th:only-of-type {\n",
       "        vertical-align: middle;\n",
       "    }\n",
       "\n",
       "    .dataframe tbody tr th {\n",
       "        vertical-align: top;\n",
       "    }\n",
       "\n",
       "    .dataframe thead th {\n",
       "        text-align: right;\n",
       "    }\n",
       "</style>\n",
       "<table border=\"1\" class=\"dataframe\">\n",
       "  <thead>\n",
       "    <tr style=\"text-align: right;\">\n",
       "      <th></th>\n",
       "      <th>yardsToGo</th>\n",
       "      <th>dropBackType</th>\n",
       "      <th>offenseFormation</th>\n",
       "      <th>pff_playAction</th>\n",
       "      <th>defendersInBox</th>\n",
       "      <th>pff_passCoverage</th>\n",
       "      <th>pff_passCoverageType</th>\n",
       "      <th>passResult</th>\n",
       "    </tr>\n",
       "  </thead>\n",
       "  <tbody>\n",
       "    <tr>\n",
       "      <th>0</th>\n",
       "      <td>10</td>\n",
       "      <td>TRADITIONAL</td>\n",
       "      <td>SINGLEBACK</td>\n",
       "      <td>1</td>\n",
       "      <td>8.0</td>\n",
       "      <td>Cover-3</td>\n",
       "      <td>Zone</td>\n",
       "      <td>Complete pass</td>\n",
       "    </tr>\n",
       "    <tr>\n",
       "      <th>1</th>\n",
       "      <td>10</td>\n",
       "      <td>TRADITIONAL</td>\n",
       "      <td>EMPTY</td>\n",
       "      <td>0</td>\n",
       "      <td>7.0</td>\n",
       "      <td>Quarters</td>\n",
       "      <td>Zone</td>\n",
       "      <td>Complete pass</td>\n",
       "    </tr>\n",
       "    <tr>\n",
       "      <th>2</th>\n",
       "      <td>10</td>\n",
       "      <td>TRADITIONAL</td>\n",
       "      <td>I_FORM</td>\n",
       "      <td>1</td>\n",
       "      <td>7.0</td>\n",
       "      <td>Cover-2</td>\n",
       "      <td>Zone</td>\n",
       "      <td>Complete pass</td>\n",
       "    </tr>\n",
       "    <tr>\n",
       "      <th>3</th>\n",
       "      <td>10</td>\n",
       "      <td>SCRAMBLE_ROLLOUT_RIGHT</td>\n",
       "      <td>PISTOL</td>\n",
       "      <td>1</td>\n",
       "      <td>6.0</td>\n",
       "      <td>Cover-3</td>\n",
       "      <td>Zone</td>\n",
       "      <td>Scramble</td>\n",
       "    </tr>\n",
       "    <tr>\n",
       "      <th>4</th>\n",
       "      <td>10</td>\n",
       "      <td>TRADITIONAL</td>\n",
       "      <td>SHOTGUN</td>\n",
       "      <td>0</td>\n",
       "      <td>7.0</td>\n",
       "      <td>Cover-3</td>\n",
       "      <td>Zone</td>\n",
       "      <td>Incomplete pass</td>\n",
       "    </tr>\n",
       "  </tbody>\n",
       "</table>\n",
       "</div>"
      ],
      "text/plain": [
       "   yardsToGo            dropBackType offenseFormation  pff_playAction  \\\n",
       "0         10             TRADITIONAL       SINGLEBACK               1   \n",
       "1         10             TRADITIONAL            EMPTY               0   \n",
       "2         10             TRADITIONAL           I_FORM               1   \n",
       "3         10  SCRAMBLE_ROLLOUT_RIGHT           PISTOL               1   \n",
       "4         10             TRADITIONAL          SHOTGUN               0   \n",
       "\n",
       "   defendersInBox pff_passCoverage pff_passCoverageType       passResult  \n",
       "0             8.0          Cover-3                 Zone    Complete pass  \n",
       "1             7.0         Quarters                 Zone    Complete pass  \n",
       "2             7.0          Cover-2                 Zone    Complete pass  \n",
       "3             6.0          Cover-3                 Zone         Scramble  \n",
       "4             7.0          Cover-3                 Zone  Incomplete pass  "
      ]
     },
     "execution_count": 21,
     "metadata": {},
     "output_type": "execute_result"
    }
   ],
   "source": [
    "df = stats_plays.groupby('playId')['yardsToGo','dropBackType','offenseFormation','pff_playAction','defendersInBox','pff_passCoverage','pff_passCoverageType','passResult'].first().reset_index()\n",
    "df.drop(['playId'], axis=1, inplace=True)\n",
    "df.head()"
   ]
  },
  {
   "cell_type": "markdown",
   "id": "92b58edd",
   "metadata": {
    "papermill": {
     "duration": 0.016912,
     "end_time": "2022-11-11T20:05:56.054646",
     "exception": false,
     "start_time": "2022-11-11T20:05:56.037734",
     "status": "completed"
    },
    "tags": []
   },
   "source": [
    "Next we’ll check our dataset for null values"
   ]
  },
  {
   "cell_type": "code",
   "execution_count": 22,
   "id": "e7af18b0",
   "metadata": {
    "execution": {
     "iopub.execute_input": "2022-11-11T20:05:56.091229Z",
     "iopub.status.busy": "2022-11-11T20:05:56.090808Z",
     "iopub.status.idle": "2022-11-11T20:05:56.102396Z",
     "shell.execute_reply": "2022-11-11T20:05:56.101058Z"
    },
    "papermill": {
     "duration": 0.032983,
     "end_time": "2022-11-11T20:05:56.104906",
     "exception": false,
     "start_time": "2022-11-11T20:05:56.071923",
     "status": "completed"
    },
    "tags": []
   },
   "outputs": [
    {
     "data": {
      "text/plain": [
       "yardsToGo                0\n",
       "dropBackType            94\n",
       "offenseFormation         1\n",
       "pff_playAction           0\n",
       "defendersInBox           1\n",
       "pff_passCoverage         0\n",
       "pff_passCoverageType     0\n",
       "passResult               0\n",
       "dtype: int64"
      ]
     },
     "execution_count": 22,
     "metadata": {},
     "output_type": "execute_result"
    }
   ],
   "source": [
    "df.isnull().sum()"
   ]
  },
  {
   "cell_type": "markdown",
   "id": "c7891c3b",
   "metadata": {
    "papermill": {
     "duration": 0.016984,
     "end_time": "2022-11-11T20:05:56.139952",
     "exception": false,
     "start_time": "2022-11-11T20:05:56.122968",
     "status": "completed"
    },
    "tags": []
   },
   "source": [
    "In next two variables we decided to fill the NaN values with the UNKNOWN word"
   ]
  },
  {
   "cell_type": "code",
   "execution_count": 23,
   "id": "8498934e",
   "metadata": {
    "execution": {
     "iopub.execute_input": "2022-11-11T20:05:56.176731Z",
     "iopub.status.busy": "2022-11-11T20:05:56.176242Z",
     "iopub.status.idle": "2022-11-11T20:05:56.185201Z",
     "shell.execute_reply": "2022-11-11T20:05:56.184111Z"
    },
    "papermill": {
     "duration": 0.030358,
     "end_time": "2022-11-11T20:05:56.187607",
     "exception": false,
     "start_time": "2022-11-11T20:05:56.157249",
     "status": "completed"
    },
    "tags": []
   },
   "outputs": [
    {
     "data": {
      "text/plain": [
       "array(['TRADITIONAL', 'SCRAMBLE_ROLLOUT_RIGHT', 'DESIGNED_ROLLOUT_RIGHT',\n",
       "       'SCRAMBLE', None, 'DESIGNED_ROLLOUT_LEFT', 'SCRAMBLE_ROLLOUT_LEFT',\n",
       "       'DESIGNED_RUN'], dtype=object)"
      ]
     },
     "execution_count": 23,
     "metadata": {},
     "output_type": "execute_result"
    }
   ],
   "source": [
    "df.dropBackType.unique()"
   ]
  },
  {
   "cell_type": "code",
   "execution_count": 24,
   "id": "3f3da1df",
   "metadata": {
    "execution": {
     "iopub.execute_input": "2022-11-11T20:05:56.224651Z",
     "iopub.status.busy": "2022-11-11T20:05:56.224185Z",
     "iopub.status.idle": "2022-11-11T20:05:56.230775Z",
     "shell.execute_reply": "2022-11-11T20:05:56.229702Z"
    },
    "papermill": {
     "duration": 0.0281,
     "end_time": "2022-11-11T20:05:56.233291",
     "exception": false,
     "start_time": "2022-11-11T20:05:56.205191",
     "status": "completed"
    },
    "tags": []
   },
   "outputs": [],
   "source": [
    "df['dropBackType'] = df['dropBackType'].fillna('UNKNOWN')"
   ]
  },
  {
   "cell_type": "code",
   "execution_count": 25,
   "id": "da6eae8f",
   "metadata": {
    "execution": {
     "iopub.execute_input": "2022-11-11T20:05:56.270620Z",
     "iopub.status.busy": "2022-11-11T20:05:56.270204Z",
     "iopub.status.idle": "2022-11-11T20:05:56.278125Z",
     "shell.execute_reply": "2022-11-11T20:05:56.276805Z"
    },
    "papermill": {
     "duration": 0.02941,
     "end_time": "2022-11-11T20:05:56.280606",
     "exception": false,
     "start_time": "2022-11-11T20:05:56.251196",
     "status": "completed"
    },
    "tags": []
   },
   "outputs": [
    {
     "data": {
      "text/plain": [
       "array(['SINGLEBACK', 'EMPTY', 'I_FORM', 'PISTOL', 'SHOTGUN', 'WILDCAT',\n",
       "       'JUMBO', None], dtype=object)"
      ]
     },
     "execution_count": 25,
     "metadata": {},
     "output_type": "execute_result"
    }
   ],
   "source": [
    "df.offenseFormation.unique()"
   ]
  },
  {
   "cell_type": "code",
   "execution_count": 26,
   "id": "5684e47b",
   "metadata": {
    "execution": {
     "iopub.execute_input": "2022-11-11T20:05:56.319173Z",
     "iopub.status.busy": "2022-11-11T20:05:56.318773Z",
     "iopub.status.idle": "2022-11-11T20:05:56.324777Z",
     "shell.execute_reply": "2022-11-11T20:05:56.323945Z"
    },
    "papermill": {
     "duration": 0.027762,
     "end_time": "2022-11-11T20:05:56.326968",
     "exception": false,
     "start_time": "2022-11-11T20:05:56.299206",
     "status": "completed"
    },
    "tags": []
   },
   "outputs": [],
   "source": [
    "df['offenseFormation'] = df['offenseFormation'].fillna('UNKNOWN')"
   ]
  },
  {
   "cell_type": "markdown",
   "id": "d4d5e69a",
   "metadata": {
    "papermill": {
     "duration": 0.01714,
     "end_time": "2022-11-11T20:05:56.361793",
     "exception": false,
     "start_time": "2022-11-11T20:05:56.344653",
     "status": "completed"
    },
    "tags": []
   },
   "source": [
    "For defendersInBox variable, we decided to drop the row with NaN values, as it is only one record"
   ]
  },
  {
   "cell_type": "code",
   "execution_count": 27,
   "id": "a63144c4",
   "metadata": {
    "execution": {
     "iopub.execute_input": "2022-11-11T20:05:56.398644Z",
     "iopub.status.busy": "2022-11-11T20:05:56.398257Z",
     "iopub.status.idle": "2022-11-11T20:05:56.404705Z",
     "shell.execute_reply": "2022-11-11T20:05:56.403837Z"
    },
    "papermill": {
     "duration": 0.027532,
     "end_time": "2022-11-11T20:05:56.406779",
     "exception": false,
     "start_time": "2022-11-11T20:05:56.379247",
     "status": "completed"
    },
    "tags": []
   },
   "outputs": [
    {
     "data": {
      "text/plain": [
       "array([ 8.,  7.,  6.,  5.,  4.,  9., 11.,  3., 10.,  2.,  1., nan])"
      ]
     },
     "execution_count": 27,
     "metadata": {},
     "output_type": "execute_result"
    }
   ],
   "source": [
    "df.defendersInBox.unique()"
   ]
  },
  {
   "cell_type": "code",
   "execution_count": 28,
   "id": "deea682d",
   "metadata": {
    "execution": {
     "iopub.execute_input": "2022-11-11T20:05:56.445086Z",
     "iopub.status.busy": "2022-11-11T20:05:56.444394Z",
     "iopub.status.idle": "2022-11-11T20:05:56.451100Z",
     "shell.execute_reply": "2022-11-11T20:05:56.450357Z"
    },
    "papermill": {
     "duration": 0.028397,
     "end_time": "2022-11-11T20:05:56.453475",
     "exception": false,
     "start_time": "2022-11-11T20:05:56.425078",
     "status": "completed"
    },
    "tags": []
   },
   "outputs": [],
   "source": [
    "df.dropna(subset=['defendersInBox'], inplace=True)"
   ]
  },
  {
   "cell_type": "markdown",
   "id": "a289f2e9",
   "metadata": {
    "papermill": {
     "duration": 0.017529,
     "end_time": "2022-11-11T20:05:56.489031",
     "exception": false,
     "start_time": "2022-11-11T20:05:56.471502",
     "status": "completed"
    },
    "tags": []
   },
   "source": [
    "Now we do not have any NaN records"
   ]
  },
  {
   "cell_type": "code",
   "execution_count": 29,
   "id": "9b99a3b2",
   "metadata": {
    "execution": {
     "iopub.execute_input": "2022-11-11T20:05:56.526406Z",
     "iopub.status.busy": "2022-11-11T20:05:56.525942Z",
     "iopub.status.idle": "2022-11-11T20:05:56.536151Z",
     "shell.execute_reply": "2022-11-11T20:05:56.535371Z"
    },
    "papermill": {
     "duration": 0.031568,
     "end_time": "2022-11-11T20:05:56.538351",
     "exception": false,
     "start_time": "2022-11-11T20:05:56.506783",
     "status": "completed"
    },
    "tags": []
   },
   "outputs": [
    {
     "data": {
      "text/plain": [
       "yardsToGo               0\n",
       "dropBackType            0\n",
       "offenseFormation        0\n",
       "pff_playAction          0\n",
       "defendersInBox          0\n",
       "pff_passCoverage        0\n",
       "pff_passCoverageType    0\n",
       "passResult              0\n",
       "dtype: int64"
      ]
     },
     "execution_count": 29,
     "metadata": {},
     "output_type": "execute_result"
    }
   ],
   "source": [
    "df.isnull().sum()"
   ]
  },
  {
   "cell_type": "markdown",
   "id": "4f2c3ee1",
   "metadata": {
    "papermill": {
     "duration": 0.017551,
     "end_time": "2022-11-11T20:05:56.573955",
     "exception": false,
     "start_time": "2022-11-11T20:05:56.556404",
     "status": "completed"
    },
    "tags": []
   },
   "source": [
    "### Distribution of pass results\n",
    "\n",
    "We’ll start with a visualization of our output variable"
   ]
  },
  {
   "cell_type": "code",
   "execution_count": 30,
   "id": "227bb979",
   "metadata": {
    "execution": {
     "iopub.execute_input": "2022-11-11T20:05:56.612281Z",
     "iopub.status.busy": "2022-11-11T20:05:56.611332Z",
     "iopub.status.idle": "2022-11-11T20:05:56.685411Z",
     "shell.execute_reply": "2022-11-11T20:05:56.684087Z"
    },
    "papermill": {
     "duration": 0.097238,
     "end_time": "2022-11-11T20:05:56.689270",
     "exception": false,
     "start_time": "2022-11-11T20:05:56.592032",
     "status": "completed"
    },
    "tags": []
   },
   "outputs": [
    {
     "data": {
      "text/html": [
       "<div>                            <div id=\"92badef8-5889-4f4e-ab70-6cc02c5bbec7\" class=\"plotly-graph-div\" style=\"height:525px; width:100%;\"></div>            <script type=\"text/javascript\">                require([\"plotly\"], function(Plotly) {                    window.PLOTLYENV=window.PLOTLYENV || {};                                    if (document.getElementById(\"92badef8-5889-4f4e-ab70-6cc02c5bbec7\")) {                    Plotly.newPlot(                        \"92badef8-5889-4f4e-ab70-6cc02c5bbec7\",                        [{\"alignmentgroup\":\"True\",\"bingroup\":\"x\",\"hovertemplate\":\"passResult=%{x}<br>count=%{y}<extra></extra>\",\"legendgroup\":\"\",\"marker\":{\"color\":\"#636efa\",\"pattern\":{\"shape\":\"\"}},\"name\":\"\",\"offsetgroup\":\"\",\"orientation\":\"v\",\"showlegend\":false,\"x\":[\"Complete pass\",\"Complete pass\",\"Complete pass\",\"Scramble\",\"Incomplete pass\",\"Incomplete pass\",\"Complete pass\",\"Complete pass\",\"Incomplete pass\",\"Complete pass\",\"Incomplete pass\",\"Complete pass\",\"Complete pass\",\"Incomplete pass\",\"Complete pass\",\"Complete pass\",\"Incomplete pass\",\"Complete pass\",\"Complete pass\",\"Complete pass\",\"Incomplete pass\",\"Complete pass\",\"Complete pass\",\"Complete pass\",\"Complete pass\",\"Complete pass\",\"QB Sack\",\"Complete pass\",\"Incomplete pass\",\"Complete pass\",\"Complete pass\",\"Complete pass\",\"Complete pass\",\"Complete pass\",\"Incomplete pass\",\"Incomplete pass\",\"Incomplete pass\",\"Complete pass\",\"Complete pass\",\"Incomplete pass\",\"Scramble\",\"Incomplete pass\",\"Incomplete pass\",\"QB Sack\",\"Complete pass\",\"Complete pass\",\"Complete pass\",\"Incomplete pass\",\"Incomplete pass\",\"Complete pass\",\"Complete pass\",\"Incomplete pass\",\"Incomplete pass\",\"Complete pass\",\"Complete pass\",\"Incomplete pass\",\"Incomplete pass\",\"Complete pass\",\"Incomplete pass\",\"QB Sack\",\"Complete pass\",\"Incomplete pass\",\"Complete pass\",\"Complete pass\",\"Complete pass\",\"Incomplete pass\",\"Incomplete pass\",\"Complete pass\",\"Complete pass\",\"Incomplete pass\",\"Scramble\",\"Complete pass\",\"Complete pass\",\"Complete pass\",\"Incomplete pass\",\"Scramble\",\"Incomplete pass\",\"Incomplete pass\",\"Complete pass\",\"Complete pass\",\"Incomplete pass\",\"Incomplete pass\",\"Scramble\",\"Complete pass\",\"Incomplete pass\",\"Complete pass\",\"Incomplete pass\",\"Complete pass\",\"QB Sack\",\"Complete pass\",\"Scramble\",\"Incomplete pass\",\"Complete pass\",\"Incomplete pass\",\"Complete pass\",\"Complete pass\",\"Incomplete pass\",\"Incomplete pass\",\"Complete pass\",\"Incomplete pass\",\"Scramble\",\"Incomplete pass\",\"Complete pass\",\"Incomplete pass\",\"Complete pass\",\"Incomplete pass\",\"Incomplete pass\",\"Incomplete pass\",\"Complete pass\",\"Complete pass\",\"Complete pass\",\"Incomplete pass\",\"Complete pass\",\"Complete pass\",\"Complete pass\",\"Incomplete pass\",\"Complete pass\",\"Complete pass\",\"Incomplete pass\",\"Scramble\",\"Complete pass\",\"Interception\",\"Complete pass\",\"Incomplete pass\",\"QB Sack\",\"Incomplete pass\",\"Complete pass\",\"Incomplete pass\",\"Complete pass\",\"Incomplete pass\",\"QB Sack\",\"Incomplete pass\",\"Incomplete pass\",\"Incomplete pass\",\"QB Sack\",\"Complete pass\",\"Complete pass\",\"Complete pass\",\"Complete pass\",\"Incomplete pass\",\"Incomplete pass\",\"Complete pass\",\"Complete pass\",\"Incomplete pass\",\"Complete pass\",\"Complete pass\",\"Incomplete pass\",\"Incomplete pass\",\"Complete pass\",\"Complete pass\",\"QB Sack\",\"Incomplete pass\",\"Scramble\",\"Scramble\",\"Complete pass\",\"Incomplete pass\",\"Complete pass\",\"Incomplete pass\",\"QB Sack\",\"Incomplete pass\",\"Complete pass\",\"Incomplete pass\",\"Incomplete pass\",\"Complete pass\",\"Scramble\",\"Incomplete pass\",\"Complete pass\",\"Incomplete pass\",\"Scramble\",\"Complete pass\",\"Complete pass\",\"Complete pass\",\"Complete pass\",\"Complete pass\",\"Complete pass\",\"Complete pass\",\"Complete pass\",\"QB Sack\",\"Incomplete pass\",\"Scramble\",\"Incomplete pass\",\"Incomplete pass\",\"Scramble\",\"Incomplete pass\",\"Scramble\",\"Incomplete pass\",\"Complete pass\",\"QB Sack\",\"Complete pass\",\"Complete pass\",\"Complete pass\",\"Complete pass\",\"Complete pass\",\"Complete pass\",\"Incomplete pass\",\"Incomplete pass\",\"QB Sack\",\"QB Sack\",\"Complete pass\",\"Complete pass\",\"QB Sack\",\"Incomplete pass\",\"Complete pass\",\"Complete pass\",\"Complete pass\",\"Complete pass\",\"Incomplete pass\",\"Complete pass\",\"Complete pass\",\"Incomplete pass\",\"Complete pass\",\"Scramble\",\"QB Sack\",\"Complete pass\",\"Complete pass\",\"Interception\",\"Scramble\",\"Incomplete pass\",\"Complete pass\",\"Incomplete pass\",\"Complete pass\",\"Complete pass\",\"Complete pass\",\"Incomplete pass\",\"Complete pass\",\"Incomplete pass\",\"Incomplete pass\",\"Complete pass\",\"Complete pass\",\"Complete pass\",\"Complete pass\",\"Incomplete pass\",\"Incomplete pass\",\"Incomplete pass\",\"Incomplete pass\",\"Incomplete pass\",\"Incomplete pass\",\"Incomplete pass\",\"Incomplete pass\",\"Incomplete pass\",\"Complete pass\",\"Complete pass\",\"Scramble\",\"Complete pass\",\"Interception\",\"Complete pass\",\"Incomplete pass\",\"Scramble\",\"Complete pass\",\"Incomplete pass\",\"Incomplete pass\",\"Incomplete pass\",\"Scramble\",\"Complete pass\",\"QB Sack\",\"Incomplete pass\",\"Complete pass\",\"QB Sack\",\"Complete pass\",\"Scramble\",\"Complete pass\",\"Incomplete pass\",\"Complete pass\",\"Incomplete pass\",\"Incomplete pass\",\"Complete pass\",\"Complete pass\",\"Incomplete pass\",\"Complete pass\",\"Complete pass\",\"Incomplete pass\",\"Complete pass\",\"Complete pass\",\"Complete pass\",\"Incomplete pass\",\"Complete pass\",\"Complete pass\",\"Scramble\",\"Complete pass\",\"Complete pass\",\"Incomplete pass\",\"Complete pass\",\"Incomplete pass\",\"Incomplete pass\",\"Complete pass\",\"Complete pass\",\"Complete pass\",\"Complete pass\",\"Complete pass\",\"Interception\",\"Complete pass\",\"Incomplete pass\",\"Complete pass\",\"Complete pass\",\"Complete pass\",\"Incomplete pass\",\"Incomplete pass\",\"Complete pass\",\"Incomplete pass\",\"Complete pass\",\"Scramble\",\"Complete pass\",\"Incomplete pass\",\"Complete pass\",\"Complete pass\",\"Complete pass\",\"Complete pass\",\"Complete pass\",\"Complete pass\",\"Complete pass\",\"Incomplete pass\",\"Complete pass\",\"Complete pass\",\"Complete pass\",\"Complete pass\",\"Complete pass\",\"Incomplete pass\",\"Incomplete pass\",\"Scramble\",\"Complete pass\",\"Complete pass\",\"Incomplete pass\",\"Incomplete pass\",\"Complete pass\",\"Complete pass\",\"Incomplete pass\",\"Complete pass\",\"Incomplete pass\",\"Complete pass\",\"Complete pass\",\"Complete pass\",\"Complete pass\",\"Complete pass\",\"Complete pass\",\"Complete pass\",\"Complete pass\",\"Incomplete pass\",\"Incomplete pass\",\"Scramble\",\"Incomplete pass\",\"Incomplete pass\",\"Complete pass\",\"Complete pass\",\"Complete pass\",\"Complete pass\",\"Incomplete pass\",\"Complete pass\",\"Incomplete pass\",\"Complete pass\",\"Complete pass\",\"Incomplete pass\",\"Complete pass\",\"Complete pass\",\"Incomplete pass\",\"Incomplete pass\",\"Complete pass\",\"QB Sack\",\"Complete pass\",\"Complete pass\",\"Incomplete pass\",\"Complete pass\",\"Complete pass\",\"Complete pass\",\"Scramble\",\"QB Sack\",\"Incomplete pass\",\"Complete pass\",\"Complete pass\",\"Incomplete pass\",\"Complete pass\",\"Complete pass\",\"Complete pass\",\"Complete pass\",\"Complete pass\",\"Complete pass\",\"Complete pass\",\"QB Sack\",\"Complete pass\",\"Complete pass\",\"Complete pass\",\"Complete pass\",\"Incomplete pass\",\"Complete pass\",\"Complete pass\",\"Scramble\",\"QB Sack\",\"QB Sack\",\"Complete pass\",\"Complete pass\",\"Incomplete pass\",\"Complete pass\",\"Complete pass\",\"Scramble\",\"Complete pass\",\"Incomplete pass\",\"Complete pass\",\"Complete pass\",\"Incomplete pass\",\"Incomplete pass\",\"Complete pass\",\"Incomplete pass\",\"Incomplete pass\",\"Complete pass\",\"Complete pass\",\"Complete pass\",\"Incomplete pass\",\"Complete pass\",\"Incomplete pass\",\"Incomplete pass\",\"Incomplete pass\",\"Complete pass\",\"Complete pass\",\"Interception\",\"Incomplete pass\",\"Complete pass\",\"Scramble\",\"Complete pass\",\"Incomplete pass\",\"Complete pass\",\"Complete pass\",\"Complete pass\",\"Complete pass\",\"Complete pass\",\"Complete pass\",\"Complete pass\",\"Incomplete pass\",\"Complete pass\",\"Complete pass\",\"Incomplete pass\",\"QB Sack\",\"Complete pass\",\"Incomplete pass\",\"Complete pass\",\"Scramble\",\"Complete pass\",\"Interception\",\"Scramble\",\"Incomplete pass\",\"Complete pass\",\"Complete pass\",\"Complete pass\",\"Incomplete pass\",\"Complete pass\",\"Complete pass\",\"Incomplete pass\",\"Incomplete pass\",\"Complete pass\",\"Complete pass\",\"Incomplete pass\",\"Incomplete pass\",\"Incomplete pass\",\"Complete pass\",\"Complete pass\",\"Incomplete pass\",\"Incomplete pass\",\"Incomplete pass\",\"Incomplete pass\",\"Complete pass\",\"Incomplete pass\",\"Interception\",\"Incomplete pass\",\"Incomplete pass\",\"Complete pass\",\"QB Sack\",\"Complete pass\",\"Complete pass\",\"Complete pass\",\"Complete pass\",\"Incomplete pass\",\"Incomplete pass\",\"QB Sack\",\"Scramble\",\"Complete pass\",\"Complete pass\",\"Incomplete pass\",\"Complete pass\",\"Incomplete pass\",\"Complete pass\",\"Complete pass\",\"Incomplete pass\",\"Incomplete pass\",\"Complete pass\",\"Scramble\",\"Incomplete pass\",\"Complete pass\",\"Complete pass\",\"Scramble\",\"Incomplete pass\",\"Incomplete pass\",\"Interception\",\"Complete pass\",\"Complete pass\",\"Incomplete pass\",\"Complete pass\",\"Complete pass\",\"Incomplete pass\",\"Incomplete pass\",\"Complete pass\",\"Scramble\",\"Scramble\",\"Complete pass\",\"Complete pass\",\"Complete pass\",\"Incomplete pass\",\"Complete pass\",\"Complete pass\",\"Complete pass\",\"Incomplete pass\",\"Complete pass\",\"Complete pass\",\"Incomplete pass\",\"Complete pass\",\"Scramble\",\"Complete pass\",\"Complete pass\",\"Complete pass\",\"Incomplete pass\",\"Complete pass\",\"Complete pass\",\"Complete pass\",\"Complete pass\",\"Complete pass\",\"Incomplete pass\",\"Complete pass\",\"QB Sack\",\"Complete pass\",\"Complete pass\",\"Complete pass\",\"Complete pass\",\"Complete pass\",\"Incomplete pass\",\"Complete pass\",\"Complete pass\",\"Complete pass\",\"Complete pass\",\"Complete pass\",\"Complete pass\",\"Complete pass\",\"Incomplete pass\",\"Complete pass\",\"Complete pass\",\"Complete pass\",\"Scramble\",\"Incomplete pass\",\"Complete pass\",\"Complete pass\",\"QB Sack\",\"Complete pass\",\"Complete pass\",\"Complete pass\",\"Complete pass\",\"Complete pass\",\"Complete pass\",\"Incomplete pass\",\"Complete pass\",\"Complete pass\",\"Complete pass\",\"Incomplete pass\",\"Complete pass\",\"Complete pass\",\"Scramble\",\"Complete pass\",\"Complete pass\",\"Incomplete pass\",\"Complete pass\",\"Incomplete pass\",\"Incomplete pass\",\"Complete pass\",\"Complete pass\",\"Incomplete pass\",\"Incomplete pass\",\"Complete pass\",\"Complete pass\",\"QB Sack\",\"Incomplete pass\",\"Incomplete pass\",\"Incomplete pass\",\"Complete pass\",\"Incomplete pass\",\"Complete pass\",\"Incomplete pass\",\"Complete pass\",\"Complete pass\",\"Complete pass\",\"Complete pass\",\"Complete pass\",\"Complete pass\",\"QB Sack\",\"Incomplete pass\",\"Complete pass\",\"Incomplete pass\",\"QB Sack\",\"Complete pass\",\"Incomplete pass\",\"Complete pass\",\"Complete pass\",\"Incomplete pass\",\"Complete pass\",\"Incomplete pass\",\"Scramble\",\"Incomplete pass\",\"Incomplete pass\",\"Complete pass\",\"Incomplete pass\",\"Complete pass\",\"Incomplete pass\",\"Complete pass\",\"Incomplete pass\",\"Complete pass\",\"Complete pass\",\"QB Sack\",\"Incomplete pass\",\"Complete pass\",\"Incomplete pass\",\"Complete pass\",\"Incomplete pass\",\"Complete pass\",\"Complete pass\",\"Incomplete pass\",\"Complete pass\",\"Interception\",\"Incomplete pass\",\"QB Sack\",\"Incomplete pass\",\"Complete pass\",\"Scramble\",\"Incomplete pass\",\"Incomplete pass\",\"Complete pass\",\"QB Sack\",\"Interception\",\"Complete pass\",\"Complete pass\",\"Complete pass\",\"Complete pass\",\"Complete pass\",\"Complete pass\",\"Incomplete pass\",\"Complete pass\",\"Complete pass\",\"Complete pass\",\"Incomplete pass\",\"Complete pass\",\"Complete pass\",\"Scramble\",\"QB Sack\",\"Complete pass\",\"Incomplete pass\",\"Complete pass\",\"Complete pass\",\"Complete pass\",\"Incomplete pass\",\"Complete pass\",\"Incomplete pass\",\"Incomplete pass\",\"Incomplete pass\",\"Incomplete pass\",\"Incomplete pass\",\"Complete pass\",\"Incomplete pass\",\"Scramble\",\"Interception\",\"Complete pass\",\"Complete pass\",\"Complete pass\",\"Complete pass\",\"Incomplete pass\",\"Incomplete pass\",\"Complete pass\",\"Scramble\",\"Complete pass\",\"Complete pass\",\"Complete pass\",\"Incomplete pass\",\"Complete pass\",\"Complete pass\",\"Complete pass\",\"Complete pass\",\"Complete pass\",\"Complete pass\",\"QB Sack\",\"QB Sack\",\"Complete pass\",\"Incomplete pass\",\"Scramble\",\"Complete pass\",\"Complete pass\",\"Complete pass\",\"Scramble\",\"Incomplete pass\",\"Complete pass\",\"Complete pass\",\"Complete pass\",\"Incomplete pass\",\"Interception\",\"Complete pass\",\"Incomplete pass\",\"Complete pass\",\"Incomplete pass\",\"Complete pass\",\"Complete pass\",\"Scramble\",\"QB Sack\",\"Complete pass\",\"Complete pass\",\"Complete pass\",\"Incomplete pass\",\"Complete pass\",\"Complete pass\",\"Complete pass\",\"Incomplete pass\",\"Incomplete pass\",\"Complete pass\",\"Complete pass\",\"Incomplete pass\",\"Incomplete pass\",\"Complete pass\",\"Complete pass\",\"Complete pass\",\"Complete pass\",\"QB Sack\",\"Incomplete pass\",\"Incomplete pass\",\"Incomplete pass\",\"Complete pass\",\"Scramble\",\"Interception\",\"Complete pass\",\"Complete pass\",\"Incomplete pass\",\"Complete pass\",\"Incomplete pass\",\"Complete pass\",\"Incomplete pass\",\"Complete pass\",\"Scramble\",\"Incomplete pass\",\"Complete pass\",\"QB Sack\",\"Incomplete pass\",\"Scramble\",\"Incomplete pass\",\"Complete pass\",\"Complete pass\",\"Complete pass\",\"Scramble\",\"Complete pass\",\"Complete pass\",\"Complete pass\",\"Complete pass\",\"Incomplete pass\",\"Complete pass\",\"Complete pass\",\"Complete pass\",\"Complete pass\",\"Complete pass\",\"Complete pass\",\"Complete pass\",\"Incomplete pass\",\"Incomplete pass\",\"Complete pass\",\"Complete pass\",\"Interception\",\"Complete pass\",\"Scramble\",\"QB Sack\",\"Complete pass\",\"Complete pass\",\"Incomplete pass\",\"Complete pass\",\"Incomplete pass\",\"Complete pass\",\"Complete pass\",\"Complete pass\",\"Complete pass\",\"Complete pass\",\"Incomplete pass\",\"Complete pass\",\"Complete pass\",\"Complete pass\",\"Incomplete pass\",\"Incomplete pass\",\"Incomplete pass\",\"Complete pass\",\"Incomplete pass\",\"Complete pass\",\"Complete pass\",\"QB Sack\",\"Incomplete pass\",\"Complete pass\",\"Incomplete pass\",\"Complete pass\",\"Incomplete pass\",\"Complete pass\",\"Complete pass\",\"Complete pass\",\"Complete pass\",\"Incomplete pass\",\"Complete pass\",\"Complete pass\",\"Interception\",\"Incomplete pass\",\"Complete pass\",\"Complete pass\",\"Complete pass\",\"Incomplete pass\",\"Complete pass\",\"Complete pass\",\"Complete pass\",\"Incomplete pass\",\"Incomplete pass\",\"QB Sack\",\"Complete pass\",\"Complete pass\",\"Complete pass\",\"Scramble\",\"Complete pass\",\"Complete pass\",\"Complete pass\",\"Complete pass\",\"Interception\",\"Complete pass\",\"Incomplete pass\",\"Incomplete pass\",\"Complete pass\",\"Complete pass\",\"Incomplete pass\",\"Incomplete pass\",\"Complete pass\",\"QB Sack\",\"Incomplete pass\",\"Complete pass\",\"Complete pass\",\"Incomplete pass\",\"Incomplete pass\",\"Incomplete pass\",\"Complete pass\",\"QB Sack\",\"Complete pass\",\"Interception\",\"Complete pass\",\"Incomplete pass\",\"Complete pass\",\"Complete pass\",\"Complete pass\",\"Incomplete pass\",\"Complete pass\",\"Complete pass\",\"Complete pass\",\"Incomplete pass\",\"Complete pass\",\"Incomplete pass\",\"Scramble\",\"Complete pass\",\"Complete pass\",\"Incomplete pass\",\"Complete pass\",\"QB Sack\",\"Complete pass\",\"Scramble\",\"Complete pass\",\"Complete pass\",\"Complete pass\",\"Complete pass\",\"Complete pass\",\"Incomplete pass\",\"Complete pass\",\"Complete pass\",\"Complete pass\",\"Incomplete pass\",\"Complete pass\",\"Incomplete pass\",\"Complete pass\",\"Complete pass\",\"Complete pass\",\"Complete pass\",\"Incomplete pass\",\"Complete pass\",\"Incomplete pass\",\"QB Sack\",\"Incomplete pass\",\"Complete pass\",\"Incomplete pass\",\"QB Sack\",\"Complete pass\",\"Complete pass\",\"QB Sack\",\"Complete pass\",\"Incomplete pass\",\"Complete pass\",\"Complete pass\",\"Complete pass\",\"Complete pass\",\"Complete pass\",\"Complete pass\",\"QB Sack\",\"Complete pass\",\"Scramble\",\"Complete pass\",\"Complete pass\",\"Complete pass\",\"Complete pass\",\"Complete pass\",\"Complete pass\",\"Complete pass\",\"Complete pass\",\"Scramble\",\"Incomplete pass\",\"Incomplete pass\",\"Incomplete pass\",\"Complete pass\",\"Incomplete pass\",\"Complete pass\",\"Complete pass\",\"Interception\",\"Incomplete pass\",\"Incomplete pass\",\"Scramble\",\"Complete pass\",\"Complete pass\",\"Incomplete pass\",\"Complete pass\",\"Incomplete pass\",\"Complete pass\",\"Complete pass\",\"Scramble\",\"Incomplete pass\",\"Complete pass\",\"Complete pass\",\"Incomplete pass\",\"Complete pass\",\"Complete pass\",\"Complete pass\",\"Incomplete pass\",\"Incomplete pass\",\"Scramble\",\"Complete pass\",\"Incomplete pass\",\"Incomplete pass\",\"Complete pass\",\"Complete pass\",\"Complete pass\",\"Incomplete pass\",\"Complete pass\",\"Incomplete pass\",\"Complete pass\",\"Incomplete pass\",\"QB Sack\",\"Incomplete pass\",\"Incomplete pass\",\"Complete pass\",\"Incomplete pass\",\"Incomplete pass\",\"Incomplete pass\",\"Complete pass\",\"Complete pass\",\"Incomplete pass\",\"Incomplete pass\",\"Incomplete pass\",\"Incomplete pass\",\"Complete pass\",\"Incomplete pass\",\"Scramble\",\"Incomplete pass\",\"Complete pass\",\"Complete pass\",\"Complete pass\",\"Complete pass\",\"Complete pass\",\"Complete pass\",\"Incomplete pass\",\"Complete pass\",\"Incomplete pass\",\"Complete pass\",\"Incomplete pass\",\"Complete pass\",\"Incomplete pass\",\"Complete pass\",\"Incomplete pass\",\"Incomplete pass\",\"Complete pass\",\"Complete pass\",\"Incomplete pass\",\"Complete pass\",\"Complete pass\",\"Complete pass\",\"Scramble\",\"Complete pass\",\"Complete pass\",\"Complete pass\",\"Complete pass\",\"Complete pass\",\"Incomplete pass\",\"QB Sack\",\"Incomplete pass\",\"Interception\",\"Incomplete pass\",\"Complete pass\",\"Complete pass\",\"Complete pass\",\"Complete pass\",\"QB Sack\",\"Complete pass\",\"Incomplete pass\",\"Complete pass\",\"Complete pass\",\"Incomplete pass\",\"Complete pass\",\"Incomplete pass\",\"Complete pass\",\"Complete pass\",\"Complete pass\",\"Incomplete pass\",\"Complete pass\",\"Complete pass\",\"Complete pass\",\"Incomplete pass\",\"Incomplete pass\",\"Incomplete pass\",\"Complete pass\",\"Scramble\",\"Complete pass\",\"Complete pass\",\"Complete pass\",\"Complete pass\",\"Complete pass\",\"Incomplete pass\",\"Complete pass\",\"Complete pass\",\"Complete pass\",\"Incomplete pass\",\"Complete pass\",\"Complete pass\",\"Scramble\",\"Incomplete pass\",\"Complete pass\",\"Complete pass\",\"Complete pass\",\"Incomplete pass\",\"Complete pass\",\"Complete pass\",\"Incomplete pass\",\"Complete pass\",\"Scramble\",\"Complete pass\",\"Incomplete pass\",\"QB Sack\",\"Complete pass\",\"Complete pass\",\"Incomplete pass\",\"Incomplete pass\",\"Incomplete pass\",\"Complete pass\",\"Incomplete pass\",\"QB Sack\",\"Incomplete pass\",\"Incomplete pass\",\"Incomplete pass\",\"Complete pass\",\"Complete pass\",\"Complete pass\",\"Complete pass\",\"Incomplete pass\",\"Complete pass\",\"Complete pass\",\"Complete pass\",\"Incomplete pass\",\"Complete pass\",\"Incomplete pass\",\"Complete pass\",\"Complete pass\",\"QB Sack\",\"Incomplete pass\",\"Incomplete pass\",\"Incomplete pass\",\"Incomplete pass\",\"Complete pass\",\"Complete pass\",\"Complete pass\",\"Complete pass\",\"Complete pass\",\"Complete pass\",\"Complete pass\",\"Incomplete pass\",\"Complete pass\",\"Complete pass\",\"QB Sack\",\"Incomplete pass\",\"Incomplete pass\",\"Interception\",\"Incomplete pass\",\"Incomplete pass\",\"Scramble\",\"Complete pass\",\"Incomplete pass\",\"Complete pass\",\"Complete pass\",\"Complete pass\",\"Complete pass\",\"Complete pass\",\"Complete pass\",\"Complete pass\",\"Complete pass\",\"Complete pass\",\"QB Sack\",\"Scramble\",\"Complete pass\",\"Complete pass\",\"Complete pass\",\"Complete pass\",\"Complete pass\",\"Complete pass\",\"Complete pass\",\"Complete pass\",\"Incomplete pass\",\"Incomplete pass\",\"Complete pass\",\"Complete pass\",\"Incomplete pass\",\"Complete pass\",\"Complete pass\",\"Complete pass\",\"Incomplete pass\",\"Complete pass\",\"Complete pass\",\"QB Sack\",\"Incomplete pass\",\"Incomplete pass\",\"Incomplete pass\",\"Incomplete pass\",\"Complete pass\",\"Complete pass\",\"Complete pass\",\"Complete pass\",\"Complete pass\",\"Incomplete pass\",\"Complete pass\",\"Scramble\",\"Complete pass\",\"Complete pass\",\"Complete pass\",\"Incomplete pass\",\"Incomplete pass\",\"Complete pass\",\"Complete pass\",\"Incomplete pass\",\"QB Sack\",\"Complete pass\",\"Incomplete pass\",\"Incomplete pass\",\"Incomplete pass\",\"QB Sack\",\"Complete pass\",\"Incomplete pass\",\"Incomplete pass\",\"Complete pass\",\"Interception\",\"Incomplete pass\",\"Incomplete pass\",\"Complete pass\",\"Complete pass\",\"Incomplete pass\",\"Incomplete pass\",\"Complete pass\",\"Incomplete pass\",\"Incomplete pass\",\"QB Sack\",\"Incomplete pass\",\"Complete pass\",\"Scramble\",\"Complete pass\",\"Scramble\",\"Incomplete pass\",\"Incomplete pass\",\"Complete pass\",\"Complete pass\",\"Complete pass\",\"Complete pass\",\"Incomplete pass\",\"Incomplete pass\",\"Incomplete pass\",\"Complete pass\",\"Complete pass\",\"Incomplete pass\",\"Complete pass\",\"Complete pass\",\"Complete pass\",\"Complete pass\",\"QB Sack\",\"Incomplete pass\",\"Complete pass\",\"Incomplete pass\",\"Scramble\",\"Incomplete pass\",\"Complete pass\",\"Complete pass\",\"QB Sack\",\"Incomplete pass\",\"Complete pass\",\"Complete pass\",\"Complete pass\",\"Incomplete pass\",\"Complete pass\",\"Complete pass\",\"Incomplete pass\",\"Incomplete pass\",\"Complete pass\",\"Complete pass\",\"Incomplete pass\",\"Incomplete pass\",\"QB Sack\",\"Complete pass\",\"Complete pass\",\"Complete pass\",\"Complete pass\",\"Complete pass\",\"Complete pass\",\"Complete pass\",\"QB Sack\",\"QB Sack\",\"Incomplete pass\",\"Complete pass\",\"Complete pass\",\"Complete pass\",\"Complete pass\",\"Incomplete pass\",\"Incomplete pass\",\"Complete pass\",\"Complete pass\",\"Complete pass\",\"Incomplete pass\",\"Complete pass\",\"Complete pass\",\"Incomplete pass\",\"Complete pass\",\"Incomplete pass\",\"Incomplete pass\",\"Incomplete pass\",\"Complete pass\",\"Complete pass\",\"Incomplete pass\",\"Scramble\",\"Complete pass\",\"Incomplete pass\",\"Complete pass\",\"Complete pass\",\"Incomplete pass\",\"Incomplete pass\",\"Complete pass\",\"Complete pass\",\"Incomplete pass\",\"Incomplete pass\",\"Scramble\",\"Complete pass\",\"QB Sack\",\"Complete pass\",\"Complete pass\",\"Scramble\",\"Complete pass\",\"Complete pass\",\"Interception\",\"QB Sack\",\"Complete pass\",\"Complete pass\",\"Interception\",\"Complete pass\",\"Complete pass\",\"Complete pass\",\"Incomplete pass\",\"Complete pass\",\"QB Sack\",\"Complete pass\",\"Complete pass\",\"Incomplete pass\",\"Complete pass\",\"Incomplete pass\",\"Incomplete pass\",\"Complete pass\",\"Complete pass\",\"Incomplete pass\",\"Complete pass\",\"Incomplete pass\",\"Incomplete pass\",\"Incomplete pass\",\"Complete pass\",\"Complete pass\",\"Interception\",\"Complete pass\",\"Complete pass\",\"Incomplete pass\",\"Complete pass\",\"Complete pass\",\"Incomplete pass\",\"Incomplete pass\",\"Complete pass\",\"Complete pass\",\"Complete pass\",\"Complete pass\",\"Complete pass\",\"Complete pass\",\"Complete pass\",\"Complete pass\",\"Incomplete pass\",\"Complete pass\",\"Incomplete pass\",\"Incomplete pass\",\"Incomplete pass\",\"Incomplete pass\",\"Complete pass\",\"Incomplete pass\",\"Complete pass\",\"Incomplete pass\",\"Complete pass\",\"Complete pass\",\"Complete pass\",\"Complete pass\",\"Incomplete pass\",\"Incomplete pass\",\"Complete pass\",\"Incomplete pass\",\"Incomplete pass\",\"Incomplete pass\",\"Complete pass\",\"Complete pass\",\"Complete pass\",\"Complete pass\",\"Complete pass\",\"Complete pass\",\"Incomplete pass\",\"Complete pass\",\"Complete pass\",\"Complete pass\",\"Complete pass\",\"Complete pass\",\"Complete pass\",\"Incomplete pass\",\"Incomplete pass\",\"Complete pass\",\"Complete pass\",\"Incomplete pass\",\"Complete pass\",\"Incomplete pass\",\"Complete pass\",\"Complete pass\",\"Incomplete pass\",\"Complete pass\",\"Complete pass\",\"Incomplete pass\",\"Complete pass\",\"Incomplete pass\",\"Scramble\",\"Incomplete pass\",\"Incomplete pass\",\"Incomplete pass\",\"Scramble\",\"Complete pass\",\"Complete pass\",\"Complete pass\",\"Interception\",\"Complete pass\",\"Incomplete pass\",\"Complete pass\",\"Complete pass\",\"Complete pass\",\"Complete pass\",\"Incomplete pass\",\"Incomplete pass\",\"Incomplete pass\",\"QB Sack\",\"Incomplete pass\",\"Complete pass\",\"Interception\",\"Complete pass\",\"Scramble\",\"Complete pass\",\"Incomplete pass\",\"Complete pass\",\"Complete pass\",\"Complete pass\",\"Complete pass\",\"QB Sack\",\"Incomplete pass\",\"Complete pass\",\"Complete pass\",\"Incomplete pass\",\"Complete pass\",\"Complete pass\",\"QB Sack\",\"Complete pass\",\"Interception\",\"Incomplete pass\",\"Incomplete pass\",\"Complete pass\",\"Incomplete pass\",\"Incomplete pass\",\"Complete pass\",\"Incomplete pass\",\"Incomplete pass\",\"Complete pass\",\"Complete pass\",\"Incomplete pass\",\"Complete pass\",\"Complete pass\",\"Complete pass\",\"Complete pass\",\"Incomplete pass\",\"Incomplete pass\",\"Complete pass\",\"Incomplete pass\",\"Complete pass\",\"Incomplete pass\",\"Complete pass\",\"Complete pass\",\"Incomplete pass\",\"Incomplete pass\",\"Complete pass\",\"Incomplete pass\",\"Incomplete pass\",\"Complete pass\",\"Incomplete pass\",\"Complete pass\",\"Incomplete pass\",\"Complete pass\",\"Complete pass\",\"Complete pass\",\"Complete pass\",\"Complete pass\",\"Complete pass\",\"Complete pass\",\"Complete pass\",\"Complete pass\",\"Complete pass\",\"Incomplete pass\",\"Complete pass\",\"Incomplete pass\",\"Complete pass\",\"Complete pass\",\"Complete pass\",\"Incomplete pass\",\"Scramble\",\"Interception\",\"Complete pass\",\"Incomplete pass\",\"Complete pass\",\"Complete pass\",\"Scramble\",\"Incomplete pass\",\"Complete pass\",\"Interception\",\"Incomplete pass\",\"Complete pass\",\"QB Sack\",\"Incomplete pass\",\"Complete pass\",\"Complete pass\",\"Complete pass\",\"QB Sack\",\"Complete pass\",\"Incomplete pass\",\"Incomplete pass\",\"Scramble\",\"Complete pass\",\"Complete pass\",\"Complete pass\",\"Complete pass\",\"Complete pass\",\"Complete pass\",\"Incomplete pass\",\"Incomplete pass\",\"Incomplete pass\",\"Incomplete pass\",\"Incomplete pass\",\"Complete pass\",\"Complete pass\",\"QB Sack\",\"Incomplete pass\",\"Complete pass\",\"Complete pass\",\"Complete pass\",\"Incomplete pass\",\"Incomplete pass\",\"QB Sack\",\"Complete pass\",\"Complete pass\",\"Incomplete pass\",\"Complete pass\",\"Complete pass\",\"Complete pass\",\"Complete pass\",\"Complete pass\",\"Complete pass\",\"Incomplete pass\",\"Scramble\",\"Incomplete pass\",\"Incomplete pass\",\"Incomplete pass\",\"Complete pass\",\"Incomplete pass\",\"Complete pass\",\"Incomplete pass\",\"Complete pass\",\"QB Sack\",\"Complete pass\",\"QB Sack\",\"Complete pass\",\"Complete pass\",\"Complete pass\",\"QB Sack\",\"Complete pass\",\"Incomplete pass\",\"Scramble\",\"Complete pass\",\"Complete pass\",\"Complete pass\",\"Incomplete pass\",\"Complete pass\",\"Complete pass\",\"Incomplete pass\",\"Incomplete pass\",\"Incomplete pass\",\"Complete pass\",\"Scramble\",\"QB Sack\",\"Incomplete pass\",\"Incomplete pass\",\"QB Sack\",\"Incomplete pass\",\"Complete pass\",\"Complete pass\",\"Complete pass\",\"Complete pass\",\"Complete pass\",\"Complete pass\",\"Complete pass\",\"Incomplete pass\",\"Complete pass\",\"Incomplete pass\",\"Complete pass\",\"Incomplete pass\",\"Complete pass\",\"Complete pass\",\"Complete pass\",\"Complete pass\",\"Incomplete pass\",\"Incomplete pass\",\"Complete pass\",\"QB Sack\",\"Incomplete pass\",\"Complete pass\",\"Incomplete pass\",\"Incomplete pass\",\"Scramble\",\"Complete pass\",\"Complete pass\",\"Incomplete pass\",\"Complete pass\",\"Complete pass\",\"Complete pass\",\"Complete pass\",\"Complete pass\",\"Incomplete pass\",\"Interception\",\"Complete pass\",\"Complete pass\",\"Complete pass\",\"Incomplete pass\",\"Complete pass\",\"Complete pass\",\"Incomplete pass\",\"Complete pass\",\"Incomplete pass\",\"Incomplete pass\",\"Incomplete pass\",\"Complete pass\",\"Incomplete pass\",\"Scramble\",\"Complete pass\",\"Complete pass\",\"Complete pass\",\"Incomplete pass\",\"Complete pass\",\"QB Sack\",\"Interception\",\"Scramble\",\"Complete pass\",\"Complete pass\",\"Complete pass\",\"Complete pass\",\"Complete pass\",\"Complete pass\",\"Incomplete pass\",\"Complete pass\",\"Complete pass\",\"Incomplete pass\",\"Complete pass\",\"Complete pass\",\"Incomplete pass\",\"Complete pass\",\"Incomplete pass\",\"Complete pass\",\"Complete pass\",\"Scramble\",\"Complete pass\",\"Complete pass\",\"Complete pass\",\"Incomplete pass\",\"Complete pass\",\"Complete pass\",\"Complete pass\",\"QB Sack\",\"Incomplete pass\",\"Complete pass\",\"Incomplete pass\",\"QB Sack\",\"Complete pass\",\"Interception\",\"Interception\",\"Incomplete pass\",\"QB Sack\",\"Incomplete pass\",\"Complete pass\",\"Complete pass\",\"Incomplete pass\",\"Complete pass\",\"Interception\",\"Complete pass\",\"Incomplete pass\",\"Complete pass\",\"Complete pass\",\"Complete pass\",\"Complete pass\",\"Incomplete pass\",\"Incomplete pass\",\"Complete pass\",\"Complete pass\",\"Incomplete pass\",\"QB Sack\",\"Complete pass\",\"Incomplete pass\",\"Incomplete pass\",\"Complete pass\",\"Complete pass\",\"Incomplete pass\",\"Incomplete pass\",\"Complete pass\",\"Interception\",\"Incomplete pass\",\"Complete pass\",\"Incomplete pass\",\"Incomplete pass\",\"Complete pass\",\"Complete pass\",\"Complete pass\",\"Incomplete pass\",\"Complete pass\",\"Complete pass\",\"Incomplete pass\",\"Complete pass\",\"Scramble\",\"Complete pass\",\"Complete pass\",\"Complete pass\",\"Complete pass\",\"Incomplete pass\",\"Scramble\",\"Incomplete pass\",\"Complete pass\",\"Complete pass\",\"Scramble\",\"Complete pass\",\"Incomplete pass\",\"Scramble\",\"Complete pass\",\"Complete pass\",\"Incomplete pass\",\"Complete pass\",\"Complete pass\",\"Complete pass\",\"Complete pass\",\"Complete pass\",\"Complete pass\",\"Complete pass\",\"Incomplete pass\",\"Complete pass\",\"Complete pass\",\"Complete pass\",\"Complete pass\",\"Complete pass\",\"Incomplete pass\",\"Incomplete pass\",\"Incomplete pass\",\"Incomplete pass\",\"Incomplete pass\",\"Complete pass\",\"Complete pass\",\"Incomplete pass\",\"Complete pass\",\"Complete pass\",\"Complete pass\",\"Incomplete pass\",\"Complete pass\",\"QB Sack\",\"Incomplete pass\",\"Complete pass\",\"Incomplete pass\",\"Complete pass\",\"Incomplete pass\",\"Scramble\",\"QB Sack\",\"Complete pass\",\"Complete pass\",\"Complete pass\",\"QB Sack\",\"Complete pass\",\"Incomplete pass\",\"Complete pass\",\"Incomplete pass\",\"Complete pass\",\"Incomplete pass\",\"Incomplete pass\",\"Complete pass\",\"Incomplete pass\",\"Complete pass\",\"Incomplete pass\",\"Complete pass\",\"Incomplete pass\",\"Scramble\",\"Complete pass\",\"QB Sack\",\"Incomplete pass\",\"QB Sack\",\"Complete pass\",\"Scramble\",\"Complete pass\",\"Complete pass\",\"Complete pass\",\"Incomplete pass\",\"Complete pass\",\"Complete pass\",\"Complete pass\",\"Complete pass\",\"Complete pass\",\"Incomplete pass\",\"Complete pass\",\"Incomplete pass\",\"Complete pass\",\"Complete pass\",\"Complete pass\",\"Complete pass\",\"Incomplete pass\",\"Complete pass\",\"Incomplete pass\",\"QB Sack\",\"Complete pass\",\"Complete pass\",\"Incomplete pass\",\"Incomplete pass\",\"Complete pass\",\"Complete pass\",\"Incomplete pass\",\"Complete pass\",\"Interception\",\"Incomplete pass\",\"Complete pass\",\"Incomplete pass\",\"QB Sack\",\"Complete pass\",\"Complete pass\",\"Complete pass\",\"Complete pass\",\"Incomplete pass\",\"Incomplete pass\",\"Complete pass\",\"Complete pass\",\"Complete pass\",\"QB Sack\",\"Complete pass\",\"Complete pass\",\"Incomplete pass\",\"Complete pass\",\"Incomplete pass\",\"Interception\",\"Complete pass\",\"Incomplete pass\",\"Complete pass\",\"Incomplete pass\",\"Complete pass\",\"Complete pass\",\"Incomplete pass\",\"Complete pass\",\"Complete pass\",\"Complete pass\",\"Incomplete pass\",\"Complete pass\",\"Scramble\",\"Complete pass\",\"Complete pass\",\"Incomplete pass\",\"Incomplete pass\",\"Scramble\",\"Interception\",\"Complete pass\",\"Complete pass\",\"Complete pass\",\"Complete pass\",\"Incomplete pass\",\"QB Sack\",\"Incomplete pass\",\"Incomplete pass\",\"Complete pass\",\"Incomplete pass\",\"Incomplete pass\",\"Complete pass\",\"QB Sack\",\"Complete pass\",\"Incomplete pass\",\"Incomplete pass\",\"Scramble\",\"Incomplete pass\",\"Complete pass\",\"Incomplete pass\",\"Incomplete pass\",\"Incomplete pass\",\"Complete pass\",\"Complete pass\",\"Incomplete pass\",\"Incomplete pass\",\"Interception\",\"Incomplete pass\",\"Incomplete pass\",\"Incomplete pass\",\"Incomplete pass\",\"Complete pass\",\"Incomplete pass\",\"Incomplete pass\",\"Incomplete pass\",\"Complete pass\",\"Scramble\",\"Complete pass\",\"Complete pass\",\"Complete pass\",\"QB Sack\",\"Complete pass\",\"Incomplete pass\",\"Complete pass\",\"Incomplete pass\",\"Incomplete pass\",\"Scramble\",\"Incomplete pass\",\"Complete pass\",\"Complete pass\",\"Complete pass\",\"Incomplete pass\",\"Complete pass\",\"Scramble\",\"Complete pass\",\"Incomplete pass\",\"Complete pass\",\"Complete pass\",\"Complete pass\",\"Incomplete pass\",\"Incomplete pass\",\"Incomplete pass\",\"Incomplete pass\",\"Complete pass\",\"Incomplete pass\",\"Complete pass\",\"Complete pass\",\"Incomplete pass\",\"Complete pass\",\"Incomplete pass\",\"Incomplete pass\",\"Incomplete pass\",\"Incomplete pass\",\"Scramble\",\"QB Sack\",\"Complete pass\",\"Scramble\",\"Complete pass\",\"Incomplete pass\",\"Incomplete pass\",\"Incomplete pass\",\"Incomplete pass\",\"Incomplete pass\",\"QB Sack\",\"Complete pass\",\"Complete pass\",\"Complete pass\",\"Incomplete pass\",\"Incomplete pass\",\"Complete pass\",\"Complete pass\",\"Complete pass\",\"Incomplete pass\",\"Complete pass\",\"Incomplete pass\",\"Complete pass\",\"Complete pass\",\"Scramble\",\"Scramble\",\"Incomplete pass\",\"Complete pass\",\"QB Sack\",\"Incomplete pass\",\"Scramble\",\"Complete pass\",\"Complete pass\",\"Complete pass\",\"Scramble\",\"Complete pass\",\"QB Sack\",\"Incomplete pass\",\"Complete pass\",\"Incomplete pass\",\"Incomplete pass\",\"QB Sack\",\"Complete pass\",\"Interception\",\"Complete pass\",\"Complete pass\",\"Complete pass\",\"Incomplete pass\",\"Complete pass\",\"Complete pass\",\"Complete pass\",\"Scramble\",\"Incomplete pass\",\"Complete pass\",\"Incomplete pass\",\"Complete pass\",\"Complete pass\",\"Complete pass\",\"Complete pass\",\"Complete pass\",\"Complete pass\",\"Scramble\",\"Complete pass\",\"Incomplete pass\",\"Complete pass\",\"Complete pass\",\"Complete pass\",\"Incomplete pass\",\"Complete pass\",\"Complete pass\",\"Complete pass\",\"Complete pass\",\"Incomplete pass\",\"Incomplete pass\",\"Complete pass\",\"Complete pass\",\"Complete pass\",\"Complete pass\",\"Complete pass\",\"Incomplete pass\",\"Incomplete pass\",\"QB Sack\",\"Incomplete pass\",\"Complete pass\",\"Complete pass\",\"Complete pass\",\"Incomplete pass\",\"QB Sack\",\"Incomplete pass\",\"Complete pass\",\"Complete pass\",\"Incomplete pass\",\"Incomplete pass\",\"Incomplete pass\",\"Complete pass\",\"Complete pass\",\"Complete pass\",\"Incomplete pass\",\"Complete pass\",\"Incomplete pass\",\"Incomplete pass\",\"Incomplete pass\",\"Complete pass\",\"QB Sack\",\"Incomplete pass\",\"QB Sack\",\"Scramble\",\"Complete pass\",\"Incomplete pass\",\"Incomplete pass\",\"Complete pass\",\"Scramble\",\"Complete pass\",\"Incomplete pass\",\"Complete pass\",\"Complete pass\",\"Incomplete pass\",\"Complete pass\",\"Complete pass\",\"Incomplete pass\",\"QB Sack\",\"Complete pass\",\"Complete pass\",\"Complete pass\",\"Complete pass\",\"Incomplete pass\",\"Incomplete pass\",\"Complete pass\",\"Complete pass\",\"Complete pass\",\"Complete pass\",\"Complete pass\",\"Complete pass\",\"Complete pass\",\"Complete pass\",\"Incomplete pass\",\"Complete pass\",\"Incomplete pass\",\"Incomplete pass\",\"Complete pass\",\"Complete pass\",\"Complete pass\",\"Incomplete pass\",\"Incomplete pass\",\"Complete pass\",\"Complete pass\",\"Complete pass\",\"Complete pass\",\"Complete pass\",\"Complete pass\",\"Complete pass\",\"Incomplete pass\",\"QB Sack\",\"Incomplete pass\",\"Scramble\",\"Incomplete pass\",\"Incomplete pass\",\"Complete pass\",\"Incomplete pass\",\"Incomplete pass\",\"Incomplete pass\",\"Complete pass\",\"Incomplete pass\",\"Scramble\",\"Complete pass\",\"Incomplete pass\",\"Complete pass\",\"Interception\",\"Incomplete pass\",\"Complete pass\",\"Incomplete pass\",\"Complete pass\",\"Incomplete pass\",\"Incomplete pass\",\"Complete pass\",\"Complete pass\",\"Incomplete pass\",\"Complete pass\",\"Complete pass\",\"Complete pass\",\"Interception\",\"Incomplete pass\",\"Interception\",\"Incomplete pass\",\"Complete pass\",\"Complete pass\",\"Complete pass\",\"Incomplete pass\",\"Complete pass\",\"Complete pass\",\"Incomplete pass\",\"Complete pass\",\"Complete pass\",\"Scramble\",\"Incomplete pass\",\"Complete pass\",\"Complete pass\",\"Complete pass\",\"Incomplete pass\",\"Incomplete pass\",\"Complete pass\",\"Complete pass\",\"QB Sack\",\"Incomplete pass\",\"Complete pass\",\"Complete pass\",\"QB Sack\",\"Complete pass\",\"Complete pass\",\"Complete pass\",\"Incomplete pass\",\"Complete pass\",\"Scramble\",\"Incomplete pass\",\"Complete pass\",\"Incomplete pass\",\"Incomplete pass\",\"Incomplete pass\",\"Incomplete pass\",\"Complete pass\",\"Incomplete pass\",\"Complete pass\",\"Incomplete pass\",\"QB Sack\",\"Incomplete pass\",\"Incomplete pass\",\"Complete pass\",\"QB Sack\",\"Incomplete pass\",\"Complete pass\",\"Incomplete pass\",\"Incomplete pass\",\"Complete pass\",\"Complete pass\",\"Complete pass\",\"Incomplete pass\",\"Complete pass\",\"Complete pass\",\"Complete pass\",\"Complete pass\",\"Incomplete pass\",\"Incomplete pass\",\"Complete pass\",\"Complete pass\",\"Complete pass\",\"Incomplete pass\",\"Complete pass\",\"QB Sack\",\"Complete pass\",\"Incomplete pass\",\"Complete pass\",\"Complete pass\",\"Complete pass\",\"QB Sack\",\"Complete pass\",\"Incomplete pass\",\"QB Sack\",\"Complete pass\",\"QB Sack\",\"Complete pass\",\"Complete pass\",\"Incomplete pass\",\"Incomplete pass\",\"Complete pass\",\"Incomplete pass\",\"Incomplete pass\",\"Complete pass\",\"Complete pass\",\"Complete pass\",\"Complete pass\",\"Complete pass\",\"Complete pass\",\"Complete pass\",\"Complete pass\",\"Incomplete pass\",\"Incomplete pass\",\"Complete pass\",\"Incomplete pass\",\"Complete pass\",\"Incomplete pass\",\"Scramble\",\"Complete pass\",\"Complete pass\",\"Incomplete pass\",\"Incomplete pass\",\"Complete pass\",\"Complete pass\",\"Complete pass\",\"Incomplete pass\",\"Incomplete pass\",\"Incomplete pass\",\"Complete pass\",\"Complete pass\",\"Incomplete pass\",\"Complete pass\",\"Complete pass\",\"Complete pass\",\"Complete pass\",\"Complete pass\",\"Incomplete pass\",\"Incomplete pass\",\"Incomplete pass\",\"Incomplete pass\",\"Complete pass\",\"Incomplete pass\",\"Complete pass\",\"Incomplete pass\",\"Complete pass\",\"Complete pass\",\"Incomplete pass\",\"Complete pass\",\"Complete pass\",\"Complete pass\",\"Incomplete pass\",\"Incomplete pass\",\"Incomplete pass\",\"Complete pass\",\"QB Sack\",\"Incomplete pass\",\"Incomplete pass\",\"Incomplete pass\",\"Complete pass\",\"Complete pass\",\"Incomplete pass\",\"Complete pass\",\"Complete pass\",\"Incomplete pass\",\"Complete pass\",\"Incomplete pass\",\"QB Sack\",\"Complete pass\",\"Incomplete pass\",\"Incomplete pass\",\"Complete pass\",\"Complete pass\",\"Incomplete pass\",\"Incomplete pass\",\"Complete pass\",\"Complete pass\",\"Incomplete pass\",\"Incomplete pass\",\"Complete pass\",\"Incomplete pass\",\"Complete pass\",\"Complete pass\",\"Complete pass\",\"Scramble\",\"Incomplete pass\",\"Incomplete pass\",\"Scramble\",\"Complete pass\",\"Interception\",\"Complete pass\",\"Incomplete pass\",\"Complete pass\",\"QB Sack\",\"Complete pass\",\"Incomplete pass\",\"Complete pass\",\"Complete pass\",\"Incomplete pass\",\"Incomplete pass\",\"Incomplete pass\",\"Incomplete pass\",\"Incomplete pass\",\"Incomplete pass\",\"Incomplete pass\",\"Complete pass\",\"Incomplete pass\",\"Complete pass\",\"Incomplete pass\",\"Incomplete pass\",\"Incomplete pass\",\"Complete pass\",\"Complete pass\",\"Complete pass\",\"Incomplete pass\",\"Incomplete pass\",\"Complete pass\",\"Complete pass\",\"Complete pass\",\"Complete pass\",\"Complete pass\",\"Incomplete pass\",\"Complete pass\",\"Incomplete pass\",\"Complete pass\",\"Complete pass\",\"Complete pass\",\"Incomplete pass\",\"Incomplete pass\",\"Incomplete pass\",\"Complete pass\",\"Complete pass\",\"Incomplete pass\",\"Complete pass\",\"Incomplete pass\",\"Incomplete pass\",\"Incomplete pass\",\"QB Sack\",\"Incomplete pass\",\"Complete pass\",\"Complete pass\",\"Complete pass\",\"Incomplete pass\",\"Complete pass\",\"Complete pass\",\"Incomplete pass\",\"Incomplete pass\",\"Complete pass\",\"Incomplete pass\",\"Complete pass\",\"Complete pass\",\"Incomplete pass\",\"QB Sack\",\"Complete pass\",\"Incomplete pass\",\"Complete pass\",\"Complete pass\",\"Interception\",\"Scramble\",\"Complete pass\",\"Complete pass\",\"Complete pass\",\"Incomplete pass\",\"Complete pass\",\"Complete pass\",\"Incomplete pass\",\"Incomplete pass\",\"Complete pass\",\"Complete pass\",\"Complete pass\",\"Complete pass\",\"Complete pass\",\"Scramble\",\"Scramble\",\"Incomplete pass\",\"Interception\",\"Complete pass\",\"QB Sack\",\"Complete pass\",\"Incomplete pass\",\"Incomplete pass\",\"Complete pass\",\"Incomplete pass\",\"Incomplete pass\",\"Complete pass\",\"Incomplete pass\",\"Incomplete pass\",\"Complete pass\",\"Incomplete pass\",\"Incomplete pass\",\"Complete pass\",\"Complete pass\",\"Complete pass\",\"Incomplete pass\",\"Incomplete pass\",\"Incomplete pass\",\"Complete pass\",\"Complete pass\",\"Complete pass\",\"QB Sack\",\"Incomplete pass\",\"Complete pass\",\"Complete pass\",\"Complete pass\",\"Complete pass\",\"Complete pass\",\"Complete pass\",\"Incomplete pass\",\"Complete pass\",\"Incomplete pass\",\"Incomplete pass\",\"Complete pass\",\"Complete pass\",\"Complete pass\",\"Incomplete pass\",\"Incomplete pass\",\"Complete pass\",\"Complete pass\",\"Incomplete pass\",\"Complete pass\",\"Complete pass\",\"Complete pass\",\"QB Sack\",\"Complete pass\",\"Complete pass\",\"Complete pass\",\"Incomplete pass\",\"Complete pass\",\"Incomplete pass\",\"Incomplete pass\",\"Complete pass\",\"Complete pass\",\"Complete pass\",\"Complete pass\",\"Scramble\",\"Complete pass\",\"Complete pass\",\"Incomplete pass\",\"QB Sack\",\"Complete pass\",\"Incomplete pass\",\"Complete pass\",\"Complete pass\",\"Incomplete pass\",\"Incomplete pass\",\"Complete pass\",\"Incomplete pass\",\"Complete pass\",\"Complete pass\",\"QB Sack\",\"Incomplete pass\",\"Complete pass\",\"Incomplete pass\",\"Complete pass\",\"Complete pass\",\"Complete pass\",\"Scramble\",\"Complete pass\",\"Incomplete pass\",\"Complete pass\",\"Incomplete pass\",\"Incomplete pass\",\"QB Sack\",\"Complete pass\",\"Complete pass\",\"Complete pass\",\"QB Sack\",\"Incomplete pass\",\"QB Sack\",\"Complete pass\",\"Complete pass\",\"Incomplete pass\",\"Incomplete pass\",\"Incomplete pass\",\"Complete pass\",\"QB Sack\",\"Incomplete pass\",\"Complete pass\",\"Complete pass\",\"Complete pass\",\"Incomplete pass\",\"Scramble\",\"Incomplete pass\",\"Complete pass\",\"Complete pass\",\"Complete pass\",\"Complete pass\",\"Incomplete pass\",\"Incomplete pass\",\"Complete pass\",\"Interception\",\"Incomplete pass\",\"Complete pass\",\"Complete pass\",\"Incomplete pass\",\"Incomplete pass\",\"Scramble\",\"Complete pass\",\"Complete pass\",\"Scramble\",\"Complete pass\",\"Incomplete pass\",\"Complete pass\",\"Incomplete pass\",\"Complete pass\",\"Complete pass\",\"Incomplete pass\",\"Incomplete pass\",\"Complete pass\",\"Complete pass\",\"Scramble\",\"Incomplete pass\",\"Scramble\",\"Complete pass\",\"QB Sack\",\"Complete pass\",\"Incomplete pass\",\"Complete pass\",\"Complete pass\",\"Complete pass\",\"Incomplete pass\",\"Complete pass\",\"Complete pass\",\"Incomplete pass\",\"Incomplete pass\",\"Complete pass\",\"Complete pass\",\"Complete pass\",\"Complete pass\",\"Incomplete pass\",\"Incomplete pass\",\"Complete pass\",\"QB Sack\",\"Incomplete pass\",\"Complete pass\",\"Complete pass\",\"Interception\",\"Complete pass\",\"Incomplete pass\",\"Incomplete pass\",\"Incomplete pass\",\"Complete pass\",\"Complete pass\",\"Incomplete pass\",\"Complete pass\",\"Incomplete pass\",\"Incomplete pass\",\"Scramble\",\"Incomplete pass\",\"Incomplete pass\",\"Complete pass\",\"Complete pass\",\"Incomplete pass\",\"Complete pass\",\"Incomplete pass\",\"Complete pass\",\"Incomplete pass\",\"Incomplete pass\",\"Incomplete pass\",\"Interception\",\"Incomplete pass\",\"Complete pass\",\"QB Sack\",\"Complete pass\",\"Complete pass\",\"Complete pass\",\"Complete pass\",\"Complete pass\",\"Incomplete pass\",\"Complete pass\",\"Complete pass\",\"Incomplete pass\",\"Complete pass\",\"Complete pass\",\"Complete pass\",\"Incomplete pass\",\"Complete pass\",\"Complete pass\",\"Complete pass\",\"Complete pass\",\"Incomplete pass\",\"Incomplete pass\",\"Complete pass\",\"Scramble\",\"Complete pass\",\"Incomplete pass\",\"Incomplete pass\",\"Incomplete pass\",\"Incomplete pass\",\"Incomplete pass\",\"Incomplete pass\",\"Complete pass\",\"Complete pass\",\"Complete pass\",\"Complete pass\",\"Scramble\",\"Complete pass\",\"QB Sack\",\"Incomplete pass\",\"Interception\",\"QB Sack\",\"Complete pass\",\"Incomplete pass\",\"Complete pass\",\"Complete pass\",\"Scramble\",\"Interception\",\"Complete pass\",\"Incomplete pass\",\"Complete pass\",\"QB Sack\",\"Complete pass\",\"Interception\",\"Complete pass\",\"Complete pass\",\"Incomplete pass\",\"Interception\",\"Complete pass\",\"Complete pass\",\"Incomplete pass\",\"Incomplete pass\",\"Complete pass\",\"Complete pass\",\"Incomplete pass\",\"Incomplete pass\",\"Incomplete pass\",\"Complete pass\",\"Complete pass\",\"Complete pass\",\"Complete pass\",\"Complete pass\",\"Complete pass\",\"Complete pass\",\"Incomplete pass\",\"Complete pass\",\"Incomplete pass\",\"Complete pass\",\"Complete pass\",\"Complete pass\",\"Complete pass\",\"Scramble\",\"Complete pass\",\"Complete pass\",\"Complete pass\",\"Complete pass\",\"Complete pass\",\"Complete pass\",\"Complete pass\",\"Incomplete pass\",\"Incomplete pass\",\"Complete pass\",\"Complete pass\",\"Complete pass\",\"Complete pass\",\"Complete pass\",\"Complete pass\",\"Incomplete pass\",\"Complete pass\",\"Complete pass\",\"Interception\",\"Complete pass\",\"Complete pass\",\"Complete pass\",\"Complete pass\",\"Complete pass\",\"Scramble\",\"Incomplete pass\",\"QB Sack\",\"Incomplete pass\",\"Complete pass\",\"Complete pass\",\"Complete pass\",\"Complete pass\",\"Complete pass\",\"Complete pass\",\"Complete pass\",\"Complete pass\",\"Complete pass\",\"Complete pass\",\"Incomplete pass\",\"Interception\",\"Incomplete pass\",\"Incomplete pass\",\"QB Sack\",\"Complete pass\",\"Complete pass\",\"Complete pass\",\"Incomplete pass\",\"QB Sack\",\"Incomplete pass\",\"Complete pass\",\"Complete pass\",\"Complete pass\",\"Incomplete pass\",\"Complete pass\",\"Scramble\",\"Scramble\",\"Complete pass\",\"Complete pass\",\"Incomplete pass\",\"Incomplete pass\",\"Complete pass\",\"Complete pass\",\"Interception\",\"Incomplete pass\",\"Incomplete pass\",\"Scramble\",\"Complete pass\",\"Complete pass\",\"Complete pass\",\"Interception\",\"Complete pass\",\"Complete pass\",\"Complete pass\",\"Complete pass\",\"QB Sack\",\"Complete pass\",\"Complete pass\",\"Complete pass\",\"Incomplete pass\",\"Complete pass\",\"Complete pass\",\"Incomplete pass\",\"Complete pass\",\"Complete pass\",\"QB Sack\",\"Incomplete pass\",\"Complete pass\",\"Scramble\",\"Complete pass\",\"Complete pass\",\"Complete pass\",\"Complete pass\",\"QB Sack\",\"Incomplete pass\",\"QB Sack\",\"QB Sack\",\"Complete pass\",\"Complete pass\",\"Incomplete pass\",\"Complete pass\",\"Scramble\",\"Incomplete pass\",\"Complete pass\",\"Complete pass\",\"Complete pass\",\"Complete pass\",\"Complete pass\",\"Scramble\",\"Complete pass\",\"Incomplete pass\",\"Incomplete pass\",\"Complete pass\",\"Complete pass\",\"Incomplete pass\",\"Incomplete pass\",\"Complete pass\",\"Complete pass\",\"Complete pass\",\"Complete pass\",\"Complete pass\",\"Incomplete pass\",\"Incomplete pass\",\"Complete pass\",\"Interception\",\"Complete pass\",\"Incomplete pass\",\"Complete pass\",\"Complete pass\",\"Incomplete pass\",\"Complete pass\",\"Complete pass\",\"Incomplete pass\",\"Complete pass\",\"Complete pass\",\"Incomplete pass\",\"Complete pass\",\"Scramble\",\"Complete pass\",\"Complete pass\",\"Scramble\",\"Complete pass\",\"Complete pass\",\"QB Sack\",\"Incomplete pass\",\"Complete pass\",\"Complete pass\",\"Complete pass\",\"Complete pass\",\"Interception\",\"Incomplete pass\",\"Complete pass\",\"Complete pass\",\"Complete pass\",\"Complete pass\",\"QB Sack\",\"Incomplete pass\",\"Complete pass\",\"Incomplete pass\",\"Complete pass\",\"Incomplete pass\",\"Complete pass\",\"Scramble\",\"Complete pass\",\"Incomplete pass\",\"Complete pass\",\"Complete pass\",\"QB Sack\",\"Incomplete pass\",\"Complete pass\",\"Complete pass\",\"Complete pass\",\"Complete pass\",\"Complete pass\",\"Complete pass\",\"Complete pass\",\"Complete pass\",\"Complete pass\",\"Incomplete pass\",\"Complete pass\",\"Complete pass\",\"Complete pass\",\"QB Sack\",\"Incomplete pass\",\"Complete pass\",\"QB Sack\",\"Complete pass\",\"Complete pass\",\"Incomplete pass\",\"Complete pass\",\"Complete pass\",\"Complete pass\",\"Incomplete pass\",\"Complete pass\",\"Incomplete pass\",\"Complete pass\",\"Complete pass\",\"Complete pass\",\"Complete pass\",\"Scramble\",\"Complete pass\",\"Complete pass\",\"Scramble\",\"Complete pass\",\"Complete pass\",\"Scramble\",\"Complete pass\",\"Complete pass\",\"Incomplete pass\",\"Incomplete pass\",\"Complete pass\",\"Incomplete pass\",\"Complete pass\",\"Incomplete pass\",\"Incomplete pass\",\"Incomplete pass\",\"Complete pass\",\"Complete pass\",\"Complete pass\",\"Complete pass\",\"Incomplete pass\",\"Complete pass\",\"Complete pass\",\"Interception\",\"Incomplete pass\",\"Incomplete pass\",\"Complete pass\",\"Scramble\",\"Complete pass\",\"Complete pass\",\"Incomplete pass\",\"Complete pass\",\"Complete pass\",\"Scramble\",\"Incomplete pass\",\"Complete pass\",\"Complete pass\",\"Incomplete pass\",\"Complete pass\",\"Complete pass\",\"Scramble\",\"Incomplete pass\",\"Complete pass\",\"Incomplete pass\",\"Complete pass\",\"Complete pass\",\"Complete pass\",\"Complete pass\",\"QB Sack\",\"Complete pass\",\"Complete pass\",\"Complete pass\",\"QB Sack\",\"Complete pass\",\"Complete pass\",\"Incomplete pass\",\"Complete pass\",\"QB Sack\",\"Incomplete pass\",\"QB Sack\",\"Complete pass\",\"Incomplete pass\",\"Incomplete pass\",\"Complete pass\",\"Incomplete pass\",\"Complete pass\",\"QB Sack\",\"Complete pass\",\"Incomplete pass\",\"Incomplete pass\",\"Incomplete pass\",\"QB Sack\",\"Scramble\",\"Complete pass\",\"Incomplete pass\",\"Complete pass\",\"Complete pass\",\"Complete pass\",\"Incomplete pass\",\"Incomplete pass\",\"Incomplete pass\",\"Complete pass\",\"Complete pass\",\"Incomplete pass\",\"Complete pass\",\"Incomplete pass\",\"Complete pass\",\"Complete pass\",\"Scramble\",\"QB Sack\",\"QB Sack\",\"Complete pass\",\"Incomplete pass\",\"Complete pass\",\"Complete pass\",\"Complete pass\",\"Complete pass\",\"Complete pass\",\"Complete pass\",\"Complete pass\",\"Complete pass\",\"Complete pass\",\"Complete pass\",\"Complete pass\",\"Incomplete pass\",\"Scramble\",\"Complete pass\",\"Incomplete pass\",\"Complete pass\",\"Complete pass\",\"Complete pass\",\"Incomplete pass\",\"Incomplete pass\",\"Complete pass\",\"QB Sack\",\"Interception\",\"Complete pass\",\"QB Sack\",\"Incomplete pass\",\"Scramble\",\"Complete pass\",\"Complete pass\",\"Incomplete pass\",\"Complete pass\",\"Complete pass\",\"Incomplete pass\",\"Complete pass\",\"Complete pass\",\"Complete pass\",\"Complete pass\",\"Incomplete pass\",\"QB Sack\",\"Complete pass\",\"Incomplete pass\",\"Complete pass\",\"Complete pass\",\"Interception\",\"Complete pass\",\"Incomplete pass\",\"Complete pass\",\"Complete pass\",\"QB Sack\",\"Incomplete pass\",\"Scramble\",\"Complete pass\",\"Complete pass\",\"Incomplete pass\",\"Incomplete pass\",\"Complete pass\",\"QB Sack\",\"Complete pass\",\"Complete pass\",\"Complete pass\",\"Incomplete pass\",\"Complete pass\",\"Incomplete pass\",\"Complete pass\",\"Incomplete pass\",\"Incomplete pass\",\"Scramble\",\"Complete pass\",\"Complete pass\",\"Complete pass\",\"Complete pass\",\"Complete pass\",\"Complete pass\",\"Incomplete pass\",\"Incomplete pass\",\"Complete pass\",\"Incomplete pass\",\"Complete pass\",\"Complete pass\",\"Incomplete pass\",\"Complete pass\",\"Incomplete pass\",\"Complete pass\",\"Incomplete pass\",\"Incomplete pass\",\"Incomplete pass\",\"Complete pass\",\"Complete pass\",\"Complete pass\",\"Incomplete pass\",\"Complete pass\",\"Complete pass\",\"Incomplete pass\",\"Complete pass\",\"Complete pass\",\"Complete pass\",\"Incomplete pass\",\"Incomplete pass\",\"Complete pass\",\"Complete pass\",\"Complete pass\",\"Scramble\",\"Incomplete pass\",\"QB Sack\",\"Incomplete pass\",\"Complete pass\",\"QB Sack\",\"Incomplete pass\",\"Scramble\",\"Complete pass\",\"Incomplete pass\",\"Incomplete pass\",\"Incomplete pass\",\"QB Sack\",\"Complete pass\",\"Incomplete pass\",\"Incomplete pass\",\"Complete pass\",\"Interception\",\"Incomplete pass\",\"Complete pass\",\"Interception\",\"Incomplete pass\",\"Complete pass\",\"Complete pass\",\"QB Sack\",\"Complete pass\",\"Incomplete pass\",\"Complete pass\",\"Incomplete pass\",\"Incomplete pass\",\"Complete pass\",\"Complete pass\",\"Incomplete pass\",\"Complete pass\",\"Incomplete pass\",\"Complete pass\",\"Incomplete pass\",\"Complete pass\",\"Complete pass\",\"Complete pass\",\"Incomplete pass\",\"Incomplete pass\",\"Complete pass\",\"Complete pass\",\"QB Sack\",\"Incomplete pass\",\"Incomplete pass\",\"Complete pass\",\"Incomplete pass\",\"Incomplete pass\",\"Complete pass\",\"Complete pass\",\"Complete pass\",\"Incomplete pass\",\"Complete pass\",\"Complete pass\",\"Complete pass\",\"Complete pass\",\"Incomplete pass\",\"Complete pass\",\"Complete pass\",\"Incomplete pass\",\"Interception\",\"Incomplete pass\",\"Incomplete pass\",\"Complete pass\",\"Complete pass\",\"Complete pass\",\"Complete pass\",\"Incomplete pass\",\"Complete pass\",\"Incomplete pass\",\"Complete pass\",\"Complete pass\",\"Complete pass\",\"Incomplete pass\",\"Complete pass\",\"Incomplete pass\",\"Incomplete pass\",\"Complete pass\",\"Complete pass\",\"Complete pass\",\"Complete pass\",\"Complete pass\",\"Incomplete pass\",\"Interception\",\"Incomplete pass\",\"Complete pass\",\"Complete pass\",\"Complete pass\",\"Incomplete pass\",\"Complete pass\",\"Complete pass\",\"Complete pass\",\"Incomplete pass\",\"Incomplete pass\",\"Complete pass\",\"Scramble\",\"Scramble\",\"Incomplete pass\",\"Incomplete pass\",\"Complete pass\",\"Scramble\",\"Complete pass\",\"Incomplete pass\",\"Complete pass\",\"Incomplete pass\",\"Complete pass\",\"Incomplete pass\",\"Incomplete pass\",\"Incomplete pass\",\"Complete pass\",\"Incomplete pass\",\"Incomplete pass\",\"Complete pass\",\"Complete pass\",\"Complete pass\",\"Incomplete pass\",\"Scramble\",\"Complete pass\",\"Complete pass\",\"Complete pass\",\"Incomplete pass\",\"Complete pass\",\"Complete pass\",\"Complete pass\",\"Complete pass\",\"Complete pass\",\"Incomplete pass\",\"Complete pass\",\"Incomplete pass\",\"Complete pass\",\"Incomplete pass\",\"Complete pass\",\"Complete pass\",\"Incomplete pass\",\"Scramble\",\"Complete pass\",\"Incomplete pass\",\"QB Sack\",\"Incomplete pass\",\"Complete pass\",\"QB Sack\",\"Interception\",\"Complete pass\",\"Complete pass\",\"Complete pass\",\"Incomplete pass\",\"Scramble\",\"Incomplete pass\",\"Incomplete pass\",\"Incomplete pass\",\"Complete pass\",\"Complete pass\",\"Complete pass\",\"Complete pass\",\"Complete pass\",\"Complete pass\",\"Complete pass\",\"Complete pass\",\"Incomplete pass\",\"QB Sack\",\"Complete pass\",\"Scramble\",\"Complete pass\",\"Interception\",\"Incomplete pass\",\"QB Sack\",\"Complete pass\",\"Incomplete pass\",\"Incomplete pass\",\"Complete pass\",\"Complete pass\",\"Incomplete pass\",\"Complete pass\",\"Complete pass\",\"Complete pass\",\"Incomplete pass\",\"Complete pass\",\"Incomplete pass\",\"Complete pass\",\"Complete pass\",\"Complete pass\",\"Complete pass\",\"Incomplete pass\",\"Scramble\",\"Complete pass\",\"Complete pass\",\"Incomplete pass\",\"Complete pass\",\"Complete pass\",\"Complete pass\",\"Complete pass\",\"Complete pass\",\"Complete pass\",\"Complete pass\",\"Complete pass\",\"Complete pass\",\"Complete pass\",\"Incomplete pass\",\"Complete pass\",\"Incomplete pass\",\"Incomplete pass\",\"Complete pass\",\"Complete pass\",\"Incomplete pass\",\"Complete pass\",\"Complete pass\",\"Complete pass\",\"Incomplete pass\",\"Incomplete pass\",\"Incomplete pass\",\"Incomplete pass\",\"Incomplete pass\",\"Complete pass\",\"QB Sack\",\"Complete pass\",\"Complete pass\",\"Complete pass\",\"Complete pass\",\"Incomplete pass\",\"Complete pass\",\"Complete pass\",\"QB Sack\",\"Complete pass\",\"Incomplete pass\",\"Complete pass\",\"Incomplete pass\",\"Complete pass\",\"Incomplete pass\",\"Complete pass\",\"Incomplete pass\",\"Incomplete pass\",\"Incomplete pass\",\"Scramble\",\"Incomplete pass\",\"Complete pass\",\"Incomplete pass\",\"Scramble\",\"Incomplete pass\",\"Complete pass\",\"Incomplete pass\",\"Complete pass\",\"Complete pass\",\"Incomplete pass\",\"Complete pass\",\"QB Sack\",\"Complete pass\",\"Incomplete pass\",\"Complete pass\",\"QB Sack\",\"Incomplete pass\",\"Complete pass\",\"Scramble\",\"Incomplete pass\",\"Incomplete pass\",\"Incomplete pass\",\"Complete pass\",\"Incomplete pass\",\"Complete pass\",\"Scramble\",\"Complete pass\",\"Complete pass\",\"QB Sack\",\"Incomplete pass\",\"Complete pass\",\"Complete pass\",\"Complete pass\",\"Incomplete pass\",\"Complete pass\",\"Scramble\",\"Complete pass\",\"Complete pass\",\"Complete pass\",\"Complete pass\",\"Complete pass\",\"Complete pass\",\"Complete pass\",\"Incomplete pass\",\"Complete pass\",\"Incomplete pass\",\"Complete pass\",\"Complete pass\",\"Complete pass\",\"Complete pass\",\"Complete pass\",\"Complete pass\",\"Complete pass\",\"Interception\",\"Complete pass\",\"Incomplete pass\",\"Incomplete pass\",\"Complete pass\",\"Complete pass\",\"Incomplete pass\",\"Complete pass\",\"Complete pass\",\"Complete pass\",\"Complete pass\",\"Complete pass\",\"Complete pass\",\"Complete pass\",\"Incomplete pass\",\"Incomplete pass\",\"Incomplete pass\",\"Complete pass\",\"Complete pass\",\"Complete pass\",\"Complete pass\",\"Incomplete pass\",\"Complete pass\",\"Complete pass\",\"Complete pass\",\"Incomplete pass\",\"Incomplete pass\",\"Interception\",\"Complete pass\",\"Complete pass\",\"Complete pass\",\"Incomplete pass\",\"Complete pass\",\"Incomplete pass\",\"Complete pass\",\"Complete pass\",\"Complete pass\",\"Incomplete pass\",\"Complete pass\",\"Complete pass\",\"Complete pass\",\"Complete pass\",\"QB Sack\",\"Interception\",\"Complete pass\",\"Incomplete pass\",\"Complete pass\",\"Scramble\",\"Complete pass\",\"Complete pass\",\"Complete pass\",\"Complete pass\",\"Complete pass\",\"Incomplete pass\",\"Complete pass\",\"Complete pass\",\"Scramble\",\"Complete pass\",\"Incomplete pass\",\"Complete pass\",\"Incomplete pass\",\"Complete pass\",\"Incomplete pass\",\"Complete pass\",\"Complete pass\",\"Scramble\",\"Complete pass\",\"Incomplete pass\",\"QB Sack\",\"Interception\",\"Complete pass\",\"Incomplete pass\",\"Complete pass\",\"Complete pass\",\"Incomplete pass\",\"Incomplete pass\",\"Incomplete pass\",\"QB Sack\",\"Incomplete pass\",\"Incomplete pass\",\"Incomplete pass\",\"Complete pass\",\"Incomplete pass\",\"Complete pass\",\"Complete pass\",\"Complete pass\",\"Complete pass\",\"Complete pass\",\"Incomplete pass\",\"Complete pass\",\"Complete pass\",\"Incomplete pass\",\"Complete pass\",\"Complete pass\",\"QB Sack\",\"Complete pass\",\"QB Sack\",\"Complete pass\",\"Complete pass\",\"Complete pass\",\"Complete pass\",\"Complete pass\",\"Complete pass\",\"QB Sack\",\"Incomplete pass\",\"Scramble\",\"Interception\",\"Complete pass\",\"Complete pass\",\"Complete pass\",\"Complete pass\",\"Scramble\",\"Complete pass\",\"Complete pass\",\"Complete pass\",\"Complete pass\",\"Complete pass\",\"Incomplete pass\",\"Complete pass\",\"Incomplete pass\",\"Incomplete pass\",\"Complete pass\",\"Complete pass\",\"Incomplete pass\",\"Incomplete pass\",\"Complete pass\",\"Complete pass\",\"Incomplete pass\",\"Complete pass\",\"Incomplete pass\",\"Complete pass\",\"Complete pass\",\"Complete pass\",\"Complete pass\",\"Incomplete pass\",\"Complete pass\",\"Incomplete pass\",\"Complete pass\",\"Incomplete pass\",\"Complete pass\",\"Complete pass\",\"Complete pass\",\"Complete pass\",\"Complete pass\",\"Complete pass\",\"Incomplete pass\",\"Complete pass\",\"Complete pass\",\"Complete pass\",\"Complete pass\",\"Incomplete pass\",\"Complete pass\",\"Complete pass\",\"Incomplete pass\",\"Complete pass\",\"Complete pass\",\"Complete pass\",\"Complete pass\",\"Incomplete pass\",\"Incomplete pass\",\"Complete pass\",\"Complete pass\",\"Incomplete pass\",\"Complete pass\",\"Complete pass\",\"Incomplete pass\",\"Complete pass\",\"Complete pass\",\"Incomplete pass\",\"Complete pass\",\"Incomplete pass\",\"Complete pass\",\"Incomplete pass\",\"Complete pass\",\"Complete pass\",\"QB Sack\",\"Incomplete pass\",\"Complete pass\",\"Complete pass\",\"Complete pass\",\"Complete pass\",\"Complete pass\",\"Interception\",\"Incomplete pass\",\"Incomplete pass\",\"Complete pass\",\"Complete pass\",\"Incomplete pass\",\"Complete pass\",\"Complete pass\",\"Complete pass\",\"Complete pass\",\"Incomplete pass\",\"Scramble\",\"Complete pass\",\"Complete pass\",\"Complete pass\",\"Complete pass\",\"Incomplete pass\",\"Incomplete pass\",\"Complete pass\",\"Complete pass\",\"Complete pass\",\"Incomplete pass\",\"QB Sack\",\"Complete pass\",\"Interception\",\"Incomplete pass\",\"Complete pass\",\"Incomplete pass\",\"Incomplete pass\",\"Complete pass\",\"Incomplete pass\",\"Complete pass\",\"Incomplete pass\",\"Complete pass\",\"Interception\",\"Complete pass\",\"Incomplete pass\",\"Complete pass\",\"Complete pass\",\"Complete pass\",\"Complete pass\",\"Complete pass\",\"Incomplete pass\",\"Complete pass\",\"Complete pass\",\"Interception\",\"Incomplete pass\",\"Complete pass\",\"Scramble\",\"Incomplete pass\",\"Complete pass\",\"Incomplete pass\",\"Complete pass\",\"Complete pass\",\"Complete pass\",\"QB Sack\",\"Complete pass\",\"Incomplete pass\",\"Complete pass\",\"Interception\",\"Scramble\",\"Scramble\",\"Incomplete pass\",\"Incomplete pass\",\"Interception\",\"Complete pass\",\"Incomplete pass\",\"Complete pass\",\"Incomplete pass\",\"Complete pass\",\"Scramble\",\"Incomplete pass\",\"Complete pass\",\"Scramble\",\"Complete pass\",\"Incomplete pass\",\"Incomplete pass\",\"Incomplete pass\",\"Complete pass\",\"Complete pass\",\"Complete pass\",\"Complete pass\",\"Incomplete pass\",\"Complete pass\",\"Complete pass\",\"Scramble\",\"Incomplete pass\",\"Incomplete pass\",\"Complete pass\",\"Complete pass\",\"QB Sack\",\"Complete pass\",\"Complete pass\",\"Complete pass\",\"Interception\",\"Incomplete pass\",\"Complete pass\",\"Complete pass\",\"Complete pass\",\"Complete pass\",\"Complete pass\",\"Incomplete pass\",\"QB Sack\",\"Complete pass\",\"Incomplete pass\",\"Complete pass\",\"Complete pass\",\"Complete pass\",\"QB Sack\",\"Complete pass\",\"Complete pass\",\"Complete pass\",\"Incomplete pass\",\"Incomplete pass\",\"Incomplete pass\",\"Incomplete pass\",\"Incomplete pass\",\"Complete pass\",\"Complete pass\",\"Complete pass\",\"Scramble\",\"Incomplete pass\",\"Complete pass\",\"Incomplete pass\",\"Complete pass\",\"Complete pass\",\"Complete pass\",\"Complete pass\",\"Complete pass\",\"Incomplete pass\",\"Incomplete pass\",\"Incomplete pass\",\"Complete pass\",\"Incomplete pass\",\"Scramble\",\"Complete pass\",\"Incomplete pass\",\"Incomplete pass\",\"Complete pass\",\"Complete pass\",\"Interception\",\"Complete pass\",\"Incomplete pass\",\"Incomplete pass\",\"Scramble\",\"Incomplete pass\",\"Incomplete pass\",\"Incomplete pass\",\"Complete pass\",\"Incomplete pass\",\"Incomplete pass\",\"Complete pass\",\"Incomplete pass\",\"Complete pass\",\"Complete pass\",\"Complete pass\",\"Complete pass\",\"Complete pass\",\"Complete pass\",\"QB Sack\",\"Complete pass\",\"Complete pass\",\"Incomplete pass\",\"Complete pass\",\"Incomplete pass\",\"QB Sack\",\"Complete pass\",\"Incomplete pass\",\"Complete pass\",\"Incomplete pass\",\"Incomplete pass\",\"Incomplete pass\",\"Incomplete pass\",\"Complete pass\",\"Complete pass\",\"QB Sack\",\"Incomplete pass\",\"QB Sack\",\"Complete pass\",\"Incomplete pass\",\"Complete pass\",\"Complete pass\",\"QB Sack\",\"Complete pass\",\"Incomplete pass\",\"Incomplete pass\",\"Complete pass\",\"Complete pass\",\"Incomplete pass\",\"Interception\",\"Complete pass\",\"Complete pass\",\"Complete pass\",\"Complete pass\",\"Incomplete pass\",\"Incomplete pass\",\"QB Sack\",\"Complete pass\",\"Complete pass\",\"QB Sack\",\"Incomplete pass\",\"Complete pass\",\"Complete pass\",\"Complete pass\",\"Incomplete pass\",\"Incomplete pass\",\"Complete pass\",\"Scramble\",\"Complete pass\",\"Complete pass\",\"Complete pass\",\"Complete pass\",\"QB Sack\",\"Complete pass\",\"QB Sack\",\"Incomplete pass\",\"Incomplete pass\",\"Incomplete pass\",\"Incomplete pass\",\"Incomplete pass\",\"Complete pass\",\"Incomplete pass\",\"Incomplete pass\",\"Complete pass\",\"Complete pass\",\"Complete pass\",\"Complete pass\",\"Complete pass\",\"Complete pass\",\"Incomplete pass\",\"Incomplete pass\",\"Scramble\",\"Incomplete pass\",\"Complete pass\",\"Incomplete pass\",\"Incomplete pass\",\"Complete pass\",\"Complete pass\",\"Complete pass\",\"Complete pass\",\"Incomplete pass\",\"Complete pass\",\"QB Sack\",\"Incomplete pass\",\"Complete pass\",\"Incomplete pass\",\"Incomplete pass\",\"Incomplete pass\",\"QB Sack\",\"Complete pass\",\"Incomplete pass\",\"Incomplete pass\",\"Scramble\",\"Complete pass\",\"Complete pass\",\"Incomplete pass\",\"Incomplete pass\",\"Incomplete pass\",\"Complete pass\",\"Complete pass\",\"Complete pass\",\"Incomplete pass\",\"QB Sack\",\"Incomplete pass\",\"Complete pass\",\"Scramble\",\"Incomplete pass\",\"Incomplete pass\",\"Complete pass\",\"Incomplete pass\",\"Incomplete pass\",\"Incomplete pass\",\"Incomplete pass\",\"Incomplete pass\",\"Interception\",\"Complete pass\",\"Complete pass\",\"Complete pass\",\"Complete pass\",\"Incomplete pass\",\"Incomplete pass\",\"Complete pass\",\"Complete pass\",\"Complete pass\",\"Incomplete pass\",\"Interception\",\"Incomplete pass\",\"Incomplete pass\",\"Complete pass\",\"Complete pass\",\"Complete pass\",\"Incomplete pass\",\"Complete pass\",\"Complete pass\",\"Incomplete pass\",\"Incomplete pass\",\"Complete pass\",\"Incomplete pass\",\"QB Sack\",\"Incomplete pass\",\"Incomplete pass\",\"Scramble\",\"Complete pass\",\"Complete pass\",\"QB Sack\",\"Complete pass\",\"Complete pass\",\"Complete pass\",\"Complete pass\",\"Complete pass\",\"Complete pass\",\"Complete pass\",\"Complete pass\",\"Complete pass\",\"Incomplete pass\",\"Complete pass\",\"Incomplete pass\",\"Incomplete pass\",\"Complete pass\",\"Incomplete pass\",\"Complete pass\"],\"xaxis\":\"x\",\"yaxis\":\"y\",\"type\":\"histogram\"}],                        {\"template\":{\"data\":{\"histogram2dcontour\":[{\"type\":\"histogram2dcontour\",\"colorbar\":{\"outlinewidth\":0,\"ticks\":\"\"},\"colorscale\":[[0.0,\"#0d0887\"],[0.1111111111111111,\"#46039f\"],[0.2222222222222222,\"#7201a8\"],[0.3333333333333333,\"#9c179e\"],[0.4444444444444444,\"#bd3786\"],[0.5555555555555556,\"#d8576b\"],[0.6666666666666666,\"#ed7953\"],[0.7777777777777778,\"#fb9f3a\"],[0.8888888888888888,\"#fdca26\"],[1.0,\"#f0f921\"]]}],\"choropleth\":[{\"type\":\"choropleth\",\"colorbar\":{\"outlinewidth\":0,\"ticks\":\"\"}}],\"histogram2d\":[{\"type\":\"histogram2d\",\"colorbar\":{\"outlinewidth\":0,\"ticks\":\"\"},\"colorscale\":[[0.0,\"#0d0887\"],[0.1111111111111111,\"#46039f\"],[0.2222222222222222,\"#7201a8\"],[0.3333333333333333,\"#9c179e\"],[0.4444444444444444,\"#bd3786\"],[0.5555555555555556,\"#d8576b\"],[0.6666666666666666,\"#ed7953\"],[0.7777777777777778,\"#fb9f3a\"],[0.8888888888888888,\"#fdca26\"],[1.0,\"#f0f921\"]]}],\"heatmap\":[{\"type\":\"heatmap\",\"colorbar\":{\"outlinewidth\":0,\"ticks\":\"\"},\"colorscale\":[[0.0,\"#0d0887\"],[0.1111111111111111,\"#46039f\"],[0.2222222222222222,\"#7201a8\"],[0.3333333333333333,\"#9c179e\"],[0.4444444444444444,\"#bd3786\"],[0.5555555555555556,\"#d8576b\"],[0.6666666666666666,\"#ed7953\"],[0.7777777777777778,\"#fb9f3a\"],[0.8888888888888888,\"#fdca26\"],[1.0,\"#f0f921\"]]}],\"heatmapgl\":[{\"type\":\"heatmapgl\",\"colorbar\":{\"outlinewidth\":0,\"ticks\":\"\"},\"colorscale\":[[0.0,\"#0d0887\"],[0.1111111111111111,\"#46039f\"],[0.2222222222222222,\"#7201a8\"],[0.3333333333333333,\"#9c179e\"],[0.4444444444444444,\"#bd3786\"],[0.5555555555555556,\"#d8576b\"],[0.6666666666666666,\"#ed7953\"],[0.7777777777777778,\"#fb9f3a\"],[0.8888888888888888,\"#fdca26\"],[1.0,\"#f0f921\"]]}],\"contourcarpet\":[{\"type\":\"contourcarpet\",\"colorbar\":{\"outlinewidth\":0,\"ticks\":\"\"}}],\"contour\":[{\"type\":\"contour\",\"colorbar\":{\"outlinewidth\":0,\"ticks\":\"\"},\"colorscale\":[[0.0,\"#0d0887\"],[0.1111111111111111,\"#46039f\"],[0.2222222222222222,\"#7201a8\"],[0.3333333333333333,\"#9c179e\"],[0.4444444444444444,\"#bd3786\"],[0.5555555555555556,\"#d8576b\"],[0.6666666666666666,\"#ed7953\"],[0.7777777777777778,\"#fb9f3a\"],[0.8888888888888888,\"#fdca26\"],[1.0,\"#f0f921\"]]}],\"surface\":[{\"type\":\"surface\",\"colorbar\":{\"outlinewidth\":0,\"ticks\":\"\"},\"colorscale\":[[0.0,\"#0d0887\"],[0.1111111111111111,\"#46039f\"],[0.2222222222222222,\"#7201a8\"],[0.3333333333333333,\"#9c179e\"],[0.4444444444444444,\"#bd3786\"],[0.5555555555555556,\"#d8576b\"],[0.6666666666666666,\"#ed7953\"],[0.7777777777777778,\"#fb9f3a\"],[0.8888888888888888,\"#fdca26\"],[1.0,\"#f0f921\"]]}],\"mesh3d\":[{\"type\":\"mesh3d\",\"colorbar\":{\"outlinewidth\":0,\"ticks\":\"\"}}],\"scatter\":[{\"fillpattern\":{\"fillmode\":\"overlay\",\"size\":10,\"solidity\":0.2},\"type\":\"scatter\"}],\"parcoords\":[{\"type\":\"parcoords\",\"line\":{\"colorbar\":{\"outlinewidth\":0,\"ticks\":\"\"}}}],\"scatterpolargl\":[{\"type\":\"scatterpolargl\",\"marker\":{\"colorbar\":{\"outlinewidth\":0,\"ticks\":\"\"}}}],\"bar\":[{\"error_x\":{\"color\":\"#2a3f5f\"},\"error_y\":{\"color\":\"#2a3f5f\"},\"marker\":{\"line\":{\"color\":\"#E5ECF6\",\"width\":0.5},\"pattern\":{\"fillmode\":\"overlay\",\"size\":10,\"solidity\":0.2}},\"type\":\"bar\"}],\"scattergeo\":[{\"type\":\"scattergeo\",\"marker\":{\"colorbar\":{\"outlinewidth\":0,\"ticks\":\"\"}}}],\"scatterpolar\":[{\"type\":\"scatterpolar\",\"marker\":{\"colorbar\":{\"outlinewidth\":0,\"ticks\":\"\"}}}],\"histogram\":[{\"marker\":{\"pattern\":{\"fillmode\":\"overlay\",\"size\":10,\"solidity\":0.2}},\"type\":\"histogram\"}],\"scattergl\":[{\"type\":\"scattergl\",\"marker\":{\"colorbar\":{\"outlinewidth\":0,\"ticks\":\"\"}}}],\"scatter3d\":[{\"type\":\"scatter3d\",\"line\":{\"colorbar\":{\"outlinewidth\":0,\"ticks\":\"\"}},\"marker\":{\"colorbar\":{\"outlinewidth\":0,\"ticks\":\"\"}}}],\"scattermapbox\":[{\"type\":\"scattermapbox\",\"marker\":{\"colorbar\":{\"outlinewidth\":0,\"ticks\":\"\"}}}],\"scatterternary\":[{\"type\":\"scatterternary\",\"marker\":{\"colorbar\":{\"outlinewidth\":0,\"ticks\":\"\"}}}],\"scattercarpet\":[{\"type\":\"scattercarpet\",\"marker\":{\"colorbar\":{\"outlinewidth\":0,\"ticks\":\"\"}}}],\"carpet\":[{\"aaxis\":{\"endlinecolor\":\"#2a3f5f\",\"gridcolor\":\"white\",\"linecolor\":\"white\",\"minorgridcolor\":\"white\",\"startlinecolor\":\"#2a3f5f\"},\"baxis\":{\"endlinecolor\":\"#2a3f5f\",\"gridcolor\":\"white\",\"linecolor\":\"white\",\"minorgridcolor\":\"white\",\"startlinecolor\":\"#2a3f5f\"},\"type\":\"carpet\"}],\"table\":[{\"cells\":{\"fill\":{\"color\":\"#EBF0F8\"},\"line\":{\"color\":\"white\"}},\"header\":{\"fill\":{\"color\":\"#C8D4E3\"},\"line\":{\"color\":\"white\"}},\"type\":\"table\"}],\"barpolar\":[{\"marker\":{\"line\":{\"color\":\"#E5ECF6\",\"width\":0.5},\"pattern\":{\"fillmode\":\"overlay\",\"size\":10,\"solidity\":0.2}},\"type\":\"barpolar\"}],\"pie\":[{\"automargin\":true,\"type\":\"pie\"}]},\"layout\":{\"autotypenumbers\":\"strict\",\"colorway\":[\"#636efa\",\"#EF553B\",\"#00cc96\",\"#ab63fa\",\"#FFA15A\",\"#19d3f3\",\"#FF6692\",\"#B6E880\",\"#FF97FF\",\"#FECB52\"],\"font\":{\"color\":\"#2a3f5f\"},\"hovermode\":\"closest\",\"hoverlabel\":{\"align\":\"left\"},\"paper_bgcolor\":\"white\",\"plot_bgcolor\":\"#E5ECF6\",\"polar\":{\"bgcolor\":\"#E5ECF6\",\"angularaxis\":{\"gridcolor\":\"white\",\"linecolor\":\"white\",\"ticks\":\"\"},\"radialaxis\":{\"gridcolor\":\"white\",\"linecolor\":\"white\",\"ticks\":\"\"}},\"ternary\":{\"bgcolor\":\"#E5ECF6\",\"aaxis\":{\"gridcolor\":\"white\",\"linecolor\":\"white\",\"ticks\":\"\"},\"baxis\":{\"gridcolor\":\"white\",\"linecolor\":\"white\",\"ticks\":\"\"},\"caxis\":{\"gridcolor\":\"white\",\"linecolor\":\"white\",\"ticks\":\"\"}},\"coloraxis\":{\"colorbar\":{\"outlinewidth\":0,\"ticks\":\"\"}},\"colorscale\":{\"sequential\":[[0.0,\"#0d0887\"],[0.1111111111111111,\"#46039f\"],[0.2222222222222222,\"#7201a8\"],[0.3333333333333333,\"#9c179e\"],[0.4444444444444444,\"#bd3786\"],[0.5555555555555556,\"#d8576b\"],[0.6666666666666666,\"#ed7953\"],[0.7777777777777778,\"#fb9f3a\"],[0.8888888888888888,\"#fdca26\"],[1.0,\"#f0f921\"]],\"sequentialminus\":[[0.0,\"#0d0887\"],[0.1111111111111111,\"#46039f\"],[0.2222222222222222,\"#7201a8\"],[0.3333333333333333,\"#9c179e\"],[0.4444444444444444,\"#bd3786\"],[0.5555555555555556,\"#d8576b\"],[0.6666666666666666,\"#ed7953\"],[0.7777777777777778,\"#fb9f3a\"],[0.8888888888888888,\"#fdca26\"],[1.0,\"#f0f921\"]],\"diverging\":[[0,\"#8e0152\"],[0.1,\"#c51b7d\"],[0.2,\"#de77ae\"],[0.3,\"#f1b6da\"],[0.4,\"#fde0ef\"],[0.5,\"#f7f7f7\"],[0.6,\"#e6f5d0\"],[0.7,\"#b8e186\"],[0.8,\"#7fbc41\"],[0.9,\"#4d9221\"],[1,\"#276419\"]]},\"xaxis\":{\"gridcolor\":\"white\",\"linecolor\":\"white\",\"ticks\":\"\",\"title\":{\"standoff\":15},\"zerolinecolor\":\"white\",\"automargin\":true,\"zerolinewidth\":2},\"yaxis\":{\"gridcolor\":\"white\",\"linecolor\":\"white\",\"ticks\":\"\",\"title\":{\"standoff\":15},\"zerolinecolor\":\"white\",\"automargin\":true,\"zerolinewidth\":2},\"scene\":{\"xaxis\":{\"backgroundcolor\":\"#E5ECF6\",\"gridcolor\":\"white\",\"linecolor\":\"white\",\"showbackground\":true,\"ticks\":\"\",\"zerolinecolor\":\"white\",\"gridwidth\":2},\"yaxis\":{\"backgroundcolor\":\"#E5ECF6\",\"gridcolor\":\"white\",\"linecolor\":\"white\",\"showbackground\":true,\"ticks\":\"\",\"zerolinecolor\":\"white\",\"gridwidth\":2},\"zaxis\":{\"backgroundcolor\":\"#E5ECF6\",\"gridcolor\":\"white\",\"linecolor\":\"white\",\"showbackground\":true,\"ticks\":\"\",\"zerolinecolor\":\"white\",\"gridwidth\":2}},\"shapedefaults\":{\"line\":{\"color\":\"#2a3f5f\"}},\"annotationdefaults\":{\"arrowcolor\":\"#2a3f5f\",\"arrowhead\":0,\"arrowwidth\":1},\"geo\":{\"bgcolor\":\"white\",\"landcolor\":\"#E5ECF6\",\"subunitcolor\":\"white\",\"showland\":true,\"showlakes\":true,\"lakecolor\":\"white\"},\"title\":{\"x\":0.05},\"mapbox\":{\"style\":\"light\"}}},\"xaxis\":{\"anchor\":\"y\",\"domain\":[0.0,1.0],\"title\":{\"text\":\"passResult\"}},\"yaxis\":{\"anchor\":\"x\",\"domain\":[0.0,1.0],\"title\":{\"text\":\"count\"}},\"legend\":{\"tracegroupgap\":0},\"margin\":{\"t\":60},\"barmode\":\"group\"},                        {\"responsive\": true}                    ).then(function(){\n",
       "                            \n",
       "var gd = document.getElementById('92badef8-5889-4f4e-ab70-6cc02c5bbec7');\n",
       "var x = new MutationObserver(function (mutations, observer) {{\n",
       "        var display = window.getComputedStyle(gd).display;\n",
       "        if (!display || display === 'none') {{\n",
       "            console.log([gd, 'removed!']);\n",
       "            Plotly.purge(gd);\n",
       "            observer.disconnect();\n",
       "        }}\n",
       "}});\n",
       "\n",
       "// Listen for the removal of the full notebook cells\n",
       "var notebookContainer = gd.closest('#notebook-container');\n",
       "if (notebookContainer) {{\n",
       "    x.observe(notebookContainer, {childList: true});\n",
       "}}\n",
       "\n",
       "// Listen for the clearing of the current output cell\n",
       "var outputEl = gd.closest('.output');\n",
       "if (outputEl) {{\n",
       "    x.observe(outputEl, {childList: true});\n",
       "}}\n",
       "\n",
       "                        })                };                });            </script>        </div>"
      ]
     },
     "metadata": {},
     "output_type": "display_data"
    }
   ],
   "source": [
    "fig = px.histogram(df, x='passResult',barmode='group')\n",
    "fig.show()"
   ]
  },
  {
   "cell_type": "markdown",
   "id": "5f3a9787",
   "metadata": {
    "papermill": {
     "duration": 0.018732,
     "end_time": "2022-11-11T20:05:56.727298",
     "exception": false,
     "start_time": "2022-11-11T20:05:56.708566",
     "status": "completed"
    },
    "tags": []
   },
   "source": [
    "### Data Preparation: Converting Categorical Features\n",
    "\n",
    "At this stage, we need to change the categorical variables to a format that our Linear Regression model will understand. We can do this by converting categorical features to dummy variables.\n",
    " \n",
    "We’ll convert all “non-null object” columns to dummy variables using the following process:"
   ]
  },
  {
   "cell_type": "code",
   "execution_count": 31,
   "id": "718acf7a",
   "metadata": {
    "execution": {
     "iopub.execute_input": "2022-11-11T20:05:56.768376Z",
     "iopub.status.busy": "2022-11-11T20:05:56.767027Z",
     "iopub.status.idle": "2022-11-11T20:05:56.781895Z",
     "shell.execute_reply": "2022-11-11T20:05:56.780801Z"
    },
    "papermill": {
     "duration": 0.038886,
     "end_time": "2022-11-11T20:05:56.785224",
     "exception": false,
     "start_time": "2022-11-11T20:05:56.746338",
     "status": "completed"
    },
    "tags": []
   },
   "outputs": [],
   "source": [
    "df = pd.get_dummies(df, columns=['dropBackType','offenseFormation','pff_passCoverage','pff_passCoverageType'], drop_first=True)"
   ]
  },
  {
   "cell_type": "code",
   "execution_count": 32,
   "id": "6bd386ce",
   "metadata": {
    "execution": {
     "iopub.execute_input": "2022-11-11T20:05:56.825698Z",
     "iopub.status.busy": "2022-11-11T20:05:56.825230Z",
     "iopub.status.idle": "2022-11-11T20:05:56.853297Z",
     "shell.execute_reply": "2022-11-11T20:05:56.852110Z"
    },
    "papermill": {
     "duration": 0.052107,
     "end_time": "2022-11-11T20:05:56.856559",
     "exception": false,
     "start_time": "2022-11-11T20:05:56.804452",
     "status": "completed"
    },
    "tags": []
   },
   "outputs": [],
   "source": [
    "labels = pd.DataFrame(df['passResult'])\n",
    "labels.passResult[labels.passResult == 'Complete pass' ] = 0\n",
    "labels.passResult[labels.passResult == 'Scramble' ] = 1\n",
    "labels.passResult[labels.passResult == 'Incomplete pass' ] = 2\n",
    "labels.passResult[labels.passResult == 'QB Sack' ] = 3\n",
    "labels.passResult[labels.passResult == 'Interception' ] = 4\n",
    "df.drop('passResult', axis=1, inplace=True)\n",
    "df = df.apply(pd.to_numeric)\n",
    "labels = labels.apply(pd.to_numeric)"
   ]
  },
  {
   "cell_type": "markdown",
   "id": "3a7d3068",
   "metadata": {
    "execution": {
     "iopub.execute_input": "2022-11-11T17:11:11.834676Z",
     "iopub.status.busy": "2022-11-11T17:11:11.834283Z",
     "iopub.status.idle": "2022-11-11T17:11:11.843179Z",
     "shell.execute_reply": "2022-11-11T17:11:11.841686Z",
     "shell.execute_reply.started": "2022-11-11T17:11:11.834642Z"
    },
    "papermill": {
     "duration": 0.017949,
     "end_time": "2022-11-11T20:05:56.893631",
     "exception": false,
     "start_time": "2022-11-11T20:05:56.875682",
     "status": "completed"
    },
    "tags": []
   },
   "source": [
    "### Data Preparation: Train and Test Split\n",
    "\n",
    "We will now split our data into training data sets and test data sets:"
   ]
  },
  {
   "cell_type": "code",
   "execution_count": 33,
   "id": "1afb6db6",
   "metadata": {
    "execution": {
     "iopub.execute_input": "2022-11-11T20:05:56.933217Z",
     "iopub.status.busy": "2022-11-11T20:05:56.931955Z",
     "iopub.status.idle": "2022-11-11T20:05:56.948491Z",
     "shell.execute_reply": "2022-11-11T20:05:56.947518Z"
    },
    "papermill": {
     "duration": 0.039632,
     "end_time": "2022-11-11T20:05:56.951751",
     "exception": false,
     "start_time": "2022-11-11T20:05:56.912119",
     "status": "completed"
    },
    "tags": []
   },
   "outputs": [],
   "source": [
    "X_train, X_test, y_train, y_test = train_test_split(df, labels, test_size=0.3, random_state=0)\n",
    "\n",
    "ss = StandardScaler()\n",
    "X_train_scaled = ss.fit_transform(X_train)\n",
    "X_test_scaled = ss.transform(X_test)"
   ]
  },
  {
   "cell_type": "markdown",
   "id": "8be1f1e0",
   "metadata": {
    "papermill": {
     "duration": 0.018879,
     "end_time": "2022-11-11T20:05:56.990176",
     "exception": false,
     "start_time": "2022-11-11T20:05:56.971297",
     "status": "completed"
    },
    "tags": []
   },
   "source": [
    "### Building the Model\n",
    "\n",
    "Now that we have our training and test data sets, we can train our model and make predictions:"
   ]
  },
  {
   "cell_type": "code",
   "execution_count": 34,
   "id": "d313cd41",
   "metadata": {
    "execution": {
     "iopub.execute_input": "2022-11-11T20:05:57.031861Z",
     "iopub.status.busy": "2022-11-11T20:05:57.030387Z",
     "iopub.status.idle": "2022-11-11T20:05:57.320257Z",
     "shell.execute_reply": "2022-11-11T20:05:57.319063Z"
    },
    "papermill": {
     "duration": 0.316274,
     "end_time": "2022-11-11T20:05:57.325710",
     "exception": false,
     "start_time": "2022-11-11T20:05:57.009436",
     "status": "completed"
    },
    "tags": []
   },
   "outputs": [
    {
     "data": {
      "text/plain": [
       "LogisticRegression(class_weight='balanced')"
      ]
     },
     "execution_count": 34,
     "metadata": {},
     "output_type": "execute_result"
    }
   ],
   "source": [
    "## Logistic Regression\n",
    "model = LogisticRegression(class_weight= 'balanced')\n",
    "\n",
    "## Fitting the model\n",
    "model.fit(X_train_scaled, y_train)"
   ]
  },
  {
   "cell_type": "markdown",
   "id": "d8d5eb90",
   "metadata": {
    "papermill": {
     "duration": 0.04803,
     "end_time": "2022-11-11T20:05:57.422092",
     "exception": false,
     "start_time": "2022-11-11T20:05:57.374062",
     "status": "completed"
    },
    "tags": []
   },
   "source": [
    "### Feature Importance\n",
    "To better understand the performance of our model, we can investigate each individual feature. To do so, we’ll start by getting each individual feature’s coefficient score:"
   ]
  },
  {
   "cell_type": "code",
   "execution_count": 35,
   "id": "660226bb",
   "metadata": {
    "execution": {
     "iopub.execute_input": "2022-11-11T20:05:57.468121Z",
     "iopub.status.busy": "2022-11-11T20:05:57.467690Z",
     "iopub.status.idle": "2022-11-11T20:05:57.476152Z",
     "shell.execute_reply": "2022-11-11T20:05:57.474653Z"
    },
    "papermill": {
     "duration": 0.031694,
     "end_time": "2022-11-11T20:05:57.478698",
     "exception": false,
     "start_time": "2022-11-11T20:05:57.447004",
     "status": "completed"
    },
    "tags": []
   },
   "outputs": [],
   "source": [
    "importances = pd.DataFrame(data={'Attribute': X_train.columns,'Importance': model.coef_[0]})\n",
    "importances = importances.sort_values(by='Importance', ascending=False)"
   ]
  },
  {
   "cell_type": "code",
   "execution_count": 36,
   "id": "90c55b8d",
   "metadata": {
    "execution": {
     "iopub.execute_input": "2022-11-11T20:05:57.518516Z",
     "iopub.status.busy": "2022-11-11T20:05:57.518028Z",
     "iopub.status.idle": "2022-11-11T20:05:57.579258Z",
     "shell.execute_reply": "2022-11-11T20:05:57.577869Z"
    },
    "papermill": {
     "duration": 0.084445,
     "end_time": "2022-11-11T20:05:57.581941",
     "exception": false,
     "start_time": "2022-11-11T20:05:57.497496",
     "status": "completed"
    },
    "tags": []
   },
   "outputs": [
    {
     "data": {
      "text/html": [
       "<div>                            <div id=\"05dbfc3f-10ed-4495-9214-a58ebd3c6439\" class=\"plotly-graph-div\" style=\"height:525px; width:100%;\"></div>            <script type=\"text/javascript\">                require([\"plotly\"], function(Plotly) {                    window.PLOTLYENV=window.PLOTLYENV || {};                                    if (document.getElementById(\"05dbfc3f-10ed-4495-9214-a58ebd3c6439\")) {                    Plotly.newPlot(                        \"05dbfc3f-10ed-4495-9214-a58ebd3c6439\",                        [{\"alignmentgroup\":\"True\",\"hovertemplate\":\"Importance=%{x}<br>Attribute=%{y}<extra></extra>\",\"legendgroup\":\"\",\"marker\":{\"color\":\"#636efa\",\"pattern\":{\"shape\":\"\"}},\"name\":\"\",\"offsetgroup\":\"\",\"orientation\":\"h\",\"showlegend\":false,\"textposition\":\"auto\",\"x\":[0.2900992765976688,0.24352231267655658,0.22376565024449835,0.1978784752153457,0.13579832719925292,0.11489102094255804,0.10814287909507385,0.1080187296876416,0.09497670702170122,0.08358951226066384,0.0752743018838248,0.07431417646462106,0.06730204476304337,0.04712065703618627,0.03927946052756428,0.02583569758801517,0.019259582099626266,0.016129025429832675,0.0018954816773062678,-0.007119339795478547,-0.009306254557958043,-0.017250105637460607,-0.04038062547091983,-0.04229006663547331,-0.04751174603526619,-0.05607520051786452,-0.09666704732835345,-0.2278401621137905,-0.4687267139294143],\"xaxis\":\"x\",\"y\":[\"pff_passCoverage_Cover-0\",\"pff_passCoverage_Cover-1\",\"pff_passCoverageType_Zone\",\"offenseFormation_JUMBO\",\"pff_passCoverage_Goal Line\",\"pff_passCoverageType_Other\",\"pff_passCoverage_Cover-2\",\"pff_passCoverage_Cover-3\",\"pff_passCoverage_Bracket\",\"pff_passCoverage_Cover-6\",\"offenseFormation_WILDCAT\",\"pff_passCoverage_Miscellaneous\",\"pff_passCoverage_Red Zone\",\"offenseFormation_SINGLEBACK\",\"pff_playAction\",\"dropBackType_DESIGNED_ROLLOUT_RIGHT\",\"yardsToGo\",\"offenseFormation_SHOTGUN\",\"dropBackType_TRADITIONAL\",\"dropBackType_SCRAMBLE_ROLLOUT_LEFT\",\"offenseFormation_I_FORM\",\"pff_passCoverage_Quarters\",\"offenseFormation_PISTOL\",\"dropBackType_DESIGNED_RUN\",\"pff_passCoverage_Prevent\",\"defendersInBox\",\"dropBackType_SCRAMBLE_ROLLOUT_RIGHT\",\"dropBackType_UNKNOWN\",\"dropBackType_SCRAMBLE\"],\"yaxis\":\"y\",\"type\":\"bar\"}],                        {\"template\":{\"data\":{\"histogram2dcontour\":[{\"type\":\"histogram2dcontour\",\"colorbar\":{\"outlinewidth\":0,\"ticks\":\"\"},\"colorscale\":[[0.0,\"#0d0887\"],[0.1111111111111111,\"#46039f\"],[0.2222222222222222,\"#7201a8\"],[0.3333333333333333,\"#9c179e\"],[0.4444444444444444,\"#bd3786\"],[0.5555555555555556,\"#d8576b\"],[0.6666666666666666,\"#ed7953\"],[0.7777777777777778,\"#fb9f3a\"],[0.8888888888888888,\"#fdca26\"],[1.0,\"#f0f921\"]]}],\"choropleth\":[{\"type\":\"choropleth\",\"colorbar\":{\"outlinewidth\":0,\"ticks\":\"\"}}],\"histogram2d\":[{\"type\":\"histogram2d\",\"colorbar\":{\"outlinewidth\":0,\"ticks\":\"\"},\"colorscale\":[[0.0,\"#0d0887\"],[0.1111111111111111,\"#46039f\"],[0.2222222222222222,\"#7201a8\"],[0.3333333333333333,\"#9c179e\"],[0.4444444444444444,\"#bd3786\"],[0.5555555555555556,\"#d8576b\"],[0.6666666666666666,\"#ed7953\"],[0.7777777777777778,\"#fb9f3a\"],[0.8888888888888888,\"#fdca26\"],[1.0,\"#f0f921\"]]}],\"heatmap\":[{\"type\":\"heatmap\",\"colorbar\":{\"outlinewidth\":0,\"ticks\":\"\"},\"colorscale\":[[0.0,\"#0d0887\"],[0.1111111111111111,\"#46039f\"],[0.2222222222222222,\"#7201a8\"],[0.3333333333333333,\"#9c179e\"],[0.4444444444444444,\"#bd3786\"],[0.5555555555555556,\"#d8576b\"],[0.6666666666666666,\"#ed7953\"],[0.7777777777777778,\"#fb9f3a\"],[0.8888888888888888,\"#fdca26\"],[1.0,\"#f0f921\"]]}],\"heatmapgl\":[{\"type\":\"heatmapgl\",\"colorbar\":{\"outlinewidth\":0,\"ticks\":\"\"},\"colorscale\":[[0.0,\"#0d0887\"],[0.1111111111111111,\"#46039f\"],[0.2222222222222222,\"#7201a8\"],[0.3333333333333333,\"#9c179e\"],[0.4444444444444444,\"#bd3786\"],[0.5555555555555556,\"#d8576b\"],[0.6666666666666666,\"#ed7953\"],[0.7777777777777778,\"#fb9f3a\"],[0.8888888888888888,\"#fdca26\"],[1.0,\"#f0f921\"]]}],\"contourcarpet\":[{\"type\":\"contourcarpet\",\"colorbar\":{\"outlinewidth\":0,\"ticks\":\"\"}}],\"contour\":[{\"type\":\"contour\",\"colorbar\":{\"outlinewidth\":0,\"ticks\":\"\"},\"colorscale\":[[0.0,\"#0d0887\"],[0.1111111111111111,\"#46039f\"],[0.2222222222222222,\"#7201a8\"],[0.3333333333333333,\"#9c179e\"],[0.4444444444444444,\"#bd3786\"],[0.5555555555555556,\"#d8576b\"],[0.6666666666666666,\"#ed7953\"],[0.7777777777777778,\"#fb9f3a\"],[0.8888888888888888,\"#fdca26\"],[1.0,\"#f0f921\"]]}],\"surface\":[{\"type\":\"surface\",\"colorbar\":{\"outlinewidth\":0,\"ticks\":\"\"},\"colorscale\":[[0.0,\"#0d0887\"],[0.1111111111111111,\"#46039f\"],[0.2222222222222222,\"#7201a8\"],[0.3333333333333333,\"#9c179e\"],[0.4444444444444444,\"#bd3786\"],[0.5555555555555556,\"#d8576b\"],[0.6666666666666666,\"#ed7953\"],[0.7777777777777778,\"#fb9f3a\"],[0.8888888888888888,\"#fdca26\"],[1.0,\"#f0f921\"]]}],\"mesh3d\":[{\"type\":\"mesh3d\",\"colorbar\":{\"outlinewidth\":0,\"ticks\":\"\"}}],\"scatter\":[{\"fillpattern\":{\"fillmode\":\"overlay\",\"size\":10,\"solidity\":0.2},\"type\":\"scatter\"}],\"parcoords\":[{\"type\":\"parcoords\",\"line\":{\"colorbar\":{\"outlinewidth\":0,\"ticks\":\"\"}}}],\"scatterpolargl\":[{\"type\":\"scatterpolargl\",\"marker\":{\"colorbar\":{\"outlinewidth\":0,\"ticks\":\"\"}}}],\"bar\":[{\"error_x\":{\"color\":\"#2a3f5f\"},\"error_y\":{\"color\":\"#2a3f5f\"},\"marker\":{\"line\":{\"color\":\"#E5ECF6\",\"width\":0.5},\"pattern\":{\"fillmode\":\"overlay\",\"size\":10,\"solidity\":0.2}},\"type\":\"bar\"}],\"scattergeo\":[{\"type\":\"scattergeo\",\"marker\":{\"colorbar\":{\"outlinewidth\":0,\"ticks\":\"\"}}}],\"scatterpolar\":[{\"type\":\"scatterpolar\",\"marker\":{\"colorbar\":{\"outlinewidth\":0,\"ticks\":\"\"}}}],\"histogram\":[{\"marker\":{\"pattern\":{\"fillmode\":\"overlay\",\"size\":10,\"solidity\":0.2}},\"type\":\"histogram\"}],\"scattergl\":[{\"type\":\"scattergl\",\"marker\":{\"colorbar\":{\"outlinewidth\":0,\"ticks\":\"\"}}}],\"scatter3d\":[{\"type\":\"scatter3d\",\"line\":{\"colorbar\":{\"outlinewidth\":0,\"ticks\":\"\"}},\"marker\":{\"colorbar\":{\"outlinewidth\":0,\"ticks\":\"\"}}}],\"scattermapbox\":[{\"type\":\"scattermapbox\",\"marker\":{\"colorbar\":{\"outlinewidth\":0,\"ticks\":\"\"}}}],\"scatterternary\":[{\"type\":\"scatterternary\",\"marker\":{\"colorbar\":{\"outlinewidth\":0,\"ticks\":\"\"}}}],\"scattercarpet\":[{\"type\":\"scattercarpet\",\"marker\":{\"colorbar\":{\"outlinewidth\":0,\"ticks\":\"\"}}}],\"carpet\":[{\"aaxis\":{\"endlinecolor\":\"#2a3f5f\",\"gridcolor\":\"white\",\"linecolor\":\"white\",\"minorgridcolor\":\"white\",\"startlinecolor\":\"#2a3f5f\"},\"baxis\":{\"endlinecolor\":\"#2a3f5f\",\"gridcolor\":\"white\",\"linecolor\":\"white\",\"minorgridcolor\":\"white\",\"startlinecolor\":\"#2a3f5f\"},\"type\":\"carpet\"}],\"table\":[{\"cells\":{\"fill\":{\"color\":\"#EBF0F8\"},\"line\":{\"color\":\"white\"}},\"header\":{\"fill\":{\"color\":\"#C8D4E3\"},\"line\":{\"color\":\"white\"}},\"type\":\"table\"}],\"barpolar\":[{\"marker\":{\"line\":{\"color\":\"#E5ECF6\",\"width\":0.5},\"pattern\":{\"fillmode\":\"overlay\",\"size\":10,\"solidity\":0.2}},\"type\":\"barpolar\"}],\"pie\":[{\"automargin\":true,\"type\":\"pie\"}]},\"layout\":{\"autotypenumbers\":\"strict\",\"colorway\":[\"#636efa\",\"#EF553B\",\"#00cc96\",\"#ab63fa\",\"#FFA15A\",\"#19d3f3\",\"#FF6692\",\"#B6E880\",\"#FF97FF\",\"#FECB52\"],\"font\":{\"color\":\"#2a3f5f\"},\"hovermode\":\"closest\",\"hoverlabel\":{\"align\":\"left\"},\"paper_bgcolor\":\"white\",\"plot_bgcolor\":\"#E5ECF6\",\"polar\":{\"bgcolor\":\"#E5ECF6\",\"angularaxis\":{\"gridcolor\":\"white\",\"linecolor\":\"white\",\"ticks\":\"\"},\"radialaxis\":{\"gridcolor\":\"white\",\"linecolor\":\"white\",\"ticks\":\"\"}},\"ternary\":{\"bgcolor\":\"#E5ECF6\",\"aaxis\":{\"gridcolor\":\"white\",\"linecolor\":\"white\",\"ticks\":\"\"},\"baxis\":{\"gridcolor\":\"white\",\"linecolor\":\"white\",\"ticks\":\"\"},\"caxis\":{\"gridcolor\":\"white\",\"linecolor\":\"white\",\"ticks\":\"\"}},\"coloraxis\":{\"colorbar\":{\"outlinewidth\":0,\"ticks\":\"\"}},\"colorscale\":{\"sequential\":[[0.0,\"#0d0887\"],[0.1111111111111111,\"#46039f\"],[0.2222222222222222,\"#7201a8\"],[0.3333333333333333,\"#9c179e\"],[0.4444444444444444,\"#bd3786\"],[0.5555555555555556,\"#d8576b\"],[0.6666666666666666,\"#ed7953\"],[0.7777777777777778,\"#fb9f3a\"],[0.8888888888888888,\"#fdca26\"],[1.0,\"#f0f921\"]],\"sequentialminus\":[[0.0,\"#0d0887\"],[0.1111111111111111,\"#46039f\"],[0.2222222222222222,\"#7201a8\"],[0.3333333333333333,\"#9c179e\"],[0.4444444444444444,\"#bd3786\"],[0.5555555555555556,\"#d8576b\"],[0.6666666666666666,\"#ed7953\"],[0.7777777777777778,\"#fb9f3a\"],[0.8888888888888888,\"#fdca26\"],[1.0,\"#f0f921\"]],\"diverging\":[[0,\"#8e0152\"],[0.1,\"#c51b7d\"],[0.2,\"#de77ae\"],[0.3,\"#f1b6da\"],[0.4,\"#fde0ef\"],[0.5,\"#f7f7f7\"],[0.6,\"#e6f5d0\"],[0.7,\"#b8e186\"],[0.8,\"#7fbc41\"],[0.9,\"#4d9221\"],[1,\"#276419\"]]},\"xaxis\":{\"gridcolor\":\"white\",\"linecolor\":\"white\",\"ticks\":\"\",\"title\":{\"standoff\":15},\"zerolinecolor\":\"white\",\"automargin\":true,\"zerolinewidth\":2},\"yaxis\":{\"gridcolor\":\"white\",\"linecolor\":\"white\",\"ticks\":\"\",\"title\":{\"standoff\":15},\"zerolinecolor\":\"white\",\"automargin\":true,\"zerolinewidth\":2},\"scene\":{\"xaxis\":{\"backgroundcolor\":\"#E5ECF6\",\"gridcolor\":\"white\",\"linecolor\":\"white\",\"showbackground\":true,\"ticks\":\"\",\"zerolinecolor\":\"white\",\"gridwidth\":2},\"yaxis\":{\"backgroundcolor\":\"#E5ECF6\",\"gridcolor\":\"white\",\"linecolor\":\"white\",\"showbackground\":true,\"ticks\":\"\",\"zerolinecolor\":\"white\",\"gridwidth\":2},\"zaxis\":{\"backgroundcolor\":\"#E5ECF6\",\"gridcolor\":\"white\",\"linecolor\":\"white\",\"showbackground\":true,\"ticks\":\"\",\"zerolinecolor\":\"white\",\"gridwidth\":2}},\"shapedefaults\":{\"line\":{\"color\":\"#2a3f5f\"}},\"annotationdefaults\":{\"arrowcolor\":\"#2a3f5f\",\"arrowhead\":0,\"arrowwidth\":1},\"geo\":{\"bgcolor\":\"white\",\"landcolor\":\"#E5ECF6\",\"subunitcolor\":\"white\",\"showland\":true,\"showlakes\":true,\"lakecolor\":\"white\"},\"title\":{\"x\":0.05},\"mapbox\":{\"style\":\"light\"}}},\"xaxis\":{\"anchor\":\"y\",\"domain\":[0.0,1.0],\"title\":{\"text\":\"Importance\"}},\"yaxis\":{\"anchor\":\"x\",\"domain\":[0.0,1.0],\"title\":{\"text\":\"Attribute\"}},\"legend\":{\"tracegroupgap\":0},\"margin\":{\"t\":60},\"barmode\":\"relative\"},                        {\"responsive\": true}                    ).then(function(){\n",
       "                            \n",
       "var gd = document.getElementById('05dbfc3f-10ed-4495-9214-a58ebd3c6439');\n",
       "var x = new MutationObserver(function (mutations, observer) {{\n",
       "        var display = window.getComputedStyle(gd).display;\n",
       "        if (!display || display === 'none') {{\n",
       "            console.log([gd, 'removed!']);\n",
       "            Plotly.purge(gd);\n",
       "            observer.disconnect();\n",
       "        }}\n",
       "}});\n",
       "\n",
       "// Listen for the removal of the full notebook cells\n",
       "var notebookContainer = gd.closest('#notebook-container');\n",
       "if (notebookContainer) {{\n",
       "    x.observe(notebookContainer, {childList: true});\n",
       "}}\n",
       "\n",
       "// Listen for the clearing of the current output cell\n",
       "var outputEl = gd.closest('.output');\n",
       "if (outputEl) {{\n",
       "    x.observe(outputEl, {childList: true});\n",
       "}}\n",
       "\n",
       "                        })                };                });            </script>        </div>"
      ]
     },
     "metadata": {},
     "output_type": "display_data"
    }
   ],
   "source": [
    "fig = px.bar(importances, y='Attribute',x='Importance', orientation='h')\n",
    "fig.show()"
   ]
  },
  {
   "cell_type": "markdown",
   "id": "f564abb3",
   "metadata": {
    "papermill": {
     "duration": 0.018253,
     "end_time": "2022-11-11T20:05:57.618739",
     "exception": false,
     "start_time": "2022-11-11T20:05:57.600486",
     "status": "completed"
    },
    "tags": []
   },
   "source": [
    "Scores marked with a zero coefficient, or very near zero coefficient, indicate that the model found those features unimportant and essentially removed them from the model. "
   ]
  },
  {
   "cell_type": "markdown",
   "id": "f868eb89",
   "metadata": {
    "papermill": {
     "duration": 0.018127,
     "end_time": "2022-11-11T20:05:57.658820",
     "exception": false,
     "start_time": "2022-11-11T20:05:57.640693",
     "status": "completed"
    },
    "tags": []
   },
   "source": [
    "### Predictions with our model"
   ]
  },
  {
   "cell_type": "code",
   "execution_count": 37,
   "id": "bf56dd53",
   "metadata": {
    "execution": {
     "iopub.execute_input": "2022-11-11T20:05:57.697964Z",
     "iopub.status.busy": "2022-11-11T20:05:57.697482Z",
     "iopub.status.idle": "2022-11-11T20:05:57.704892Z",
     "shell.execute_reply": "2022-11-11T20:05:57.703735Z"
    },
    "papermill": {
     "duration": 0.030121,
     "end_time": "2022-11-11T20:05:57.707480",
     "exception": false,
     "start_time": "2022-11-11T20:05:57.677359",
     "status": "completed"
    },
    "tags": []
   },
   "outputs": [],
   "source": [
    "## Make some predictions with our test data\n",
    "predictions = model.predict(X_test_scaled)"
   ]
  },
  {
   "cell_type": "markdown",
   "id": "090d4e76",
   "metadata": {
    "papermill": {
     "duration": 0.018657,
     "end_time": "2022-11-11T20:05:57.744739",
     "exception": false,
     "start_time": "2022-11-11T20:05:57.726082",
     "status": "completed"
    },
    "tags": []
   },
   "source": [
    "### Model Evaluation"
   ]
  },
  {
   "cell_type": "code",
   "execution_count": 38,
   "id": "37604789",
   "metadata": {
    "execution": {
     "iopub.execute_input": "2022-11-11T20:05:57.783941Z",
     "iopub.status.busy": "2022-11-11T20:05:57.783466Z",
     "iopub.status.idle": "2022-11-11T20:05:57.798660Z",
     "shell.execute_reply": "2022-11-11T20:05:57.796544Z"
    },
    "papermill": {
     "duration": 0.038736,
     "end_time": "2022-11-11T20:05:57.801950",
     "exception": false,
     "start_time": "2022-11-11T20:05:57.763214",
     "status": "completed"
    },
    "tags": []
   },
   "outputs": [
    {
     "name": "stdout",
     "output_type": "stream",
     "text": [
      "              precision    recall  f1-score   support\n",
      "\n",
      "           0       0.73      0.27      0.39       636\n",
      "           1       0.44      0.92      0.59        59\n",
      "           2       0.42      0.28      0.34       345\n",
      "           3       0.05      0.14      0.08        70\n",
      "           4       0.01      0.26      0.03        19\n",
      "\n",
      "    accuracy                           0.30      1129\n",
      "   macro avg       0.33      0.37      0.28      1129\n",
      "weighted avg       0.56      0.30      0.36      1129\n",
      "\n"
     ]
    }
   ],
   "source": [
    "print(classification_report(y_test, predictions))"
   ]
  },
  {
   "cell_type": "markdown",
   "id": "093b1cbd",
   "metadata": {
    "papermill": {
     "duration": 0.018502,
     "end_time": "2022-11-11T20:05:57.839756",
     "exception": false,
     "start_time": "2022-11-11T20:05:57.821254",
     "status": "completed"
    },
    "tags": []
   },
   "source": [
    "We can see that our model has a 73% precision rate for completed passes and a 42% precision rate for incomplete passes. This is no doubt a result of our data imbalance."
   ]
  },
  {
   "cell_type": "code",
   "execution_count": 39,
   "id": "02b4f3d8",
   "metadata": {
    "execution": {
     "iopub.execute_input": "2022-11-11T20:05:57.879885Z",
     "iopub.status.busy": "2022-11-11T20:05:57.878761Z",
     "iopub.status.idle": "2022-11-11T20:05:57.890735Z",
     "shell.execute_reply": "2022-11-11T20:05:57.889387Z"
    },
    "papermill": {
     "duration": 0.034797,
     "end_time": "2022-11-11T20:05:57.893289",
     "exception": false,
     "start_time": "2022-11-11T20:05:57.858492",
     "status": "completed"
    },
    "tags": []
   },
   "outputs": [
    {
     "name": "stdout",
     "output_type": "stream",
     "text": [
      "Mean Squared Error:  5.2506643046944195\n",
      "Mean Absolute Error:  1.753764393268379\n"
     ]
    }
   ],
   "source": [
    "print('Mean Squared Error: ', mean_squared_error(y_test, predictions))\n",
    "print('Mean Absolute Error: ', mean_absolute_error(y_test, predictions))"
   ]
  },
  {
   "cell_type": "markdown",
   "id": "eba82be2",
   "metadata": {
    "papermill": {
     "duration": 0.018656,
     "end_time": "2022-11-11T20:05:57.931450",
     "exception": false,
     "start_time": "2022-11-11T20:05:57.912794",
     "status": "completed"
    },
    "tags": []
   },
   "source": [
    "As we can see, our MSE is high, that indicates that the data points are dispersed widely around its central moment (mean). As well as the MAE, is greater than 1 we can expect a middling performace on our model."
   ]
  }
 ],
 "metadata": {
  "kernelspec": {
   "display_name": "Python 3",
   "language": "python",
   "name": "python3"
  },
  "language_info": {
   "codemirror_mode": {
    "name": "ipython",
    "version": 3
   },
   "file_extension": ".py",
   "mimetype": "text/x-python",
   "name": "python",
   "nbconvert_exporter": "python",
   "pygments_lexer": "ipython3",
   "version": "3.7.12"
  },
  "papermill": {
   "default_parameters": {},
   "duration": 18.377389,
   "end_time": "2022-11-11T20:05:59.176221",
   "environment_variables": {},
   "exception": null,
   "input_path": "__notebook__.ipynb",
   "output_path": "__notebook__.ipynb",
   "parameters": {},
   "start_time": "2022-11-11T20:05:40.798832",
   "version": "2.3.4"
  }
 },
 "nbformat": 4,
 "nbformat_minor": 5
}
