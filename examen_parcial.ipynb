{
 "cells": [
  {
   "cell_type": "markdown",
   "metadata": {},
   "source": [
    "# Examen parcial de Aprendizaje de Máquina"
   ]
  },
  {
   "cell_type": "markdown",
   "metadata": {},
   "source": [
    "## Nombre: Carlos Geovany Pérez Velázquez\n",
    "### Matrícula: 000197614"
   ]
  },
  {
   "cell_type": "markdown",
   "metadata": {},
   "source": [
    "### Problema 1\n",
    "### Clasificación lineal"
   ]
  },
  {
   "cell_type": "code",
   "execution_count": 1,
   "metadata": {},
   "outputs": [],
   "source": [
    "import numpy as np\n",
    "import pandas as pd\n",
    "import matplotlib.pyplot as plt"
   ]
  },
  {
   "cell_type": "code",
   "execution_count": 2,
   "metadata": {},
   "outputs": [],
   "source": [
    "## Creamos nuestro dataset de entrenamiento\n",
    "df = pd.DataFrame({'X1':[0,2,3,0,2,5,5,2,4,5], \n",
    "                   'X2':[0,0,0,2,2,1,2,4,4,5],\n",
    "                   'Etiqueta':[-1.0,-1.0,-1.0,-1.0,-1.0,1.0,1.0,1.0,1.0,1.0]})"
   ]
  },
  {
   "cell_type": "code",
   "execution_count": 3,
   "metadata": {},
   "outputs": [
    {
     "data": {
      "image/png": "[encoded data removed]",
      "text/plain": [
       "<Figure size 576x288 with 1 Axes>"
      ]
     },
     "metadata": {
      "needs_background": "light"
     },
     "output_type": "display_data"
    }
   ],
   "source": [
    "fig, ax = plt.subplots(figsize=(8,4))\n",
    "colors = {-1.0: 'b', 1.0: 'r'}\n",
    "plt.title(\"Conjunto de entrenamiento\")\n",
    "ax.scatter(df[\"X1\"], df[\"X2\"],  color=[colors[r] for r in df['Etiqueta']])\n",
    "ax.grid(True)"
   ]
  },
  {
   "cell_type": "code",
   "execution_count": 4,
   "metadata": {},
   "outputs": [],
   "source": [
    "def perceptron (data, n_iters):\n",
    "    \"\"\"\n",
    "    Función que implementa el algoritmo Perceptron\n",
    "    Args:\n",
    "        data (dataframe): dataframe con los datos a evaluar\n",
    "        n_iters (int): número de iteraciones a realizar\n",
    "    Returns:\n",
    "        theta (array): arreglo con los pesos resultantes de la evaluación\n",
    "        errors_ (array): arreglo con los errores por cada iteración\n",
    "    \"\"\"\n",
    "    labels = data.iloc[0:,2].values \n",
    "    X = data.iloc[0:, 0:2].values \n",
    "    errores = np.zeros(X.shape[0])\n",
    "    theta = np.zeros(1 + X.shape[1])\n",
    "    errors_ = []\n",
    "\n",
    "    for _ in range(n_iters):\n",
    "        errors = 0\n",
    "        i = 0\n",
    "        for xi, label in zip(X, labels):                        \n",
    "            y = (theta[1:] @ xi) + theta[0]\n",
    "            target = -1.0 if (y < 0) else 1\n",
    "            update = label - target\n",
    "            if update!=0:\n",
    "                errors += 1\n",
    "                errores[i] += 1\n",
    "            theta[1:] +=  update * xi\n",
    "            theta[0] += update\n",
    "            i+=1\n",
    "        errors_.append(errors)\n",
    "        \n",
    "    return theta, errors_, errores"
   ]
  },
  {
   "cell_type": "code",
   "execution_count": 5,
   "metadata": {},
   "outputs": [],
   "source": [
    "n_iters = 20\n",
    "theta,errors, errs = perceptron(df,n_iters)\n",
    "## agregamos los errores de clasificación por cada punto al dataset\n",
    "df['Errores'] = errs"
   ]
  },
  {
   "cell_type": "code",
   "execution_count": 6,
   "metadata": {},
   "outputs": [
    {
     "data": {
      "text/html": [
       "<div>\n",
       "<style scoped>\n",
       "    .dataframe tbody tr th:only-of-type {\n",
       "        vertical-align: middle;\n",
       "    }\n",
       "\n",
       "    .dataframe tbody tr th {\n",
       "        vertical-align: top;\n",
       "    }\n",
       "\n",
       "    .dataframe thead th {\n",
       "        text-align: right;\n",
       "    }\n",
       "</style>\n",
       "<table border=\"1\" class=\"dataframe\">\n",
       "  <thead>\n",
       "    <tr style=\"text-align: right;\">\n",
       "      <th></th>\n",
       "      <th>0</th>\n",
       "      <th>1</th>\n",
       "      <th>2</th>\n",
       "      <th>3</th>\n",
       "      <th>4</th>\n",
       "      <th>5</th>\n",
       "      <th>6</th>\n",
       "      <th>7</th>\n",
       "      <th>8</th>\n",
       "      <th>9</th>\n",
       "    </tr>\n",
       "  </thead>\n",
       "  <tbody>\n",
       "    <tr>\n",
       "      <th>X1</th>\n",
       "      <td>0.0</td>\n",
       "      <td>2.0</td>\n",
       "      <td>3.0</td>\n",
       "      <td>0.0</td>\n",
       "      <td>2.0</td>\n",
       "      <td>5.0</td>\n",
       "      <td>5.0</td>\n",
       "      <td>2.0</td>\n",
       "      <td>4.0</td>\n",
       "      <td>5.0</td>\n",
       "    </tr>\n",
       "    <tr>\n",
       "      <th>X2</th>\n",
       "      <td>0.0</td>\n",
       "      <td>0.0</td>\n",
       "      <td>0.0</td>\n",
       "      <td>2.0</td>\n",
       "      <td>2.0</td>\n",
       "      <td>1.0</td>\n",
       "      <td>2.0</td>\n",
       "      <td>4.0</td>\n",
       "      <td>4.0</td>\n",
       "      <td>5.0</td>\n",
       "    </tr>\n",
       "    <tr>\n",
       "      <th>Etiqueta</th>\n",
       "      <td>-1.0</td>\n",
       "      <td>-1.0</td>\n",
       "      <td>-1.0</td>\n",
       "      <td>-1.0</td>\n",
       "      <td>-1.0</td>\n",
       "      <td>1.0</td>\n",
       "      <td>1.0</td>\n",
       "      <td>1.0</td>\n",
       "      <td>1.0</td>\n",
       "      <td>1.0</td>\n",
       "    </tr>\n",
       "    <tr>\n",
       "      <th>Errores</th>\n",
       "      <td>2.0</td>\n",
       "      <td>12.0</td>\n",
       "      <td>12.0</td>\n",
       "      <td>2.0</td>\n",
       "      <td>3.0</td>\n",
       "      <td>14.0</td>\n",
       "      <td>0.0</td>\n",
       "      <td>0.0</td>\n",
       "      <td>0.0</td>\n",
       "      <td>0.0</td>\n",
       "    </tr>\n",
       "  </tbody>\n",
       "</table>\n",
       "</div>"
      ],
      "text/plain": [
       "            0     1     2    3    4     5    6    7    8    9\n",
       "X1        0.0   2.0   3.0  0.0  2.0   5.0  5.0  2.0  4.0  5.0\n",
       "X2        0.0   0.0   0.0  2.0  2.0   1.0  2.0  4.0  4.0  5.0\n",
       "Etiqueta -1.0  -1.0  -1.0 -1.0 -1.0   1.0  1.0  1.0  1.0  1.0\n",
       "Errores   2.0  12.0  12.0  2.0  3.0  14.0  0.0  0.0  0.0  0.0"
      ]
     },
     "execution_count": 6,
     "metadata": {},
     "output_type": "execute_result"
    }
   ],
   "source": [
    "## Trasnponemos el dataset\n",
    "df.T"
   ]
  },
  {
   "cell_type": "code",
   "execution_count": 7,
   "metadata": {},
   "outputs": [
    {
     "data": {
      "text/plain": [
       "45.0"
      ]
     },
     "execution_count": 7,
     "metadata": {},
     "output_type": "execute_result"
    }
   ],
   "source": [
    "## suma total de errores\n",
    "df.Errores.sum()"
   ]
  },
  {
   "cell_type": "markdown",
   "metadata": {},
   "source": [
    "1.1 ¿Cuál es el intercepto resultante $\\theta_0$?"
   ]
  },
  {
   "cell_type": "code",
   "execution_count": 8,
   "metadata": {},
   "outputs": [
    {
     "data": {
      "text/plain": [
       "-34.0"
      ]
     },
     "execution_count": 8,
     "metadata": {},
     "output_type": "execute_result"
    }
   ],
   "source": [
    "theta[0]"
   ]
  },
  {
   "cell_type": "markdown",
   "metadata": {},
   "source": [
    "1.2 ¿Cuál es el vector de parámetros $\\theta$ resultante?"
   ]
  },
  {
   "cell_type": "code",
   "execution_count": 9,
   "metadata": {},
   "outputs": [
    {
     "data": {
      "text/plain": [
       "array([8., 8.])"
      ]
     },
     "execution_count": 9,
     "metadata": {},
     "output_type": "execute_result"
    }
   ],
   "source": [
    "theta[1:]"
   ]
  },
  {
   "cell_type": "code",
   "execution_count": 10,
   "metadata": {},
   "outputs": [
    {
     "data": {
      "image/png": "[encoded data removed]",
      "text/plain": [
       "<Figure size 576x288 with 1 Axes>"
      ]
     },
     "metadata": {
      "needs_background": "light"
     },
     "output_type": "display_data"
    }
   ],
   "source": [
    "## Usamos la ecuación de la recta con el valor de theta resultante\n",
    "m = -theta[0]/theta[2]\n",
    "b = -theta[1]/theta[2]\n",
    "x = np.linspace(ax.get_xlim()[0], ax.get_xlim()[1], 200)\n",
    "y = m + b * x\n",
    "\n",
    "fig, ax = plt.subplots(figsize=(8,4))\n",
    "colors = {-1.0: 'b', 1.0: 'r'}\n",
    "line, = ax.plot([],[], 'k-')\n",
    "plt.title(\"Conjunto de entrenamiento\")\n",
    "ax.scatter(df[\"X1\"], df[\"X2\"],  color=[colors[r] for r in df['Etiqueta']])\n",
    "ax.grid(True)\n",
    "line.set_data(x,y)"
   ]
  },
  {
   "cell_type": "markdown",
   "metadata": {},
   "source": [
    "1.3 Los errores que comete el algoritmo a menudo dependen del orden en que se\n",
    "consideraron los puntos. ¿Podría el punto (5,2) etiquetado +1 haber sido el primero\n",
    "considerado para obtener los resultados de la tabla anterior? Si/No/Depende Justifique\n",
    "\n",
    "**Depende. El número de errores por cada punto es el resultado de la clasificaón obtenida al multiplicar la $\\theta$ actual por el vector de características. Conforme se va actualizando el valor de $\\theta$ el algoritmo va aprendiendo a clasificar un nuevo punto. De tal manera que los errores de etiquetado de un punto, dependen del valor de la $\\theta$ actual y de la iteración, más no de la posición en la que se está clasificando. Acontinuación se muestran dos pruebas, una donde el punto (5,2) es el primero y una donde los puntos están al azar ordenados.**"
   ]
  },
  {
   "cell_type": "code",
   "execution_count": 11,
   "metadata": {},
   "outputs": [
    {
     "data": {
      "text/html": [
       "<div>\n",
       "<style scoped>\n",
       "    .dataframe tbody tr th:only-of-type {\n",
       "        vertical-align: middle;\n",
       "    }\n",
       "\n",
       "    .dataframe tbody tr th {\n",
       "        vertical-align: top;\n",
       "    }\n",
       "\n",
       "    .dataframe thead th {\n",
       "        text-align: right;\n",
       "    }\n",
       "</style>\n",
       "<table border=\"1\" class=\"dataframe\">\n",
       "  <thead>\n",
       "    <tr style=\"text-align: right;\">\n",
       "      <th></th>\n",
       "      <th>9</th>\n",
       "      <th>1</th>\n",
       "      <th>5</th>\n",
       "      <th>4</th>\n",
       "      <th>8</th>\n",
       "      <th>6</th>\n",
       "      <th>7</th>\n",
       "      <th>2</th>\n",
       "      <th>3</th>\n",
       "      <th>0</th>\n",
       "    </tr>\n",
       "  </thead>\n",
       "  <tbody>\n",
       "    <tr>\n",
       "      <th>X1</th>\n",
       "      <td>5.0</td>\n",
       "      <td>2.0</td>\n",
       "      <td>5.0</td>\n",
       "      <td>2.0</td>\n",
       "      <td>4.0</td>\n",
       "      <td>5.0</td>\n",
       "      <td>2.0</td>\n",
       "      <td>3.0</td>\n",
       "      <td>0.0</td>\n",
       "      <td>0.0</td>\n",
       "    </tr>\n",
       "    <tr>\n",
       "      <th>X2</th>\n",
       "      <td>5.0</td>\n",
       "      <td>0.0</td>\n",
       "      <td>1.0</td>\n",
       "      <td>2.0</td>\n",
       "      <td>4.0</td>\n",
       "      <td>2.0</td>\n",
       "      <td>4.0</td>\n",
       "      <td>0.0</td>\n",
       "      <td>2.0</td>\n",
       "      <td>0.0</td>\n",
       "    </tr>\n",
       "    <tr>\n",
       "      <th>Etiqueta</th>\n",
       "      <td>1.0</td>\n",
       "      <td>-1.0</td>\n",
       "      <td>1.0</td>\n",
       "      <td>-1.0</td>\n",
       "      <td>1.0</td>\n",
       "      <td>1.0</td>\n",
       "      <td>1.0</td>\n",
       "      <td>-1.0</td>\n",
       "      <td>-1.0</td>\n",
       "      <td>-1.0</td>\n",
       "    </tr>\n",
       "    <tr>\n",
       "      <th>Errores</th>\n",
       "      <td>1.0</td>\n",
       "      <td>3.0</td>\n",
       "      <td>2.0</td>\n",
       "      <td>3.0</td>\n",
       "      <td>1.0</td>\n",
       "      <td>0.0</td>\n",
       "      <td>0.0</td>\n",
       "      <td>2.0</td>\n",
       "      <td>2.0</td>\n",
       "      <td>0.0</td>\n",
       "    </tr>\n",
       "  </tbody>\n",
       "</table>\n",
       "</div>"
      ],
      "text/plain": [
       "            9    1    5    4    8    6    7    2    3    0\n",
       "X1        5.0  2.0  5.0  2.0  4.0  5.0  2.0  3.0  0.0  0.0\n",
       "X2        5.0  0.0  1.0  2.0  4.0  2.0  4.0  0.0  2.0  0.0\n",
       "Etiqueta  1.0 -1.0  1.0 -1.0  1.0  1.0  1.0 -1.0 -1.0 -1.0\n",
       "Errores   1.0  3.0  2.0  3.0  1.0  0.0  0.0  2.0  2.0  0.0"
      ]
     },
     "execution_count": 11,
     "metadata": {},
     "output_type": "execute_result"
    }
   ],
   "source": [
    "## Mezclamos el orden de las filas y volvemos a probar el algoritmo\n",
    "df1 = df.sample(frac=1)\n",
    "n_iters = 20\n",
    "theta1,errors1, errs1 = perceptron(df1,n_iters)\n",
    "df1['Errores'] = errs1\n",
    "df1.T"
   ]
  },
  {
   "cell_type": "code",
   "execution_count": 12,
   "metadata": {},
   "outputs": [
    {
     "data": {
      "text/plain": [
       "14.0"
      ]
     },
     "execution_count": 12,
     "metadata": {},
     "output_type": "execute_result"
    }
   ],
   "source": [
    "df1.Errores.sum()"
   ]
  },
  {
   "cell_type": "code",
   "execution_count": 13,
   "metadata": {},
   "outputs": [
    {
     "data": {
      "image/png": "[encoded data removed]",
      "text/plain": [
       "<Figure size 576x288 with 1 Axes>"
      ]
     },
     "metadata": {
      "needs_background": "light"
     },
     "output_type": "display_data"
    }
   ],
   "source": [
    "## Usamos la ecuación de la recta con el último valor de theta\n",
    "m = -theta1[0]/theta1[2]\n",
    "b = -theta1[1]/theta1[2]\n",
    "x = np.linspace(ax.get_xlim()[0], ax.get_xlim()[1], 200)\n",
    "y = m + b * x\n",
    "\n",
    "fig, ax = plt.subplots(figsize=(8,4))\n",
    "colors = {-1.0: 'b', 1.0: 'r'}\n",
    "line, = ax.plot([],[], 'k-')\n",
    "plt.title(\"Conjunto de entrenamiento aleatorio\")\n",
    "ax.scatter(df[\"X1\"], df[\"X2\"],  color=[colors[r] for r in df['Etiqueta']])\n",
    "ax.grid(True)\n",
    "line.set_data(x,y)"
   ]
  },
  {
   "cell_type": "code",
   "execution_count": 14,
   "metadata": {},
   "outputs": [
    {
     "data": {
      "text/html": [
       "<div>\n",
       "<style scoped>\n",
       "    .dataframe tbody tr th:only-of-type {\n",
       "        vertical-align: middle;\n",
       "    }\n",
       "\n",
       "    .dataframe tbody tr th {\n",
       "        vertical-align: top;\n",
       "    }\n",
       "\n",
       "    .dataframe thead th {\n",
       "        text-align: right;\n",
       "    }\n",
       "</style>\n",
       "<table border=\"1\" class=\"dataframe\">\n",
       "  <thead>\n",
       "    <tr style=\"text-align: right;\">\n",
       "      <th></th>\n",
       "      <th>0</th>\n",
       "      <th>1</th>\n",
       "      <th>2</th>\n",
       "      <th>3</th>\n",
       "      <th>4</th>\n",
       "      <th>5</th>\n",
       "      <th>6</th>\n",
       "      <th>7</th>\n",
       "      <th>8</th>\n",
       "      <th>9</th>\n",
       "    </tr>\n",
       "  </thead>\n",
       "  <tbody>\n",
       "    <tr>\n",
       "      <th>X1</th>\n",
       "      <td>5.0</td>\n",
       "      <td>2.0</td>\n",
       "      <td>3.0</td>\n",
       "      <td>0.0</td>\n",
       "      <td>2.0</td>\n",
       "      <td>5.0</td>\n",
       "      <td>0.0</td>\n",
       "      <td>2.0</td>\n",
       "      <td>4.0</td>\n",
       "      <td>5.0</td>\n",
       "    </tr>\n",
       "    <tr>\n",
       "      <th>X2</th>\n",
       "      <td>2.0</td>\n",
       "      <td>0.0</td>\n",
       "      <td>0.0</td>\n",
       "      <td>2.0</td>\n",
       "      <td>2.0</td>\n",
       "      <td>1.0</td>\n",
       "      <td>0.0</td>\n",
       "      <td>4.0</td>\n",
       "      <td>4.0</td>\n",
       "      <td>5.0</td>\n",
       "    </tr>\n",
       "    <tr>\n",
       "      <th>Etiqueta</th>\n",
       "      <td>1.0</td>\n",
       "      <td>-1.0</td>\n",
       "      <td>-1.0</td>\n",
       "      <td>-1.0</td>\n",
       "      <td>-1.0</td>\n",
       "      <td>1.0</td>\n",
       "      <td>-1.0</td>\n",
       "      <td>1.0</td>\n",
       "      <td>1.0</td>\n",
       "      <td>1.0</td>\n",
       "    </tr>\n",
       "    <tr>\n",
       "      <th>Errores</th>\n",
       "      <td>0.0</td>\n",
       "      <td>4.0</td>\n",
       "      <td>2.0</td>\n",
       "      <td>1.0</td>\n",
       "      <td>0.0</td>\n",
       "      <td>3.0</td>\n",
       "      <td>1.0</td>\n",
       "      <td>0.0</td>\n",
       "      <td>0.0</td>\n",
       "      <td>0.0</td>\n",
       "    </tr>\n",
       "  </tbody>\n",
       "</table>\n",
       "</div>"
      ],
      "text/plain": [
       "            0    1    2    3    4    5    6    7    8    9\n",
       "X1        5.0  2.0  3.0  0.0  2.0  5.0  0.0  2.0  4.0  5.0\n",
       "X2        2.0  0.0  0.0  2.0  2.0  1.0  0.0  4.0  4.0  5.0\n",
       "Etiqueta  1.0 -1.0 -1.0 -1.0 -1.0  1.0 -1.0  1.0  1.0  1.0\n",
       "Errores   0.0  4.0  2.0  1.0  0.0  3.0  1.0  0.0  0.0  0.0"
      ]
     },
     "execution_count": 14,
     "metadata": {},
     "output_type": "execute_result"
    }
   ],
   "source": [
    "## Definimos un nuevo df con el punto (5,2) en la primera posición\n",
    "df2 = pd.DataFrame({'X1':[5,2,3,0,2,5,0,2,4,5], \n",
    "                   'X2':[2,0,0,2,2,1,0,4,4,5],\n",
    "                   'Etiqueta':[1.0,-1.0,-1.0,-1.0,-1.0,1.0,-1.0,1.0,1.0,1.0]})\n",
    "n_iters = 20\n",
    "theta2,errors2, errs2 = perceptron(df2,n_iters)\n",
    "df2['Errores'] = errs2\n",
    "df2.T"
   ]
  },
  {
   "cell_type": "code",
   "execution_count": 15,
   "metadata": {},
   "outputs": [
    {
     "data": {
      "text/plain": [
       "11.0"
      ]
     },
     "execution_count": 15,
     "metadata": {},
     "output_type": "execute_result"
    }
   ],
   "source": [
    "df2.Errores.sum()"
   ]
  },
  {
   "cell_type": "code",
   "execution_count": 16,
   "metadata": {},
   "outputs": [
    {
     "data": {
      "image/png": "[encoded data removed]",
      "text/plain": [
       "<Figure size 576x288 with 1 Axes>"
      ]
     },
     "metadata": {
      "needs_background": "light"
     },
     "output_type": "display_data"
    }
   ],
   "source": [
    "## Usamos la ecuación de la recta con el último valor de theta\n",
    "m = -theta2[0]/theta2[2]\n",
    "b = -theta2[1]/theta2[2]\n",
    "x = np.linspace(ax.get_xlim()[0], ax.get_xlim()[1], 200)\n",
    "y = m + b * x\n",
    "\n",
    "fig, ax = plt.subplots(figsize=(8,4))\n",
    "colors = {-1.0: 'b', 1.0: 'r'}\n",
    "line, = ax.plot([],[], 'k-')\n",
    "plt.title(\"Conjunto de entrenamiento coordenas (5,2) en primera posición\")\n",
    "ax.scatter(df[\"X1\"], df[\"X2\"],  color=[colors[r] for r in df['Etiqueta']])\n",
    "ax.grid(True)\n",
    "line.set_data(x,y)"
   ]
  },
  {
   "cell_type": "code",
   "execution_count": 17,
   "metadata": {},
   "outputs": [],
   "source": [
    "##Función de costo basada en el código visto en clase\n",
    "def cost(theta, X, y):\n",
    "    sigmoid = lambda x : 1/(1+np.exp(-x))\n",
    "    h = sigmoid(np.dot(X, theta))\n",
    "    c = (-y)*np.log(h) - (1-y)*np.log(1-h)\n",
    "    return c.mean()\n",
    "\n",
    "## Función de descenso por gradiente SVM para obtener el separdaor lineal de margen ancho\n",
    "def gradient_descent(data, n_iters, lambda_, eta):\n",
    "\n",
    "    labels = data.iloc[0:,2].values \n",
    "    X = data.iloc[0:, 0:2].values \n",
    "    theta = np.zeros(1 + X.shape[1])\n",
    "    n = X.shape[0]\n",
    "    i = 0\n",
    "    j_theta = 0\n",
    "    j_theta_ant = 1\n",
    "        \n",
    "    while abs(j_theta - j_theta_ant ) > 0.0001 and i < n_iters:\n",
    "        res_theta = np.zeros(1 + X.shape[1])\n",
    "        sum_res = 0\n",
    "        j_theta_ant = j_theta\n",
    "        for xi, label in zip(X,labels):   \n",
    "            costo = cost(theta[1:], xi, label)             \n",
    "            target = label * (theta[1:] @ xi + theta[0])\n",
    "            if  target < 1:\n",
    "                res_theta[1:] += -1 * label  * xi + (lambda_ * theta[1:])\n",
    "                res_theta[0] += -1 * label\n",
    "                sum_res += 1 - target\n",
    "            else:\n",
    "                res_theta[1:] += lambda_ * theta[1:]\n",
    "                res_theta[0] += 0\n",
    "                sum_res += 0\n",
    "        theta[1:] = theta[1:] - eta * (1/n) * res_theta[1:]\n",
    "        theta[0] = theta[0] - eta * (1/n) * res_theta[0]\n",
    "        j_theta = (1/n) * sum_res + (lambda_ / 2) * np.linalg.norm(theta[1:],2)\n",
    "        i += 1\n",
    "    print(f\"Iter: {i} | Costo: {costo} | Gradiente: {theta[1:]}\")\n",
    "    return theta"
   ]
  },
  {
   "cell_type": "code",
   "execution_count": 18,
   "metadata": {},
   "outputs": [
    {
     "name": "stdout",
     "output_type": "stream",
     "text": [
      "Iter: 302 | Costo: 0.0006632307102731206 | Gradiente: [0.7120596  0.71147842]\n"
     ]
    }
   ],
   "source": [
    "n_iters = 10000\n",
    "lambda_= 0.0005\n",
    "eta = 0.1\n",
    "thetaGD = gradient_descent(df,n_iters,lambda_, eta)"
   ]
  },
  {
   "cell_type": "markdown",
   "metadata": {},
   "source": [
    "1.4 ¿Cuáles son los parámetros $\\theta_0$ y $\\theta$ correspondientes al separador de margen máximo?"
   ]
  },
  {
   "cell_type": "code",
   "execution_count": 19,
   "metadata": {},
   "outputs": [
    {
     "name": "stdout",
     "output_type": "stream",
     "text": [
      "Theta_0: -3.359999999999997\n",
      "Theta: [0.7120596  0.71147842]\n"
     ]
    }
   ],
   "source": [
    "print(f\"Theta_0: {thetaGD[0]}\\nTheta: {thetaGD[1:]}\")"
   ]
  },
  {
   "cell_type": "markdown",
   "metadata": {},
   "source": [
    "1.5 ¿Cuál es el valor del margen alcanzado (distancia del margen al hiperplano)?\n",
    "\n",
    "**La distancia del margen de desición al hiperplano está dada por $\\frac{1}{||\\theta||}$**"
   ]
  },
  {
   "cell_type": "code",
   "execution_count": 20,
   "metadata": {},
   "outputs": [
    {
     "data": {
      "text/plain": [
       "array([1.40437682, 1.405524  ])"
      ]
     },
     "execution_count": 20,
     "metadata": {},
     "output_type": "execute_result"
    }
   ],
   "source": [
    "1/abs(thetaGD[1:])"
   ]
  },
  {
   "cell_type": "code",
   "execution_count": 21,
   "metadata": {},
   "outputs": [
    {
     "data": {
      "image/png": "[encoded data removed]",
      "text/plain": [
       "<Figure size 576x288 with 1 Axes>"
      ]
     },
     "metadata": {
      "needs_background": "light"
     },
     "output_type": "display_data"
    }
   ],
   "source": [
    "## Usamos la ecuación de la recta con el último valor de theta\n",
    "m = -thetaGD[0]/thetaGD[2]\n",
    "b = -thetaGD[1]/thetaGD[2]\n",
    "x = np.linspace(ax.get_xlim()[0], ax.get_xlim()[1], 200)\n",
    "y = m + b * x\n",
    "\n",
    "fig, ax = plt.subplots(figsize=(8,4))\n",
    "colors = {-1.0: 'b', 1.0: 'r'}\n",
    "line, = ax.plot([],[], 'k-')\n",
    "plt.title(\"Conjunto de entrenamiento Decenso por Gradiente\")\n",
    "ax.scatter(df[\"X1\"], df[\"X2\"],  color=[colors[r] for r in df['Etiqueta']])\n",
    "ax.grid(True)\n",
    "line.set_data(x,y)"
   ]
  },
  {
   "cell_type": "markdown",
   "metadata": {},
   "source": [
    "1.6 Usando los parámetros $\\theta_0$ y $\\theta$ correspondientes al separador de margen máximo, ¿cuál es\n",
    "la suma de los Hinge Losses evaluadas en cada ejemplo?"
   ]
  },
  {
   "cell_type": "code",
   "execution_count": 22,
   "metadata": {},
   "outputs": [
    {
     "data": {
      "text/html": [
       "<div>\n",
       "<style scoped>\n",
       "    .dataframe tbody tr th:only-of-type {\n",
       "        vertical-align: middle;\n",
       "    }\n",
       "\n",
       "    .dataframe tbody tr th {\n",
       "        vertical-align: top;\n",
       "    }\n",
       "\n",
       "    .dataframe thead th {\n",
       "        text-align: right;\n",
       "    }\n",
       "</style>\n",
       "<table border=\"1\" class=\"dataframe\">\n",
       "  <thead>\n",
       "    <tr style=\"text-align: right;\">\n",
       "      <th></th>\n",
       "      <th>0</th>\n",
       "      <th>1</th>\n",
       "      <th>2</th>\n",
       "      <th>3</th>\n",
       "      <th>4</th>\n",
       "      <th>5</th>\n",
       "      <th>6</th>\n",
       "      <th>7</th>\n",
       "      <th>8</th>\n",
       "      <th>9</th>\n",
       "    </tr>\n",
       "  </thead>\n",
       "  <tbody>\n",
       "    <tr>\n",
       "      <th>X1</th>\n",
       "      <td>0.0</td>\n",
       "      <td>2.0</td>\n",
       "      <td>3.0</td>\n",
       "      <td>0.0</td>\n",
       "      <td>2.0000</td>\n",
       "      <td>5.0000</td>\n",
       "      <td>5.0</td>\n",
       "      <td>2.00</td>\n",
       "      <td>4.0</td>\n",
       "      <td>5.0</td>\n",
       "    </tr>\n",
       "    <tr>\n",
       "      <th>X2</th>\n",
       "      <td>0.0</td>\n",
       "      <td>0.0</td>\n",
       "      <td>0.0</td>\n",
       "      <td>2.0</td>\n",
       "      <td>2.0000</td>\n",
       "      <td>1.0000</td>\n",
       "      <td>2.0</td>\n",
       "      <td>4.00</td>\n",
       "      <td>4.0</td>\n",
       "      <td>5.0</td>\n",
       "    </tr>\n",
       "    <tr>\n",
       "      <th>Etiqueta</th>\n",
       "      <td>-1.0</td>\n",
       "      <td>-1.0</td>\n",
       "      <td>-1.0</td>\n",
       "      <td>-1.0</td>\n",
       "      <td>-1.0000</td>\n",
       "      <td>1.0000</td>\n",
       "      <td>1.0</td>\n",
       "      <td>1.00</td>\n",
       "      <td>1.0</td>\n",
       "      <td>1.0</td>\n",
       "    </tr>\n",
       "    <tr>\n",
       "      <th>Errores</th>\n",
       "      <td>2.0</td>\n",
       "      <td>12.0</td>\n",
       "      <td>12.0</td>\n",
       "      <td>2.0</td>\n",
       "      <td>3.0000</td>\n",
       "      <td>14.0000</td>\n",
       "      <td>0.0</td>\n",
       "      <td>0.00</td>\n",
       "      <td>0.0</td>\n",
       "      <td>0.0</td>\n",
       "    </tr>\n",
       "    <tr>\n",
       "      <th>Costos</th>\n",
       "      <td>0.0</td>\n",
       "      <td>0.0</td>\n",
       "      <td>0.0</td>\n",
       "      <td>0.0</td>\n",
       "      <td>0.4871</td>\n",
       "      <td>0.0882</td>\n",
       "      <td>0.0</td>\n",
       "      <td>0.09</td>\n",
       "      <td>0.0</td>\n",
       "      <td>0.0</td>\n",
       "    </tr>\n",
       "  </tbody>\n",
       "</table>\n",
       "</div>"
      ],
      "text/plain": [
       "            0     1     2    3       4        5    6     7    8    9\n",
       "X1        0.0   2.0   3.0  0.0  2.0000   5.0000  5.0  2.00  4.0  5.0\n",
       "X2        0.0   0.0   0.0  2.0  2.0000   1.0000  2.0  4.00  4.0  5.0\n",
       "Etiqueta -1.0  -1.0  -1.0 -1.0 -1.0000   1.0000  1.0  1.00  1.0  1.0\n",
       "Errores   2.0  12.0  12.0  2.0  3.0000  14.0000  0.0  0.00  0.0  0.0\n",
       "Costos    0.0   0.0   0.0  0.0  0.4871   0.0882  0.0  0.09  0.0  0.0"
      ]
     },
     "execution_count": 22,
     "metadata": {},
     "output_type": "execute_result"
    }
   ],
   "source": [
    "Y = df.iloc[0:,2].values \n",
    "X = df.iloc[0:, 0:2].values\n",
    "costos = []\n",
    "for xi, y in zip(X,Y):\n",
    "    z = y*(thetaGD[1:]@xi+thetaGD[0])\n",
    "    costos.append( 0 if z >= 1 else 1-z )\n",
    "costos = np.round(costos,decimals=4)\n",
    "df['Costos']= costos\n",
    "df.T"
   ]
  },
  {
   "cell_type": "code",
   "execution_count": 23,
   "metadata": {},
   "outputs": [
    {
     "data": {
      "text/plain": [
       "0.6652999999999999"
      ]
     },
     "execution_count": 23,
     "metadata": {},
     "output_type": "execute_result"
    }
   ],
   "source": [
    "## Suma de los Hinge losses para cada punto\n",
    "df.Costos.sum()"
   ]
  },
  {
   "cell_type": "markdown",
   "metadata": {},
   "source": [
    "1.7 Supongamos que modificamos un poco la solución de margen máximo y dividimos $\\theta_0$ y $\\theta$\n",
    "entre 2. ¿Cuál es la suma de las pérdidas de los Hinge Losses en cada ejemplo para este nuevo\n",
    "separador?"
   ]
  },
  {
   "cell_type": "code",
   "execution_count": 24,
   "metadata": {},
   "outputs": [
    {
     "data": {
      "text/html": [
       "<div>\n",
       "<style scoped>\n",
       "    .dataframe tbody tr th:only-of-type {\n",
       "        vertical-align: middle;\n",
       "    }\n",
       "\n",
       "    .dataframe tbody tr th {\n",
       "        vertical-align: top;\n",
       "    }\n",
       "\n",
       "    .dataframe thead th {\n",
       "        text-align: right;\n",
       "    }\n",
       "</style>\n",
       "<table border=\"1\" class=\"dataframe\">\n",
       "  <thead>\n",
       "    <tr style=\"text-align: right;\">\n",
       "      <th></th>\n",
       "      <th>0</th>\n",
       "      <th>1</th>\n",
       "      <th>2</th>\n",
       "      <th>3</th>\n",
       "      <th>4</th>\n",
       "      <th>5</th>\n",
       "      <th>6</th>\n",
       "      <th>7</th>\n",
       "      <th>8</th>\n",
       "      <th>9</th>\n",
       "    </tr>\n",
       "  </thead>\n",
       "  <tbody>\n",
       "    <tr>\n",
       "      <th>X1</th>\n",
       "      <td>0.0</td>\n",
       "      <td>2.0000</td>\n",
       "      <td>3.0000</td>\n",
       "      <td>0.0000</td>\n",
       "      <td>2.0000</td>\n",
       "      <td>5.0000</td>\n",
       "      <td>5.0000</td>\n",
       "      <td>2.000</td>\n",
       "      <td>4.0</td>\n",
       "      <td>5.0</td>\n",
       "    </tr>\n",
       "    <tr>\n",
       "      <th>X2</th>\n",
       "      <td>0.0</td>\n",
       "      <td>0.0000</td>\n",
       "      <td>0.0000</td>\n",
       "      <td>2.0000</td>\n",
       "      <td>2.0000</td>\n",
       "      <td>1.0000</td>\n",
       "      <td>2.0000</td>\n",
       "      <td>4.000</td>\n",
       "      <td>4.0</td>\n",
       "      <td>5.0</td>\n",
       "    </tr>\n",
       "    <tr>\n",
       "      <th>Etiqueta</th>\n",
       "      <td>-1.0</td>\n",
       "      <td>-1.0000</td>\n",
       "      <td>-1.0000</td>\n",
       "      <td>-1.0000</td>\n",
       "      <td>-1.0000</td>\n",
       "      <td>1.0000</td>\n",
       "      <td>1.0000</td>\n",
       "      <td>1.000</td>\n",
       "      <td>1.0</td>\n",
       "      <td>1.0</td>\n",
       "    </tr>\n",
       "    <tr>\n",
       "      <th>Errores</th>\n",
       "      <td>2.0</td>\n",
       "      <td>12.0000</td>\n",
       "      <td>12.0000</td>\n",
       "      <td>2.0000</td>\n",
       "      <td>3.0000</td>\n",
       "      <td>14.0000</td>\n",
       "      <td>0.0000</td>\n",
       "      <td>0.000</td>\n",
       "      <td>0.0</td>\n",
       "      <td>0.0</td>\n",
       "    </tr>\n",
       "    <tr>\n",
       "      <th>Costos</th>\n",
       "      <td>0.0</td>\n",
       "      <td>0.0321</td>\n",
       "      <td>0.3881</td>\n",
       "      <td>0.0315</td>\n",
       "      <td>0.7435</td>\n",
       "      <td>0.5441</td>\n",
       "      <td>0.1884</td>\n",
       "      <td>0.545</td>\n",
       "      <td>0.0</td>\n",
       "      <td>0.0</td>\n",
       "    </tr>\n",
       "  </tbody>\n",
       "</table>\n",
       "</div>"
      ],
      "text/plain": [
       "            0        1        2       3       4        5       6      7    8  \\\n",
       "X1        0.0   2.0000   3.0000  0.0000  2.0000   5.0000  5.0000  2.000  4.0   \n",
       "X2        0.0   0.0000   0.0000  2.0000  2.0000   1.0000  2.0000  4.000  4.0   \n",
       "Etiqueta -1.0  -1.0000  -1.0000 -1.0000 -1.0000   1.0000  1.0000  1.000  1.0   \n",
       "Errores   2.0  12.0000  12.0000  2.0000  3.0000  14.0000  0.0000  0.000  0.0   \n",
       "Costos    0.0   0.0321   0.3881  0.0315  0.7435   0.5441  0.1884  0.545  0.0   \n",
       "\n",
       "            9  \n",
       "X1        5.0  \n",
       "X2        5.0  \n",
       "Etiqueta  1.0  \n",
       "Errores   0.0  \n",
       "Costos    0.0  "
      ]
     },
     "execution_count": 24,
     "metadata": {},
     "output_type": "execute_result"
    }
   ],
   "source": [
    "Y = df.iloc[0:,2].values \n",
    "X = df.iloc[0:, 0:2].values\n",
    "costos = []\n",
    "thetaGD = thetaGD/2  ## Dividimos theta0 y theta entre 2\n",
    "for xi, y in zip(X,Y):\n",
    "    z = y*(thetaGD[1:]@xi+thetaGD[0])\n",
    "    costos.append( 0 if z >= 1 else 1-z )\n",
    "costos = np.round(costos,decimals=4)\n",
    "df['Costos']= costos\n",
    "df.T"
   ]
  },
  {
   "cell_type": "code",
   "execution_count": 25,
   "metadata": {},
   "outputs": [
    {
     "data": {
      "text/plain": [
       "2.4726999999999997"
      ]
     },
     "execution_count": 25,
     "metadata": {},
     "output_type": "execute_result"
    }
   ],
   "source": [
    "## Suma de los Hinge losses para cada punto\n",
    "df.Costos.sum()"
   ]
  },
  {
   "cell_type": "markdown",
   "metadata": {},
   "source": [
    "### Problema 2\n",
    "### Métodos de Kernel"
   ]
  },
  {
   "cell_type": "code",
   "execution_count": 26,
   "metadata": {},
   "outputs": [],
   "source": [
    "## Creamos nuestro dataset de entrenamiento\n",
    "df1 = pd.DataFrame({'X1':[0,2,1,0,3,4,5,1,4,5], \n",
    "                   'X2':[0,0,1,2,3,1,2,4,4,5],\n",
    "                   'Etiqueta':[-1.0,-1.0,-1.0,-1.0,-1.0,1.0,1.0,1.0,1.0,1.0]})"
   ]
  },
  {
   "cell_type": "code",
   "execution_count": 27,
   "metadata": {},
   "outputs": [
    {
     "data": {
      "image/png": "[encoded data removed]",
      "text/plain": [
       "<Figure size 576x288 with 1 Axes>"
      ]
     },
     "metadata": {
      "needs_background": "light"
     },
     "output_type": "display_data"
    }
   ],
   "source": [
    "fig, ax = plt.subplots(figsize=(8,4))\n",
    "colors = {-1.0: 'b', 1.0: 'r'}\n",
    "plt.title(\"Conjunto de entrenamiento no linealmente separable\")\n",
    "ax.scatter(df1[\"X1\"], df1[\"X2\"],  color=[colors[r] for r in df1['Etiqueta']])\n",
    "ax.grid(True)"
   ]
  },
  {
   "cell_type": "code",
   "execution_count": 28,
   "metadata": {},
   "outputs": [
    {
     "data": {
      "text/html": [
       "<div>\n",
       "<style scoped>\n",
       "    .dataframe tbody tr th:only-of-type {\n",
       "        vertical-align: middle;\n",
       "    }\n",
       "\n",
       "    .dataframe tbody tr th {\n",
       "        vertical-align: top;\n",
       "    }\n",
       "\n",
       "    .dataframe thead th {\n",
       "        text-align: right;\n",
       "    }\n",
       "</style>\n",
       "<table border=\"1\" class=\"dataframe\">\n",
       "  <thead>\n",
       "    <tr style=\"text-align: right;\">\n",
       "      <th></th>\n",
       "      <th>0</th>\n",
       "      <th>1</th>\n",
       "      <th>2</th>\n",
       "      <th>3</th>\n",
       "      <th>4</th>\n",
       "      <th>5</th>\n",
       "      <th>6</th>\n",
       "      <th>7</th>\n",
       "      <th>8</th>\n",
       "      <th>9</th>\n",
       "    </tr>\n",
       "  </thead>\n",
       "  <tbody>\n",
       "    <tr>\n",
       "      <th>X1</th>\n",
       "      <td>0.0</td>\n",
       "      <td>2.0</td>\n",
       "      <td>1.0</td>\n",
       "      <td>0.0</td>\n",
       "      <td>3.0</td>\n",
       "      <td>4.0</td>\n",
       "      <td>5.0</td>\n",
       "      <td>1.0</td>\n",
       "      <td>4.0</td>\n",
       "      <td>5.0</td>\n",
       "    </tr>\n",
       "    <tr>\n",
       "      <th>X2</th>\n",
       "      <td>0.0</td>\n",
       "      <td>0.0</td>\n",
       "      <td>1.0</td>\n",
       "      <td>2.0</td>\n",
       "      <td>3.0</td>\n",
       "      <td>1.0</td>\n",
       "      <td>2.0</td>\n",
       "      <td>4.0</td>\n",
       "      <td>4.0</td>\n",
       "      <td>5.0</td>\n",
       "    </tr>\n",
       "    <tr>\n",
       "      <th>Etiqueta</th>\n",
       "      <td>-1.0</td>\n",
       "      <td>-1.0</td>\n",
       "      <td>-1.0</td>\n",
       "      <td>-1.0</td>\n",
       "      <td>-1.0</td>\n",
       "      <td>1.0</td>\n",
       "      <td>1.0</td>\n",
       "      <td>1.0</td>\n",
       "      <td>1.0</td>\n",
       "      <td>1.0</td>\n",
       "    </tr>\n",
       "    <tr>\n",
       "      <th>Errores</th>\n",
       "      <td>2.0</td>\n",
       "      <td>12.0</td>\n",
       "      <td>12.0</td>\n",
       "      <td>2.0</td>\n",
       "      <td>3.0</td>\n",
       "      <td>14.0</td>\n",
       "      <td>0.0</td>\n",
       "      <td>0.0</td>\n",
       "      <td>0.0</td>\n",
       "      <td>0.0</td>\n",
       "    </tr>\n",
       "  </tbody>\n",
       "</table>\n",
       "</div>"
      ],
      "text/plain": [
       "            0     1     2    3    4     5    6    7    8    9\n",
       "X1        0.0   2.0   1.0  0.0  3.0   4.0  5.0  1.0  4.0  5.0\n",
       "X2        0.0   0.0   1.0  2.0  3.0   1.0  2.0  4.0  4.0  5.0\n",
       "Etiqueta -1.0  -1.0  -1.0 -1.0 -1.0   1.0  1.0  1.0  1.0  1.0\n",
       "Errores   2.0  12.0  12.0  2.0  3.0  14.0  0.0  0.0  0.0  0.0"
      ]
     },
     "execution_count": 28,
     "metadata": {},
     "output_type": "execute_result"
    }
   ],
   "source": [
    "n_iters = 200\n",
    "theta1,errors1, errs1 = perceptron(df1,n_iters)\n",
    "## agregamos los errores de clasificación por cada punto al dataset\n",
    "df1['Errores'] = errs\n",
    "df1.T"
   ]
  },
  {
   "cell_type": "markdown",
   "metadata": {},
   "source": [
    "2.1 Si nuevamente utilizamos el algoritmo de perceptrón lineal para entrenar al clasificador,\n",
    "¿qué sucederá (seleccione una de las siguientes opciones y explique su respuesta)?\n",
    "Nota: En las siguientes opciones, \"converger\" significa que, dada una determinada entrada, el\n",
    "algoritmo terminará con una salida fija dentro de pasos finitos (suponga que T es muy grande:\n",
    "la salida del algoritmo no cambiará a medida que aumentemos T). De lo contrario, digamos\n",
    "que el algoritmo diverge (incluso para una T extremadamente grande, la salida del algoritmo\n",
    "cambiará a medida que aumentemos más la T).\n",
    "\n",
    "**b) El algoritmo siempre converge y obtenemos un clasificador que no clasifica perfectamente el conjunto de datos de entrenamiento. El algoritmo no puede clasificar corectamente todo el conjunto de datos de entrenamiento porque no es linealmente clasificable. Converge porque aun con una T muy grande, la salida no cambia en cierto punto sin importar la secuencia en que recibe los datos**"
   ]
  },
  {
   "cell_type": "code",
   "execution_count": 29,
   "metadata": {},
   "outputs": [
    {
     "data": {
      "image/png": "[encoded data removed]",
      "text/plain": [
       "<Figure size 720x360 with 1 Axes>"
      ]
     },
     "metadata": {
      "needs_background": "light"
     },
     "output_type": "display_data"
    }
   ],
   "source": [
    "plt.figure(figsize=(10,5)) \n",
    "plt.plot(np.arange(1, n_iters+1), errors1)\n",
    "plt.xlabel('Iteraciones')\n",
    "plt.ylabel('Errores')\n",
    "plt.title(\"Errores durante el entrenamiento Perceptron\")\n",
    "plt.show()"
   ]
  },
  {
   "cell_type": "code",
   "execution_count": 30,
   "metadata": {},
   "outputs": [],
   "source": [
    "def Kperceptron (data, n_iters):\n",
    "    \"\"\"\n",
    "    Función que implementa el algoritmo KernelPerceptron\n",
    "    Args:\n",
    "        data (dataframe): dataframe con los datos a evaluar\n",
    "        n_iters (int): número de iteraciones a realizar\n",
    "    Returns:\n",
    "        alpha: (array): numero de errores por punto en los datos de entrenamiento\n",
    "    \"\"\"\n",
    "    labels = data.iloc[0:,2].values \n",
    "    X = data.iloc[0:, 0:2].values \n",
    "    theta = np.zeros(1 + X.shape[1])\n",
    "    alpha = np.zeros(X.shape[0])\n",
    "    n_samples = X.shape[0]\n",
    "    K = np.zeros((n_samples, n_samples))\n",
    "    \n",
    "    ##kernel cuadrático\n",
    "    kernel = lambda x,z: (1 + np.dot(x, z))**2\n",
    "    \n",
    "    for i in range(n_samples):\n",
    "        for j in range(n_samples):\n",
    "            K[i,j] = kernel(X[i], X[j]) ## Generamos una matriz con los productos punto\n",
    "           \n",
    "    for _ in range(n_iters):\n",
    "        for i in range(n_samples):\n",
    "            target = np.sign(np.sum(K[:,i] * alpha * labels)) ## La función np.sign regresa -1 si x < 0, 0 si x==0, 1 si x > 0\n",
    "            update = labels[i] - target\n",
    "            theta[1:] +=  update * X[:][i]\n",
    "            theta[0] += update\n",
    "            if target != labels[i]: \n",
    "                alpha[i] += 1\n",
    "    return theta, alpha"
   ]
  },
  {
   "cell_type": "code",
   "execution_count": 31,
   "metadata": {},
   "outputs": [
    {
     "data": {
      "text/html": [
       "<div>\n",
       "<style scoped>\n",
       "    .dataframe tbody tr th:only-of-type {\n",
       "        vertical-align: middle;\n",
       "    }\n",
       "\n",
       "    .dataframe tbody tr th {\n",
       "        vertical-align: top;\n",
       "    }\n",
       "\n",
       "    .dataframe thead th {\n",
       "        text-align: right;\n",
       "    }\n",
       "</style>\n",
       "<table border=\"1\" class=\"dataframe\">\n",
       "  <thead>\n",
       "    <tr style=\"text-align: right;\">\n",
       "      <th></th>\n",
       "      <th>0</th>\n",
       "      <th>1</th>\n",
       "      <th>2</th>\n",
       "      <th>3</th>\n",
       "      <th>4</th>\n",
       "      <th>5</th>\n",
       "      <th>6</th>\n",
       "      <th>7</th>\n",
       "      <th>8</th>\n",
       "      <th>9</th>\n",
       "    </tr>\n",
       "  </thead>\n",
       "  <tbody>\n",
       "    <tr>\n",
       "      <th>X1</th>\n",
       "      <td>0.0</td>\n",
       "      <td>2.0</td>\n",
       "      <td>1.0</td>\n",
       "      <td>0.0</td>\n",
       "      <td>3.0</td>\n",
       "      <td>4.0</td>\n",
       "      <td>5.0</td>\n",
       "      <td>1.0</td>\n",
       "      <td>4.0</td>\n",
       "      <td>5.0</td>\n",
       "    </tr>\n",
       "    <tr>\n",
       "      <th>X2</th>\n",
       "      <td>0.0</td>\n",
       "      <td>0.0</td>\n",
       "      <td>1.0</td>\n",
       "      <td>2.0</td>\n",
       "      <td>3.0</td>\n",
       "      <td>1.0</td>\n",
       "      <td>2.0</td>\n",
       "      <td>4.0</td>\n",
       "      <td>4.0</td>\n",
       "      <td>5.0</td>\n",
       "    </tr>\n",
       "    <tr>\n",
       "      <th>Etiqueta</th>\n",
       "      <td>-1.0</td>\n",
       "      <td>-1.0</td>\n",
       "      <td>-1.0</td>\n",
       "      <td>-1.0</td>\n",
       "      <td>-1.0</td>\n",
       "      <td>1.0</td>\n",
       "      <td>1.0</td>\n",
       "      <td>1.0</td>\n",
       "      <td>1.0</td>\n",
       "      <td>1.0</td>\n",
       "    </tr>\n",
       "    <tr>\n",
       "      <th>Errores</th>\n",
       "      <td>2.0</td>\n",
       "      <td>12.0</td>\n",
       "      <td>12.0</td>\n",
       "      <td>2.0</td>\n",
       "      <td>3.0</td>\n",
       "      <td>14.0</td>\n",
       "      <td>0.0</td>\n",
       "      <td>0.0</td>\n",
       "      <td>0.0</td>\n",
       "      <td>0.0</td>\n",
       "    </tr>\n",
       "    <tr>\n",
       "      <th>alpha</th>\n",
       "      <td>2.0</td>\n",
       "      <td>23.0</td>\n",
       "      <td>6.0</td>\n",
       "      <td>18.0</td>\n",
       "      <td>17.0</td>\n",
       "      <td>13.0</td>\n",
       "      <td>1.0</td>\n",
       "      <td>13.0</td>\n",
       "      <td>2.0</td>\n",
       "      <td>0.0</td>\n",
       "    </tr>\n",
       "  </tbody>\n",
       "</table>\n",
       "</div>"
      ],
      "text/plain": [
       "            0     1     2     3     4     5    6     7    8    9\n",
       "X1        0.0   2.0   1.0   0.0   3.0   4.0  5.0   1.0  4.0  5.0\n",
       "X2        0.0   0.0   1.0   2.0   3.0   1.0  2.0   4.0  4.0  5.0\n",
       "Etiqueta -1.0  -1.0  -1.0  -1.0  -1.0   1.0  1.0   1.0  1.0  1.0\n",
       "Errores   2.0  12.0  12.0   2.0   3.0  14.0  0.0   0.0  0.0  0.0\n",
       "alpha     2.0  23.0   6.0  18.0  17.0  13.0  1.0  13.0  2.0  0.0"
      ]
     },
     "execution_count": 31,
     "metadata": {},
     "output_type": "execute_result"
    }
   ],
   "source": [
    "thetaK, a = Kperceptron(df1,10000)\n",
    "##a son los errores de clasificación por cada punto del conjunto de entrenamiento\n",
    "df1['alpha'] = a\n",
    "df1.T"
   ]
  },
  {
   "cell_type": "markdown",
   "metadata": {},
   "source": [
    "2.2 Según la tabla, ¿cuál es la salida de $\\theta_0$ y $\\theta$?"
   ]
  },
  {
   "cell_type": "code",
   "execution_count": 32,
   "metadata": {},
   "outputs": [
    {
     "name": "stdout",
     "output_type": "stream",
     "text": [
      "Theta0: -73.0\n",
      "Theta: [-54. -40.]\n"
     ]
    }
   ],
   "source": [
    "print(f\"Theta0: {thetaK[0]}\\nTheta: {thetaK[1:]}\")"
   ]
  },
  {
   "cell_type": "markdown",
   "metadata": {},
   "source": [
    "2.4 Para $x = [x_1, x_2]^T$ definimos la función del kernel como $K(x, x') = \\phi(x)^T\\phi(x')$. Escriba $K(x, x')$ como una función del producto punto de $x\\cdot x'$. Para contestar, asuma que $z = x \\cdot x'$. Defina el resultado en términos de $z$\n",
    "\n",
    "**$K(x, x') = x\\cdot x' = z = 1+x_1x'_1+x_2x'_2+x_1^2 x_1'^2+x_2^2x_2'^2+x_1x'_1x_2x'_2 = e^{(-\\gamma||x-x'||^2)}$**"
   ]
  },
  {
   "cell_type": "markdown",
   "metadata": {},
   "source": [
    "### Problema 3\n",
    "### Descenso por gradiente\n",
    "\n",
    "3.1 Encuentre $\\nabla_\\theta Loss_h (\\;y\\;\\theta \\cdot \\;x)$ en términos de $x$\n",
    "\n",
    "**$\\frac{\\partial Loss_h}{\\partial x} = \\frac{1}{n} - \\sum_{i=1}^{n} \\; Loss_h(\\;y\\;\\theta \\cdot \\;x) \\; y^{(i)}$**\n",
    "\n",
    "$Loss_h(v)\\begin{cases}\n",
    "        1-v & \\text{si $v<1$,}\\\\\n",
    "        0 & \\text{de otra manera.}\n",
    "    \\end{cases}$\n",
    " \n",
    "$Loss_h(v)\\begin{cases}\n",
    "        -1 & \\text{si $v<1$,}\\\\\n",
    "        0 & \\text{de otra manera.}\n",
    "    \\end{cases}$\n",
    "\n",
    "\n",
    "3.2 Si $\\theta$ contiene los parámetros actuales. ¿Cuál es la regla de actualización de gradiente\n",
    "estocástico, donde $\\eta > 0$ es la tasa de aprendizaje? (Elija todas las opciones que correspondan)\n",
    "\n",
    "**b) $\\theta - \\eta \\nabla_\\theta[Loss_h(y^{(i)}\\theta \\cdot x^{(i)})] - \\eta \\lambda \\theta$ para $x^{(i)}$ aleatorias con etiqueta $y^{(i)}$**\n",
    "\n",
    "**d) $\\theta - \\eta \\nabla_\\theta[Loss_h(y^{(i)}\\theta \\cdot x^{(i)})] - \\eta \\nabla_\\theta [\\frac{\\lambda}{2}||\\theta||^2]$ para $x^{(i)}$ aleatorias con etiqueta $y^{(i)}$**\n",
    "\n",
    "**e) $\\theta - \\eta \\sum_{i=1}^n \\nabla_\\theta[Loss_h(y^{(i)}\\theta \\cdot x^{(i)})] - \\eta \\nabla_\\theta [\\frac{\\lambda}{2}||\\theta||^2]$ para $x^{(i)}$ aleatorias con etiqueta $y^{(i)}$**\n",
    "\n",
    "3.3\n",
    "**R. e**\n",
    "\n",
    "3.4\n",
    "**R. c**"
   ]
  },
  {
   "cell_type": "markdown",
   "metadata": {},
   "source": [
    "### Problema 4\n",
    "\n",
    "¿Cuál de las siguientes afirmaciones es correcta?\n",
    "\n",
    "4.1 El gradiente calculado en el algoritmo de retropropagación consiste en las derivadas\n",
    "parciales de la función de pérdida con respecto a cada peso de red. Verdadero / Falso\n",
    "Justifique.\n",
    "\n",
    "**Falso. El gradiente calculado por el algoritmo de retropropagación consiste en las derivadas parciales de la función de pérdida con respecto a el peso $w$ de la capa $l$ que conecta al elemento $i$ esimo de la capa $l - 1$ con el $j$ esimo elemento de la capa $l$. $$w^l_{ij} \\leftarrow w^l_{ij} - \\eta \\left[ \\frac{\\partial Loss(y, f(x;w))}{\\partial w^l_{ij}} \\right]$$**\n",
    "\n",
    "4.2 El descenso de gradiente estocástico difiere del (verdadero) descenso de gradiente en\n",
    "actualizar solo un peso de la red durante cada paso de descenso de gradiente. Verdadero /\n",
    "Falso Justifique.\n",
    "\n",
    "**Falso. La diferencia entre descenso por gradiente y descenso por gradiente estocastico radica en que en descenso por gradiente iteramos sobre el total de las observaciones del conjunto de entrenamiento para actualizar un parámetro, en este caso los pesos de la red. Por otro lado, en descenso por gradiente estocastico podemos usar una sola observación o un subset del conjunto de entrenamiento para actualizar los pesos de lared en una sola iteración**\n",
    "\n",
    "4.3 Lo más importante en aprendizaje de máquina es clasificar de manera correcta el conjunto\n",
    "de datos de entrenamiento, Verdadero / Falso Justifique.\n",
    "\n",
    "**Falso. Al intentar clasificar correctamento todas las observaciones del conjunto de entrenamiento podemos caer en sobreentrenar al modelo, perdiendo posibilidades de generalizar el modelo fuera de la muestra.**\n"
   ]
  },
  {
   "cell_type": "markdown",
   "metadata": {},
   "source": [
    "### Problema 5\n",
    "\n",
    "5.1 Explique en que consiste la maldición de la dimensionalidad   \n",
    "**En la medida en que se aumenta el número de dimensiones o atributos, se requiere de un número mayor exponencialmente de observaciones para poder llevar a cabo la clasificación. A partir de cierto punto, entre más variables se tienen, se disminuye el desempeño de un modelo clasificador.**\n",
    "\n",
    "5.2 ¿Cuál es la función de regresión y que minimiza?   \n",
    "**La funciónde regresión $x \\rightarrow f(x) : = E[Y|X = x] = \\int y h(y|x) dy $ minimiza $E[(Y - g(x))^2 | X = x]$ sobre todas las funciones $g(x)$ en los puntos $X = x$. Esto es, minimiza la esperanza de $Y$ con respecto a $g(x)$, la esperanza de la distancia cuadrada entre los valores reales y el promedio del valor esperado de $Y|X=x$**\n",
    "\n",
    "5.3 Explica en que consiste el trade-off entre sesgo y varianza    \n",
    "**Dado un conjunto de hipótesis $H$, buscamos encontrar la función $f$ que mejor minimice el error cuadrado medio $E_{out}$. El sesgo es que tan bien puede mi conjunto de hipótesis $H$ puede aproximarse a $f$ y la varianza es que tan bien podemos acercarnos a una $h \\in H$. El trade off entre sesgo y varianza es la relación que se da entre aproximación y generalización, conforme aumenta el tamaño del conjunto de hipótesis posibles $H$, se reduce el sesgo pero se aumenta la varianza, por el contrario, si se baja la complejidad de la hipótesis aumenta el sesgo pero se reduce la varianza.**"
   ]
  }
 ],
 "metadata": {
  "kernelspec": {
   "display_name": "Python 3",
   "language": "python",
   "name": "python3"
  },
  "language_info": {
   "codemirror_mode": {
    "name": "ipython",
    "version": 3
   },
   "file_extension": ".py",
   "mimetype": "text/x-python",
   "name": "python",
   "nbconvert_exporter": "python",
   "pygments_lexer": "ipython3",
   "version": "3.6.5"
  }
 },
 "nbformat": 4,
 "nbformat_minor": 4
}
