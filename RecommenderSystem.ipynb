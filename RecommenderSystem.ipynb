{
 "cells": [
  {
   "cell_type": "markdown",
   "metadata": {},
   "source": [
    "# Recommender System by collaborative filtering\n",
    "\n",
    "## Team 1\n",
    "\n",
    "- EDGAR BAZO PEREZ\n",
    "- CARLOS GEOVANY PEREZ VELAZQUEZ\n",
    "- ITA-ANDEHUI SANTIAGO CASTILLEJOS\n",
    "\n",
    "This proyect objective is to implement collaborative filtering recommender system by matrix factorization algorithm. The problem consist in try to solve how Netflix is able to determine what content you’re likely to enjoy on its platform.\n",
    "\n",
    "We will test and train the model with both dummy and Netflix movies dataset."
   ]
  },
  {
   "cell_type": "markdown",
   "metadata": {},
   "source": [
    "### Collaborative Filtering\n",
    "As there are many aproaches to this problem, we will be focusing on Collaborative filtering. **Collaborative filtering does not concern itself with non-abstract features of an item, but rather uses the wisdom of the crowd to generate recommendations.** This methodology core idea is to predict how well a user will like an item that he has not rated given a set of historical preference judgments for a community of users. So we will have a user as an individual who provides movies ratings to the system and movies rated by the users.\n",
    "\n",
    "The input for the Collaborative Filtering prediction algorithm will be a matrix of users’ ratings on movies, the **ratings matrix.**\n",
    "\n"
   ]
  },
  {
   "cell_type": "markdown",
   "metadata": {},
   "source": [
    "### Matrix Factorization\n",
    "\n",
    "Matrix factorization is a embedding model. Given the feedback matrix $D \\in R^{axi}$ , where $a$ is the number of users and $i$ is the number of movies:\n",
    "\n",
    "$$\n",
    "\\begin{bmatrix}\n",
    "U1M1 & U1M2 \\\\\n",
    "U2M1 & U2M2 \\\\\n",
    "U3M1 & U3M2\n",
    "\\end{bmatrix}\n",
    "x\n",
    "\\begin{bmatrix}\n",
    "M1R1 & M1R2 & M1R3 \\\\\n",
    "M2R1 & M2R2 & M2R3\n",
    "\\end{bmatrix}\n",
    "=\n",
    "\\begin{bmatrix}\n",
    "U1R1 & U1R2 & U1R3 \\\\\n",
    "U2R1 & U2R2 & U2R3\\\\\n",
    "U3R1 & U3R2 & U3R3\n",
    "\\end{bmatrix}\n",
    "$$\n",
    "\n",
    "\n",
    "- A user embedding matrix , where row i is the embedding for user i.\n",
    "- An movie embedding matrix , where row j is the embedding for movie j.\n",
    "\n",
    "The embeddings are learned such that the product $UV^T$ is a good approximation of the recommendation matrix $D$. As a result, matrix factorization finds latent structure in the data, assuming that observations lie close to a low-dimensional subspace."
   ]
  },
  {
   "cell_type": "markdown",
   "metadata": {},
   "source": [
    "## Objective Function\n",
    "\n",
    "$$D = {(a,i) |  Y_{ai} \\text{ es dada}}$$\n",
    "\n",
    "\n",
    "$$J(X) = \\frac{1}{2} \\sum_{(a,i)\\in D} (Y_{ai} - [UV^T]ai)^2 + \\frac{\\lambda}{2} \\sum_{a=1}^n\\sum_{j=1}^k U_{aj^2}$$\n",
    "\n",
    "\n",
    "The core idea is to create parameters and iteratively update them to minimize some cost function, like in gradient descent: Minimizr our objective function.\n",
    "\n",
    "- Start randomly V and U\n",
    "- Fix U and solve for V\n",
    "- Fix V and solve for U\n",
    "- Find loss and repeat until converge(find local minimum)"
   ]
  },
  {
   "cell_type": "code",
   "execution_count": 1,
   "metadata": {},
   "outputs": [],
   "source": [
    "import numpy as np\n",
    "import pandas as pd\n",
    "\n",
    "import matplotlib.pyplot as plt\n",
    "import seaborn as sns\n",
    "from sklearn.model_selection import KFold, train_test_split\n",
    "\n",
    "from recommender import matrix_factorization, find_best #our very own recommender system\n",
    "\n",
    "np.random.seed(seed=1983)\n",
    "pd.set_option(\"display.max_columns\", 10)"
   ]
  },
  {
   "cell_type": "markdown",
   "metadata": {},
   "source": [
    "## Test and train on a Dummy dataset"
   ]
  },
  {
   "cell_type": "code",
   "execution_count": 2,
   "metadata": {},
   "outputs": [],
   "source": [
    "## Dummy dataset\n",
    "a = pd.DataFrame([\n",
    "\n",
    "     [1,5,3,0,1],\n",
    "\n",
    "     [2,4,0,0,1],\n",
    "\n",
    "     [3,1,1,0,5],\n",
    "\n",
    "     [4,1,0,0,4],\n",
    "\n",
    "     [5,0,1,5,4],\n",
    "    \n",
    "     [6,2,1,3,0],\n",
    "\n",
    "    ]).set_index(0)\n",
    "\n",
    "a.index.names = ['userId']\n",
    "a.columns.names = ['movieId']"
   ]
  },
  {
   "cell_type": "code",
   "execution_count": 41,
   "metadata": {},
   "outputs": [],
   "source": [
    "kf = KFold(n_splits=3)"
   ]
  },
  {
   "cell_type": "code",
   "execution_count": 42,
   "metadata": {},
   "outputs": [
    {
     "name": "stdout",
     "output_type": "stream",
     "text": [
      "TRAIN: [2 3 4 5]\n",
      "K: 10\t | Learning_rate: 0.001\t | MSE:6.188571628652604\n",
      "K: 10\t | Learning_rate: 0.01\t | MSE:3.1252628024482982\n",
      "K: 10\t | Learning_rate: 0.1\t | MSE:1.0704415133891039\n",
      "K: 10\t | Learning_rate: 1\t | MSE:1.0006353441976827\n",
      "K: 20\t | Learning_rate: 0.001\t | MSE:7.887970495009141\n",
      "K: 20\t | Learning_rate: 0.01\t | MSE:3.8972255856742914\n",
      "K: 20\t | Learning_rate: 0.1\t | MSE:1.2436747440600158\n",
      "K: 20\t | Learning_rate: 1\t | MSE:1.00017263260768\n",
      "K: 30\t | Learning_rate: 0.001\t | MSE:41.56040959159419\n",
      "K: 30\t | Learning_rate: 0.01\t | MSE:7.544228813204507\n",
      "K: 30\t | Learning_rate: 0.1\t | MSE:1.2683328871888402\n",
      "K: 30\t | Learning_rate: 1\t | MSE:1.000057241259603\n",
      "K: 40\t | Learning_rate: 0.001\t | MSE:92.199999644121\n",
      "K: 40\t | Learning_rate: 0.01\t | MSE:7.88900715041055\n",
      "K: 40\t | Learning_rate: 0.1\t | MSE:1.51538152937145\n",
      "K: 40\t | Learning_rate: 1\t | MSE:1.0000209396145037\n",
      "K: 50\t | Learning_rate: 0.001\t | MSE:115.62359551414337\n",
      "K: 50\t | Learning_rate: 0.01\t | MSE:19.443867825246553\n",
      "K: 50\t | Learning_rate: 0.1\t | MSE:1.580080546934862\n",
      "K: 50\t | Learning_rate: 1\t | MSE:1.0000030703542544\n",
      "TRAIN: [0 1 4 5]\n",
      "K: 10\t | Learning_rate: 0.001\t | MSE:12.193583150166459\n",
      "K: 10\t | Learning_rate: 0.01\t | MSE:8.483273129284557\n",
      "K: 10\t | Learning_rate: 0.1\t | MSE:1.5226593284919618\n",
      "K: 10\t | Learning_rate: 1\t | MSE:1.0069571013682708\n",
      "K: 20\t | Learning_rate: 0.001\t | MSE:28.614771962988698\n",
      "K: 20\t | Learning_rate: 0.01\t | MSE:6.831071600558746\n",
      "K: 20\t | Learning_rate: 0.1\t | MSE:1.3750401743453022\n",
      "K: 20\t | Learning_rate: 1\t | MSE:1.0005105223851793\n",
      "K: 30\t | Learning_rate: 0.001\t | MSE:59.962517276419305\n",
      "K: 30\t | Learning_rate: 0.01\t | MSE:12.727375817302997\n",
      "K: 30\t | Learning_rate: 0.1\t | MSE:1.6491565350902897\n",
      "K: 30\t | Learning_rate: 1\t | MSE:1.0000619882084003\n",
      "K: 40\t | Learning_rate: 0.001\t | MSE:142.8817305309566\n",
      "K: 40\t | Learning_rate: 0.01\t | MSE:15.998523553806535\n",
      "K: 40\t | Learning_rate: 0.1\t | MSE:1.8684741835216656\n",
      "K: 40\t | Learning_rate: 1\t | MSE:1.0000281842716539\n",
      "K: 50\t | Learning_rate: 0.001\t | MSE:141.72482642763404\n",
      "K: 50\t | Learning_rate: 0.01\t | MSE:23.579335555845663\n",
      "K: 50\t | Learning_rate: 0.1\t | MSE:1.9781540049148532\n",
      "K: 50\t | Learning_rate: 1\t | MSE:1.0000063333644242\n",
      "TRAIN: [0 1 2 3]\n",
      "K: 10\t | Learning_rate: 0.001\t | MSE:12.0659001909496\n",
      "K: 10\t | Learning_rate: 0.01\t | MSE:3.6237516935928222\n",
      "K: 10\t | Learning_rate: 0.1\t | MSE:1.2079419237083318\n",
      "K: 10\t | Learning_rate: 1\t | MSE:1.001713756982582\n",
      "K: 20\t | Learning_rate: 0.001\t | MSE:33.677569789205656\n",
      "K: 20\t | Learning_rate: 0.01\t | MSE:8.984298172906438\n",
      "K: 20\t | Learning_rate: 0.1\t | MSE:1.7708334093251963\n",
      "K: 20\t | Learning_rate: 1\t | MSE:1.0008428162471192\n",
      "K: 30\t | Learning_rate: 0.001\t | MSE:117.16052994919943\n",
      "K: 30\t | Learning_rate: 0.01\t | MSE:14.31482065939923\n",
      "K: 30\t | Learning_rate: 0.1\t | MSE:1.8392467855885406\n",
      "K: 30\t | Learning_rate: 1\t | MSE:1.0005782045843088\n",
      "K: 40\t | Learning_rate: 0.001\t | MSE:124.52836049448656\n",
      "K: 40\t | Learning_rate: 0.01\t | MSE:25.185823638008415\n",
      "K: 40\t | Learning_rate: 0.1\t | MSE:1.9684631799859995\n",
      "K: 40\t | Learning_rate: 1\t | MSE:1.0000866995830215\n",
      "K: 50\t | Learning_rate: 0.001\t | MSE:214.98404838432256\n",
      "K: 50\t | Learning_rate: 0.01\t | MSE:28.91253914673069\n",
      "K: 50\t | Learning_rate: 0.1\t | MSE:2.134083074075809\n",
      "K: 50\t | Learning_rate: 1\t | MSE:1.0000003719708916\n"
     ]
    }
   ],
   "source": [
    "m_s=[]\n",
    "for train, _ in kf.split(a,None):\n",
    "    df = pd.DataFrame(train)\n",
    "    print(f\"TRAIN: {train}\")\n",
    "    m_s.append(find_best(df,max_Ks=50, iterations=100))"
   ]
  },
  {
   "cell_type": "code",
   "execution_count": 43,
   "metadata": {},
   "outputs": [
    {
     "data": {
      "text/plain": [
       "[K                2.000000\n",
       " Learning_rate    1.000000\n",
       " MSE              0.990908\n",
       " Name: 7, dtype: float64]"
      ]
     },
     "execution_count": 43,
     "metadata": {},
     "output_type": "execute_result"
    }
   ],
   "source": [
    "best_folded = []\n",
    "b = float(10e5)\n",
    "for df in m_s:\n",
    "    mini = df.loc[df.MSE.idxmin()]\n",
    "    if (mini[2] < b):\n",
    "        b = mini[2]\n",
    "        best_folded.append(mini)\n",
    "best_folded"
   ]
  },
  {
   "cell_type": "code",
   "execution_count": 44,
   "metadata": {},
   "outputs": [
    {
     "name": "stdout",
     "output_type": "stream",
     "text": [
      "K: 10\t | Learning_rate: 0.001\t | MSE:82.87350019763674\n",
      "K: 10\t | Learning_rate: 0.01\t | MSE:82.98849596136326\n",
      "K: 10\t | Learning_rate: 0.1\t | MSE:41.229978319604335\n",
      "K: 10\t | Learning_rate: 1\t | MSE:11.300333785955841\n",
      "K: 20\t | Learning_rate: 0.001\t | MSE:274.58147387023246\n",
      "K: 20\t | Learning_rate: 0.01\t | MSE:120.08556610743153\n",
      "K: 20\t | Learning_rate: 0.1\t | MSE:45.20247868707756\n",
      "K: 20\t | Learning_rate: 1\t | MSE:11.40188188332828\n",
      "K: 30\t | Learning_rate: 0.001\t | MSE:476.58343502674876\n",
      "K: 30\t | Learning_rate: 0.01\t | MSE:158.48164581599428\n",
      "K: 30\t | Learning_rate: 0.1\t | MSE:43.91290763957551\n",
      "K: 30\t | Learning_rate: 1\t | MSE:7.765430676438197\n",
      "K: 40\t | Learning_rate: 0.001\t | MSE:859.8422105042503\n",
      "K: 40\t | Learning_rate: 0.01\t | MSE:210.21681907776718\n",
      "K: 40\t | Learning_rate: 0.1\t | MSE:39.472406061330936\n",
      "K: 40\t | Learning_rate: 1\t | MSE:7.158413002834238\n",
      "K: 50\t | Learning_rate: 0.001\t | MSE:1352.0633341304465\n",
      "K: 50\t | Learning_rate: 0.01\t | MSE:237.3583216490158\n",
      "K: 50\t | Learning_rate: 0.1\t | MSE:39.80181435554472\n",
      "K: 50\t | Learning_rate: 1\t | MSE:nan\n"
     ]
    }
   ],
   "source": [
    "m = find_best(a,max_Ks=50,iterations=100)"
   ]
  },
  {
   "cell_type": "code",
   "execution_count": 45,
   "metadata": {},
   "outputs": [
    {
     "data": {
      "image/png": "[encoded data removed]",
      "text/plain": [
       "<Figure size 1080x576 with 4 Axes>"
      ]
     },
     "metadata": {
      "needs_background": "light"
     },
     "output_type": "display_data"
    }
   ],
   "source": [
    "## Get minimum by Learning rate\n",
    "\n",
    "## plot best k with bets learning rate\n",
    "fig, axes = plt.subplots(2, 2, figsize=(15, 8))\n",
    "plt.subplots_adjust(wspace=0.5, hspace=0.5)\n",
    "\n",
    "m[m['Learning_rate']==0.001].plot(x=\"K\", y=\"MSE\", ax=axes[0,0], legend=False)\n",
    "axes[0, 0].set_title('Learning rate = 0.001')\n",
    "m[m['Learning_rate']==0.01].plot(x=\"K\", y=\"MSE\", ax=axes[0,1], legend=False)\n",
    "axes[0, 1].set_title('Learning rate = 0.01')\n",
    "m[m['Learning_rate']==0.1].plot(x=\"K\", y=\"MSE\", ax=axes[1,0], legend=False)\n",
    "axes[1, 0].set_title('Learning rate = 0.1')\n",
    "m[m['Learning_rate']==1].plot(x=\"K\", y=\"MSE\", ax=axes[1,1], legend=False,)\n",
    "axes[1, 1].set_title('Learning rate =1')\n",
    "plt.show()"
   ]
  },
  {
   "cell_type": "code",
   "execution_count": 46,
   "metadata": {},
   "outputs": [
    {
     "data": {
      "text/plain": [
       "K                48.000000\n",
       "Learning_rate     1.000000\n",
       "MSE               6.371448\n",
       "Name: 191, dtype: float64"
      ]
     },
     "execution_count": 46,
     "metadata": {},
     "output_type": "execute_result"
    }
   ],
   "source": [
    "best_ = m.loc[m.MSE.idxmin()]\n",
    "best_"
   ]
  },
  {
   "cell_type": "code",
   "execution_count": 47,
   "metadata": {},
   "outputs": [],
   "source": [
    "## Best matrix with best k\n",
    "K = int(best_[0])\n",
    "r = matrix_factorization(a,K)\n",
    "## Train the model, default iterations is 2\n",
    "learning_rate = float(best_[1])\n",
    "r.fit(learning_rate,iterations=100)"
   ]
  },
  {
   "cell_type": "code",
   "execution_count": 48,
   "metadata": {},
   "outputs": [
    {
     "data": {
      "text/plain": [
       "5.999999999999979"
      ]
     },
     "execution_count": 48,
     "metadata": {},
     "output_type": "execute_result"
    }
   ],
   "source": [
    "## Increasing iterations improves over previous best MSE\n",
    "min(r.mse)"
   ]
  },
  {
   "cell_type": "code",
   "execution_count": 49,
   "metadata": {},
   "outputs": [
    {
     "data": {
      "image/png": "[encoded data removed]",
      "text/plain": [
       "<Figure size 792x360 with 1 Axes>"
      ]
     },
     "metadata": {
      "needs_background": "light"
     },
     "output_type": "display_data"
    }
   ],
   "source": [
    "## Plot MSE over iterations\n",
    "plt.figure(figsize=(11, 5))\n",
    "plt.plot(r.mse)\n",
    "plt.xlabel('Iterations')\n",
    "plt.ylabel('MSE')\n",
    "plt.title('MSE over iterations')\n",
    "plt.show()"
   ]
  },
  {
   "cell_type": "code",
   "execution_count": 50,
   "metadata": {},
   "outputs": [
    {
     "data": {
      "text/plain": [
       "array([[5.5, 3.5, 0.5, 1.5],\n",
       "       [4.5, 0.5, 0.5, 1.5],\n",
       "       [1.5, 1.5, 0.5, 5.5],\n",
       "       [1.5, 0.5, 0.5, 4.5],\n",
       "       [0.5, 1.5, 5.5, 4.5],\n",
       "       [2.5, 1.5, 3.5, 0.5]])"
      ]
     },
     "execution_count": 50,
     "metadata": {},
     "output_type": "execute_result"
    }
   ],
   "source": [
    "## Get the Predicted matrix\n",
    "r.matrix"
   ]
  },
  {
   "cell_type": "code",
   "execution_count": 51,
   "metadata": {},
   "outputs": [
    {
     "data": {
      "text/html": [
       "<div>\n",
       "<style scoped>\n",
       "    .dataframe tbody tr th:only-of-type {\n",
       "        vertical-align: middle;\n",
       "    }\n",
       "\n",
       "    .dataframe tbody tr th {\n",
       "        vertical-align: top;\n",
       "    }\n",
       "\n",
       "    .dataframe thead th {\n",
       "        text-align: right;\n",
       "    }\n",
       "</style>\n",
       "<table border=\"1\" class=\"dataframe\">\n",
       "  <thead>\n",
       "    <tr style=\"text-align: right;\">\n",
       "      <th></th>\n",
       "      <th>movieId</th>\n",
       "      <th>rating</th>\n",
       "      <th>title</th>\n",
       "    </tr>\n",
       "  </thead>\n",
       "  <tbody>\n",
       "    <tr>\n",
       "      <th>0</th>\n",
       "      <td>2</td>\n",
       "      <td>3.0</td>\n",
       "      <td>Ariel</td>\n",
       "    </tr>\n",
       "    <tr>\n",
       "      <th>1</th>\n",
       "      <td>3</td>\n",
       "      <td>0.0</td>\n",
       "      <td>Shadows in Paradise</td>\n",
       "    </tr>\n",
       "  </tbody>\n",
       "</table>\n",
       "</div>"
      ],
      "text/plain": [
       "   movieId  rating                title\n",
       "0        2     3.0                Ariel\n",
       "1        3     0.0  Shadows in Paradise"
      ]
     },
     "execution_count": 51,
     "metadata": {},
     "output_type": "execute_result"
    }
   ],
   "source": [
    "## Top 5 movies to recommend\n",
    "r.top_recommends(1)"
   ]
  },
  {
   "cell_type": "markdown",
   "metadata": {},
   "source": [
    "## Netflix DataBase EDA"
   ]
  },
  {
   "cell_type": "code",
   "execution_count": 15,
   "metadata": {},
   "outputs": [],
   "source": [
    "ratings = pd.read_csv(\"data/ratings_small.csv\")"
   ]
  },
  {
   "cell_type": "code",
   "execution_count": 16,
   "metadata": {},
   "outputs": [],
   "source": [
    "##Columns not needed\n",
    "ratings.drop('timestamp', axis=1, inplace=True)"
   ]
  },
  {
   "cell_type": "code",
   "execution_count": 17,
   "metadata": {},
   "outputs": [],
   "source": [
    "## Order by movieId\n",
    "ratings.sort_values('movieId', inplace=True)"
   ]
  },
  {
   "cell_type": "code",
   "execution_count": 19,
   "metadata": {},
   "outputs": [
    {
     "name": "stdout",
     "output_type": "stream",
     "text": [
      "<class 'pandas.core.frame.DataFrame'>\n",
      "Int64Index: 100004 entries, 9713 to 80823\n",
      "Data columns (total 3 columns):\n",
      " #   Column   Non-Null Count   Dtype\n",
      "---  ------   --------------   -----\n",
      " 0   userId   100004 non-null  int64\n",
      " 1   movieId  100004 non-null  int64\n",
      " 2   rating   100004 non-null  int32\n",
      "dtypes: int32(1), int64(2)\n",
      "memory usage: 2.7 MB\n"
     ]
    }
   ],
   "source": [
    "ratings.info()"
   ]
  },
  {
   "cell_type": "code",
   "execution_count": 20,
   "metadata": {},
   "outputs": [
    {
     "data": {
      "text/html": [
       "<div>\n",
       "<style scoped>\n",
       "    .dataframe tbody tr th:only-of-type {\n",
       "        vertical-align: middle;\n",
       "    }\n",
       "\n",
       "    .dataframe tbody tr th {\n",
       "        vertical-align: top;\n",
       "    }\n",
       "\n",
       "    .dataframe thead th {\n",
       "        text-align: right;\n",
       "    }\n",
       "</style>\n",
       "<table border=\"1\" class=\"dataframe\">\n",
       "  <thead>\n",
       "    <tr style=\"text-align: right;\">\n",
       "      <th></th>\n",
       "      <th>userId</th>\n",
       "      <th>movieId</th>\n",
       "      <th>rating</th>\n",
       "    </tr>\n",
       "  </thead>\n",
       "  <tbody>\n",
       "    <tr>\n",
       "      <th>9713</th>\n",
       "      <td>68</td>\n",
       "      <td>1</td>\n",
       "      <td>4</td>\n",
       "    </tr>\n",
       "    <tr>\n",
       "      <th>35933</th>\n",
       "      <td>261</td>\n",
       "      <td>1</td>\n",
       "      <td>1</td>\n",
       "    </tr>\n",
       "    <tr>\n",
       "      <th>52631</th>\n",
       "      <td>383</td>\n",
       "      <td>1</td>\n",
       "      <td>5</td>\n",
       "    </tr>\n",
       "    <tr>\n",
       "      <th>35983</th>\n",
       "      <td>262</td>\n",
       "      <td>1</td>\n",
       "      <td>2</td>\n",
       "    </tr>\n",
       "    <tr>\n",
       "      <th>12038</th>\n",
       "      <td>77</td>\n",
       "      <td>1</td>\n",
       "      <td>4</td>\n",
       "    </tr>\n",
       "  </tbody>\n",
       "</table>\n",
       "</div>"
      ],
      "text/plain": [
       "       userId  movieId  rating\n",
       "9713       68        1       4\n",
       "35933     261        1       1\n",
       "52631     383        1       5\n",
       "35983     262        1       2\n",
       "12038      77        1       4"
      ]
     },
     "execution_count": 20,
     "metadata": {},
     "output_type": "execute_result"
    }
   ],
   "source": [
    "ratings.head()"
   ]
  },
  {
   "cell_type": "code",
   "execution_count": 21,
   "metadata": {},
   "outputs": [
    {
     "data": {
      "image/png": "[encoded data removed]",
      "text/plain": [
       "<Figure size 792x360 with 1 Axes>"
      ]
     },
     "metadata": {
      "needs_background": "light"
     },
     "output_type": "display_data"
    }
   ],
   "source": [
    "plt.figure(figsize = (11, 5))\n",
    "sns.countplot(x=\"rating\", data=ratings)\n",
    "plt.tick_params(labelsize = 15)\n",
    "plt.title(\"Count Ratings\", fontsize = 20)\n",
    "plt.xlabel(\"Ratings\", fontsize = 20)\n",
    "plt.ylabel(\"Number of Ratings\", fontsize = 20)\n",
    "plt.show()"
   ]
  },
  {
   "cell_type": "code",
   "execution_count": 22,
   "metadata": {},
   "outputs": [
    {
     "data": {
      "text/plain": [
       "userId\n",
       "547    2391\n",
       "564    1868\n",
       "624    1735\n",
       "15     1700\n",
       "73     1610\n",
       "Name: rating, dtype: int64"
      ]
     },
     "execution_count": 22,
     "metadata": {},
     "output_type": "execute_result"
    }
   ],
   "source": [
    "## Group by userid and count the numbers of movies rated by that user\n",
    "ratings.groupby(\"userId\")[\"rating\"].count().sort_values(ascending = False).head()"
   ]
  },
  {
   "cell_type": "code",
   "execution_count": 23,
   "metadata": {},
   "outputs": [
    {
     "data": {
      "text/plain": [
       "movieId\n",
       "356    341\n",
       "296    324\n",
       "318    311\n",
       "593    304\n",
       "260    291\n",
       "Name: rating, dtype: int64"
      ]
     },
     "execution_count": 23,
     "metadata": {},
     "output_type": "execute_result"
    }
   ],
   "source": [
    "## Group by movies and count the number of users rated that movie\n",
    "ratings.groupby(\"movieId\")[\"rating\"].count().sort_values(ascending = False).head()"
   ]
  },
  {
   "cell_type": "code",
   "execution_count": 24,
   "metadata": {},
   "outputs": [],
   "source": [
    "## set userId as index\n",
    "ratings = ratings.set_index('userId').sort_index(axis = 0)"
   ]
  },
  {
   "cell_type": "code",
   "execution_count": 25,
   "metadata": {},
   "outputs": [
    {
     "data": {
      "text/html": [
       "<div>\n",
       "<style scoped>\n",
       "    .dataframe tbody tr th:only-of-type {\n",
       "        vertical-align: middle;\n",
       "    }\n",
       "\n",
       "    .dataframe tbody tr th {\n",
       "        vertical-align: top;\n",
       "    }\n",
       "\n",
       "    .dataframe thead th {\n",
       "        text-align: right;\n",
       "    }\n",
       "</style>\n",
       "<table border=\"1\" class=\"dataframe\">\n",
       "  <thead>\n",
       "    <tr style=\"text-align: right;\">\n",
       "      <th></th>\n",
       "      <th>movieId</th>\n",
       "      <th>rating</th>\n",
       "    </tr>\n",
       "    <tr>\n",
       "      <th>userId</th>\n",
       "      <th></th>\n",
       "      <th></th>\n",
       "    </tr>\n",
       "  </thead>\n",
       "  <tbody>\n",
       "    <tr>\n",
       "      <th>1</th>\n",
       "      <td>2455</td>\n",
       "      <td>2</td>\n",
       "    </tr>\n",
       "    <tr>\n",
       "      <th>1</th>\n",
       "      <td>1287</td>\n",
       "      <td>2</td>\n",
       "    </tr>\n",
       "    <tr>\n",
       "      <th>1</th>\n",
       "      <td>2968</td>\n",
       "      <td>1</td>\n",
       "    </tr>\n",
       "    <tr>\n",
       "      <th>1</th>\n",
       "      <td>1339</td>\n",
       "      <td>3</td>\n",
       "    </tr>\n",
       "    <tr>\n",
       "      <th>1</th>\n",
       "      <td>1172</td>\n",
       "      <td>4</td>\n",
       "    </tr>\n",
       "    <tr>\n",
       "      <th>...</th>\n",
       "      <td>...</td>\n",
       "      <td>...</td>\n",
       "    </tr>\n",
       "    <tr>\n",
       "      <th>671</th>\n",
       "      <td>1266</td>\n",
       "      <td>4</td>\n",
       "    </tr>\n",
       "    <tr>\n",
       "      <th>671</th>\n",
       "      <td>1197</td>\n",
       "      <td>3</td>\n",
       "    </tr>\n",
       "    <tr>\n",
       "      <th>671</th>\n",
       "      <td>4022</td>\n",
       "      <td>3</td>\n",
       "    </tr>\n",
       "    <tr>\n",
       "      <th>671</th>\n",
       "      <td>1704</td>\n",
       "      <td>4</td>\n",
       "    </tr>\n",
       "    <tr>\n",
       "      <th>671</th>\n",
       "      <td>3996</td>\n",
       "      <td>3</td>\n",
       "    </tr>\n",
       "  </tbody>\n",
       "</table>\n",
       "<p>100004 rows × 2 columns</p>\n",
       "</div>"
      ],
      "text/plain": [
       "        movieId  rating\n",
       "userId                 \n",
       "1          2455       2\n",
       "1          1287       2\n",
       "1          2968       1\n",
       "1          1339       3\n",
       "1          1172       4\n",
       "...         ...     ...\n",
       "671        1266       4\n",
       "671        1197       3\n",
       "671        4022       3\n",
       "671        1704       4\n",
       "671        3996       3\n",
       "\n",
       "[100004 rows x 2 columns]"
      ]
     },
     "execution_count": 25,
     "metadata": {},
     "output_type": "execute_result"
    }
   ],
   "source": [
    "ratings"
   ]
  },
  {
   "cell_type": "code",
   "execution_count": 26,
   "metadata": {},
   "outputs": [],
   "source": [
    "## pivot df to get the matrix Yai\n",
    "ratings = ratings.pivot(index=ratings.index, columns='movieId')['rating']"
   ]
  },
  {
   "cell_type": "code",
   "execution_count": 27,
   "metadata": {},
   "outputs": [],
   "source": [
    "## replace NAN with movie mean\n",
    "ratings = ratings.fillna(ratings.mean())\n",
    "## replace NAN with zero\n",
    "#ratings = ratings.fillna(0)"
   ]
  },
  {
   "cell_type": "code",
   "execution_count": 28,
   "metadata": {},
   "outputs": [
    {
     "data": {
      "text/html": [
       "<div>\n",
       "<style scoped>\n",
       "    .dataframe tbody tr th:only-of-type {\n",
       "        vertical-align: middle;\n",
       "    }\n",
       "\n",
       "    .dataframe tbody tr th {\n",
       "        vertical-align: top;\n",
       "    }\n",
       "\n",
       "    .dataframe thead th {\n",
       "        text-align: right;\n",
       "    }\n",
       "</style>\n",
       "<table border=\"1\" class=\"dataframe\">\n",
       "  <thead>\n",
       "    <tr style=\"text-align: right;\">\n",
       "      <th>movieId</th>\n",
       "      <th>1</th>\n",
       "      <th>2</th>\n",
       "      <th>3</th>\n",
       "      <th>4</th>\n",
       "      <th>5</th>\n",
       "      <th>...</th>\n",
       "      <th>161944</th>\n",
       "      <th>162376</th>\n",
       "      <th>162542</th>\n",
       "      <th>162672</th>\n",
       "      <th>163949</th>\n",
       "    </tr>\n",
       "    <tr>\n",
       "      <th>userId</th>\n",
       "      <th></th>\n",
       "      <th></th>\n",
       "      <th></th>\n",
       "      <th></th>\n",
       "      <th></th>\n",
       "      <th></th>\n",
       "      <th></th>\n",
       "      <th></th>\n",
       "      <th></th>\n",
       "      <th></th>\n",
       "      <th></th>\n",
       "    </tr>\n",
       "  </thead>\n",
       "  <tbody>\n",
       "    <tr>\n",
       "      <th>1</th>\n",
       "      <td>3.773279</td>\n",
       "      <td>3.317757</td>\n",
       "      <td>3.084746</td>\n",
       "      <td>2.307692</td>\n",
       "      <td>3.178571</td>\n",
       "      <td>...</td>\n",
       "      <td>5.0</td>\n",
       "      <td>4.0</td>\n",
       "      <td>5.0</td>\n",
       "      <td>3.0</td>\n",
       "      <td>5.0</td>\n",
       "    </tr>\n",
       "    <tr>\n",
       "      <th>2</th>\n",
       "      <td>3.773279</td>\n",
       "      <td>3.317757</td>\n",
       "      <td>3.084746</td>\n",
       "      <td>2.307692</td>\n",
       "      <td>3.178571</td>\n",
       "      <td>...</td>\n",
       "      <td>5.0</td>\n",
       "      <td>4.0</td>\n",
       "      <td>5.0</td>\n",
       "      <td>3.0</td>\n",
       "      <td>5.0</td>\n",
       "    </tr>\n",
       "    <tr>\n",
       "      <th>3</th>\n",
       "      <td>3.773279</td>\n",
       "      <td>3.317757</td>\n",
       "      <td>3.084746</td>\n",
       "      <td>2.307692</td>\n",
       "      <td>3.178571</td>\n",
       "      <td>...</td>\n",
       "      <td>5.0</td>\n",
       "      <td>4.0</td>\n",
       "      <td>5.0</td>\n",
       "      <td>3.0</td>\n",
       "      <td>5.0</td>\n",
       "    </tr>\n",
       "    <tr>\n",
       "      <th>4</th>\n",
       "      <td>3.773279</td>\n",
       "      <td>3.317757</td>\n",
       "      <td>3.084746</td>\n",
       "      <td>2.307692</td>\n",
       "      <td>3.178571</td>\n",
       "      <td>...</td>\n",
       "      <td>5.0</td>\n",
       "      <td>4.0</td>\n",
       "      <td>5.0</td>\n",
       "      <td>3.0</td>\n",
       "      <td>5.0</td>\n",
       "    </tr>\n",
       "    <tr>\n",
       "      <th>5</th>\n",
       "      <td>3.773279</td>\n",
       "      <td>3.317757</td>\n",
       "      <td>4.000000</td>\n",
       "      <td>2.307692</td>\n",
       "      <td>3.178571</td>\n",
       "      <td>...</td>\n",
       "      <td>5.0</td>\n",
       "      <td>4.0</td>\n",
       "      <td>5.0</td>\n",
       "      <td>3.0</td>\n",
       "      <td>5.0</td>\n",
       "    </tr>\n",
       "  </tbody>\n",
       "</table>\n",
       "<p>5 rows × 9066 columns</p>\n",
       "</div>"
      ],
      "text/plain": [
       "movieId    1         2         3         4         5       ...  161944  \\\n",
       "userId                                                     ...           \n",
       "1        3.773279  3.317757  3.084746  2.307692  3.178571  ...     5.0   \n",
       "2        3.773279  3.317757  3.084746  2.307692  3.178571  ...     5.0   \n",
       "3        3.773279  3.317757  3.084746  2.307692  3.178571  ...     5.0   \n",
       "4        3.773279  3.317757  3.084746  2.307692  3.178571  ...     5.0   \n",
       "5        3.773279  3.317757  4.000000  2.307692  3.178571  ...     5.0   \n",
       "\n",
       "movieId  162376  162542  162672  163949  \n",
       "userId                                   \n",
       "1           4.0     5.0     3.0     5.0  \n",
       "2           4.0     5.0     3.0     5.0  \n",
       "3           4.0     5.0     3.0     5.0  \n",
       "4           4.0     5.0     3.0     5.0  \n",
       "5           4.0     5.0     3.0     5.0  \n",
       "\n",
       "[5 rows x 9066 columns]"
      ]
     },
     "execution_count": 28,
     "metadata": {},
     "output_type": "execute_result"
    }
   ],
   "source": [
    "ratings.head(5)"
   ]
  },
  {
   "cell_type": "markdown",
   "metadata": {},
   "source": [
    "## Training the model"
   ]
  },
  {
   "cell_type": "code",
   "execution_count": 29,
   "metadata": {},
   "outputs": [],
   "source": [
    "## Split dataset in train and test\n",
    "train, test = train_test_split(ratings, test_size = 0.2)"
   ]
  },
  {
   "cell_type": "code",
   "execution_count": 30,
   "metadata": {},
   "outputs": [],
   "source": [
    "## fold train dataset\n",
    "kf = KFold(n_splits=3)"
   ]
  },
  {
   "cell_type": "code",
   "execution_count": 31,
   "metadata": {},
   "outputs": [
    {
     "name": "stdout",
     "output_type": "stream",
     "text": [
      "TRAIN: 357\n",
      "K: 10\t | Learning_rate: 0.001\t | MSE:47456545.84381609\n",
      "K: 10\t | Learning_rate: 0.01\t | MSE:14780450.528670654\n",
      "K: 10\t | Learning_rate: 0.1\t | MSE:nan\n",
      "K: 10\t | Learning_rate: 1\t | MSE:nan\n",
      "TRAIN: 357\n",
      "K: 10\t | Learning_rate: 0.001\t | MSE:36747419.45577236\n",
      "K: 10\t | Learning_rate: 0.01\t | MSE:12140348.947856415\n",
      "K: 10\t | Learning_rate: 0.1\t | MSE:155952.54175402687\n",
      "K: 10\t | Learning_rate: 1\t | MSE:nan\n",
      "TRAIN: 358\n",
      "K: 10\t | Learning_rate: 0.001\t | MSE:14594952.097716218\n",
      "K: 10\t | Learning_rate: 0.01\t | MSE:5958415.85919186\n",
      "K: 10\t | Learning_rate: 0.1\t | MSE:323751.3246159377\n",
      "K: 10\t | Learning_rate: 1\t | MSE:nan\n"
     ]
    }
   ],
   "source": [
    "## Find best with folded training data\n",
    "mse_s=[]\n",
    "for train, _ in kf.split(train, None):\n",
    "    df = pd.DataFrame(train)\n",
    "    print(f\"TRAIN: {len(train)} users\")\n",
    "    mse_s.append(find_best(df,max_Ks=10, iterations=5))"
   ]
  },
  {
   "cell_type": "code",
   "execution_count": 32,
   "metadata": {},
   "outputs": [
    {
     "data": {
      "text/plain": [
       "[K                    10.000000\n",
       " Learning_rate         0.100000\n",
       " MSE              155952.541754\n",
       " Name: 38, dtype: float64,\n",
       " K                    9.000000\n",
       " Learning_rate        0.100000\n",
       " MSE              74405.672036\n",
       " Name: 34, dtype: float64]"
      ]
     },
     "execution_count": 32,
     "metadata": {},
     "output_type": "execute_result"
    }
   ],
   "source": [
    "best = []\n",
    "b = float(10e5)\n",
    "for df in mse_s:\n",
    "    mini = df.loc[df.MSE.idxmin()]\n",
    "    if (mini[2] < b):\n",
    "        b = mini[2]\n",
    "        best.append(mini)      \n",
    "best"
   ]
  },
  {
   "cell_type": "code",
   "execution_count": 35,
   "metadata": {},
   "outputs": [
    {
     "name": "stdout",
     "output_type": "stream",
     "text": [
      "K: 1\t | Learning_rate: 0.1\t | MSE:28962111.001983564\n",
      "K: 2\t | Learning_rate: 0.1\t | MSE:17824487.02727867\n",
      "K: 3\t | Learning_rate: 0.1\t | MSE:12067357.535394998\n",
      "K: 4\t | Learning_rate: 0.1\t | MSE:8560831.67812344\n",
      "K: 5\t | Learning_rate: 0.1\t | MSE:6470689.568020732\n",
      "K: 6\t | Learning_rate: 0.1\t | MSE:5049923.082067425\n",
      "K: 7\t | Learning_rate: 0.1\t | MSE:4145209.191971612\n",
      "K: 8\t | Learning_rate: 0.1\t | MSE:3491115.285465029\n",
      "K: 9\t | Learning_rate: 0.1\t | MSE:3156870.462840118\n"
     ]
    }
   ],
   "source": [
    "## Find best with full training data and folded best\n",
    "mse = find_best(ratings,max_Ks=9,learning_rate=[0.1],iterations=10)"
   ]
  },
  {
   "cell_type": "code",
   "execution_count": 40,
   "metadata": {},
   "outputs": [
    {
     "data": {
      "text/plain": [
       "<Figure size 792x360 with 0 Axes>"
      ]
     },
     "metadata": {},
     "output_type": "display_data"
    },
    {
     "data": {
      "image/png": "[encoded data removed]",
      "text/plain": [
       "<Figure size 432x288 with 1 Axes>"
      ]
     },
     "metadata": {
      "needs_background": "light"
     },
     "output_type": "display_data"
    }
   ],
   "source": [
    "## Get minimum by Learning rate\n",
    "\n",
    "## plot best k with bets learning rate\n",
    "plt.figure(figsize=(11, 5))\n",
    "mse.plot(x=\"K\", y=\"MSE\", legend=False)\n",
    "plt.title('Learning rate = 0.1')\n",
    "plt.show()"
   ]
  },
  {
   "cell_type": "code",
   "execution_count": null,
   "metadata": {},
   "outputs": [],
   "source": [
    "## Best matrix with best k\n",
    "K = int(best_full[0])\n",
    "recomm = matrix_factorization(a,K)\n",
    "## Train the model, default iterations is 2\n",
    "learning_rate = float(best_full[1])\n",
    "recomm.fit(learning_rate,iterations=20)"
   ]
  },
  {
   "cell_type": "code",
   "execution_count": null,
   "metadata": {},
   "outputs": [],
   "source": [
    "recomm.mse"
   ]
  },
  {
   "cell_type": "code",
   "execution_count": null,
   "metadata": {},
   "outputs": [],
   "source": [
    "## Plot MSE over iterations\n",
    "plt.figure(figsize=(11, 5))\n",
    "plt.plot(recomm.mse)\n",
    "plt.xlabel('Iterations')\n",
    "plt.ylabel('MSE')\n",
    "plt.title('MSE over iterations')\n",
    "plt.show()"
   ]
  },
  {
   "cell_type": "markdown",
   "metadata": {},
   "source": [
    "## Recommendation Matrix"
   ]
  },
  {
   "cell_type": "code",
   "execution_count": null,
   "metadata": {},
   "outputs": [],
   "source": [
    "## Get the Predicted matrix\n",
    "recomm.matrix"
   ]
  },
  {
   "cell_type": "markdown",
   "metadata": {},
   "source": [
    "## Geting recomendations"
   ]
  },
  {
   "cell_type": "code",
   "execution_count": null,
   "metadata": {},
   "outputs": [],
   "source": [
    "## Top 5 movies to recommend\n",
    "recomm.top_recommends(1)"
   ]
  },
  {
   "cell_type": "markdown",
   "metadata": {},
   "source": [
    "### References\n",
    "\n",
    "- [Sistemas de recomendación. Marmol Yahya, Juan Salvador](https://github.com/salvadormarmol/machine-learning-ms-2020/blob/master/no_supervisado/sistemas_de_recomendacion/Aprendizaje%20de%20m%C3%A1quina%20-%20Sistemas%20de%20recomendaci%C3%B3n.pdf)\n",
    "- [Collaborative Filtering. Brusilovsky, Peter](https://pitt.edu/~peterb/2480-122/CollaborativeFiltering.pdf)\n",
    "- [Matrix Factorization. Google developers](https://developers.google.com/machine-learning/recommendation/collaborative/matrix)\n",
    "- [Python: Implementing Matrix Factorization from Scratch!. Moore, Jacob](https://towardsdatascience.com/recommender-systems-in-python-from-scratch-643c8fc4f704)"
   ]
  },
  {
   "cell_type": "code",
   "execution_count": null,
   "metadata": {},
   "outputs": [],
   "source": []
  }
 ],
 "metadata": {
  "kernelspec": {
   "display_name": "Python 3",
   "language": "python",
   "name": "python3"
  },
  "language_info": {
   "codemirror_mode": {
    "name": "ipython",
    "version": 3
   },
   "file_extension": ".py",
   "mimetype": "text/x-python",
   "name": "python",
   "nbconvert_exporter": "python",
   "pygments_lexer": "ipython3",
   "version": "3.6.5"
  }
 },
 "nbformat": 4,
 "nbformat_minor": 4
}
