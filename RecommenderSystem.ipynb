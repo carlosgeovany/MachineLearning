{
 "cells": [
  {
   "cell_type": "markdown",
   "metadata": {},
   "source": [
    "# Recommender System by collaborative filtering\n",
    "\n",
    "## Team 1\n",
    "\n",
    "- EDGAR BAZO PEREZ\n",
    "- CARLOS GEOVANY PEREZ VELAZQUEZ\n",
    "- ITA-ANDEHUI SANTIAGO CASTILLEJOS\n",
    "\n",
    "This proyect objective is to implement collaborative filtering recommender system by matrix factorization algorithm. The problem consist in try to solve how Netflix is able to determine what content you’re likely to enjoy on its platform.\n",
    "\n",
    "We will test and train the model with both dummy and Netflix movies dataset."
   ]
  },
  {
   "cell_type": "markdown",
   "metadata": {},
   "source": [
    "### Collaborative Filtering\n",
    "As there are many aproaches to this problem, we will be focusing on Collaborative filtering. **Collaborative filtering does not concern itself with non-abstract features of an item, but rather uses the wisdom of the crowd to generate recommendations.** This methodology core idea is to predict how well a user will like an item that he has not rated given a set of historical preference judgments for a community of users. So we will have a user as an individual who provides movies ratings to the system and movies rated by the users.\n",
    "\n",
    "The input for the Collaborative Filtering prediction algorithm will be a matrix of users’ ratings on movies, the **ratings matrix.**\n",
    "\n"
   ]
  },
  {
   "cell_type": "markdown",
   "metadata": {},
   "source": [
    "### Matrix Factorization\n",
    "\n",
    "Matrix factorization is a embedding model. Given the feedback matrix $D \\in R^{axi}$ , where $a$ is the number of users and $i$ is the number of movies:\n",
    "\n",
    "$$\n",
    "\\begin{bmatrix}\n",
    "U1M1 & U1M2 \\\\\n",
    "U2M1 & U2M2 \\\\\n",
    "U3M1 & U3M2\n",
    "\\end{bmatrix}\n",
    "x\n",
    "\\begin{bmatrix}\n",
    "M1R1 & M1R2 & M1R3 \\\\\n",
    "M2R1 & M2R2 & M2R3\n",
    "\\end{bmatrix}\n",
    "=\n",
    "\\begin{bmatrix}\n",
    "U1R1 & U1R2 & U1R3 \\\\\n",
    "U2R1 & U2R2 & U2R3\\\\\n",
    "U3R1 & U3R2 & U3R3\n",
    "\\end{bmatrix}\n",
    "$$\n",
    "\n",
    "\n",
    "- A user embedding matrix , where row i is the embedding for user i.\n",
    "- An movie embedding matrix , where row j is the embedding for movie j.\n",
    "\n",
    "The embeddings are learned such that the product $UV^T$ is a good approximation of the recommendation matrix $D$. As a result, matrix factorization finds latent structure in the data, assuming that observations lie close to a low-dimensional subspace."
   ]
  },
  {
   "cell_type": "markdown",
   "metadata": {},
   "source": [
    "## Objective Function\n",
    "\n",
    "$$D = {(a,i) |  Y_{ai} \\text{ es dada}}$$\n",
    "\n",
    "\n",
    "$$J(X) = \\frac{1}{2} \\sum_{(a,i)\\in D} (Y_{ai} - [UV^T]ai)^2 + \\frac{\\lambda}{2} \\sum_{a=1}^n\\sum_{j=1}^k U_{aj^2}$$\n",
    "\n",
    "\n",
    "The core idea is to create parameters and iteratively update them to minimize some cost function, like in gradient descent: Minimizr our objective function.\n",
    "\n",
    "- Start randomly V and U\n",
    "- Fix U and solve for V\n",
    "- Fix V and solve for U\n",
    "- Find loss and repeat until converge(find local minimum)"
   ]
  },
  {
   "cell_type": "code",
   "execution_count": 1,
   "metadata": {},
   "outputs": [],
   "source": [
    "import re\n",
    "import statistics\n",
    "import numpy as np\n",
    "import pandas as pd\n",
    "import plotly.express as px\n",
    "\n",
    "\n",
    "import matplotlib.pyplot as plt\n",
    "import seaborn as sns\n",
    "from sklearn.model_selection import KFold, train_test_split\n",
    "\n",
    "from recommender import matrix_factorization, find_best #our very own recommender system\n",
    "\n",
    "np.random.seed(seed=1983)\n",
    "pd.set_option(\"display.max_columns\", 10)"
   ]
  },
  {
   "cell_type": "markdown",
   "metadata": {},
   "source": [
    "## Netflix ratings DB EDA"
   ]
  },
  {
   "cell_type": "code",
   "execution_count": 2,
   "metadata": {},
   "outputs": [],
   "source": [
    "ratings = pd.read_csv(\"data/ratings_small.csv\")"
   ]
  },
  {
   "cell_type": "code",
   "execution_count": 3,
   "metadata": {},
   "outputs": [],
   "source": [
    "##Columns not needed\n",
    "ratings.drop('timestamp', axis=1, inplace=True)"
   ]
  },
  {
   "cell_type": "code",
   "execution_count": 4,
   "metadata": {},
   "outputs": [],
   "source": [
    "## Order by movieId\n",
    "ratings.sort_values('movieId', inplace=True)"
   ]
  },
  {
   "cell_type": "code",
   "execution_count": 5,
   "metadata": {},
   "outputs": [
    {
     "name": "stdout",
     "output_type": "stream",
     "text": [
      "<class 'pandas.core.frame.DataFrame'>\n",
      "Int64Index: 100004 entries, 9713 to 80823\n",
      "Data columns (total 3 columns):\n",
      " #   Column   Non-Null Count   Dtype  \n",
      "---  ------   --------------   -----  \n",
      " 0   userId   100004 non-null  int64  \n",
      " 1   movieId  100004 non-null  int64  \n",
      " 2   rating   100004 non-null  float64\n",
      "dtypes: float64(1), int64(2)\n",
      "memory usage: 3.1 MB\n"
     ]
    }
   ],
   "source": [
    "ratings.info()"
   ]
  },
  {
   "cell_type": "code",
   "execution_count": 6,
   "metadata": {},
   "outputs": [
    {
     "data": {
      "text/html": [
       "<div>\n",
       "<style scoped>\n",
       "    .dataframe tbody tr th:only-of-type {\n",
       "        vertical-align: middle;\n",
       "    }\n",
       "\n",
       "    .dataframe tbody tr th {\n",
       "        vertical-align: top;\n",
       "    }\n",
       "\n",
       "    .dataframe thead th {\n",
       "        text-align: right;\n",
       "    }\n",
       "</style>\n",
       "<table border=\"1\" class=\"dataframe\">\n",
       "  <thead>\n",
       "    <tr style=\"text-align: right;\">\n",
       "      <th></th>\n",
       "      <th>userId</th>\n",
       "      <th>movieId</th>\n",
       "      <th>rating</th>\n",
       "    </tr>\n",
       "  </thead>\n",
       "  <tbody>\n",
       "    <tr>\n",
       "      <th>9713</th>\n",
       "      <td>68</td>\n",
       "      <td>1</td>\n",
       "      <td>4.0</td>\n",
       "    </tr>\n",
       "    <tr>\n",
       "      <th>35933</th>\n",
       "      <td>261</td>\n",
       "      <td>1</td>\n",
       "      <td>1.5</td>\n",
       "    </tr>\n",
       "    <tr>\n",
       "      <th>52631</th>\n",
       "      <td>383</td>\n",
       "      <td>1</td>\n",
       "      <td>5.0</td>\n",
       "    </tr>\n",
       "    <tr>\n",
       "      <th>35983</th>\n",
       "      <td>262</td>\n",
       "      <td>1</td>\n",
       "      <td>2.5</td>\n",
       "    </tr>\n",
       "    <tr>\n",
       "      <th>12038</th>\n",
       "      <td>77</td>\n",
       "      <td>1</td>\n",
       "      <td>4.0</td>\n",
       "    </tr>\n",
       "  </tbody>\n",
       "</table>\n",
       "</div>"
      ],
      "text/plain": [
       "       userId  movieId  rating\n",
       "9713       68        1     4.0\n",
       "35933     261        1     1.5\n",
       "52631     383        1     5.0\n",
       "35983     262        1     2.5\n",
       "12038      77        1     4.0"
      ]
     },
     "execution_count": 6,
     "metadata": {},
     "output_type": "execute_result"
    }
   ],
   "source": [
    "ratings.head()"
   ]
  },
  {
   "cell_type": "code",
   "execution_count": 7,
   "metadata": {},
   "outputs": [
    {
     "data": {
      "text/plain": [
       "9066"
      ]
     },
     "execution_count": 7,
     "metadata": {},
     "output_type": "execute_result"
    }
   ],
   "source": [
    "## Number of movies\n",
    "len(ratings['movieId'].unique())"
   ]
  },
  {
   "cell_type": "code",
   "execution_count": 8,
   "metadata": {},
   "outputs": [
    {
     "data": {
      "text/plain": [
       "671"
      ]
     },
     "execution_count": 8,
     "metadata": {},
     "output_type": "execute_result"
    }
   ],
   "source": [
    "## Number of users\n",
    "len(ratings['userId'].unique())"
   ]
  },
  {
   "cell_type": "code",
   "execution_count": 9,
   "metadata": {},
   "outputs": [
    {
     "data": {
      "text/plain": [
       "149.03725782414307"
      ]
     },
     "execution_count": 9,
     "metadata": {},
     "output_type": "execute_result"
    }
   ],
   "source": [
    "## Average number of movies rated per user\n",
    "ratings_per_user = ratings.groupby('userId')['rating'].count()\n",
    "statistics.mean(ratings_per_user.tolist())"
   ]
  },
  {
   "cell_type": "code",
   "execution_count": 10,
   "metadata": {},
   "outputs": [
    {
     "data": {
      "image/png": "[encoded data removed]",
      "text/plain": [
       "<Figure size 792x360 with 1 Axes>"
      ]
     },
     "metadata": {
      "needs_background": "light"
     },
     "output_type": "display_data"
    }
   ],
   "source": [
    "## Distribution of ratings per user\n",
    "plt.figure(figsize = (11, 5))\n",
    "ratings_per_user.hist(bins=20)\n",
    "plt.show()"
   ]
  },
  {
   "cell_type": "code",
   "execution_count": 11,
   "metadata": {},
   "outputs": [
    {
     "data": {
      "text/plain": [
       "11.030664019413193"
      ]
     },
     "execution_count": 11,
     "metadata": {},
     "output_type": "execute_result"
    }
   ],
   "source": [
    "## Average number of ratings given to movies\n",
    "ratings_per_movie = ratings.groupby('movieId')['rating'].count()\n",
    "statistics.mean(ratings_per_movie.tolist())"
   ]
  },
  {
   "cell_type": "code",
   "execution_count": 12,
   "metadata": {},
   "outputs": [
    {
     "data": {
      "image/png": "[encoded data removed]",
      "text/plain": [
       "<Figure size 792x360 with 1 Axes>"
      ]
     },
     "metadata": {
      "needs_background": "light"
     },
     "output_type": "display_data"
    }
   ],
   "source": [
    "## Distribution of ratings per movie\n",
    "plt.figure(figsize = (11, 5))\n",
    "ratings_per_movie.hist(bins=20, range=(0,200))\n",
    "plt.show()"
   ]
  },
  {
   "cell_type": "code",
   "execution_count": 13,
   "metadata": {},
   "outputs": [
    {
     "data": {
      "image/png": "[encoded data removed]",
      "text/plain": [
       "<Figure size 792x360 with 1 Axes>"
      ]
     },
     "metadata": {
      "needs_background": "light"
     },
     "output_type": "display_data"
    }
   ],
   "source": [
    "plt.figure(figsize = (11, 5))\n",
    "sns.countplot(x=\"rating\", data=ratings)\n",
    "plt.tick_params(labelsize = 15)\n",
    "plt.title(\"Count Ratings\", fontsize = 20)\n",
    "plt.xlabel(\"Ratings\", fontsize = 20)\n",
    "plt.ylabel(\"Number of Ratings\", fontsize = 20)\n",
    "plt.show()"
   ]
  },
  {
   "cell_type": "code",
   "execution_count": 14,
   "metadata": {},
   "outputs": [
    {
     "data": {
      "text/plain": [
       "userId\n",
       "547    2391\n",
       "564    1868\n",
       "624    1735\n",
       "15     1700\n",
       "73     1610\n",
       "Name: rating, dtype: int64"
      ]
     },
     "execution_count": 14,
     "metadata": {},
     "output_type": "execute_result"
    }
   ],
   "source": [
    "## Group by userid and count the numbers of movies rated by that user\n",
    "ratings.groupby(\"userId\")[\"rating\"].count().sort_values(ascending = False).head()"
   ]
  },
  {
   "cell_type": "code",
   "execution_count": 15,
   "metadata": {},
   "outputs": [
    {
     "data": {
      "text/plain": [
       "movieId\n",
       "356    341\n",
       "296    324\n",
       "318    311\n",
       "593    304\n",
       "260    291\n",
       "Name: rating, dtype: int64"
      ]
     },
     "execution_count": 15,
     "metadata": {},
     "output_type": "execute_result"
    }
   ],
   "source": [
    "## Group by movies and count the number of users rated that movie\n",
    "ratings.groupby(\"movieId\")[\"rating\"].count().sort_values(ascending = False).head()"
   ]
  },
  {
   "cell_type": "markdown",
   "metadata": {},
   "source": [
    "### Is essential to filter out movies and users with low exposure to remove some of the noise from outliers"
   ]
  },
  {
   "cell_type": "code",
   "execution_count": 16,
   "metadata": {},
   "outputs": [],
   "source": [
    "min_movie_ratings = 10 #a movie has was rated at least \n",
    "min_user_ratings =  10 #a user rated movies at least\n",
    "\n",
    "ratings = ratings.groupby(\"movieId\").filter(lambda x: x['movieId'].count() >= min_movie_ratings)\n",
    "ratings = ratings.groupby(\"userId\").filter(lambda x: x['userId'].count() >= min_user_ratings)"
   ]
  },
  {
   "cell_type": "code",
   "execution_count": 17,
   "metadata": {},
   "outputs": [],
   "source": [
    "## set userId as index\n",
    "ratings = ratings.set_index('userId').sort_index(axis = 0)"
   ]
  },
  {
   "cell_type": "code",
   "execution_count": 18,
   "metadata": {},
   "outputs": [
    {
     "data": {
      "text/html": [
       "<div>\n",
       "<style scoped>\n",
       "    .dataframe tbody tr th:only-of-type {\n",
       "        vertical-align: middle;\n",
       "    }\n",
       "\n",
       "    .dataframe tbody tr th {\n",
       "        vertical-align: top;\n",
       "    }\n",
       "\n",
       "    .dataframe thead th {\n",
       "        text-align: right;\n",
       "    }\n",
       "</style>\n",
       "<table border=\"1\" class=\"dataframe\">\n",
       "  <thead>\n",
       "    <tr style=\"text-align: right;\">\n",
       "      <th></th>\n",
       "      <th>movieId</th>\n",
       "      <th>rating</th>\n",
       "    </tr>\n",
       "    <tr>\n",
       "      <th>userId</th>\n",
       "      <th></th>\n",
       "      <th></th>\n",
       "    </tr>\n",
       "  </thead>\n",
       "  <tbody>\n",
       "    <tr>\n",
       "      <th>1</th>\n",
       "      <td>1263</td>\n",
       "      <td>2.0</td>\n",
       "    </tr>\n",
       "    <tr>\n",
       "      <th>1</th>\n",
       "      <td>2294</td>\n",
       "      <td>2.0</td>\n",
       "    </tr>\n",
       "    <tr>\n",
       "      <th>1</th>\n",
       "      <td>1287</td>\n",
       "      <td>2.0</td>\n",
       "    </tr>\n",
       "    <tr>\n",
       "      <th>1</th>\n",
       "      <td>3671</td>\n",
       "      <td>3.0</td>\n",
       "    </tr>\n",
       "    <tr>\n",
       "      <th>1</th>\n",
       "      <td>1293</td>\n",
       "      <td>2.0</td>\n",
       "    </tr>\n",
       "    <tr>\n",
       "      <th>...</th>\n",
       "      <td>...</td>\n",
       "      <td>...</td>\n",
       "    </tr>\n",
       "    <tr>\n",
       "      <th>671</th>\n",
       "      <td>5377</td>\n",
       "      <td>4.0</td>\n",
       "    </tr>\n",
       "    <tr>\n",
       "      <th>671</th>\n",
       "      <td>1223</td>\n",
       "      <td>3.0</td>\n",
       "    </tr>\n",
       "    <tr>\n",
       "      <th>671</th>\n",
       "      <td>5995</td>\n",
       "      <td>4.0</td>\n",
       "    </tr>\n",
       "    <tr>\n",
       "      <th>671</th>\n",
       "      <td>4308</td>\n",
       "      <td>3.5</td>\n",
       "    </tr>\n",
       "    <tr>\n",
       "      <th>671</th>\n",
       "      <td>1265</td>\n",
       "      <td>4.0</td>\n",
       "    </tr>\n",
       "  </tbody>\n",
       "</table>\n",
       "<p>81906 rows × 2 columns</p>\n",
       "</div>"
      ],
      "text/plain": [
       "        movieId  rating\n",
       "userId                 \n",
       "1          1263     2.0\n",
       "1          2294     2.0\n",
       "1          1287     2.0\n",
       "1          3671     3.0\n",
       "1          1293     2.0\n",
       "...         ...     ...\n",
       "671        5377     4.0\n",
       "671        1223     3.0\n",
       "671        5995     4.0\n",
       "671        4308     3.5\n",
       "671        1265     4.0\n",
       "\n",
       "[81906 rows x 2 columns]"
      ]
     },
     "execution_count": 18,
     "metadata": {},
     "output_type": "execute_result"
    }
   ],
   "source": [
    "ratings"
   ]
  },
  {
   "cell_type": "code",
   "execution_count": 19,
   "metadata": {},
   "outputs": [],
   "source": [
    "## pivot df to get the matrix Yai\n",
    "ratings = ratings.pivot(index=ratings.index, columns='movieId')['rating']"
   ]
  },
  {
   "cell_type": "code",
   "execution_count": 20,
   "metadata": {},
   "outputs": [],
   "source": [
    "## replace NAN with zero\n",
    "ratings = ratings.fillna(0)"
   ]
  },
  {
   "cell_type": "code",
   "execution_count": 21,
   "metadata": {},
   "outputs": [
    {
     "data": {
      "text/html": [
       "<div>\n",
       "<style scoped>\n",
       "    .dataframe tbody tr th:only-of-type {\n",
       "        vertical-align: middle;\n",
       "    }\n",
       "\n",
       "    .dataframe tbody tr th {\n",
       "        vertical-align: top;\n",
       "    }\n",
       "\n",
       "    .dataframe thead th {\n",
       "        text-align: right;\n",
       "    }\n",
       "</style>\n",
       "<table border=\"1\" class=\"dataframe\">\n",
       "  <thead>\n",
       "    <tr style=\"text-align: right;\">\n",
       "      <th>movieId</th>\n",
       "      <th>1</th>\n",
       "      <th>2</th>\n",
       "      <th>3</th>\n",
       "      <th>4</th>\n",
       "      <th>5</th>\n",
       "      <th>...</th>\n",
       "      <th>122904</th>\n",
       "      <th>134130</th>\n",
       "      <th>134853</th>\n",
       "      <th>139385</th>\n",
       "      <th>148626</th>\n",
       "    </tr>\n",
       "    <tr>\n",
       "      <th>userId</th>\n",
       "      <th></th>\n",
       "      <th></th>\n",
       "      <th></th>\n",
       "      <th></th>\n",
       "      <th></th>\n",
       "      <th></th>\n",
       "      <th></th>\n",
       "      <th></th>\n",
       "      <th></th>\n",
       "      <th></th>\n",
       "      <th></th>\n",
       "    </tr>\n",
       "  </thead>\n",
       "  <tbody>\n",
       "    <tr>\n",
       "      <th>1</th>\n",
       "      <td>0.0</td>\n",
       "      <td>0.0</td>\n",
       "      <td>0.0</td>\n",
       "      <td>0.0</td>\n",
       "      <td>0.0</td>\n",
       "      <td>...</td>\n",
       "      <td>0.0</td>\n",
       "      <td>0.0</td>\n",
       "      <td>0.0</td>\n",
       "      <td>0.0</td>\n",
       "      <td>0.0</td>\n",
       "    </tr>\n",
       "    <tr>\n",
       "      <th>2</th>\n",
       "      <td>0.0</td>\n",
       "      <td>0.0</td>\n",
       "      <td>0.0</td>\n",
       "      <td>0.0</td>\n",
       "      <td>0.0</td>\n",
       "      <td>...</td>\n",
       "      <td>0.0</td>\n",
       "      <td>0.0</td>\n",
       "      <td>0.0</td>\n",
       "      <td>0.0</td>\n",
       "      <td>0.0</td>\n",
       "    </tr>\n",
       "    <tr>\n",
       "      <th>3</th>\n",
       "      <td>0.0</td>\n",
       "      <td>0.0</td>\n",
       "      <td>0.0</td>\n",
       "      <td>0.0</td>\n",
       "      <td>0.0</td>\n",
       "      <td>...</td>\n",
       "      <td>0.0</td>\n",
       "      <td>0.0</td>\n",
       "      <td>0.0</td>\n",
       "      <td>0.0</td>\n",
       "      <td>0.0</td>\n",
       "    </tr>\n",
       "    <tr>\n",
       "      <th>4</th>\n",
       "      <td>0.0</td>\n",
       "      <td>0.0</td>\n",
       "      <td>0.0</td>\n",
       "      <td>0.0</td>\n",
       "      <td>0.0</td>\n",
       "      <td>...</td>\n",
       "      <td>0.0</td>\n",
       "      <td>0.0</td>\n",
       "      <td>0.0</td>\n",
       "      <td>0.0</td>\n",
       "      <td>0.0</td>\n",
       "    </tr>\n",
       "    <tr>\n",
       "      <th>5</th>\n",
       "      <td>0.0</td>\n",
       "      <td>0.0</td>\n",
       "      <td>4.0</td>\n",
       "      <td>0.0</td>\n",
       "      <td>0.0</td>\n",
       "      <td>...</td>\n",
       "      <td>0.0</td>\n",
       "      <td>0.0</td>\n",
       "      <td>0.0</td>\n",
       "      <td>0.0</td>\n",
       "      <td>0.0</td>\n",
       "    </tr>\n",
       "  </tbody>\n",
       "</table>\n",
       "<p>5 rows × 2245 columns</p>\n",
       "</div>"
      ],
      "text/plain": [
       "movieId  1       2       3       4       5       ...  122904  134130  134853  \\\n",
       "userId                                           ...                           \n",
       "1           0.0     0.0     0.0     0.0     0.0  ...     0.0     0.0     0.0   \n",
       "2           0.0     0.0     0.0     0.0     0.0  ...     0.0     0.0     0.0   \n",
       "3           0.0     0.0     0.0     0.0     0.0  ...     0.0     0.0     0.0   \n",
       "4           0.0     0.0     0.0     0.0     0.0  ...     0.0     0.0     0.0   \n",
       "5           0.0     0.0     4.0     0.0     0.0  ...     0.0     0.0     0.0   \n",
       "\n",
       "movieId  139385  148626  \n",
       "userId                   \n",
       "1           0.0     0.0  \n",
       "2           0.0     0.0  \n",
       "3           0.0     0.0  \n",
       "4           0.0     0.0  \n",
       "5           0.0     0.0  \n",
       "\n",
       "[5 rows x 2245 columns]"
      ]
     },
     "execution_count": 21,
     "metadata": {},
     "output_type": "execute_result"
    }
   ],
   "source": [
    "ratings.head(5)"
   ]
  },
  {
   "cell_type": "code",
   "execution_count": 22,
   "metadata": {},
   "outputs": [
    {
     "name": "stdout",
     "output_type": "stream",
     "text": [
      "<class 'pandas.core.frame.DataFrame'>\n",
      "Int64Index: 670 entries, 1 to 671\n",
      "Columns: 2245 entries, 1 to 148626\n",
      "dtypes: float64(2245)\n",
      "memory usage: 11.5 MB\n"
     ]
    }
   ],
   "source": [
    "ratings.info()"
   ]
  },
  {
   "cell_type": "markdown",
   "metadata": {},
   "source": [
    "### Netfilx movies DB EDA"
   ]
  },
  {
   "cell_type": "code",
   "execution_count": 23,
   "metadata": {},
   "outputs": [],
   "source": [
    "movies_data = pd.read_csv(\"data/movies_metadata.csv\", usecols=['genres','id','title','original_language','release_date'])"
   ]
  },
  {
   "cell_type": "code",
   "execution_count": 24,
   "metadata": {},
   "outputs": [],
   "source": [
    "## Remove id and name from string\n",
    "movies_data['genres'].replace({'id': ''}, inplace=True, regex=True)\n",
    "movies_data['genres'].replace({'name': ''}, inplace=True, regex=True)\n",
    "movies_data['genres'].replace({'\\d+': ''}, inplace=True, regex=True)\n",
    "## Remove special characters\n",
    "movies_data['genres'].replace({'\\W+': ' '}, inplace=True, regex=True)\n",
    "## Remove leading and trailing blanks\n",
    "movies_data['genres'] = movies_data['genres'].str.strip()\n",
    "## Formatiing the string\n",
    "movies_data['genres'].replace({' ': ', '}, inplace=True, regex=True)\n",
    "## split in to a list\n",
    "movies_data['genres'] = [x.strip('()').split(',') for x in movies_data['genres']]"
   ]
  },
  {
   "cell_type": "code",
   "execution_count": 25,
   "metadata": {},
   "outputs": [],
   "source": [
    "## Cleaning id column\n",
    "movies_data.drop(movies_data[movies_data['id'].str.contains(\"-\")].index, inplace = True)\n",
    "movies_data['id'] = movies_data['id'].astype('int64')\n",
    "## Rename id column to movieId\n",
    "movies_data.rename(columns={'id': 'movieId'}, inplace=True)"
   ]
  },
  {
   "cell_type": "code",
   "execution_count": 26,
   "metadata": {},
   "outputs": [
    {
     "data": {
      "text/html": [
       "<div>\n",
       "<style scoped>\n",
       "    .dataframe tbody tr th:only-of-type {\n",
       "        vertical-align: middle;\n",
       "    }\n",
       "\n",
       "    .dataframe tbody tr th {\n",
       "        vertical-align: top;\n",
       "    }\n",
       "\n",
       "    .dataframe thead th {\n",
       "        text-align: right;\n",
       "    }\n",
       "</style>\n",
       "<table border=\"1\" class=\"dataframe\">\n",
       "  <thead>\n",
       "    <tr style=\"text-align: right;\">\n",
       "      <th></th>\n",
       "      <th>genres</th>\n",
       "      <th>movieId</th>\n",
       "      <th>original_language</th>\n",
       "      <th>release_date</th>\n",
       "      <th>title</th>\n",
       "    </tr>\n",
       "  </thead>\n",
       "  <tbody>\n",
       "    <tr>\n",
       "      <th>0</th>\n",
       "      <td>[Animation,  Comedy,  Family]</td>\n",
       "      <td>862</td>\n",
       "      <td>en</td>\n",
       "      <td>1995-10-30</td>\n",
       "      <td>Toy Story</td>\n",
       "    </tr>\n",
       "    <tr>\n",
       "      <th>1</th>\n",
       "      <td>[Adventure,  Fantasy,  Family]</td>\n",
       "      <td>8844</td>\n",
       "      <td>en</td>\n",
       "      <td>1995-12-15</td>\n",
       "      <td>Jumanji</td>\n",
       "    </tr>\n",
       "    <tr>\n",
       "      <th>2</th>\n",
       "      <td>[Romance,  Comedy]</td>\n",
       "      <td>15602</td>\n",
       "      <td>en</td>\n",
       "      <td>1995-12-22</td>\n",
       "      <td>Grumpier Old Men</td>\n",
       "    </tr>\n",
       "    <tr>\n",
       "      <th>3</th>\n",
       "      <td>[Comedy,  Drama,  Romance]</td>\n",
       "      <td>31357</td>\n",
       "      <td>en</td>\n",
       "      <td>1995-12-22</td>\n",
       "      <td>Waiting to Exhale</td>\n",
       "    </tr>\n",
       "    <tr>\n",
       "      <th>4</th>\n",
       "      <td>[Comedy]</td>\n",
       "      <td>11862</td>\n",
       "      <td>en</td>\n",
       "      <td>1995-02-10</td>\n",
       "      <td>Father of the Bride Part II</td>\n",
       "    </tr>\n",
       "  </tbody>\n",
       "</table>\n",
       "</div>"
      ],
      "text/plain": [
       "                           genres  movieId original_language release_date  \\\n",
       "0   [Animation,  Comedy,  Family]      862                en   1995-10-30   \n",
       "1  [Adventure,  Fantasy,  Family]     8844                en   1995-12-15   \n",
       "2              [Romance,  Comedy]    15602                en   1995-12-22   \n",
       "3      [Comedy,  Drama,  Romance]    31357                en   1995-12-22   \n",
       "4                        [Comedy]    11862                en   1995-02-10   \n",
       "\n",
       "                         title  \n",
       "0                    Toy Story  \n",
       "1                      Jumanji  \n",
       "2             Grumpier Old Men  \n",
       "3            Waiting to Exhale  \n",
       "4  Father of the Bride Part II  "
      ]
     },
     "execution_count": 26,
     "metadata": {},
     "output_type": "execute_result"
    }
   ],
   "source": [
    "movies_data.head()"
   ]
  },
  {
   "cell_type": "code",
   "execution_count": 27,
   "metadata": {},
   "outputs": [
    {
     "data": {
      "image/png": "[encoded data removed]",
      "text/plain": [
       "<Figure size 792x360 with 1 Axes>"
      ]
     },
     "metadata": {
      "needs_background": "light"
     },
     "output_type": "display_data"
    }
   ],
   "source": [
    "## Plot movies by original language\n",
    "plt.figure(figsize = (11, 5))\n",
    "sns.countplot(data=movies_data,\n",
    "              order=movies_data.original_language.value_counts().iloc[:5].index,\n",
    "              x='original_language')\n",
    "plt.tick_params(labelsize = 15)\n",
    "plt.title(\"Count Language\", fontsize = 20)\n",
    "plt.xlabel(\"Language\", fontsize = 20)\n",
    "plt.ylabel(\"Number of Movies\", fontsize = 20)\n",
    "plt.show()"
   ]
  },
  {
   "cell_type": "markdown",
   "metadata": {},
   "source": [
    "## Movies Time series"
   ]
  },
  {
   "cell_type": "code",
   "execution_count": 28,
   "metadata": {},
   "outputs": [],
   "source": [
    "## Counter for movies date\n",
    "movies_data['count'] = 1"
   ]
  },
  {
   "cell_type": "code",
   "execution_count": 29,
   "metadata": {},
   "outputs": [],
   "source": [
    "## Transform column to date type\n",
    "movies_data['release_date'] =  pd.to_datetime(movies_data['release_date'], format='%Y-%m-%d')"
   ]
  },
  {
   "cell_type": "code",
   "execution_count": 30,
   "metadata": {},
   "outputs": [
    {
     "data": {
      "text/plain": [
       "(Timestamp('1874-12-09 00:00:00'), Timestamp('2020-12-16 00:00:00'))"
      ]
     },
     "execution_count": 30,
     "metadata": {},
     "output_type": "execute_result"
    }
   ],
   "source": [
    "movies_data['release_date'].min(), movies_data['release_date'].max()"
   ]
  },
  {
   "cell_type": "code",
   "execution_count": 31,
   "metadata": {},
   "outputs": [],
   "source": [
    "## Group by date and count movies\n",
    "daily_frame = movies_data.groupby('release_date')['count'].sum().reset_index()\n",
    "daily_frame = daily_frame.set_index('release_date')\n",
    "daily_frame.index = pd.to_datetime(daily_frame.index)"
   ]
  },
  {
   "cell_type": "code",
   "execution_count": 32,
   "metadata": {},
   "outputs": [],
   "source": [
    "## Sum the counts of movies by year\n",
    "y = daily_frame['count'].resample('MS').sum()"
   ]
  },
  {
   "cell_type": "code",
   "execution_count": 33,
   "metadata": {},
   "outputs": [
    {
     "data": {
      "image/png": "[encoded data removed]",
      "text/plain": [
       "<Figure size 1440x432 with 1 Axes>"
      ]
     },
     "metadata": {
      "needs_background": "light"
     },
     "output_type": "display_data"
    }
   ],
   "source": [
    "y.plot(figsize=(20, 6))\n",
    "plt.title(\"Movies release dates\", fontsize = 20)\n",
    "plt.show()"
   ]
  },
  {
   "cell_type": "markdown",
   "metadata": {},
   "source": [
    "## Test and train on a Dummy dataset"
   ]
  },
  {
   "cell_type": "code",
   "execution_count": 34,
   "metadata": {},
   "outputs": [],
   "source": [
    "## Dummy dataset\n",
    "a = pd.DataFrame([\n",
    "\n",
    "     [1,5,3,0,1],\n",
    "\n",
    "     [2,4,0,0,1],\n",
    "\n",
    "     [3,1,1,0,5],\n",
    "\n",
    "     [4,1,0,0,4],\n",
    "\n",
    "     [5,0,1,5,4],\n",
    "    \n",
    "     [6,2,1,3,0],\n",
    "\n",
    "    ]).set_index(0)\n",
    "\n",
    "a.index.names = ['userId']\n",
    "a.columns.names = ['movieId']"
   ]
  },
  {
   "cell_type": "markdown",
   "metadata": {},
   "source": [
    "### Train with sklear KFold"
   ]
  },
  {
   "cell_type": "code",
   "execution_count": 35,
   "metadata": {},
   "outputs": [],
   "source": [
    "kfs = KFold(n_splits=3)"
   ]
  },
  {
   "cell_type": "code",
   "execution_count": 36,
   "metadata": {},
   "outputs": [
    {
     "name": "stdout",
     "output_type": "stream",
     "text": [
      "TRAIN: [2 3 4 5]\n",
      "K: 10\t | Learning_rate: 0.001\t | MSE:15.071774580026862\n",
      "K: 10\t | Learning_rate: 0.01\t | MSE:2.1935173516309603\n",
      "K: 10\t | Learning_rate: 0.1\t | MSE:1.048841605777777\n",
      "K: 10\t | Learning_rate: 1\t | MSE:1.0004228488678764\n",
      "K: 20\t | Learning_rate: 0.001\t | MSE:9.742491280681216\n",
      "K: 20\t | Learning_rate: 0.01\t | MSE:3.3128476160047637\n",
      "K: 20\t | Learning_rate: 0.1\t | MSE:1.1135070267130305\n",
      "K: 20\t | Learning_rate: 1\t | MSE:1.0001488119597617\n",
      "K: 30\t | Learning_rate: 0.001\t | MSE:50.043668589204515\n",
      "K: 30\t | Learning_rate: 0.01\t | MSE:5.8665436574547485\n",
      "K: 30\t | Learning_rate: 0.1\t | MSE:1.3855595878742568\n",
      "K: 30\t | Learning_rate: 1\t | MSE:1.0001700971341196\n",
      "K: 40\t | Learning_rate: 0.001\t | MSE:98.72441027437411\n",
      "K: 40\t | Learning_rate: 0.01\t | MSE:12.077928617612175\n",
      "K: 40\t | Learning_rate: 0.1\t | MSE:1.5188445211818773\n",
      "K: 40\t | Learning_rate: 1\t | MSE:1.0000225465023582\n",
      "K: 50\t | Learning_rate: 0.001\t | MSE:139.654434326975\n",
      "K: 50\t | Learning_rate: 0.01\t | MSE:21.651910763520878\n",
      "K: 50\t | Learning_rate: 0.1\t | MSE:1.5148766488969079\n",
      "K: 50\t | Learning_rate: 1\t | MSE:1.0000074453597512\n",
      "TRAIN: [0 1 4 5]\n",
      "K: 10\t | Learning_rate: 0.001\t | MSE:14.870787371740073\n",
      "K: 10\t | Learning_rate: 0.01\t | MSE:6.535176372521391\n",
      "K: 10\t | Learning_rate: 0.1\t | MSE:1.4225116593557396\n",
      "K: 10\t | Learning_rate: 1\t | MSE:1.002744005738502\n",
      "K: 20\t | Learning_rate: 0.001\t | MSE:36.65689735415427\n",
      "K: 20\t | Learning_rate: 0.01\t | MSE:7.303812802524256\n",
      "K: 20\t | Learning_rate: 0.1\t | MSE:1.5341100700396408\n",
      "K: 20\t | Learning_rate: 1\t | MSE:1.0023986690198596\n",
      "K: 30\t | Learning_rate: 0.001\t | MSE:79.51369386535512\n",
      "K: 30\t | Learning_rate: 0.01\t | MSE:13.767490786763076\n",
      "K: 30\t | Learning_rate: 0.1\t | MSE:1.8016508692459974\n",
      "K: 30\t | Learning_rate: 1\t | MSE:1.0001117427085005\n",
      "K: 40\t | Learning_rate: 0.001\t | MSE:135.45087509538692\n",
      "K: 40\t | Learning_rate: 0.01\t | MSE:21.547376102514093\n",
      "K: 40\t | Learning_rate: 0.1\t | MSE:1.7477938921897178\n",
      "K: 40\t | Learning_rate: 1\t | MSE:1.0000405292179253\n",
      "K: 50\t | Learning_rate: 0.001\t | MSE:168.69123908925496\n",
      "K: 50\t | Learning_rate: 0.01\t | MSE:23.345513920844983\n",
      "K: 50\t | Learning_rate: 0.1\t | MSE:2.0328340090555854\n",
      "K: 50\t | Learning_rate: 1\t | MSE:1.0000086361455838\n",
      "TRAIN: [0 1 2 3]\n",
      "K: 10\t | Learning_rate: 0.001\t | MSE:7.428361431007364\n",
      "K: 10\t | Learning_rate: 0.01\t | MSE:3.393466604739481\n",
      "K: 10\t | Learning_rate: 0.1\t | MSE:1.2151837710414959\n",
      "K: 10\t | Learning_rate: 1\t | MSE:1.0025900092117295\n",
      "K: 20\t | Learning_rate: 0.001\t | MSE:8.784525775423054\n",
      "K: 20\t | Learning_rate: 0.01\t | MSE:8.802036390896276\n",
      "K: 20\t | Learning_rate: 0.1\t | MSE:1.6128208247197922\n",
      "K: 20\t | Learning_rate: 1\t | MSE:1.0035596647368756\n",
      "K: 30\t | Learning_rate: 0.001\t | MSE:103.92671389959938\n",
      "K: 30\t | Learning_rate: 0.01\t | MSE:17.316820806282557\n",
      "K: 30\t | Learning_rate: 0.1\t | MSE:1.7473270507508223\n",
      "K: 30\t | Learning_rate: 1\t | MSE:1.0000882380949243\n",
      "K: 40\t | Learning_rate: 0.001\t | MSE:163.36919649025094\n",
      "K: 40\t | Learning_rate: 0.01\t | MSE:21.294120230553805\n",
      "K: 40\t | Learning_rate: 0.1\t | MSE:1.9041657267606797\n",
      "K: 40\t | Learning_rate: 1\t | MSE:1.0000140958726023\n",
      "K: 50\t | Learning_rate: 0.001\t | MSE:221.1716294342449\n",
      "K: 50\t | Learning_rate: 0.01\t | MSE:29.042598247196402\n",
      "K: 50\t | Learning_rate: 0.1\t | MSE:2.009476844200917\n",
      "K: 50\t | Learning_rate: 1\t | MSE:1.0000014702079818\n"
     ]
    }
   ],
   "source": [
    "## Train with different learning rates and K numbers\n",
    "m_s=[]\n",
    "for train, _ in kfs.split(a,None):\n",
    "    df = pd.DataFrame(train)\n",
    "    print(f\"TRAIN: {train}\")\n",
    "    m_s.append(find_best(df,max_Ks=50, iterations=100)) "
   ]
  },
  {
   "cell_type": "code",
   "execution_count": 37,
   "metadata": {},
   "outputs": [
    {
     "data": {
      "text/plain": [
       "[K                2.000000\n",
       " Learning_rate    1.000000\n",
       " MSE              0.991765\n",
       " Name: 7, dtype: float64]"
      ]
     },
     "execution_count": 37,
     "metadata": {},
     "output_type": "execute_result"
    }
   ],
   "source": [
    "## Finding best K and learning rate\n",
    "best_folded = []\n",
    "b = float(10e5)\n",
    "for df in m_s:\n",
    "    mini = df.loc[df.MSE.idxmin()]\n",
    "    if (mini[2] < b):\n",
    "        b = mini[2]\n",
    "        best_folded.append(mini)\n",
    "best_folded"
   ]
  },
  {
   "cell_type": "markdown",
   "metadata": {},
   "source": [
    "### Training with the full dummy dataset"
   ]
  },
  {
   "cell_type": "code",
   "execution_count": 38,
   "metadata": {},
   "outputs": [
    {
     "name": "stdout",
     "output_type": "stream",
     "text": [
      "K: 10\t | Learning_rate: 0.001\t | MSE:78.1214260111823\n",
      "K: 10\t | Learning_rate: 0.01\t | MSE:86.28113862400143\n",
      "K: 10\t | Learning_rate: 0.1\t | MSE:49.73856326566307\n",
      "K: 10\t | Learning_rate: 1\t | MSE:13.962388591051903\n",
      "K: 20\t | Learning_rate: 0.001\t | MSE:249.84306045495265\n",
      "K: 20\t | Learning_rate: 0.01\t | MSE:117.8982038188301\n",
      "K: 20\t | Learning_rate: 0.1\t | MSE:41.84450340611182\n",
      "K: 20\t | Learning_rate: 1\t | MSE:8.703282239690118\n",
      "K: 30\t | Learning_rate: 0.001\t | MSE:521.5249383280899\n",
      "K: 30\t | Learning_rate: 0.01\t | MSE:149.50053809355327\n",
      "K: 30\t | Learning_rate: 0.1\t | MSE:39.73635794264919\n",
      "K: 30\t | Learning_rate: 1\t | MSE:8.443336123102648\n",
      "K: 40\t | Learning_rate: 0.001\t | MSE:726.442452115472\n",
      "K: 40\t | Learning_rate: 0.01\t | MSE:200.15325859692388\n",
      "K: 40\t | Learning_rate: 0.1\t | MSE:34.70587605486276\n",
      "K: 40\t | Learning_rate: 1\t | MSE:6.830143483537256\n",
      "K: 50\t | Learning_rate: 0.001\t | MSE:1427.1901196048689\n",
      "K: 50\t | Learning_rate: 0.01\t | MSE:247.9578191086278\n",
      "K: 50\t | Learning_rate: 0.1\t | MSE:41.647850520195874\n",
      "K: 50\t | Learning_rate: 1\t | MSE:nan\n"
     ]
    }
   ],
   "source": [
    "## Train with different learning rates and K numbers\n",
    "m = find_best(a,max_Ks=50,iterations=100)"
   ]
  },
  {
   "cell_type": "code",
   "execution_count": 39,
   "metadata": {},
   "outputs": [
    {
     "data": {
      "image/png": "[encoded data removed]",
      "text/plain": [
       "<Figure size 1080x576 with 4 Axes>"
      ]
     },
     "metadata": {
      "needs_background": "light"
     },
     "output_type": "display_data"
    }
   ],
   "source": [
    "## Get minimum by Learning rate\n",
    "\n",
    "## plot best k with bets learning rate\n",
    "fig, axes = plt.subplots(2, 2, figsize=(15, 8))\n",
    "plt.subplots_adjust(wspace=0.5, hspace=0.5)\n",
    "\n",
    "\n",
    "df0001 = m[m['Learning_rate']==0.001]\n",
    "df0001.plot(x=\"K\", y=\"MSE\", ax=axes[0,0], legend=False)\n",
    "axes[0,0].set_title('Learning rate = 0.001')\n",
    "axes[0,0].axvline(np.argmin(df0001.MSE)+1, color = \"r\")\n",
    "\n",
    "df001 = m[m['Learning_rate']==0.01]\n",
    "df001.plot(x=\"K\", y=\"MSE\", ax=axes[0,1], legend=False)\n",
    "axes[0,1].set_title('Learning rate = 0.01')\n",
    "axes[0,1].axvline(np.argmin(df001.MSE)+1, color = \"r\")\n",
    "\n",
    "df01 = m[m['Learning_rate']==0.1]\n",
    "df01.plot(x=\"K\", y=\"MSE\", ax=axes[1,0], legend=False)\n",
    "axes[1,0].set_title('Learning rate = 0.1')\n",
    "axes[1,0].axvline(np.argmin(df01.MSE)+1, color = \"r\")\n",
    "\n",
    "df1 = m[m['Learning_rate']==1]\n",
    "df1.plot(x=\"K\", y=\"MSE\", ax=axes[1,1], legend=False,)\n",
    "axes[1,1].set_title('Learning rate =1')\n",
    "axes[1,1].axvline(np.argmin(df1.MSE)+1, color = \"r\")\n",
    "\n",
    "plt.show()"
   ]
  },
  {
   "cell_type": "code",
   "execution_count": 40,
   "metadata": {},
   "outputs": [
    {
     "data": {
      "text/plain": [
       "K                47.000000\n",
       "Learning_rate     1.000000\n",
       "MSE               6.743231\n",
       "Name: 187, dtype: float64"
      ]
     },
     "execution_count": 40,
     "metadata": {},
     "output_type": "execute_result"
    }
   ],
   "source": [
    "## Finding best K and learning rate\n",
    "best_ = m.loc[m.MSE.idxmin()]\n",
    "best_"
   ]
  },
  {
   "cell_type": "markdown",
   "metadata": {},
   "source": [
    "### Fit the model with best parameters"
   ]
  },
  {
   "cell_type": "code",
   "execution_count": 67,
   "metadata": {},
   "outputs": [],
   "source": [
    "## Best matrix with best k\n",
    "K = 47\n",
    "r = matrix_factorization(a,K)\n",
    "## Train the model, default iterations is 2\n",
    "learning_rate = 1.0\n",
    "r.fit(learning_rate,iterations=1000)"
   ]
  },
  {
   "cell_type": "code",
   "execution_count": 68,
   "metadata": {},
   "outputs": [
    {
     "data": {
      "text/plain": [
       "5.999999999999984"
      ]
     },
     "execution_count": 68,
     "metadata": {},
     "output_type": "execute_result"
    }
   ],
   "source": [
    "## Increasing iterations improves over previous best MSE but not significantly\n",
    "min(r.mse)"
   ]
  },
  {
   "cell_type": "code",
   "execution_count": 69,
   "metadata": {},
   "outputs": [
    {
     "data": {
      "image/png": "[encoded data removed]",
      "text/plain": [
       "<Figure size 792x360 with 1 Axes>"
      ]
     },
     "metadata": {
      "needs_background": "light"
     },
     "output_type": "display_data"
    }
   ],
   "source": [
    "## Plot MSE over iterations\n",
    "plt.figure(figsize=(11, 5))\n",
    "plt.plot(r.mse)\n",
    "plt.xlabel('Iterations')\n",
    "plt.ylabel('MSE')\n",
    "plt.xlim(0,100)\n",
    "plt.title('MSE over iterations')\n",
    "plt.show()"
   ]
  },
  {
   "cell_type": "code",
   "execution_count": 70,
   "metadata": {},
   "outputs": [
    {
     "data": {
      "text/plain": [
       "array([[5.5, 3.5, 0.5, 1.5],\n",
       "       [4.5, 0.5, 0.5, 1.5],\n",
       "       [1.5, 1.5, 0.5, 5.5],\n",
       "       [1.5, 0.5, 0.5, 4.5],\n",
       "       [0.5, 1.5, 5.5, 4.5],\n",
       "       [2.5, 1.5, 3.5, 0.5]])"
      ]
     },
     "execution_count": 70,
     "metadata": {},
     "output_type": "execute_result"
    }
   ],
   "source": [
    "## Get the Predicted matrix\n",
    "r.matrix"
   ]
  },
  {
   "cell_type": "code",
   "execution_count": 71,
   "metadata": {},
   "outputs": [
    {
     "data": {
      "text/html": [
       "<div>\n",
       "<style scoped>\n",
       "    .dataframe tbody tr th:only-of-type {\n",
       "        vertical-align: middle;\n",
       "    }\n",
       "\n",
       "    .dataframe tbody tr th {\n",
       "        vertical-align: top;\n",
       "    }\n",
       "\n",
       "    .dataframe thead th {\n",
       "        text-align: right;\n",
       "    }\n",
       "</style>\n",
       "<table border=\"1\" class=\"dataframe\">\n",
       "  <thead>\n",
       "    <tr style=\"text-align: right;\">\n",
       "      <th></th>\n",
       "      <th>movieId</th>\n",
       "      <th>recommend</th>\n",
       "      <th>genres</th>\n",
       "      <th>original_language</th>\n",
       "      <th>release_date</th>\n",
       "      <th>title</th>\n",
       "      <th>count</th>\n",
       "    </tr>\n",
       "  </thead>\n",
       "  <tbody>\n",
       "    <tr>\n",
       "      <th>0</th>\n",
       "      <td>3</td>\n",
       "      <td>******</td>\n",
       "      <td>[Drama,  Comedy]</td>\n",
       "      <td>fi</td>\n",
       "      <td>1986-10-16</td>\n",
       "      <td>Shadows in Paradise</td>\n",
       "      <td>1</td>\n",
       "    </tr>\n",
       "    <tr>\n",
       "      <th>1</th>\n",
       "      <td>2</td>\n",
       "      <td>*</td>\n",
       "      <td>[Drama,  Crime]</td>\n",
       "      <td>fi</td>\n",
       "      <td>1988-10-21</td>\n",
       "      <td>Ariel</td>\n",
       "      <td>1</td>\n",
       "    </tr>\n",
       "  </tbody>\n",
       "</table>\n",
       "</div>"
      ],
      "text/plain": [
       "   movieId recommend            genres original_language release_date  \\\n",
       "0        3    ******  [Drama,  Comedy]                fi   1986-10-16   \n",
       "1        2         *   [Drama,  Crime]                fi   1988-10-21   \n",
       "\n",
       "                 title  count  \n",
       "0  Shadows in Paradise      1  \n",
       "1                Ariel      1  "
      ]
     },
     "execution_count": 71,
     "metadata": {},
     "output_type": "execute_result"
    }
   ],
   "source": [
    "## Recommended movies by top rating\n",
    "r.top_recommends(5, movies_data)"
   ]
  },
  {
   "cell_type": "markdown",
   "metadata": {},
   "source": [
    "# Netflix movies small DB"
   ]
  },
  {
   "cell_type": "code",
   "execution_count": 46,
   "metadata": {},
   "outputs": [
    {
     "name": "stdout",
     "output_type": "stream",
     "text": [
      "K: 10\t | Learning_rate: 0.001\t | MSE:9436712.13831906\n",
      "K: 10\t | Learning_rate: 0.01\t | MSE:9204750.864236858\n",
      "K: 10\t | Learning_rate: 0.1\t | MSE:6047980.185627084\n",
      "K: 10\t | Learning_rate: 1\t | MSE:1631683.0323478538\n"
     ]
    }
   ],
   "source": [
    "## Find best with full training data and folded best\n",
    "mse = find_best(ratings,max_Ks=10,iterations=5)"
   ]
  },
  {
   "cell_type": "code",
   "execution_count": 47,
   "metadata": {},
   "outputs": [
    {
     "data": {
      "image/png": "[encoded data removed]",
      "text/plain": [
       "<Figure size 1080x576 with 4 Axes>"
      ]
     },
     "metadata": {
      "needs_background": "light"
     },
     "output_type": "display_data"
    }
   ],
   "source": [
    "## Get minimum by Learning rate\n",
    "\n",
    "## plot best k with bets learning rate\n",
    "fig, axes = plt.subplots(2, 2, figsize=(15, 8))\n",
    "plt.subplots_adjust(wspace=0.5, hspace=0.5)\n",
    "\n",
    "\n",
    "df0001 = mse[mse['Learning_rate']==0.001]\n",
    "df0001.plot(x=\"K\", y=\"MSE\", ax=axes[0,0], legend=False)\n",
    "axes[0,0].set_title('Learning rate = 0.001')\n",
    "axes[0,0].axvline(np.argmin(df0001.MSE)+1, color = \"r\")\n",
    "\n",
    "df001 = mse[mse['Learning_rate']==0.01]\n",
    "df001.plot(x=\"K\", y=\"MSE\", ax=axes[0,1], legend=False)\n",
    "axes[0,1].set_title('Learning rate = 0.01')\n",
    "axes[0,1].axvline(np.argmin(df001.MSE)+1, color = \"r\")\n",
    "\n",
    "df01 = mse[mse['Learning_rate']==0.1]\n",
    "df01.plot(x=\"K\", y=\"MSE\", ax=axes[1,0], legend=False)\n",
    "axes[1,0].set_title('Learning rate = 0.1')\n",
    "axes[1,0].axvline(np.argmin(df01.MSE)+1, color = \"r\")\n",
    "\n",
    "df1 = mse[mse['Learning_rate']==1]\n",
    "df1.plot(x=\"K\", y=\"MSE\", ax=axes[1,1], legend=False,)\n",
    "axes[1,1].set_title('Learning rate =1')\n",
    "axes[1,1].axvline(np.argmin(df1.MSE)+1, color = \"r\")\n",
    "\n",
    "plt.show()"
   ]
  },
  {
   "cell_type": "markdown",
   "metadata": {},
   "source": [
    "### Fit the model with best parameters"
   ]
  },
  {
   "cell_type": "code",
   "execution_count": 48,
   "metadata": {},
   "outputs": [],
   "source": [
    "## Best matrix with best k\n",
    "K = 3\n",
    "recomm = matrix_factorization(ratings,K)\n",
    "## Train the model, default iterations is 2\n",
    "learning_rate = 0.1\n",
    "recomm.fit(learning_rate,iterations=50)"
   ]
  },
  {
   "cell_type": "code",
   "execution_count": 49,
   "metadata": {},
   "outputs": [
    {
     "data": {
      "image/png": "[encoded data removed]",
      "text/plain": [
       "<Figure size 792x360 with 1 Axes>"
      ]
     },
     "metadata": {
      "needs_background": "light"
     },
     "output_type": "display_data"
    }
   ],
   "source": [
    "## Plot MSE over iterations\n",
    "plt.figure(figsize=(11, 5))\n",
    "plt.plot(recomm.mse)\n",
    "plt.xlabel('Iterations')\n",
    "plt.ylabel('MSE')\n",
    "plt.title('MSE over iterations')\n",
    "plt.show()"
   ]
  },
  {
   "cell_type": "markdown",
   "metadata": {},
   "source": [
    "## Recommendation Matrix"
   ]
  },
  {
   "cell_type": "code",
   "execution_count": 63,
   "metadata": {},
   "outputs": [
    {
     "data": {
      "text/plain": [
       "array([[0.86025536, 0.82433855, 0.72094321, ..., 0.99783717, 1.01458529,\n",
       "        0.89626711],\n",
       "       [0.69480063, 0.62995531, 0.61432566, ..., 0.8707483 , 1.05820567,\n",
       "        1.02387542],\n",
       "       [0.91163115, 0.83994464, 0.72536183, ..., 1.05030393, 1.00008335,\n",
       "        0.8630208 ],\n",
       "       ...,\n",
       "       [0.76690475, 0.73775802, 0.59191877, ..., 0.83666459, 0.6753974 ,\n",
       "        0.51648707],\n",
       "       [0.80977399, 0.66017288, 0.58278766, ..., 0.95154165, 0.8584267 ,\n",
       "        0.74427183],\n",
       "       [0.48631963, 0.42689172, 0.40788909, ..., 0.60059279, 0.68333482,\n",
       "        0.64842242]])"
      ]
     },
     "execution_count": 63,
     "metadata": {},
     "output_type": "execute_result"
    }
   ],
   "source": [
    "## Get the Predicted matrix\n",
    "recomm.matrix"
   ]
  },
  {
   "cell_type": "markdown",
   "metadata": {},
   "source": [
    "## Geting recomendations"
   ]
  },
  {
   "cell_type": "markdown",
   "metadata": {},
   "source": [
    "- Return the movies with the highest predicted rating that the specified user hasn’t already rated."
   ]
  },
  {
   "cell_type": "code",
   "execution_count": 49,
   "metadata": {},
   "outputs": [
    {
     "data": {
      "text/html": [
       "<div>\n",
       "<style scoped>\n",
       "    .dataframe tbody tr th:only-of-type {\n",
       "        vertical-align: middle;\n",
       "    }\n",
       "\n",
       "    .dataframe tbody tr th {\n",
       "        vertical-align: top;\n",
       "    }\n",
       "\n",
       "    .dataframe thead th {\n",
       "        text-align: right;\n",
       "    }\n",
       "</style>\n",
       "<table border=\"1\" class=\"dataframe\">\n",
       "  <thead>\n",
       "    <tr style=\"text-align: right;\">\n",
       "      <th></th>\n",
       "      <th>movieId</th>\n",
       "      <th>recommend</th>\n",
       "      <th>genres</th>\n",
       "      <th>original_language</th>\n",
       "      <th>release_date</th>\n",
       "      <th>title</th>\n",
       "      <th>count</th>\n",
       "    </tr>\n",
       "  </thead>\n",
       "  <tbody>\n",
       "    <tr>\n",
       "      <th>0</th>\n",
       "      <td>4612</td>\n",
       "      <td>**</td>\n",
       "      <td>[Action]</td>\n",
       "      <td>en</td>\n",
       "      <td>2003-01-01</td>\n",
       "      <td>Absolon</td>\n",
       "      <td>1</td>\n",
       "    </tr>\n",
       "  </tbody>\n",
       "</table>\n",
       "</div>"
      ],
      "text/plain": [
       "   movieId recommend    genres original_language release_date    title  count\n",
       "0     4612        **  [Action]                en   2003-01-01  Absolon      1"
      ]
     },
     "execution_count": 49,
     "metadata": {},
     "output_type": "execute_result"
    }
   ],
   "source": [
    "## Recommended movies by top rating\n",
    "recomm.top_recommends(user, movies_data)"
   ]
  },
  {
   "cell_type": "markdown",
   "metadata": {},
   "source": [
    "### References\n",
    "\n",
    "- [Sistemas de recomendación. Marmol Yahya, Juan Salvador](https://github.com/salvadormarmol/machine-learning-ms-2020/blob/master/no_supervisado/sistemas_de_recomendacion/Aprendizaje%20de%20m%C3%A1quina%20-%20Sistemas%20de%20recomendaci%C3%B3n.pdf)\n",
    "- [Collaborative Filtering. Brusilovsky, Peter](https://pitt.edu/~peterb/2480-122/CollaborativeFiltering.pdf)\n",
    "- [Matrix Factorization. Google developers](https://developers.google.com/machine-learning/recommendation/collaborative/matrix)\n",
    "- [Python: Implementing Matrix Factorization from Scratch!. Moore, Jacob](https://towardsdatascience.com/recommender-systems-in-python-from-scratch-643c8fc4f704)"
   ]
  },
  {
   "cell_type": "code",
   "execution_count": null,
   "metadata": {},
   "outputs": [],
   "source": []
  },
  {
   "cell_type": "code",
   "execution_count": null,
   "metadata": {},
   "outputs": [],
   "source": []
  },
  {
   "cell_type": "code",
   "execution_count": 50,
   "metadata": {},
   "outputs": [],
   "source": [
    "## Dummy dataset\n",
    "a = pd.DataFrame([\n",
    "\n",
    "     [1,5,3,0,1],\n",
    "\n",
    "     [2,4,0,0,1],\n",
    "\n",
    "     [3,1,1,0,5],\n",
    "\n",
    "     [4,1,0,0,4],\n",
    "\n",
    "     [5,0,1,5,4],\n",
    "    \n",
    "     [6,2,1,3,0],\n",
    "\n",
    "    ]).set_index(0)\n",
    "\n",
    "a.index.names = ['userId']\n",
    "a.columns.names = ['movieId']"
   ]
  },
  {
   "cell_type": "code",
   "execution_count": 51,
   "metadata": {},
   "outputs": [],
   "source": [
    "#predictions['rating'] = predictions['rating'].astype(int).apply(lambda x: ''.join('*' for _ in range(x)) if x > 0 else \"+\")"
   ]
  },
  {
   "cell_type": "code",
   "execution_count": 100,
   "metadata": {},
   "outputs": [],
   "source": [
    "predictions = (pd.DataFrame(recomm.matrix, columns = ratings.columns, index = ratings.index).\n",
    "               round().\n",
    "               unstack().\n",
    "               reset_index(name='rating').\n",
    "               set_index('userId').sort_index(axis = 0).\n",
    "               reset_index()\n",
    "              )"
   ]
  },
  {
   "cell_type": "code",
   "execution_count": 101,
   "metadata": {},
   "outputs": [],
   "source": [
    "a_full = (a.unstack().reset_index(name='rating').\n",
    "          merge(movies_data, on='movieId', how='inner'))"
   ]
  },
  {
   "cell_type": "code",
   "execution_count": 102,
   "metadata": {},
   "outputs": [],
   "source": [
    "user=1\n",
    "user_full = (a_full[a_full.userId == (user)].\n",
    "             sort_values('rating', ascending=False))"
   ]
  },
  {
   "cell_type": "code",
   "execution_count": 108,
   "metadata": {},
   "outputs": [],
   "source": [
    "pred = (user_full.merge(predictions, how = 'left', on = ['userId','movieId']).\n",
    "        rename(columns={'rating_x':'rating', 'rating_y':'Must see?'}))"
   ]
  },
  {
   "cell_type": "code",
   "execution_count": 110,
   "metadata": {},
   "outputs": [],
   "source": [
    "recommendations = pred[pred.rating == 0]"
   ]
  },
  {
   "cell_type": "code",
   "execution_count": 111,
   "metadata": {},
   "outputs": [
    {
     "data": {
      "text/html": [
       "<div>\n",
       "<style scoped>\n",
       "    .dataframe tbody tr th:only-of-type {\n",
       "        vertical-align: middle;\n",
       "    }\n",
       "\n",
       "    .dataframe tbody tr th {\n",
       "        vertical-align: top;\n",
       "    }\n",
       "\n",
       "    .dataframe thead th {\n",
       "        text-align: right;\n",
       "    }\n",
       "</style>\n",
       "<table border=\"1\" class=\"dataframe\">\n",
       "  <thead>\n",
       "    <tr style=\"text-align: right;\">\n",
       "      <th></th>\n",
       "      <th>movieId</th>\n",
       "      <th>userId</th>\n",
       "      <th>rating</th>\n",
       "      <th>genres</th>\n",
       "      <th>original_language</th>\n",
       "      <th>release_date</th>\n",
       "      <th>title</th>\n",
       "      <th>count</th>\n",
       "      <th>Must see?</th>\n",
       "    </tr>\n",
       "  </thead>\n",
       "  <tbody>\n",
       "    <tr>\n",
       "      <th>1</th>\n",
       "      <td>3</td>\n",
       "      <td>1</td>\n",
       "      <td>0</td>\n",
       "      <td>[Drama,  Comedy]</td>\n",
       "      <td>fi</td>\n",
       "      <td>1986-10-16</td>\n",
       "      <td>Shadows in Paradise</td>\n",
       "      <td>1</td>\n",
       "      <td>0.0</td>\n",
       "    </tr>\n",
       "  </tbody>\n",
       "</table>\n",
       "</div>"
      ],
      "text/plain": [
       "   movieId  userId  rating            genres original_language release_date  \\\n",
       "1        3       1       0  [Drama,  Comedy]                fi   1986-10-16   \n",
       "\n",
       "                 title  count  Must see?  \n",
       "1  Shadows in Paradise      1        0.0  "
      ]
     },
     "execution_count": 111,
     "metadata": {},
     "output_type": "execute_result"
    }
   ],
   "source": [
    "recommendations"
   ]
  },
  {
   "cell_type": "code",
   "execution_count": 99,
   "metadata": {},
   "outputs": [
    {
     "data": {
      "text/html": [
       "<div>\n",
       "<style scoped>\n",
       "    .dataframe tbody tr th:only-of-type {\n",
       "        vertical-align: middle;\n",
       "    }\n",
       "\n",
       "    .dataframe tbody tr th {\n",
       "        vertical-align: top;\n",
       "    }\n",
       "\n",
       "    .dataframe thead th {\n",
       "        text-align: right;\n",
       "    }\n",
       "</style>\n",
       "<table border=\"1\" class=\"dataframe\">\n",
       "  <thead>\n",
       "    <tr style=\"text-align: right;\">\n",
       "      <th></th>\n",
       "      <th>movieId</th>\n",
       "      <th>userId</th>\n",
       "      <th>rating</th>\n",
       "      <th>genres</th>\n",
       "      <th>original_language</th>\n",
       "      <th>release_date</th>\n",
       "      <th>title</th>\n",
       "      <th>count</th>\n",
       "    </tr>\n",
       "  </thead>\n",
       "  <tbody>\n",
       "    <tr>\n",
       "      <th>0</th>\n",
       "      <td>2</td>\n",
       "      <td>1</td>\n",
       "      <td>3</td>\n",
       "      <td>[Drama,  Crime]</td>\n",
       "      <td>fi</td>\n",
       "      <td>1988-10-21</td>\n",
       "      <td>Ariel</td>\n",
       "      <td>1</td>\n",
       "    </tr>\n",
       "    <tr>\n",
       "      <th>1</th>\n",
       "      <td>2</td>\n",
       "      <td>2</td>\n",
       "      <td>0</td>\n",
       "      <td>[Drama,  Crime]</td>\n",
       "      <td>fi</td>\n",
       "      <td>1988-10-21</td>\n",
       "      <td>Ariel</td>\n",
       "      <td>1</td>\n",
       "    </tr>\n",
       "    <tr>\n",
       "      <th>2</th>\n",
       "      <td>2</td>\n",
       "      <td>3</td>\n",
       "      <td>1</td>\n",
       "      <td>[Drama,  Crime]</td>\n",
       "      <td>fi</td>\n",
       "      <td>1988-10-21</td>\n",
       "      <td>Ariel</td>\n",
       "      <td>1</td>\n",
       "    </tr>\n",
       "    <tr>\n",
       "      <th>3</th>\n",
       "      <td>2</td>\n",
       "      <td>4</td>\n",
       "      <td>0</td>\n",
       "      <td>[Drama,  Crime]</td>\n",
       "      <td>fi</td>\n",
       "      <td>1988-10-21</td>\n",
       "      <td>Ariel</td>\n",
       "      <td>1</td>\n",
       "    </tr>\n",
       "    <tr>\n",
       "      <th>4</th>\n",
       "      <td>2</td>\n",
       "      <td>5</td>\n",
       "      <td>1</td>\n",
       "      <td>[Drama,  Crime]</td>\n",
       "      <td>fi</td>\n",
       "      <td>1988-10-21</td>\n",
       "      <td>Ariel</td>\n",
       "      <td>1</td>\n",
       "    </tr>\n",
       "    <tr>\n",
       "      <th>5</th>\n",
       "      <td>2</td>\n",
       "      <td>6</td>\n",
       "      <td>1</td>\n",
       "      <td>[Drama,  Crime]</td>\n",
       "      <td>fi</td>\n",
       "      <td>1988-10-21</td>\n",
       "      <td>Ariel</td>\n",
       "      <td>1</td>\n",
       "    </tr>\n",
       "    <tr>\n",
       "      <th>6</th>\n",
       "      <td>3</td>\n",
       "      <td>1</td>\n",
       "      <td>0</td>\n",
       "      <td>[Drama,  Comedy]</td>\n",
       "      <td>fi</td>\n",
       "      <td>1986-10-16</td>\n",
       "      <td>Shadows in Paradise</td>\n",
       "      <td>1</td>\n",
       "    </tr>\n",
       "    <tr>\n",
       "      <th>7</th>\n",
       "      <td>3</td>\n",
       "      <td>2</td>\n",
       "      <td>0</td>\n",
       "      <td>[Drama,  Comedy]</td>\n",
       "      <td>fi</td>\n",
       "      <td>1986-10-16</td>\n",
       "      <td>Shadows in Paradise</td>\n",
       "      <td>1</td>\n",
       "    </tr>\n",
       "    <tr>\n",
       "      <th>8</th>\n",
       "      <td>3</td>\n",
       "      <td>3</td>\n",
       "      <td>0</td>\n",
       "      <td>[Drama,  Comedy]</td>\n",
       "      <td>fi</td>\n",
       "      <td>1986-10-16</td>\n",
       "      <td>Shadows in Paradise</td>\n",
       "      <td>1</td>\n",
       "    </tr>\n",
       "    <tr>\n",
       "      <th>9</th>\n",
       "      <td>3</td>\n",
       "      <td>4</td>\n",
       "      <td>0</td>\n",
       "      <td>[Drama,  Comedy]</td>\n",
       "      <td>fi</td>\n",
       "      <td>1986-10-16</td>\n",
       "      <td>Shadows in Paradise</td>\n",
       "      <td>1</td>\n",
       "    </tr>\n",
       "    <tr>\n",
       "      <th>10</th>\n",
       "      <td>3</td>\n",
       "      <td>5</td>\n",
       "      <td>5</td>\n",
       "      <td>[Drama,  Comedy]</td>\n",
       "      <td>fi</td>\n",
       "      <td>1986-10-16</td>\n",
       "      <td>Shadows in Paradise</td>\n",
       "      <td>1</td>\n",
       "    </tr>\n",
       "    <tr>\n",
       "      <th>11</th>\n",
       "      <td>3</td>\n",
       "      <td>6</td>\n",
       "      <td>3</td>\n",
       "      <td>[Drama,  Comedy]</td>\n",
       "      <td>fi</td>\n",
       "      <td>1986-10-16</td>\n",
       "      <td>Shadows in Paradise</td>\n",
       "      <td>1</td>\n",
       "    </tr>\n",
       "  </tbody>\n",
       "</table>\n",
       "</div>"
      ],
      "text/plain": [
       "    movieId  userId  rating            genres original_language release_date  \\\n",
       "0         2       1       3   [Drama,  Crime]                fi   1988-10-21   \n",
       "1         2       2       0   [Drama,  Crime]                fi   1988-10-21   \n",
       "2         2       3       1   [Drama,  Crime]                fi   1988-10-21   \n",
       "3         2       4       0   [Drama,  Crime]                fi   1988-10-21   \n",
       "4         2       5       1   [Drama,  Crime]                fi   1988-10-21   \n",
       "5         2       6       1   [Drama,  Crime]                fi   1988-10-21   \n",
       "6         3       1       0  [Drama,  Comedy]                fi   1986-10-16   \n",
       "7         3       2       0  [Drama,  Comedy]                fi   1986-10-16   \n",
       "8         3       3       0  [Drama,  Comedy]                fi   1986-10-16   \n",
       "9         3       4       0  [Drama,  Comedy]                fi   1986-10-16   \n",
       "10        3       5       5  [Drama,  Comedy]                fi   1986-10-16   \n",
       "11        3       6       3  [Drama,  Comedy]                fi   1986-10-16   \n",
       "\n",
       "                  title  count  \n",
       "0                 Ariel      1  \n",
       "1                 Ariel      1  \n",
       "2                 Ariel      1  \n",
       "3                 Ariel      1  \n",
       "4                 Ariel      1  \n",
       "5                 Ariel      1  \n",
       "6   Shadows in Paradise      1  \n",
       "7   Shadows in Paradise      1  \n",
       "8   Shadows in Paradise      1  \n",
       "9   Shadows in Paradise      1  \n",
       "10  Shadows in Paradise      1  \n",
       "11  Shadows in Paradise      1  "
      ]
     },
     "execution_count": 99,
     "metadata": {},
     "output_type": "execute_result"
    }
   ],
   "source": [
    "a_full"
   ]
  },
  {
   "cell_type": "code",
   "execution_count": null,
   "metadata": {},
   "outputs": [],
   "source": []
  }
 ],
 "metadata": {
  "kernelspec": {
   "display_name": "Python 3",
   "language": "python",
   "name": "python3"
  },
  "language_info": {
   "codemirror_mode": {
    "name": "ipython",
    "version": 3
   },
   "file_extension": ".py",
   "mimetype": "text/x-python",
   "name": "python",
   "nbconvert_exporter": "python",
   "pygments_lexer": "ipython3",
   "version": "3.6.5"
  }
 },
 "nbformat": 4,
 "nbformat_minor": 4
}
