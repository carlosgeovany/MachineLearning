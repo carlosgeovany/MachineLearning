{
 "cells": [
  {
   "cell_type": "markdown",
   "metadata": {},
   "source": [
    "# Recommender System by collaborative filtering\n",
    "\n",
    "## Team 1\n",
    "\n",
    "- EDGAR BAZO PEREZ\n",
    "- CARLOS GEOVANY PEREZ VELAZQUEZ\n",
    "- ITA-ANDEHUI SANTIAGO CASTILLEJOS\n",
    "\n",
    "This proyect objective is to implement collaborative filtering recommender system by matrix factorization algorithm. The problem consist in try to solve how Netflix is able to determine what content you’re likely to enjoy on its platform.\n",
    "\n",
    "We will test and train the model with both dummy and Netflix movies dataset."
   ]
  },
  {
   "cell_type": "markdown",
   "metadata": {},
   "source": [
    "### Collaborative Filtering\n",
    "As there are many aproaches to this problem, we will be focusing on Collaborative filtering. **Collaborative filtering does not concern itself with non-abstract features of an item, but rather uses the wisdom of the crowd to generate recommendations.** This methodology core idea is to predict how well a user will like an item that he has not rated given a set of historical preference judgments for a community of users. So we will have a user as an individual who provides movies ratings to the system and movies rated by the users.\n",
    "\n",
    "The input for the Collaborative Filtering prediction algorithm will be a matrix of users’ ratings on movies, the **ratings matrix.**\n",
    "\n"
   ]
  },
  {
   "cell_type": "markdown",
   "metadata": {},
   "source": [
    "### Matrix Factorization\n",
    "\n",
    "Matrix factorization is a embedding model. Given the feedback matrix $D \\in R^{axi}$ , where $a$ is the number of users and $i$ is the number of movies:\n",
    "\n",
    "$$\n",
    "\\begin{bmatrix}\n",
    "U1M1 & U1M2 \\\\\n",
    "U2M1 & U2M2 \\\\\n",
    "U3M1 & U3M2\n",
    "\\end{bmatrix}\n",
    "x\n",
    "\\begin{bmatrix}\n",
    "M1R1 & M1R2 & M1R3 \\\\\n",
    "M2R1 & M2R2 & M2R3\n",
    "\\end{bmatrix}\n",
    "=\n",
    "\\begin{bmatrix}\n",
    "U1R1 & U1R2 & U1R3 \\\\\n",
    "U2R1 & U2R2 & U2R3\\\\\n",
    "U3R1 & U3R2 & U3R3\n",
    "\\end{bmatrix}\n",
    "$$\n",
    "\n",
    "\n",
    "- A user embedding matrix , where row i is the embedding for user i.\n",
    "- An movie embedding matrix , where row j is the embedding for movie j.\n",
    "\n",
    "The embeddings are learned such that the product $UV^T$ is a good approximation of the recommendation matrix $D$. As a result, matrix factorization finds latent structure in the data, assuming that observations lie close to a low-dimensional subspace."
   ]
  },
  {
   "cell_type": "markdown",
   "metadata": {},
   "source": [
    "## Objective Function\n",
    "\n",
    "$$D = {(a,i) |  Y_{ai} \\text{ es dada}}$$\n",
    "\n",
    "\n",
    "$$J(X) = \\frac{1}{2} \\sum_{(a,i)\\in D} (Y_{ai} - [UV^T]ai)^2 + \\frac{\\lambda}{2} \\sum_{a=1}^n\\sum_{j=1}^k U_{aj^2}$$\n",
    "\n",
    "\n",
    "The core idea is to create parameters and iteratively update them to minimize some cost function, like in gradient descent: Minimizr our objective function.\n",
    "\n",
    "- Start randomly V and U\n",
    "- Fix U and solve for V\n",
    "- Fix V and solve for U\n",
    "- Find loss and repeat until converge(find local minimum)"
   ]
  },
  {
   "cell_type": "code",
   "execution_count": 1,
   "metadata": {},
   "outputs": [],
   "source": [
    "import re\n",
    "import statistics\n",
    "import numpy as np\n",
    "import pandas as pd\n",
    "\n",
    "\n",
    "import matplotlib.pyplot as plt\n",
    "import seaborn as sns\n",
    "from sklearn.model_selection import train_test_split\n",
    "from sklearn.metrics import accuracy_score\n",
    "\n",
    "\n",
    "\n",
    "from recommender import MatrixFactorization, grid_search #our very own recommender system and grid search function\n",
    "import cart ## our classification and regresion tree\n",
    "\n",
    "\n",
    "np.random.seed(seed=1983)\n",
    "pd.set_option(\"display.max_columns\", 10)"
   ]
  },
  {
   "cell_type": "markdown",
   "metadata": {},
   "source": [
    "## Netflix ratings DB EDA"
   ]
  },
  {
   "cell_type": "code",
   "execution_count": 2,
   "metadata": {},
   "outputs": [],
   "source": [
    "ratings = pd.read_csv(\"data/ratings_small.csv\")"
   ]
  },
  {
   "cell_type": "code",
   "execution_count": 3,
   "metadata": {},
   "outputs": [],
   "source": [
    "##Columns not needed\n",
    "ratings.drop('timestamp', axis=1, inplace=True)"
   ]
  },
  {
   "cell_type": "code",
   "execution_count": 4,
   "metadata": {},
   "outputs": [],
   "source": [
    "## Order by movieId\n",
    "ratings.sort_values('movieId', inplace=True)"
   ]
  },
  {
   "cell_type": "code",
   "execution_count": 5,
   "metadata": {},
   "outputs": [
    {
     "name": "stdout",
     "output_type": "stream",
     "text": [
      "<class 'pandas.core.frame.DataFrame'>\n",
      "Int64Index: 100004 entries, 9713 to 80823\n",
      "Data columns (total 3 columns):\n",
      " #   Column   Non-Null Count   Dtype  \n",
      "---  ------   --------------   -----  \n",
      " 0   userId   100004 non-null  int64  \n",
      " 1   movieId  100004 non-null  int64  \n",
      " 2   rating   100004 non-null  float64\n",
      "dtypes: float64(1), int64(2)\n",
      "memory usage: 3.1 MB\n"
     ]
    }
   ],
   "source": [
    "ratings.info()"
   ]
  },
  {
   "cell_type": "code",
   "execution_count": 6,
   "metadata": {},
   "outputs": [
    {
     "data": {
      "text/html": [
       "<div>\n",
       "<style scoped>\n",
       "    .dataframe tbody tr th:only-of-type {\n",
       "        vertical-align: middle;\n",
       "    }\n",
       "\n",
       "    .dataframe tbody tr th {\n",
       "        vertical-align: top;\n",
       "    }\n",
       "\n",
       "    .dataframe thead th {\n",
       "        text-align: right;\n",
       "    }\n",
       "</style>\n",
       "<table border=\"1\" class=\"dataframe\">\n",
       "  <thead>\n",
       "    <tr style=\"text-align: right;\">\n",
       "      <th></th>\n",
       "      <th>userId</th>\n",
       "      <th>movieId</th>\n",
       "      <th>rating</th>\n",
       "    </tr>\n",
       "  </thead>\n",
       "  <tbody>\n",
       "    <tr>\n",
       "      <th>9713</th>\n",
       "      <td>68</td>\n",
       "      <td>1</td>\n",
       "      <td>4.0</td>\n",
       "    </tr>\n",
       "    <tr>\n",
       "      <th>35933</th>\n",
       "      <td>261</td>\n",
       "      <td>1</td>\n",
       "      <td>1.5</td>\n",
       "    </tr>\n",
       "    <tr>\n",
       "      <th>52631</th>\n",
       "      <td>383</td>\n",
       "      <td>1</td>\n",
       "      <td>5.0</td>\n",
       "    </tr>\n",
       "    <tr>\n",
       "      <th>35983</th>\n",
       "      <td>262</td>\n",
       "      <td>1</td>\n",
       "      <td>2.5</td>\n",
       "    </tr>\n",
       "    <tr>\n",
       "      <th>12038</th>\n",
       "      <td>77</td>\n",
       "      <td>1</td>\n",
       "      <td>4.0</td>\n",
       "    </tr>\n",
       "  </tbody>\n",
       "</table>\n",
       "</div>"
      ],
      "text/plain": [
       "       userId  movieId  rating\n",
       "9713       68        1     4.0\n",
       "35933     261        1     1.5\n",
       "52631     383        1     5.0\n",
       "35983     262        1     2.5\n",
       "12038      77        1     4.0"
      ]
     },
     "execution_count": 6,
     "metadata": {},
     "output_type": "execute_result"
    }
   ],
   "source": [
    "ratings.head()"
   ]
  },
  {
   "cell_type": "code",
   "execution_count": 7,
   "metadata": {},
   "outputs": [
    {
     "data": {
      "text/plain": [
       "9066"
      ]
     },
     "execution_count": 7,
     "metadata": {},
     "output_type": "execute_result"
    }
   ],
   "source": [
    "## Number of movies\n",
    "len(ratings['movieId'].unique())"
   ]
  },
  {
   "cell_type": "code",
   "execution_count": 8,
   "metadata": {},
   "outputs": [
    {
     "data": {
      "text/plain": [
       "671"
      ]
     },
     "execution_count": 8,
     "metadata": {},
     "output_type": "execute_result"
    }
   ],
   "source": [
    "## Number of users\n",
    "len(ratings['userId'].unique())"
   ]
  },
  {
   "cell_type": "code",
   "execution_count": 9,
   "metadata": {},
   "outputs": [
    {
     "data": {
      "text/plain": [
       "149.03725782414307"
      ]
     },
     "execution_count": 9,
     "metadata": {},
     "output_type": "execute_result"
    }
   ],
   "source": [
    "## Average number of movies rated per user\n",
    "ratings_per_user = ratings.groupby('userId')['rating'].count()\n",
    "statistics.mean(ratings_per_user.tolist())"
   ]
  },
  {
   "cell_type": "markdown",
   "metadata": {},
   "source": [
    "### Distribution of ratings per user"
   ]
  },
  {
   "cell_type": "code",
   "execution_count": 10,
   "metadata": {},
   "outputs": [
    {
     "data": {
      "image/png": "[encoded data removed]",
      "text/plain": [
       "<Figure size 792x432 with 1 Axes>"
      ]
     },
     "metadata": {
      "needs_background": "light"
     },
     "output_type": "display_data"
    }
   ],
   "source": [
    "plt.figure(figsize = (11, 6))\n",
    "ratings_per_user.hist(bins=20,  histtype='bar', ec='black')\n",
    "plt.title(\"Movies ratings per user\")\n",
    "plt.grid(False)\n",
    "\n",
    "plt.show()"
   ]
  },
  {
   "cell_type": "code",
   "execution_count": 11,
   "metadata": {},
   "outputs": [
    {
     "data": {
      "text/plain": [
       "11.030664019413193"
      ]
     },
     "execution_count": 11,
     "metadata": {},
     "output_type": "execute_result"
    }
   ],
   "source": [
    "## Average number of ratings given to movies\n",
    "ratings_per_movie = ratings.groupby('movieId')['rating'].count()\n",
    "statistics.mean(ratings_per_movie.tolist())"
   ]
  },
  {
   "cell_type": "markdown",
   "metadata": {},
   "source": [
    "### Distribution of ratings per movie"
   ]
  },
  {
   "cell_type": "code",
   "execution_count": 12,
   "metadata": {},
   "outputs": [
    {
     "data": {
      "image/png": "[encoded data removed]",
      "text/plain": [
       "<Figure size 792x432 with 1 Axes>"
      ]
     },
     "metadata": {
      "needs_background": "light"
     },
     "output_type": "display_data"
    }
   ],
   "source": [
    "plt.figure(figsize = (11, 6))\n",
    "ratings_per_movie.hist(bins=20, range=(0,200),  histtype='bar', ec='black')\n",
    "plt.title(\"Rating movies per user\")\n",
    "plt.grid(False)\n",
    "plt.show()"
   ]
  },
  {
   "cell_type": "code",
   "execution_count": 13,
   "metadata": {},
   "outputs": [
    {
     "data": {
      "image/png": "[encoded data removed]",
      "text/plain": [
       "<Figure size 792x432 with 1 Axes>"
      ]
     },
     "metadata": {
      "needs_background": "light"
     },
     "output_type": "display_data"
    }
   ],
   "source": [
    "plt.figure(figsize = (11, 6))\n",
    "sns.countplot(x=\"rating\", data=ratings)\n",
    "plt.tick_params(labelsize = 15)\n",
    "plt.title(\"Count Ratings\", fontsize = 20)\n",
    "plt.xlabel(\"Ratings\", fontsize = 20)\n",
    "plt.ylabel(\"Number of Ratings\", fontsize = 20)\n",
    "plt.show()"
   ]
  },
  {
   "cell_type": "code",
   "execution_count": 14,
   "metadata": {},
   "outputs": [
    {
     "data": {
      "text/plain": [
       "userId\n",
       "547    2391\n",
       "564    1868\n",
       "624    1735\n",
       "15     1700\n",
       "73     1610\n",
       "Name: rating, dtype: int64"
      ]
     },
     "execution_count": 14,
     "metadata": {},
     "output_type": "execute_result"
    }
   ],
   "source": [
    "## Group by userid and count the numbers of movies rated by that user\n",
    "ratings.groupby(\"userId\")[\"rating\"].count().sort_values(ascending = False).head()"
   ]
  },
  {
   "cell_type": "code",
   "execution_count": 15,
   "metadata": {},
   "outputs": [
    {
     "data": {
      "text/plain": [
       "movieId\n",
       "356    341\n",
       "296    324\n",
       "318    311\n",
       "593    304\n",
       "260    291\n",
       "Name: rating, dtype: int64"
      ]
     },
     "execution_count": 15,
     "metadata": {},
     "output_type": "execute_result"
    }
   ],
   "source": [
    "## Group by movies and count the number of users rated that movie\n",
    "ratings.groupby(\"movieId\")[\"rating\"].count().sort_values(ascending = False).head()"
   ]
  },
  {
   "cell_type": "markdown",
   "metadata": {},
   "source": [
    "### Is essential to filter out movies and users with low exposure to remove some of the noise from outliers"
   ]
  },
  {
   "cell_type": "code",
   "execution_count": 16,
   "metadata": {},
   "outputs": [],
   "source": [
    "min_movie_ratings = 10 #a movie has was rated at least \n",
    "min_user_ratings =  10 #a user rated movies at least\n",
    "\n",
    "ratings = ratings.groupby(\"movieId\").filter(lambda x: x['movieId'].count() >= min_movie_ratings)\n",
    "ratings = ratings.groupby(\"userId\").filter(lambda x: x['userId'].count() >= min_user_ratings)"
   ]
  },
  {
   "cell_type": "code",
   "execution_count": 17,
   "metadata": {},
   "outputs": [],
   "source": [
    "## pivot df to get the matrix Yai\n",
    "ratings = pd.pivot_table(data=ratings,index=['userId'], columns=['movieId'], values=['rating'], aggfunc=np.sum)"
   ]
  },
  {
   "cell_type": "code",
   "execution_count": 18,
   "metadata": {},
   "outputs": [],
   "source": [
    "## replace NAN with zero\n",
    "ratings = ratings.fillna(0)"
   ]
  },
  {
   "cell_type": "code",
   "execution_count": 19,
   "metadata": {},
   "outputs": [
    {
     "data": {
      "text/plain": [
       "(670, 2245)"
      ]
     },
     "execution_count": 19,
     "metadata": {},
     "output_type": "execute_result"
    }
   ],
   "source": [
    "ratings.shape"
   ]
  },
  {
   "cell_type": "code",
   "execution_count": 20,
   "metadata": {},
   "outputs": [
    {
     "data": {
      "text/html": [
       "<div>\n",
       "<style scoped>\n",
       "    .dataframe tbody tr th:only-of-type {\n",
       "        vertical-align: middle;\n",
       "    }\n",
       "\n",
       "    .dataframe tbody tr th {\n",
       "        vertical-align: top;\n",
       "    }\n",
       "\n",
       "    .dataframe thead tr th {\n",
       "        text-align: left;\n",
       "    }\n",
       "\n",
       "    .dataframe thead tr:last-of-type th {\n",
       "        text-align: right;\n",
       "    }\n",
       "</style>\n",
       "<table border=\"1\" class=\"dataframe\">\n",
       "  <thead>\n",
       "    <tr>\n",
       "      <th></th>\n",
       "      <th colspan=\"11\" halign=\"left\">rating</th>\n",
       "    </tr>\n",
       "    <tr>\n",
       "      <th>movieId</th>\n",
       "      <th>1</th>\n",
       "      <th>2</th>\n",
       "      <th>3</th>\n",
       "      <th>4</th>\n",
       "      <th>5</th>\n",
       "      <th>...</th>\n",
       "      <th>122904</th>\n",
       "      <th>134130</th>\n",
       "      <th>134853</th>\n",
       "      <th>139385</th>\n",
       "      <th>148626</th>\n",
       "    </tr>\n",
       "    <tr>\n",
       "      <th>userId</th>\n",
       "      <th></th>\n",
       "      <th></th>\n",
       "      <th></th>\n",
       "      <th></th>\n",
       "      <th></th>\n",
       "      <th></th>\n",
       "      <th></th>\n",
       "      <th></th>\n",
       "      <th></th>\n",
       "      <th></th>\n",
       "      <th></th>\n",
       "    </tr>\n",
       "  </thead>\n",
       "  <tbody>\n",
       "    <tr>\n",
       "      <th>1</th>\n",
       "      <td>0.0</td>\n",
       "      <td>0.0</td>\n",
       "      <td>0.0</td>\n",
       "      <td>0.0</td>\n",
       "      <td>0.0</td>\n",
       "      <td>...</td>\n",
       "      <td>0.0</td>\n",
       "      <td>0.0</td>\n",
       "      <td>0.0</td>\n",
       "      <td>0.0</td>\n",
       "      <td>0.0</td>\n",
       "    </tr>\n",
       "    <tr>\n",
       "      <th>2</th>\n",
       "      <td>0.0</td>\n",
       "      <td>0.0</td>\n",
       "      <td>0.0</td>\n",
       "      <td>0.0</td>\n",
       "      <td>0.0</td>\n",
       "      <td>...</td>\n",
       "      <td>0.0</td>\n",
       "      <td>0.0</td>\n",
       "      <td>0.0</td>\n",
       "      <td>0.0</td>\n",
       "      <td>0.0</td>\n",
       "    </tr>\n",
       "    <tr>\n",
       "      <th>3</th>\n",
       "      <td>0.0</td>\n",
       "      <td>0.0</td>\n",
       "      <td>0.0</td>\n",
       "      <td>0.0</td>\n",
       "      <td>0.0</td>\n",
       "      <td>...</td>\n",
       "      <td>0.0</td>\n",
       "      <td>0.0</td>\n",
       "      <td>0.0</td>\n",
       "      <td>0.0</td>\n",
       "      <td>0.0</td>\n",
       "    </tr>\n",
       "    <tr>\n",
       "      <th>4</th>\n",
       "      <td>0.0</td>\n",
       "      <td>0.0</td>\n",
       "      <td>0.0</td>\n",
       "      <td>0.0</td>\n",
       "      <td>0.0</td>\n",
       "      <td>...</td>\n",
       "      <td>0.0</td>\n",
       "      <td>0.0</td>\n",
       "      <td>0.0</td>\n",
       "      <td>0.0</td>\n",
       "      <td>0.0</td>\n",
       "    </tr>\n",
       "    <tr>\n",
       "      <th>5</th>\n",
       "      <td>0.0</td>\n",
       "      <td>0.0</td>\n",
       "      <td>4.0</td>\n",
       "      <td>0.0</td>\n",
       "      <td>0.0</td>\n",
       "      <td>...</td>\n",
       "      <td>0.0</td>\n",
       "      <td>0.0</td>\n",
       "      <td>0.0</td>\n",
       "      <td>0.0</td>\n",
       "      <td>0.0</td>\n",
       "    </tr>\n",
       "  </tbody>\n",
       "</table>\n",
       "<p>5 rows × 2245 columns</p>\n",
       "</div>"
      ],
      "text/plain": [
       "        rating                              ...                              \\\n",
       "movieId 1      2      3      4      5       ... 122904 134130 134853 139385   \n",
       "userId                                      ...                               \n",
       "1          0.0    0.0    0.0    0.0    0.0  ...    0.0    0.0    0.0    0.0   \n",
       "2          0.0    0.0    0.0    0.0    0.0  ...    0.0    0.0    0.0    0.0   \n",
       "3          0.0    0.0    0.0    0.0    0.0  ...    0.0    0.0    0.0    0.0   \n",
       "4          0.0    0.0    0.0    0.0    0.0  ...    0.0    0.0    0.0    0.0   \n",
       "5          0.0    0.0    4.0    0.0    0.0  ...    0.0    0.0    0.0    0.0   \n",
       "\n",
       "                \n",
       "movieId 148626  \n",
       "userId          \n",
       "1          0.0  \n",
       "2          0.0  \n",
       "3          0.0  \n",
       "4          0.0  \n",
       "5          0.0  \n",
       "\n",
       "[5 rows x 2245 columns]"
      ]
     },
     "execution_count": 20,
     "metadata": {},
     "output_type": "execute_result"
    }
   ],
   "source": [
    "ratings.head(5)"
   ]
  },
  {
   "cell_type": "markdown",
   "metadata": {},
   "source": [
    "### Netfilx movies DB EDA"
   ]
  },
  {
   "cell_type": "code",
   "execution_count": 21,
   "metadata": {},
   "outputs": [],
   "source": [
    "movies_data = pd.read_csv(\"data/movies_metadata.csv\", usecols=['genres','id','title','original_language','release_date', 'budget', 'runtime'])"
   ]
  },
  {
   "cell_type": "code",
   "execution_count": 22,
   "metadata": {},
   "outputs": [],
   "source": [
    "## Remove id and name from string\n",
    "movies_data['genres'].replace({'id': ''}, inplace=True, regex=True)\n",
    "movies_data['genres'].replace({'name': ''}, inplace=True, regex=True)\n",
    "movies_data['genres'].replace({'\\d+': ''}, inplace=True, regex=True)\n",
    "## Remove special characters\n",
    "movies_data['genres'].replace({'\\W+': ' '}, inplace=True, regex=True)\n",
    "## Remove leading and trailing blanks\n",
    "movies_data['genres'] = movies_data['genres'].str.strip()\n",
    "## Formatiing the string\n",
    "movies_data['genres'].replace({' ': ', '}, inplace=True, regex=True)\n",
    "## split in to a list\n",
    "movies_data['genres'] = [x.strip('()').split(',') for x in movies_data['genres']]"
   ]
  },
  {
   "cell_type": "code",
   "execution_count": 23,
   "metadata": {},
   "outputs": [],
   "source": [
    "## Cleaning id column\n",
    "movies_data.drop(movies_data[movies_data['id'].str.contains(\"-\")].index, inplace = True)\n",
    "movies_data['id'] = movies_data['id'].astype('int64')\n",
    "## Rename id column to movieId\n",
    "movies_data.rename(columns={'id': 'movieId'}, inplace=True)"
   ]
  },
  {
   "cell_type": "code",
   "execution_count": 24,
   "metadata": {},
   "outputs": [
    {
     "data": {
      "text/html": [
       "<div>\n",
       "<style scoped>\n",
       "    .dataframe tbody tr th:only-of-type {\n",
       "        vertical-align: middle;\n",
       "    }\n",
       "\n",
       "    .dataframe tbody tr th {\n",
       "        vertical-align: top;\n",
       "    }\n",
       "\n",
       "    .dataframe thead th {\n",
       "        text-align: right;\n",
       "    }\n",
       "</style>\n",
       "<table border=\"1\" class=\"dataframe\">\n",
       "  <thead>\n",
       "    <tr style=\"text-align: right;\">\n",
       "      <th></th>\n",
       "      <th>budget</th>\n",
       "      <th>genres</th>\n",
       "      <th>movieId</th>\n",
       "      <th>original_language</th>\n",
       "      <th>release_date</th>\n",
       "      <th>runtime</th>\n",
       "      <th>title</th>\n",
       "    </tr>\n",
       "  </thead>\n",
       "  <tbody>\n",
       "    <tr>\n",
       "      <th>0</th>\n",
       "      <td>30000000</td>\n",
       "      <td>[Animation,  Comedy,  Family]</td>\n",
       "      <td>862</td>\n",
       "      <td>en</td>\n",
       "      <td>1995-10-30</td>\n",
       "      <td>81.0</td>\n",
       "      <td>Toy Story</td>\n",
       "    </tr>\n",
       "    <tr>\n",
       "      <th>1</th>\n",
       "      <td>65000000</td>\n",
       "      <td>[Adventure,  Fantasy,  Family]</td>\n",
       "      <td>8844</td>\n",
       "      <td>en</td>\n",
       "      <td>1995-12-15</td>\n",
       "      <td>104.0</td>\n",
       "      <td>Jumanji</td>\n",
       "    </tr>\n",
       "    <tr>\n",
       "      <th>2</th>\n",
       "      <td>0</td>\n",
       "      <td>[Romance,  Comedy]</td>\n",
       "      <td>15602</td>\n",
       "      <td>en</td>\n",
       "      <td>1995-12-22</td>\n",
       "      <td>101.0</td>\n",
       "      <td>Grumpier Old Men</td>\n",
       "    </tr>\n",
       "    <tr>\n",
       "      <th>3</th>\n",
       "      <td>16000000</td>\n",
       "      <td>[Comedy,  Drama,  Romance]</td>\n",
       "      <td>31357</td>\n",
       "      <td>en</td>\n",
       "      <td>1995-12-22</td>\n",
       "      <td>127.0</td>\n",
       "      <td>Waiting to Exhale</td>\n",
       "    </tr>\n",
       "    <tr>\n",
       "      <th>4</th>\n",
       "      <td>0</td>\n",
       "      <td>[Comedy]</td>\n",
       "      <td>11862</td>\n",
       "      <td>en</td>\n",
       "      <td>1995-02-10</td>\n",
       "      <td>106.0</td>\n",
       "      <td>Father of the Bride Part II</td>\n",
       "    </tr>\n",
       "  </tbody>\n",
       "</table>\n",
       "</div>"
      ],
      "text/plain": [
       "     budget                          genres  movieId original_language  \\\n",
       "0  30000000   [Animation,  Comedy,  Family]      862                en   \n",
       "1  65000000  [Adventure,  Fantasy,  Family]     8844                en   \n",
       "2         0              [Romance,  Comedy]    15602                en   \n",
       "3  16000000      [Comedy,  Drama,  Romance]    31357                en   \n",
       "4         0                        [Comedy]    11862                en   \n",
       "\n",
       "  release_date  runtime                        title  \n",
       "0   1995-10-30     81.0                    Toy Story  \n",
       "1   1995-12-15    104.0                      Jumanji  \n",
       "2   1995-12-22    101.0             Grumpier Old Men  \n",
       "3   1995-12-22    127.0            Waiting to Exhale  \n",
       "4   1995-02-10    106.0  Father of the Bride Part II  "
      ]
     },
     "execution_count": 24,
     "metadata": {},
     "output_type": "execute_result"
    }
   ],
   "source": [
    "movies_data.head()"
   ]
  },
  {
   "cell_type": "markdown",
   "metadata": {},
   "source": [
    "### Amount of movies by Language"
   ]
  },
  {
   "cell_type": "code",
   "execution_count": 25,
   "metadata": {},
   "outputs": [
    {
     "data": {
      "image/png": "[encoded data removed]",
      "text/plain": [
       "<Figure size 792x432 with 1 Axes>"
      ]
     },
     "metadata": {
      "needs_background": "light"
     },
     "output_type": "display_data"
    }
   ],
   "source": [
    "## Plot movies by original language\n",
    "plt.figure(figsize = (11, 6))\n",
    "sns.countplot(data=movies_data,\n",
    "              order=movies_data.original_language.value_counts().iloc[:10].index,\n",
    "              y='original_language')\n",
    "plt.tick_params(labelsize = 15)\n",
    "plt.title(\"Top 10 Movies by Language\", fontsize = 20)\n",
    "plt.xlabel(\"Movies\", fontsize = 20)\n",
    "plt.ylabel(\"Language\", fontsize = 20)\n",
    "plt.show()"
   ]
  },
  {
   "cell_type": "markdown",
   "metadata": {},
   "source": [
    "### Amount of movies by genre"
   ]
  },
  {
   "cell_type": "code",
   "execution_count": 26,
   "metadata": {},
   "outputs": [
    {
     "data": {
      "image/png": "[encoded data removed]",
      "text/plain": [
       "<Figure size 792x432 with 1 Axes>"
      ]
     },
     "metadata": {
      "needs_background": "light"
     },
     "output_type": "display_data"
    }
   ],
   "source": [
    "by_genres = movies_data.set_index('title').genres.map(lambda x: x[0]).reset_index()\n",
    "plt.figure(figsize=(11,6))\n",
    "sns.countplot(data=by_genres,\n",
    "              order=by_genres.genres.value_counts().iloc[:10].index,\n",
    "              y='genres')\n",
    "plt.title('Top 10 Genres on Netflix')\n",
    "plt.xlabel('Movies')\n",
    "plt.ylabel('Genres')\n",
    "plt.show()"
   ]
  },
  {
   "cell_type": "markdown",
   "metadata": {},
   "source": [
    "## Movies Time series"
   ]
  },
  {
   "cell_type": "code",
   "execution_count": 27,
   "metadata": {},
   "outputs": [],
   "source": [
    "## Counter for movies date\n",
    "movies_data['count'] = 1"
   ]
  },
  {
   "cell_type": "code",
   "execution_count": 28,
   "metadata": {},
   "outputs": [],
   "source": [
    "## Transform column to date type\n",
    "movies_data['release_date'] =  pd.to_datetime(movies_data['release_date'], format='%Y-%m-%d')"
   ]
  },
  {
   "cell_type": "code",
   "execution_count": 29,
   "metadata": {},
   "outputs": [
    {
     "data": {
      "text/plain": [
       "(Timestamp('1874-12-09 00:00:00'), Timestamp('2020-12-16 00:00:00'))"
      ]
     },
     "execution_count": 29,
     "metadata": {},
     "output_type": "execute_result"
    }
   ],
   "source": [
    "movies_data['release_date'].min(), movies_data['release_date'].max()"
   ]
  },
  {
   "cell_type": "code",
   "execution_count": 30,
   "metadata": {},
   "outputs": [
    {
     "data": {
      "text/html": [
       "<div>\n",
       "<style scoped>\n",
       "    .dataframe tbody tr th:only-of-type {\n",
       "        vertical-align: middle;\n",
       "    }\n",
       "\n",
       "    .dataframe tbody tr th {\n",
       "        vertical-align: top;\n",
       "    }\n",
       "\n",
       "    .dataframe thead th {\n",
       "        text-align: right;\n",
       "    }\n",
       "</style>\n",
       "<table border=\"1\" class=\"dataframe\">\n",
       "  <thead>\n",
       "    <tr style=\"text-align: right;\">\n",
       "      <th></th>\n",
       "      <th>budget</th>\n",
       "      <th>genres</th>\n",
       "      <th>movieId</th>\n",
       "      <th>original_language</th>\n",
       "      <th>release_date</th>\n",
       "      <th>runtime</th>\n",
       "      <th>title</th>\n",
       "      <th>count</th>\n",
       "    </tr>\n",
       "  </thead>\n",
       "  <tbody>\n",
       "    <tr>\n",
       "      <th>0</th>\n",
       "      <td>30000000</td>\n",
       "      <td>[Animation,  Comedy,  Family]</td>\n",
       "      <td>862</td>\n",
       "      <td>en</td>\n",
       "      <td>1995-10-30</td>\n",
       "      <td>81.0</td>\n",
       "      <td>Toy Story</td>\n",
       "      <td>1</td>\n",
       "    </tr>\n",
       "    <tr>\n",
       "      <th>1</th>\n",
       "      <td>65000000</td>\n",
       "      <td>[Adventure,  Fantasy,  Family]</td>\n",
       "      <td>8844</td>\n",
       "      <td>en</td>\n",
       "      <td>1995-12-15</td>\n",
       "      <td>104.0</td>\n",
       "      <td>Jumanji</td>\n",
       "      <td>1</td>\n",
       "    </tr>\n",
       "    <tr>\n",
       "      <th>2</th>\n",
       "      <td>0</td>\n",
       "      <td>[Romance,  Comedy]</td>\n",
       "      <td>15602</td>\n",
       "      <td>en</td>\n",
       "      <td>1995-12-22</td>\n",
       "      <td>101.0</td>\n",
       "      <td>Grumpier Old Men</td>\n",
       "      <td>1</td>\n",
       "    </tr>\n",
       "    <tr>\n",
       "      <th>3</th>\n",
       "      <td>16000000</td>\n",
       "      <td>[Comedy,  Drama,  Romance]</td>\n",
       "      <td>31357</td>\n",
       "      <td>en</td>\n",
       "      <td>1995-12-22</td>\n",
       "      <td>127.0</td>\n",
       "      <td>Waiting to Exhale</td>\n",
       "      <td>1</td>\n",
       "    </tr>\n",
       "    <tr>\n",
       "      <th>4</th>\n",
       "      <td>0</td>\n",
       "      <td>[Comedy]</td>\n",
       "      <td>11862</td>\n",
       "      <td>en</td>\n",
       "      <td>1995-02-10</td>\n",
       "      <td>106.0</td>\n",
       "      <td>Father of the Bride Part II</td>\n",
       "      <td>1</td>\n",
       "    </tr>\n",
       "  </tbody>\n",
       "</table>\n",
       "</div>"
      ],
      "text/plain": [
       "     budget                          genres  movieId original_language  \\\n",
       "0  30000000   [Animation,  Comedy,  Family]      862                en   \n",
       "1  65000000  [Adventure,  Fantasy,  Family]     8844                en   \n",
       "2         0              [Romance,  Comedy]    15602                en   \n",
       "3  16000000      [Comedy,  Drama,  Romance]    31357                en   \n",
       "4         0                        [Comedy]    11862                en   \n",
       "\n",
       "  release_date  runtime                        title  count  \n",
       "0   1995-10-30     81.0                    Toy Story      1  \n",
       "1   1995-12-15    104.0                      Jumanji      1  \n",
       "2   1995-12-22    101.0             Grumpier Old Men      1  \n",
       "3   1995-12-22    127.0            Waiting to Exhale      1  \n",
       "4   1995-02-10    106.0  Father of the Bride Part II      1  "
      ]
     },
     "execution_count": 30,
     "metadata": {},
     "output_type": "execute_result"
    }
   ],
   "source": [
    "movies_data.head(5)"
   ]
  },
  {
   "cell_type": "code",
   "execution_count": 31,
   "metadata": {},
   "outputs": [],
   "source": [
    "## Group by date and count movies\n",
    "daily_frame = movies_data.groupby('release_date')['count'].sum().reset_index()\n",
    "daily_frame = daily_frame.set_index('release_date')\n",
    "daily_frame.index = pd.to_datetime(daily_frame.index)"
   ]
  },
  {
   "cell_type": "code",
   "execution_count": 32,
   "metadata": {},
   "outputs": [],
   "source": [
    "## Sum the counts of movies by year\n",
    "y = daily_frame['count'].resample('MS').sum()"
   ]
  },
  {
   "cell_type": "code",
   "execution_count": 33,
   "metadata": {},
   "outputs": [
    {
     "data": {
      "image/png": "[encoded data removed]",
      "text/plain": [
       "<Figure size 1440x432 with 1 Axes>"
      ]
     },
     "metadata": {
      "needs_background": "light"
     },
     "output_type": "display_data"
    }
   ],
   "source": [
    "y.plot(figsize=(20, 6))\n",
    "plt.title(\"Movies release dates\", fontsize = 20)\n",
    "plt.show()"
   ]
  },
  {
   "cell_type": "code",
   "execution_count": 34,
   "metadata": {},
   "outputs": [],
   "source": [
    "budget = movies_data[movies_data['budget'].apply(lambda x: x.isnumeric())]\n",
    "budget['budget'] = budget['budget'].astype(int).apply(lambda x: x/1000000)\n",
    "budget = budget[budget['budget']>0]"
   ]
  },
  {
   "cell_type": "code",
   "execution_count": 35,
   "metadata": {},
   "outputs": [
    {
     "name": "stdout",
     "output_type": "stream",
     "text": [
      "Mean budget by movie: $21.6 million dollars\n"
     ]
    }
   ],
   "source": [
    "print(f\"Mean budget by movie: ${round(budget.budget.mean(),2)} million dollars\")"
   ]
  },
  {
   "cell_type": "code",
   "execution_count": 36,
   "metadata": {},
   "outputs": [
    {
     "name": "stdout",
     "output_type": "stream",
     "text": [
      "Max budget by a movie: $380.0 million dollars\n",
      "budget                                                       380\n",
      "genres                            [Adventure,  Action,  Fantasy]\n",
      "movieId                                                     1865\n",
      "original_language                                             en\n",
      "release_date                                 2011-05-14 00:00:00\n",
      "runtime                                                      136\n",
      "title                Pirates of the Caribbean: On Stranger Tides\n",
      "count                                                          1\n",
      "Name: 17124, dtype: object\n"
     ]
    }
   ],
   "source": [
    "print(f\"Max budget by a movie: ${max(budget.budget)} million dollars\")\n",
    "print(budget.loc[budget['budget'].idxmax()])"
   ]
  },
  {
   "cell_type": "code",
   "execution_count": 37,
   "metadata": {},
   "outputs": [
    {
     "data": {
      "image/png": "[encoded data removed]",
      "text/plain": [
       "<Figure size 792x432 with 1 Axes>"
      ]
     },
     "metadata": {
      "needs_background": "light"
     },
     "output_type": "display_data"
    }
   ],
   "source": [
    "plt.figure(figsize=(11,6))\n",
    "budget.budget.hist(bins=100, histtype='bar', ec='black')\n",
    "plt.xlim(0,150)\n",
    "plt.grid(False)\n",
    "plt.title(\"Movies Runtime distribution\")\n",
    "plt.xlabel('Runtime in minutes')\n",
    "plt.show()"
   ]
  },
  {
   "cell_type": "code",
   "execution_count": 38,
   "metadata": {},
   "outputs": [
    {
     "name": "stdout",
     "output_type": "stream",
     "text": [
      "Mean runtime by movie: 97.49 minutes\n"
     ]
    }
   ],
   "source": [
    "runtime = movies_data[movies_data['runtime'] > 0]\n",
    "print(f\"Mean runtime by movie: {round(runtime.runtime.mean(),2)} minutes\")"
   ]
  },
  {
   "cell_type": "code",
   "execution_count": 39,
   "metadata": {},
   "outputs": [
    {
     "data": {
      "image/png": "[encoded data removed]",
      "text/plain": [
       "<Figure size 792x432 with 1 Axes>"
      ]
     },
     "metadata": {
      "needs_background": "light"
     },
     "output_type": "display_data"
    }
   ],
   "source": [
    "plt.figure(figsize=(11,6))\n",
    "runtime.runtime.hist(bins=100, histtype='bar', ec='black')\n",
    "plt.xlim(0,400)\n",
    "plt.grid(False)\n",
    "plt.title(\"Movies Runtime distribution\")\n",
    "plt.xlabel('Runtime in minutes')\n",
    "plt.show()"
   ]
  },
  {
   "cell_type": "markdown",
   "metadata": {},
   "source": [
    "## Train on a Dummy dataset"
   ]
  },
  {
   "cell_type": "code",
   "execution_count": 36,
   "metadata": {},
   "outputs": [],
   "source": [
    "## Dummy dataset\n",
    "a = pd.DataFrame([\n",
    "\n",
    "     [1,5,3,0,1],\n",
    "\n",
    "     [2,4,0,0,1],\n",
    "\n",
    "     [3,1,1,0,5],\n",
    "\n",
    "     [4,1,0,0,4],\n",
    "\n",
    "     [5,0,1,5,4],\n",
    "    \n",
    "     [6,2,1,3,0],\n",
    "     \n",
    "     [7,4,1,2,2],\n",
    "     \n",
    "     [8,3,1,4,1],\n",
    "    \n",
    "     [9,0,1,0,3],\n",
    "    \n",
    "     [10,0,1,3,5],\n",
    "    \n",
    "\n",
    "    ]).set_index(0)\n",
    "\n",
    "a.index.names = ['userId']\n",
    "a.columns.names = ['movieId']"
   ]
  },
  {
   "cell_type": "markdown",
   "metadata": {},
   "source": [
    "## Finding the best K"
   ]
  },
  {
   "cell_type": "markdown",
   "metadata": {},
   "source": [
    "#### To find the best parameters we build the method ```grid_search()``` train the models with user defined parameters as inputs."
   ]
  },
  {
   "cell_type": "code",
   "execution_count": 37,
   "metadata": {},
   "outputs": [
    {
     "name": "stdout",
     "output_type": "stream",
     "text": [
      "K: 2\t| alpha: 0.001\t| epochs: 2\t| NDCG:0.6907950127558965\n",
      "K: 2\t| alpha: 0.001\t| epochs: 4\t| NDCG:0.7606300425073964\n",
      "K: 2\t| alpha: 0.01\t| epochs: 2\t| NDCG:0.8281139647223069\n",
      "K: 2\t| alpha: 0.01\t| epochs: 4\t| NDCG:0.6988873113581568\n",
      "K: 2\t| alpha: 0.1\t| epochs: 2\t| NDCG:0.818081231564762\n",
      "K: 2\t| alpha: 0.1\t| epochs: 4\t| NDCG:0.8663062581933527\n",
      "K: 4\t| alpha: 0.001\t| epochs: 2\t| NDCG:0.8145422390749145\n",
      "K: 4\t| alpha: 0.001\t| epochs: 4\t| NDCG:0.7144457472935688\n",
      "K: 4\t| alpha: 0.01\t| epochs: 2\t| NDCG:0.8459662699372552\n",
      "K: 4\t| alpha: 0.01\t| epochs: 4\t| NDCG:0.8274066366296606\n",
      "K: 4\t| alpha: 0.1\t| epochs: 2\t| NDCG:0.8183996113728125\n",
      "K: 4\t| alpha: 0.1\t| epochs: 4\t| NDCG:0.8572787187213878\n",
      "K: 6\t| alpha: 0.001\t| epochs: 2\t| NDCG:0.7478637078415477\n",
      "K: 6\t| alpha: 0.001\t| epochs: 4\t| NDCG:0.8159223872734007\n",
      "K: 6\t| alpha: 0.01\t| epochs: 2\t| NDCG:0.7474706551723067\n",
      "K: 6\t| alpha: 0.01\t| epochs: 4\t| NDCG:0.7809133063798499\n",
      "K: 6\t| alpha: 0.1\t| epochs: 2\t| NDCG:0.8325097812562114\n",
      "K: 6\t| alpha: 0.1\t| epochs: 4\t| NDCG:0.8956692175982235\n"
     ]
    }
   ],
   "source": [
    "params = {'Ks':[2,4,6],\n",
    "          \"alphas\": [0.001,0.01,0.1],\n",
    "          \"epochs\":[2,4]}\n",
    "\n",
    "r = MatrixFactorization(a,movies_data)\n",
    "\n",
    "clfs = grid_search(r,params)"
   ]
  },
  {
   "cell_type": "code",
   "execution_count": 38,
   "metadata": {},
   "outputs": [],
   "source": [
    "best = clfs.loc[clfs['NDCG'].idxmin()]"
   ]
  },
  {
   "cell_type": "code",
   "execution_count": 40,
   "metadata": {},
   "outputs": [
    {
     "data": {
      "text/plain": [
       "K                                                         2\n",
       "alpha                                                 0.001\n",
       "epochs                                                    2\n",
       "clf       <recommender.MatrixFactorization object at 0x0...\n",
       "NDCG                                               0.690795\n",
       "Name: 0, dtype: object"
      ]
     },
     "execution_count": 40,
     "metadata": {},
     "output_type": "execute_result"
    }
   ],
   "source": [
    "best"
   ]
  },
  {
   "cell_type": "code",
   "execution_count": 39,
   "metadata": {},
   "outputs": [
    {
     "data": {
      "text/plain": [
       "array([[2.93730166, 2.01003842, 1.98458081, 2.59170666],\n",
       "       [1.97627609, 1.59259659, 1.41209005, 2.20299787],\n",
       "       [2.02271744, 1.67751771, 1.58575597, 2.83365211],\n",
       "       [1.91701579, 1.69795956, 1.63761437, 2.35189811],\n",
       "       [2.37842055, 2.1272828 , 2.037255  , 3.11782705],\n",
       "       [2.52070887, 1.89929078, 1.83560997, 2.5472159 ],\n",
       "       [3.00044044, 2.34237402, 2.0699999 , 2.53860701],\n",
       "       [2.774982  , 1.76330235, 1.89136937, 2.41725213],\n",
       "       [1.41885533, 1.24491073, 1.22535887, 2.07849227],\n",
       "       [2.59615973, 2.16807786, 2.02852573, 3.58214984]])"
      ]
     },
     "execution_count": 39,
     "metadata": {},
     "output_type": "execute_result"
    }
   ],
   "source": [
    "## Get the Predicted matrix\n",
    "best.clf.matrix"
   ]
  },
  {
   "cell_type": "code",
   "execution_count": 41,
   "metadata": {},
   "outputs": [
    {
     "data": {
      "text/html": [
       "<div>\n",
       "<style scoped>\n",
       "    .dataframe tbody tr th:only-of-type {\n",
       "        vertical-align: middle;\n",
       "    }\n",
       "\n",
       "    .dataframe tbody tr th {\n",
       "        vertical-align: top;\n",
       "    }\n",
       "\n",
       "    .dataframe thead th {\n",
       "        text-align: right;\n",
       "    }\n",
       "</style>\n",
       "<table border=\"1\" class=\"dataframe\">\n",
       "  <thead>\n",
       "    <tr style=\"text-align: right;\">\n",
       "      <th></th>\n",
       "      <th>movieId</th>\n",
       "      <th>userId</th>\n",
       "      <th>rating</th>\n",
       "      <th>Must watch?</th>\n",
       "      <th>title</th>\n",
       "      <th>original_language</th>\n",
       "      <th>genres</th>\n",
       "      <th>release_date</th>\n",
       "      <th>runtime</th>\n",
       "    </tr>\n",
       "  </thead>\n",
       "  <tbody>\n",
       "    <tr>\n",
       "      <th>0</th>\n",
       "      <td>3</td>\n",
       "      <td>1</td>\n",
       "      <td>0</td>\n",
       "      <td>😀😀</td>\n",
       "      <td>Shadows in Paradise</td>\n",
       "      <td>fi</td>\n",
       "      <td>[Drama,  Comedy]</td>\n",
       "      <td>1986-10-16</td>\n",
       "      <td>76.0</td>\n",
       "    </tr>\n",
       "  </tbody>\n",
       "</table>\n",
       "</div>"
      ],
      "text/plain": [
       "   movieId  userId  rating Must watch?                title original_language  \\\n",
       "0        3       1       0          😀😀  Shadows in Paradise                fi   \n",
       "\n",
       "             genres release_date  runtime  \n",
       "0  [Drama,  Comedy]   1986-10-16     76.0  "
      ]
     },
     "execution_count": 41,
     "metadata": {},
     "output_type": "execute_result"
    }
   ],
   "source": [
    "best.clf.recommend_movies(1)"
   ]
  },
  {
   "cell_type": "markdown",
   "metadata": {},
   "source": [
    "### Discounted Cumulative Gain\n",
    "\n",
    "The **Discounted Cumulative Gain (DCG)** is a relevance metric in information science and information retrieval. Unlike pure classification use cases where you are right or wrong, in a ranking problem, you are more or less right or wrong. The relevance actually denotes how well the retrieved set of documents properly answers the initial query. The most frequently used version of **DCG** is:\n",
    "\n",
    "$$ DCG_p = \\sum_{i=1}^p \\frac{2^{rel_i} - 1}{log_2(i+1)}$$\n",
    "\n",
    "$$ nDCG_p = \\frac{DCG_P}{IDCG_p} $$\n",
    "\n",
    "$$ \\text{where} $$\n",
    "\n",
    "$$ IDCG_p = \\sum_{i=1}^{|REL_p|} \\frac{2^{rel_i} - 1}{log_2(i+1)}$$\n",
    "\n",
    "The **nDCG** is calculated against an ideal ranking. In case you have the ideal ranking (IDGC), your predicted ranking is compared to it. This measure helps to get the relative performance of a model given the complexity of a query.\n"
   ]
  },
  {
   "cell_type": "markdown",
   "metadata": {},
   "source": [
    "# Netflix movies small DB"
   ]
  },
  {
   "cell_type": "markdown",
   "metadata": {},
   "source": [
    "## Finding the best K"
   ]
  },
  {
   "cell_type": "code",
   "execution_count": 42,
   "metadata": {},
   "outputs": [
    {
     "name": "stdout",
     "output_type": "stream",
     "text": [
      "K: 2\t| alpha: 0.001\t| epochs: 2\t| NDCG:0.437876104873406\n",
      "K: 2\t| alpha: 0.001\t| epochs: 4\t| NDCG:0.44515969937241157\n",
      "K: 2\t| alpha: 0.01\t| epochs: 2\t| NDCG:0.4502446349763181\n",
      "K: 2\t| alpha: 0.01\t| epochs: 4\t| NDCG:0.4435427768977642\n",
      "K: 2\t| alpha: 0.1\t| epochs: 2\t| NDCG:0.5192432473257823\n",
      "K: 2\t| alpha: 0.1\t| epochs: 4\t| NDCG:0.5311908162761417\n",
      "K: 4\t| alpha: 0.001\t| epochs: 2\t| NDCG:0.44363374322043553\n",
      "K: 4\t| alpha: 0.001\t| epochs: 4\t| NDCG:0.44502823793957896\n",
      "K: 4\t| alpha: 0.01\t| epochs: 2\t| NDCG:0.45172568702222043\n",
      "K: 4\t| alpha: 0.01\t| epochs: 4\t| NDCG:0.44108366404159827\n",
      "K: 4\t| alpha: 0.1\t| epochs: 2\t| NDCG:0.5167336478843461\n",
      "K: 4\t| alpha: 0.1\t| epochs: 4\t| NDCG:0.5637731180113708\n",
      "K: 6\t| alpha: 0.001\t| epochs: 2\t| NDCG:0.443208015912073\n",
      "K: 6\t| alpha: 0.001\t| epochs: 4\t| NDCG:0.4410217381103284\n",
      "K: 6\t| alpha: 0.01\t| epochs: 2\t| NDCG:0.4518272261201698\n",
      "K: 6\t| alpha: 0.01\t| epochs: 4\t| NDCG:0.4531202987201375\n",
      "K: 6\t| alpha: 0.1\t| epochs: 2\t| NDCG:0.5261616326493936\n",
      "K: 6\t| alpha: 0.1\t| epochs: 4\t| NDCG:0.5702941343254907\n"
     ]
    }
   ],
   "source": [
    "params = {'Ks':[2,4,6],\n",
    "          \"alphas\": [0.001,0.01,0.1],\n",
    "          \"epochs\":[2,4]}\n",
    "\n",
    "r = MatrixFactorization(ratings,movies_data)\n",
    "\n",
    "clfs = grid_search(r,params)"
   ]
  },
  {
   "cell_type": "code",
   "execution_count": 51,
   "metadata": {},
   "outputs": [
    {
     "data": {
      "text/plain": [
       "K                                                         2\n",
       "alpha                                                 0.001\n",
       "epochs                                                    2\n",
       "clf       <recommender.MatrixFactorization object at 0x0...\n",
       "NDCG                                               0.437876\n",
       "Name: 0, dtype: object"
      ]
     },
     "execution_count": 51,
     "metadata": {},
     "output_type": "execute_result"
    }
   ],
   "source": [
    "best = clfs.loc[clfs['NDCG'].idxmin()]\n",
    "best"
   ]
  },
  {
   "cell_type": "markdown",
   "metadata": {},
   "source": [
    "## Recommendation Matrix"
   ]
  },
  {
   "cell_type": "code",
   "execution_count": 50,
   "metadata": {},
   "outputs": [
    {
     "data": {
      "text/plain": [
       "array([[1.24502041, 1.06896401, 0.5750262 , ..., 0.47377844, 0.80734347,\n",
       "        0.95830152],\n",
       "       [1.80154067, 1.45889135, 1.41422453, ..., 1.1909382 , 1.31594479,\n",
       "        0.94085696],\n",
       "       [1.37683881, 1.03578922, 1.00629261, ..., 0.64322093, 0.96857084,\n",
       "        0.69115952],\n",
       "       ...,\n",
       "       [1.5330259 , 1.21066157, 1.00878476, ..., 0.86734581, 1.04456353,\n",
       "        0.9794679 ],\n",
       "       [1.16954304, 1.03084765, 0.62037275, ..., 0.48659954, 0.73062731,\n",
       "        0.84038726],\n",
       "       [1.5601054 , 1.4046516 , 0.89788157, ..., 0.82022657, 1.02527621,\n",
       "        1.10475897]])"
      ]
     },
     "execution_count": 50,
     "metadata": {},
     "output_type": "execute_result"
    }
   ],
   "source": [
    "## Get the Predicted matrix\n",
    "best.clf.matrix"
   ]
  },
  {
   "cell_type": "markdown",
   "metadata": {},
   "source": [
    "## Geting recomendations"
   ]
  },
  {
   "cell_type": "markdown",
   "metadata": {},
   "source": [
    "- Return the movies with the highest predicted rating that the specified user hasn’t already rated."
   ]
  },
  {
   "cell_type": "code",
   "execution_count": 57,
   "metadata": {},
   "outputs": [
    {
     "data": {
      "text/html": [
       "<div>\n",
       "<style scoped>\n",
       "    .dataframe tbody tr th:only-of-type {\n",
       "        vertical-align: middle;\n",
       "    }\n",
       "\n",
       "    .dataframe tbody tr th {\n",
       "        vertical-align: top;\n",
       "    }\n",
       "\n",
       "    .dataframe thead th {\n",
       "        text-align: right;\n",
       "    }\n",
       "</style>\n",
       "<table border=\"1\" class=\"dataframe\">\n",
       "  <thead>\n",
       "    <tr style=\"text-align: right;\">\n",
       "      <th></th>\n",
       "      <th>movieId</th>\n",
       "      <th>userId</th>\n",
       "      <th>rating</th>\n",
       "      <th>Must watch?</th>\n",
       "      <th>title</th>\n",
       "      <th>original_language</th>\n",
       "      <th>genres</th>\n",
       "      <th>release_date</th>\n",
       "      <th>runtime</th>\n",
       "    </tr>\n",
       "  </thead>\n",
       "  <tbody>\n",
       "    <tr>\n",
       "      <th>0</th>\n",
       "      <td>296</td>\n",
       "      <td>5</td>\n",
       "      <td>0.0</td>\n",
       "      <td>😀😀</td>\n",
       "      <td>Terminator 3: Rise of the Machines</td>\n",
       "      <td>en</td>\n",
       "      <td>[Action,  Thriller,  Science,  Fiction]</td>\n",
       "      <td>2003-07-02</td>\n",
       "      <td>109.0</td>\n",
       "    </tr>\n",
       "    <tr>\n",
       "      <th>1</th>\n",
       "      <td>16</td>\n",
       "      <td>5</td>\n",
       "      <td>0.0</td>\n",
       "      <td>🙁</td>\n",
       "      <td>Dancer in the Dark</td>\n",
       "      <td>en</td>\n",
       "      <td>[Drama,  Crime,  Music]</td>\n",
       "      <td>2000-05-17</td>\n",
       "      <td>140.0</td>\n",
       "    </tr>\n",
       "    <tr>\n",
       "      <th>2</th>\n",
       "      <td>22</td>\n",
       "      <td>5</td>\n",
       "      <td>0.0</td>\n",
       "      <td>🙁</td>\n",
       "      <td>Pirates of the Caribbean: The Curse of the Bla...</td>\n",
       "      <td>en</td>\n",
       "      <td>[Adventure,  Fantasy,  Action]</td>\n",
       "      <td>2003-07-09</td>\n",
       "      <td>143.0</td>\n",
       "    </tr>\n",
       "    <tr>\n",
       "      <th>3</th>\n",
       "      <td>20</td>\n",
       "      <td>5</td>\n",
       "      <td>0.0</td>\n",
       "      <td>🙁</td>\n",
       "      <td>My Life Without Me</td>\n",
       "      <td>en</td>\n",
       "      <td>[Drama,  Romance]</td>\n",
       "      <td>2003-03-07</td>\n",
       "      <td>106.0</td>\n",
       "    </tr>\n",
       "  </tbody>\n",
       "</table>\n",
       "</div>"
      ],
      "text/plain": [
       "   movieId  userId  rating Must watch?  \\\n",
       "0      296       5     0.0          😀😀   \n",
       "1       16       5     0.0           🙁   \n",
       "2       22       5     0.0           🙁   \n",
       "3       20       5     0.0           🙁   \n",
       "\n",
       "                                               title original_language  \\\n",
       "0                 Terminator 3: Rise of the Machines                en   \n",
       "1                                 Dancer in the Dark                en   \n",
       "2  Pirates of the Caribbean: The Curse of the Bla...                en   \n",
       "3                                 My Life Without Me                en   \n",
       "\n",
       "                                    genres release_date  runtime  \n",
       "0  [Action,  Thriller,  Science,  Fiction]   2003-07-02    109.0  \n",
       "1                  [Drama,  Crime,  Music]   2000-05-17    140.0  \n",
       "2           [Adventure,  Fantasy,  Action]   2003-07-09    143.0  \n",
       "3                        [Drama,  Romance]   2003-03-07    106.0  "
      ]
     },
     "execution_count": 57,
     "metadata": {},
     "output_type": "execute_result"
    }
   ],
   "source": [
    "## Recommended movies by top rating\n",
    "user = 5\n",
    "best.clf.recommend_movies(user)"
   ]
  },
  {
   "cell_type": "code",
   "execution_count": 54,
   "metadata": {},
   "outputs": [
    {
     "data": {
      "text/html": [
       "<div>\n",
       "<style scoped>\n",
       "    .dataframe tbody tr th:only-of-type {\n",
       "        vertical-align: middle;\n",
       "    }\n",
       "\n",
       "    .dataframe tbody tr th {\n",
       "        vertical-align: top;\n",
       "    }\n",
       "\n",
       "    .dataframe thead th {\n",
       "        text-align: right;\n",
       "    }\n",
       "</style>\n",
       "<table border=\"1\" class=\"dataframe\">\n",
       "  <thead>\n",
       "    <tr style=\"text-align: right;\">\n",
       "      <th></th>\n",
       "      <th>movieId</th>\n",
       "      <th>userId</th>\n",
       "      <th>rating</th>\n",
       "      <th>Must watch?</th>\n",
       "      <th>title</th>\n",
       "      <th>original_language</th>\n",
       "      <th>genres</th>\n",
       "      <th>release_date</th>\n",
       "      <th>runtime</th>\n",
       "    </tr>\n",
       "  </thead>\n",
       "  <tbody>\n",
       "    <tr>\n",
       "      <th>0</th>\n",
       "      <td>144</td>\n",
       "      <td>459</td>\n",
       "      <td>0.0</td>\n",
       "      <td>🙁</td>\n",
       "      <td>Wings of Desire</td>\n",
       "      <td>de</td>\n",
       "      <td>[Drama,  Fantasy,  Romance]</td>\n",
       "      <td>1987-01-01</td>\n",
       "      <td>128.0</td>\n",
       "    </tr>\n",
       "    <tr>\n",
       "      <th>1</th>\n",
       "      <td>147</td>\n",
       "      <td>459</td>\n",
       "      <td>0.0</td>\n",
       "      <td>🙁</td>\n",
       "      <td>The 400 Blows</td>\n",
       "      <td>fr</td>\n",
       "      <td>[Drama]</td>\n",
       "      <td>1959-05-04</td>\n",
       "      <td>99.0</td>\n",
       "    </tr>\n",
       "    <tr>\n",
       "      <th>2</th>\n",
       "      <td>216</td>\n",
       "      <td>459</td>\n",
       "      <td>0.0</td>\n",
       "      <td>🙁</td>\n",
       "      <td>Ali: Fear Eats the Soul</td>\n",
       "      <td>de</td>\n",
       "      <td>[Romance,  Drama]</td>\n",
       "      <td>1974-03-05</td>\n",
       "      <td>93.0</td>\n",
       "    </tr>\n",
       "    <tr>\n",
       "      <th>3</th>\n",
       "      <td>218</td>\n",
       "      <td>459</td>\n",
       "      <td>0.0</td>\n",
       "      <td>🙁</td>\n",
       "      <td>The Terminator</td>\n",
       "      <td>en</td>\n",
       "      <td>[Action,  Thriller,  Science,  Fiction]</td>\n",
       "      <td>1984-10-26</td>\n",
       "      <td>108.0</td>\n",
       "    </tr>\n",
       "  </tbody>\n",
       "</table>\n",
       "</div>"
      ],
      "text/plain": [
       "   movieId  userId  rating Must watch?                    title  \\\n",
       "0      144     459     0.0           🙁          Wings of Desire   \n",
       "1      147     459     0.0           🙁            The 400 Blows   \n",
       "2      216     459     0.0           🙁  Ali: Fear Eats the Soul   \n",
       "3      218     459     0.0           🙁           The Terminator   \n",
       "\n",
       "  original_language                                   genres release_date  \\\n",
       "0                de              [Drama,  Fantasy,  Romance]   1987-01-01   \n",
       "1                fr                                  [Drama]   1959-05-04   \n",
       "2                de                        [Romance,  Drama]   1974-03-05   \n",
       "3                en  [Action,  Thriller,  Science,  Fiction]   1984-10-26   \n",
       "\n",
       "   runtime  \n",
       "0    128.0  \n",
       "1     99.0  \n",
       "2     93.0  \n",
       "3    108.0  "
      ]
     },
     "metadata": {},
     "output_type": "display_data"
    },
    {
     "data": {
      "text/html": [
       "<div>\n",
       "<style scoped>\n",
       "    .dataframe tbody tr th:only-of-type {\n",
       "        vertical-align: middle;\n",
       "    }\n",
       "\n",
       "    .dataframe tbody tr th {\n",
       "        vertical-align: top;\n",
       "    }\n",
       "\n",
       "    .dataframe thead th {\n",
       "        text-align: right;\n",
       "    }\n",
       "</style>\n",
       "<table border=\"1\" class=\"dataframe\">\n",
       "  <thead>\n",
       "    <tr style=\"text-align: right;\">\n",
       "      <th></th>\n",
       "      <th>movieId</th>\n",
       "      <th>userId</th>\n",
       "      <th>rating</th>\n",
       "      <th>Must watch?</th>\n",
       "      <th>title</th>\n",
       "      <th>original_language</th>\n",
       "      <th>genres</th>\n",
       "      <th>release_date</th>\n",
       "      <th>runtime</th>\n",
       "    </tr>\n",
       "  </thead>\n",
       "  <tbody>\n",
       "    <tr>\n",
       "      <th>0</th>\n",
       "      <td>2028</td>\n",
       "      <td>448</td>\n",
       "      <td>0.0</td>\n",
       "      <td>😀😀</td>\n",
       "      <td>Say Anything...</td>\n",
       "      <td>en</td>\n",
       "      <td>[Comedy,  Drama,  Romance]</td>\n",
       "      <td>1989-04-14</td>\n",
       "      <td>100.0</td>\n",
       "    </tr>\n",
       "    <tr>\n",
       "      <th>1</th>\n",
       "      <td>2959</td>\n",
       "      <td>448</td>\n",
       "      <td>0.0</td>\n",
       "      <td>😀😀</td>\n",
       "      <td>License to Wed</td>\n",
       "      <td>en</td>\n",
       "      <td>[Comedy]</td>\n",
       "      <td>2007-07-04</td>\n",
       "      <td>91.0</td>\n",
       "    </tr>\n",
       "    <tr>\n",
       "      <th>2</th>\n",
       "      <td>1073</td>\n",
       "      <td>448</td>\n",
       "      <td>0.0</td>\n",
       "      <td>😀😀</td>\n",
       "      <td>Arlington Road</td>\n",
       "      <td>en</td>\n",
       "      <td>[Drama,  Thriller,  Mystery]</td>\n",
       "      <td>1999-03-19</td>\n",
       "      <td>117.0</td>\n",
       "    </tr>\n",
       "    <tr>\n",
       "      <th>3</th>\n",
       "      <td>457</td>\n",
       "      <td>448</td>\n",
       "      <td>0.0</td>\n",
       "      <td>😀😀</td>\n",
       "      <td>Sissi</td>\n",
       "      <td>de</td>\n",
       "      <td>[Comedy,  Drama,  Romance]</td>\n",
       "      <td>1955-12-22</td>\n",
       "      <td>102.0</td>\n",
       "    </tr>\n",
       "  </tbody>\n",
       "</table>\n",
       "</div>"
      ],
      "text/plain": [
       "   movieId  userId  rating Must watch?            title original_language  \\\n",
       "0     2028     448     0.0          😀😀  Say Anything...                en   \n",
       "1     2959     448     0.0          😀😀   License to Wed                en   \n",
       "2     1073     448     0.0          😀😀   Arlington Road                en   \n",
       "3      457     448     0.0          😀😀            Sissi                de   \n",
       "\n",
       "                         genres release_date  runtime  \n",
       "0    [Comedy,  Drama,  Romance]   1989-04-14    100.0  \n",
       "1                      [Comedy]   2007-07-04     91.0  \n",
       "2  [Drama,  Thriller,  Mystery]   1999-03-19    117.0  \n",
       "3    [Comedy,  Drama,  Romance]   1955-12-22    102.0  "
      ]
     },
     "metadata": {},
     "output_type": "display_data"
    },
    {
     "data": {
      "text/html": [
       "<div>\n",
       "<style scoped>\n",
       "    .dataframe tbody tr th:only-of-type {\n",
       "        vertical-align: middle;\n",
       "    }\n",
       "\n",
       "    .dataframe tbody tr th {\n",
       "        vertical-align: top;\n",
       "    }\n",
       "\n",
       "    .dataframe thead th {\n",
       "        text-align: right;\n",
       "    }\n",
       "</style>\n",
       "<table border=\"1\" class=\"dataframe\">\n",
       "  <thead>\n",
       "    <tr style=\"text-align: right;\">\n",
       "      <th></th>\n",
       "      <th>movieId</th>\n",
       "      <th>userId</th>\n",
       "      <th>rating</th>\n",
       "      <th>Must watch?</th>\n",
       "      <th>title</th>\n",
       "      <th>original_language</th>\n",
       "      <th>genres</th>\n",
       "      <th>release_date</th>\n",
       "      <th>runtime</th>\n",
       "    </tr>\n",
       "  </thead>\n",
       "  <tbody>\n",
       "    <tr>\n",
       "      <th>0</th>\n",
       "      <td>46578</td>\n",
       "      <td>304</td>\n",
       "      <td>0.0</td>\n",
       "      <td>😀😀</td>\n",
       "      <td>Cheerleaders' Wild Weekend</td>\n",
       "      <td>en</td>\n",
       "      <td>[Comedy,  Crime]</td>\n",
       "      <td>1979-09-01</td>\n",
       "      <td>87.0</td>\n",
       "    </tr>\n",
       "  </tbody>\n",
       "</table>\n",
       "</div>"
      ],
      "text/plain": [
       "   movieId  userId  rating Must watch?                       title  \\\n",
       "0    46578     304     0.0          😀😀  Cheerleaders' Wild Weekend   \n",
       "\n",
       "  original_language            genres release_date  runtime  \n",
       "0                en  [Comedy,  Crime]   1979-09-01     87.0  "
      ]
     },
     "metadata": {},
     "output_type": "display_data"
    },
    {
     "data": {
      "text/html": [
       "<div>\n",
       "<style scoped>\n",
       "    .dataframe tbody tr th:only-of-type {\n",
       "        vertical-align: middle;\n",
       "    }\n",
       "\n",
       "    .dataframe tbody tr th {\n",
       "        vertical-align: top;\n",
       "    }\n",
       "\n",
       "    .dataframe thead th {\n",
       "        text-align: right;\n",
       "    }\n",
       "</style>\n",
       "<table border=\"1\" class=\"dataframe\">\n",
       "  <thead>\n",
       "    <tr style=\"text-align: right;\">\n",
       "      <th></th>\n",
       "      <th>movieId</th>\n",
       "      <th>userId</th>\n",
       "      <th>rating</th>\n",
       "      <th>Must watch?</th>\n",
       "      <th>title</th>\n",
       "      <th>original_language</th>\n",
       "      <th>genres</th>\n",
       "      <th>release_date</th>\n",
       "      <th>runtime</th>\n",
       "    </tr>\n",
       "  </thead>\n",
       "  <tbody>\n",
       "    <tr>\n",
       "      <th>0</th>\n",
       "      <td>1580</td>\n",
       "      <td>572</td>\n",
       "      <td>0.0</td>\n",
       "      <td>😀😀</td>\n",
       "      <td>Rope</td>\n",
       "      <td>en</td>\n",
       "      <td>[Crime,  Drama,  Mystery,  Thriller]</td>\n",
       "      <td>1948-08-23</td>\n",
       "      <td>80.0</td>\n",
       "    </tr>\n",
       "    <tr>\n",
       "      <th>1</th>\n",
       "      <td>590</td>\n",
       "      <td>572</td>\n",
       "      <td>0.0</td>\n",
       "      <td>😀😀</td>\n",
       "      <td>The Hours</td>\n",
       "      <td>en</td>\n",
       "      <td>[Drama]</td>\n",
       "      <td>2002-12-27</td>\n",
       "      <td>114.0</td>\n",
       "    </tr>\n",
       "  </tbody>\n",
       "</table>\n",
       "</div>"
      ],
      "text/plain": [
       "   movieId  userId  rating Must watch?      title original_language  \\\n",
       "0     1580     572     0.0          😀😀       Rope                en   \n",
       "1      590     572     0.0          😀😀  The Hours                en   \n",
       "\n",
       "                                 genres release_date  runtime  \n",
       "0  [Crime,  Drama,  Mystery,  Thriller]   1948-08-23     80.0  \n",
       "1                               [Drama]   2002-12-27    114.0  "
      ]
     },
     "metadata": {},
     "output_type": "display_data"
    },
    {
     "data": {
      "text/html": [
       "<div>\n",
       "<style scoped>\n",
       "    .dataframe tbody tr th:only-of-type {\n",
       "        vertical-align: middle;\n",
       "    }\n",
       "\n",
       "    .dataframe tbody tr th {\n",
       "        vertical-align: top;\n",
       "    }\n",
       "\n",
       "    .dataframe thead th {\n",
       "        text-align: right;\n",
       "    }\n",
       "</style>\n",
       "<table border=\"1\" class=\"dataframe\">\n",
       "  <thead>\n",
       "    <tr style=\"text-align: right;\">\n",
       "      <th></th>\n",
       "      <th>movieId</th>\n",
       "      <th>userId</th>\n",
       "      <th>rating</th>\n",
       "      <th>Must watch?</th>\n",
       "      <th>title</th>\n",
       "      <th>original_language</th>\n",
       "      <th>genres</th>\n",
       "      <th>release_date</th>\n",
       "      <th>runtime</th>\n",
       "    </tr>\n",
       "  </thead>\n",
       "  <tbody>\n",
       "    <tr>\n",
       "      <th>0</th>\n",
       "      <td>595</td>\n",
       "      <td>651</td>\n",
       "      <td>0.0</td>\n",
       "      <td>😀😀</td>\n",
       "      <td>To Kill a Mockingbird</td>\n",
       "      <td>en</td>\n",
       "      <td>[Crime,  Drama]</td>\n",
       "      <td>1962-12-25</td>\n",
       "      <td>129.0</td>\n",
       "    </tr>\n",
       "    <tr>\n",
       "      <th>1</th>\n",
       "      <td>527</td>\n",
       "      <td>651</td>\n",
       "      <td>0.0</td>\n",
       "      <td>😀😀</td>\n",
       "      <td>Once Were Warriors</td>\n",
       "      <td>en</td>\n",
       "      <td>[Drama]</td>\n",
       "      <td>1994-09-02</td>\n",
       "      <td>99.0</td>\n",
       "    </tr>\n",
       "    <tr>\n",
       "      <th>2</th>\n",
       "      <td>648</td>\n",
       "      <td>651</td>\n",
       "      <td>0.0</td>\n",
       "      <td>😀😀</td>\n",
       "      <td>Beauty and the Beast</td>\n",
       "      <td>fr</td>\n",
       "      <td>[Drama,  Fantasy,  Romance]</td>\n",
       "      <td>1946-10-29</td>\n",
       "      <td>96.0</td>\n",
       "    </tr>\n",
       "    <tr>\n",
       "      <th>3</th>\n",
       "      <td>778</td>\n",
       "      <td>651</td>\n",
       "      <td>0.0</td>\n",
       "      <td>😀😀</td>\n",
       "      <td>Monsieur  Hulot's Holiday</td>\n",
       "      <td>fr</td>\n",
       "      <td>[Comedy,  Family]</td>\n",
       "      <td>1953-02-26</td>\n",
       "      <td>84.0</td>\n",
       "    </tr>\n",
       "  </tbody>\n",
       "</table>\n",
       "</div>"
      ],
      "text/plain": [
       "   movieId  userId  rating Must watch?                      title  \\\n",
       "0      595     651     0.0          😀😀      To Kill a Mockingbird   \n",
       "1      527     651     0.0          😀😀         Once Were Warriors   \n",
       "2      648     651     0.0          😀😀       Beauty and the Beast   \n",
       "3      778     651     0.0          😀😀  Monsieur  Hulot's Holiday   \n",
       "\n",
       "  original_language                       genres release_date  runtime  \n",
       "0                en              [Crime,  Drama]   1962-12-25    129.0  \n",
       "1                en                      [Drama]   1994-09-02     99.0  \n",
       "2                fr  [Drama,  Fantasy,  Romance]   1946-10-29     96.0  \n",
       "3                fr            [Comedy,  Family]   1953-02-26     84.0  "
      ]
     },
     "metadata": {},
     "output_type": "display_data"
    }
   ],
   "source": [
    "## Recommended movies by top rating\n",
    "users = np.random.randint(1,670,size=5)\n",
    "for user in users:\n",
    "    display(best.clf.recommend_movies(user))"
   ]
  },
  {
   "cell_type": "markdown",
   "metadata": {},
   "source": [
    "### References\n",
    "\n",
    "- [Sistemas de recomendación. Marmol Yahya, Juan Salvador](https://github.com/salvadormarmol/machine-learning-ms-2020/blob/master/no_supervisado/sistemas_de_recomendacion/Aprendizaje%20de%20m%C3%A1quina%20-%20Sistemas%20de%20recomendaci%C3%B3n.pdf)\n",
    "- [Collaborative Filtering. Brusilovsky, Peter](https://pitt.edu/~peterb/2480-122/CollaborativeFiltering.pdf)\n",
    "- [Matrix Factorization. Google developers](https://developers.google.com/machine-learning/recommendation/collaborative/matrix)\n",
    "- [Python: Implementing Matrix Factorization from Scratch!. Moore, Jacob](https://towardsdatascience.com/recommender-systems-in-python-from-scratch-643c8fc4f704)\n",
    "- [Collaborative Filtering: Matrix Factorization Recommender System. Stodulka Jiri](https://www.jiristodulka.com/post/recsys_cf/)\n",
    "- [Discounted Cumulative Gain: the ranking metrics you should know about. Maeliza S.](https://medium.com/@maeliza.seymour/discounted-cumulative-gain-the-ranking-metrics-you-should-know-about-e1d1623f8cd9)"
   ]
  },
  {
   "cell_type": "markdown",
   "metadata": {},
   "source": [
    "## Extra"
   ]
  },
  {
   "cell_type": "markdown",
   "metadata": {},
   "source": [
    "### CART\n",
    "\n",
    "Now we will fit a CART (Classification and regression Tree) on movies data to try to predict runtime on a movie based on:\n",
    "- budget\n",
    "- genre\n",
    "- language"
   ]
  },
  {
   "cell_type": "markdown",
   "metadata": {},
   "source": [
    "### Data Wrangling"
   ]
  },
  {
   "cell_type": "code",
   "execution_count": 40,
   "metadata": {},
   "outputs": [],
   "source": [
    "movies_data.drop(['release_date','movieId','title','count'], axis=1, inplace=True)"
   ]
  },
  {
   "cell_type": "code",
   "execution_count": 41,
   "metadata": {},
   "outputs": [],
   "source": [
    "movies_data = movies_data[movies_data['budget'].apply(lambda x: x.isnumeric())]\n",
    "movies_data['budget'] = movies_data['budget'].astype(int).apply(lambda x: x/1000000)\n",
    "movies_data = movies_data[movies_data['budget'] > 0]"
   ]
  },
  {
   "cell_type": "code",
   "execution_count": 42,
   "metadata": {},
   "outputs": [],
   "source": [
    "movies_data = movies_data[movies_data['runtime'] > 0]"
   ]
  },
  {
   "cell_type": "code",
   "execution_count": 43,
   "metadata": {},
   "outputs": [],
   "source": [
    "movies_data.genres = movies_data.genres.map(lambda x: x[0])"
   ]
  },
  {
   "cell_type": "code",
   "execution_count": 44,
   "metadata": {},
   "outputs": [],
   "source": [
    "header = list(movies_data.columns) ## Get column headers"
   ]
  },
  {
   "cell_type": "code",
   "execution_count": 45,
   "metadata": {},
   "outputs": [],
   "source": [
    "train_data, test_data = train_test_split(movies_data, test_size = 0.005, random_state = 42) \n",
    "train_data = movies_data.values.tolist() ## Transform df to list of lists\n",
    "test_data = test_data.values.tolist()"
   ]
  },
  {
   "cell_type": "code",
   "execution_count": 46,
   "metadata": {},
   "outputs": [
    {
     "data": {
      "text/plain": [
       "['budget', 'genres', 'original_language', 'runtime']"
      ]
     },
     "execution_count": 46,
     "metadata": {},
     "output_type": "execute_result"
    }
   ],
   "source": [
    "header"
   ]
  },
  {
   "cell_type": "markdown",
   "metadata": {},
   "source": [
    "### Create our Tree clasiffier"
   ]
  },
  {
   "cell_type": "code",
   "execution_count": 56,
   "metadata": {},
   "outputs": [],
   "source": [
    "depth = 5\n",
    "clf = cart.CART(header, depth) ## Depht can also be omitted"
   ]
  },
  {
   "cell_type": "markdown",
   "metadata": {},
   "source": [
    "### What´s the best question to ask?"
   ]
  },
  {
   "cell_type": "code",
   "execution_count": 57,
   "metadata": {},
   "outputs": [
    {
     "data": {
      "text/plain": [
       "budget >= 5.0056"
      ]
     },
     "execution_count": 57,
     "metadata": {},
     "output_type": "execute_result"
    }
   ],
   "source": [
    "clf.find_best_split(train_data)[1] ## Find the best question to ask"
   ]
  },
  {
   "cell_type": "markdown",
   "metadata": {},
   "source": [
    "### Fit and print our CART classifier"
   ]
  },
  {
   "cell_type": "code",
   "execution_count": 58,
   "metadata": {},
   "outputs": [],
   "source": [
    "my_tree = clf.fit(train_data) ## Fit our CART"
   ]
  },
  {
   "cell_type": "code",
   "execution_count": 59,
   "metadata": {},
   "outputs": [
    {
     "name": "stdout",
     "output_type": "stream",
     "text": [
      " budget >= 5.0056\n",
      " --> True:\n",
      "   genres == Drama\n",
      "   --> True:\n",
      "     budget >= 21.5\n",
      "     --> True:\n",
      "       budget >= 22.5\n",
      "       --> True:\n",
      "         budget >= 79.0\n",
      "         --> True:\n",
      "           Predict {91.0: '1.96%', 150.0: '1.96%', 194.0: '1.96%', 177.0: '1.96%', 153.0: '1.96%', 113.0: '1.96%', 100.0: '1.96%', 126.0: '1.96%', 157.0: '5.88%', 105.0: '1.96%', 165.0: '5.88%', 130.0: '3.92%', 145.0: '5.88%', 146.0: '1.96%', 134.0: '1.96%', 138.0: '5.88%', 167.0: '3.92%', 141.0: '3.92%', 154.0: '3.92%', 128.0: '1.96%', 129.0: '1.96%', 170.0: '1.96%', 121.0: '1.96%', 144.0: '1.96%', 151.0: '1.96%', 143.0: '3.92%', 101.0: '1.96%', 152.0: '1.96%', 104.0: '1.96%', 112.0: '1.96%', 102.0: '1.96%', 172.0: '1.96%', 119.0: '1.96%', 139.0: '1.96%', 94.0: '1.96%', 107.0: '1.96%', 127.0: '1.96%', 140.0: '1.96%'}\n",
      "         --> False:\n",
      "           Predict {178.0: '0.25%', 118.0: '3.01%', 104.0: '3.01%', 135.0: '2.26%', 108.0: '2.76%', 119.0: '3.26%', 140.0: '1.25%', 102.0: '2.26%', 128.0: '1.5%', 123.0: '2.51%', 112.0: '0.5%', 142.0: '0.25%', 191.0: '0.25%', 139.0: '1.75%', 122.0: '1.5%', 121.0: '1.75%', 154.0: '0.25%', 125.0: '2.76%', 117.0: '2.76%', 132.0: '1.5%', 115.0: '2.26%', 116.0: '2.26%', 129.0: '2.01%', 162.0: '0.25%', 153.0: '1.0%', 145.0: '0.25%', 229.0: '0.25%', 193.0: '0.25%', 124.0: '2.01%', 98.0: '1.0%', 95.0: '0.5%', 144.0: '0.75%', 155.0: '0.25%', 170.0: '0.5%', 134.0: '1.75%', 114.0: '2.51%', 136.0: '1.5%', 161.0: '0.5%', 163.0: '0.5%', 133.0: '2.01%', 137.0: '2.26%', 169.0: '0.25%', 89.0: '0.25%', 138.0: '1.0%', 91.0: '0.75%', 106.0: '2.26%', 113.0: '2.26%', 100.0: '0.75%', 141.0: '1.25%', 109.0: '2.26%', 195.0: '0.25%', 126.0: '0.75%', 148.0: '0.5%', 188.0: '0.25%', 146.0: '0.75%', 127.0: '2.01%', 202.0: '0.25%', 157.0: '0.5%', 189.0: '0.5%', 131.0: '1.25%', 103.0: '1.0%', 101.0: '2.51%', 107.0: '2.01%', 248.0: '0.25%', 120.0: '2.26%', 152.0: '0.5%', 99.0: '1.0%', 110.0: '2.26%', 150.0: '0.5%', 214.0: '0.25%', 130.0: '1.25%', 94.0: '0.75%', 86.0: '0.5%', 111.0: '0.25%', 105.0: '1.25%', 96.0: '1.0%', 352.0: '0.25%', 164.0: '0.25%', 143.0: '0.25%', 92.0: '0.5%', 97.0: '0.5%', 158.0: '0.25%', 90.0: '0.25%', 160.0: '0.25%', 93.0: '0.25%', 180.0: '0.25%', 84.0: '0.25%', 147.0: '0.25%', 174.0: '0.25%', 432.0: '0.25%', 523.0: '0.25%', 149.0: '0.25%'}\n",
      "       --> False:\n",
      "         original_language == zh\n",
      "         --> True:\n",
      "           Predict {125.0: '100.0%'}\n",
      "         --> False:\n",
      "           Predict {108.0: '26.09%', 121.0: '4.35%', 195.0: '4.35%', 131.0: '4.35%', 191.0: '4.35%', 117.0: '4.35%', 129.0: '4.35%', 104.0: '4.35%', 132.0: '4.35%', 93.0: '4.35%', 127.0: '4.35%', 175.0: '4.35%', 97.0: '4.35%', 114.0: '4.35%', 105.0: '8.7%', 138.0: '4.35%', 122.0: '4.35%'}\n",
      "     --> False:\n",
      "       original_language == en\n",
      "       --> True:\n",
      "         budget >= 11.93\n",
      "         --> True:\n",
      "           Predict {136.0: '0.33%', 117.0: '2.33%', 101.0: '2.0%', 106.0: '2.0%', 103.0: '1.67%', 139.0: '0.33%', 115.0: '4.67%', 97.0: '2.0%', 133.0: '1.33%', 90.0: '2.0%', 109.0: '3.0%', 114.0: '1.33%', 170.0: '0.33%', 125.0: '2.0%', 120.0: '4.67%', 151.0: '0.33%', 200.0: '0.33%', 116.0: '2.67%', 160.0: '0.33%', 129.0: '1.33%', 183.0: '0.67%', 172.0: '0.33%', 134.0: '1.33%', 127.0: '1.0%', 100.0: '4.0%', 119.0: '2.67%', 112.0: '2.0%', 94.0: '0.67%', 155.0: '0.33%', 84.0: '0.33%', 121.0: '1.33%', 89.0: '0.33%', 107.0: '3.33%', 93.0: '1.67%', 99.0: '3.0%', 130.0: '0.67%', 131.0: '0.67%', 154.0: '0.33%', 122.0: '2.0%', 156.0: '0.33%', 104.0: '2.33%', 132.0: '1.0%', 140.0: '1.0%', 124.0: '2.67%', 145.0: '0.33%', 199.0: '0.33%', 113.0: '2.33%', 158.0: '0.33%', 149.0: '0.67%', 137.0: '0.33%', 87.0: '1.0%', 108.0: '1.67%', 123.0: '1.67%', 118.0: '2.0%', 174.0: '0.33%', 98.0: '3.0%', 126.0: '1.0%', 220.0: '0.33%', 91.0: '0.67%', 248.0: '0.33%', 176.0: '0.67%', 189.0: '0.33%', 128.0: '1.67%', 105.0: '0.67%', 111.0: '2.0%', 110.0: '2.33%', 95.0: '2.0%', 85.0: '0.33%', 92.0: '0.67%', 135.0: '0.33%', 96.0: '0.67%', 102.0: '1.0%', 86.0: '0.33%', 336.0: '0.33%', 157.0: '0.33%', 177.0: '0.33%', 180.0: '0.33%', 190.0: '0.33%'}\n",
      "         --> False:\n",
      "           Predict {122.0: '1.97%', 116.0: '1.97%', 106.0: '2.62%', 89.0: '2.3%', 99.0: '3.28%', 111.0: '2.3%', 121.0: '2.3%', 134.0: '0.66%', 175.0: '0.66%', 94.0: '1.64%', 118.0: '0.98%', 174.0: '0.33%', 123.0: '2.3%', 100.0: '2.95%', 120.0: '2.62%', 130.0: '1.64%', 139.0: '0.98%', 126.0: '0.98%', 128.0: '0.33%', 101.0: '4.59%', 153.0: '0.33%', 105.0: '3.28%', 124.0: '1.97%', 132.0: '0.66%', 164.0: '0.33%', 197.0: '0.66%', 131.0: '0.66%', 80.0: '0.66%', 119.0: '0.98%', 114.0: '1.31%', 103.0: '1.31%', 97.0: '2.95%', 184.0: '0.33%', 91.0: '2.62%', 112.0: '3.28%', 129.0: '0.98%', 104.0: '1.97%', 108.0: '1.31%', 98.0: '1.64%', 107.0: '1.31%', 140.0: '0.33%', 92.0: '2.62%', 145.0: '0.33%', 95.0: '0.98%', 85.0: '0.98%', 181.0: '0.66%', 109.0: '2.3%', 96.0: '2.95%', 93.0: '3.28%', 84.0: '0.33%', 208.0: '0.33%', 142.0: '0.33%', 168.0: '0.98%', 125.0: '1.64%', 138.0: '0.66%', 163.0: '0.33%', 144.0: '0.66%', 90.0: '1.64%', 127.0: '0.66%', 155.0: '0.33%', 113.0: '1.64%', 171.0: '0.33%', 110.0: '3.28%', 82.0: '0.33%', 185.0: '0.33%', 193.0: '0.33%', 136.0: '0.33%', 102.0: '1.31%', 83.0: '0.66%', 81.0: '0.33%', 115.0: '0.66%', 117.0: '0.66%', 86.0: '0.33%', 147.0: '0.33%', 137.0: '0.33%', 135.0: '0.33%', 88.0: '0.33%'}\n",
      "       --> False:\n",
      "         original_language == hi\n",
      "         --> True:\n",
      "           Predict {192.0: '5.88%', 163.0: '5.88%', 185.0: '5.88%', 170.0: '17.65%', 145.0: '5.88%', 140.0: '11.76%', 123.0: '5.88%', 139.0: '5.88%', 128.0: '5.88%', 159.0: '5.88%', 122.0: '5.88%', 142.0: '5.88%', 161.0: '5.88%', 193.0: '5.88%'}\n",
      "         --> False:\n",
      "           Predict {126.0: '1.9%', 94.0: '0.95%', 112.0: '2.86%', 122.0: '1.9%', 110.0: '3.81%', 317.0: '0.95%', 125.0: '0.95%', 141.0: '0.95%', 105.0: '3.81%', 156.0: '0.95%', 123.0: '1.9%', 139.0: '1.9%', 107.0: '1.9%', 120.0: '4.76%', 128.0: '2.86%', 145.0: '1.9%', 111.0: '3.81%', 124.0: '1.9%', 118.0: '2.86%', 131.0: '0.95%', 104.0: '1.9%', 96.0: '1.9%', 108.0: '4.76%', 130.0: '8.57%', 152.0: '0.95%', 127.0: '3.81%', 119.0: '1.9%', 132.0: '0.95%', 100.0: '3.81%', 85.0: '0.95%', 109.0: '0.95%', 136.0: '0.95%', 117.0: '1.9%', 102.0: '0.95%', 114.0: '0.95%', 116.0: '0.95%', 95.0: '1.9%', 137.0: '0.95%', 168.0: '0.95%', 113.0: '0.95%', 106.0: '0.95%', 133.0: '0.95%', 98.0: '1.9%', 158.0: '0.95%', 170.0: '1.9%', 134.0: '0.95%', 176.0: '0.95%', 172.0: '0.95%', 115.0: '2.86%', 86.0: '0.95%', 91.0: '0.95%', 138.0: '0.95%'}\n",
      "   --> False:\n",
      "     budget >= 46.63\n",
      "     --> True:\n",
      "       genres == Animation\n",
      "       --> True:\n",
      "         budget >= 100.0\n",
      "         --> True:\n",
      "           Predict {84.0: '2.94%', 82.0: '2.94%', 95.0: '8.82%', 92.0: '5.88%', 76.0: '2.94%', 81.0: '2.94%', 117.0: '2.94%', 108.0: '5.88%', 111.0: '2.94%', 98.0: '5.88%', 94.0: '2.94%', 96.0: '8.82%', 90.0: '2.94%', 103.0: '5.88%', 100.0: '5.88%', 107.0: '2.94%', 91.0: '2.94%', 106.0: '2.94%', 93.0: '5.88%', 102.0: '8.82%', 104.0: '2.94%', 97.0: '2.94%'}\n",
      "         --> False:\n",
      "           Predict {88.0: '13.73%', 93.0: '3.92%', 94.0: '7.84%', 92.0: '1.96%', 74.0: '1.96%', 81.0: '1.96%', 85.0: '3.92%', 100.0: '3.92%', 90.0: '5.88%', 80.0: '1.96%', 91.0: '11.76%', 75.0: '1.96%', 87.0: '7.84%', 95.0: '5.88%', 97.0: '3.92%', 96.0: '1.96%', 86.0: '1.96%', 98.0: '1.96%', 83.0: '1.96%', 137.0: '1.96%', 45.0: '1.96%', 78.0: '1.96%', 101.0: '1.96%', 89.0: '1.96%', 102.0: '1.96%', 108.0: '1.96%'}\n",
      "       --> False:\n",
      "         budget >= 209.0\n",
      "         --> True:\n",
      "           Predict {104.0: '3.33%', 154.0: '3.33%', 139.0: '3.33%', 169.0: '6.67%', 150.0: '3.33%', 153.0: '3.33%', 162.0: '3.33%', 146.0: '3.33%', 136.0: '13.33%', 143.0: '6.67%', 165.0: '6.67%', 132.0: '3.33%', 131.0: '6.67%', 106.0: '3.33%', 149.0: '6.67%', 161.0: '3.33%', 144.0: '3.33%', 141.0: '3.33%', 129.0: '3.33%', 147.0: '3.33%', 148.0: '3.33%', 151.0: '3.33%'}\n",
      "         --> False:\n",
      "           Predict {104.0: '2.66%', 170.0: '0.11%', 127.0: '2.45%', 130.0: '2.13%', 106.0: '2.66%', 119.0: '1.92%', 103.0: '2.13%', 132.0: '1.38%', 81.0: '0.11%', 91.0: '1.06%', 108.0: '1.7%', 177.0: '0.11%', 95.0: '2.24%', 121.0: '2.13%', 100.0: '2.13%', 109.0: '2.02%', 116.0: '3.19%', 128.0: '0.85%', 134.0: '0.53%', 96.0: '1.38%', 135.0: '0.64%', 123.0: '1.49%', 141.0: '0.53%', 142.0: '0.43%', 112.0: '1.49%', 115.0: '2.77%', 133.0: '0.96%', 102.0: '2.13%', 137.0: '0.96%', 110.0: '1.92%', 136.0: '1.38%', 113.0: '2.02%', 145.0: '0.43%', 117.0: '1.49%', 107.0: '2.24%', 97.0: '2.02%', 94.0: '1.17%', 101.0: '2.02%', 143.0: '0.85%', 120.0: '1.6%', 139.0: '0.75%', 126.0: '1.49%', 114.0: '2.13%', 89.0: '0.96%', 124.0: '2.98%', 129.0: '0.85%', 125.0: '1.38%', 138.0: '0.64%', 98.0: '1.7%', 92.0: '2.02%', 105.0: '2.45%', 122.0: '1.38%', 93.0: '1.6%', 131.0: '1.06%', 111.0: '0.64%', 85.0: '0.53%', 151.0: '0.21%', 162.0: '0.11%', 140.0: '0.75%', 83.0: '0.53%', 99.0: '1.7%', 178.0: '0.21%', 90.0: '1.38%', 88.0: '1.49%', 159.0: '0.11%', 78.0: '0.32%', 86.0: '0.64%', 77.0: '0.11%', 148.0: '0.21%', 189.0: '0.11%', 118.0: '1.6%', 144.0: '0.75%', 155.0: '0.11%', 147.0: '0.32%', 183.0: '0.11%', 87.0: '1.06%', 152.0: '0.11%', 161.0: '0.11%', 179.0: '0.11%', 84.0: '0.21%', 201.0: '0.11%', 146.0: '0.43%', 163.0: '0.21%', 154.0: '0.21%', 175.0: '0.11%', 422.0: '0.11%', 157.0: '0.21%', 187.0: '0.11%', 149.0: '0.21%', 150.0: '0.43%', 28.0: '0.11%', 166.0: '0.11%', 158.0: '0.21%', 80.0: '0.21%', 156.0: '0.21%', 82.0: '0.11%', 180.0: '0.11%', 169.0: '0.11%', 540.0: '0.11%', 73.0: '0.11%', 705.0: '0.11%'}\n",
      "     --> False:\n",
      "       original_language == en\n",
      "       --> True:\n",
      "         genres == Animation\n",
      "         --> True:\n",
      "           Predict {81.0: '8.16%', 89.0: '6.12%', 90.0: '10.2%', 74.0: '8.16%', 75.0: '2.04%', 93.0: '2.04%', 80.0: '6.12%', 83.0: '8.16%', 79.0: '2.04%', 87.0: '10.2%', 77.0: '4.08%', 84.0: '6.12%', 69.0: '2.04%', 85.0: '8.16%', 102.0: '2.04%', 100.0: '2.04%', 71.0: '2.04%', 76.0: '2.04%', 86.0: '2.04%', 63.0: '2.04%', 82.0: '4.08%'}\n",
      "         --> False:\n",
      "           Predict {127.0: '0.57%', 106.0: '2.3%', 192.0: '0.04%', 90.0: '3.19%', 105.0: '2.55%', 100.0: '3.88%', 129.0: '0.48%', 89.0: '2.42%', 97.0: '3.39%', 119.0: '0.85%', 101.0: '2.18%', 95.0: '3.39%', 96.0: '3.68%', 88.0: '1.74%', 108.0: '2.67%', 91.0: '2.83%', 92.0: '2.38%', 113.0: '2.18%', 117.0: '1.45%', 118.0: '1.41%', 139.0: '0.24%', 128.0: '0.73%', 104.0: '2.14%', 107.0: '2.59%', 94.0: '3.27%', 114.0: '1.45%', 112.0: '1.78%', 145.0: '0.12%', 99.0: '2.75%', 98.0: '3.76%', 115.0: '1.41%', 121.0: '0.93%', 133.0: '0.36%', 154.0: '0.12%', 110.0: '1.94%', 103.0: '2.34%', 86.0: '1.45%', 102.0: '2.42%', 123.0: '0.77%', 83.0: '0.81%', 111.0: '2.1%', 116.0: '1.09%', 87.0: '1.58%', 144.0: '0.24%', 130.0: '0.65%', 109.0: '1.62%', 140.0: '0.36%', 125.0: '0.81%', 138.0: '0.4%', 93.0: '3.31%', 76.0: '0.12%', 120.0: '1.05%', 80.0: '0.32%', 181.0: '0.04%', 126.0: '0.61%', 84.0: '1.37%', 79.0: '0.28%', 135.0: '0.24%', 81.0: '0.4%', 149.0: '0.12%', 78.0: '0.04%', 201.0: '0.04%', 167.0: '0.12%', 82.0: '0.77%', 131.0: '0.4%', 147.0: '0.08%', 160.0: '0.08%', 124.0: '0.81%', 132.0: '0.28%', 137.0: '0.28%', 216.0: '0.04%', 122.0: '0.85%', 212.0: '0.04%', 171.0: '0.04%', 141.0: '0.16%', 134.0: '0.48%', 85.0: '0.93%', 155.0: '0.16%', 152.0: '0.08%', 74.0: '0.08%', 77.0: '0.16%', 75.0: '0.04%', 159.0: '0.04%', 197.0: '0.04%', 157.0: '0.12%', 150.0: '0.12%', 178.0: '0.12%', 151.0: '0.04%', 71.0: '0.04%', 142.0: '0.12%', 158.0: '0.04%', 180.0: '0.2%', 170.0: '0.08%', 136.0: '0.16%', 182.0: '0.04%', 163.0: '0.04%', 72.0: '0.08%', 219.0: '0.04%', 173.0: '0.12%', 146.0: '0.08%', 292.0: '0.04%', 162.0: '0.04%', 366.0: '0.04%', 175.0: '0.04%', 187.0: '0.04%', 148.0: '0.08%', 188.0: '0.04%', 161.0: '0.04%', 338.0: '0.04%', 184.0: '0.04%', 165.0: '0.04%', 240.0: '0.08%', 176.0: '0.04%', 69.0: '0.04%', 168.0: '0.04%', 186.0: '0.04%', 143.0: '0.04%'}\n",
      "       --> False:\n",
      "         genres == Horror\n",
      "         --> True:\n",
      "           Predict {92.0: '20.0%', 99.0: '60.0%', 119.0: '20.0%'}\n",
      "         --> False:\n",
      "           Predict {108.0: '2.66%', 91.0: '0.8%', 100.0: '2.93%', 110.0: '2.93%', 170.0: '1.06%', 162.0: '0.53%', 149.0: '1.33%', 124.0: '0.27%', 287.0: '0.27%', 113.0: '1.06%', 116.0: '1.33%', 89.0: '1.33%', 80.0: '1.33%', 88.0: '1.33%', 158.0: '0.53%', 134.0: '0.53%', 75.0: '0.27%', 101.0: '1.6%', 84.0: '1.33%', 120.0: '4.26%', 93.0: '1.6%', 114.0: '1.06%', 107.0: '0.53%', 122.0: '0.8%', 137.0: '0.8%', 111.0: '1.06%', 125.0: '1.6%', 98.0: '1.6%', 224.0: '0.27%', 180.0: '1.06%', 99.0: '1.86%', 121.0: '0.8%', 178.0: '0.53%', 82.0: '0.27%', 103.0: '1.06%', 129.0: '1.06%', 87.0: '0.53%', 105.0: '3.72%', 155.0: '1.86%', 85.0: '1.6%', 119.0: '1.6%', 126.0: '1.86%', 190.0: '0.27%', 128.0: '0.8%', 118.0: '1.33%', 102.0: '1.6%', 115.0: '2.13%', 139.0: '1.06%', 156.0: '0.27%', 95.0: '0.53%', 213.0: '0.27%', 145.0: '0.8%', 106.0: '1.33%', 130.0: '2.13%', 150.0: '1.33%', 142.0: '1.33%', 144.0: '1.33%', 135.0: '1.6%', 109.0: '0.8%', 96.0: '1.06%', 94.0: '1.86%', 183.0: '0.27%', 138.0: '0.27%', 141.0: '0.8%', 112.0: '1.06%', 86.0: '0.53%', 131.0: '1.06%', 123.0: '0.27%', 90.0: '3.72%', 136.0: '0.8%', 154.0: '0.53%', 164.0: '0.53%', 140.0: '1.06%', 152.0: '0.27%', 159.0: '0.53%', 78.0: '0.8%', 171.0: '0.27%', 104.0: '0.8%', 160.0: '0.27%', 270.0: '0.27%', 117.0: '0.53%', 133.0: '0.8%', 153.0: '0.27%', 127.0: '0.53%', 168.0: '0.8%', 76.0: '0.53%', 97.0: '0.53%', 147.0: '0.27%', 172.0: '0.27%', 151.0: '0.53%', 163.0: '0.53%', 174.0: '0.27%', 263.0: '0.27%', 165.0: '0.27%', 143.0: '0.27%', 176.0: '0.27%', 161.0: '0.53%', 146.0: '0.27%', 66.0: '0.27%', 81.0: '0.27%', 167.0: '0.27%', 169.0: '0.27%', 175.0: '0.27%', 185.0: '0.27%'}\n",
      " --> False:\n",
      "   budget >= 0.787\n",
      "   --> True:\n",
      "     genres == Drama\n",
      "     --> True:\n",
      "       original_language == hi\n",
      "       --> True:\n",
      "         budget >= 2.3\n",
      "         --> True:\n",
      "           Predict {165.0: '5.88%', 158.0: '5.88%', 145.0: '5.88%', 166.0: '5.88%', 210.0: '5.88%', 143.0: '5.88%', 155.0: '11.76%', 133.0: '5.88%', 138.0: '5.88%', 175.0: '5.88%', 136.0: '5.88%', 153.0: '11.76%', 178.0: '5.88%', 149.0: '5.88%', 116.0: '5.88%'}\n",
      "         --> False:\n",
      "           Predict {185.0: '10.0%', 157.0: '10.0%', 104.0: '20.0%', 156.0: '10.0%', 132.0: '10.0%', 137.0: '10.0%', 179.0: '10.0%', 170.0: '10.0%', 149.0: '10.0%'}\n",
      "       --> False:\n",
      "         original_language == th\n",
      "         --> True:\n",
      "           Predict {105.0: '33.33%', 122.0: '66.67%'}\n",
      "         --> False:\n",
      "           Predict {112.0: '2.3%', 102.0: '1.69%', 98.0: '1.84%', 91.0: '2.15%', 135.0: '1.38%', 105.0: '4.15%', 99.0: '2.46%', 106.0: '1.54%', 97.0: '3.07%', 114.0: '1.23%', 95.0: '4.76%', 93.0: '2.61%', 108.0: '3.07%', 170.0: '0.31%', 113.0: '1.54%', 238.0: '0.15%', 110.0: '2.92%', 138.0: '0.77%', 130.0: '0.92%', 111.0: '1.84%', 88.0: '1.84%', 142.0: '0.31%', 120.0: '2.3%', 125.0: '0.92%', 100.0: '3.53%', 133.0: '0.77%', 128.0: '0.77%', 109.0: '0.46%', 161.0: '0.15%', 92.0: '2.61%', 117.0: '1.84%', 147.0: '0.31%', 118.0: '1.84%', 104.0: '2.0%', 103.0: '2.3%', 134.0: '0.61%', 84.0: '0.46%', 122.0: '0.61%', 101.0: '1.84%', 172.0: '0.15%', 119.0: '0.92%', 83.0: '0.61%', 96.0: '3.53%', 159.0: '0.15%', 124.0: '1.23%', 153.0: '0.15%', 132.0: '0.15%', 123.0: '1.38%', 107.0: '1.08%', 121.0: '1.69%', 127.0: '0.46%', 145.0: '0.31%', 94.0: '2.61%', 146.0: '0.15%', 154.0: '0.15%', 129.0: '0.61%', 86.0: '0.46%', 116.0: '0.46%', 82.0: '0.46%', 131.0: '0.31%', 89.0: '1.38%', 115.0: '1.69%', 80.0: '0.61%', 144.0: '0.31%', 186.0: '0.15%', 81.0: '0.46%', 180.0: '0.31%', 148.0: '0.31%', 149.0: '0.31%', 139.0: '0.31%', 155.0: '0.46%', 189.0: '0.15%', 79.0: '0.15%', 183.0: '0.15%', 87.0: '0.61%', 450.0: '0.15%', 137.0: '0.31%', 66.0: '0.15%', 90.0: '4.45%', 73.0: '0.31%', 85.0: '0.77%', 168.0: '0.15%', 76.0: '0.31%', 152.0: '0.15%', 40.0: '0.15%', 78.0: '0.15%', 64.0: '0.15%', 150.0: '0.31%', 190.0: '0.15%', 199.0: '0.15%', 71.0: '0.15%', 164.0: '0.15%', 136.0: '0.15%', 77.0: '0.15%', 75.0: '0.15%', 169.0: '0.15%', 500.0: '0.15%', 157.0: '0.15%', 173.0: '0.15%', 191.0: '0.15%'}\n",
      "     --> False:\n",
      "       original_language == en\n",
      "       --> True:\n",
      "         genres == Animation\n",
      "         --> True:\n",
      "           Predict {88.0: '5.0%', 78.0: '10.0%', 79.0: '10.0%', 64.0: '5.0%', 75.0: '10.0%', 124.0: '5.0%', 70.0: '5.0%', 77.0: '5.0%', 81.0: '5.0%', 102.0: '5.0%', 80.0: '5.0%', 76.0: '20.0%', 85.0: '5.0%', 7.0: '5.0%'}\n",
      "         --> False:\n",
      "           Predict {98.0: '2.93%', 91.0: '3.41%', 114.0: '0.56%', 113.0: '1.27%', 83.0: '1.35%', 89.0: '2.46%', 139.0: '0.24%', 100.0: '4.04%', 96.0: '3.33%', 93.0: '4.12%', 86.0: '2.7%', 99.0: '3.17%', 108.0: '1.03%', 88.0: '4.12%', 103.0: '1.82%', 110.0: '1.74%', 128.0: '0.48%', 136.0: '0.32%', 125.0: '0.56%', 122.0: '0.16%', 119.0: '0.79%', 102.0: '2.7%', 133.0: '0.16%', 106.0: '1.27%', 97.0: '3.73%', 129.0: '0.32%', 105.0: '1.82%', 127.0: '0.16%', 74.0: '0.16%', 82.0: '1.03%', 94.0: '3.25%', 111.0: '0.87%', 104.0: '1.9%', 112.0: '1.03%', 126.0: '0.24%', 84.0: '1.74%', 172.0: '0.16%', 118.0: '0.79%', 90.0: '7.45%', 92.0: '4.36%', 85.0: '2.93%', 109.0: '1.19%', 116.0: '0.71%', 141.0: '0.08%', 132.0: '0.32%', 152.0: '0.08%', 87.0: '3.17%', 95.0: '4.04%', 117.0: '0.4%', 78.0: '0.56%', 79.0: '0.56%', 80.0: '1.03%', 121.0: '0.48%', 143.0: '0.16%', 130.0: '0.24%', 120.0: '0.95%', 101.0: '2.46%', 107.0: '1.11%', 77.0: '0.48%', 115.0: '0.56%', 124.0: '0.24%', 72.0: '0.48%', 144.0: '0.08%', 81.0: '0.87%', 123.0: '0.32%', 208.0: '0.16%', 138.0: '0.16%', 69.0: '0.08%', 75.0: '0.63%', 156.0: '0.08%', 134.0: '0.24%', 149.0: '0.08%', 184.0: '0.08%', 154.0: '0.08%', 255.0: '0.08%', 33.0: '0.08%', 131.0: '0.08%', 76.0: '0.16%', 140.0: '0.08%', 170.0: '0.08%', 26.0: '0.08%', 45.0: '0.08%', 17.0: '0.08%', 13.0: '0.08%', 70.0: '0.08%', 58.0: '0.08%', 29.0: '0.08%', 15.0: '0.08%'}\n",
      "       --> False:\n",
      "         genres == Comedy\n",
      "         --> True:\n",
      "           Predict {99.0: '4.27%', 104.0: '1.71%', 106.0: '1.71%', 101.0: '0.85%', 95.0: '5.13%', 109.0: '0.85%', 121.0: '0.85%', 113.0: '0.85%', 105.0: '2.56%', 98.0: '1.71%', 108.0: '4.27%', 118.0: '1.71%', 100.0: '11.97%', 129.0: '0.85%', 102.0: '1.71%', 93.0: '3.42%', 89.0: '2.56%', 207.0: '0.85%', 82.0: '2.56%', 90.0: '8.55%', 86.0: '1.71%', 115.0: '2.56%', 119.0: '0.85%', 107.0: '2.56%', 83.0: '2.56%', 80.0: '2.56%', 110.0: '0.85%', 94.0: '2.56%', 85.0: '2.56%', 87.0: '5.13%', 120.0: '2.56%', 88.0: '1.71%', 116.0: '1.71%', 143.0: '0.85%', 140.0: '0.85%', 141.0: '0.85%', 155.0: '0.85%', 162.0: '0.85%', 123.0: '0.85%', 135.0: '0.85%', 150.0: '0.85%', 112.0: '0.85%', 66.0: '0.85%', 78.0: '0.85%', 125.0: '0.85%', 81.0: '0.85%'}\n",
      "         --> False:\n",
      "           Predict {105.0: '3.2%', 95.0: '2.8%', 161.0: '0.4%', 175.0: '0.4%', 207.0: '0.4%', 96.0: '1.6%', 87.0: '0.8%', 81.0: '0.4%', 126.0: '1.6%', 144.0: '0.4%', 83.0: '0.8%', 107.0: '2.8%', 106.0: '2.8%', 110.0: '3.6%', 104.0: '0.8%', 102.0: '2.4%', 114.0: '1.2%', 112.0: '1.2%', 89.0: '1.6%', 99.0: '0.4%', 117.0: '2.0%', 129.0: '2.4%', 135.0: '0.4%', 128.0: '2.0%', 125.0: '0.8%', 124.0: '0.8%', 88.0: '1.6%', 130.0: '0.8%', 78.0: '1.6%', 121.0: '0.8%', 115.0: '2.8%', 70.0: '0.4%', 92.0: '4.0%', 94.0: '1.2%', 127.0: '0.8%', 132.0: '0.8%', 159.0: '0.8%', 79.0: '0.4%', 75.0: '1.2%', 63.0: '0.4%', 103.0: '2.0%', 91.0: '1.6%', 147.0: '0.4%', 141.0: '0.4%', 32.0: '0.4%', 77.0: '0.4%', 133.0: '0.4%', 93.0: '4.4%', 84.0: '1.2%', 116.0: '0.4%', 97.0: '1.6%', 272.0: '0.4%', 101.0: '2.0%', 122.0: '0.4%', 108.0: '0.4%', 320.0: '0.4%', 100.0: '5.2%', 98.0: '1.6%', 85.0: '1.6%', 186.0: '0.4%', 179.0: '0.4%', 49.0: '0.4%', 150.0: '1.2%', 80.0: '1.2%', 90.0: '4.4%', 86.0: '0.8%', 120.0: '0.4%', 160.0: '0.8%', 123.0: '0.8%', 156.0: '0.8%', 170.0: '0.8%', 113.0: '0.8%', 162.0: '1.2%', 153.0: '0.4%', 138.0: '0.4%', 137.0: '0.4%', 111.0: '0.8%', 146.0: '0.4%', 82.0: '0.4%', 154.0: '0.4%', 72.0: '0.4%', 65.0: '0.4%', 177.0: '0.4%', 73.0: '0.4%'}\n",
      "   --> False:\n",
      "     genres == Animation\n",
      "     --> True:\n",
      "       budget >= 0.004986\n",
      "       --> True:\n",
      "         budget >= 0.06\n",
      "         --> True:\n",
      "           Predict {5.0: '7.14%', 6.0: '14.29%', 26.0: '7.14%', 92.0: '7.14%', 11.0: '14.29%', 14.0: '7.14%', 8.0: '21.43%', 73.0: '7.14%', 10.0: '7.14%', 97.0: '7.14%'}\n",
      "         --> False:\n",
      "           Predict {8.0: '25.0%', 9.0: '37.5%', 7.0: '18.75%', 6.0: '6.25%', 5.0: '6.25%', 10.0: '6.25%'}\n",
      "       --> False:\n",
      "         budget >= 0.0002\n",
      "         --> True:\n",
      "           Predict {94.0: '25.0%', 73.0: '25.0%', 4.0: '50.0%'}\n",
      "         --> False:\n",
      "           Predict {75.0: '50.0%', 97.0: '25.0%', 94.0: '25.0%'}\n",
      "     --> False:\n",
      "       genres == Horror\n",
      "       --> True:\n",
      "         budget >= 0.305177\n",
      "         --> True:\n",
      "           Predict {75.0: '2.6%', 95.0: '7.79%', 72.0: '1.3%', 80.0: '5.19%', 98.0: '2.6%', 94.0: '3.9%', 91.0: '6.49%', 88.0: '1.3%', 90.0: '10.39%', 85.0: '10.39%', 71.0: '1.3%', 87.0: '5.19%', 86.0: '1.3%', 101.0: '2.6%', 83.0: '2.6%', 97.0: '1.3%', 93.0: '3.9%', 127.0: '1.3%', 60.0: '1.3%', 96.0: '2.6%', 92.0: '2.6%', 105.0: '1.3%', 77.0: '1.3%', 108.0: '1.3%', 99.0: '3.9%', 102.0: '1.3%', 55.0: '1.3%', 104.0: '2.6%', 79.0: '1.3%', 120.0: '1.3%', 103.0: '1.3%', 89.0: '1.3%', 84.0: '1.3%', 81.0: '1.3%', 82.0: '1.3%'}\n",
      "         --> False:\n",
      "           Predict {96.0: '0.73%', 86.0: '5.11%', 91.0: '2.19%', 93.0: '2.92%', 83.0: '2.92%', 101.0: '0.73%', 77.0: '2.92%', 73.0: '1.46%', 81.0: '2.19%', 82.0: '5.84%', 89.0: '5.11%', 67.0: '2.19%', 79.0: '1.46%', 87.0: '5.11%', 90.0: '15.33%', 78.0: '2.92%', 72.0: '2.92%', 84.0: '5.84%', 85.0: '3.65%', 97.0: '1.46%', 62.0: '0.73%', 75.0: '0.73%', 74.0: '0.73%', 47.0: '0.73%', 70.0: '1.46%', 69.0: '0.73%', 65.0: '1.46%', 80.0: '2.19%', 88.0: '4.38%', 112.0: '0.73%', 13.0: '0.73%', 94.0: '1.46%', 98.0: '2.19%', 95.0: '2.92%', 99.0: '0.73%', 32.0: '0.73%', 106.0: '0.73%', 61.0: '0.73%', 92.0: '0.73%', 71.0: '0.73%', 100.0: '0.73%', 181.0: '0.73%'}\n",
      "       --> False:\n",
      "         budget >= 0.239\n",
      "         --> True:\n",
      "           Predict {89.0: '2.36%', 171.0: '0.21%', 105.0: '3.64%', 91.0: '3.0%', 130.0: '0.64%', 88.0: '5.14%', 107.0: '1.93%', 100.0: '3.21%', 101.0: '1.93%', 123.0: '0.64%', 103.0: '1.5%', 71.0: '1.07%', 96.0: '1.5%', 85.0: '4.28%', 113.0: '1.28%', 95.0: '1.5%', 112.0: '0.86%', 155.0: '0.21%', 90.0: '9.85%', 94.0: '2.36%', 86.0: '1.71%', 84.0: '1.71%', 79.0: '0.43%', 80.0: '2.36%', 129.0: '0.21%', 102.0: '1.93%', 68.0: '0.21%', 110.0: '1.5%', 92.0: '3.43%', 99.0: '1.5%', 132.0: '0.21%', 93.0: '3.85%', 83.0: '0.43%', 116.0: '0.43%', 53.0: '0.21%', 97.0: '2.14%', 81.0: '1.5%', 87.0: '1.93%', 133.0: '0.21%', 134.0: '0.43%', 106.0: '0.64%', 142.0: '0.21%', 225.0: '0.21%', 111.0: '0.21%', 109.0: '0.86%', 82.0: '1.5%', 151.0: '0.43%', 140.0: '0.64%', 70.0: '0.43%', 115.0: '0.86%', 74.0: '0.43%', 125.0: '0.21%', 114.0: '0.43%', 76.0: '0.43%', 163.0: '0.21%', 98.0: '2.14%', 66.0: '0.21%', 108.0: '0.86%', 73.0: '1.28%', 65.0: '0.21%', 77.0: '0.21%', 122.0: '0.21%', 78.0: '1.28%', 157.0: '2.14%', 120.0: '0.43%', 117.0: '0.21%', 58.0: '0.21%', 62.0: '0.43%', 60.0: '0.64%', 75.0: '0.86%', 55.0: '0.21%', 11.0: '0.43%', 160.0: '0.43%', 45.0: '0.21%', 139.0: '0.21%', 72.0: '0.43%', 31.0: '0.21%', 186.0: '0.21%', 119.0: '0.21%', 127.0: '0.43%', 104.0: '0.64%', 178.0: '0.21%', 138.0: '0.21%', 26.0: '0.21%', 52.0: '0.21%', 148.0: '0.21%', 145.0: '0.21%', 67.0: '0.21%', 56.0: '0.21%', 179.0: '0.21%', 118.0: '0.21%', 146.0: '0.21%', 124.0: '0.21%', 4.0: '0.43%', 158.0: '0.21%', 144.0: '0.21%', 131.0: '0.21%', 143.0: '0.21%'}\n",
      "         --> False:\n",
      "           Predict {95.0: '3.44%', 94.0: '1.96%', 98.0: '1.8%', 92.0: '2.13%', 121.0: '0.65%', 100.0: '3.11%', 83.0: '2.62%', 102.0: '0.49%', 106.0: '0.82%', 90.0: '7.53%', 109.0: '0.49%', 115.0: '1.31%', 93.0: '2.78%', 89.0: '2.45%', 119.0: '0.33%', 91.0: '1.64%', 110.0: '2.78%', 85.0: '2.95%', 84.0: '2.29%', 79.0: '1.31%', 144.0: '0.33%', 87.0: '2.62%', 72.0: '0.49%', 99.0: '1.8%', 113.0: '0.49%', 75.0: '1.64%', 69.0: '0.33%', 118.0: '0.65%', 67.0: '0.33%', 70.0: '1.64%', 80.0: '2.78%', 103.0: '0.98%', 145.0: '0.49%', 96.0: '1.47%', 81.0: '1.64%', 86.0: '2.62%', 107.0: '0.49%', 78.0: '1.8%', 122.0: '0.49%', 108.0: '0.33%', 120.0: '1.15%', 111.0: '0.65%', 97.0: '1.15%', 88.0: '1.96%', 104.0: '1.64%', 105.0: '1.64%', 193.0: '0.16%', 66.0: '0.98%', 283.0: '0.16%', 130.0: '0.82%', 73.0: '0.65%', 63.0: '0.33%', 77.0: '0.65%', 59.0: '0.33%', 29.0: '0.16%', 71.0: '1.15%', 82.0: '1.96%', 68.0: '0.65%', 112.0: '0.33%', 14.0: '0.49%', 140.0: '0.33%', 64.0: '0.65%', 12.0: '0.16%', 143.0: '0.33%', 114.0: '0.49%', 170.0: '0.16%', 27.0: '0.33%', 45.0: '0.49%', 42.0: '0.33%', 58.0: '0.33%', 38.0: '0.33%', 129.0: '0.16%', 210.0: '0.16%', 133.0: '0.49%', 148.0: '0.16%', 32.0: '0.16%', 62.0: '0.16%', 76.0: '0.65%', 132.0: '0.33%', 137.0: '0.16%', 55.0: '0.65%', 35.0: '0.33%', 60.0: '0.82%', 131.0: '0.33%', 44.0: '0.16%', 31.0: '0.16%', 165.0: '0.16%', 10.0: '0.33%', 50.0: '0.16%', 21.0: '0.16%', 136.0: '0.16%', 15.0: '0.16%', 141.0: '0.49%', 123.0: '0.16%', 40.0: '0.16%', 182.0: '0.16%', 20.0: '0.49%', 74.0: '0.16%', 65.0: '0.65%', 25.0: '0.16%', 135.0: '0.16%', 6.0: '0.16%', 127.0: '0.16%', 185.0: '0.16%', 30.0: '0.16%', 150.0: '0.16%', 159.0: '0.16%', 101.0: '0.33%', 47.0: '0.16%', 33.0: '0.16%', 156.0: '0.16%', 46.0: '0.16%', 350.0: '0.16%', 7.0: '0.16%', 126.0: '0.16%', 18.0: '0.16%', 57.0: '0.33%', 124.0: '0.16%', 166.0: '0.16%', 139.0: '0.16%', 149.0: '0.16%', 13.0: '0.33%', 9.0: '0.16%'}\n"
     ]
    }
   ],
   "source": [
    "clf.print_tree(my_tree) ## Print CART"
   ]
  },
  {
   "cell_type": "markdown",
   "metadata": {},
   "source": [
    "### Getting predictions on a test dataset"
   ]
  },
  {
   "cell_type": "code",
   "execution_count": 60,
   "metadata": {},
   "outputs": [
    {
     "name": "stdout",
     "output_type": "stream",
     "text": [
      "Actual: 93.0. Predicted: 100.0\n",
      "Actual: 86.0. Predicted: 100.0\n",
      "Actual: 104.0. Predicted: 90.0\n",
      "Actual: 101.0. Predicted: 100.0\n",
      "Actual: 130.0. Predicted: 100.0\n",
      "Actual: 124.0. Predicted: 101.0\n",
      "Actual: 92.0. Predicted: 100.0\n",
      "Actual: 93.0. Predicted: 100.0\n",
      "Actual: 143.0. Predicted: 90.0\n",
      "Actual: 115.0. Predicted: 100.0\n",
      "Actual: 110.0. Predicted: 100.0\n",
      "Actual: 100.0. Predicted: 100.0\n",
      "Actual: 111.0. Predicted: 90.0\n",
      "Actual: 73.0. Predicted: 90.0\n",
      "Actual: 124.0. Predicted: 115.0\n",
      "Actual: 71.0. Predicted: 82.0\n",
      "Actual: 95.0. Predicted: 100.0\n",
      "Actual: 87.0. Predicted: 100.0\n",
      "Actual: 84.0. Predicted: 95.0\n",
      "Actual: 109.0. Predicted: 100.0\n",
      "Actual: 117.0. Predicted: 100.0\n",
      "Actual: 87.0. Predicted: 115.0\n",
      "Actual: 102.0. Predicted: 100.0\n",
      "Actual: 133.0. Predicted: 130.0\n",
      "Actual: 86.0. Predicted: 90.0\n",
      "Actual: 102.0. Predicted: 100.0\n",
      "Actual: 106.0. Predicted: 90.0\n",
      "Actual: 128.0. Predicted: 116.0\n",
      "Actual: 99.0. Predicted: 100.0\n",
      "Actual: 130.0. Predicted: 116.0\n",
      "Actual: 93.0. Predicted: 95.0\n",
      "Actual: 92.0. Predicted: 90.0\n",
      "Actual: 108.0. Predicted: 105.0\n",
      "Actual: 175.0. Predicted: 120.0\n",
      "Actual: 142.0. Predicted: 95.0\n",
      "Actual: 105.0. Predicted: 100.0\n",
      "Actual: 127.0. Predicted: 100.0\n",
      "Actual: 125.0. Predicted: 116.0\n",
      "Actual: 94.0. Predicted: 157.0\n",
      "Actual: 112.0. Predicted: 95.0\n",
      "Actual: 93.0. Predicted: 116.0\n",
      "Actual: 94.0. Predicted: 90.0\n",
      "Actual: 104.0. Predicted: 90.0\n",
      "Actual: 108.0. Predicted: 100.0\n",
      "Actual: 94.0. Predicted: 100.0\n"
     ]
    }
   ],
   "source": [
    "## Classification with test data\n",
    "for row in test_data:\n",
    "    print(f\"Actual: {row[-1]}. Predicted: {clf.classify(row, my_tree)}\")"
   ]
  },
  {
   "cell_type": "markdown",
   "metadata": {},
   "source": [
    "### Accuracy Score "
   ]
  },
  {
   "cell_type": "code",
   "execution_count": 61,
   "metadata": {},
   "outputs": [],
   "source": [
    "y_pred = [clf.classify(row, my_tree) for row in train_data]\n",
    "y_train = [row[-1] for row in train_data]"
   ]
  },
  {
   "cell_type": "code",
   "execution_count": 62,
   "metadata": {},
   "outputs": [
    {
     "name": "stdout",
     "output_type": "stream",
     "text": [
      "Accuracy score: 0.05454133121669123\n"
     ]
    }
   ],
   "source": [
    "print(f\"Accuracy score: {accuracy_score(y_train,y_pred)}\")"
   ]
  },
  {
   "cell_type": "code",
   "execution_count": 63,
   "metadata": {},
   "outputs": [
    {
     "data": {
      "image/png": "[encoded data removed]",
      "text/plain": [
       "<Figure size 720x360 with 1 Axes>"
      ]
     },
     "metadata": {
      "needs_background": "light"
     },
     "output_type": "display_data"
    }
   ],
   "source": [
    "## Plot predictions\n",
    "fig,ax = plt.subplots(figsize=(10,5))\n",
    "plt.scatter(y_pred, y_train)\n",
    "plt.plot([0, 1], [0, 1], '--k', transform = plt.gca().transAxes)\n",
    "plt.xlabel('y_pred')\n",
    "plt.ylabel('y_train')\n",
    "plt.show()"
   ]
  },
  {
   "cell_type": "code",
   "execution_count": null,
   "metadata": {},
   "outputs": [],
   "source": []
  }
 ],
 "metadata": {
  "kernelspec": {
   "display_name": "Python 3",
   "language": "python",
   "name": "python3"
  },
  "language_info": {
   "codemirror_mode": {
    "name": "ipython",
    "version": 3
   },
   "file_extension": ".py",
   "mimetype": "text/x-python",
   "name": "python",
   "nbconvert_exporter": "python",
   "pygments_lexer": "ipython3",
   "version": "3.6.5"
  }
 },
 "nbformat": 4,
 "nbformat_minor": 4
}
