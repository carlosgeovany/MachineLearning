{
 "cells": [
  {
   "cell_type": "code",
   "execution_count": 1,
   "metadata": {},
   "outputs": [],
   "source": [
    "import numpy as np\n",
    "import pandas as pd\n",
    "import matplotlib.pyplot as plt\n",
    "import seaborn as sns\n",
    "from sklearn.model_selection import KFold, train_test_split\n",
    "\n",
    "from recommender import matrix_factorization, find_best\n",
    "\n",
    "np.random.seed(seed=1983)"
   ]
  },
  {
   "cell_type": "code",
   "execution_count": 2,
   "metadata": {},
   "outputs": [],
   "source": [
    "## Dummy dataset\n",
    "a = pd.DataFrame([\n",
    "\n",
    "     [1,5,3,0,1],\n",
    "\n",
    "     [2,4,0,0,1],\n",
    "\n",
    "     [3,1,1,0,5],\n",
    "\n",
    "     [4,1,0,0,4],\n",
    "\n",
    "     [5,0,1,5,4],\n",
    "    \n",
    "     [6,2,1,3,0],\n",
    "\n",
    "    ]).set_index(0)\n",
    "\n",
    "a.index.names = ['userId']\n",
    "a.columns.names = ['movieId']"
   ]
  },
  {
   "cell_type": "code",
   "execution_count": 3,
   "metadata": {},
   "outputs": [],
   "source": [
    "kf = KFold(n_splits=3)"
   ]
  },
  {
   "cell_type": "code",
   "execution_count": 4,
   "metadata": {},
   "outputs": [
    {
     "name": "stdout",
     "output_type": "stream",
     "text": [
      "TRAIN: [2 3 4 5]\n",
      "K: 10\t | Learning_rate: 0.001\t | MSE:15.071774580026862\n",
      "K: 10\t | Learning_rate: 0.01\t | MSE:2.1935173516309603\n",
      "K: 10\t | Learning_rate: 0.1\t | MSE:1.048841605777777\n",
      "K: 10\t | Learning_rate: 1\t | MSE:1.0004228488678764\n",
      "K: 20\t | Learning_rate: 0.001\t | MSE:9.742491280681216\n",
      "K: 20\t | Learning_rate: 0.01\t | MSE:3.3128476160047637\n",
      "K: 20\t | Learning_rate: 0.1\t | MSE:1.1135070267130305\n",
      "K: 20\t | Learning_rate: 1\t | MSE:1.0001488119597617\n",
      "K: 30\t | Learning_rate: 0.001\t | MSE:50.043668589204515\n",
      "K: 30\t | Learning_rate: 0.01\t | MSE:5.8665436574547485\n",
      "K: 30\t | Learning_rate: 0.1\t | MSE:1.3855595878742568\n",
      "K: 30\t | Learning_rate: 1\t | MSE:1.0001700971341196\n",
      "K: 40\t | Learning_rate: 0.001\t | MSE:98.72441027437411\n",
      "K: 40\t | Learning_rate: 0.01\t | MSE:12.077928617612175\n",
      "K: 40\t | Learning_rate: 0.1\t | MSE:1.5188445211818773\n",
      "K: 40\t | Learning_rate: 1\t | MSE:1.0000225465023582\n",
      "K: 50\t | Learning_rate: 0.001\t | MSE:139.654434326975\n",
      "K: 50\t | Learning_rate: 0.01\t | MSE:21.651910763520878\n",
      "K: 50\t | Learning_rate: 0.1\t | MSE:1.5148766488969079\n",
      "K: 50\t | Learning_rate: 1\t | MSE:1.0000074453597512\n",
      "TRAIN: [0 1 4 5]\n",
      "K: 10\t | Learning_rate: 0.001\t | MSE:14.870787371740073\n",
      "K: 10\t | Learning_rate: 0.01\t | MSE:6.535176372521391\n",
      "K: 10\t | Learning_rate: 0.1\t | MSE:1.4225116593557396\n",
      "K: 10\t | Learning_rate: 1\t | MSE:1.002744005738502\n",
      "K: 20\t | Learning_rate: 0.001\t | MSE:36.65689735415427\n",
      "K: 20\t | Learning_rate: 0.01\t | MSE:7.303812802524256\n",
      "K: 20\t | Learning_rate: 0.1\t | MSE:1.5341100700396408\n",
      "K: 20\t | Learning_rate: 1\t | MSE:1.0023986690198596\n",
      "K: 30\t | Learning_rate: 0.001\t | MSE:79.51369386535512\n",
      "K: 30\t | Learning_rate: 0.01\t | MSE:13.767490786763076\n",
      "K: 30\t | Learning_rate: 0.1\t | MSE:1.8016508692459974\n",
      "K: 30\t | Learning_rate: 1\t | MSE:1.0001117427085005\n",
      "K: 40\t | Learning_rate: 0.001\t | MSE:135.45087509538692\n",
      "K: 40\t | Learning_rate: 0.01\t | MSE:21.547376102514093\n",
      "K: 40\t | Learning_rate: 0.1\t | MSE:1.7477938921897178\n",
      "K: 40\t | Learning_rate: 1\t | MSE:1.0000405292179253\n",
      "K: 50\t | Learning_rate: 0.001\t | MSE:168.69123908925496\n",
      "K: 50\t | Learning_rate: 0.01\t | MSE:23.345513920844983\n",
      "K: 50\t | Learning_rate: 0.1\t | MSE:2.0328340090555854\n",
      "K: 50\t | Learning_rate: 1\t | MSE:1.0000086361455838\n",
      "TRAIN: [0 1 2 3]\n",
      "K: 10\t | Learning_rate: 0.001\t | MSE:7.428361431007364\n",
      "K: 10\t | Learning_rate: 0.01\t | MSE:3.393466604739481\n",
      "K: 10\t | Learning_rate: 0.1\t | MSE:1.2151837710414959\n",
      "K: 10\t | Learning_rate: 1\t | MSE:1.0025900092117295\n",
      "K: 20\t | Learning_rate: 0.001\t | MSE:8.784525775423054\n",
      "K: 20\t | Learning_rate: 0.01\t | MSE:8.802036390896276\n",
      "K: 20\t | Learning_rate: 0.1\t | MSE:1.6128208247197922\n",
      "K: 20\t | Learning_rate: 1\t | MSE:1.0035596647368756\n",
      "K: 30\t | Learning_rate: 0.001\t | MSE:103.92671389959938\n",
      "K: 30\t | Learning_rate: 0.01\t | MSE:17.316820806282557\n",
      "K: 30\t | Learning_rate: 0.1\t | MSE:1.7473270507508223\n",
      "K: 30\t | Learning_rate: 1\t | MSE:1.0000882380949243\n",
      "K: 40\t | Learning_rate: 0.001\t | MSE:163.36919649025094\n",
      "K: 40\t | Learning_rate: 0.01\t | MSE:21.294120230553805\n",
      "K: 40\t | Learning_rate: 0.1\t | MSE:1.9041657267606797\n",
      "K: 40\t | Learning_rate: 1\t | MSE:1.0000140958726023\n",
      "K: 50\t | Learning_rate: 0.001\t | MSE:221.1716294342449\n",
      "K: 50\t | Learning_rate: 0.01\t | MSE:29.042598247196402\n",
      "K: 50\t | Learning_rate: 0.1\t | MSE:2.009476844200917\n",
      "K: 50\t | Learning_rate: 1\t | MSE:1.0000014702079818\n"
     ]
    }
   ],
   "source": [
    "mse_s=[]\n",
    "for train, _ in kf.split(a,None):\n",
    "    df = pd.DataFrame(train)\n",
    "    print(f\"TRAIN: {train}\")\n",
    "    mse_s.append(find_best(df,max_range=50, iterations=100))"
   ]
  },
  {
   "cell_type": "code",
   "execution_count": 5,
   "metadata": {},
   "outputs": [
    {
     "data": {
      "text/plain": [
       "[K                2.000000\n",
       " Learning_rate    1.000000\n",
       " MSE              0.991765\n",
       " Name: 7, dtype: float64]"
      ]
     },
     "execution_count": 5,
     "metadata": {},
     "output_type": "execute_result"
    }
   ],
   "source": [
    "best = []\n",
    "b = float(10e5)\n",
    "for df in mse_s:\n",
    "    mini = df.loc[df.MSE.idxmin()]\n",
    "    if (mini[2] < b):\n",
    "        b = mini[2]\n",
    "        best.append(mini)\n",
    "best"
   ]
  },
  {
   "cell_type": "code",
   "execution_count": 6,
   "metadata": {},
   "outputs": [
    {
     "name": "stdout",
     "output_type": "stream",
     "text": [
      "K: 10\t | Learning_rate: 0.001\t | MSE:78.1214260111823\n",
      "K: 10\t | Learning_rate: 0.01\t | MSE:86.28113862400143\n",
      "K: 10\t | Learning_rate: 0.1\t | MSE:49.73856326566307\n",
      "K: 10\t | Learning_rate: 1\t | MSE:13.962388591051903\n",
      "K: 20\t | Learning_rate: 0.001\t | MSE:249.84306045495265\n",
      "K: 20\t | Learning_rate: 0.01\t | MSE:117.8982038188301\n",
      "K: 20\t | Learning_rate: 0.1\t | MSE:41.84450340611182\n",
      "K: 20\t | Learning_rate: 1\t | MSE:8.703282239690118\n",
      "K: 30\t | Learning_rate: 0.001\t | MSE:521.5249383280899\n",
      "K: 30\t | Learning_rate: 0.01\t | MSE:149.50053809355327\n",
      "K: 30\t | Learning_rate: 0.1\t | MSE:39.73635794264919\n",
      "K: 30\t | Learning_rate: 1\t | MSE:8.443336123102648\n",
      "K: 40\t | Learning_rate: 0.001\t | MSE:726.442452115472\n",
      "K: 40\t | Learning_rate: 0.01\t | MSE:200.15325859692388\n",
      "K: 40\t | Learning_rate: 0.1\t | MSE:34.70587605486276\n",
      "K: 40\t | Learning_rate: 1\t | MSE:6.830143483537256\n",
      "K: 50\t | Learning_rate: 0.001\t | MSE:1427.1901196048689\n",
      "K: 50\t | Learning_rate: 0.01\t | MSE:247.9578191086278\n",
      "K: 50\t | Learning_rate: 0.1\t | MSE:41.647850520195874\n",
      "K: 50\t | Learning_rate: 1\t | MSE:nan\n"
     ]
    }
   ],
   "source": [
    "mse = find_best(a,max_range=50,iterations=100)"
   ]
  },
  {
   "cell_type": "code",
   "execution_count": 7,
   "metadata": {},
   "outputs": [
    {
     "data": {
      "image/png": "[encoded data removed]",
      "text/plain": [
       "<Figure size 1080x576 with 4 Axes>"
      ]
     },
     "metadata": {
      "needs_background": "light"
     },
     "output_type": "display_data"
    }
   ],
   "source": [
    "## Get minimum by Learning rate\n",
    "\n",
    "## plot best k with bets learning rate\n",
    "fig, axes = plt.subplots(2, 2, figsize=(15, 8))\n",
    "plt.subplots_adjust(wspace=0.5, hspace=0.5)\n",
    "\n",
    "mse[mse['Learning_rate']==0.001].plot(x=\"K\", y=\"MSE\", ax=axes[0,0], legend=False)\n",
    "axes[0, 0].set_title('Learning rate = 0.001')\n",
    "mse[mse['Learning_rate']==0.01].plot(x=\"K\", y=\"MSE\", ax=axes[0,1], legend=False)\n",
    "axes[0, 1].set_title('Learning rate = 0.01')\n",
    "mse[mse['Learning_rate']==0.1].plot(x=\"K\", y=\"MSE\", ax=axes[1,0], legend=False)\n",
    "axes[1, 0].set_title('Learning rate = 0.0')\n",
    "mse[mse['Learning_rate']==1].plot(x=\"K\", y=\"MSE\", ax=axes[1,1], legend=False,)\n",
    "axes[1, 1].set_title('Learning rate =1')\n",
    "plt.show()"
   ]
  },
  {
   "cell_type": "code",
   "execution_count": 8,
   "metadata": {},
   "outputs": [
    {
     "data": {
      "text/plain": [
       "K                47.000000\n",
       "Learning_rate     1.000000\n",
       "MSE               6.743231\n",
       "Name: 187, dtype: float64"
      ]
     },
     "execution_count": 8,
     "metadata": {},
     "output_type": "execute_result"
    }
   ],
   "source": [
    "mse.loc[mse.MSE.idxmin()]"
   ]
  },
  {
   "cell_type": "code",
   "execution_count": 9,
   "metadata": {},
   "outputs": [],
   "source": [
    "## Best matrix with best k\n",
    "recomm = matrix_factorization(a,K=49)\n",
    "## Train the model, default iterations is 2\n",
    "recomm.fit(learning_rate=1,iterations=100)"
   ]
  },
  {
   "cell_type": "code",
   "execution_count": 10,
   "metadata": {},
   "outputs": [
    {
     "data": {
      "text/plain": [
       "75.94125721514516"
      ]
     },
     "execution_count": 10,
     "metadata": {},
     "output_type": "execute_result"
    }
   ],
   "source": [
    "## Increasing iterations improves over previous best MSE\n",
    "min(recomm.mse)"
   ]
  },
  {
   "cell_type": "code",
   "execution_count": 11,
   "metadata": {},
   "outputs": [
    {
     "data": {
      "image/png": "[encoded data removed]",
      "text/plain": [
       "<Figure size 792x360 with 1 Axes>"
      ]
     },
     "metadata": {
      "needs_background": "light"
     },
     "output_type": "display_data"
    }
   ],
   "source": [
    "## Plot MSE over iterations\n",
    "plt.figure(figsize=(11, 5))\n",
    "plt.plot(recomm.mse)\n",
    "plt.xlabel('Iterations')\n",
    "plt.ylabel('MSE')\n",
    "plt.title('MSE over iterations')\n",
    "plt.show()"
   ]
  },
  {
   "cell_type": "code",
   "execution_count": 12,
   "metadata": {},
   "outputs": [
    {
     "data": {
      "text/plain": [
       "array([[nan, nan, nan, nan],\n",
       "       [nan, nan, nan, nan],\n",
       "       [nan, nan, nan, nan],\n",
       "       [nan, nan, nan, nan],\n",
       "       [nan, nan, nan, nan],\n",
       "       [nan, nan, nan, nan]])"
      ]
     },
     "execution_count": 12,
     "metadata": {},
     "output_type": "execute_result"
    }
   ],
   "source": [
    "## Get the Predicted matrix\n",
    "recomm.matrix"
   ]
  },
  {
   "cell_type": "code",
   "execution_count": 13,
   "metadata": {},
   "outputs": [
    {
     "data": {
      "text/html": [
       "<div>\n",
       "<style scoped>\n",
       "    .dataframe tbody tr th:only-of-type {\n",
       "        vertical-align: middle;\n",
       "    }\n",
       "\n",
       "    .dataframe tbody tr th {\n",
       "        vertical-align: top;\n",
       "    }\n",
       "\n",
       "    .dataframe thead th {\n",
       "        text-align: right;\n",
       "    }\n",
       "</style>\n",
       "<table border=\"1\" class=\"dataframe\">\n",
       "  <thead>\n",
       "    <tr style=\"text-align: right;\">\n",
       "      <th></th>\n",
       "      <th>rating</th>\n",
       "      <th>movieId</th>\n",
       "      <th>title</th>\n",
       "    </tr>\n",
       "  </thead>\n",
       "  <tbody>\n",
       "  </tbody>\n",
       "</table>\n",
       "</div>"
      ],
      "text/plain": [
       "Empty DataFrame\n",
       "Columns: [rating, movieId, title]\n",
       "Index: []"
      ]
     },
     "execution_count": 13,
     "metadata": {},
     "output_type": "execute_result"
    }
   ],
   "source": [
    "## Top 5 movies to recommend\n",
    "recomm.top_recommends(1)"
   ]
  },
  {
   "cell_type": "markdown",
   "metadata": {},
   "source": [
    "## EDA"
   ]
  },
  {
   "cell_type": "code",
   "execution_count": 14,
   "metadata": {},
   "outputs": [],
   "source": [
    "ratings = pd.read_csv(\"data/ratings_small.csv\")"
   ]
  },
  {
   "cell_type": "code",
   "execution_count": 15,
   "metadata": {},
   "outputs": [],
   "source": [
    "##Columns not needed\n",
    "ratings.drop('timestamp', axis=1, inplace=True)"
   ]
  },
  {
   "cell_type": "code",
   "execution_count": 16,
   "metadata": {},
   "outputs": [],
   "source": [
    "## Order by movieId\n",
    "ratings.sort_values('movieId', inplace=True)"
   ]
  },
  {
   "cell_type": "code",
   "execution_count": 17,
   "metadata": {},
   "outputs": [],
   "source": [
    "## Remove float ratings by casting to int\n",
    "ratings['rating'] = ratings['rating'].astype(int)"
   ]
  },
  {
   "cell_type": "code",
   "execution_count": 18,
   "metadata": {},
   "outputs": [
    {
     "name": "stdout",
     "output_type": "stream",
     "text": [
      "<class 'pandas.core.frame.DataFrame'>\n",
      "Int64Index: 100004 entries, 9713 to 80823\n",
      "Data columns (total 3 columns):\n",
      " #   Column   Non-Null Count   Dtype\n",
      "---  ------   --------------   -----\n",
      " 0   userId   100004 non-null  int64\n",
      " 1   movieId  100004 non-null  int64\n",
      " 2   rating   100004 non-null  int32\n",
      "dtypes: int32(1), int64(2)\n",
      "memory usage: 2.7 MB\n"
     ]
    }
   ],
   "source": [
    "ratings.info()"
   ]
  },
  {
   "cell_type": "code",
   "execution_count": 19,
   "metadata": {},
   "outputs": [
    {
     "data": {
      "text/html": [
       "<div>\n",
       "<style scoped>\n",
       "    .dataframe tbody tr th:only-of-type {\n",
       "        vertical-align: middle;\n",
       "    }\n",
       "\n",
       "    .dataframe tbody tr th {\n",
       "        vertical-align: top;\n",
       "    }\n",
       "\n",
       "    .dataframe thead th {\n",
       "        text-align: right;\n",
       "    }\n",
       "</style>\n",
       "<table border=\"1\" class=\"dataframe\">\n",
       "  <thead>\n",
       "    <tr style=\"text-align: right;\">\n",
       "      <th></th>\n",
       "      <th>userId</th>\n",
       "      <th>movieId</th>\n",
       "      <th>rating</th>\n",
       "    </tr>\n",
       "  </thead>\n",
       "  <tbody>\n",
       "    <tr>\n",
       "      <th>9713</th>\n",
       "      <td>68</td>\n",
       "      <td>1</td>\n",
       "      <td>4</td>\n",
       "    </tr>\n",
       "    <tr>\n",
       "      <th>35933</th>\n",
       "      <td>261</td>\n",
       "      <td>1</td>\n",
       "      <td>1</td>\n",
       "    </tr>\n",
       "    <tr>\n",
       "      <th>52631</th>\n",
       "      <td>383</td>\n",
       "      <td>1</td>\n",
       "      <td>5</td>\n",
       "    </tr>\n",
       "    <tr>\n",
       "      <th>35983</th>\n",
       "      <td>262</td>\n",
       "      <td>1</td>\n",
       "      <td>2</td>\n",
       "    </tr>\n",
       "    <tr>\n",
       "      <th>12038</th>\n",
       "      <td>77</td>\n",
       "      <td>1</td>\n",
       "      <td>4</td>\n",
       "    </tr>\n",
       "  </tbody>\n",
       "</table>\n",
       "</div>"
      ],
      "text/plain": [
       "       userId  movieId  rating\n",
       "9713       68        1       4\n",
       "35933     261        1       1\n",
       "52631     383        1       5\n",
       "35983     262        1       2\n",
       "12038      77        1       4"
      ]
     },
     "execution_count": 19,
     "metadata": {},
     "output_type": "execute_result"
    }
   ],
   "source": [
    "ratings.head()"
   ]
  },
  {
   "cell_type": "code",
   "execution_count": 20,
   "metadata": {},
   "outputs": [
    {
     "data": {
      "image/png": "[encoded data removed]",
      "text/plain": [
       "<Figure size 792x360 with 1 Axes>"
      ]
     },
     "metadata": {
      "needs_background": "light"
     },
     "output_type": "display_data"
    }
   ],
   "source": [
    "plt.figure(figsize = (11, 5))\n",
    "sns.countplot(x=\"rating\", data=ratings)\n",
    "plt.tick_params(labelsize = 15)\n",
    "plt.title(\"Count Ratings\", fontsize = 20)\n",
    "plt.xlabel(\"Ratings\", fontsize = 20)\n",
    "plt.ylabel(\"Number of Ratings\", fontsize = 20)\n",
    "plt.show()"
   ]
  },
  {
   "cell_type": "code",
   "execution_count": 21,
   "metadata": {},
   "outputs": [
    {
     "data": {
      "text/plain": [
       "userId\n",
       "547    2391\n",
       "564    1868\n",
       "624    1735\n",
       "15     1700\n",
       "73     1610\n",
       "Name: rating, dtype: int64"
      ]
     },
     "execution_count": 21,
     "metadata": {},
     "output_type": "execute_result"
    }
   ],
   "source": [
    "## Group by userid and count the numbers of movies rated by that user\n",
    "ratings.groupby(\"userId\")[\"rating\"].count().sort_values(ascending = False).head()"
   ]
  },
  {
   "cell_type": "code",
   "execution_count": 22,
   "metadata": {},
   "outputs": [
    {
     "data": {
      "text/plain": [
       "movieId\n",
       "356    341\n",
       "296    324\n",
       "318    311\n",
       "593    304\n",
       "260    291\n",
       "Name: rating, dtype: int64"
      ]
     },
     "execution_count": 22,
     "metadata": {},
     "output_type": "execute_result"
    }
   ],
   "source": [
    "## Group by movies and count the number of users rated that movie\n",
    "ratings.groupby(\"movieId\")[\"rating\"].count().sort_values(ascending = False).head()"
   ]
  },
  {
   "cell_type": "code",
   "execution_count": 23,
   "metadata": {},
   "outputs": [],
   "source": [
    "## set userId as index\n",
    "ratings = ratings.set_index('userId').sort_index(axis = 0)"
   ]
  },
  {
   "cell_type": "code",
   "execution_count": 24,
   "metadata": {},
   "outputs": [
    {
     "data": {
      "text/html": [
       "<div>\n",
       "<style scoped>\n",
       "    .dataframe tbody tr th:only-of-type {\n",
       "        vertical-align: middle;\n",
       "    }\n",
       "\n",
       "    .dataframe tbody tr th {\n",
       "        vertical-align: top;\n",
       "    }\n",
       "\n",
       "    .dataframe thead th {\n",
       "        text-align: right;\n",
       "    }\n",
       "</style>\n",
       "<table border=\"1\" class=\"dataframe\">\n",
       "  <thead>\n",
       "    <tr style=\"text-align: right;\">\n",
       "      <th></th>\n",
       "      <th>movieId</th>\n",
       "      <th>rating</th>\n",
       "    </tr>\n",
       "    <tr>\n",
       "      <th>userId</th>\n",
       "      <th></th>\n",
       "      <th></th>\n",
       "    </tr>\n",
       "  </thead>\n",
       "  <tbody>\n",
       "    <tr>\n",
       "      <th>1</th>\n",
       "      <td>2455</td>\n",
       "      <td>2</td>\n",
       "    </tr>\n",
       "    <tr>\n",
       "      <th>1</th>\n",
       "      <td>1287</td>\n",
       "      <td>2</td>\n",
       "    </tr>\n",
       "    <tr>\n",
       "      <th>1</th>\n",
       "      <td>2968</td>\n",
       "      <td>1</td>\n",
       "    </tr>\n",
       "    <tr>\n",
       "      <th>1</th>\n",
       "      <td>1339</td>\n",
       "      <td>3</td>\n",
       "    </tr>\n",
       "    <tr>\n",
       "      <th>1</th>\n",
       "      <td>1172</td>\n",
       "      <td>4</td>\n",
       "    </tr>\n",
       "    <tr>\n",
       "      <th>...</th>\n",
       "      <td>...</td>\n",
       "      <td>...</td>\n",
       "    </tr>\n",
       "    <tr>\n",
       "      <th>671</th>\n",
       "      <td>1266</td>\n",
       "      <td>4</td>\n",
       "    </tr>\n",
       "    <tr>\n",
       "      <th>671</th>\n",
       "      <td>1197</td>\n",
       "      <td>3</td>\n",
       "    </tr>\n",
       "    <tr>\n",
       "      <th>671</th>\n",
       "      <td>4022</td>\n",
       "      <td>3</td>\n",
       "    </tr>\n",
       "    <tr>\n",
       "      <th>671</th>\n",
       "      <td>1704</td>\n",
       "      <td>4</td>\n",
       "    </tr>\n",
       "    <tr>\n",
       "      <th>671</th>\n",
       "      <td>3996</td>\n",
       "      <td>3</td>\n",
       "    </tr>\n",
       "  </tbody>\n",
       "</table>\n",
       "<p>100004 rows × 2 columns</p>\n",
       "</div>"
      ],
      "text/plain": [
       "        movieId  rating\n",
       "userId                 \n",
       "1          2455       2\n",
       "1          1287       2\n",
       "1          2968       1\n",
       "1          1339       3\n",
       "1          1172       4\n",
       "...         ...     ...\n",
       "671        1266       4\n",
       "671        1197       3\n",
       "671        4022       3\n",
       "671        1704       4\n",
       "671        3996       3\n",
       "\n",
       "[100004 rows x 2 columns]"
      ]
     },
     "execution_count": 24,
     "metadata": {},
     "output_type": "execute_result"
    }
   ],
   "source": [
    "ratings"
   ]
  },
  {
   "cell_type": "code",
   "execution_count": 25,
   "metadata": {},
   "outputs": [],
   "source": [
    "## pivot df to get the matrix Yai\n",
    "ratings = ratings.pivot(index=ratings.index, columns='movieId')['rating']"
   ]
  },
  {
   "cell_type": "code",
   "execution_count": 26,
   "metadata": {},
   "outputs": [],
   "source": [
    "## replace NAN with movie mean\n",
    "ratings = ratings.fillna(ratings.mean())\n",
    "## replace NAN with zero\n",
    "#ratings = ratings.fillna(0)"
   ]
  },
  {
   "cell_type": "code",
   "execution_count": 27,
   "metadata": {},
   "outputs": [
    {
     "data": {
      "text/html": [
       "<div>\n",
       "<style scoped>\n",
       "    .dataframe tbody tr th:only-of-type {\n",
       "        vertical-align: middle;\n",
       "    }\n",
       "\n",
       "    .dataframe tbody tr th {\n",
       "        vertical-align: top;\n",
       "    }\n",
       "\n",
       "    .dataframe thead th {\n",
       "        text-align: right;\n",
       "    }\n",
       "</style>\n",
       "<table border=\"1\" class=\"dataframe\">\n",
       "  <thead>\n",
       "    <tr style=\"text-align: right;\">\n",
       "      <th>movieId</th>\n",
       "      <th>1</th>\n",
       "      <th>2</th>\n",
       "      <th>3</th>\n",
       "      <th>4</th>\n",
       "      <th>5</th>\n",
       "      <th>6</th>\n",
       "      <th>7</th>\n",
       "      <th>8</th>\n",
       "      <th>9</th>\n",
       "      <th>10</th>\n",
       "      <th>...</th>\n",
       "      <th>161084</th>\n",
       "      <th>161155</th>\n",
       "      <th>161594</th>\n",
       "      <th>161830</th>\n",
       "      <th>161918</th>\n",
       "      <th>161944</th>\n",
       "      <th>162376</th>\n",
       "      <th>162542</th>\n",
       "      <th>162672</th>\n",
       "      <th>163949</th>\n",
       "    </tr>\n",
       "    <tr>\n",
       "      <th>userId</th>\n",
       "      <th></th>\n",
       "      <th></th>\n",
       "      <th></th>\n",
       "      <th></th>\n",
       "      <th></th>\n",
       "      <th></th>\n",
       "      <th></th>\n",
       "      <th></th>\n",
       "      <th></th>\n",
       "      <th></th>\n",
       "      <th></th>\n",
       "      <th></th>\n",
       "      <th></th>\n",
       "      <th></th>\n",
       "      <th></th>\n",
       "      <th></th>\n",
       "      <th></th>\n",
       "      <th></th>\n",
       "      <th></th>\n",
       "      <th></th>\n",
       "      <th></th>\n",
       "    </tr>\n",
       "  </thead>\n",
       "  <tbody>\n",
       "    <tr>\n",
       "      <th>1</th>\n",
       "      <td>3.773279</td>\n",
       "      <td>3.317757</td>\n",
       "      <td>3.084746</td>\n",
       "      <td>2.307692</td>\n",
       "      <td>3.178571</td>\n",
       "      <td>3.817308</td>\n",
       "      <td>3.226415</td>\n",
       "      <td>3.8</td>\n",
       "      <td>3.15</td>\n",
       "      <td>3.344262</td>\n",
       "      <td>...</td>\n",
       "      <td>2.0</td>\n",
       "      <td>0.0</td>\n",
       "      <td>3.0</td>\n",
       "      <td>1.0</td>\n",
       "      <td>1.0</td>\n",
       "      <td>5.0</td>\n",
       "      <td>4.0</td>\n",
       "      <td>5.0</td>\n",
       "      <td>3.0</td>\n",
       "      <td>5.0</td>\n",
       "    </tr>\n",
       "    <tr>\n",
       "      <th>2</th>\n",
       "      <td>3.773279</td>\n",
       "      <td>3.317757</td>\n",
       "      <td>3.084746</td>\n",
       "      <td>2.307692</td>\n",
       "      <td>3.178571</td>\n",
       "      <td>3.817308</td>\n",
       "      <td>3.226415</td>\n",
       "      <td>3.8</td>\n",
       "      <td>3.15</td>\n",
       "      <td>4.000000</td>\n",
       "      <td>...</td>\n",
       "      <td>2.0</td>\n",
       "      <td>0.0</td>\n",
       "      <td>3.0</td>\n",
       "      <td>1.0</td>\n",
       "      <td>1.0</td>\n",
       "      <td>5.0</td>\n",
       "      <td>4.0</td>\n",
       "      <td>5.0</td>\n",
       "      <td>3.0</td>\n",
       "      <td>5.0</td>\n",
       "    </tr>\n",
       "    <tr>\n",
       "      <th>3</th>\n",
       "      <td>3.773279</td>\n",
       "      <td>3.317757</td>\n",
       "      <td>3.084746</td>\n",
       "      <td>2.307692</td>\n",
       "      <td>3.178571</td>\n",
       "      <td>3.817308</td>\n",
       "      <td>3.226415</td>\n",
       "      <td>3.8</td>\n",
       "      <td>3.15</td>\n",
       "      <td>3.344262</td>\n",
       "      <td>...</td>\n",
       "      <td>2.0</td>\n",
       "      <td>0.0</td>\n",
       "      <td>3.0</td>\n",
       "      <td>1.0</td>\n",
       "      <td>1.0</td>\n",
       "      <td>5.0</td>\n",
       "      <td>4.0</td>\n",
       "      <td>5.0</td>\n",
       "      <td>3.0</td>\n",
       "      <td>5.0</td>\n",
       "    </tr>\n",
       "    <tr>\n",
       "      <th>4</th>\n",
       "      <td>3.773279</td>\n",
       "      <td>3.317757</td>\n",
       "      <td>3.084746</td>\n",
       "      <td>2.307692</td>\n",
       "      <td>3.178571</td>\n",
       "      <td>3.817308</td>\n",
       "      <td>3.226415</td>\n",
       "      <td>3.8</td>\n",
       "      <td>3.15</td>\n",
       "      <td>4.000000</td>\n",
       "      <td>...</td>\n",
       "      <td>2.0</td>\n",
       "      <td>0.0</td>\n",
       "      <td>3.0</td>\n",
       "      <td>1.0</td>\n",
       "      <td>1.0</td>\n",
       "      <td>5.0</td>\n",
       "      <td>4.0</td>\n",
       "      <td>5.0</td>\n",
       "      <td>3.0</td>\n",
       "      <td>5.0</td>\n",
       "    </tr>\n",
       "    <tr>\n",
       "      <th>5</th>\n",
       "      <td>3.773279</td>\n",
       "      <td>3.317757</td>\n",
       "      <td>4.000000</td>\n",
       "      <td>2.307692</td>\n",
       "      <td>3.178571</td>\n",
       "      <td>3.817308</td>\n",
       "      <td>3.226415</td>\n",
       "      <td>3.8</td>\n",
       "      <td>3.15</td>\n",
       "      <td>3.344262</td>\n",
       "      <td>...</td>\n",
       "      <td>2.0</td>\n",
       "      <td>0.0</td>\n",
       "      <td>3.0</td>\n",
       "      <td>1.0</td>\n",
       "      <td>1.0</td>\n",
       "      <td>5.0</td>\n",
       "      <td>4.0</td>\n",
       "      <td>5.0</td>\n",
       "      <td>3.0</td>\n",
       "      <td>5.0</td>\n",
       "    </tr>\n",
       "    <tr>\n",
       "      <th>...</th>\n",
       "      <td>...</td>\n",
       "      <td>...</td>\n",
       "      <td>...</td>\n",
       "      <td>...</td>\n",
       "      <td>...</td>\n",
       "      <td>...</td>\n",
       "      <td>...</td>\n",
       "      <td>...</td>\n",
       "      <td>...</td>\n",
       "      <td>...</td>\n",
       "      <td>...</td>\n",
       "      <td>...</td>\n",
       "      <td>...</td>\n",
       "      <td>...</td>\n",
       "      <td>...</td>\n",
       "      <td>...</td>\n",
       "      <td>...</td>\n",
       "      <td>...</td>\n",
       "      <td>...</td>\n",
       "      <td>...</td>\n",
       "      <td>...</td>\n",
       "    </tr>\n",
       "    <tr>\n",
       "      <th>667</th>\n",
       "      <td>3.773279</td>\n",
       "      <td>3.317757</td>\n",
       "      <td>3.084746</td>\n",
       "      <td>2.307692</td>\n",
       "      <td>3.178571</td>\n",
       "      <td>4.000000</td>\n",
       "      <td>3.226415</td>\n",
       "      <td>3.8</td>\n",
       "      <td>3.15</td>\n",
       "      <td>3.344262</td>\n",
       "      <td>...</td>\n",
       "      <td>2.0</td>\n",
       "      <td>0.0</td>\n",
       "      <td>3.0</td>\n",
       "      <td>1.0</td>\n",
       "      <td>1.0</td>\n",
       "      <td>5.0</td>\n",
       "      <td>4.0</td>\n",
       "      <td>5.0</td>\n",
       "      <td>3.0</td>\n",
       "      <td>5.0</td>\n",
       "    </tr>\n",
       "    <tr>\n",
       "      <th>668</th>\n",
       "      <td>3.773279</td>\n",
       "      <td>3.317757</td>\n",
       "      <td>3.084746</td>\n",
       "      <td>2.307692</td>\n",
       "      <td>3.178571</td>\n",
       "      <td>3.817308</td>\n",
       "      <td>3.226415</td>\n",
       "      <td>3.8</td>\n",
       "      <td>3.15</td>\n",
       "      <td>3.344262</td>\n",
       "      <td>...</td>\n",
       "      <td>2.0</td>\n",
       "      <td>0.0</td>\n",
       "      <td>3.0</td>\n",
       "      <td>1.0</td>\n",
       "      <td>1.0</td>\n",
       "      <td>5.0</td>\n",
       "      <td>4.0</td>\n",
       "      <td>5.0</td>\n",
       "      <td>3.0</td>\n",
       "      <td>5.0</td>\n",
       "    </tr>\n",
       "    <tr>\n",
       "      <th>669</th>\n",
       "      <td>3.773279</td>\n",
       "      <td>3.317757</td>\n",
       "      <td>3.084746</td>\n",
       "      <td>2.307692</td>\n",
       "      <td>3.178571</td>\n",
       "      <td>3.817308</td>\n",
       "      <td>3.226415</td>\n",
       "      <td>3.8</td>\n",
       "      <td>3.15</td>\n",
       "      <td>3.344262</td>\n",
       "      <td>...</td>\n",
       "      <td>2.0</td>\n",
       "      <td>0.0</td>\n",
       "      <td>3.0</td>\n",
       "      <td>1.0</td>\n",
       "      <td>1.0</td>\n",
       "      <td>5.0</td>\n",
       "      <td>4.0</td>\n",
       "      <td>5.0</td>\n",
       "      <td>3.0</td>\n",
       "      <td>5.0</td>\n",
       "    </tr>\n",
       "    <tr>\n",
       "      <th>670</th>\n",
       "      <td>4.000000</td>\n",
       "      <td>3.317757</td>\n",
       "      <td>3.084746</td>\n",
       "      <td>2.307692</td>\n",
       "      <td>3.178571</td>\n",
       "      <td>3.817308</td>\n",
       "      <td>3.226415</td>\n",
       "      <td>3.8</td>\n",
       "      <td>3.15</td>\n",
       "      <td>3.344262</td>\n",
       "      <td>...</td>\n",
       "      <td>2.0</td>\n",
       "      <td>0.0</td>\n",
       "      <td>3.0</td>\n",
       "      <td>1.0</td>\n",
       "      <td>1.0</td>\n",
       "      <td>5.0</td>\n",
       "      <td>4.0</td>\n",
       "      <td>5.0</td>\n",
       "      <td>3.0</td>\n",
       "      <td>5.0</td>\n",
       "    </tr>\n",
       "    <tr>\n",
       "      <th>671</th>\n",
       "      <td>5.000000</td>\n",
       "      <td>3.317757</td>\n",
       "      <td>3.084746</td>\n",
       "      <td>2.307692</td>\n",
       "      <td>3.178571</td>\n",
       "      <td>3.817308</td>\n",
       "      <td>3.226415</td>\n",
       "      <td>3.8</td>\n",
       "      <td>3.15</td>\n",
       "      <td>3.344262</td>\n",
       "      <td>...</td>\n",
       "      <td>2.0</td>\n",
       "      <td>0.0</td>\n",
       "      <td>3.0</td>\n",
       "      <td>1.0</td>\n",
       "      <td>1.0</td>\n",
       "      <td>5.0</td>\n",
       "      <td>4.0</td>\n",
       "      <td>5.0</td>\n",
       "      <td>3.0</td>\n",
       "      <td>5.0</td>\n",
       "    </tr>\n",
       "  </tbody>\n",
       "</table>\n",
       "<p>671 rows × 9066 columns</p>\n",
       "</div>"
      ],
      "text/plain": [
       "movieId    1         2         3         4         5         6         7       \\\n",
       "userId                                                                          \n",
       "1        3.773279  3.317757  3.084746  2.307692  3.178571  3.817308  3.226415   \n",
       "2        3.773279  3.317757  3.084746  2.307692  3.178571  3.817308  3.226415   \n",
       "3        3.773279  3.317757  3.084746  2.307692  3.178571  3.817308  3.226415   \n",
       "4        3.773279  3.317757  3.084746  2.307692  3.178571  3.817308  3.226415   \n",
       "5        3.773279  3.317757  4.000000  2.307692  3.178571  3.817308  3.226415   \n",
       "...           ...       ...       ...       ...       ...       ...       ...   \n",
       "667      3.773279  3.317757  3.084746  2.307692  3.178571  4.000000  3.226415   \n",
       "668      3.773279  3.317757  3.084746  2.307692  3.178571  3.817308  3.226415   \n",
       "669      3.773279  3.317757  3.084746  2.307692  3.178571  3.817308  3.226415   \n",
       "670      4.000000  3.317757  3.084746  2.307692  3.178571  3.817308  3.226415   \n",
       "671      5.000000  3.317757  3.084746  2.307692  3.178571  3.817308  3.226415   \n",
       "\n",
       "movieId  8       9         10      ...  161084  161155  161594  161830  \\\n",
       "userId                             ...                                   \n",
       "1           3.8    3.15  3.344262  ...     2.0     0.0     3.0     1.0   \n",
       "2           3.8    3.15  4.000000  ...     2.0     0.0     3.0     1.0   \n",
       "3           3.8    3.15  3.344262  ...     2.0     0.0     3.0     1.0   \n",
       "4           3.8    3.15  4.000000  ...     2.0     0.0     3.0     1.0   \n",
       "5           3.8    3.15  3.344262  ...     2.0     0.0     3.0     1.0   \n",
       "...         ...     ...       ...  ...     ...     ...     ...     ...   \n",
       "667         3.8    3.15  3.344262  ...     2.0     0.0     3.0     1.0   \n",
       "668         3.8    3.15  3.344262  ...     2.0     0.0     3.0     1.0   \n",
       "669         3.8    3.15  3.344262  ...     2.0     0.0     3.0     1.0   \n",
       "670         3.8    3.15  3.344262  ...     2.0     0.0     3.0     1.0   \n",
       "671         3.8    3.15  3.344262  ...     2.0     0.0     3.0     1.0   \n",
       "\n",
       "movieId  161918  161944  162376  162542  162672  163949  \n",
       "userId                                                   \n",
       "1           1.0     5.0     4.0     5.0     3.0     5.0  \n",
       "2           1.0     5.0     4.0     5.0     3.0     5.0  \n",
       "3           1.0     5.0     4.0     5.0     3.0     5.0  \n",
       "4           1.0     5.0     4.0     5.0     3.0     5.0  \n",
       "5           1.0     5.0     4.0     5.0     3.0     5.0  \n",
       "...         ...     ...     ...     ...     ...     ...  \n",
       "667         1.0     5.0     4.0     5.0     3.0     5.0  \n",
       "668         1.0     5.0     4.0     5.0     3.0     5.0  \n",
       "669         1.0     5.0     4.0     5.0     3.0     5.0  \n",
       "670         1.0     5.0     4.0     5.0     3.0     5.0  \n",
       "671         1.0     5.0     4.0     5.0     3.0     5.0  \n",
       "\n",
       "[671 rows x 9066 columns]"
      ]
     },
     "execution_count": 27,
     "metadata": {},
     "output_type": "execute_result"
    }
   ],
   "source": [
    "ratings"
   ]
  },
  {
   "cell_type": "code",
   "execution_count": 28,
   "metadata": {},
   "outputs": [],
   "source": [
    "train, test = train_test_split(ratings, test_size = 0.2)"
   ]
  },
  {
   "cell_type": "code",
   "execution_count": 29,
   "metadata": {},
   "outputs": [],
   "source": [
    "kf = KFold(n_splits=3)"
   ]
  },
  {
   "cell_type": "code",
   "execution_count": 30,
   "metadata": {},
   "outputs": [
    {
     "name": "stdout",
     "output_type": "stream",
     "text": [
      "TRAIN: 357\n",
      "K: 10\t | Learning_rate: 0.001\t | MSE:47773619.12098439\n",
      "K: 10\t | Learning_rate: 0.01\t | MSE:14172137.80844684\n",
      "K: 10\t | Learning_rate: 0.1\t | MSE:nan\n",
      "K: 10\t | Learning_rate: 1\t | MSE:nan\n",
      "TRAIN: 357\n",
      "K: 10\t | Learning_rate: 0.001\t | MSE:36363663.65704733\n",
      "K: 10\t | Learning_rate: 0.01\t | MSE:12803621.355894802\n",
      "K: 10\t | Learning_rate: 0.1\t | MSE:nan\n",
      "K: 10\t | Learning_rate: 1\t | MSE:nan\n",
      "TRAIN: 358\n",
      "K: 10\t | Learning_rate: 0.001\t | MSE:14543236.814350415\n",
      "K: 10\t | Learning_rate: 0.01\t | MSE:7086934.5025238115\n",
      "K: 10\t | Learning_rate: 0.1\t | MSE:271541.70307685167\n",
      "K: 10\t | Learning_rate: 1\t | MSE:nan\n"
     ]
    }
   ],
   "source": [
    "mse_s=[]\n",
    "for train, _ in kf.split(train, None):\n",
    "    df = pd.DataFrame(train)\n",
    "    print(f\"TRAIN: {len(train)}\")\n",
    "    mse_s.append(find_best(df,max_range=10, iterations=5))"
   ]
  },
  {
   "cell_type": "code",
   "execution_count": 31,
   "metadata": {},
   "outputs": [
    {
     "data": {
      "text/plain": [
       "[K                    9.000000\n",
       " Learning_rate        0.100000\n",
       " MSE              23483.237476\n",
       " Name: 34, dtype: float64]"
      ]
     },
     "execution_count": 31,
     "metadata": {},
     "output_type": "execute_result"
    }
   ],
   "source": [
    "best = []\n",
    "b = float(10e5)\n",
    "for df in mse_s:\n",
    "    mini = df.loc[df.MSE.idxmin()]\n",
    "    if (mini[2] < b):\n",
    "        b = mini[2]\n",
    "        best.append(mini)\n",
    "        \n",
    "best"
   ]
  },
  {
   "cell_type": "code",
   "execution_count": null,
   "metadata": {},
   "outputs": [],
   "source": [
    "mse = find_best(ratings,max_range=50,iterations=20)"
   ]
  },
  {
   "cell_type": "code",
   "execution_count": 33,
   "metadata": {},
   "outputs": [],
   "source": [
    "## Best matrix with best k\n",
    "rec = matrix_factorization(ratings,K=9)\n",
    "## Train the model\n",
    "rec.fit(learning_rate=0.01, iterations=)"
   ]
  },
  {
   "cell_type": "code",
   "execution_count": 34,
   "metadata": {},
   "outputs": [
    {
     "data": {
      "text/plain": [
       "[11111129.793819202,\n",
       " 10693193.347359406,\n",
       " 10287203.501410645,\n",
       " 9893221.579323264,\n",
       " 9511284.293687921]"
      ]
     },
     "execution_count": 34,
     "metadata": {},
     "output_type": "execute_result"
    }
   ],
   "source": [
    "rec.mse"
   ]
  },
  {
   "cell_type": "code",
   "execution_count": 35,
   "metadata": {},
   "outputs": [
    {
     "data": {
      "image/png": "[encoded data removed]",
      "text/plain": [
       "<Figure size 792x360 with 1 Axes>"
      ]
     },
     "metadata": {
      "needs_background": "light"
     },
     "output_type": "display_data"
    }
   ],
   "source": [
    "## Plot MSE over iterations\n",
    "plt.figure(figsize=(11, 5))\n",
    "plt.plot(rec.mse)\n",
    "plt.xlabel('Iterations')\n",
    "plt.ylabel('MSE')\n",
    "plt.title('MSE over iterations')\n",
    "plt.show()"
   ]
  },
  {
   "cell_type": "code",
   "execution_count": 36,
   "metadata": {},
   "outputs": [
    {
     "data": {
      "text/plain": [
       "array([[2.48655156, 2.19151668, 1.85962223, ..., 1.89585033, 1.67572408,\n",
       "        2.16927884],\n",
       "       [2.30213323, 2.68485271, 2.54893214, ..., 2.12297187, 2.1914303 ,\n",
       "        2.33722253],\n",
       "       [2.85578976, 3.06026529, 2.51476652, ..., 1.93060868, 2.53098031,\n",
       "        2.12891172],\n",
       "       ...,\n",
       "       [2.23597151, 2.72071744, 2.11092706, ..., 2.39350814, 1.97634385,\n",
       "        2.18499832],\n",
       "       [3.01410402, 3.67156544, 3.07285436, ..., 2.51021232, 3.00090738,\n",
       "        2.46632198],\n",
       "       [2.55318268, 2.89739852, 2.18965857, ..., 2.04163925, 2.18395733,\n",
       "        2.06520704]])"
      ]
     },
     "execution_count": 36,
     "metadata": {},
     "output_type": "execute_result"
    }
   ],
   "source": [
    "## Get the Predicted matrix\n",
    "rec.matrix"
   ]
  },
  {
   "cell_type": "code",
   "execution_count": 37,
   "metadata": {},
   "outputs": [
    {
     "data": {
      "text/html": [
       "<div>\n",
       "<style scoped>\n",
       "    .dataframe tbody tr th:only-of-type {\n",
       "        vertical-align: middle;\n",
       "    }\n",
       "\n",
       "    .dataframe tbody tr th {\n",
       "        vertical-align: top;\n",
       "    }\n",
       "\n",
       "    .dataframe thead th {\n",
       "        text-align: right;\n",
       "    }\n",
       "</style>\n",
       "<table border=\"1\" class=\"dataframe\">\n",
       "  <thead>\n",
       "    <tr style=\"text-align: right;\">\n",
       "      <th></th>\n",
       "      <th>movieId</th>\n",
       "      <th>rating</th>\n",
       "      <th>title</th>\n",
       "    </tr>\n",
       "  </thead>\n",
       "  <tbody>\n",
       "    <tr>\n",
       "      <th>0</th>\n",
       "      <td>5</td>\n",
       "      <td>3.0</td>\n",
       "      <td>Four Rooms</td>\n",
       "    </tr>\n",
       "    <tr>\n",
       "      <th>1</th>\n",
       "      <td>14</td>\n",
       "      <td>3.0</td>\n",
       "      <td>American Beauty</td>\n",
       "    </tr>\n",
       "    <tr>\n",
       "      <th>2</th>\n",
       "      <td>17</td>\n",
       "      <td>3.0</td>\n",
       "      <td>The Dark</td>\n",
       "    </tr>\n",
       "    <tr>\n",
       "      <th>3</th>\n",
       "      <td>55</td>\n",
       "      <td>3.0</td>\n",
       "      <td>Amores perros</td>\n",
       "    </tr>\n",
       "    <tr>\n",
       "      <th>4</th>\n",
       "      <td>58</td>\n",
       "      <td>3.0</td>\n",
       "      <td>Pirates of the Caribbean: Dead Man's Chest</td>\n",
       "    </tr>\n",
       "    <tr>\n",
       "      <th>5</th>\n",
       "      <td>77</td>\n",
       "      <td>3.0</td>\n",
       "      <td>Memento</td>\n",
       "    </tr>\n",
       "    <tr>\n",
       "      <th>6</th>\n",
       "      <td>86</td>\n",
       "      <td>3.0</td>\n",
       "      <td>The Elementary Particles</td>\n",
       "    </tr>\n",
       "    <tr>\n",
       "      <th>7</th>\n",
       "      <td>112</td>\n",
       "      <td>3.0</td>\n",
       "      <td>Italian for Beginners</td>\n",
       "    </tr>\n",
       "  </tbody>\n",
       "</table>\n",
       "</div>"
      ],
      "text/plain": [
       "   movieId  rating                                       title\n",
       "0        5     3.0                                  Four Rooms\n",
       "1       14     3.0                             American Beauty\n",
       "2       17     3.0                                    The Dark\n",
       "3       55     3.0                               Amores perros\n",
       "4       58     3.0  Pirates of the Caribbean: Dead Man's Chest\n",
       "5       77     3.0                                     Memento\n",
       "6       86     3.0                    The Elementary Particles\n",
       "7      112     3.0                       Italian for Beginners"
      ]
     },
     "execution_count": 37,
     "metadata": {},
     "output_type": "execute_result"
    }
   ],
   "source": [
    "## Top 5 movies to recommend\n",
    "rec.top_recommends(1,10)"
   ]
  },
  {
   "cell_type": "code",
   "execution_count": null,
   "metadata": {},
   "outputs": [],
   "source": []
  }
 ],
 "metadata": {
  "kernelspec": {
   "display_name": "Python 3",
   "language": "python",
   "name": "python3"
  },
  "language_info": {
   "codemirror_mode": {
    "name": "ipython",
    "version": 3
   },
   "file_extension": ".py",
   "mimetype": "text/x-python",
   "name": "python",
   "nbconvert_exporter": "python",
   "pygments_lexer": "ipython3",
   "version": "3.6.5"
  }
 },
 "nbformat": 4,
 "nbformat_minor": 4
}
