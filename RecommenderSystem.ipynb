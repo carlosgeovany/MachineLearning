{
 "cells": [
  {
   "cell_type": "markdown",
   "metadata": {},
   "source": [
    "# Netflix movies recommender"
   ]
  },
  {
   "cell_type": "code",
   "execution_count": 40,
   "metadata": {},
   "outputs": [],
   "source": [
    "import numpy as np\n",
    "import pandas as pd\n",
    "\n",
    "import matplotlib.pyplot as plt\n",
    "import seaborn as sns\n",
    "from sklearn.model_selection import KFold, train_test_split\n",
    "\n",
    "from recommender import matrix_factorization, find_best\n",
    "\n",
    "np.random.seed(seed=1983)\n",
    "pd.set_option(\"display.max_columns\", 10)"
   ]
  },
  {
   "cell_type": "markdown",
   "metadata": {},
   "source": [
    "## Test and train on a Dummy dataset"
   ]
  },
  {
   "cell_type": "code",
   "execution_count": 2,
   "metadata": {},
   "outputs": [],
   "source": [
    "## Dummy dataset\n",
    "a = pd.DataFrame([\n",
    "\n",
    "     [1,5,3,0,1],\n",
    "\n",
    "     [2,4,0,0,1],\n",
    "\n",
    "     [3,1,1,0,5],\n",
    "\n",
    "     [4,1,0,0,4],\n",
    "\n",
    "     [5,0,1,5,4],\n",
    "    \n",
    "     [6,2,1,3,0],\n",
    "\n",
    "    ]).set_index(0)\n",
    "\n",
    "a.index.names = ['userId']\n",
    "a.columns.names = ['movieId']"
   ]
  },
  {
   "cell_type": "code",
   "execution_count": 3,
   "metadata": {},
   "outputs": [],
   "source": [
    "kf = KFold(n_splits=3)"
   ]
  },
  {
   "cell_type": "code",
   "execution_count": 4,
   "metadata": {},
   "outputs": [
    {
     "name": "stdout",
     "output_type": "stream",
     "text": [
      "TRAIN: [2 3 4 5]\n",
      "K: 10\t | Learning_rate: 0.001\t | MSE:15.071774580026862\n",
      "K: 10\t | Learning_rate: 0.01\t | MSE:2.1935173516309603\n",
      "K: 10\t | Learning_rate: 0.1\t | MSE:1.048841605777777\n",
      "K: 10\t | Learning_rate: 1\t | MSE:1.0004228488678764\n",
      "K: 20\t | Learning_rate: 0.001\t | MSE:9.742491280681216\n",
      "K: 20\t | Learning_rate: 0.01\t | MSE:3.3128476160047637\n",
      "K: 20\t | Learning_rate: 0.1\t | MSE:1.1135070267130305\n",
      "K: 20\t | Learning_rate: 1\t | MSE:1.0001488119597617\n",
      "K: 30\t | Learning_rate: 0.001\t | MSE:50.043668589204515\n",
      "K: 30\t | Learning_rate: 0.01\t | MSE:5.8665436574547485\n",
      "K: 30\t | Learning_rate: 0.1\t | MSE:1.3855595878742568\n",
      "K: 30\t | Learning_rate: 1\t | MSE:1.0001700971341196\n",
      "K: 40\t | Learning_rate: 0.001\t | MSE:98.72441027437411\n",
      "K: 40\t | Learning_rate: 0.01\t | MSE:12.077928617612175\n",
      "K: 40\t | Learning_rate: 0.1\t | MSE:1.5188445211818773\n",
      "K: 40\t | Learning_rate: 1\t | MSE:1.0000225465023582\n",
      "K: 50\t | Learning_rate: 0.001\t | MSE:139.654434326975\n",
      "K: 50\t | Learning_rate: 0.01\t | MSE:21.651910763520878\n",
      "K: 50\t | Learning_rate: 0.1\t | MSE:1.5148766488969079\n",
      "K: 50\t | Learning_rate: 1\t | MSE:1.0000074453597512\n",
      "TRAIN: [0 1 4 5]\n",
      "K: 10\t | Learning_rate: 0.001\t | MSE:14.870787371740073\n",
      "K: 10\t | Learning_rate: 0.01\t | MSE:6.535176372521391\n",
      "K: 10\t | Learning_rate: 0.1\t | MSE:1.4225116593557396\n",
      "K: 10\t | Learning_rate: 1\t | MSE:1.002744005738502\n",
      "K: 20\t | Learning_rate: 0.001\t | MSE:36.65689735415427\n",
      "K: 20\t | Learning_rate: 0.01\t | MSE:7.303812802524256\n",
      "K: 20\t | Learning_rate: 0.1\t | MSE:1.5341100700396408\n",
      "K: 20\t | Learning_rate: 1\t | MSE:1.0023986690198596\n",
      "K: 30\t | Learning_rate: 0.001\t | MSE:79.51369386535512\n",
      "K: 30\t | Learning_rate: 0.01\t | MSE:13.767490786763076\n",
      "K: 30\t | Learning_rate: 0.1\t | MSE:1.8016508692459974\n",
      "K: 30\t | Learning_rate: 1\t | MSE:1.0001117427085005\n",
      "K: 40\t | Learning_rate: 0.001\t | MSE:135.45087509538692\n",
      "K: 40\t | Learning_rate: 0.01\t | MSE:21.547376102514093\n",
      "K: 40\t | Learning_rate: 0.1\t | MSE:1.7477938921897178\n",
      "K: 40\t | Learning_rate: 1\t | MSE:1.0000405292179253\n",
      "K: 50\t | Learning_rate: 0.001\t | MSE:168.69123908925496\n",
      "K: 50\t | Learning_rate: 0.01\t | MSE:23.345513920844983\n",
      "K: 50\t | Learning_rate: 0.1\t | MSE:2.0328340090555854\n",
      "K: 50\t | Learning_rate: 1\t | MSE:1.0000086361455838\n",
      "TRAIN: [0 1 2 3]\n",
      "K: 10\t | Learning_rate: 0.001\t | MSE:7.428361431007364\n",
      "K: 10\t | Learning_rate: 0.01\t | MSE:3.393466604739481\n",
      "K: 10\t | Learning_rate: 0.1\t | MSE:1.2151837710414959\n",
      "K: 10\t | Learning_rate: 1\t | MSE:1.0025900092117295\n",
      "K: 20\t | Learning_rate: 0.001\t | MSE:8.784525775423054\n",
      "K: 20\t | Learning_rate: 0.01\t | MSE:8.802036390896276\n",
      "K: 20\t | Learning_rate: 0.1\t | MSE:1.6128208247197922\n",
      "K: 20\t | Learning_rate: 1\t | MSE:1.0035596647368756\n",
      "K: 30\t | Learning_rate: 0.001\t | MSE:103.92671389959938\n",
      "K: 30\t | Learning_rate: 0.01\t | MSE:17.316820806282557\n",
      "K: 30\t | Learning_rate: 0.1\t | MSE:1.7473270507508223\n",
      "K: 30\t | Learning_rate: 1\t | MSE:1.0000882380949243\n",
      "K: 40\t | Learning_rate: 0.001\t | MSE:163.36919649025094\n",
      "K: 40\t | Learning_rate: 0.01\t | MSE:21.294120230553805\n",
      "K: 40\t | Learning_rate: 0.1\t | MSE:1.9041657267606797\n",
      "K: 40\t | Learning_rate: 1\t | MSE:1.0000140958726023\n",
      "K: 50\t | Learning_rate: 0.001\t | MSE:221.1716294342449\n",
      "K: 50\t | Learning_rate: 0.01\t | MSE:29.042598247196402\n",
      "K: 50\t | Learning_rate: 0.1\t | MSE:2.009476844200917\n",
      "K: 50\t | Learning_rate: 1\t | MSE:1.0000014702079818\n"
     ]
    }
   ],
   "source": [
    "mse_s=[]\n",
    "for train, _ in kf.split(a,None):\n",
    "    df = pd.DataFrame(train)\n",
    "    print(f\"TRAIN: {train}\")\n",
    "    mse_s.append(find_best(df,max_Ks=50, iterations=100))"
   ]
  },
  {
   "cell_type": "code",
   "execution_count": 9,
   "metadata": {},
   "outputs": [
    {
     "data": {
      "text/plain": [
       "[K                2.000000\n",
       " Learning_rate    1.000000\n",
       " MSE              0.991765\n",
       " Name: 7, dtype: float64]"
      ]
     },
     "execution_count": 9,
     "metadata": {},
     "output_type": "execute_result"
    }
   ],
   "source": [
    "best_folded = []\n",
    "b = float(10e5)\n",
    "for df in mse_s:\n",
    "    mini = df.loc[df.MSE.idxmin()]\n",
    "    if (mini[2] < b):\n",
    "        b = mini[2]\n",
    "        best_folded.append(mini)\n",
    "best_folded"
   ]
  },
  {
   "cell_type": "code",
   "execution_count": 6,
   "metadata": {},
   "outputs": [
    {
     "name": "stdout",
     "output_type": "stream",
     "text": [
      "K: 10\t | Learning_rate: 0.001\t | MSE:78.1214260111823\n",
      "K: 10\t | Learning_rate: 0.01\t | MSE:86.28113862400143\n",
      "K: 10\t | Learning_rate: 0.1\t | MSE:49.73856326566307\n",
      "K: 10\t | Learning_rate: 1\t | MSE:13.962388591051903\n",
      "K: 20\t | Learning_rate: 0.001\t | MSE:249.84306045495265\n",
      "K: 20\t | Learning_rate: 0.01\t | MSE:117.8982038188301\n",
      "K: 20\t | Learning_rate: 0.1\t | MSE:41.84450340611182\n",
      "K: 20\t | Learning_rate: 1\t | MSE:8.703282239690118\n",
      "K: 30\t | Learning_rate: 0.001\t | MSE:521.5249383280899\n",
      "K: 30\t | Learning_rate: 0.01\t | MSE:149.50053809355327\n",
      "K: 30\t | Learning_rate: 0.1\t | MSE:39.73635794264919\n",
      "K: 30\t | Learning_rate: 1\t | MSE:8.443336123102648\n",
      "K: 40\t | Learning_rate: 0.001\t | MSE:726.442452115472\n",
      "K: 40\t | Learning_rate: 0.01\t | MSE:200.15325859692388\n",
      "K: 40\t | Learning_rate: 0.1\t | MSE:34.70587605486276\n",
      "K: 40\t | Learning_rate: 1\t | MSE:6.830143483537256\n",
      "K: 50\t | Learning_rate: 0.001\t | MSE:1427.1901196048689\n",
      "K: 50\t | Learning_rate: 0.01\t | MSE:247.9578191086278\n",
      "K: 50\t | Learning_rate: 0.1\t | MSE:41.647850520195874\n",
      "K: 50\t | Learning_rate: 1\t | MSE:nan\n"
     ]
    }
   ],
   "source": [
    "mse = find_best(a,max_Ks=50,iterations=100)"
   ]
  },
  {
   "cell_type": "code",
   "execution_count": 7,
   "metadata": {},
   "outputs": [
    {
     "data": {
      "image/png": "[encoded data removed]",
      "text/plain": [
       "<Figure size 1080x576 with 4 Axes>"
      ]
     },
     "metadata": {
      "needs_background": "light"
     },
     "output_type": "display_data"
    }
   ],
   "source": [
    "## Get minimum by Learning rate\n",
    "\n",
    "## plot best k with bets learning rate\n",
    "fig, axes = plt.subplots(2, 2, figsize=(15, 8))\n",
    "plt.subplots_adjust(wspace=0.5, hspace=0.5)\n",
    "\n",
    "mse[mse['Learning_rate']==0.001].plot(x=\"K\", y=\"MSE\", ax=axes[0,0], legend=False)\n",
    "axes[0, 0].set_title('Learning rate = 0.001')\n",
    "mse[mse['Learning_rate']==0.01].plot(x=\"K\", y=\"MSE\", ax=axes[0,1], legend=False)\n",
    "axes[0, 1].set_title('Learning rate = 0.01')\n",
    "mse[mse['Learning_rate']==0.1].plot(x=\"K\", y=\"MSE\", ax=axes[1,0], legend=False)\n",
    "axes[1, 0].set_title('Learning rate = 0.0')\n",
    "mse[mse['Learning_rate']==1].plot(x=\"K\", y=\"MSE\", ax=axes[1,1], legend=False,)\n",
    "axes[1, 1].set_title('Learning rate =1')\n",
    "plt.show()"
   ]
  },
  {
   "cell_type": "code",
   "execution_count": 10,
   "metadata": {},
   "outputs": [
    {
     "data": {
      "text/plain": [
       "K                47.000000\n",
       "Learning_rate     1.000000\n",
       "MSE               6.743231\n",
       "Name: 187, dtype: float64"
      ]
     },
     "execution_count": 10,
     "metadata": {},
     "output_type": "execute_result"
    }
   ],
   "source": [
    "best_full = mse.loc[mse.MSE.idxmin()]\n",
    "best_full"
   ]
  },
  {
   "cell_type": "code",
   "execution_count": 16,
   "metadata": {},
   "outputs": [
    {
     "data": {
      "text/plain": [
       "1.0"
      ]
     },
     "execution_count": 16,
     "metadata": {},
     "output_type": "execute_result"
    }
   ],
   "source": [
    "best_full[1]"
   ]
  },
  {
   "cell_type": "code",
   "execution_count": 17,
   "metadata": {},
   "outputs": [],
   "source": [
    "## Best matrix with best k\n",
    "K = int(best_full[0])\n",
    "recomm = matrix_factorization(a,K)\n",
    "## Train the model, default iterations is 2\n",
    "learning_rate = float(best_full[1])\n",
    "recomm.fit(learning_rate,iterations=100)"
   ]
  },
  {
   "cell_type": "code",
   "execution_count": 18,
   "metadata": {},
   "outputs": [
    {
     "data": {
      "text/plain": [
       "6.000000011901456"
      ]
     },
     "execution_count": 18,
     "metadata": {},
     "output_type": "execute_result"
    }
   ],
   "source": [
    "## Increasing iterations improves over previous best MSE\n",
    "min(recomm.mse)"
   ]
  },
  {
   "cell_type": "code",
   "execution_count": 19,
   "metadata": {},
   "outputs": [
    {
     "data": {
      "image/png": "[encoded data removed]",
      "text/plain": [
       "<Figure size 792x360 with 1 Axes>"
      ]
     },
     "metadata": {
      "needs_background": "light"
     },
     "output_type": "display_data"
    }
   ],
   "source": [
    "## Plot MSE over iterations\n",
    "plt.figure(figsize=(11, 5))\n",
    "plt.plot(recomm.mse)\n",
    "plt.xlabel('Iterations')\n",
    "plt.ylabel('MSE')\n",
    "plt.title('MSE over iterations')\n",
    "plt.show()"
   ]
  },
  {
   "cell_type": "code",
   "execution_count": 20,
   "metadata": {},
   "outputs": [
    {
     "data": {
      "text/plain": [
       "array([[5.50000601, 3.49992033, 0.50002864, 1.50000201],\n",
       "       [4.49999922, 0.50001032, 0.49999629, 1.49999974],\n",
       "       [1.50000084, 1.49998886, 0.50000401, 5.50000028],\n",
       "       [1.50000011, 0.4999986 , 0.5000005 , 4.50000004],\n",
       "       [0.49999567, 1.50005748, 5.49997933, 4.49999855],\n",
       "       [2.49999816, 1.50002441, 3.49999122, 0.49999938]])"
      ]
     },
     "execution_count": 20,
     "metadata": {},
     "output_type": "execute_result"
    }
   ],
   "source": [
    "## Get the Predicted matrix\n",
    "recomm.matrix"
   ]
  },
  {
   "cell_type": "code",
   "execution_count": 24,
   "metadata": {},
   "outputs": [
    {
     "data": {
      "text/html": [
       "<div>\n",
       "<style scoped>\n",
       "    .dataframe tbody tr th:only-of-type {\n",
       "        vertical-align: middle;\n",
       "    }\n",
       "\n",
       "    .dataframe tbody tr th {\n",
       "        vertical-align: top;\n",
       "    }\n",
       "\n",
       "    .dataframe thead th {\n",
       "        text-align: right;\n",
       "    }\n",
       "</style>\n",
       "<table border=\"1\" class=\"dataframe\">\n",
       "  <thead>\n",
       "    <tr style=\"text-align: right;\">\n",
       "      <th></th>\n",
       "      <th>movieId</th>\n",
       "      <th>rating</th>\n",
       "      <th>title</th>\n",
       "    </tr>\n",
       "  </thead>\n",
       "  <tbody>\n",
       "    <tr>\n",
       "      <th>0</th>\n",
       "      <td>2</td>\n",
       "      <td>3.0</td>\n",
       "      <td>Ariel</td>\n",
       "    </tr>\n",
       "    <tr>\n",
       "      <th>1</th>\n",
       "      <td>3</td>\n",
       "      <td>1.0</td>\n",
       "      <td>Shadows in Paradise</td>\n",
       "    </tr>\n",
       "  </tbody>\n",
       "</table>\n",
       "</div>"
      ],
      "text/plain": [
       "   movieId  rating                title\n",
       "0        2     3.0                Ariel\n",
       "1        3     1.0  Shadows in Paradise"
      ]
     },
     "execution_count": 24,
     "metadata": {},
     "output_type": "execute_result"
    }
   ],
   "source": [
    "## Top 5 movies to recommend\n",
    "recomm.top_recommends(1)"
   ]
  },
  {
   "cell_type": "markdown",
   "metadata": {},
   "source": [
    "## Netflix database EDA"
   ]
  },
  {
   "cell_type": "code",
   "execution_count": 25,
   "metadata": {},
   "outputs": [],
   "source": [
    "ratings = pd.read_csv(\"data/ratings_small.csv\")"
   ]
  },
  {
   "cell_type": "code",
   "execution_count": 26,
   "metadata": {},
   "outputs": [],
   "source": [
    "##Columns not needed\n",
    "ratings.drop('timestamp', axis=1, inplace=True)"
   ]
  },
  {
   "cell_type": "code",
   "execution_count": 27,
   "metadata": {},
   "outputs": [],
   "source": [
    "## Order by movieId\n",
    "ratings.sort_values('movieId', inplace=True)"
   ]
  },
  {
   "cell_type": "code",
   "execution_count": 28,
   "metadata": {},
   "outputs": [],
   "source": [
    "## Remove float ratings by casting to int\n",
    "ratings['rating'] = ratings['rating'].astype(int)"
   ]
  },
  {
   "cell_type": "code",
   "execution_count": 29,
   "metadata": {},
   "outputs": [
    {
     "name": "stdout",
     "output_type": "stream",
     "text": [
      "<class 'pandas.core.frame.DataFrame'>\n",
      "Int64Index: 100004 entries, 9713 to 80823\n",
      "Data columns (total 3 columns):\n",
      " #   Column   Non-Null Count   Dtype\n",
      "---  ------   --------------   -----\n",
      " 0   userId   100004 non-null  int64\n",
      " 1   movieId  100004 non-null  int64\n",
      " 2   rating   100004 non-null  int32\n",
      "dtypes: int32(1), int64(2)\n",
      "memory usage: 2.7 MB\n"
     ]
    }
   ],
   "source": [
    "ratings.info()"
   ]
  },
  {
   "cell_type": "code",
   "execution_count": 30,
   "metadata": {},
   "outputs": [
    {
     "data": {
      "text/html": [
       "<div>\n",
       "<style scoped>\n",
       "    .dataframe tbody tr th:only-of-type {\n",
       "        vertical-align: middle;\n",
       "    }\n",
       "\n",
       "    .dataframe tbody tr th {\n",
       "        vertical-align: top;\n",
       "    }\n",
       "\n",
       "    .dataframe thead th {\n",
       "        text-align: right;\n",
       "    }\n",
       "</style>\n",
       "<table border=\"1\" class=\"dataframe\">\n",
       "  <thead>\n",
       "    <tr style=\"text-align: right;\">\n",
       "      <th></th>\n",
       "      <th>userId</th>\n",
       "      <th>movieId</th>\n",
       "      <th>rating</th>\n",
       "    </tr>\n",
       "  </thead>\n",
       "  <tbody>\n",
       "    <tr>\n",
       "      <th>9713</th>\n",
       "      <td>68</td>\n",
       "      <td>1</td>\n",
       "      <td>4</td>\n",
       "    </tr>\n",
       "    <tr>\n",
       "      <th>35933</th>\n",
       "      <td>261</td>\n",
       "      <td>1</td>\n",
       "      <td>1</td>\n",
       "    </tr>\n",
       "    <tr>\n",
       "      <th>52631</th>\n",
       "      <td>383</td>\n",
       "      <td>1</td>\n",
       "      <td>5</td>\n",
       "    </tr>\n",
       "    <tr>\n",
       "      <th>35983</th>\n",
       "      <td>262</td>\n",
       "      <td>1</td>\n",
       "      <td>2</td>\n",
       "    </tr>\n",
       "    <tr>\n",
       "      <th>12038</th>\n",
       "      <td>77</td>\n",
       "      <td>1</td>\n",
       "      <td>4</td>\n",
       "    </tr>\n",
       "  </tbody>\n",
       "</table>\n",
       "</div>"
      ],
      "text/plain": [
       "       userId  movieId  rating\n",
       "9713       68        1       4\n",
       "35933     261        1       1\n",
       "52631     383        1       5\n",
       "35983     262        1       2\n",
       "12038      77        1       4"
      ]
     },
     "execution_count": 30,
     "metadata": {},
     "output_type": "execute_result"
    }
   ],
   "source": [
    "ratings.head()"
   ]
  },
  {
   "cell_type": "code",
   "execution_count": 31,
   "metadata": {},
   "outputs": [
    {
     "data": {
      "image/png": "[encoded data removed]",
      "text/plain": [
       "<Figure size 792x360 with 1 Axes>"
      ]
     },
     "metadata": {
      "needs_background": "light"
     },
     "output_type": "display_data"
    }
   ],
   "source": [
    "plt.figure(figsize = (11, 5))\n",
    "sns.countplot(x=\"rating\", data=ratings)\n",
    "plt.tick_params(labelsize = 15)\n",
    "plt.title(\"Count Ratings\", fontsize = 20)\n",
    "plt.xlabel(\"Ratings\", fontsize = 20)\n",
    "plt.ylabel(\"Number of Ratings\", fontsize = 20)\n",
    "plt.show()"
   ]
  },
  {
   "cell_type": "code",
   "execution_count": 32,
   "metadata": {},
   "outputs": [
    {
     "data": {
      "text/plain": [
       "userId\n",
       "547    2391\n",
       "564    1868\n",
       "624    1735\n",
       "15     1700\n",
       "73     1610\n",
       "Name: rating, dtype: int64"
      ]
     },
     "execution_count": 32,
     "metadata": {},
     "output_type": "execute_result"
    }
   ],
   "source": [
    "## Group by userid and count the numbers of movies rated by that user\n",
    "ratings.groupby(\"userId\")[\"rating\"].count().sort_values(ascending = False).head()"
   ]
  },
  {
   "cell_type": "code",
   "execution_count": 33,
   "metadata": {},
   "outputs": [
    {
     "data": {
      "text/plain": [
       "movieId\n",
       "356    341\n",
       "296    324\n",
       "318    311\n",
       "593    304\n",
       "260    291\n",
       "Name: rating, dtype: int64"
      ]
     },
     "execution_count": 33,
     "metadata": {},
     "output_type": "execute_result"
    }
   ],
   "source": [
    "## Group by movies and count the number of users rated that movie\n",
    "ratings.groupby(\"movieId\")[\"rating\"].count().sort_values(ascending = False).head()"
   ]
  },
  {
   "cell_type": "code",
   "execution_count": 34,
   "metadata": {},
   "outputs": [],
   "source": [
    "## set userId as index\n",
    "ratings = ratings.set_index('userId').sort_index(axis = 0)"
   ]
  },
  {
   "cell_type": "code",
   "execution_count": 35,
   "metadata": {},
   "outputs": [
    {
     "data": {
      "text/html": [
       "<div>\n",
       "<style scoped>\n",
       "    .dataframe tbody tr th:only-of-type {\n",
       "        vertical-align: middle;\n",
       "    }\n",
       "\n",
       "    .dataframe tbody tr th {\n",
       "        vertical-align: top;\n",
       "    }\n",
       "\n",
       "    .dataframe thead th {\n",
       "        text-align: right;\n",
       "    }\n",
       "</style>\n",
       "<table border=\"1\" class=\"dataframe\">\n",
       "  <thead>\n",
       "    <tr style=\"text-align: right;\">\n",
       "      <th></th>\n",
       "      <th>movieId</th>\n",
       "      <th>rating</th>\n",
       "    </tr>\n",
       "    <tr>\n",
       "      <th>userId</th>\n",
       "      <th></th>\n",
       "      <th></th>\n",
       "    </tr>\n",
       "  </thead>\n",
       "  <tbody>\n",
       "    <tr>\n",
       "      <th>1</th>\n",
       "      <td>2455</td>\n",
       "      <td>2</td>\n",
       "    </tr>\n",
       "    <tr>\n",
       "      <th>1</th>\n",
       "      <td>1287</td>\n",
       "      <td>2</td>\n",
       "    </tr>\n",
       "    <tr>\n",
       "      <th>1</th>\n",
       "      <td>2968</td>\n",
       "      <td>1</td>\n",
       "    </tr>\n",
       "    <tr>\n",
       "      <th>1</th>\n",
       "      <td>1339</td>\n",
       "      <td>3</td>\n",
       "    </tr>\n",
       "    <tr>\n",
       "      <th>1</th>\n",
       "      <td>1172</td>\n",
       "      <td>4</td>\n",
       "    </tr>\n",
       "    <tr>\n",
       "      <th>...</th>\n",
       "      <td>...</td>\n",
       "      <td>...</td>\n",
       "    </tr>\n",
       "    <tr>\n",
       "      <th>671</th>\n",
       "      <td>1266</td>\n",
       "      <td>4</td>\n",
       "    </tr>\n",
       "    <tr>\n",
       "      <th>671</th>\n",
       "      <td>1197</td>\n",
       "      <td>3</td>\n",
       "    </tr>\n",
       "    <tr>\n",
       "      <th>671</th>\n",
       "      <td>4022</td>\n",
       "      <td>3</td>\n",
       "    </tr>\n",
       "    <tr>\n",
       "      <th>671</th>\n",
       "      <td>1704</td>\n",
       "      <td>4</td>\n",
       "    </tr>\n",
       "    <tr>\n",
       "      <th>671</th>\n",
       "      <td>3996</td>\n",
       "      <td>3</td>\n",
       "    </tr>\n",
       "  </tbody>\n",
       "</table>\n",
       "<p>100004 rows × 2 columns</p>\n",
       "</div>"
      ],
      "text/plain": [
       "        movieId  rating\n",
       "userId                 \n",
       "1          2455       2\n",
       "1          1287       2\n",
       "1          2968       1\n",
       "1          1339       3\n",
       "1          1172       4\n",
       "...         ...     ...\n",
       "671        1266       4\n",
       "671        1197       3\n",
       "671        4022       3\n",
       "671        1704       4\n",
       "671        3996       3\n",
       "\n",
       "[100004 rows x 2 columns]"
      ]
     },
     "execution_count": 35,
     "metadata": {},
     "output_type": "execute_result"
    }
   ],
   "source": [
    "ratings"
   ]
  },
  {
   "cell_type": "code",
   "execution_count": 36,
   "metadata": {},
   "outputs": [],
   "source": [
    "## pivot df to get the matrix Yai\n",
    "ratings = ratings.pivot(index=ratings.index, columns='movieId')['rating']"
   ]
  },
  {
   "cell_type": "code",
   "execution_count": 37,
   "metadata": {},
   "outputs": [],
   "source": [
    "## replace NAN with movie mean\n",
    "ratings = ratings.fillna(ratings.mean())\n",
    "## replace NAN with zero\n",
    "#ratings = ratings.fillna(0)"
   ]
  },
  {
   "cell_type": "code",
   "execution_count": 41,
   "metadata": {},
   "outputs": [
    {
     "data": {
      "text/html": [
       "<div>\n",
       "<style scoped>\n",
       "    .dataframe tbody tr th:only-of-type {\n",
       "        vertical-align: middle;\n",
       "    }\n",
       "\n",
       "    .dataframe tbody tr th {\n",
       "        vertical-align: top;\n",
       "    }\n",
       "\n",
       "    .dataframe thead th {\n",
       "        text-align: right;\n",
       "    }\n",
       "</style>\n",
       "<table border=\"1\" class=\"dataframe\">\n",
       "  <thead>\n",
       "    <tr style=\"text-align: right;\">\n",
       "      <th>movieId</th>\n",
       "      <th>1</th>\n",
       "      <th>2</th>\n",
       "      <th>3</th>\n",
       "      <th>4</th>\n",
       "      <th>5</th>\n",
       "      <th>...</th>\n",
       "      <th>161944</th>\n",
       "      <th>162376</th>\n",
       "      <th>162542</th>\n",
       "      <th>162672</th>\n",
       "      <th>163949</th>\n",
       "    </tr>\n",
       "    <tr>\n",
       "      <th>userId</th>\n",
       "      <th></th>\n",
       "      <th></th>\n",
       "      <th></th>\n",
       "      <th></th>\n",
       "      <th></th>\n",
       "      <th></th>\n",
       "      <th></th>\n",
       "      <th></th>\n",
       "      <th></th>\n",
       "      <th></th>\n",
       "      <th></th>\n",
       "    </tr>\n",
       "  </thead>\n",
       "  <tbody>\n",
       "    <tr>\n",
       "      <th>1</th>\n",
       "      <td>3.773279</td>\n",
       "      <td>3.317757</td>\n",
       "      <td>3.084746</td>\n",
       "      <td>2.307692</td>\n",
       "      <td>3.178571</td>\n",
       "      <td>...</td>\n",
       "      <td>5.0</td>\n",
       "      <td>4.0</td>\n",
       "      <td>5.0</td>\n",
       "      <td>3.0</td>\n",
       "      <td>5.0</td>\n",
       "    </tr>\n",
       "    <tr>\n",
       "      <th>2</th>\n",
       "      <td>3.773279</td>\n",
       "      <td>3.317757</td>\n",
       "      <td>3.084746</td>\n",
       "      <td>2.307692</td>\n",
       "      <td>3.178571</td>\n",
       "      <td>...</td>\n",
       "      <td>5.0</td>\n",
       "      <td>4.0</td>\n",
       "      <td>5.0</td>\n",
       "      <td>3.0</td>\n",
       "      <td>5.0</td>\n",
       "    </tr>\n",
       "    <tr>\n",
       "      <th>3</th>\n",
       "      <td>3.773279</td>\n",
       "      <td>3.317757</td>\n",
       "      <td>3.084746</td>\n",
       "      <td>2.307692</td>\n",
       "      <td>3.178571</td>\n",
       "      <td>...</td>\n",
       "      <td>5.0</td>\n",
       "      <td>4.0</td>\n",
       "      <td>5.0</td>\n",
       "      <td>3.0</td>\n",
       "      <td>5.0</td>\n",
       "    </tr>\n",
       "    <tr>\n",
       "      <th>4</th>\n",
       "      <td>3.773279</td>\n",
       "      <td>3.317757</td>\n",
       "      <td>3.084746</td>\n",
       "      <td>2.307692</td>\n",
       "      <td>3.178571</td>\n",
       "      <td>...</td>\n",
       "      <td>5.0</td>\n",
       "      <td>4.0</td>\n",
       "      <td>5.0</td>\n",
       "      <td>3.0</td>\n",
       "      <td>5.0</td>\n",
       "    </tr>\n",
       "    <tr>\n",
       "      <th>5</th>\n",
       "      <td>3.773279</td>\n",
       "      <td>3.317757</td>\n",
       "      <td>4.000000</td>\n",
       "      <td>2.307692</td>\n",
       "      <td>3.178571</td>\n",
       "      <td>...</td>\n",
       "      <td>5.0</td>\n",
       "      <td>4.0</td>\n",
       "      <td>5.0</td>\n",
       "      <td>3.0</td>\n",
       "      <td>5.0</td>\n",
       "    </tr>\n",
       "  </tbody>\n",
       "</table>\n",
       "<p>5 rows × 9066 columns</p>\n",
       "</div>"
      ],
      "text/plain": [
       "movieId    1         2         3         4         5       ...  161944  \\\n",
       "userId                                                     ...           \n",
       "1        3.773279  3.317757  3.084746  2.307692  3.178571  ...     5.0   \n",
       "2        3.773279  3.317757  3.084746  2.307692  3.178571  ...     5.0   \n",
       "3        3.773279  3.317757  3.084746  2.307692  3.178571  ...     5.0   \n",
       "4        3.773279  3.317757  3.084746  2.307692  3.178571  ...     5.0   \n",
       "5        3.773279  3.317757  4.000000  2.307692  3.178571  ...     5.0   \n",
       "\n",
       "movieId  162376  162542  162672  163949  \n",
       "userId                                   \n",
       "1           4.0     5.0     3.0     5.0  \n",
       "2           4.0     5.0     3.0     5.0  \n",
       "3           4.0     5.0     3.0     5.0  \n",
       "4           4.0     5.0     3.0     5.0  \n",
       "5           4.0     5.0     3.0     5.0  \n",
       "\n",
       "[5 rows x 9066 columns]"
      ]
     },
     "execution_count": 41,
     "metadata": {},
     "output_type": "execute_result"
    }
   ],
   "source": [
    "ratings.head(5)"
   ]
  },
  {
   "cell_type": "code",
   "execution_count": 42,
   "metadata": {},
   "outputs": [],
   "source": [
    "## Split dataset in train and test\n",
    "train, test = train_test_split(ratings, test_size = 0.2)"
   ]
  },
  {
   "cell_type": "code",
   "execution_count": 47,
   "metadata": {},
   "outputs": [],
   "source": [
    "## fold train dataset\n",
    "kf = KFold(n_splits=3)"
   ]
  },
  {
   "cell_type": "code",
   "execution_count": 48,
   "metadata": {},
   "outputs": [
    {
     "name": "stdout",
     "output_type": "stream",
     "text": [
      "TRAIN: 238\n",
      "K: 10\t | Learning_rate: 0.001\t | MSE:14149081.912213251\n",
      "K: 10\t | Learning_rate: 0.01\t | MSE:4334431.53305951\n",
      "K: 10\t | Learning_rate: 0.1\t | MSE:198986.87079488923\n",
      "K: 10\t | Learning_rate: 1\t | MSE:nan\n",
      "TRAIN: 238\n",
      "K: 10\t | Learning_rate: 0.001\t | MSE:10767051.05809218\n",
      "K: 10\t | Learning_rate: 0.01\t | MSE:4068990.890472385\n",
      "K: 10\t | Learning_rate: 0.1\t | MSE:nan\n",
      "K: 10\t | Learning_rate: 1\t | MSE:nan\n",
      "TRAIN: 238\n",
      "K: 10\t | Learning_rate: 0.001\t | MSE:4202632.508578081\n",
      "K: 10\t | Learning_rate: 0.01\t | MSE:2209788.78185021\n",
      "K: 10\t | Learning_rate: 0.1\t | MSE:224331.03819849557\n",
      "K: 10\t | Learning_rate: 1\t | MSE:nan\n"
     ]
    }
   ],
   "source": [
    "## Find best with folded training data\n",
    "mse_s=[]\n",
    "for train, _ in kf.split(train, None):\n",
    "    df = pd.DataFrame(train)\n",
    "    print(f\"TRAIN: {len(train)}\")\n",
    "    mse_s.append(find_best(df,max_Ks=10, iterations=5))"
   ]
  },
  {
   "cell_type": "code",
   "execution_count": 49,
   "metadata": {},
   "outputs": [
    {
     "data": {
      "text/plain": [
       "[K                    7.000000\n",
       " Learning_rate        0.100000\n",
       " MSE              16220.596115\n",
       " Name: 26, dtype: float64]"
      ]
     },
     "execution_count": 49,
     "metadata": {},
     "output_type": "execute_result"
    }
   ],
   "source": [
    "best = []\n",
    "b = float(10e5)\n",
    "for df in mse_s:\n",
    "    mini = df.loc[df.MSE.idxmin()]\n",
    "    if (mini[2] < b):\n",
    "        b = mini[2]\n",
    "        best.append(mini)\n",
    "        \n",
    "best"
   ]
  },
  {
   "cell_type": "code",
   "execution_count": null,
   "metadata": {},
   "outputs": [],
   "source": [
    "## Find best with full training data and folded best\n",
    "mse = find_best(ratings,max_Ks=7,learning_rate=[0.1],iterations=20)"
   ]
  },
  {
   "cell_type": "code",
   "execution_count": 17,
   "metadata": {},
   "outputs": [],
   "source": [
    "## Best matrix with best k\n",
    "K = int(best_full[0])\n",
    "recomm = matrix_factorization(a,K)\n",
    "## Train the model, default iterations is 2\n",
    "learning_rate = float(best_full[1])\n",
    "recomm.fit(learning_rate,iterations=100)"
   ]
  },
  {
   "cell_type": "code",
   "execution_count": null,
   "metadata": {},
   "outputs": [],
   "source": [
    "recomm.mse"
   ]
  },
  {
   "cell_type": "code",
   "execution_count": null,
   "metadata": {},
   "outputs": [],
   "source": [
    "## Plot MSE over iterations\n",
    "plt.figure(figsize=(11, 5))\n",
    "plt.plot(recomm.mse)\n",
    "plt.xlabel('Iterations')\n",
    "plt.ylabel('MSE')\n",
    "plt.title('MSE over iterations')\n",
    "plt.show()"
   ]
  },
  {
   "cell_type": "code",
   "execution_count": null,
   "metadata": {},
   "outputs": [],
   "source": [
    "## Get the Predicted matrix\n",
    "recomm.matrix"
   ]
  },
  {
   "cell_type": "code",
   "execution_count": null,
   "metadata": {},
   "outputs": [],
   "source": [
    "## Top 5 movies to recommend\n",
    "recomm.top_recommends(1)"
   ]
  },
  {
   "cell_type": "code",
   "execution_count": null,
   "metadata": {},
   "outputs": [],
   "source": []
  }
 ],
 "metadata": {
  "kernelspec": {
   "display_name": "Python 3",
   "language": "python",
   "name": "python3"
  },
  "language_info": {
   "codemirror_mode": {
    "name": "ipython",
    "version": 3
   },
   "file_extension": ".py",
   "mimetype": "text/x-python",
   "name": "python",
   "nbconvert_exporter": "python",
   "pygments_lexer": "ipython3",
   "version": "3.6.5"
  }
 },
 "nbformat": 4,
 "nbformat_minor": 4
}
