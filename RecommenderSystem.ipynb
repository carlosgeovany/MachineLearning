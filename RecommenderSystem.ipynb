{
 "cells": [
  {
   "cell_type": "markdown",
   "metadata": {},
   "source": [
    "# Recommender System by collaborative filtering\n",
    "\n",
    "## Team 1\n",
    "\n",
    "- EDGAR BAZO PEREZ\n",
    "- CARLOS GEOVANY PEREZ VELAZQUEZ\n",
    "- ITA-ANDEHUI SANTIAGO CASTILLEJOS\n",
    "\n",
    "This proyect objective is to implement collaborative filtering recommender system by matrix factorization algorithm. The problem consist in try to solve how Netflix is able to determine what content you’re likely to enjoy on its platform.\n",
    "\n",
    "We will test and train the model with both dummy and Netflix movies dataset."
   ]
  },
  {
   "cell_type": "markdown",
   "metadata": {},
   "source": [
    "### Collaborative Filtering\n",
    "As there are many aproaches to this problem, we will be focusing on Collaborative filtering. **Collaborative filtering does not concern itself with non-abstract features of an item, but rather uses the wisdom of the crowd to generate recommendations.** This methodology core idea is to predict how well a user will like an item that he has not rated given a set of historical preference judgments for a community of users. So we will have a user as an individual who provides movies ratings to the system and movies rated by the users.\n",
    "\n",
    "The input for the Collaborative Filtering prediction algorithm will be a matrix of users’ ratings on movies, the **ratings matrix.**\n",
    "\n"
   ]
  },
  {
   "cell_type": "markdown",
   "metadata": {},
   "source": [
    "### Matrix Factorization\n",
    "\n",
    "Matrix factorization is a embedding model. Given the feedback matrix $D \\in R^{axi}$ , where $a$ is the number of users and $i$ is the number of movies:\n",
    "\n",
    "$$\n",
    "\\begin{bmatrix}\n",
    "U1M1 & U1M2 \\\\\n",
    "U2M1 & U2M2 \\\\\n",
    "U3M1 & U3M2\n",
    "\\end{bmatrix}\n",
    "x\n",
    "\\begin{bmatrix}\n",
    "M1R1 & M1R2 & M1R3 \\\\\n",
    "M2R1 & M2R2 & M2R3\n",
    "\\end{bmatrix}\n",
    "=\n",
    "\\begin{bmatrix}\n",
    "U1R1 & U1R2 & U1R3 \\\\\n",
    "U2R1 & U2R2 & U2R3\\\\\n",
    "U3R1 & U3R2 & U3R3\n",
    "\\end{bmatrix}\n",
    "$$\n",
    "\n",
    "\n",
    "- A user embedding matrix , where row i is the embedding for user i.\n",
    "- An movie embedding matrix , where row j is the embedding for movie j.\n",
    "\n",
    "The embeddings are learned such that the product $UV^T$ is a good approximation of the recommendation matrix $D$. As a result, matrix factorization finds latent structure in the data, assuming that observations lie close to a low-dimensional subspace."
   ]
  },
  {
   "cell_type": "markdown",
   "metadata": {},
   "source": [
    "## Objective Function\n",
    "\n",
    "$$D = {(a,i) |  Y_{ai} \\text{ es dada}}$$\n",
    "\n",
    "\n",
    "$$J(X) = \\frac{1}{2} \\sum_{(a,i)\\in D} (Y_{ai} - [UV^T]ai)^2 + \\frac{\\lambda}{2} \\sum_{a=1}^n\\sum_{j=1}^k U_{aj^2}$$\n",
    "\n",
    "\n",
    "The core idea is to create parameters and iteratively update them to minimize some cost function, like in gradient descent: Minimizr our objective function.\n",
    "\n",
    "- Start randomly V and U\n",
    "- Fix U and solve for V\n",
    "- Fix V and solve for U\n",
    "- Find loss and repeat until converge(find local minimum)"
   ]
  },
  {
   "cell_type": "code",
   "execution_count": 1,
   "metadata": {},
   "outputs": [],
   "source": [
    "import re\n",
    "import statistics\n",
    "import numpy as np\n",
    "import pandas as pd\n",
    "\n",
    "\n",
    "import matplotlib.pyplot as plt\n",
    "import seaborn as sns\n",
    "from sklearn.model_selection import train_test_split\n",
    "from sklearn.metrics import accuracy_score\n",
    "\n",
    "\n",
    "\n",
    "from recommender import MatrixFactorization, grid_search #our very own recommender system and grid search function\n",
    "import cart ## our classification and regresion tree\n",
    "\n",
    "\n",
    "np.random.seed(seed=1983)\n",
    "pd.set_option(\"display.max_columns\", 10)"
   ]
  },
  {
   "cell_type": "markdown",
   "metadata": {},
   "source": [
    "## Netflix ratings DB EDA"
   ]
  },
  {
   "cell_type": "code",
   "execution_count": 2,
   "metadata": {},
   "outputs": [],
   "source": [
    "ratings = pd.read_csv(\"data/ratings_small.csv\")"
   ]
  },
  {
   "cell_type": "code",
   "execution_count": 3,
   "metadata": {},
   "outputs": [],
   "source": [
    "##Columns not needed\n",
    "ratings.drop('timestamp', axis=1, inplace=True)"
   ]
  },
  {
   "cell_type": "code",
   "execution_count": 4,
   "metadata": {},
   "outputs": [],
   "source": [
    "## Order by movieId\n",
    "ratings.sort_values('movieId', inplace=True)"
   ]
  },
  {
   "cell_type": "code",
   "execution_count": 5,
   "metadata": {},
   "outputs": [
    {
     "name": "stdout",
     "output_type": "stream",
     "text": [
      "<class 'pandas.core.frame.DataFrame'>\n",
      "Int64Index: 100004 entries, 9713 to 80823\n",
      "Data columns (total 3 columns):\n",
      " #   Column   Non-Null Count   Dtype  \n",
      "---  ------   --------------   -----  \n",
      " 0   userId   100004 non-null  int64  \n",
      " 1   movieId  100004 non-null  int64  \n",
      " 2   rating   100004 non-null  float64\n",
      "dtypes: float64(1), int64(2)\n",
      "memory usage: 3.1 MB\n"
     ]
    }
   ],
   "source": [
    "ratings.info()"
   ]
  },
  {
   "cell_type": "code",
   "execution_count": 6,
   "metadata": {},
   "outputs": [
    {
     "data": {
      "text/html": [
       "<div>\n",
       "<style scoped>\n",
       "    .dataframe tbody tr th:only-of-type {\n",
       "        vertical-align: middle;\n",
       "    }\n",
       "\n",
       "    .dataframe tbody tr th {\n",
       "        vertical-align: top;\n",
       "    }\n",
       "\n",
       "    .dataframe thead th {\n",
       "        text-align: right;\n",
       "    }\n",
       "</style>\n",
       "<table border=\"1\" class=\"dataframe\">\n",
       "  <thead>\n",
       "    <tr style=\"text-align: right;\">\n",
       "      <th></th>\n",
       "      <th>userId</th>\n",
       "      <th>movieId</th>\n",
       "      <th>rating</th>\n",
       "    </tr>\n",
       "  </thead>\n",
       "  <tbody>\n",
       "    <tr>\n",
       "      <th>9713</th>\n",
       "      <td>68</td>\n",
       "      <td>1</td>\n",
       "      <td>4.0</td>\n",
       "    </tr>\n",
       "    <tr>\n",
       "      <th>35933</th>\n",
       "      <td>261</td>\n",
       "      <td>1</td>\n",
       "      <td>1.5</td>\n",
       "    </tr>\n",
       "    <tr>\n",
       "      <th>52631</th>\n",
       "      <td>383</td>\n",
       "      <td>1</td>\n",
       "      <td>5.0</td>\n",
       "    </tr>\n",
       "    <tr>\n",
       "      <th>35983</th>\n",
       "      <td>262</td>\n",
       "      <td>1</td>\n",
       "      <td>2.5</td>\n",
       "    </tr>\n",
       "    <tr>\n",
       "      <th>12038</th>\n",
       "      <td>77</td>\n",
       "      <td>1</td>\n",
       "      <td>4.0</td>\n",
       "    </tr>\n",
       "  </tbody>\n",
       "</table>\n",
       "</div>"
      ],
      "text/plain": [
       "       userId  movieId  rating\n",
       "9713       68        1     4.0\n",
       "35933     261        1     1.5\n",
       "52631     383        1     5.0\n",
       "35983     262        1     2.5\n",
       "12038      77        1     4.0"
      ]
     },
     "execution_count": 6,
     "metadata": {},
     "output_type": "execute_result"
    }
   ],
   "source": [
    "ratings.head()"
   ]
  },
  {
   "cell_type": "code",
   "execution_count": 7,
   "metadata": {},
   "outputs": [
    {
     "data": {
      "text/plain": [
       "9066"
      ]
     },
     "execution_count": 7,
     "metadata": {},
     "output_type": "execute_result"
    }
   ],
   "source": [
    "## Number of movies\n",
    "len(ratings['movieId'].unique())"
   ]
  },
  {
   "cell_type": "code",
   "execution_count": 8,
   "metadata": {},
   "outputs": [
    {
     "data": {
      "text/plain": [
       "671"
      ]
     },
     "execution_count": 8,
     "metadata": {},
     "output_type": "execute_result"
    }
   ],
   "source": [
    "## Number of users\n",
    "len(ratings['userId'].unique())"
   ]
  },
  {
   "cell_type": "code",
   "execution_count": 9,
   "metadata": {},
   "outputs": [
    {
     "data": {
      "text/plain": [
       "149.03725782414307"
      ]
     },
     "execution_count": 9,
     "metadata": {},
     "output_type": "execute_result"
    }
   ],
   "source": [
    "## Average number of movies rated per user\n",
    "ratings_per_user = ratings.groupby('userId')['rating'].count()\n",
    "statistics.mean(ratings_per_user.tolist())"
   ]
  },
  {
   "cell_type": "markdown",
   "metadata": {},
   "source": [
    "### Distribution of ratings per user"
   ]
  },
  {
   "cell_type": "code",
   "execution_count": 10,
   "metadata": {},
   "outputs": [
    {
     "data": {
      "image/png": "[encoded data removed]",
      "text/plain": [
       "<Figure size 792x432 with 1 Axes>"
      ]
     },
     "metadata": {
      "needs_background": "light"
     },
     "output_type": "display_data"
    }
   ],
   "source": [
    "plt.figure(figsize = (11, 6))\n",
    "ratings_per_user.hist(bins=20,  histtype='bar', ec='black')\n",
    "plt.title(\"Movies ratings per user\")\n",
    "plt.grid(False)\n",
    "\n",
    "plt.show()"
   ]
  },
  {
   "cell_type": "code",
   "execution_count": 11,
   "metadata": {},
   "outputs": [
    {
     "data": {
      "text/plain": [
       "11.030664019413193"
      ]
     },
     "execution_count": 11,
     "metadata": {},
     "output_type": "execute_result"
    }
   ],
   "source": [
    "## Average number of ratings given to movies\n",
    "ratings_per_movie = ratings.groupby('movieId')['rating'].count()\n",
    "statistics.mean(ratings_per_movie.tolist())"
   ]
  },
  {
   "cell_type": "markdown",
   "metadata": {},
   "source": [
    "### Distribution of ratings per movie"
   ]
  },
  {
   "cell_type": "code",
   "execution_count": 12,
   "metadata": {},
   "outputs": [
    {
     "data": {
      "image/png": "[encoded data removed]",
      "text/plain": [
       "<Figure size 792x432 with 1 Axes>"
      ]
     },
     "metadata": {
      "needs_background": "light"
     },
     "output_type": "display_data"
    }
   ],
   "source": [
    "plt.figure(figsize = (11, 6))\n",
    "ratings_per_movie.hist(bins=20, range=(0,200),  histtype='bar', ec='black')\n",
    "plt.title(\"Rating movies per user\")\n",
    "plt.grid(False)\n",
    "plt.show()"
   ]
  },
  {
   "cell_type": "code",
   "execution_count": 13,
   "metadata": {},
   "outputs": [
    {
     "data": {
      "image/png": "[encoded data removed]",
      "text/plain": [
       "<Figure size 792x432 with 1 Axes>"
      ]
     },
     "metadata": {
      "needs_background": "light"
     },
     "output_type": "display_data"
    }
   ],
   "source": [
    "plt.figure(figsize = (11, 6))\n",
    "sns.countplot(x=\"rating\", data=ratings)\n",
    "plt.tick_params(labelsize = 15)\n",
    "plt.title(\"Count Ratings\", fontsize = 20)\n",
    "plt.xlabel(\"Ratings\", fontsize = 20)\n",
    "plt.ylabel(\"Number of Ratings\", fontsize = 20)\n",
    "plt.show()"
   ]
  },
  {
   "cell_type": "code",
   "execution_count": 14,
   "metadata": {},
   "outputs": [
    {
     "data": {
      "text/plain": [
       "userId\n",
       "547    2391\n",
       "564    1868\n",
       "624    1735\n",
       "15     1700\n",
       "73     1610\n",
       "Name: rating, dtype: int64"
      ]
     },
     "execution_count": 14,
     "metadata": {},
     "output_type": "execute_result"
    }
   ],
   "source": [
    "## Group by userid and count the numbers of movies rated by that user\n",
    "ratings.groupby(\"userId\")[\"rating\"].count().sort_values(ascending = False).head()"
   ]
  },
  {
   "cell_type": "code",
   "execution_count": 15,
   "metadata": {},
   "outputs": [
    {
     "data": {
      "text/plain": [
       "movieId\n",
       "356    341\n",
       "296    324\n",
       "318    311\n",
       "593    304\n",
       "260    291\n",
       "Name: rating, dtype: int64"
      ]
     },
     "execution_count": 15,
     "metadata": {},
     "output_type": "execute_result"
    }
   ],
   "source": [
    "## Group by movies and count the number of users rated that movie\n",
    "ratings.groupby(\"movieId\")[\"rating\"].count().sort_values(ascending = False).head()"
   ]
  },
  {
   "cell_type": "markdown",
   "metadata": {},
   "source": [
    "### Is essential to filter out movies and users with low exposure to remove some of the noise from outliers"
   ]
  },
  {
   "cell_type": "code",
   "execution_count": 16,
   "metadata": {},
   "outputs": [],
   "source": [
    "min_movie_ratings = 10 #a movie has was rated at least \n",
    "min_user_ratings =  10 #a user rated movies at least\n",
    "\n",
    "ratings = ratings.groupby(\"movieId\").filter(lambda x: x['movieId'].count() >= min_movie_ratings)\n",
    "ratings = ratings.groupby(\"userId\").filter(lambda x: x['userId'].count() >= min_user_ratings)"
   ]
  },
  {
   "cell_type": "code",
   "execution_count": 17,
   "metadata": {},
   "outputs": [],
   "source": [
    "## pivot df to get the matrix Yai\n",
    "ratings = pd.pivot_table(data=ratings,index=['userId'], columns=['movieId'], values=['rating'], aggfunc=np.sum)"
   ]
  },
  {
   "cell_type": "code",
   "execution_count": 18,
   "metadata": {},
   "outputs": [],
   "source": [
    "## replace NAN with zero\n",
    "ratings = ratings.fillna(0)"
   ]
  },
  {
   "cell_type": "code",
   "execution_count": 19,
   "metadata": {},
   "outputs": [
    {
     "data": {
      "text/plain": [
       "(670, 2245)"
      ]
     },
     "execution_count": 19,
     "metadata": {},
     "output_type": "execute_result"
    }
   ],
   "source": [
    "ratings.shape"
   ]
  },
  {
   "cell_type": "code",
   "execution_count": 20,
   "metadata": {},
   "outputs": [
    {
     "data": {
      "text/html": [
       "<div>\n",
       "<style scoped>\n",
       "    .dataframe tbody tr th:only-of-type {\n",
       "        vertical-align: middle;\n",
       "    }\n",
       "\n",
       "    .dataframe tbody tr th {\n",
       "        vertical-align: top;\n",
       "    }\n",
       "\n",
       "    .dataframe thead tr th {\n",
       "        text-align: left;\n",
       "    }\n",
       "\n",
       "    .dataframe thead tr:last-of-type th {\n",
       "        text-align: right;\n",
       "    }\n",
       "</style>\n",
       "<table border=\"1\" class=\"dataframe\">\n",
       "  <thead>\n",
       "    <tr>\n",
       "      <th></th>\n",
       "      <th colspan=\"11\" halign=\"left\">rating</th>\n",
       "    </tr>\n",
       "    <tr>\n",
       "      <th>movieId</th>\n",
       "      <th>1</th>\n",
       "      <th>2</th>\n",
       "      <th>3</th>\n",
       "      <th>4</th>\n",
       "      <th>5</th>\n",
       "      <th>...</th>\n",
       "      <th>122904</th>\n",
       "      <th>134130</th>\n",
       "      <th>134853</th>\n",
       "      <th>139385</th>\n",
       "      <th>148626</th>\n",
       "    </tr>\n",
       "    <tr>\n",
       "      <th>userId</th>\n",
       "      <th></th>\n",
       "      <th></th>\n",
       "      <th></th>\n",
       "      <th></th>\n",
       "      <th></th>\n",
       "      <th></th>\n",
       "      <th></th>\n",
       "      <th></th>\n",
       "      <th></th>\n",
       "      <th></th>\n",
       "      <th></th>\n",
       "    </tr>\n",
       "  </thead>\n",
       "  <tbody>\n",
       "    <tr>\n",
       "      <th>1</th>\n",
       "      <td>0.0</td>\n",
       "      <td>0.0</td>\n",
       "      <td>0.0</td>\n",
       "      <td>0.0</td>\n",
       "      <td>0.0</td>\n",
       "      <td>...</td>\n",
       "      <td>0.0</td>\n",
       "      <td>0.0</td>\n",
       "      <td>0.0</td>\n",
       "      <td>0.0</td>\n",
       "      <td>0.0</td>\n",
       "    </tr>\n",
       "    <tr>\n",
       "      <th>2</th>\n",
       "      <td>0.0</td>\n",
       "      <td>0.0</td>\n",
       "      <td>0.0</td>\n",
       "      <td>0.0</td>\n",
       "      <td>0.0</td>\n",
       "      <td>...</td>\n",
       "      <td>0.0</td>\n",
       "      <td>0.0</td>\n",
       "      <td>0.0</td>\n",
       "      <td>0.0</td>\n",
       "      <td>0.0</td>\n",
       "    </tr>\n",
       "    <tr>\n",
       "      <th>3</th>\n",
       "      <td>0.0</td>\n",
       "      <td>0.0</td>\n",
       "      <td>0.0</td>\n",
       "      <td>0.0</td>\n",
       "      <td>0.0</td>\n",
       "      <td>...</td>\n",
       "      <td>0.0</td>\n",
       "      <td>0.0</td>\n",
       "      <td>0.0</td>\n",
       "      <td>0.0</td>\n",
       "      <td>0.0</td>\n",
       "    </tr>\n",
       "    <tr>\n",
       "      <th>4</th>\n",
       "      <td>0.0</td>\n",
       "      <td>0.0</td>\n",
       "      <td>0.0</td>\n",
       "      <td>0.0</td>\n",
       "      <td>0.0</td>\n",
       "      <td>...</td>\n",
       "      <td>0.0</td>\n",
       "      <td>0.0</td>\n",
       "      <td>0.0</td>\n",
       "      <td>0.0</td>\n",
       "      <td>0.0</td>\n",
       "    </tr>\n",
       "    <tr>\n",
       "      <th>5</th>\n",
       "      <td>0.0</td>\n",
       "      <td>0.0</td>\n",
       "      <td>4.0</td>\n",
       "      <td>0.0</td>\n",
       "      <td>0.0</td>\n",
       "      <td>...</td>\n",
       "      <td>0.0</td>\n",
       "      <td>0.0</td>\n",
       "      <td>0.0</td>\n",
       "      <td>0.0</td>\n",
       "      <td>0.0</td>\n",
       "    </tr>\n",
       "  </tbody>\n",
       "</table>\n",
       "<p>5 rows × 2245 columns</p>\n",
       "</div>"
      ],
      "text/plain": [
       "        rating                              ...                              \\\n",
       "movieId 1      2      3      4      5       ... 122904 134130 134853 139385   \n",
       "userId                                      ...                               \n",
       "1          0.0    0.0    0.0    0.0    0.0  ...    0.0    0.0    0.0    0.0   \n",
       "2          0.0    0.0    0.0    0.0    0.0  ...    0.0    0.0    0.0    0.0   \n",
       "3          0.0    0.0    0.0    0.0    0.0  ...    0.0    0.0    0.0    0.0   \n",
       "4          0.0    0.0    0.0    0.0    0.0  ...    0.0    0.0    0.0    0.0   \n",
       "5          0.0    0.0    4.0    0.0    0.0  ...    0.0    0.0    0.0    0.0   \n",
       "\n",
       "                \n",
       "movieId 148626  \n",
       "userId          \n",
       "1          0.0  \n",
       "2          0.0  \n",
       "3          0.0  \n",
       "4          0.0  \n",
       "5          0.0  \n",
       "\n",
       "[5 rows x 2245 columns]"
      ]
     },
     "execution_count": 20,
     "metadata": {},
     "output_type": "execute_result"
    }
   ],
   "source": [
    "ratings.head(5)"
   ]
  },
  {
   "cell_type": "markdown",
   "metadata": {},
   "source": [
    "### Netfilx movies DB EDA"
   ]
  },
  {
   "cell_type": "code",
   "execution_count": 21,
   "metadata": {},
   "outputs": [],
   "source": [
    "movies_data = pd.read_csv(\"data/movies_metadata.csv\", usecols=['genres','id','title','original_language','release_date', 'budget', 'runtime'])"
   ]
  },
  {
   "cell_type": "code",
   "execution_count": 22,
   "metadata": {},
   "outputs": [],
   "source": [
    "## Remove id and name from string\n",
    "movies_data['genres'].replace({'id': ''}, inplace=True, regex=True)\n",
    "movies_data['genres'].replace({'name': ''}, inplace=True, regex=True)\n",
    "movies_data['genres'].replace({'\\d+': ''}, inplace=True, regex=True)\n",
    "## Remove special characters\n",
    "movies_data['genres'].replace({'\\W+': ' '}, inplace=True, regex=True)\n",
    "## Remove leading and trailing blanks\n",
    "movies_data['genres'] = movies_data['genres'].str.strip()\n",
    "## Formatiing the string\n",
    "movies_data['genres'].replace({' ': ', '}, inplace=True, regex=True)\n",
    "## split in to a list\n",
    "movies_data['genres'] = [x.strip('()').split(',') for x in movies_data['genres']]"
   ]
  },
  {
   "cell_type": "code",
   "execution_count": 23,
   "metadata": {},
   "outputs": [],
   "source": [
    "## Cleaning id column\n",
    "movies_data.drop(movies_data[movies_data['id'].str.contains(\"-\")].index, inplace = True)\n",
    "movies_data['id'] = movies_data['id'].astype('int64')\n",
    "## Rename id column to movieId\n",
    "movies_data.rename(columns={'id': 'movieId'}, inplace=True)"
   ]
  },
  {
   "cell_type": "code",
   "execution_count": 24,
   "metadata": {},
   "outputs": [
    {
     "data": {
      "text/html": [
       "<div>\n",
       "<style scoped>\n",
       "    .dataframe tbody tr th:only-of-type {\n",
       "        vertical-align: middle;\n",
       "    }\n",
       "\n",
       "    .dataframe tbody tr th {\n",
       "        vertical-align: top;\n",
       "    }\n",
       "\n",
       "    .dataframe thead th {\n",
       "        text-align: right;\n",
       "    }\n",
       "</style>\n",
       "<table border=\"1\" class=\"dataframe\">\n",
       "  <thead>\n",
       "    <tr style=\"text-align: right;\">\n",
       "      <th></th>\n",
       "      <th>budget</th>\n",
       "      <th>genres</th>\n",
       "      <th>movieId</th>\n",
       "      <th>original_language</th>\n",
       "      <th>release_date</th>\n",
       "      <th>runtime</th>\n",
       "      <th>title</th>\n",
       "    </tr>\n",
       "  </thead>\n",
       "  <tbody>\n",
       "    <tr>\n",
       "      <th>0</th>\n",
       "      <td>30000000</td>\n",
       "      <td>[Animation,  Comedy,  Family]</td>\n",
       "      <td>862</td>\n",
       "      <td>en</td>\n",
       "      <td>1995-10-30</td>\n",
       "      <td>81.0</td>\n",
       "      <td>Toy Story</td>\n",
       "    </tr>\n",
       "    <tr>\n",
       "      <th>1</th>\n",
       "      <td>65000000</td>\n",
       "      <td>[Adventure,  Fantasy,  Family]</td>\n",
       "      <td>8844</td>\n",
       "      <td>en</td>\n",
       "      <td>1995-12-15</td>\n",
       "      <td>104.0</td>\n",
       "      <td>Jumanji</td>\n",
       "    </tr>\n",
       "    <tr>\n",
       "      <th>2</th>\n",
       "      <td>0</td>\n",
       "      <td>[Romance,  Comedy]</td>\n",
       "      <td>15602</td>\n",
       "      <td>en</td>\n",
       "      <td>1995-12-22</td>\n",
       "      <td>101.0</td>\n",
       "      <td>Grumpier Old Men</td>\n",
       "    </tr>\n",
       "    <tr>\n",
       "      <th>3</th>\n",
       "      <td>16000000</td>\n",
       "      <td>[Comedy,  Drama,  Romance]</td>\n",
       "      <td>31357</td>\n",
       "      <td>en</td>\n",
       "      <td>1995-12-22</td>\n",
       "      <td>127.0</td>\n",
       "      <td>Waiting to Exhale</td>\n",
       "    </tr>\n",
       "    <tr>\n",
       "      <th>4</th>\n",
       "      <td>0</td>\n",
       "      <td>[Comedy]</td>\n",
       "      <td>11862</td>\n",
       "      <td>en</td>\n",
       "      <td>1995-02-10</td>\n",
       "      <td>106.0</td>\n",
       "      <td>Father of the Bride Part II</td>\n",
       "    </tr>\n",
       "  </tbody>\n",
       "</table>\n",
       "</div>"
      ],
      "text/plain": [
       "     budget                          genres  movieId original_language  \\\n",
       "0  30000000   [Animation,  Comedy,  Family]      862                en   \n",
       "1  65000000  [Adventure,  Fantasy,  Family]     8844                en   \n",
       "2         0              [Romance,  Comedy]    15602                en   \n",
       "3  16000000      [Comedy,  Drama,  Romance]    31357                en   \n",
       "4         0                        [Comedy]    11862                en   \n",
       "\n",
       "  release_date  runtime                        title  \n",
       "0   1995-10-30     81.0                    Toy Story  \n",
       "1   1995-12-15    104.0                      Jumanji  \n",
       "2   1995-12-22    101.0             Grumpier Old Men  \n",
       "3   1995-12-22    127.0            Waiting to Exhale  \n",
       "4   1995-02-10    106.0  Father of the Bride Part II  "
      ]
     },
     "execution_count": 24,
     "metadata": {},
     "output_type": "execute_result"
    }
   ],
   "source": [
    "movies_data.head()"
   ]
  },
  {
   "cell_type": "markdown",
   "metadata": {},
   "source": [
    "### Amount of movies by Language"
   ]
  },
  {
   "cell_type": "code",
   "execution_count": 25,
   "metadata": {},
   "outputs": [
    {
     "data": {
      "image/png": "[encoded data removed]",
      "text/plain": [
       "<Figure size 792x432 with 1 Axes>"
      ]
     },
     "metadata": {
      "needs_background": "light"
     },
     "output_type": "display_data"
    }
   ],
   "source": [
    "## Plot movies by original language\n",
    "plt.figure(figsize = (11, 6))\n",
    "sns.countplot(data=movies_data,\n",
    "              order=movies_data.original_language.value_counts().iloc[:10].index,\n",
    "              y='original_language')\n",
    "plt.tick_params(labelsize = 15)\n",
    "plt.title(\"Top 10 Movies by Language\", fontsize = 20)\n",
    "plt.xlabel(\"Movies\", fontsize = 20)\n",
    "plt.ylabel(\"Language\", fontsize = 20)\n",
    "plt.show()"
   ]
  },
  {
   "cell_type": "markdown",
   "metadata": {},
   "source": [
    "### Amount of movies by genre"
   ]
  },
  {
   "cell_type": "code",
   "execution_count": 26,
   "metadata": {},
   "outputs": [
    {
     "data": {
      "image/png": "[encoded data removed]",
      "text/plain": [
       "<Figure size 792x432 with 1 Axes>"
      ]
     },
     "metadata": {
      "needs_background": "light"
     },
     "output_type": "display_data"
    }
   ],
   "source": [
    "by_genres = movies_data.set_index('title').genres.map(lambda x: x[0]).reset_index()\n",
    "plt.figure(figsize=(11,6))\n",
    "sns.countplot(data=by_genres,\n",
    "              order=by_genres.genres.value_counts().iloc[:10].index,\n",
    "              y='genres')\n",
    "plt.title('Top 10 Genres on Netflix')\n",
    "plt.xlabel('Movies')\n",
    "plt.ylabel('Genres')\n",
    "plt.show()"
   ]
  },
  {
   "cell_type": "markdown",
   "metadata": {},
   "source": [
    "## Movies Time series"
   ]
  },
  {
   "cell_type": "code",
   "execution_count": 27,
   "metadata": {},
   "outputs": [],
   "source": [
    "## Counter for movies date\n",
    "movies_data['count'] = 1"
   ]
  },
  {
   "cell_type": "code",
   "execution_count": 28,
   "metadata": {},
   "outputs": [],
   "source": [
    "## Transform column to date type\n",
    "movies_data['release_date'] =  pd.to_datetime(movies_data['release_date'], format='%Y-%m-%d')"
   ]
  },
  {
   "cell_type": "code",
   "execution_count": 29,
   "metadata": {},
   "outputs": [
    {
     "data": {
      "text/plain": [
       "(Timestamp('1874-12-09 00:00:00'), Timestamp('2020-12-16 00:00:00'))"
      ]
     },
     "execution_count": 29,
     "metadata": {},
     "output_type": "execute_result"
    }
   ],
   "source": [
    "movies_data['release_date'].min(), movies_data['release_date'].max()"
   ]
  },
  {
   "cell_type": "code",
   "execution_count": 30,
   "metadata": {},
   "outputs": [
    {
     "data": {
      "text/html": [
       "<div>\n",
       "<style scoped>\n",
       "    .dataframe tbody tr th:only-of-type {\n",
       "        vertical-align: middle;\n",
       "    }\n",
       "\n",
       "    .dataframe tbody tr th {\n",
       "        vertical-align: top;\n",
       "    }\n",
       "\n",
       "    .dataframe thead th {\n",
       "        text-align: right;\n",
       "    }\n",
       "</style>\n",
       "<table border=\"1\" class=\"dataframe\">\n",
       "  <thead>\n",
       "    <tr style=\"text-align: right;\">\n",
       "      <th></th>\n",
       "      <th>budget</th>\n",
       "      <th>genres</th>\n",
       "      <th>movieId</th>\n",
       "      <th>original_language</th>\n",
       "      <th>release_date</th>\n",
       "      <th>runtime</th>\n",
       "      <th>title</th>\n",
       "      <th>count</th>\n",
       "    </tr>\n",
       "  </thead>\n",
       "  <tbody>\n",
       "    <tr>\n",
       "      <th>0</th>\n",
       "      <td>30000000</td>\n",
       "      <td>[Animation,  Comedy,  Family]</td>\n",
       "      <td>862</td>\n",
       "      <td>en</td>\n",
       "      <td>1995-10-30</td>\n",
       "      <td>81.0</td>\n",
       "      <td>Toy Story</td>\n",
       "      <td>1</td>\n",
       "    </tr>\n",
       "    <tr>\n",
       "      <th>1</th>\n",
       "      <td>65000000</td>\n",
       "      <td>[Adventure,  Fantasy,  Family]</td>\n",
       "      <td>8844</td>\n",
       "      <td>en</td>\n",
       "      <td>1995-12-15</td>\n",
       "      <td>104.0</td>\n",
       "      <td>Jumanji</td>\n",
       "      <td>1</td>\n",
       "    </tr>\n",
       "    <tr>\n",
       "      <th>2</th>\n",
       "      <td>0</td>\n",
       "      <td>[Romance,  Comedy]</td>\n",
       "      <td>15602</td>\n",
       "      <td>en</td>\n",
       "      <td>1995-12-22</td>\n",
       "      <td>101.0</td>\n",
       "      <td>Grumpier Old Men</td>\n",
       "      <td>1</td>\n",
       "    </tr>\n",
       "    <tr>\n",
       "      <th>3</th>\n",
       "      <td>16000000</td>\n",
       "      <td>[Comedy,  Drama,  Romance]</td>\n",
       "      <td>31357</td>\n",
       "      <td>en</td>\n",
       "      <td>1995-12-22</td>\n",
       "      <td>127.0</td>\n",
       "      <td>Waiting to Exhale</td>\n",
       "      <td>1</td>\n",
       "    </tr>\n",
       "    <tr>\n",
       "      <th>4</th>\n",
       "      <td>0</td>\n",
       "      <td>[Comedy]</td>\n",
       "      <td>11862</td>\n",
       "      <td>en</td>\n",
       "      <td>1995-02-10</td>\n",
       "      <td>106.0</td>\n",
       "      <td>Father of the Bride Part II</td>\n",
       "      <td>1</td>\n",
       "    </tr>\n",
       "  </tbody>\n",
       "</table>\n",
       "</div>"
      ],
      "text/plain": [
       "     budget                          genres  movieId original_language  \\\n",
       "0  30000000   [Animation,  Comedy,  Family]      862                en   \n",
       "1  65000000  [Adventure,  Fantasy,  Family]     8844                en   \n",
       "2         0              [Romance,  Comedy]    15602                en   \n",
       "3  16000000      [Comedy,  Drama,  Romance]    31357                en   \n",
       "4         0                        [Comedy]    11862                en   \n",
       "\n",
       "  release_date  runtime                        title  count  \n",
       "0   1995-10-30     81.0                    Toy Story      1  \n",
       "1   1995-12-15    104.0                      Jumanji      1  \n",
       "2   1995-12-22    101.0             Grumpier Old Men      1  \n",
       "3   1995-12-22    127.0            Waiting to Exhale      1  \n",
       "4   1995-02-10    106.0  Father of the Bride Part II      1  "
      ]
     },
     "execution_count": 30,
     "metadata": {},
     "output_type": "execute_result"
    }
   ],
   "source": [
    "movies_data.head(5)"
   ]
  },
  {
   "cell_type": "code",
   "execution_count": 31,
   "metadata": {},
   "outputs": [],
   "source": [
    "## Group by date and count movies\n",
    "daily_frame = movies_data.groupby('release_date')['count'].sum().reset_index()\n",
    "daily_frame = daily_frame.set_index('release_date')\n",
    "daily_frame.index = pd.to_datetime(daily_frame.index)"
   ]
  },
  {
   "cell_type": "code",
   "execution_count": 32,
   "metadata": {},
   "outputs": [],
   "source": [
    "## Sum the counts of movies by year\n",
    "y = daily_frame['count'].resample('MS').sum()"
   ]
  },
  {
   "cell_type": "code",
   "execution_count": 33,
   "metadata": {},
   "outputs": [
    {
     "data": {
      "image/png": "[encoded data removed]",
      "text/plain": [
       "<Figure size 1440x432 with 1 Axes>"
      ]
     },
     "metadata": {
      "needs_background": "light"
     },
     "output_type": "display_data"
    }
   ],
   "source": [
    "y.plot(figsize=(20, 6))\n",
    "plt.title(\"Movies release dates\", fontsize = 20)\n",
    "plt.show()"
   ]
  },
  {
   "cell_type": "code",
   "execution_count": 34,
   "metadata": {},
   "outputs": [],
   "source": [
    "budget = movies_data[movies_data['budget'].apply(lambda x: x.isnumeric())]\n",
    "budget['budget'] = budget['budget'].astype(int).apply(lambda x: x/1000000)\n",
    "budget = budget[budget['budget']>0]"
   ]
  },
  {
   "cell_type": "code",
   "execution_count": 35,
   "metadata": {},
   "outputs": [
    {
     "name": "stdout",
     "output_type": "stream",
     "text": [
      "Mean budget by movie: $21.6 million dollars\n"
     ]
    }
   ],
   "source": [
    "print(f\"Mean budget by movie: ${round(budget.budget.mean(),2)} million dollars\")"
   ]
  },
  {
   "cell_type": "code",
   "execution_count": 36,
   "metadata": {},
   "outputs": [
    {
     "name": "stdout",
     "output_type": "stream",
     "text": [
      "Max budget by a movie: $380.0 million dollars\n",
      "budget                                                       380\n",
      "genres                            [Adventure,  Action,  Fantasy]\n",
      "movieId                                                     1865\n",
      "original_language                                             en\n",
      "release_date                                 2011-05-14 00:00:00\n",
      "runtime                                                      136\n",
      "title                Pirates of the Caribbean: On Stranger Tides\n",
      "count                                                          1\n",
      "Name: 17124, dtype: object\n"
     ]
    }
   ],
   "source": [
    "print(f\"Max budget by a movie: ${max(budget.budget)} million dollars\")\n",
    "print(budget.loc[budget['budget'].idxmax()])"
   ]
  },
  {
   "cell_type": "code",
   "execution_count": 37,
   "metadata": {},
   "outputs": [
    {
     "data": {
      "image/png": "[encoded data removed]",
      "text/plain": [
       "<Figure size 792x432 with 1 Axes>"
      ]
     },
     "metadata": {
      "needs_background": "light"
     },
     "output_type": "display_data"
    }
   ],
   "source": [
    "plt.figure(figsize=(11,6))\n",
    "budget.budget.hist(bins=100, histtype='bar', ec='black')\n",
    "plt.xlim(0,150)\n",
    "plt.grid(False)\n",
    "plt.title(\"Movies Runtime distribution\")\n",
    "plt.xlabel('Runtime in minutes')\n",
    "plt.show()"
   ]
  },
  {
   "cell_type": "code",
   "execution_count": 38,
   "metadata": {},
   "outputs": [
    {
     "name": "stdout",
     "output_type": "stream",
     "text": [
      "Mean runtime by movie: 97.49 minutes\n"
     ]
    }
   ],
   "source": [
    "runtime = movies_data[movies_data['runtime'] > 0]\n",
    "print(f\"Mean runtime by movie: {round(runtime.runtime.mean(),2)} minutes\")"
   ]
  },
  {
   "cell_type": "code",
   "execution_count": 39,
   "metadata": {},
   "outputs": [
    {
     "data": {
      "image/png": "[encoded data removed]",
      "text/plain": [
       "<Figure size 792x432 with 1 Axes>"
      ]
     },
     "metadata": {
      "needs_background": "light"
     },
     "output_type": "display_data"
    }
   ],
   "source": [
    "plt.figure(figsize=(11,6))\n",
    "runtime.runtime.hist(bins=100, histtype='bar', ec='black')\n",
    "plt.xlim(0,400)\n",
    "plt.grid(False)\n",
    "plt.title(\"Movies Runtime distribution\")\n",
    "plt.xlabel('Runtime in minutes')\n",
    "plt.show()"
   ]
  },
  {
   "cell_type": "markdown",
   "metadata": {},
   "source": [
    "## Train on a Dummy dataset"
   ]
  },
  {
   "cell_type": "code",
   "execution_count": 36,
   "metadata": {},
   "outputs": [],
   "source": [
    "## Dummy dataset\n",
    "a = pd.DataFrame([\n",
    "\n",
    "     [1,5,3,0,1],\n",
    "\n",
    "     [2,4,0,0,1],\n",
    "\n",
    "     [3,1,1,0,5],\n",
    "\n",
    "     [4,1,0,0,4],\n",
    "\n",
    "     [5,0,1,5,4],\n",
    "    \n",
    "     [6,2,1,3,0],\n",
    "     \n",
    "     [7,4,1,2,2],\n",
    "     \n",
    "     [8,3,1,4,1],\n",
    "    \n",
    "     [9,0,1,0,3],\n",
    "    \n",
    "     [10,0,1,3,5],\n",
    "    \n",
    "\n",
    "    ]).set_index(0)\n",
    "\n",
    "a.index.names = ['userId']\n",
    "a.columns.names = ['movieId']"
   ]
  },
  {
   "cell_type": "markdown",
   "metadata": {},
   "source": [
    "## Finding the best K"
   ]
  },
  {
   "cell_type": "markdown",
   "metadata": {},
   "source": [
    "#### To find the best parameters we build the method ```grid_search()``` train the models with user defined parameters as inputs."
   ]
  },
  {
   "cell_type": "code",
   "execution_count": 37,
   "metadata": {},
   "outputs": [
    {
     "name": "stdout",
     "output_type": "stream",
     "text": [
      "K: 2\t| alpha: 0.001\t| epochs: 2\t| NDCG:0.6907950127558965\n",
      "K: 2\t| alpha: 0.001\t| epochs: 4\t| NDCG:0.7606300425073964\n",
      "K: 2\t| alpha: 0.01\t| epochs: 2\t| NDCG:0.8281139647223069\n",
      "K: 2\t| alpha: 0.01\t| epochs: 4\t| NDCG:0.6988873113581568\n",
      "K: 2\t| alpha: 0.1\t| epochs: 2\t| NDCG:0.818081231564762\n",
      "K: 2\t| alpha: 0.1\t| epochs: 4\t| NDCG:0.8663062581933527\n",
      "K: 4\t| alpha: 0.001\t| epochs: 2\t| NDCG:0.8145422390749145\n",
      "K: 4\t| alpha: 0.001\t| epochs: 4\t| NDCG:0.7144457472935688\n",
      "K: 4\t| alpha: 0.01\t| epochs: 2\t| NDCG:0.8459662699372552\n",
      "K: 4\t| alpha: 0.01\t| epochs: 4\t| NDCG:0.8274066366296606\n",
      "K: 4\t| alpha: 0.1\t| epochs: 2\t| NDCG:0.8183996113728125\n",
      "K: 4\t| alpha: 0.1\t| epochs: 4\t| NDCG:0.8572787187213878\n",
      "K: 6\t| alpha: 0.001\t| epochs: 2\t| NDCG:0.7478637078415477\n",
      "K: 6\t| alpha: 0.001\t| epochs: 4\t| NDCG:0.8159223872734007\n",
      "K: 6\t| alpha: 0.01\t| epochs: 2\t| NDCG:0.7474706551723067\n",
      "K: 6\t| alpha: 0.01\t| epochs: 4\t| NDCG:0.7809133063798499\n",
      "K: 6\t| alpha: 0.1\t| epochs: 2\t| NDCG:0.8325097812562114\n",
      "K: 6\t| alpha: 0.1\t| epochs: 4\t| NDCG:0.8956692175982235\n"
     ]
    }
   ],
   "source": [
    "params = {'Ks':[2,4,6],\n",
    "          \"alphas\": [0.001,0.01,0.1],\n",
    "          \"epochs\":[2,4]}\n",
    "\n",
    "r = MatrixFactorization(a,movies_data)\n",
    "\n",
    "clfs = grid_search(r,params)"
   ]
  },
  {
   "cell_type": "code",
   "execution_count": 38,
   "metadata": {},
   "outputs": [],
   "source": [
    "best = clfs.loc[clfs['NDCG'].idxmin()]"
   ]
  },
  {
   "cell_type": "code",
   "execution_count": 40,
   "metadata": {},
   "outputs": [
    {
     "data": {
      "text/plain": [
       "K                                                         2\n",
       "alpha                                                 0.001\n",
       "epochs                                                    2\n",
       "clf       <recommender.MatrixFactorization object at 0x0...\n",
       "NDCG                                               0.690795\n",
       "Name: 0, dtype: object"
      ]
     },
     "execution_count": 40,
     "metadata": {},
     "output_type": "execute_result"
    }
   ],
   "source": [
    "best"
   ]
  },
  {
   "cell_type": "code",
   "execution_count": 39,
   "metadata": {},
   "outputs": [
    {
     "data": {
      "text/plain": [
       "array([[2.93730166, 2.01003842, 1.98458081, 2.59170666],\n",
       "       [1.97627609, 1.59259659, 1.41209005, 2.20299787],\n",
       "       [2.02271744, 1.67751771, 1.58575597, 2.83365211],\n",
       "       [1.91701579, 1.69795956, 1.63761437, 2.35189811],\n",
       "       [2.37842055, 2.1272828 , 2.037255  , 3.11782705],\n",
       "       [2.52070887, 1.89929078, 1.83560997, 2.5472159 ],\n",
       "       [3.00044044, 2.34237402, 2.0699999 , 2.53860701],\n",
       "       [2.774982  , 1.76330235, 1.89136937, 2.41725213],\n",
       "       [1.41885533, 1.24491073, 1.22535887, 2.07849227],\n",
       "       [2.59615973, 2.16807786, 2.02852573, 3.58214984]])"
      ]
     },
     "execution_count": 39,
     "metadata": {},
     "output_type": "execute_result"
    }
   ],
   "source": [
    "## Get the Predicted matrix\n",
    "best.clf.matrix"
   ]
  },
  {
   "cell_type": "code",
   "execution_count": 41,
   "metadata": {},
   "outputs": [
    {
     "data": {
      "text/html": [
       "<div>\n",
       "<style scoped>\n",
       "    .dataframe tbody tr th:only-of-type {\n",
       "        vertical-align: middle;\n",
       "    }\n",
       "\n",
       "    .dataframe tbody tr th {\n",
       "        vertical-align: top;\n",
       "    }\n",
       "\n",
       "    .dataframe thead th {\n",
       "        text-align: right;\n",
       "    }\n",
       "</style>\n",
       "<table border=\"1\" class=\"dataframe\">\n",
       "  <thead>\n",
       "    <tr style=\"text-align: right;\">\n",
       "      <th></th>\n",
       "      <th>movieId</th>\n",
       "      <th>userId</th>\n",
       "      <th>rating</th>\n",
       "      <th>Must watch?</th>\n",
       "      <th>title</th>\n",
       "      <th>original_language</th>\n",
       "      <th>genres</th>\n",
       "      <th>release_date</th>\n",
       "      <th>runtime</th>\n",
       "    </tr>\n",
       "  </thead>\n",
       "  <tbody>\n",
       "    <tr>\n",
       "      <th>0</th>\n",
       "      <td>3</td>\n",
       "      <td>1</td>\n",
       "      <td>0</td>\n",
       "      <td>😀😀</td>\n",
       "      <td>Shadows in Paradise</td>\n",
       "      <td>fi</td>\n",
       "      <td>[Drama,  Comedy]</td>\n",
       "      <td>1986-10-16</td>\n",
       "      <td>76.0</td>\n",
       "    </tr>\n",
       "  </tbody>\n",
       "</table>\n",
       "</div>"
      ],
      "text/plain": [
       "   movieId  userId  rating Must watch?                title original_language  \\\n",
       "0        3       1       0          😀😀  Shadows in Paradise                fi   \n",
       "\n",
       "             genres release_date  runtime  \n",
       "0  [Drama,  Comedy]   1986-10-16     76.0  "
      ]
     },
     "execution_count": 41,
     "metadata": {},
     "output_type": "execute_result"
    }
   ],
   "source": [
    "best.clf.recommend_movies(1)"
   ]
  },
  {
   "cell_type": "markdown",
   "metadata": {},
   "source": [
    "### Discounted Cumulative Gain\n",
    "\n",
    "The **Discounted Cumulative Gain (DCG)** is a relevance metric in information science and information retrieval. Unlike pure classification use cases where you are right or wrong, in a ranking problem, you are more or less right or wrong. The relevance actually denotes how well the retrieved set of documents properly answers the initial query. The most frequently used version of **DCG** is:\n",
    "\n",
    "$$ DCG_p = \\sum_{i=1}^p \\frac{2^{rel_i} - 1}{log_2(i+1)}$$\n",
    "\n",
    "$$ nDCG_p = \\frac{DCG_P}{IDCG_p} $$\n",
    "\n",
    "$$ \\text{where} $$\n",
    "\n",
    "$$ IDCG_p = \\sum_{i=1}^{|REL_p|} \\frac{2^{rel_i} - 1}{log_2(i+1)}$$\n",
    "\n",
    "The **nDCG** is calculated against an ideal ranking. In case you have the ideal ranking (IDGC), your predicted ranking is compared to it. This measure helps to get the relative performance of a model given the complexity of a query.\n"
   ]
  },
  {
   "cell_type": "markdown",
   "metadata": {},
   "source": [
    "# Netflix movies small DB"
   ]
  },
  {
   "cell_type": "markdown",
   "metadata": {},
   "source": [
    "## Finding the best K"
   ]
  },
  {
   "cell_type": "code",
   "execution_count": 42,
   "metadata": {},
   "outputs": [
    {
     "name": "stdout",
     "output_type": "stream",
     "text": [
      "K: 2\t| alpha: 0.001\t| epochs: 2\t| NDCG:0.437876104873406\n",
      "K: 2\t| alpha: 0.001\t| epochs: 4\t| NDCG:0.44515969937241157\n",
      "K: 2\t| alpha: 0.01\t| epochs: 2\t| NDCG:0.4502446349763181\n",
      "K: 2\t| alpha: 0.01\t| epochs: 4\t| NDCG:0.4435427768977642\n",
      "K: 2\t| alpha: 0.1\t| epochs: 2\t| NDCG:0.5192432473257823\n",
      "K: 2\t| alpha: 0.1\t| epochs: 4\t| NDCG:0.5311908162761417\n",
      "K: 4\t| alpha: 0.001\t| epochs: 2\t| NDCG:0.44363374322043553\n",
      "K: 4\t| alpha: 0.001\t| epochs: 4\t| NDCG:0.44502823793957896\n",
      "K: 4\t| alpha: 0.01\t| epochs: 2\t| NDCG:0.45172568702222043\n",
      "K: 4\t| alpha: 0.01\t| epochs: 4\t| NDCG:0.44108366404159827\n",
      "K: 4\t| alpha: 0.1\t| epochs: 2\t| NDCG:0.5167336478843461\n",
      "K: 4\t| alpha: 0.1\t| epochs: 4\t| NDCG:0.5637731180113708\n",
      "K: 6\t| alpha: 0.001\t| epochs: 2\t| NDCG:0.443208015912073\n",
      "K: 6\t| alpha: 0.001\t| epochs: 4\t| NDCG:0.4410217381103284\n",
      "K: 6\t| alpha: 0.01\t| epochs: 2\t| NDCG:0.4518272261201698\n",
      "K: 6\t| alpha: 0.01\t| epochs: 4\t| NDCG:0.4531202987201375\n",
      "K: 6\t| alpha: 0.1\t| epochs: 2\t| NDCG:0.5261616326493936\n",
      "K: 6\t| alpha: 0.1\t| epochs: 4\t| NDCG:0.5702941343254907\n"
     ]
    }
   ],
   "source": [
    "params = {'Ks':[2,4,6],\n",
    "          \"alphas\": [0.001,0.01,0.1],\n",
    "          \"epochs\":[2,4]}\n",
    "\n",
    "r = MatrixFactorization(ratings,movies_data)\n",
    "\n",
    "clfs = grid_search(r,params)"
   ]
  },
  {
   "cell_type": "code",
   "execution_count": 51,
   "metadata": {},
   "outputs": [
    {
     "data": {
      "text/plain": [
       "K                                                         2\n",
       "alpha                                                 0.001\n",
       "epochs                                                    2\n",
       "clf       <recommender.MatrixFactorization object at 0x0...\n",
       "NDCG                                               0.437876\n",
       "Name: 0, dtype: object"
      ]
     },
     "execution_count": 51,
     "metadata": {},
     "output_type": "execute_result"
    }
   ],
   "source": [
    "best = clfs.loc[clfs['NDCG'].idxmin()]\n",
    "best"
   ]
  },
  {
   "cell_type": "markdown",
   "metadata": {},
   "source": [
    "## Recommendation Matrix"
   ]
  },
  {
   "cell_type": "code",
   "execution_count": 50,
   "metadata": {},
   "outputs": [
    {
     "data": {
      "text/plain": [
       "array([[1.24502041, 1.06896401, 0.5750262 , ..., 0.47377844, 0.80734347,\n",
       "        0.95830152],\n",
       "       [1.80154067, 1.45889135, 1.41422453, ..., 1.1909382 , 1.31594479,\n",
       "        0.94085696],\n",
       "       [1.37683881, 1.03578922, 1.00629261, ..., 0.64322093, 0.96857084,\n",
       "        0.69115952],\n",
       "       ...,\n",
       "       [1.5330259 , 1.21066157, 1.00878476, ..., 0.86734581, 1.04456353,\n",
       "        0.9794679 ],\n",
       "       [1.16954304, 1.03084765, 0.62037275, ..., 0.48659954, 0.73062731,\n",
       "        0.84038726],\n",
       "       [1.5601054 , 1.4046516 , 0.89788157, ..., 0.82022657, 1.02527621,\n",
       "        1.10475897]])"
      ]
     },
     "execution_count": 50,
     "metadata": {},
     "output_type": "execute_result"
    }
   ],
   "source": [
    "## Get the Predicted matrix\n",
    "best.clf.matrix"
   ]
  },
  {
   "cell_type": "markdown",
   "metadata": {},
   "source": [
    "## Geting recomendations"
   ]
  },
  {
   "cell_type": "markdown",
   "metadata": {},
   "source": [
    "- Return the movies with the highest predicted rating that the specified user hasn’t already rated."
   ]
  },
  {
   "cell_type": "code",
   "execution_count": 57,
   "metadata": {},
   "outputs": [
    {
     "data": {
      "text/html": [
       "<div>\n",
       "<style scoped>\n",
       "    .dataframe tbody tr th:only-of-type {\n",
       "        vertical-align: middle;\n",
       "    }\n",
       "\n",
       "    .dataframe tbody tr th {\n",
       "        vertical-align: top;\n",
       "    }\n",
       "\n",
       "    .dataframe thead th {\n",
       "        text-align: right;\n",
       "    }\n",
       "</style>\n",
       "<table border=\"1\" class=\"dataframe\">\n",
       "  <thead>\n",
       "    <tr style=\"text-align: right;\">\n",
       "      <th></th>\n",
       "      <th>movieId</th>\n",
       "      <th>userId</th>\n",
       "      <th>rating</th>\n",
       "      <th>Must watch?</th>\n",
       "      <th>title</th>\n",
       "      <th>original_language</th>\n",
       "      <th>genres</th>\n",
       "      <th>release_date</th>\n",
       "      <th>runtime</th>\n",
       "    </tr>\n",
       "  </thead>\n",
       "  <tbody>\n",
       "    <tr>\n",
       "      <th>0</th>\n",
       "      <td>296</td>\n",
       "      <td>5</td>\n",
       "      <td>0.0</td>\n",
       "      <td>😀😀</td>\n",
       "      <td>Terminator 3: Rise of the Machines</td>\n",
       "      <td>en</td>\n",
       "      <td>[Action,  Thriller,  Science,  Fiction]</td>\n",
       "      <td>2003-07-02</td>\n",
       "      <td>109.0</td>\n",
       "    </tr>\n",
       "    <tr>\n",
       "      <th>1</th>\n",
       "      <td>16</td>\n",
       "      <td>5</td>\n",
       "      <td>0.0</td>\n",
       "      <td>🙁</td>\n",
       "      <td>Dancer in the Dark</td>\n",
       "      <td>en</td>\n",
       "      <td>[Drama,  Crime,  Music]</td>\n",
       "      <td>2000-05-17</td>\n",
       "      <td>140.0</td>\n",
       "    </tr>\n",
       "    <tr>\n",
       "      <th>2</th>\n",
       "      <td>22</td>\n",
       "      <td>5</td>\n",
       "      <td>0.0</td>\n",
       "      <td>🙁</td>\n",
       "      <td>Pirates of the Caribbean: The Curse of the Bla...</td>\n",
       "      <td>en</td>\n",
       "      <td>[Adventure,  Fantasy,  Action]</td>\n",
       "      <td>2003-07-09</td>\n",
       "      <td>143.0</td>\n",
       "    </tr>\n",
       "    <tr>\n",
       "      <th>3</th>\n",
       "      <td>20</td>\n",
       "      <td>5</td>\n",
       "      <td>0.0</td>\n",
       "      <td>🙁</td>\n",
       "      <td>My Life Without Me</td>\n",
       "      <td>en</td>\n",
       "      <td>[Drama,  Romance]</td>\n",
       "      <td>2003-03-07</td>\n",
       "      <td>106.0</td>\n",
       "    </tr>\n",
       "  </tbody>\n",
       "</table>\n",
       "</div>"
      ],
      "text/plain": [
       "   movieId  userId  rating Must watch?  \\\n",
       "0      296       5     0.0          😀😀   \n",
       "1       16       5     0.0           🙁   \n",
       "2       22       5     0.0           🙁   \n",
       "3       20       5     0.0           🙁   \n",
       "\n",
       "                                               title original_language  \\\n",
       "0                 Terminator 3: Rise of the Machines                en   \n",
       "1                                 Dancer in the Dark                en   \n",
       "2  Pirates of the Caribbean: The Curse of the Bla...                en   \n",
       "3                                 My Life Without Me                en   \n",
       "\n",
       "                                    genres release_date  runtime  \n",
       "0  [Action,  Thriller,  Science,  Fiction]   2003-07-02    109.0  \n",
       "1                  [Drama,  Crime,  Music]   2000-05-17    140.0  \n",
       "2           [Adventure,  Fantasy,  Action]   2003-07-09    143.0  \n",
       "3                        [Drama,  Romance]   2003-03-07    106.0  "
      ]
     },
     "execution_count": 57,
     "metadata": {},
     "output_type": "execute_result"
    }
   ],
   "source": [
    "## Recommended movies by top rating\n",
    "user = 5\n",
    "best.clf.recommend_movies(user)"
   ]
  },
  {
   "cell_type": "code",
   "execution_count": 54,
   "metadata": {},
   "outputs": [
    {
     "data": {
      "text/html": [
       "<div>\n",
       "<style scoped>\n",
       "    .dataframe tbody tr th:only-of-type {\n",
       "        vertical-align: middle;\n",
       "    }\n",
       "\n",
       "    .dataframe tbody tr th {\n",
       "        vertical-align: top;\n",
       "    }\n",
       "\n",
       "    .dataframe thead th {\n",
       "        text-align: right;\n",
       "    }\n",
       "</style>\n",
       "<table border=\"1\" class=\"dataframe\">\n",
       "  <thead>\n",
       "    <tr style=\"text-align: right;\">\n",
       "      <th></th>\n",
       "      <th>movieId</th>\n",
       "      <th>userId</th>\n",
       "      <th>rating</th>\n",
       "      <th>Must watch?</th>\n",
       "      <th>title</th>\n",
       "      <th>original_language</th>\n",
       "      <th>genres</th>\n",
       "      <th>release_date</th>\n",
       "      <th>runtime</th>\n",
       "    </tr>\n",
       "  </thead>\n",
       "  <tbody>\n",
       "    <tr>\n",
       "      <th>0</th>\n",
       "      <td>144</td>\n",
       "      <td>459</td>\n",
       "      <td>0.0</td>\n",
       "      <td>🙁</td>\n",
       "      <td>Wings of Desire</td>\n",
       "      <td>de</td>\n",
       "      <td>[Drama,  Fantasy,  Romance]</td>\n",
       "      <td>1987-01-01</td>\n",
       "      <td>128.0</td>\n",
       "    </tr>\n",
       "    <tr>\n",
       "      <th>1</th>\n",
       "      <td>147</td>\n",
       "      <td>459</td>\n",
       "      <td>0.0</td>\n",
       "      <td>🙁</td>\n",
       "      <td>The 400 Blows</td>\n",
       "      <td>fr</td>\n",
       "      <td>[Drama]</td>\n",
       "      <td>1959-05-04</td>\n",
       "      <td>99.0</td>\n",
       "    </tr>\n",
       "    <tr>\n",
       "      <th>2</th>\n",
       "      <td>216</td>\n",
       "      <td>459</td>\n",
       "      <td>0.0</td>\n",
       "      <td>🙁</td>\n",
       "      <td>Ali: Fear Eats the Soul</td>\n",
       "      <td>de</td>\n",
       "      <td>[Romance,  Drama]</td>\n",
       "      <td>1974-03-05</td>\n",
       "      <td>93.0</td>\n",
       "    </tr>\n",
       "    <tr>\n",
       "      <th>3</th>\n",
       "      <td>218</td>\n",
       "      <td>459</td>\n",
       "      <td>0.0</td>\n",
       "      <td>🙁</td>\n",
       "      <td>The Terminator</td>\n",
       "      <td>en</td>\n",
       "      <td>[Action,  Thriller,  Science,  Fiction]</td>\n",
       "      <td>1984-10-26</td>\n",
       "      <td>108.0</td>\n",
       "    </tr>\n",
       "  </tbody>\n",
       "</table>\n",
       "</div>"
      ],
      "text/plain": [
       "   movieId  userId  rating Must watch?                    title  \\\n",
       "0      144     459     0.0           🙁          Wings of Desire   \n",
       "1      147     459     0.0           🙁            The 400 Blows   \n",
       "2      216     459     0.0           🙁  Ali: Fear Eats the Soul   \n",
       "3      218     459     0.0           🙁           The Terminator   \n",
       "\n",
       "  original_language                                   genres release_date  \\\n",
       "0                de              [Drama,  Fantasy,  Romance]   1987-01-01   \n",
       "1                fr                                  [Drama]   1959-05-04   \n",
       "2                de                        [Romance,  Drama]   1974-03-05   \n",
       "3                en  [Action,  Thriller,  Science,  Fiction]   1984-10-26   \n",
       "\n",
       "   runtime  \n",
       "0    128.0  \n",
       "1     99.0  \n",
       "2     93.0  \n",
       "3    108.0  "
      ]
     },
     "metadata": {},
     "output_type": "display_data"
    },
    {
     "data": {
      "text/html": [
       "<div>\n",
       "<style scoped>\n",
       "    .dataframe tbody tr th:only-of-type {\n",
       "        vertical-align: middle;\n",
       "    }\n",
       "\n",
       "    .dataframe tbody tr th {\n",
       "        vertical-align: top;\n",
       "    }\n",
       "\n",
       "    .dataframe thead th {\n",
       "        text-align: right;\n",
       "    }\n",
       "</style>\n",
       "<table border=\"1\" class=\"dataframe\">\n",
       "  <thead>\n",
       "    <tr style=\"text-align: right;\">\n",
       "      <th></th>\n",
       "      <th>movieId</th>\n",
       "      <th>userId</th>\n",
       "      <th>rating</th>\n",
       "      <th>Must watch?</th>\n",
       "      <th>title</th>\n",
       "      <th>original_language</th>\n",
       "      <th>genres</th>\n",
       "      <th>release_date</th>\n",
       "      <th>runtime</th>\n",
       "    </tr>\n",
       "  </thead>\n",
       "  <tbody>\n",
       "    <tr>\n",
       "      <th>0</th>\n",
       "      <td>2028</td>\n",
       "      <td>448</td>\n",
       "      <td>0.0</td>\n",
       "      <td>😀😀</td>\n",
       "      <td>Say Anything...</td>\n",
       "      <td>en</td>\n",
       "      <td>[Comedy,  Drama,  Romance]</td>\n",
       "      <td>1989-04-14</td>\n",
       "      <td>100.0</td>\n",
       "    </tr>\n",
       "    <tr>\n",
       "      <th>1</th>\n",
       "      <td>2959</td>\n",
       "      <td>448</td>\n",
       "      <td>0.0</td>\n",
       "      <td>😀😀</td>\n",
       "      <td>License to Wed</td>\n",
       "      <td>en</td>\n",
       "      <td>[Comedy]</td>\n",
       "      <td>2007-07-04</td>\n",
       "      <td>91.0</td>\n",
       "    </tr>\n",
       "    <tr>\n",
       "      <th>2</th>\n",
       "      <td>1073</td>\n",
       "      <td>448</td>\n",
       "      <td>0.0</td>\n",
       "      <td>😀😀</td>\n",
       "      <td>Arlington Road</td>\n",
       "      <td>en</td>\n",
       "      <td>[Drama,  Thriller,  Mystery]</td>\n",
       "      <td>1999-03-19</td>\n",
       "      <td>117.0</td>\n",
       "    </tr>\n",
       "    <tr>\n",
       "      <th>3</th>\n",
       "      <td>457</td>\n",
       "      <td>448</td>\n",
       "      <td>0.0</td>\n",
       "      <td>😀😀</td>\n",
       "      <td>Sissi</td>\n",
       "      <td>de</td>\n",
       "      <td>[Comedy,  Drama,  Romance]</td>\n",
       "      <td>1955-12-22</td>\n",
       "      <td>102.0</td>\n",
       "    </tr>\n",
       "  </tbody>\n",
       "</table>\n",
       "</div>"
      ],
      "text/plain": [
       "   movieId  userId  rating Must watch?            title original_language  \\\n",
       "0     2028     448     0.0          😀😀  Say Anything...                en   \n",
       "1     2959     448     0.0          😀😀   License to Wed                en   \n",
       "2     1073     448     0.0          😀😀   Arlington Road                en   \n",
       "3      457     448     0.0          😀😀            Sissi                de   \n",
       "\n",
       "                         genres release_date  runtime  \n",
       "0    [Comedy,  Drama,  Romance]   1989-04-14    100.0  \n",
       "1                      [Comedy]   2007-07-04     91.0  \n",
       "2  [Drama,  Thriller,  Mystery]   1999-03-19    117.0  \n",
       "3    [Comedy,  Drama,  Romance]   1955-12-22    102.0  "
      ]
     },
     "metadata": {},
     "output_type": "display_data"
    },
    {
     "data": {
      "text/html": [
       "<div>\n",
       "<style scoped>\n",
       "    .dataframe tbody tr th:only-of-type {\n",
       "        vertical-align: middle;\n",
       "    }\n",
       "\n",
       "    .dataframe tbody tr th {\n",
       "        vertical-align: top;\n",
       "    }\n",
       "\n",
       "    .dataframe thead th {\n",
       "        text-align: right;\n",
       "    }\n",
       "</style>\n",
       "<table border=\"1\" class=\"dataframe\">\n",
       "  <thead>\n",
       "    <tr style=\"text-align: right;\">\n",
       "      <th></th>\n",
       "      <th>movieId</th>\n",
       "      <th>userId</th>\n",
       "      <th>rating</th>\n",
       "      <th>Must watch?</th>\n",
       "      <th>title</th>\n",
       "      <th>original_language</th>\n",
       "      <th>genres</th>\n",
       "      <th>release_date</th>\n",
       "      <th>runtime</th>\n",
       "    </tr>\n",
       "  </thead>\n",
       "  <tbody>\n",
       "    <tr>\n",
       "      <th>0</th>\n",
       "      <td>46578</td>\n",
       "      <td>304</td>\n",
       "      <td>0.0</td>\n",
       "      <td>😀😀</td>\n",
       "      <td>Cheerleaders' Wild Weekend</td>\n",
       "      <td>en</td>\n",
       "      <td>[Comedy,  Crime]</td>\n",
       "      <td>1979-09-01</td>\n",
       "      <td>87.0</td>\n",
       "    </tr>\n",
       "  </tbody>\n",
       "</table>\n",
       "</div>"
      ],
      "text/plain": [
       "   movieId  userId  rating Must watch?                       title  \\\n",
       "0    46578     304     0.0          😀😀  Cheerleaders' Wild Weekend   \n",
       "\n",
       "  original_language            genres release_date  runtime  \n",
       "0                en  [Comedy,  Crime]   1979-09-01     87.0  "
      ]
     },
     "metadata": {},
     "output_type": "display_data"
    },
    {
     "data": {
      "text/html": [
       "<div>\n",
       "<style scoped>\n",
       "    .dataframe tbody tr th:only-of-type {\n",
       "        vertical-align: middle;\n",
       "    }\n",
       "\n",
       "    .dataframe tbody tr th {\n",
       "        vertical-align: top;\n",
       "    }\n",
       "\n",
       "    .dataframe thead th {\n",
       "        text-align: right;\n",
       "    }\n",
       "</style>\n",
       "<table border=\"1\" class=\"dataframe\">\n",
       "  <thead>\n",
       "    <tr style=\"text-align: right;\">\n",
       "      <th></th>\n",
       "      <th>movieId</th>\n",
       "      <th>userId</th>\n",
       "      <th>rating</th>\n",
       "      <th>Must watch?</th>\n",
       "      <th>title</th>\n",
       "      <th>original_language</th>\n",
       "      <th>genres</th>\n",
       "      <th>release_date</th>\n",
       "      <th>runtime</th>\n",
       "    </tr>\n",
       "  </thead>\n",
       "  <tbody>\n",
       "    <tr>\n",
       "      <th>0</th>\n",
       "      <td>1580</td>\n",
       "      <td>572</td>\n",
       "      <td>0.0</td>\n",
       "      <td>😀😀</td>\n",
       "      <td>Rope</td>\n",
       "      <td>en</td>\n",
       "      <td>[Crime,  Drama,  Mystery,  Thriller]</td>\n",
       "      <td>1948-08-23</td>\n",
       "      <td>80.0</td>\n",
       "    </tr>\n",
       "    <tr>\n",
       "      <th>1</th>\n",
       "      <td>590</td>\n",
       "      <td>572</td>\n",
       "      <td>0.0</td>\n",
       "      <td>😀😀</td>\n",
       "      <td>The Hours</td>\n",
       "      <td>en</td>\n",
       "      <td>[Drama]</td>\n",
       "      <td>2002-12-27</td>\n",
       "      <td>114.0</td>\n",
       "    </tr>\n",
       "  </tbody>\n",
       "</table>\n",
       "</div>"
      ],
      "text/plain": [
       "   movieId  userId  rating Must watch?      title original_language  \\\n",
       "0     1580     572     0.0          😀😀       Rope                en   \n",
       "1      590     572     0.0          😀😀  The Hours                en   \n",
       "\n",
       "                                 genres release_date  runtime  \n",
       "0  [Crime,  Drama,  Mystery,  Thriller]   1948-08-23     80.0  \n",
       "1                               [Drama]   2002-12-27    114.0  "
      ]
     },
     "metadata": {},
     "output_type": "display_data"
    },
    {
     "data": {
      "text/html": [
       "<div>\n",
       "<style scoped>\n",
       "    .dataframe tbody tr th:only-of-type {\n",
       "        vertical-align: middle;\n",
       "    }\n",
       "\n",
       "    .dataframe tbody tr th {\n",
       "        vertical-align: top;\n",
       "    }\n",
       "\n",
       "    .dataframe thead th {\n",
       "        text-align: right;\n",
       "    }\n",
       "</style>\n",
       "<table border=\"1\" class=\"dataframe\">\n",
       "  <thead>\n",
       "    <tr style=\"text-align: right;\">\n",
       "      <th></th>\n",
       "      <th>movieId</th>\n",
       "      <th>userId</th>\n",
       "      <th>rating</th>\n",
       "      <th>Must watch?</th>\n",
       "      <th>title</th>\n",
       "      <th>original_language</th>\n",
       "      <th>genres</th>\n",
       "      <th>release_date</th>\n",
       "      <th>runtime</th>\n",
       "    </tr>\n",
       "  </thead>\n",
       "  <tbody>\n",
       "    <tr>\n",
       "      <th>0</th>\n",
       "      <td>595</td>\n",
       "      <td>651</td>\n",
       "      <td>0.0</td>\n",
       "      <td>😀😀</td>\n",
       "      <td>To Kill a Mockingbird</td>\n",
       "      <td>en</td>\n",
       "      <td>[Crime,  Drama]</td>\n",
       "      <td>1962-12-25</td>\n",
       "      <td>129.0</td>\n",
       "    </tr>\n",
       "    <tr>\n",
       "      <th>1</th>\n",
       "      <td>527</td>\n",
       "      <td>651</td>\n",
       "      <td>0.0</td>\n",
       "      <td>😀😀</td>\n",
       "      <td>Once Were Warriors</td>\n",
       "      <td>en</td>\n",
       "      <td>[Drama]</td>\n",
       "      <td>1994-09-02</td>\n",
       "      <td>99.0</td>\n",
       "    </tr>\n",
       "    <tr>\n",
       "      <th>2</th>\n",
       "      <td>648</td>\n",
       "      <td>651</td>\n",
       "      <td>0.0</td>\n",
       "      <td>😀😀</td>\n",
       "      <td>Beauty and the Beast</td>\n",
       "      <td>fr</td>\n",
       "      <td>[Drama,  Fantasy,  Romance]</td>\n",
       "      <td>1946-10-29</td>\n",
       "      <td>96.0</td>\n",
       "    </tr>\n",
       "    <tr>\n",
       "      <th>3</th>\n",
       "      <td>778</td>\n",
       "      <td>651</td>\n",
       "      <td>0.0</td>\n",
       "      <td>😀😀</td>\n",
       "      <td>Monsieur  Hulot's Holiday</td>\n",
       "      <td>fr</td>\n",
       "      <td>[Comedy,  Family]</td>\n",
       "      <td>1953-02-26</td>\n",
       "      <td>84.0</td>\n",
       "    </tr>\n",
       "  </tbody>\n",
       "</table>\n",
       "</div>"
      ],
      "text/plain": [
       "   movieId  userId  rating Must watch?                      title  \\\n",
       "0      595     651     0.0          😀😀      To Kill a Mockingbird   \n",
       "1      527     651     0.0          😀😀         Once Were Warriors   \n",
       "2      648     651     0.0          😀😀       Beauty and the Beast   \n",
       "3      778     651     0.0          😀😀  Monsieur  Hulot's Holiday   \n",
       "\n",
       "  original_language                       genres release_date  runtime  \n",
       "0                en              [Crime,  Drama]   1962-12-25    129.0  \n",
       "1                en                      [Drama]   1994-09-02     99.0  \n",
       "2                fr  [Drama,  Fantasy,  Romance]   1946-10-29     96.0  \n",
       "3                fr            [Comedy,  Family]   1953-02-26     84.0  "
      ]
     },
     "metadata": {},
     "output_type": "display_data"
    }
   ],
   "source": [
    "## Recommended movies by top rating\n",
    "users = np.random.randint(1,670,size=5)\n",
    "for user in users:\n",
    "    display(best.clf.recommend_movies(user))"
   ]
  },
  {
   "cell_type": "markdown",
   "metadata": {},
   "source": [
    "### References\n",
    "\n",
    "- [Sistemas de recomendación. Marmol Yahya, Juan Salvador](https://github.com/salvadormarmol/machine-learning-ms-2020/blob/master/no_supervisado/sistemas_de_recomendacion/Aprendizaje%20de%20m%C3%A1quina%20-%20Sistemas%20de%20recomendaci%C3%B3n.pdf)\n",
    "- [Collaborative Filtering. Brusilovsky, Peter](https://pitt.edu/~peterb/2480-122/CollaborativeFiltering.pdf)\n",
    "- [Matrix Factorization. Google developers](https://developers.google.com/machine-learning/recommendation/collaborative/matrix)\n",
    "- [Python: Implementing Matrix Factorization from Scratch!. Moore, Jacob](https://towardsdatascience.com/recommender-systems-in-python-from-scratch-643c8fc4f704)\n",
    "- [Collaborative Filtering: Matrix Factorization Recommender System. Stodulka Jiri](https://www.jiristodulka.com/post/recsys_cf/)\n",
    "- [Discounted Cumulative Gain: the ranking metrics you should know about. Maeliza S.](https://medium.com/@maeliza.seymour/discounted-cumulative-gain-the-ranking-metrics-you-should-know-about-e1d1623f8cd9)"
   ]
  },
  {
   "cell_type": "markdown",
   "metadata": {},
   "source": [
    "## Extra"
   ]
  },
  {
   "cell_type": "markdown",
   "metadata": {},
   "source": [
    "### CART\n",
    "\n",
    "Now we will fit a CART (Classification and regression Tree) on movies data to try to genre of a movie based on:\n",
    "- budget\n",
    "- runtime\n",
    "- language"
   ]
  },
  {
   "cell_type": "markdown",
   "metadata": {},
   "source": [
    "### Data Wrangling"
   ]
  },
  {
   "cell_type": "code",
   "execution_count": 40,
   "metadata": {},
   "outputs": [],
   "source": [
    "movies_data.drop(['release_date','movieId','title','count'], axis=1, inplace=True)"
   ]
  },
  {
   "cell_type": "code",
   "execution_count": 41,
   "metadata": {},
   "outputs": [],
   "source": [
    "movies_data = movies_data[movies_data['budget'].apply(lambda x: x.isnumeric())]\n",
    "movies_data['budget'] = movies_data['budget'].astype(int).apply(lambda x: x/1000000)\n",
    "movies_data = movies_data[movies_data['budget'] > 0]"
   ]
  },
  {
   "cell_type": "code",
   "execution_count": 42,
   "metadata": {},
   "outputs": [],
   "source": [
    "movies_data = movies_data[movies_data['runtime'] > 0]"
   ]
  },
  {
   "cell_type": "code",
   "execution_count": 43,
   "metadata": {},
   "outputs": [],
   "source": [
    "movies_data.genres = movies_data.genres.map(lambda x: x[0])"
   ]
  },
  {
   "cell_type": "code",
   "execution_count": 82,
   "metadata": {},
   "outputs": [],
   "source": [
    "## Swap columns\n",
    "cols = list(movies_data.columns)\n",
    "a, b = cols.index('genres'), cols.index('runtime')\n",
    "cols[b], cols[a] = cols[a], cols[b]\n",
    "movies_data = movies_data[cols]"
   ]
  },
  {
   "cell_type": "code",
   "execution_count": 83,
   "metadata": {},
   "outputs": [],
   "source": [
    "header = list(movies_data.columns) ## Get column headers"
   ]
  },
  {
   "cell_type": "code",
   "execution_count": 84,
   "metadata": {},
   "outputs": [],
   "source": [
    "train_data, test_data = train_test_split(movies_data, test_size = 0.005, random_state = 42) \n",
    "train_data = movies_data.values.tolist() ## Transform df to list of lists\n",
    "test_data = test_data.values.tolist()"
   ]
  },
  {
   "cell_type": "code",
   "execution_count": 85,
   "metadata": {},
   "outputs": [
    {
     "data": {
      "text/plain": [
       "['budget', 'runtime', 'original_language', 'genres']"
      ]
     },
     "execution_count": 85,
     "metadata": {},
     "output_type": "execute_result"
    }
   ],
   "source": [
    "header"
   ]
  },
  {
   "cell_type": "markdown",
   "metadata": {},
   "source": [
    "### Create our Tree clasiffier"
   ]
  },
  {
   "cell_type": "code",
   "execution_count": 86,
   "metadata": {},
   "outputs": [],
   "source": [
    "depth = 3\n",
    "clf = cart.CART(header, depth) ## Depht can also be omitted"
   ]
  },
  {
   "cell_type": "markdown",
   "metadata": {},
   "source": [
    "### What´s the best question to ask?"
   ]
  },
  {
   "cell_type": "code",
   "execution_count": 87,
   "metadata": {},
   "outputs": [
    {
     "data": {
      "text/plain": [
       "runtime >= 107.0"
      ]
     },
     "execution_count": 87,
     "metadata": {},
     "output_type": "execute_result"
    }
   ],
   "source": [
    "clf.find_best_split(train_data)[1] ## Find the best question to ask"
   ]
  },
  {
   "cell_type": "markdown",
   "metadata": {},
   "source": [
    "### Fit and print our CART classifier"
   ]
  },
  {
   "cell_type": "code",
   "execution_count": 88,
   "metadata": {},
   "outputs": [],
   "source": [
    "my_tree = clf.fit(train_data) ## Fit our CART"
   ]
  },
  {
   "cell_type": "code",
   "execution_count": 89,
   "metadata": {},
   "outputs": [
    {
     "name": "stdout",
     "output_type": "stream",
     "text": [
      " runtime >= 107.0\n",
      " --> True:\n",
      "   budget >= 61.0\n",
      "   --> True:\n",
      "     budget >= 110.0\n",
      "     --> True:\n",
      "       Predict {'Adventure': '30.94%', 'Action': '41.26%', 'Drama': '6.73%', 'Science': '7.17%', 'History': '0.45%', 'Fantasy': '3.14%', 'Western': '0.9%', 'Horror': '0.45%', 'War': '0.45%', 'Thriller': '3.14%', 'Animation': '1.79%', 'Family': '2.69%', 'Comedy': '0.9%'}\n",
      "     --> False:\n",
      "       Predict {'Action': '32.66%', 'Drama': '19.87%', 'Adventure': '13.13%', 'Crime': '4.71%', 'Mystery': '2.36%', 'Thriller': '4.38%', 'Science': '2.02%', 'Comedy': '10.44%', 'Fantasy': '2.69%', 'Romance': '2.02%', 'Horror': '1.01%', 'War': '2.36%', 'Western': '0.34%', 'Music': '0.34%', 'Animation': '0.67%', 'History': '0.67%', 'Family': '0.34%'}\n",
      "   --> False:\n",
      "     runtime >= 117.0\n",
      "     --> True:\n",
      "       Predict {'Comedy': '9.9%', 'Action': '15.18%', 'Adventure': '6.62%', 'History': '1.45%', 'Drama': '42.94%', 'Science': '1.28%', 'Crime': '5.84%', 'Mystery': '0.89%', 'Documentary': '1.0%', 'Horror': '1.45%', 'Thriller': '3.73%', 'Romance': '2.84%', 'Fantasy': '1.84%', 'War': '1.61%', 'Western': '1.0%', 'Music': '0.72%', 'Animation': '0.28%', '': '0.83%', 'Family': '0.22%', 'TV': '0.22%', 'Foreign': '0.17%'}\n",
      "     --> False:\n",
      "       Predict {'Drama': '32.14%', 'Fantasy': '1.42%', 'Horror': '3.58%', 'Action': '14.9%', 'Crime': '7.24%', 'Comedy': '20.9%', 'Romance': '2.5%', 'Science': '1.83%', 'Thriller': '4.83%', 'Family': '0.67%', 'History': '0.67%', 'Adventure': '4.83%', '': '0.17%', 'War': '0.75%', 'Mystery': '0.92%', 'Western': '0.67%', 'Music': '1.08%', 'Animation': '0.17%', 'Documentary': '0.75%'}\n",
      " --> False:\n",
      "   budget >= 15.5\n",
      "   --> True:\n",
      "     budget >= 69.0\n",
      "     --> True:\n",
      "       Predict {'Science': '4.15%', 'Animation': '23.02%', 'Drama': '3.4%', 'Comedy': '13.21%', 'Action': '18.49%', 'Thriller': '2.64%', 'Crime': '1.13%', 'Adventure': '18.49%', 'Horror': '1.13%', 'Romance': '1.13%', 'Fantasy': '7.92%', 'Family': '4.15%', 'Mystery': '0.75%', 'Western': '0.38%'}\n",
      "     --> False:\n",
      "       Predict {'Animation': '4.63%', 'Adventure': '8.49%', 'Action': '23.16%', 'Comedy': '28.64%', 'Crime': '2.83%', 'Fantasy': '3.86%', 'Drama': '10.81%', 'Romance': '2.23%', 'Family': '2.14%', 'Thriller': '3.69%', 'Music': '0.77%', 'Science': '1.03%', 'Horror': '6.09%', 'Mystery': '1.37%', 'Documentary': '0.09%', 'War': '0.17%'}\n",
      "   --> False:\n",
      "     runtime >= 12.0\n",
      "     --> True:\n",
      "       Predict {'Crime': '4.15%', 'Comedy': '21.69%', 'Drama': '21.37%', 'Action': '12.6%', 'Thriller': '4.8%', 'Romance': '1.85%', 'Fantasy': '1.91%', 'Horror': '14.87%', 'Western': '0.52%', 'Animation': '2.01%', 'Science': '2.14%', 'Mystery': '1.41%', 'Adventure': '2.92%', 'Family': '0.73%', 'Documentary': '4.59%', 'Music': '0.57%', 'History': '0.34%', '': '0.76%', 'Foreign': '0.08%', 'War': '0.29%', 'TV': '0.39%'}\n",
      "     --> False:\n",
      "       Predict {'Animation': '75.68%', 'Family': '2.7%', 'Drama': '5.41%', 'Mystery': '2.7%', 'Adventure': '2.7%', 'Science': '5.41%', 'Action': '2.7%', '': '2.7%'}\n"
     ]
    }
   ],
   "source": [
    "clf.print_tree(my_tree) ## Print CART"
   ]
  },
  {
   "cell_type": "markdown",
   "metadata": {},
   "source": [
    "### Getting predictions on a test dataset"
   ]
  },
  {
   "cell_type": "code",
   "execution_count": 94,
   "metadata": {},
   "outputs": [
    {
     "name": "stdout",
     "output_type": "stream",
     "text": [
      "Actual: Music\t| Predicted: Adventure\n",
      "Actual: Thriller\t| Predicted: Thriller\n",
      "Actual: Comedy\t| Predicted: Thriller\n",
      "Actual: Horror\t| Predicted: Thriller\n",
      "Actual: Romance\t| Predicted: Comedy\n",
      "Actual: Drama\t| Predicted: Comedy\n",
      "Actual: Comedy\t| Predicted: Adventure\n",
      "Actual: Crime\t| Predicted: Thriller\n",
      "Actual: Romance\t| Predicted: Comedy\n",
      "Actual: War\t| Predicted: Crime\n",
      "Actual: Mystery\t| Predicted: Crime\n",
      "Actual: Comedy\t| Predicted: Thriller\n",
      "Actual: Fantasy\t| Predicted: Crime\n",
      "Actual: Comedy\t| Predicted: Thriller\n",
      "Actual: Drama\t| Predicted: Comedy\n",
      "Actual: Horror\t| Predicted: Thriller\n",
      "Actual: Comedy\t| Predicted: Adventure\n",
      "Actual: Comedy\t| Predicted: Thriller\n",
      "Actual: Drama\t| Predicted: Thriller\n",
      "Actual: Thriller\t| Predicted: Crime\n",
      "Actual: Family\t| Predicted: Comedy\n",
      "Actual: Drama\t| Predicted: Adventure\n",
      "Actual: Comedy\t| Predicted: Thriller\n",
      "Actual: Drama\t| Predicted: Comedy\n",
      "Actual: Drama\t| Predicted: Thriller\n",
      "Actual: Comedy\t| Predicted: Thriller\n",
      "Actual: Horror\t| Predicted: Thriller\n",
      "Actual: Action\t| Predicted: Crime\n",
      "Actual: Horror\t| Predicted: Thriller\n",
      "Actual: Crime\t| Predicted: Crime\n",
      "Actual: Horror\t| Predicted: Thriller\n",
      "Actual: Horror\t| Predicted: Thriller\n",
      "Actual: Drama\t| Predicted: Crime\n",
      "Actual: History\t| Predicted: Comedy\n",
      "Actual: Drama\t| Predicted: Comedy\n",
      "Actual: Action\t| Predicted: Adventure\n",
      "Actual: War\t| Predicted: Comedy\n",
      "Actual: Thriller\t| Predicted: Science\n",
      "Actual: Drama\t| Predicted: Fantasy\n",
      "Actual: Drama\t| Predicted: Crime\n",
      "Actual: Adventure\t| Predicted: Fantasy\n",
      "Actual: Horror\t| Predicted: Thriller\n",
      "Actual: Romance\t| Predicted: Thriller\n",
      "Actual: Romance\t| Predicted: Crime\n",
      "Actual: Comedy\t| Predicted: Thriller\n"
     ]
    }
   ],
   "source": [
    "## Classification with test data\n",
    "for row in test_data:\n",
    "    print(f\"Actual: {row[-1]}\\t| Predicted: {clf.classify(row, my_tree)}\")"
   ]
  },
  {
   "cell_type": "code",
   "execution_count": 104,
   "metadata": {},
   "outputs": [
    {
     "data": {
      "image/png": "[encoded data removed]",
      "text/plain": [
       "<Figure size 720x432 with 1 Axes>"
      ]
     },
     "metadata": {
      "needs_background": "light"
     },
     "output_type": "display_data"
    }
   ],
   "source": [
    "## plot decision boundaries\n",
    "fig,ax = plt.subplots(figsize=(10,6))\n",
    "plt.scatter(movies_data.budget, movies_data.runtime,alpha=.55)\n",
    "plt.vlines(15.5, ymin=0, ymax=800, linewidth=.5)\n",
    "plt.hlines(107, xmin=0, xmax=400, linewidth=.5)\n",
    "plt.xlabel(\"Budget (in million dollars)\")\n",
    "plt.ylabel(\"Runtime\")\n",
    "plt.show()"
   ]
  },
  {
   "cell_type": "markdown",
   "metadata": {},
   "source": [
    "### Accuracy Score "
   ]
  },
  {
   "cell_type": "code",
   "execution_count": 105,
   "metadata": {},
   "outputs": [],
   "source": [
    "y_pred = [clf.classify(row, my_tree) for row in train_data]\n",
    "y_train = [row[-1] for row in train_data]"
   ]
  },
  {
   "cell_type": "code",
   "execution_count": 106,
   "metadata": {},
   "outputs": [
    {
     "name": "stdout",
     "output_type": "stream",
     "text": [
      "Accuracy score: 0.07109649620138338\n"
     ]
    }
   ],
   "source": [
    "print(f\"Accuracy score: {accuracy_score(y_train,y_pred)}\")"
   ]
  },
  {
   "cell_type": "code",
   "execution_count": 107,
   "metadata": {},
   "outputs": [
    {
     "data": {
      "image/png": "[encoded data removed]",
      "text/plain": [
       "<Figure size 720x432 with 1 Axes>"
      ]
     },
     "metadata": {
      "needs_background": "light"
     },
     "output_type": "display_data"
    }
   ],
   "source": [
    "## Plot predictions\n",
    "fig,ax = plt.subplots(figsize=(10,6))\n",
    "plt.scatter(y_pred, y_train)\n",
    "plt.plot([0, 1], [0, 1], '--k', transform = plt.gca().transAxes)\n",
    "plt.xlabel('y_pred')\n",
    "plt.ylabel('y_train')\n",
    "plt.show()"
   ]
  },
  {
   "cell_type": "code",
   "execution_count": null,
   "metadata": {},
   "outputs": [],
   "source": []
  }
 ],
 "metadata": {
  "kernelspec": {
   "display_name": "Python 3",
   "language": "python",
   "name": "python3"
  },
  "language_info": {
   "codemirror_mode": {
    "name": "ipython",
    "version": 3
   },
   "file_extension": ".py",
   "mimetype": "text/x-python",
   "name": "python",
   "nbconvert_exporter": "python",
   "pygments_lexer": "ipython3",
   "version": "3.6.5"
  }
 },
 "nbformat": 4,
 "nbformat_minor": 4
}
