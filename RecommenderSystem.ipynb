{
 "cells": [
  {
   "cell_type": "markdown",
   "metadata": {},
   "source": [
    "# Recommender System by collaborative filtering\n",
    "\n",
    "## Team 1\n",
    "\n",
    "- EDGAR BAZO PEREZ\n",
    "- CARLOS GEOVANY PEREZ VELAZQUEZ\n",
    "- ITA-ANDEHUI SANTIAGO CASTILLEJOS\n",
    "\n",
    "This proyect objective is to implement collaborative filtering recommender system by matrix factorization algorithm. The problem consist in try to solve how Netflix is able to determine what content you’re likely to enjoy on its platform.\n",
    "\n",
    "We will test and train the model with both dummy and Netflix movies dataset."
   ]
  },
  {
   "cell_type": "markdown",
   "metadata": {},
   "source": [
    "### Collaborative Filtering\n",
    "As there are many aproaches to this problem, we will be focusing on Collaborative filtering. **Collaborative filtering does not concern itself with non-abstract features of an item, but rather uses the wisdom of the crowd to generate recommendations.** This methodology core idea is to predict how well a user will like an item that he has not rated given a set of historical preference judgments for a community of users. So we will have a user as an individual who provides movies ratings to the system and movies rated by the users.\n",
    "\n",
    "The input for the Collaborative Filtering prediction algorithm will be a matrix of users’ ratings on movies, the **ratings matrix.**\n",
    "\n"
   ]
  },
  {
   "cell_type": "markdown",
   "metadata": {},
   "source": [
    "### Matrix Factorization\n",
    "\n",
    "Matrix factorization is a embedding model. Given the feedback matrix $D \\in R^{axi}$ , where $a$ is the number of users and $i$ is the number of movies:\n",
    "\n",
    "$$\n",
    "\\begin{bmatrix}\n",
    "U1M1 & U1M2 \\\\\n",
    "U2M1 & U2M2 \\\\\n",
    "U3M1 & U3M2\n",
    "\\end{bmatrix}\n",
    "x\n",
    "\\begin{bmatrix}\n",
    "M1R1 & M1R2 & M1R3 \\\\\n",
    "M2R1 & M2R2 & M2R3\n",
    "\\end{bmatrix}\n",
    "=\n",
    "\\begin{bmatrix}\n",
    "U1R1 & U1R2 & U1R3 \\\\\n",
    "U2R1 & U2R2 & U2R3\\\\\n",
    "U3R1 & U3R2 & U3R3\n",
    "\\end{bmatrix}\n",
    "$$\n",
    "\n",
    "\n",
    "- A user embedding matrix , where row i is the embedding for user i.\n",
    "- An movie embedding matrix , where row j is the embedding for movie j.\n",
    "\n",
    "The embeddings are learned such that the product $UV^T$ is a good approximation of the recommendation matrix $D$. As a result, matrix factorization finds latent structure in the data, assuming that observations lie close to a low-dimensional subspace."
   ]
  },
  {
   "cell_type": "markdown",
   "metadata": {},
   "source": [
    "## Objective Function\n",
    "\n",
    "$$D = {(a,i) |  Y_{ai} \\text{ es dada}}$$\n",
    "\n",
    "\n",
    "$$J(X) = \\frac{1}{2} \\sum_{(a,i)\\in D} (Y_{ai} - [UV^T]ai)^2 + \\frac{\\lambda}{2} \\sum_{a=1}^n\\sum_{j=1}^k U_{aj^2}$$\n",
    "\n",
    "\n",
    "The core idea is to create parameters and iteratively update them to minimize some cost function, like in gradient descent: Minimizr our objective function.\n",
    "\n",
    "- Start randomly V and U\n",
    "- Fix U and solve for V\n",
    "- Fix V and solve for U\n",
    "- Find loss and repeat until converge(find local minimum)"
   ]
  },
  {
   "cell_type": "code",
   "execution_count": 1,
   "metadata": {},
   "outputs": [],
   "source": [
    "import re\n",
    "import statistics\n",
    "import numpy as np\n",
    "import pandas as pd\n",
    "import plotly.express as px\n",
    "\n",
    "\n",
    "import matplotlib.pyplot as plt\n",
    "import seaborn as sns\n",
    "from sklearn.model_selection import KFold, train_test_split\n",
    "\n",
    "from recommender import matrix_factorization, find_best #our very own recommender system\n",
    "\n",
    "np.random.seed(seed=1983)\n",
    "pd.set_option(\"display.max_columns\", 10)"
   ]
  },
  {
   "cell_type": "markdown",
   "metadata": {},
   "source": [
    "## Netflix ratings DB EDA"
   ]
  },
  {
   "cell_type": "code",
   "execution_count": 56,
   "metadata": {},
   "outputs": [],
   "source": [
    "ratings = pd.read_csv(\"data/ratings_small.csv\")"
   ]
  },
  {
   "cell_type": "code",
   "execution_count": 57,
   "metadata": {},
   "outputs": [],
   "source": [
    "##Columns not needed\n",
    "ratings.drop('timestamp', axis=1, inplace=True)"
   ]
  },
  {
   "cell_type": "code",
   "execution_count": 58,
   "metadata": {},
   "outputs": [],
   "source": [
    "## Order by movieId\n",
    "ratings.sort_values('movieId', inplace=True)"
   ]
  },
  {
   "cell_type": "code",
   "execution_count": 59,
   "metadata": {},
   "outputs": [
    {
     "name": "stdout",
     "output_type": "stream",
     "text": [
      "<class 'pandas.core.frame.DataFrame'>\n",
      "Int64Index: 100004 entries, 9713 to 80823\n",
      "Data columns (total 3 columns):\n",
      " #   Column   Non-Null Count   Dtype  \n",
      "---  ------   --------------   -----  \n",
      " 0   userId   100004 non-null  int64  \n",
      " 1   movieId  100004 non-null  int64  \n",
      " 2   rating   100004 non-null  float64\n",
      "dtypes: float64(1), int64(2)\n",
      "memory usage: 3.1 MB\n"
     ]
    }
   ],
   "source": [
    "ratings.info()"
   ]
  },
  {
   "cell_type": "code",
   "execution_count": 60,
   "metadata": {},
   "outputs": [
    {
     "data": {
      "text/html": [
       "<div>\n",
       "<style scoped>\n",
       "    .dataframe tbody tr th:only-of-type {\n",
       "        vertical-align: middle;\n",
       "    }\n",
       "\n",
       "    .dataframe tbody tr th {\n",
       "        vertical-align: top;\n",
       "    }\n",
       "\n",
       "    .dataframe thead th {\n",
       "        text-align: right;\n",
       "    }\n",
       "</style>\n",
       "<table border=\"1\" class=\"dataframe\">\n",
       "  <thead>\n",
       "    <tr style=\"text-align: right;\">\n",
       "      <th></th>\n",
       "      <th>userId</th>\n",
       "      <th>movieId</th>\n",
       "      <th>rating</th>\n",
       "    </tr>\n",
       "  </thead>\n",
       "  <tbody>\n",
       "    <tr>\n",
       "      <th>9713</th>\n",
       "      <td>68</td>\n",
       "      <td>1</td>\n",
       "      <td>4.0</td>\n",
       "    </tr>\n",
       "    <tr>\n",
       "      <th>35933</th>\n",
       "      <td>261</td>\n",
       "      <td>1</td>\n",
       "      <td>1.5</td>\n",
       "    </tr>\n",
       "    <tr>\n",
       "      <th>52631</th>\n",
       "      <td>383</td>\n",
       "      <td>1</td>\n",
       "      <td>5.0</td>\n",
       "    </tr>\n",
       "    <tr>\n",
       "      <th>35983</th>\n",
       "      <td>262</td>\n",
       "      <td>1</td>\n",
       "      <td>2.5</td>\n",
       "    </tr>\n",
       "    <tr>\n",
       "      <th>12038</th>\n",
       "      <td>77</td>\n",
       "      <td>1</td>\n",
       "      <td>4.0</td>\n",
       "    </tr>\n",
       "  </tbody>\n",
       "</table>\n",
       "</div>"
      ],
      "text/plain": [
       "       userId  movieId  rating\n",
       "9713       68        1     4.0\n",
       "35933     261        1     1.5\n",
       "52631     383        1     5.0\n",
       "35983     262        1     2.5\n",
       "12038      77        1     4.0"
      ]
     },
     "execution_count": 60,
     "metadata": {},
     "output_type": "execute_result"
    }
   ],
   "source": [
    "ratings.head()"
   ]
  },
  {
   "cell_type": "code",
   "execution_count": 62,
   "metadata": {},
   "outputs": [
    {
     "data": {
      "text/plain": [
       "9066"
      ]
     },
     "execution_count": 62,
     "metadata": {},
     "output_type": "execute_result"
    }
   ],
   "source": [
    "## Number of movies\n",
    "len(ratings['movieId'].unique())"
   ]
  },
  {
   "cell_type": "code",
   "execution_count": 63,
   "metadata": {},
   "outputs": [
    {
     "data": {
      "text/plain": [
       "671"
      ]
     },
     "execution_count": 63,
     "metadata": {},
     "output_type": "execute_result"
    }
   ],
   "source": [
    "## Number of users\n",
    "len(ratings['userId'].unique())"
   ]
  },
  {
   "cell_type": "code",
   "execution_count": 65,
   "metadata": {},
   "outputs": [
    {
     "data": {
      "text/plain": [
       "149.03725782414307"
      ]
     },
     "execution_count": 65,
     "metadata": {},
     "output_type": "execute_result"
    }
   ],
   "source": [
    "## Average number of movies rated per user\n",
    "ratings_per_user = ratings.groupby('userId')['rating'].count()\n",
    "statistics.mean(ratings_per_user.tolist())"
   ]
  },
  {
   "cell_type": "code",
   "execution_count": 71,
   "metadata": {},
   "outputs": [
    {
     "data": {
      "image/png": "[encoded data removed]",
      "text/plain": [
       "<Figure size 792x360 with 1 Axes>"
      ]
     },
     "metadata": {
      "needs_background": "light"
     },
     "output_type": "display_data"
    }
   ],
   "source": [
    "## Distribution of ratings per user\n",
    "plt.figure(figsize = (11, 5))\n",
    "ratings_per_user.hist(bins=20)\n",
    "plt.show()"
   ]
  },
  {
   "cell_type": "code",
   "execution_count": 70,
   "metadata": {},
   "outputs": [
    {
     "data": {
      "text/plain": [
       "11.030664019413193"
      ]
     },
     "execution_count": 70,
     "metadata": {},
     "output_type": "execute_result"
    }
   ],
   "source": [
    "ratings_per_movie = ratings.groupby('movieId')['rating'].count()\n",
    "statistics.mean(ratings_per_movie.tolist())"
   ]
  },
  {
   "cell_type": "code",
   "execution_count": 75,
   "metadata": {},
   "outputs": [
    {
     "data": {
      "image/png": "[encoded data removed]",
      "text/plain": [
       "<Figure size 792x360 with 1 Axes>"
      ]
     },
     "metadata": {
      "needs_background": "light"
     },
     "output_type": "display_data"
    }
   ],
   "source": [
    "## Distribution of ratings per movie\n",
    "plt.figure(figsize = (11, 5))\n",
    "ratings_per_movie.hist(bins=20, range=(0,200))\n",
    "plt.show()"
   ]
  },
  {
   "cell_type": "code",
   "execution_count": 7,
   "metadata": {},
   "outputs": [
    {
     "data": {
      "image/png": "[encoded data removed]",
      "text/plain": [
       "<Figure size 792x360 with 1 Axes>"
      ]
     },
     "metadata": {
      "needs_background": "light"
     },
     "output_type": "display_data"
    }
   ],
   "source": [
    "plt.figure(figsize = (11, 5))\n",
    "sns.countplot(x=\"rating\", data=ratings)\n",
    "plt.tick_params(labelsize = 15)\n",
    "plt.title(\"Count Ratings\", fontsize = 20)\n",
    "plt.xlabel(\"Ratings\", fontsize = 20)\n",
    "plt.ylabel(\"Number of Ratings\", fontsize = 20)\n",
    "plt.show()"
   ]
  },
  {
   "cell_type": "code",
   "execution_count": 8,
   "metadata": {},
   "outputs": [
    {
     "data": {
      "text/plain": [
       "userId\n",
       "547    2391\n",
       "564    1868\n",
       "624    1735\n",
       "15     1700\n",
       "73     1610\n",
       "Name: rating, dtype: int64"
      ]
     },
     "execution_count": 8,
     "metadata": {},
     "output_type": "execute_result"
    }
   ],
   "source": [
    "## Group by userid and count the numbers of movies rated by that user\n",
    "ratings.groupby(\"userId\")[\"rating\"].count().sort_values(ascending = False).head()"
   ]
  },
  {
   "cell_type": "code",
   "execution_count": 9,
   "metadata": {},
   "outputs": [
    {
     "data": {
      "text/plain": [
       "movieId\n",
       "356    341\n",
       "296    324\n",
       "318    311\n",
       "593    304\n",
       "260    291\n",
       "Name: rating, dtype: int64"
      ]
     },
     "execution_count": 9,
     "metadata": {},
     "output_type": "execute_result"
    }
   ],
   "source": [
    "## Group by movies and count the number of users rated that movie\n",
    "ratings.groupby(\"movieId\")[\"rating\"].count().sort_values(ascending = False).head()"
   ]
  },
  {
   "cell_type": "code",
   "execution_count": 10,
   "metadata": {},
   "outputs": [],
   "source": [
    "## set userId as index\n",
    "ratings = ratings.set_index('userId').sort_index(axis = 0)"
   ]
  },
  {
   "cell_type": "code",
   "execution_count": 11,
   "metadata": {},
   "outputs": [
    {
     "data": {
      "text/html": [
       "<div>\n",
       "<style scoped>\n",
       "    .dataframe tbody tr th:only-of-type {\n",
       "        vertical-align: middle;\n",
       "    }\n",
       "\n",
       "    .dataframe tbody tr th {\n",
       "        vertical-align: top;\n",
       "    }\n",
       "\n",
       "    .dataframe thead th {\n",
       "        text-align: right;\n",
       "    }\n",
       "</style>\n",
       "<table border=\"1\" class=\"dataframe\">\n",
       "  <thead>\n",
       "    <tr style=\"text-align: right;\">\n",
       "      <th></th>\n",
       "      <th>movieId</th>\n",
       "      <th>rating</th>\n",
       "    </tr>\n",
       "    <tr>\n",
       "      <th>userId</th>\n",
       "      <th></th>\n",
       "      <th></th>\n",
       "    </tr>\n",
       "  </thead>\n",
       "  <tbody>\n",
       "    <tr>\n",
       "      <th>1</th>\n",
       "      <td>2455</td>\n",
       "      <td>2.5</td>\n",
       "    </tr>\n",
       "    <tr>\n",
       "      <th>1</th>\n",
       "      <td>1287</td>\n",
       "      <td>2.0</td>\n",
       "    </tr>\n",
       "    <tr>\n",
       "      <th>1</th>\n",
       "      <td>2968</td>\n",
       "      <td>1.0</td>\n",
       "    </tr>\n",
       "    <tr>\n",
       "      <th>1</th>\n",
       "      <td>1339</td>\n",
       "      <td>3.5</td>\n",
       "    </tr>\n",
       "    <tr>\n",
       "      <th>1</th>\n",
       "      <td>1172</td>\n",
       "      <td>4.0</td>\n",
       "    </tr>\n",
       "    <tr>\n",
       "      <th>...</th>\n",
       "      <td>...</td>\n",
       "      <td>...</td>\n",
       "    </tr>\n",
       "    <tr>\n",
       "      <th>671</th>\n",
       "      <td>1266</td>\n",
       "      <td>4.0</td>\n",
       "    </tr>\n",
       "    <tr>\n",
       "      <th>671</th>\n",
       "      <td>1197</td>\n",
       "      <td>3.5</td>\n",
       "    </tr>\n",
       "    <tr>\n",
       "      <th>671</th>\n",
       "      <td>4022</td>\n",
       "      <td>3.5</td>\n",
       "    </tr>\n",
       "    <tr>\n",
       "      <th>671</th>\n",
       "      <td>1704</td>\n",
       "      <td>4.0</td>\n",
       "    </tr>\n",
       "    <tr>\n",
       "      <th>671</th>\n",
       "      <td>3996</td>\n",
       "      <td>3.5</td>\n",
       "    </tr>\n",
       "  </tbody>\n",
       "</table>\n",
       "<p>100004 rows × 2 columns</p>\n",
       "</div>"
      ],
      "text/plain": [
       "        movieId  rating\n",
       "userId                 \n",
       "1          2455     2.5\n",
       "1          1287     2.0\n",
       "1          2968     1.0\n",
       "1          1339     3.5\n",
       "1          1172     4.0\n",
       "...         ...     ...\n",
       "671        1266     4.0\n",
       "671        1197     3.5\n",
       "671        4022     3.5\n",
       "671        1704     4.0\n",
       "671        3996     3.5\n",
       "\n",
       "[100004 rows x 2 columns]"
      ]
     },
     "execution_count": 11,
     "metadata": {},
     "output_type": "execute_result"
    }
   ],
   "source": [
    "ratings"
   ]
  },
  {
   "cell_type": "code",
   "execution_count": 12,
   "metadata": {},
   "outputs": [],
   "source": [
    "## pivot df to get the matrix Yai\n",
    "ratings = ratings.pivot(index=ratings.index, columns='movieId')['rating']"
   ]
  },
  {
   "cell_type": "code",
   "execution_count": 13,
   "metadata": {},
   "outputs": [],
   "source": [
    "## replace NAN with movie mean \n",
    "#ratings = ratings.fillna(ratings.mean())\n",
    "## replace NAN with zero\n",
    "ratings = ratings.fillna(0)\n",
    "## replace NAN with user mean\n",
    "#matrix = ratings.fillna(ratings.mean())"
   ]
  },
  {
   "cell_type": "code",
   "execution_count": 14,
   "metadata": {},
   "outputs": [
    {
     "data": {
      "text/html": [
       "<div>\n",
       "<style scoped>\n",
       "    .dataframe tbody tr th:only-of-type {\n",
       "        vertical-align: middle;\n",
       "    }\n",
       "\n",
       "    .dataframe tbody tr th {\n",
       "        vertical-align: top;\n",
       "    }\n",
       "\n",
       "    .dataframe thead th {\n",
       "        text-align: right;\n",
       "    }\n",
       "</style>\n",
       "<table border=\"1\" class=\"dataframe\">\n",
       "  <thead>\n",
       "    <tr style=\"text-align: right;\">\n",
       "      <th>movieId</th>\n",
       "      <th>1</th>\n",
       "      <th>2</th>\n",
       "      <th>3</th>\n",
       "      <th>4</th>\n",
       "      <th>5</th>\n",
       "      <th>...</th>\n",
       "      <th>161944</th>\n",
       "      <th>162376</th>\n",
       "      <th>162542</th>\n",
       "      <th>162672</th>\n",
       "      <th>163949</th>\n",
       "    </tr>\n",
       "    <tr>\n",
       "      <th>userId</th>\n",
       "      <th></th>\n",
       "      <th></th>\n",
       "      <th></th>\n",
       "      <th></th>\n",
       "      <th></th>\n",
       "      <th></th>\n",
       "      <th></th>\n",
       "      <th></th>\n",
       "      <th></th>\n",
       "      <th></th>\n",
       "      <th></th>\n",
       "    </tr>\n",
       "  </thead>\n",
       "  <tbody>\n",
       "    <tr>\n",
       "      <th>1</th>\n",
       "      <td>3.87247</td>\n",
       "      <td>3.401869</td>\n",
       "      <td>3.161017</td>\n",
       "      <td>2.384615</td>\n",
       "      <td>3.267857</td>\n",
       "      <td>...</td>\n",
       "      <td>5.0</td>\n",
       "      <td>4.5</td>\n",
       "      <td>5.0</td>\n",
       "      <td>3.0</td>\n",
       "      <td>5.0</td>\n",
       "    </tr>\n",
       "    <tr>\n",
       "      <th>2</th>\n",
       "      <td>3.87247</td>\n",
       "      <td>3.401869</td>\n",
       "      <td>3.161017</td>\n",
       "      <td>2.384615</td>\n",
       "      <td>3.267857</td>\n",
       "      <td>...</td>\n",
       "      <td>5.0</td>\n",
       "      <td>4.5</td>\n",
       "      <td>5.0</td>\n",
       "      <td>3.0</td>\n",
       "      <td>5.0</td>\n",
       "    </tr>\n",
       "    <tr>\n",
       "      <th>3</th>\n",
       "      <td>3.87247</td>\n",
       "      <td>3.401869</td>\n",
       "      <td>3.161017</td>\n",
       "      <td>2.384615</td>\n",
       "      <td>3.267857</td>\n",
       "      <td>...</td>\n",
       "      <td>5.0</td>\n",
       "      <td>4.5</td>\n",
       "      <td>5.0</td>\n",
       "      <td>3.0</td>\n",
       "      <td>5.0</td>\n",
       "    </tr>\n",
       "    <tr>\n",
       "      <th>4</th>\n",
       "      <td>3.87247</td>\n",
       "      <td>3.401869</td>\n",
       "      <td>3.161017</td>\n",
       "      <td>2.384615</td>\n",
       "      <td>3.267857</td>\n",
       "      <td>...</td>\n",
       "      <td>5.0</td>\n",
       "      <td>4.5</td>\n",
       "      <td>5.0</td>\n",
       "      <td>3.0</td>\n",
       "      <td>5.0</td>\n",
       "    </tr>\n",
       "    <tr>\n",
       "      <th>5</th>\n",
       "      <td>3.87247</td>\n",
       "      <td>3.401869</td>\n",
       "      <td>4.000000</td>\n",
       "      <td>2.384615</td>\n",
       "      <td>3.267857</td>\n",
       "      <td>...</td>\n",
       "      <td>5.0</td>\n",
       "      <td>4.5</td>\n",
       "      <td>5.0</td>\n",
       "      <td>3.0</td>\n",
       "      <td>5.0</td>\n",
       "    </tr>\n",
       "  </tbody>\n",
       "</table>\n",
       "<p>5 rows × 9066 columns</p>\n",
       "</div>"
      ],
      "text/plain": [
       "movieId   1         2         3         4         5       ...  161944  162376  \\\n",
       "userId                                                    ...                   \n",
       "1        3.87247  3.401869  3.161017  2.384615  3.267857  ...     5.0     4.5   \n",
       "2        3.87247  3.401869  3.161017  2.384615  3.267857  ...     5.0     4.5   \n",
       "3        3.87247  3.401869  3.161017  2.384615  3.267857  ...     5.0     4.5   \n",
       "4        3.87247  3.401869  3.161017  2.384615  3.267857  ...     5.0     4.5   \n",
       "5        3.87247  3.401869  4.000000  2.384615  3.267857  ...     5.0     4.5   \n",
       "\n",
       "movieId  162542  162672  163949  \n",
       "userId                           \n",
       "1           5.0     3.0     5.0  \n",
       "2           5.0     3.0     5.0  \n",
       "3           5.0     3.0     5.0  \n",
       "4           5.0     3.0     5.0  \n",
       "5           5.0     3.0     5.0  \n",
       "\n",
       "[5 rows x 9066 columns]"
      ]
     },
     "execution_count": 14,
     "metadata": {},
     "output_type": "execute_result"
    }
   ],
   "source": [
    "matrix.head(5)"
   ]
  },
  {
   "cell_type": "markdown",
   "metadata": {},
   "source": [
    "### Netfilx movies DB EDA"
   ]
  },
  {
   "cell_type": "code",
   "execution_count": 15,
   "metadata": {},
   "outputs": [],
   "source": [
    "movies_data = pd.read_csv(\"data/movies_metadata.csv\", usecols=['genres','id','title','original_language','release_date'])"
   ]
  },
  {
   "cell_type": "code",
   "execution_count": 16,
   "metadata": {},
   "outputs": [],
   "source": [
    "## Remove id and name from string\n",
    "movies_data['genres'].replace({'id': ''}, inplace=True, regex=True)\n",
    "movies_data['genres'].replace({'name': ''}, inplace=True, regex=True)\n",
    "movies_data['genres'].replace({'\\d+': ''}, inplace=True, regex=True)\n",
    "## Remove special characters\n",
    "movies_data['genres'].replace({'\\W+': ' '}, inplace=True, regex=True)\n",
    "## Remove leading and trailing blanks\n",
    "movies_data['genres'] = movies_data['genres'].str.strip()\n",
    "## Formatiing the string\n",
    "movies_data['genres'].replace({' ': ', '}, inplace=True, regex=True)\n",
    "## split in to a list\n",
    "movies_data['genres'] = [x.strip('()').split(',') for x in movies_data['genres']]"
   ]
  },
  {
   "cell_type": "code",
   "execution_count": 17,
   "metadata": {},
   "outputs": [],
   "source": [
    "## Cleaning id column\n",
    "movies_data.drop(movies_data[movies_data['id'].str.contains(\"-\")].index, inplace = True)\n",
    "movies_data['id'] = movies_data['id'].astype('int64')\n",
    "## Rename id column to movieId\n",
    "movies_data.rename(columns={'id': 'movieId'}, inplace=True)"
   ]
  },
  {
   "cell_type": "code",
   "execution_count": 18,
   "metadata": {},
   "outputs": [
    {
     "data": {
      "text/html": [
       "<div>\n",
       "<style scoped>\n",
       "    .dataframe tbody tr th:only-of-type {\n",
       "        vertical-align: middle;\n",
       "    }\n",
       "\n",
       "    .dataframe tbody tr th {\n",
       "        vertical-align: top;\n",
       "    }\n",
       "\n",
       "    .dataframe thead th {\n",
       "        text-align: right;\n",
       "    }\n",
       "</style>\n",
       "<table border=\"1\" class=\"dataframe\">\n",
       "  <thead>\n",
       "    <tr style=\"text-align: right;\">\n",
       "      <th></th>\n",
       "      <th>genres</th>\n",
       "      <th>movieId</th>\n",
       "      <th>original_language</th>\n",
       "      <th>release_date</th>\n",
       "      <th>title</th>\n",
       "    </tr>\n",
       "  </thead>\n",
       "  <tbody>\n",
       "    <tr>\n",
       "      <th>0</th>\n",
       "      <td>[Animation,  Comedy,  Family]</td>\n",
       "      <td>862</td>\n",
       "      <td>en</td>\n",
       "      <td>1995-10-30</td>\n",
       "      <td>Toy Story</td>\n",
       "    </tr>\n",
       "    <tr>\n",
       "      <th>1</th>\n",
       "      <td>[Adventure,  Fantasy,  Family]</td>\n",
       "      <td>8844</td>\n",
       "      <td>en</td>\n",
       "      <td>1995-12-15</td>\n",
       "      <td>Jumanji</td>\n",
       "    </tr>\n",
       "    <tr>\n",
       "      <th>2</th>\n",
       "      <td>[Romance,  Comedy]</td>\n",
       "      <td>15602</td>\n",
       "      <td>en</td>\n",
       "      <td>1995-12-22</td>\n",
       "      <td>Grumpier Old Men</td>\n",
       "    </tr>\n",
       "    <tr>\n",
       "      <th>3</th>\n",
       "      <td>[Comedy,  Drama,  Romance]</td>\n",
       "      <td>31357</td>\n",
       "      <td>en</td>\n",
       "      <td>1995-12-22</td>\n",
       "      <td>Waiting to Exhale</td>\n",
       "    </tr>\n",
       "    <tr>\n",
       "      <th>4</th>\n",
       "      <td>[Comedy]</td>\n",
       "      <td>11862</td>\n",
       "      <td>en</td>\n",
       "      <td>1995-02-10</td>\n",
       "      <td>Father of the Bride Part II</td>\n",
       "    </tr>\n",
       "  </tbody>\n",
       "</table>\n",
       "</div>"
      ],
      "text/plain": [
       "                           genres  movieId original_language release_date  \\\n",
       "0   [Animation,  Comedy,  Family]      862                en   1995-10-30   \n",
       "1  [Adventure,  Fantasy,  Family]     8844                en   1995-12-15   \n",
       "2              [Romance,  Comedy]    15602                en   1995-12-22   \n",
       "3      [Comedy,  Drama,  Romance]    31357                en   1995-12-22   \n",
       "4                        [Comedy]    11862                en   1995-02-10   \n",
       "\n",
       "                         title  \n",
       "0                    Toy Story  \n",
       "1                      Jumanji  \n",
       "2             Grumpier Old Men  \n",
       "3            Waiting to Exhale  \n",
       "4  Father of the Bride Part II  "
      ]
     },
     "execution_count": 18,
     "metadata": {},
     "output_type": "execute_result"
    }
   ],
   "source": [
    "movies_data.head()"
   ]
  },
  {
   "cell_type": "code",
   "execution_count": 19,
   "metadata": {},
   "outputs": [
    {
     "data": {
      "image/png": "[encoded data removed]",
      "text/plain": [
       "<Figure size 792x360 with 1 Axes>"
      ]
     },
     "metadata": {
      "needs_background": "light"
     },
     "output_type": "display_data"
    }
   ],
   "source": [
    "## Plot movies by original language\n",
    "plt.figure(figsize = (11, 5))\n",
    "sns.countplot(data=movies_data,\n",
    "              order=movies_data.original_language.value_counts().iloc[:5].index,\n",
    "              x='original_language')\n",
    "plt.tick_params(labelsize = 15)\n",
    "plt.title(\"Count Language\", fontsize = 20)\n",
    "plt.xlabel(\"Language\", fontsize = 20)\n",
    "plt.ylabel(\"Number of Movies\", fontsize = 20)\n",
    "plt.show()"
   ]
  },
  {
   "cell_type": "markdown",
   "metadata": {},
   "source": [
    "## Movies Time series"
   ]
  },
  {
   "cell_type": "code",
   "execution_count": 20,
   "metadata": {},
   "outputs": [],
   "source": [
    "## Counter for movies date\n",
    "movies_data['count'] = 1"
   ]
  },
  {
   "cell_type": "code",
   "execution_count": 21,
   "metadata": {},
   "outputs": [],
   "source": [
    "## Transform column to date type\n",
    "movies_data['release_date'] =  pd.to_datetime(movies_data['release_date'], format='%Y-%m-%d')"
   ]
  },
  {
   "cell_type": "code",
   "execution_count": 22,
   "metadata": {},
   "outputs": [
    {
     "data": {
      "text/plain": [
       "(Timestamp('1874-12-09 00:00:00'), Timestamp('2020-12-16 00:00:00'))"
      ]
     },
     "execution_count": 22,
     "metadata": {},
     "output_type": "execute_result"
    }
   ],
   "source": [
    "movies_data['release_date'].min(), movies_data['release_date'].max()"
   ]
  },
  {
   "cell_type": "code",
   "execution_count": 23,
   "metadata": {},
   "outputs": [],
   "source": [
    "## Group by date and count movies\n",
    "daily_frame = movies_data.groupby('release_date')['count'].sum().reset_index()\n",
    "daily_frame = daily_frame.set_index('release_date')\n",
    "daily_frame.index = pd.to_datetime(daily_frame.index)"
   ]
  },
  {
   "cell_type": "code",
   "execution_count": 24,
   "metadata": {},
   "outputs": [],
   "source": [
    "## Sum the counts of movies by year\n",
    "y = daily_frame['count'].resample('MS').sum()"
   ]
  },
  {
   "cell_type": "code",
   "execution_count": 25,
   "metadata": {},
   "outputs": [
    {
     "data": {
      "image/png": "[encoded data removed]",
      "text/plain": [
       "<Figure size 1440x432 with 1 Axes>"
      ]
     },
     "metadata": {
      "needs_background": "light"
     },
     "output_type": "display_data"
    }
   ],
   "source": [
    "y.plot(figsize=(20, 6))\n",
    "plt.title(\"Movies release dates\", fontsize = 20)\n",
    "plt.show()"
   ]
  },
  {
   "cell_type": "markdown",
   "metadata": {},
   "source": [
    "## Test and train on a Dummy dataset"
   ]
  },
  {
   "cell_type": "code",
   "execution_count": 26,
   "metadata": {},
   "outputs": [],
   "source": [
    "## Dummy dataset\n",
    "a = pd.DataFrame([\n",
    "\n",
    "     [1,5,3,0,1],\n",
    "\n",
    "     [2,4,0,0,1],\n",
    "\n",
    "     [3,1,1,0,5],\n",
    "\n",
    "     [4,1,0,0,4],\n",
    "\n",
    "     [5,0,1,5,4],\n",
    "    \n",
    "     [6,2,1,3,0],\n",
    "\n",
    "    ]).set_index(0)\n",
    "\n",
    "a.index.names = ['userId']\n",
    "a.columns.names = ['movieId']"
   ]
  },
  {
   "cell_type": "markdown",
   "metadata": {},
   "source": [
    "### Train with sklear KFold library"
   ]
  },
  {
   "cell_type": "code",
   "execution_count": 27,
   "metadata": {},
   "outputs": [],
   "source": [
    "kfs = KFold(n_splits=3)"
   ]
  },
  {
   "cell_type": "code",
   "execution_count": 28,
   "metadata": {},
   "outputs": [
    {
     "name": "stdout",
     "output_type": "stream",
     "text": [
      "TRAIN: [2 3 4 5]\n",
      "K: 10\t | Learning_rate: 0.001\t | MSE:15.071774580026862\n",
      "K: 10\t | Learning_rate: 0.01\t | MSE:2.1935173516309603\n",
      "K: 10\t | Learning_rate: 0.1\t | MSE:1.048841605777777\n",
      "K: 10\t | Learning_rate: 1\t | MSE:1.0004228488678764\n",
      "K: 20\t | Learning_rate: 0.001\t | MSE:9.742491280681216\n",
      "K: 20\t | Learning_rate: 0.01\t | MSE:3.3128476160047637\n",
      "K: 20\t | Learning_rate: 0.1\t | MSE:1.1135070267130305\n",
      "K: 20\t | Learning_rate: 1\t | MSE:1.0001488119597617\n",
      "K: 30\t | Learning_rate: 0.001\t | MSE:50.043668589204515\n",
      "K: 30\t | Learning_rate: 0.01\t | MSE:5.8665436574547485\n",
      "K: 30\t | Learning_rate: 0.1\t | MSE:1.3855595878742568\n",
      "K: 30\t | Learning_rate: 1\t | MSE:1.0001700971341196\n",
      "K: 40\t | Learning_rate: 0.001\t | MSE:98.72441027437411\n",
      "K: 40\t | Learning_rate: 0.01\t | MSE:12.077928617612175\n",
      "K: 40\t | Learning_rate: 0.1\t | MSE:1.5188445211818773\n",
      "K: 40\t | Learning_rate: 1\t | MSE:1.0000225465023582\n",
      "K: 50\t | Learning_rate: 0.001\t | MSE:139.654434326975\n",
      "K: 50\t | Learning_rate: 0.01\t | MSE:21.651910763520878\n",
      "K: 50\t | Learning_rate: 0.1\t | MSE:1.5148766488969079\n",
      "K: 50\t | Learning_rate: 1\t | MSE:1.0000074453597512\n",
      "TRAIN: [0 1 4 5]\n",
      "K: 10\t | Learning_rate: 0.001\t | MSE:14.870787371740073\n",
      "K: 10\t | Learning_rate: 0.01\t | MSE:6.535176372521391\n",
      "K: 10\t | Learning_rate: 0.1\t | MSE:1.4225116593557396\n",
      "K: 10\t | Learning_rate: 1\t | MSE:1.002744005738502\n",
      "K: 20\t | Learning_rate: 0.001\t | MSE:36.65689735415427\n",
      "K: 20\t | Learning_rate: 0.01\t | MSE:7.303812802524256\n",
      "K: 20\t | Learning_rate: 0.1\t | MSE:1.5341100700396408\n",
      "K: 20\t | Learning_rate: 1\t | MSE:1.0023986690198596\n",
      "K: 30\t | Learning_rate: 0.001\t | MSE:79.51369386535512\n",
      "K: 30\t | Learning_rate: 0.01\t | MSE:13.767490786763076\n",
      "K: 30\t | Learning_rate: 0.1\t | MSE:1.8016508692459974\n",
      "K: 30\t | Learning_rate: 1\t | MSE:1.0001117427085005\n",
      "K: 40\t | Learning_rate: 0.001\t | MSE:135.45087509538692\n",
      "K: 40\t | Learning_rate: 0.01\t | MSE:21.547376102514093\n",
      "K: 40\t | Learning_rate: 0.1\t | MSE:1.7477938921897178\n",
      "K: 40\t | Learning_rate: 1\t | MSE:1.0000405292179253\n",
      "K: 50\t | Learning_rate: 0.001\t | MSE:168.69123908925496\n",
      "K: 50\t | Learning_rate: 0.01\t | MSE:23.345513920844983\n",
      "K: 50\t | Learning_rate: 0.1\t | MSE:2.0328340090555854\n",
      "K: 50\t | Learning_rate: 1\t | MSE:1.0000086361455838\n",
      "TRAIN: [0 1 2 3]\n",
      "K: 10\t | Learning_rate: 0.001\t | MSE:7.428361431007364\n",
      "K: 10\t | Learning_rate: 0.01\t | MSE:3.393466604739481\n",
      "K: 10\t | Learning_rate: 0.1\t | MSE:1.2151837710414959\n",
      "K: 10\t | Learning_rate: 1\t | MSE:1.0025900092117295\n",
      "K: 20\t | Learning_rate: 0.001\t | MSE:8.784525775423054\n",
      "K: 20\t | Learning_rate: 0.01\t | MSE:8.802036390896276\n",
      "K: 20\t | Learning_rate: 0.1\t | MSE:1.6128208247197922\n",
      "K: 20\t | Learning_rate: 1\t | MSE:1.0035596647368756\n",
      "K: 30\t | Learning_rate: 0.001\t | MSE:103.92671389959938\n",
      "K: 30\t | Learning_rate: 0.01\t | MSE:17.316820806282557\n",
      "K: 30\t | Learning_rate: 0.1\t | MSE:1.7473270507508223\n",
      "K: 30\t | Learning_rate: 1\t | MSE:1.0000882380949243\n",
      "K: 40\t | Learning_rate: 0.001\t | MSE:163.36919649025094\n",
      "K: 40\t | Learning_rate: 0.01\t | MSE:21.294120230553805\n",
      "K: 40\t | Learning_rate: 0.1\t | MSE:1.9041657267606797\n",
      "K: 40\t | Learning_rate: 1\t | MSE:1.0000140958726023\n",
      "K: 50\t | Learning_rate: 0.001\t | MSE:221.1716294342449\n",
      "K: 50\t | Learning_rate: 0.01\t | MSE:29.042598247196402\n",
      "K: 50\t | Learning_rate: 0.1\t | MSE:2.009476844200917\n",
      "K: 50\t | Learning_rate: 1\t | MSE:1.0000014702079818\n"
     ]
    }
   ],
   "source": [
    "## Train with different learning rates and K numbers\n",
    "m_s=[]\n",
    "for train, _ in kfs.split(a,None):\n",
    "    df = pd.DataFrame(train)\n",
    "    print(f\"TRAIN: {train}\")\n",
    "    m_s.append(find_best(df,max_Ks=50, iterations=100)) "
   ]
  },
  {
   "cell_type": "code",
   "execution_count": 29,
   "metadata": {},
   "outputs": [
    {
     "data": {
      "text/plain": [
       "[K                2.000000\n",
       " Learning_rate    1.000000\n",
       " MSE              0.991765\n",
       " Name: 7, dtype: float64]"
      ]
     },
     "execution_count": 29,
     "metadata": {},
     "output_type": "execute_result"
    }
   ],
   "source": [
    "## Finding best K and learning rate\n",
    "best_folded = []\n",
    "b = float(10e5)\n",
    "for df in m_s:\n",
    "    mini = df.loc[df.MSE.idxmin()]\n",
    "    if (mini[2] < b):\n",
    "        b = mini[2]\n",
    "        best_folded.append(mini)\n",
    "best_folded"
   ]
  },
  {
   "cell_type": "markdown",
   "metadata": {},
   "source": [
    "### Training with the full dummy dataset"
   ]
  },
  {
   "cell_type": "code",
   "execution_count": 30,
   "metadata": {},
   "outputs": [
    {
     "name": "stdout",
     "output_type": "stream",
     "text": [
      "K: 10\t | Learning_rate: 0.001\t | MSE:78.1214260111823\n",
      "K: 10\t | Learning_rate: 0.01\t | MSE:86.28113862400143\n",
      "K: 10\t | Learning_rate: 0.1\t | MSE:49.73856326566307\n",
      "K: 10\t | Learning_rate: 1\t | MSE:13.962388591051903\n",
      "K: 20\t | Learning_rate: 0.001\t | MSE:249.84306045495265\n",
      "K: 20\t | Learning_rate: 0.01\t | MSE:117.8982038188301\n",
      "K: 20\t | Learning_rate: 0.1\t | MSE:41.84450340611182\n",
      "K: 20\t | Learning_rate: 1\t | MSE:8.703282239690118\n",
      "K: 30\t | Learning_rate: 0.001\t | MSE:521.5249383280899\n",
      "K: 30\t | Learning_rate: 0.01\t | MSE:149.50053809355327\n",
      "K: 30\t | Learning_rate: 0.1\t | MSE:39.73635794264919\n",
      "K: 30\t | Learning_rate: 1\t | MSE:8.443336123102648\n",
      "K: 40\t | Learning_rate: 0.001\t | MSE:726.442452115472\n",
      "K: 40\t | Learning_rate: 0.01\t | MSE:200.15325859692388\n",
      "K: 40\t | Learning_rate: 0.1\t | MSE:34.70587605486276\n",
      "K: 40\t | Learning_rate: 1\t | MSE:6.830143483537256\n",
      "K: 50\t | Learning_rate: 0.001\t | MSE:1427.1901196048689\n",
      "K: 50\t | Learning_rate: 0.01\t | MSE:247.9578191086278\n",
      "K: 50\t | Learning_rate: 0.1\t | MSE:41.647850520195874\n",
      "K: 50\t | Learning_rate: 1\t | MSE:nan\n"
     ]
    }
   ],
   "source": [
    "## Train with different learning rates and K numbers\n",
    "m = find_best(a,max_Ks=50,iterations=100)"
   ]
  },
  {
   "cell_type": "code",
   "execution_count": 31,
   "metadata": {},
   "outputs": [
    {
     "data": {
      "image/png": "[encoded data removed]",
      "text/plain": [
       "<Figure size 1080x576 with 4 Axes>"
      ]
     },
     "metadata": {
      "needs_background": "light"
     },
     "output_type": "display_data"
    }
   ],
   "source": [
    "## Get minimum by Learning rate\n",
    "\n",
    "## plot best k with bets learning rate\n",
    "fig, axes = plt.subplots(2, 2, figsize=(15, 8))\n",
    "plt.subplots_adjust(wspace=0.5, hspace=0.5)\n",
    "\n",
    "m[m['Learning_rate']==0.001].plot(x=\"K\", y=\"MSE\", ax=axes[0,0], legend=False)\n",
    "axes[0, 0].set_title('Learning rate = 0.001')\n",
    "m[m['Learning_rate']==0.01].plot(x=\"K\", y=\"MSE\", ax=axes[0,1], legend=False)\n",
    "axes[0, 1].set_title('Learning rate = 0.01')\n",
    "m[m['Learning_rate']==0.1].plot(x=\"K\", y=\"MSE\", ax=axes[1,0], legend=False)\n",
    "axes[1, 0].set_title('Learning rate = 0.1')\n",
    "m[m['Learning_rate']==1].plot(x=\"K\", y=\"MSE\", ax=axes[1,1], legend=False,)\n",
    "axes[1, 1].set_title('Learning rate =1')\n",
    "plt.show()"
   ]
  },
  {
   "cell_type": "code",
   "execution_count": 32,
   "metadata": {},
   "outputs": [
    {
     "data": {
      "text/plain": [
       "K                47.000000\n",
       "Learning_rate     1.000000\n",
       "MSE               6.743231\n",
       "Name: 187, dtype: float64"
      ]
     },
     "execution_count": 32,
     "metadata": {},
     "output_type": "execute_result"
    }
   ],
   "source": [
    "## Finding best K and learning rate\n",
    "best_ = m.loc[m.MSE.idxmin()]\n",
    "best_"
   ]
  },
  {
   "cell_type": "markdown",
   "metadata": {},
   "source": [
    "### Fit the model with best parameters"
   ]
  },
  {
   "cell_type": "code",
   "execution_count": 50,
   "metadata": {},
   "outputs": [],
   "source": [
    "## Best matrix with best k\n",
    "K = int(best_[0])\n",
    "r = matrix_factorization(a,K)\n",
    "## Train the model, default iterations is 2\n",
    "learning_rate = float(best_[1])\n",
    "r.fit(learning_rate,iterations=1000)"
   ]
  },
  {
   "cell_type": "code",
   "execution_count": 51,
   "metadata": {},
   "outputs": [
    {
     "data": {
      "text/plain": [
       "5.99999999999997"
      ]
     },
     "execution_count": 51,
     "metadata": {},
     "output_type": "execute_result"
    }
   ],
   "source": [
    "## Increasing iterations improves over previous best MSE but not significantly\n",
    "min(r.mse)"
   ]
  },
  {
   "cell_type": "code",
   "execution_count": 52,
   "metadata": {},
   "outputs": [
    {
     "data": {
      "image/png": "[encoded data removed]",
      "text/plain": [
       "<Figure size 792x360 with 1 Axes>"
      ]
     },
     "metadata": {
      "needs_background": "light"
     },
     "output_type": "display_data"
    }
   ],
   "source": [
    "## Plot MSE over iterations\n",
    "plt.figure(figsize=(11, 5))\n",
    "plt.plot(r.mse)\n",
    "plt.xlabel('Iterations')\n",
    "plt.ylabel('MSE')\n",
    "plt.xlim(0,100)\n",
    "plt.title('MSE over iterations')\n",
    "plt.show()"
   ]
  },
  {
   "cell_type": "code",
   "execution_count": 36,
   "metadata": {},
   "outputs": [
    {
     "data": {
      "text/plain": [
       "array([[nan, nan, nan, nan],\n",
       "       [nan, nan, nan, nan],\n",
       "       [nan, nan, nan, nan],\n",
       "       [nan, nan, nan, nan],\n",
       "       [nan, nan, nan, nan],\n",
       "       [nan, nan, nan, nan]])"
      ]
     },
     "execution_count": 36,
     "metadata": {},
     "output_type": "execute_result"
    }
   ],
   "source": [
    "## Get the Predicted matrix\n",
    "r.matrix"
   ]
  },
  {
   "cell_type": "code",
   "execution_count": 37,
   "metadata": {},
   "outputs": [
    {
     "data": {
      "text/plain": [
       "movieId\n",
       "2   NaN\n",
       "Name: 1, dtype: float64"
      ]
     },
     "execution_count": 37,
     "metadata": {},
     "output_type": "execute_result"
    }
   ],
   "source": [
    "## User ratings\n",
    "user = 1\n",
    "movieId = 2\n",
    "ratings.loc[(user, [movieId])]"
   ]
  },
  {
   "cell_type": "code",
   "execution_count": 38,
   "metadata": {},
   "outputs": [
    {
     "data": {
      "text/html": [
       "<div>\n",
       "<style scoped>\n",
       "    .dataframe tbody tr th:only-of-type {\n",
       "        vertical-align: middle;\n",
       "    }\n",
       "\n",
       "    .dataframe tbody tr th {\n",
       "        vertical-align: top;\n",
       "    }\n",
       "\n",
       "    .dataframe thead th {\n",
       "        text-align: right;\n",
       "    }\n",
       "</style>\n",
       "<table border=\"1\" class=\"dataframe\">\n",
       "  <thead>\n",
       "    <tr style=\"text-align: right;\">\n",
       "      <th></th>\n",
       "      <th>recommend</th>\n",
       "      <th>genres</th>\n",
       "      <th>movieId</th>\n",
       "      <th>original_language</th>\n",
       "      <th>release_date</th>\n",
       "      <th>title</th>\n",
       "      <th>count</th>\n",
       "    </tr>\n",
       "  </thead>\n",
       "  <tbody>\n",
       "  </tbody>\n",
       "</table>\n",
       "</div>"
      ],
      "text/plain": [
       "Empty DataFrame\n",
       "Columns: [recommend, genres, movieId, original_language, release_date, title, count]\n",
       "Index: []"
      ]
     },
     "execution_count": 38,
     "metadata": {},
     "output_type": "execute_result"
    }
   ],
   "source": [
    "## Recommended movies by top rating\n",
    "r.top_recommends(user, movies_data)"
   ]
  },
  {
   "cell_type": "markdown",
   "metadata": {},
   "source": [
    "# Netflix movies small DB"
   ]
  },
  {
   "cell_type": "code",
   "execution_count": 39,
   "metadata": {},
   "outputs": [],
   "source": [
    "## Split dataset in train and test\n",
    "train, test = train_test_split(ratings, test_size = 0.2)"
   ]
  },
  {
   "cell_type": "markdown",
   "metadata": {},
   "source": [
    "### Train with sklear KFold library"
   ]
  },
  {
   "cell_type": "code",
   "execution_count": 40,
   "metadata": {},
   "outputs": [],
   "source": [
    "## fold train dataset\n",
    "kf = KFold(n_splits=3)"
   ]
  },
  {
   "cell_type": "code",
   "execution_count": 41,
   "metadata": {},
   "outputs": [
    {
     "name": "stdout",
     "output_type": "stream",
     "text": [
      "TRAIN: 357 users\n",
      "K: 10\t | Learning_rate: 0.001\t | MSE:47456545.84381609\n",
      "K: 10\t | Learning_rate: 0.01\t | MSE:14780450.528670654\n",
      "K: 10\t | Learning_rate: 0.1\t | MSE:nan\n",
      "K: 10\t | Learning_rate: 1\t | MSE:nan\n",
      "TRAIN: 357 users\n",
      "K: 10\t | Learning_rate: 0.001\t | MSE:36747419.45577236\n",
      "K: 10\t | Learning_rate: 0.01\t | MSE:12140348.947856415\n",
      "K: 10\t | Learning_rate: 0.1\t | MSE:155952.54175402687\n",
      "K: 10\t | Learning_rate: 1\t | MSE:nan\n",
      "TRAIN: 358 users\n",
      "K: 10\t | Learning_rate: 0.001\t | MSE:14594952.097716218\n",
      "K: 10\t | Learning_rate: 0.01\t | MSE:5958415.85919186\n",
      "K: 10\t | Learning_rate: 0.1\t | MSE:323751.3246159377\n",
      "K: 10\t | Learning_rate: 1\t | MSE:nan\n"
     ]
    }
   ],
   "source": [
    "## Find best with folded training data\n",
    "mse_s=[]\n",
    "for train, _ in kf.split(train, None):\n",
    "    df = pd.DataFrame(train)\n",
    "    print(f\"TRAIN: {len(train)} users\")\n",
    "    mse_s.append(find_best(df,max_Ks=10, iterations=5))"
   ]
  },
  {
   "cell_type": "code",
   "execution_count": 42,
   "metadata": {},
   "outputs": [
    {
     "data": {
      "text/plain": [
       "[K                    10.000000\n",
       " Learning_rate         0.100000\n",
       " MSE              155952.541754\n",
       " Name: 38, dtype: float64,\n",
       " K                    9.000000\n",
       " Learning_rate        0.100000\n",
       " MSE              74405.672036\n",
       " Name: 34, dtype: float64]"
      ]
     },
     "execution_count": 42,
     "metadata": {},
     "output_type": "execute_result"
    }
   ],
   "source": [
    "best = []\n",
    "b = float(10e5)\n",
    "for df in mse_s:\n",
    "    mini = df.loc[df.MSE.idxmin()]\n",
    "    if (mini[2] < b):\n",
    "        b = mini[2]\n",
    "        best.append(mini)      \n",
    "best"
   ]
  },
  {
   "cell_type": "code",
   "execution_count": 43,
   "metadata": {},
   "outputs": [
    {
     "name": "stdout",
     "output_type": "stream",
     "text": [
      "K: 1\t | Learning_rate: 0.1\t | MSE:31313519.25422145\n",
      "K: 2\t | Learning_rate: 0.1\t | MSE:19170820.078681912\n",
      "K: 3\t | Learning_rate: 0.1\t | MSE:13075067.318885108\n",
      "K: 4\t | Learning_rate: 0.1\t | MSE:9325363.178866342\n",
      "K: 5\t | Learning_rate: 0.1\t | MSE:7023213.091221308\n",
      "K: 6\t | Learning_rate: 0.1\t | MSE:5293667.981744889\n",
      "K: 7\t | Learning_rate: 0.1\t | MSE:4298250.344626302\n",
      "K: 8\t | Learning_rate: 0.1\t | MSE:3610247.114491663\n",
      "K: 9\t | Learning_rate: 0.1\t | MSE:3119973.1430689013\n"
     ]
    }
   ],
   "source": [
    "## Find best with full training data and folded best\n",
    "mse = find_best(matrix,max_Ks=9,learning_rate=[0.1],iterations=10)"
   ]
  },
  {
   "cell_type": "code",
   "execution_count": 44,
   "metadata": {},
   "outputs": [
    {
     "data": {
      "text/plain": [
       "<Figure size 792x360 with 0 Axes>"
      ]
     },
     "metadata": {},
     "output_type": "display_data"
    },
    {
     "data": {
      "image/png": "[encoded data removed]",
      "text/plain": [
       "<Figure size 432x288 with 1 Axes>"
      ]
     },
     "metadata": {
      "needs_background": "light"
     },
     "output_type": "display_data"
    }
   ],
   "source": [
    "## Get minimum by Learning rate\n",
    "\n",
    "## plot best k with bets learning rate\n",
    "plt.figure(figsize=(11, 5))\n",
    "mse.plot(x=\"K\", y=\"MSE\", legend=False)\n",
    "plt.title('Learning rate = 0.1')\n",
    "plt.show()"
   ]
  },
  {
   "cell_type": "markdown",
   "metadata": {},
   "source": [
    "### Fit the model with best parameters"
   ]
  },
  {
   "cell_type": "code",
   "execution_count": 53,
   "metadata": {},
   "outputs": [
    {
     "ename": "KeyboardInterrupt",
     "evalue": "",
     "output_type": "error",
     "traceback": [
      "\u001b[1;31m---------------------------------------------------------------------------\u001b[0m",
      "\u001b[1;31mKeyboardInterrupt\u001b[0m                         Traceback (most recent call last)",
      "\u001b[1;32m<ipython-input-53-e9de68b91837>\u001b[0m in \u001b[0;36m<module>\u001b[1;34m\u001b[0m\n\u001b[0;32m      4\u001b[0m \u001b[1;31m## Train the model, default iterations is 2\u001b[0m\u001b[1;33m\u001b[0m\u001b[1;33m\u001b[0m\u001b[0m\n\u001b[0;32m      5\u001b[0m \u001b[0mlearning_rate\u001b[0m \u001b[1;33m=\u001b[0m \u001b[1;36m0.1\u001b[0m\u001b[1;33m\u001b[0m\u001b[0m\n\u001b[1;32m----> 6\u001b[1;33m \u001b[0mrecomm\u001b[0m\u001b[1;33m.\u001b[0m\u001b[0mfit\u001b[0m\u001b[1;33m(\u001b[0m\u001b[0mlearning_rate\u001b[0m\u001b[1;33m,\u001b[0m\u001b[0miterations\u001b[0m\u001b[1;33m=\u001b[0m\u001b[1;36m50\u001b[0m\u001b[1;33m)\u001b[0m\u001b[1;33m\u001b[0m\u001b[0m\n\u001b[0m",
      "\u001b[1;32m~\\Documents\\PERSONAL\\MAESTRIA\\MachineLearning\\recommender.py\u001b[0m in \u001b[0;36mfit\u001b[1;34m(self, learning_rate, iterations)\u001b[0m\n\u001b[0;32m     69\u001b[0m                 \u001b[1;32mfor\u001b[0m \u001b[0mi\u001b[0m \u001b[1;32min\u001b[0m \u001b[0mrange\u001b[0m\u001b[1;33m(\u001b[0m\u001b[0miterations\u001b[0m\u001b[1;33m)\u001b[0m\u001b[1;33m:\u001b[0m\u001b[1;33m\u001b[0m\u001b[0m\n\u001b[0;32m     70\u001b[0m                         \u001b[0mself\u001b[0m\u001b[1;33m.\u001b[0m\u001b[0mupdate_U\u001b[0m\u001b[1;33m(\u001b[0m\u001b[1;33m)\u001b[0m\u001b[1;33m\u001b[0m\u001b[0m\n\u001b[1;32m---> 71\u001b[1;33m                         \u001b[0mself\u001b[0m\u001b[1;33m.\u001b[0m\u001b[0mupdate_V\u001b[0m\u001b[1;33m(\u001b[0m\u001b[1;33m)\u001b[0m\u001b[1;33m\u001b[0m\u001b[0m\n\u001b[0m\u001b[0;32m     72\u001b[0m                         \u001b[0mself\u001b[0m\u001b[1;33m.\u001b[0m\u001b[0mmse\u001b[0m\u001b[1;33m.\u001b[0m\u001b[0mappend\u001b[0m\u001b[1;33m(\u001b[0m\u001b[0mself\u001b[0m\u001b[1;33m.\u001b[0m\u001b[0mMSE\u001b[0m\u001b[1;33m)\u001b[0m\u001b[1;33m\u001b[0m\u001b[0m\n\u001b[0;32m     73\u001b[0m \u001b[1;33m\u001b[0m\u001b[0m\n",
      "\u001b[1;32m~\\Documents\\PERSONAL\\MAESTRIA\\MachineLearning\\recommender.py\u001b[0m in \u001b[0;36mupdate_V\u001b[1;34m(self)\u001b[0m\n\u001b[0;32m     60\u001b[0m                 \u001b[1;32mfor\u001b[0m \u001b[0mi\u001b[0m \u001b[1;32min\u001b[0m \u001b[0mrange\u001b[0m\u001b[1;33m(\u001b[0m\u001b[0mself\u001b[0m\u001b[1;33m.\u001b[0m\u001b[0mK\u001b[0m\u001b[1;33m)\u001b[0m\u001b[1;33m:\u001b[0m\u001b[1;33m\u001b[0m\u001b[0m\n\u001b[0;32m     61\u001b[0m                         \u001b[1;32mfor\u001b[0m \u001b[0mj\u001b[0m \u001b[1;32min\u001b[0m \u001b[0mrange\u001b[0m\u001b[1;33m(\u001b[0m\u001b[0mself\u001b[0m\u001b[1;33m.\u001b[0m\u001b[0mmovies\u001b[0m\u001b[1;33m)\u001b[0m\u001b[1;33m:\u001b[0m\u001b[1;33m\u001b[0m\u001b[0m\n\u001b[1;32m---> 62\u001b[1;33m                                 \u001b[0mself\u001b[0m\u001b[1;33m.\u001b[0m\u001b[0mV\u001b[0m\u001b[1;33m[\u001b[0m\u001b[0mi\u001b[0m\u001b[1;33m,\u001b[0m\u001b[0mj\u001b[0m\u001b[1;33m]\u001b[0m \u001b[1;33m+=\u001b[0m \u001b[0mself\u001b[0m\u001b[1;33m.\u001b[0m\u001b[0mlearning_rate\u001b[0m \u001b[1;33m*\u001b[0m \u001b[0mself\u001b[0m\u001b[1;33m.\u001b[0m\u001b[0mV_gradient\u001b[0m\u001b[1;33m(\u001b[0m\u001b[0mj\u001b[0m\u001b[1;33m,\u001b[0m\u001b[0mi\u001b[0m\u001b[1;33m)\u001b[0m\u001b[1;33m\u001b[0m\u001b[0m\n\u001b[0m\u001b[0;32m     63\u001b[0m \u001b[1;33m\u001b[0m\u001b[0m\n\u001b[0;32m     64\u001b[0m \u001b[1;33m\u001b[0m\u001b[0m\n",
      "\u001b[1;32m~\\Documents\\PERSONAL\\MAESTRIA\\MachineLearning\\recommender.py\u001b[0m in \u001b[0;36mV_gradient\u001b[1;34m(self, movie_col, movie)\u001b[0m\n\u001b[0;32m     45\u001b[0m                 \u001b[0msumm\u001b[0m \u001b[1;33m=\u001b[0m \u001b[1;36m0\u001b[0m\u001b[1;33m\u001b[0m\u001b[0m\n\u001b[0;32m     46\u001b[0m                 \u001b[1;32mfor\u001b[0m \u001b[0mrow\u001b[0m \u001b[1;32min\u001b[0m \u001b[0mrange\u001b[0m\u001b[1;33m(\u001b[0m\u001b[0mself\u001b[0m\u001b[1;33m.\u001b[0m\u001b[0musers\u001b[0m\u001b[1;33m)\u001b[0m\u001b[1;33m:\u001b[0m\u001b[1;33m\u001b[0m\u001b[0m\n\u001b[1;32m---> 47\u001b[1;33m                         \u001b[0msumm\u001b[0m \u001b[1;33m+=\u001b[0m \u001b[0mself\u001b[0m\u001b[1;33m.\u001b[0m\u001b[0mgradient\u001b[0m\u001b[1;33m(\u001b[0m\u001b[0mrow\u001b[0m\u001b[1;33m,\u001b[0m\u001b[0mmovie_col\u001b[0m\u001b[1;33m,\u001b[0m\u001b[0mmovie\u001b[0m\u001b[1;33m)\u001b[0m\u001b[1;33m\u001b[0m\u001b[0m\n\u001b[0m\u001b[0;32m     48\u001b[0m                 \u001b[1;32mreturn\u001b[0m \u001b[0msumm\u001b[0m\u001b[1;33m/\u001b[0m\u001b[0mself\u001b[0m\u001b[1;33m.\u001b[0m\u001b[0musers\u001b[0m\u001b[1;33m\u001b[0m\u001b[0m\n\u001b[0;32m     49\u001b[0m \u001b[1;33m\u001b[0m\u001b[0m\n",
      "\u001b[1;32m~\\Documents\\PERSONAL\\MAESTRIA\\MachineLearning\\recommender.py\u001b[0m in \u001b[0;36mgradient\u001b[1;34m(self, user_row, movie_col, user, movie)\u001b[0m\n\u001b[0;32m     22\u001b[0m \u001b[1;33m\u001b[0m\u001b[0m\n\u001b[0;32m     23\u001b[0m                 \u001b[0mrating\u001b[0m \u001b[1;33m=\u001b[0m \u001b[0mfloat\u001b[0m\u001b[1;33m(\u001b[0m\u001b[0mself\u001b[0m\u001b[1;33m.\u001b[0m\u001b[0mdata\u001b[0m\u001b[1;33m[\u001b[0m\u001b[0muser_row\u001b[0m\u001b[1;33m,\u001b[0m\u001b[0mmovie_col\u001b[0m\u001b[1;33m]\u001b[0m\u001b[1;33m)\u001b[0m\u001b[1;33m\u001b[0m\u001b[0m\n\u001b[1;32m---> 24\u001b[1;33m                 \u001b[0mprediction\u001b[0m \u001b[1;33m=\u001b[0m \u001b[0mfloat\u001b[0m\u001b[1;33m(\u001b[0m\u001b[0mnp\u001b[0m\u001b[1;33m.\u001b[0m\u001b[0mdot\u001b[0m\u001b[1;33m(\u001b[0m\u001b[0mself\u001b[0m\u001b[1;33m.\u001b[0m\u001b[0mU\u001b[0m\u001b[1;33m[\u001b[0m\u001b[0muser_row\u001b[0m\u001b[1;33m,\u001b[0m\u001b[1;33m:\u001b[0m\u001b[1;33m]\u001b[0m\u001b[1;33m,\u001b[0m\u001b[0mself\u001b[0m\u001b[1;33m.\u001b[0m\u001b[0mV\u001b[0m\u001b[1;33m[\u001b[0m\u001b[1;33m:\u001b[0m\u001b[1;33m,\u001b[0m\u001b[0mmovie_col\u001b[0m\u001b[1;33m]\u001b[0m\u001b[1;33m)\u001b[0m\u001b[1;33m)\u001b[0m\u001b[1;33m\u001b[0m\u001b[0m\n\u001b[0m\u001b[0;32m     25\u001b[0m \u001b[1;33m\u001b[0m\u001b[0m\n\u001b[0;32m     26\u001b[0m                 \u001b[1;32mif\u001b[0m \u001b[0muser\u001b[0m \u001b[1;33m!=\u001b[0m \u001b[1;32mNone\u001b[0m\u001b[1;33m:\u001b[0m\u001b[1;33m\u001b[0m\u001b[0m\n",
      "\u001b[1;32m<__array_function__ internals>\u001b[0m in \u001b[0;36mdot\u001b[1;34m(*args, **kwargs)\u001b[0m\n",
      "\u001b[1;31mKeyboardInterrupt\u001b[0m: "
     ]
    }
   ],
   "source": [
    "## Best matrix with best k\n",
    "K = 9\n",
    "recomm = matrix_factorization(matrix,K)\n",
    "## Train the model, default iterations is 2\n",
    "learning_rate = 0.1\n",
    "recomm.fit(learning_rate,iterations=50)"
   ]
  },
  {
   "cell_type": "code",
   "execution_count": null,
   "metadata": {},
   "outputs": [],
   "source": [
    "## Plot MSE over iterations\n",
    "plt.figure(figsize=(11, 5))\n",
    "plt.plot(recomm.mse)\n",
    "plt.xlabel('Iterations')\n",
    "plt.ylabel('MSE')\n",
    "plt.title('MSE over iterations')\n",
    "plt.show()"
   ]
  },
  {
   "cell_type": "markdown",
   "metadata": {},
   "source": [
    "## Recommendation Matrix"
   ]
  },
  {
   "cell_type": "code",
   "execution_count": 47,
   "metadata": {},
   "outputs": [
    {
     "data": {
      "text/plain": [
       "array([[0.52553204, 0.9528629 , 0.58086421, ..., 0.94931199, 0.77878138,\n",
       "        0.22864905],\n",
       "       [0.77990353, 1.3264731 , 0.85175313, ..., 1.35680223, 1.27287758,\n",
       "        0.27552304],\n",
       "       [0.67833707, 1.36625231, 0.76573283, ..., 1.30626679, 0.82290934,\n",
       "        0.39442043],\n",
       "       ...,\n",
       "       [0.88713424, 1.59512594, 0.97897184, ..., 1.59456589, 1.33251869,\n",
       "        0.37623658],\n",
       "       [0.854068  , 1.54239924, 0.94327096, ..., 1.53912574, 1.27385372,\n",
       "        0.36711339],\n",
       "       [0.71764187, 1.23666024, 0.78564007, ..., 1.25803246, 1.14975358,\n",
       "        0.26524021]])"
      ]
     },
     "execution_count": 47,
     "metadata": {},
     "output_type": "execute_result"
    }
   ],
   "source": [
    "## Get the Predicted matrix\n",
    "recomm.matrix"
   ]
  },
  {
   "cell_type": "markdown",
   "metadata": {},
   "source": [
    "## Geting recomendations"
   ]
  },
  {
   "cell_type": "code",
   "execution_count": 48,
   "metadata": {},
   "outputs": [
    {
     "data": {
      "text/plain": [
       "movieId\n",
       "150    4.5\n",
       "Name: 300, dtype: float64"
      ]
     },
     "execution_count": 48,
     "metadata": {},
     "output_type": "execute_result"
    }
   ],
   "source": [
    "## User ratings\n",
    "user = 300\n",
    "movieId = 150\n",
    "ratings.loc[(user, [movieId])]"
   ]
  },
  {
   "cell_type": "code",
   "execution_count": 49,
   "metadata": {},
   "outputs": [
    {
     "data": {
      "text/html": [
       "<div>\n",
       "<style scoped>\n",
       "    .dataframe tbody tr th:only-of-type {\n",
       "        vertical-align: middle;\n",
       "    }\n",
       "\n",
       "    .dataframe tbody tr th {\n",
       "        vertical-align: top;\n",
       "    }\n",
       "\n",
       "    .dataframe thead th {\n",
       "        text-align: right;\n",
       "    }\n",
       "</style>\n",
       "<table border=\"1\" class=\"dataframe\">\n",
       "  <thead>\n",
       "    <tr style=\"text-align: right;\">\n",
       "      <th></th>\n",
       "      <th>movieId</th>\n",
       "      <th>recommend</th>\n",
       "      <th>genres</th>\n",
       "      <th>original_language</th>\n",
       "      <th>release_date</th>\n",
       "      <th>title</th>\n",
       "      <th>count</th>\n",
       "    </tr>\n",
       "  </thead>\n",
       "  <tbody>\n",
       "    <tr>\n",
       "      <th>0</th>\n",
       "      <td>4612</td>\n",
       "      <td>**</td>\n",
       "      <td>[Action]</td>\n",
       "      <td>en</td>\n",
       "      <td>2003-01-01</td>\n",
       "      <td>Absolon</td>\n",
       "      <td>1</td>\n",
       "    </tr>\n",
       "  </tbody>\n",
       "</table>\n",
       "</div>"
      ],
      "text/plain": [
       "   movieId recommend    genres original_language release_date    title  count\n",
       "0     4612        **  [Action]                en   2003-01-01  Absolon      1"
      ]
     },
     "execution_count": 49,
     "metadata": {},
     "output_type": "execute_result"
    }
   ],
   "source": [
    "## Recommended movies by top rating\n",
    "recomm.top_recommends(user, movies_data)"
   ]
  },
  {
   "cell_type": "markdown",
   "metadata": {},
   "source": [
    "### References\n",
    "\n",
    "- [Sistemas de recomendación. Marmol Yahya, Juan Salvador](https://github.com/salvadormarmol/machine-learning-ms-2020/blob/master/no_supervisado/sistemas_de_recomendacion/Aprendizaje%20de%20m%C3%A1quina%20-%20Sistemas%20de%20recomendaci%C3%B3n.pdf)\n",
    "- [Collaborative Filtering. Brusilovsky, Peter](https://pitt.edu/~peterb/2480-122/CollaborativeFiltering.pdf)\n",
    "- [Matrix Factorization. Google developers](https://developers.google.com/machine-learning/recommendation/collaborative/matrix)\n",
    "- [Python: Implementing Matrix Factorization from Scratch!. Moore, Jacob](https://towardsdatascience.com/recommender-systems-in-python-from-scratch-643c8fc4f704)"
   ]
  },
  {
   "cell_type": "code",
   "execution_count": null,
   "metadata": {},
   "outputs": [],
   "source": []
  }
 ],
 "metadata": {
  "kernelspec": {
   "display_name": "Python 3",
   "language": "python",
   "name": "python3"
  },
  "language_info": {
   "codemirror_mode": {
    "name": "ipython",
    "version": 3
   },
   "file_extension": ".py",
   "mimetype": "text/x-python",
   "name": "python",
   "nbconvert_exporter": "python",
   "pygments_lexer": "ipython3",
   "version": "3.6.5"
  }
 },
 "nbformat": 4,
 "nbformat_minor": 4
}
